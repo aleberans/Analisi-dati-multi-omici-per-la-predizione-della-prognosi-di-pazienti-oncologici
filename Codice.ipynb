{
 "cells": [
  {
   "cell_type": "code",
   "execution_count": 35,
   "id": "a9a87904",
   "metadata": {},
   "outputs": [],
   "source": [
    "import pandas as pd\n",
    "from sklearn.preprocessing import MinMaxScaler\n",
    "import mrmr\n",
    "from pymrmr import mRMR\n",
    "import matplotlib.pyplot as plt\n",
    "from sklearn.model_selection import StratifiedKFold\n",
    "from mrmr import mrmr_classif\n",
    "from sklearn.ensemble import RandomForestClassifier\n",
    "from sklearn.model_selection import GridSearchCV\n",
    "import numpy as np\n",
    "import os.path\n",
    "import json\n",
    "from sklearn.metrics import auc, plot_precision_recall_curve\n",
    "from sklearn.metrics import average_precision_score, precision_recall_curve\n",
    "import pymrmr\n",
    "from scipy.stats import kruskal, mannwhitneyu\n",
    "from boruta import BorutaPy"
   ]
  },
  {
   "cell_type": "markdown",
   "id": "fcd46eab",
   "metadata": {},
   "source": [
    "# Import data"
   ]
  },
  {
   "cell_type": "code",
   "execution_count": 2,
   "id": "9a3102b3",
   "metadata": {},
   "outputs": [
    {
     "data": {
      "text/html": [
       "<div>\n",
       "<style scoped>\n",
       "    .dataframe tbody tr th:only-of-type {\n",
       "        vertical-align: middle;\n",
       "    }\n",
       "\n",
       "    .dataframe tbody tr th {\n",
       "        vertical-align: top;\n",
       "    }\n",
       "\n",
       "    .dataframe thead th {\n",
       "        text-align: right;\n",
       "    }\n",
       "</style>\n",
       "<table border=\"1\" class=\"dataframe\">\n",
       "  <thead>\n",
       "    <tr style=\"text-align: right;\">\n",
       "      <th></th>\n",
       "      <th>ACAP3</th>\n",
       "      <th>ACTRT2</th>\n",
       "      <th>AGRN</th>\n",
       "      <th>ANKRD65</th>\n",
       "      <th>ATAD3A</th>\n",
       "      <th>ATAD3B</th>\n",
       "      <th>ATAD3C</th>\n",
       "      <th>AURKAIP1</th>\n",
       "      <th>B3GALT6</th>\n",
       "      <th>C1orf159</th>\n",
       "      <th>...</th>\n",
       "      <th>SMIM9</th>\n",
       "      <th>SNORA36A</th>\n",
       "      <th>SNORA56</th>\n",
       "      <th>TMLHE</th>\n",
       "      <th>VBP1</th>\n",
       "      <th>IL9R|ENSG00000124334.12</th>\n",
       "      <th>SPRY3|ENSG00000168939.6</th>\n",
       "      <th>VAMP7|ENSG00000124333.10</th>\n",
       "      <th>WASH6P|ENSG00000182484.10</th>\n",
       "      <th>WASIR1|ENSG00000185203.7</th>\n",
       "    </tr>\n",
       "  </thead>\n",
       "  <tbody>\n",
       "    <tr>\n",
       "      <th>TCGA-3C-AALI</th>\n",
       "      <td>-1</td>\n",
       "      <td>-1</td>\n",
       "      <td>-1</td>\n",
       "      <td>-1</td>\n",
       "      <td>-1</td>\n",
       "      <td>-1</td>\n",
       "      <td>-1</td>\n",
       "      <td>-1</td>\n",
       "      <td>-1</td>\n",
       "      <td>-1</td>\n",
       "      <td>...</td>\n",
       "      <td>-1</td>\n",
       "      <td>-1</td>\n",
       "      <td>-1</td>\n",
       "      <td>-1</td>\n",
       "      <td>-1</td>\n",
       "      <td>-1</td>\n",
       "      <td>-1</td>\n",
       "      <td>-1</td>\n",
       "      <td>-1</td>\n",
       "      <td>-1</td>\n",
       "    </tr>\n",
       "    <tr>\n",
       "      <th>TCGA-3C-AALK</th>\n",
       "      <td>0</td>\n",
       "      <td>0</td>\n",
       "      <td>0</td>\n",
       "      <td>0</td>\n",
       "      <td>0</td>\n",
       "      <td>0</td>\n",
       "      <td>0</td>\n",
       "      <td>0</td>\n",
       "      <td>0</td>\n",
       "      <td>0</td>\n",
       "      <td>...</td>\n",
       "      <td>0</td>\n",
       "      <td>0</td>\n",
       "      <td>0</td>\n",
       "      <td>0</td>\n",
       "      <td>0</td>\n",
       "      <td>0</td>\n",
       "      <td>0</td>\n",
       "      <td>0</td>\n",
       "      <td>0</td>\n",
       "      <td>0</td>\n",
       "    </tr>\n",
       "    <tr>\n",
       "      <th>TCGA-4H-AAAK</th>\n",
       "      <td>0</td>\n",
       "      <td>0</td>\n",
       "      <td>0</td>\n",
       "      <td>0</td>\n",
       "      <td>0</td>\n",
       "      <td>0</td>\n",
       "      <td>0</td>\n",
       "      <td>0</td>\n",
       "      <td>0</td>\n",
       "      <td>0</td>\n",
       "      <td>...</td>\n",
       "      <td>0</td>\n",
       "      <td>0</td>\n",
       "      <td>0</td>\n",
       "      <td>0</td>\n",
       "      <td>0</td>\n",
       "      <td>0</td>\n",
       "      <td>0</td>\n",
       "      <td>0</td>\n",
       "      <td>0</td>\n",
       "      <td>0</td>\n",
       "    </tr>\n",
       "    <tr>\n",
       "      <th>TCGA-5L-AAT1</th>\n",
       "      <td>0</td>\n",
       "      <td>0</td>\n",
       "      <td>0</td>\n",
       "      <td>0</td>\n",
       "      <td>0</td>\n",
       "      <td>0</td>\n",
       "      <td>0</td>\n",
       "      <td>0</td>\n",
       "      <td>0</td>\n",
       "      <td>0</td>\n",
       "      <td>...</td>\n",
       "      <td>0</td>\n",
       "      <td>0</td>\n",
       "      <td>0</td>\n",
       "      <td>0</td>\n",
       "      <td>0</td>\n",
       "      <td>0</td>\n",
       "      <td>0</td>\n",
       "      <td>0</td>\n",
       "      <td>0</td>\n",
       "      <td>0</td>\n",
       "    </tr>\n",
       "    <tr>\n",
       "      <th>TCGA-5T-A9QA</th>\n",
       "      <td>-1</td>\n",
       "      <td>-1</td>\n",
       "      <td>-1</td>\n",
       "      <td>-1</td>\n",
       "      <td>-1</td>\n",
       "      <td>-1</td>\n",
       "      <td>-1</td>\n",
       "      <td>-1</td>\n",
       "      <td>-1</td>\n",
       "      <td>-1</td>\n",
       "      <td>...</td>\n",
       "      <td>0</td>\n",
       "      <td>0</td>\n",
       "      <td>0</td>\n",
       "      <td>0</td>\n",
       "      <td>0</td>\n",
       "      <td>0</td>\n",
       "      <td>0</td>\n",
       "      <td>0</td>\n",
       "      <td>0</td>\n",
       "      <td>0</td>\n",
       "    </tr>\n",
       "  </tbody>\n",
       "</table>\n",
       "<p>5 rows × 24776 columns</p>\n",
       "</div>"
      ],
      "text/plain": [
       "              ACAP3  ACTRT2  AGRN  ANKRD65  ATAD3A  ATAD3B  ATAD3C  AURKAIP1  \\\n",
       "TCGA-3C-AALI     -1      -1    -1       -1      -1      -1      -1        -1   \n",
       "TCGA-3C-AALK      0       0     0        0       0       0       0         0   \n",
       "TCGA-4H-AAAK      0       0     0        0       0       0       0         0   \n",
       "TCGA-5L-AAT1      0       0     0        0       0       0       0         0   \n",
       "TCGA-5T-A9QA     -1      -1    -1       -1      -1      -1      -1        -1   \n",
       "\n",
       "              B3GALT6  C1orf159  ...  SMIM9  SNORA36A  SNORA56  TMLHE  VBP1  \\\n",
       "TCGA-3C-AALI       -1        -1  ...     -1        -1       -1     -1    -1   \n",
       "TCGA-3C-AALK        0         0  ...      0         0        0      0     0   \n",
       "TCGA-4H-AAAK        0         0  ...      0         0        0      0     0   \n",
       "TCGA-5L-AAT1        0         0  ...      0         0        0      0     0   \n",
       "TCGA-5T-A9QA       -1        -1  ...      0         0        0      0     0   \n",
       "\n",
       "              IL9R|ENSG00000124334.12  SPRY3|ENSG00000168939.6  \\\n",
       "TCGA-3C-AALI                       -1                       -1   \n",
       "TCGA-3C-AALK                        0                        0   \n",
       "TCGA-4H-AAAK                        0                        0   \n",
       "TCGA-5L-AAT1                        0                        0   \n",
       "TCGA-5T-A9QA                        0                        0   \n",
       "\n",
       "              VAMP7|ENSG00000124333.10  WASH6P|ENSG00000182484.10  \\\n",
       "TCGA-3C-AALI                        -1                         -1   \n",
       "TCGA-3C-AALK                         0                          0   \n",
       "TCGA-4H-AAAK                         0                          0   \n",
       "TCGA-5L-AAT1                         0                          0   \n",
       "TCGA-5T-A9QA                         0                          0   \n",
       "\n",
       "              WASIR1|ENSG00000185203.7  \n",
       "TCGA-3C-AALI                        -1  \n",
       "TCGA-3C-AALK                         0  \n",
       "TCGA-4H-AAAK                         0  \n",
       "TCGA-5L-AAT1                         0  \n",
       "TCGA-5T-A9QA                         0  \n",
       "\n",
       "[5 rows x 24776 columns]"
      ]
     },
     "execution_count": 2,
     "metadata": {},
     "output_type": "execute_result"
    }
   ],
   "source": [
    "# import data from csv \n",
    "cnv = pd.read_csv('dataset_hg19/dataset/cnv.csv', sep=' ')\n",
    "\n",
    "cnv.head()"
   ]
  },
  {
   "cell_type": "code",
   "execution_count": 3,
   "id": "03c327fc",
   "metadata": {},
   "outputs": [
    {
     "data": {
      "text/html": [
       "<div>\n",
       "<style scoped>\n",
       "    .dataframe tbody tr th:only-of-type {\n",
       "        vertical-align: middle;\n",
       "    }\n",
       "\n",
       "    .dataframe tbody tr th {\n",
       "        vertical-align: top;\n",
       "    }\n",
       "\n",
       "    .dataframe thead th {\n",
       "        text-align: right;\n",
       "    }\n",
       "</style>\n",
       "<table border=\"1\" class=\"dataframe\">\n",
       "  <thead>\n",
       "    <tr style=\"text-align: right;\">\n",
       "      <th></th>\n",
       "      <th>hsa-let-7a-1</th>\n",
       "      <th>hsa-let-7a-2</th>\n",
       "      <th>hsa-let-7a-3</th>\n",
       "      <th>hsa-let-7b</th>\n",
       "      <th>hsa-let-7c</th>\n",
       "      <th>hsa-let-7d</th>\n",
       "      <th>hsa-let-7e</th>\n",
       "      <th>hsa-let-7f-1</th>\n",
       "      <th>hsa-let-7f-2</th>\n",
       "      <th>hsa-let-7g</th>\n",
       "      <th>...</th>\n",
       "      <th>hsa-mir-941-3</th>\n",
       "      <th>hsa-mir-941-4</th>\n",
       "      <th>hsa-mir-942</th>\n",
       "      <th>hsa-mir-943</th>\n",
       "      <th>hsa-mir-944</th>\n",
       "      <th>hsa-mir-95</th>\n",
       "      <th>hsa-mir-96</th>\n",
       "      <th>hsa-mir-98</th>\n",
       "      <th>hsa-mir-99a</th>\n",
       "      <th>hsa-mir-99b</th>\n",
       "    </tr>\n",
       "  </thead>\n",
       "  <tbody>\n",
       "    <tr>\n",
       "      <th>TCGA-3C-AALI</th>\n",
       "      <td>49201</td>\n",
       "      <td>98691</td>\n",
       "      <td>49035</td>\n",
       "      <td>148591</td>\n",
       "      <td>5095</td>\n",
       "      <td>3263</td>\n",
       "      <td>3566</td>\n",
       "      <td>133</td>\n",
       "      <td>41683</td>\n",
       "      <td>2231</td>\n",
       "      <td>...</td>\n",
       "      <td>0</td>\n",
       "      <td>0</td>\n",
       "      <td>52</td>\n",
       "      <td>0</td>\n",
       "      <td>4</td>\n",
       "      <td>8</td>\n",
       "      <td>383</td>\n",
       "      <td>547</td>\n",
       "      <td>1503</td>\n",
       "      <td>80378</td>\n",
       "    </tr>\n",
       "    <tr>\n",
       "      <th>TCGA-3C-AALK</th>\n",
       "      <td>57278</td>\n",
       "      <td>114320</td>\n",
       "      <td>57540</td>\n",
       "      <td>164553</td>\n",
       "      <td>18464</td>\n",
       "      <td>2114</td>\n",
       "      <td>8364</td>\n",
       "      <td>113</td>\n",
       "      <td>40723</td>\n",
       "      <td>2245</td>\n",
       "      <td>...</td>\n",
       "      <td>0</td>\n",
       "      <td>0</td>\n",
       "      <td>22</td>\n",
       "      <td>0</td>\n",
       "      <td>22</td>\n",
       "      <td>11</td>\n",
       "      <td>459</td>\n",
       "      <td>263</td>\n",
       "      <td>6620</td>\n",
       "      <td>152218</td>\n",
       "    </tr>\n",
       "    <tr>\n",
       "      <th>TCGA-4H-AAAK</th>\n",
       "      <td>67196</td>\n",
       "      <td>134563</td>\n",
       "      <td>67607</td>\n",
       "      <td>136918</td>\n",
       "      <td>20429</td>\n",
       "      <td>2162</td>\n",
       "      <td>10556</td>\n",
       "      <td>139</td>\n",
       "      <td>50848</td>\n",
       "      <td>2056</td>\n",
       "      <td>...</td>\n",
       "      <td>0</td>\n",
       "      <td>0</td>\n",
       "      <td>13</td>\n",
       "      <td>0</td>\n",
       "      <td>7</td>\n",
       "      <td>5</td>\n",
       "      <td>123</td>\n",
       "      <td>212</td>\n",
       "      <td>6666</td>\n",
       "      <td>158568</td>\n",
       "    </tr>\n",
       "    <tr>\n",
       "      <th>TCGA-5L-AAT1</th>\n",
       "      <td>94243</td>\n",
       "      <td>188921</td>\n",
       "      <td>94346</td>\n",
       "      <td>211457</td>\n",
       "      <td>21076</td>\n",
       "      <td>2657</td>\n",
       "      <td>12104</td>\n",
       "      <td>272</td>\n",
       "      <td>94610</td>\n",
       "      <td>3903</td>\n",
       "      <td>...</td>\n",
       "      <td>0</td>\n",
       "      <td>0</td>\n",
       "      <td>23</td>\n",
       "      <td>0</td>\n",
       "      <td>12</td>\n",
       "      <td>11</td>\n",
       "      <td>235</td>\n",
       "      <td>529</td>\n",
       "      <td>5352</td>\n",
       "      <td>196557</td>\n",
       "    </tr>\n",
       "    <tr>\n",
       "      <th>TCGA-5T-A9QA</th>\n",
       "      <td>49313</td>\n",
       "      <td>97721</td>\n",
       "      <td>49623</td>\n",
       "      <td>127544</td>\n",
       "      <td>2134</td>\n",
       "      <td>1769</td>\n",
       "      <td>8190</td>\n",
       "      <td>104</td>\n",
       "      <td>28306</td>\n",
       "      <td>2792</td>\n",
       "      <td>...</td>\n",
       "      <td>0</td>\n",
       "      <td>0</td>\n",
       "      <td>72</td>\n",
       "      <td>0</td>\n",
       "      <td>3</td>\n",
       "      <td>23</td>\n",
       "      <td>186</td>\n",
       "      <td>146</td>\n",
       "      <td>445</td>\n",
       "      <td>127728</td>\n",
       "    </tr>\n",
       "  </tbody>\n",
       "</table>\n",
       "<p>5 rows × 1046 columns</p>\n",
       "</div>"
      ],
      "text/plain": [
       "              hsa-let-7a-1  hsa-let-7a-2  hsa-let-7a-3  hsa-let-7b  \\\n",
       "TCGA-3C-AALI         49201         98691         49035      148591   \n",
       "TCGA-3C-AALK         57278        114320         57540      164553   \n",
       "TCGA-4H-AAAK         67196        134563         67607      136918   \n",
       "TCGA-5L-AAT1         94243        188921         94346      211457   \n",
       "TCGA-5T-A9QA         49313         97721         49623      127544   \n",
       "\n",
       "              hsa-let-7c  hsa-let-7d  hsa-let-7e  hsa-let-7f-1  hsa-let-7f-2  \\\n",
       "TCGA-3C-AALI        5095        3263        3566           133         41683   \n",
       "TCGA-3C-AALK       18464        2114        8364           113         40723   \n",
       "TCGA-4H-AAAK       20429        2162       10556           139         50848   \n",
       "TCGA-5L-AAT1       21076        2657       12104           272         94610   \n",
       "TCGA-5T-A9QA        2134        1769        8190           104         28306   \n",
       "\n",
       "              hsa-let-7g  ...  hsa-mir-941-3  hsa-mir-941-4  hsa-mir-942  \\\n",
       "TCGA-3C-AALI        2231  ...              0              0           52   \n",
       "TCGA-3C-AALK        2245  ...              0              0           22   \n",
       "TCGA-4H-AAAK        2056  ...              0              0           13   \n",
       "TCGA-5L-AAT1        3903  ...              0              0           23   \n",
       "TCGA-5T-A9QA        2792  ...              0              0           72   \n",
       "\n",
       "              hsa-mir-943  hsa-mir-944  hsa-mir-95  hsa-mir-96  hsa-mir-98  \\\n",
       "TCGA-3C-AALI            0            4           8         383         547   \n",
       "TCGA-3C-AALK            0           22          11         459         263   \n",
       "TCGA-4H-AAAK            0            7           5         123         212   \n",
       "TCGA-5L-AAT1            0           12          11         235         529   \n",
       "TCGA-5T-A9QA            0            3          23         186         146   \n",
       "\n",
       "              hsa-mir-99a  hsa-mir-99b  \n",
       "TCGA-3C-AALI         1503        80378  \n",
       "TCGA-3C-AALK         6620       152218  \n",
       "TCGA-4H-AAAK         6666       158568  \n",
       "TCGA-5L-AAT1         5352       196557  \n",
       "TCGA-5T-A9QA          445       127728  \n",
       "\n",
       "[5 rows x 1046 columns]"
      ]
     },
     "execution_count": 3,
     "metadata": {},
     "output_type": "execute_result"
    }
   ],
   "source": [
    "miRNA = pd.read_csv('dataset_hg19/dataset/mirna.csv', sep=' ')\n",
    "\n",
    "miRNA.head()"
   ]
  },
  {
   "cell_type": "code",
   "execution_count": 4,
   "id": "f1f3bfbe",
   "metadata": {},
   "outputs": [
    {
     "data": {
      "text/html": [
       "<div>\n",
       "<style scoped>\n",
       "    .dataframe tbody tr th:only-of-type {\n",
       "        vertical-align: middle;\n",
       "    }\n",
       "\n",
       "    .dataframe tbody tr th {\n",
       "        vertical-align: top;\n",
       "    }\n",
       "\n",
       "    .dataframe thead th {\n",
       "        text-align: right;\n",
       "    }\n",
       "</style>\n",
       "<table border=\"1\" class=\"dataframe\">\n",
       "  <thead>\n",
       "    <tr style=\"text-align: right;\">\n",
       "      <th></th>\n",
       "      <th>A1BG</th>\n",
       "      <th>A1CF</th>\n",
       "      <th>A2BP1</th>\n",
       "      <th>A2LD1</th>\n",
       "      <th>A2ML1</th>\n",
       "      <th>A2M</th>\n",
       "      <th>A4GALT</th>\n",
       "      <th>A4GNT</th>\n",
       "      <th>AAA1</th>\n",
       "      <th>AAAS</th>\n",
       "      <th>...</th>\n",
       "      <th>ZXDA</th>\n",
       "      <th>ZXDB</th>\n",
       "      <th>ZXDC</th>\n",
       "      <th>ZYG11A</th>\n",
       "      <th>ZYG11B</th>\n",
       "      <th>ZYX</th>\n",
       "      <th>ZZEF1</th>\n",
       "      <th>ZZZ3</th>\n",
       "      <th>psiTPTE22</th>\n",
       "      <th>tAKR</th>\n",
       "    </tr>\n",
       "  </thead>\n",
       "  <tbody>\n",
       "    <tr>\n",
       "      <th>TCGA-3C-AALI</th>\n",
       "      <td>436.55</td>\n",
       "      <td>0</td>\n",
       "      <td>0</td>\n",
       "      <td>130.32</td>\n",
       "      <td>8</td>\n",
       "      <td>13924.87</td>\n",
       "      <td>290</td>\n",
       "      <td>1</td>\n",
       "      <td>0</td>\n",
       "      <td>1633</td>\n",
       "      <td>...</td>\n",
       "      <td>110</td>\n",
       "      <td>825</td>\n",
       "      <td>2470</td>\n",
       "      <td>365</td>\n",
       "      <td>1110</td>\n",
       "      <td>10123</td>\n",
       "      <td>2425</td>\n",
       "      <td>748</td>\n",
       "      <td>1704</td>\n",
       "      <td>0</td>\n",
       "    </tr>\n",
       "    <tr>\n",
       "      <th>TCGA-3C-AALK</th>\n",
       "      <td>461.69</td>\n",
       "      <td>0</td>\n",
       "      <td>0</td>\n",
       "      <td>151.08</td>\n",
       "      <td>4</td>\n",
       "      <td>26490.85</td>\n",
       "      <td>1224</td>\n",
       "      <td>0</td>\n",
       "      <td>0</td>\n",
       "      <td>1878</td>\n",
       "      <td>...</td>\n",
       "      <td>133</td>\n",
       "      <td>1058</td>\n",
       "      <td>2088</td>\n",
       "      <td>424</td>\n",
       "      <td>1468</td>\n",
       "      <td>13756</td>\n",
       "      <td>1888</td>\n",
       "      <td>1694</td>\n",
       "      <td>161</td>\n",
       "      <td>0</td>\n",
       "    </tr>\n",
       "    <tr>\n",
       "      <th>TCGA-4H-AAAK</th>\n",
       "      <td>631.87</td>\n",
       "      <td>1</td>\n",
       "      <td>9</td>\n",
       "      <td>362.77</td>\n",
       "      <td>8</td>\n",
       "      <td>22525.79</td>\n",
       "      <td>804</td>\n",
       "      <td>1</td>\n",
       "      <td>1</td>\n",
       "      <td>1925</td>\n",
       "      <td>...</td>\n",
       "      <td>115</td>\n",
       "      <td>997</td>\n",
       "      <td>2467</td>\n",
       "      <td>33</td>\n",
       "      <td>1823</td>\n",
       "      <td>9498</td>\n",
       "      <td>1955</td>\n",
       "      <td>2072</td>\n",
       "      <td>440</td>\n",
       "      <td>0</td>\n",
       "    </tr>\n",
       "    <tr>\n",
       "      <th>TCGA-5L-AAT1</th>\n",
       "      <td>259.26</td>\n",
       "      <td>0</td>\n",
       "      <td>0</td>\n",
       "      <td>125.12</td>\n",
       "      <td>5</td>\n",
       "      <td>18903.93</td>\n",
       "      <td>323</td>\n",
       "      <td>1</td>\n",
       "      <td>0</td>\n",
       "      <td>971</td>\n",
       "      <td>...</td>\n",
       "      <td>55</td>\n",
       "      <td>697</td>\n",
       "      <td>1213</td>\n",
       "      <td>66</td>\n",
       "      <td>630</td>\n",
       "      <td>5421</td>\n",
       "      <td>1732</td>\n",
       "      <td>698</td>\n",
       "      <td>71</td>\n",
       "      <td>0</td>\n",
       "    </tr>\n",
       "    <tr>\n",
       "      <th>TCGA-5T-A9QA</th>\n",
       "      <td>600.72</td>\n",
       "      <td>1</td>\n",
       "      <td>1</td>\n",
       "      <td>446.68</td>\n",
       "      <td>0</td>\n",
       "      <td>6084.91</td>\n",
       "      <td>787</td>\n",
       "      <td>7</td>\n",
       "      <td>0</td>\n",
       "      <td>1670</td>\n",
       "      <td>...</td>\n",
       "      <td>55</td>\n",
       "      <td>547</td>\n",
       "      <td>1548</td>\n",
       "      <td>4</td>\n",
       "      <td>615</td>\n",
       "      <td>6160</td>\n",
       "      <td>2132</td>\n",
       "      <td>843</td>\n",
       "      <td>7</td>\n",
       "      <td>0</td>\n",
       "    </tr>\n",
       "  </tbody>\n",
       "</table>\n",
       "<p>5 rows × 20501 columns</p>\n",
       "</div>"
      ],
      "text/plain": [
       "                A1BG  A1CF  A2BP1   A2LD1  A2ML1       A2M  A4GALT  A4GNT  \\\n",
       "TCGA-3C-AALI  436.55     0      0  130.32      8  13924.87     290      1   \n",
       "TCGA-3C-AALK  461.69     0      0  151.08      4  26490.85    1224      0   \n",
       "TCGA-4H-AAAK  631.87     1      9  362.77      8  22525.79     804      1   \n",
       "TCGA-5L-AAT1  259.26     0      0  125.12      5  18903.93     323      1   \n",
       "TCGA-5T-A9QA  600.72     1      1  446.68      0   6084.91     787      7   \n",
       "\n",
       "              AAA1  AAAS  ...  ZXDA  ZXDB  ZXDC  ZYG11A  ZYG11B    ZYX  ZZEF1  \\\n",
       "TCGA-3C-AALI     0  1633  ...   110   825  2470     365    1110  10123   2425   \n",
       "TCGA-3C-AALK     0  1878  ...   133  1058  2088     424    1468  13756   1888   \n",
       "TCGA-4H-AAAK     1  1925  ...   115   997  2467      33    1823   9498   1955   \n",
       "TCGA-5L-AAT1     0   971  ...    55   697  1213      66     630   5421   1732   \n",
       "TCGA-5T-A9QA     0  1670  ...    55   547  1548       4     615   6160   2132   \n",
       "\n",
       "              ZZZ3  psiTPTE22  tAKR  \n",
       "TCGA-3C-AALI   748       1704     0  \n",
       "TCGA-3C-AALK  1694        161     0  \n",
       "TCGA-4H-AAAK  2072        440     0  \n",
       "TCGA-5L-AAT1   698         71     0  \n",
       "TCGA-5T-A9QA   843          7     0  \n",
       "\n",
       "[5 rows x 20501 columns]"
      ]
     },
     "execution_count": 4,
     "metadata": {},
     "output_type": "execute_result"
    }
   ],
   "source": [
    "mRNA = pd.read_csv('dataset_hg19/dataset/mrna.csv', sep=' ')\n",
    "\n",
    "mRNA.head()"
   ]
  },
  {
   "cell_type": "code",
   "execution_count": 5,
   "id": "06a16faf",
   "metadata": {},
   "outputs": [
    {
     "data": {
      "text/html": [
       "<div>\n",
       "<style scoped>\n",
       "    .dataframe tbody tr th:only-of-type {\n",
       "        vertical-align: middle;\n",
       "    }\n",
       "\n",
       "    .dataframe tbody tr th {\n",
       "        vertical-align: top;\n",
       "    }\n",
       "\n",
       "    .dataframe thead th {\n",
       "        text-align: right;\n",
       "    }\n",
       "</style>\n",
       "<table border=\"1\" class=\"dataframe\">\n",
       "  <thead>\n",
       "    <tr style=\"text-align: right;\">\n",
       "      <th></th>\n",
       "      <th>14-3-3_beta</th>\n",
       "      <th>14-3-3_epsilon</th>\n",
       "      <th>14-3-3_zeta</th>\n",
       "      <th>4E-BP1</th>\n",
       "      <th>4E-BP1_pS65</th>\n",
       "      <th>4E-BP1_pT37_T46</th>\n",
       "      <th>4E-BP1_pT70</th>\n",
       "      <th>53BP1</th>\n",
       "      <th>A-Raf</th>\n",
       "      <th>A-Raf_pS299</th>\n",
       "      <th>...</th>\n",
       "      <th>p27_pT157</th>\n",
       "      <th>p27_pT198</th>\n",
       "      <th>p38_MAPK</th>\n",
       "      <th>p38_pT180_Y182</th>\n",
       "      <th>p53</th>\n",
       "      <th>p62-LCK-ligand</th>\n",
       "      <th>p70S6K</th>\n",
       "      <th>p70S6K_pT389</th>\n",
       "      <th>p90RSK</th>\n",
       "      <th>p90RSK_pT359_S363</th>\n",
       "    </tr>\n",
       "  </thead>\n",
       "  <tbody>\n",
       "    <tr>\n",
       "      <th>TCGA-3C-AALI</th>\n",
       "      <td>-0.000752</td>\n",
       "      <td>0.022553</td>\n",
       "      <td>0.021112</td>\n",
       "      <td>0.101796</td>\n",
       "      <td>-0.382850</td>\n",
       "      <td>-0.108997</td>\n",
       "      <td>0.103860</td>\n",
       "      <td>-0.335720</td>\n",
       "      <td>0.139450</td>\n",
       "      <td>0.148123</td>\n",
       "      <td>...</td>\n",
       "      <td>-0.076626</td>\n",
       "      <td>-0.231296</td>\n",
       "      <td>-0.169884</td>\n",
       "      <td>0.040360</td>\n",
       "      <td>-0.043975</td>\n",
       "      <td>1.293687</td>\n",
       "      <td>0.783984</td>\n",
       "      <td>0.162565</td>\n",
       "      <td>-0.667649</td>\n",
       "      <td>-0.102581</td>\n",
       "    </tr>\n",
       "    <tr>\n",
       "      <th>TCGA-3C-AALK</th>\n",
       "      <td>-0.202252</td>\n",
       "      <td>0.077041</td>\n",
       "      <td>0.153997</td>\n",
       "      <td>0.299107</td>\n",
       "      <td>-0.438903</td>\n",
       "      <td>-0.460678</td>\n",
       "      <td>-0.358195</td>\n",
       "      <td>0.474016</td>\n",
       "      <td>0.376476</td>\n",
       "      <td>-0.160318</td>\n",
       "      <td>...</td>\n",
       "      <td>-0.219547</td>\n",
       "      <td>-0.340080</td>\n",
       "      <td>0.208381</td>\n",
       "      <td>0.365363</td>\n",
       "      <td>-0.136875</td>\n",
       "      <td>0.680809</td>\n",
       "      <td>0.612644</td>\n",
       "      <td>-0.131174</td>\n",
       "      <td>0.419210</td>\n",
       "      <td>-0.118623</td>\n",
       "    </tr>\n",
       "    <tr>\n",
       "      <th>TCGA-4H-AAAK</th>\n",
       "      <td>-0.208434</td>\n",
       "      <td>0.062566</td>\n",
       "      <td>0.034209</td>\n",
       "      <td>0.429696</td>\n",
       "      <td>-0.102852</td>\n",
       "      <td>-0.499466</td>\n",
       "      <td>-0.433138</td>\n",
       "      <td>0.143794</td>\n",
       "      <td>0.339525</td>\n",
       "      <td>-0.221161</td>\n",
       "      <td>...</td>\n",
       "      <td>-0.070647</td>\n",
       "      <td>-0.471717</td>\n",
       "      <td>-0.052702</td>\n",
       "      <td>0.068514</td>\n",
       "      <td>-0.080364</td>\n",
       "      <td>0.300677</td>\n",
       "      <td>0.819253</td>\n",
       "      <td>-0.520017</td>\n",
       "      <td>0.003252</td>\n",
       "      <td>-0.855659</td>\n",
       "    </tr>\n",
       "    <tr>\n",
       "      <th>TCGA-5L-AAT1</th>\n",
       "      <td>-0.465476</td>\n",
       "      <td>0.141845</td>\n",
       "      <td>0.232721</td>\n",
       "      <td>0.427772</td>\n",
       "      <td>-0.231596</td>\n",
       "      <td>0.276124</td>\n",
       "      <td>-0.411702</td>\n",
       "      <td>0.736283</td>\n",
       "      <td>0.398665</td>\n",
       "      <td>-0.063979</td>\n",
       "      <td>...</td>\n",
       "      <td>-0.145362</td>\n",
       "      <td>-0.582255</td>\n",
       "      <td>0.346637</td>\n",
       "      <td>0.289421</td>\n",
       "      <td>-0.225658</td>\n",
       "      <td>0.591818</td>\n",
       "      <td>0.623455</td>\n",
       "      <td>-0.559783</td>\n",
       "      <td>0.510494</td>\n",
       "      <td>-0.601296</td>\n",
       "    </tr>\n",
       "    <tr>\n",
       "      <th>TCGA-5T-A9QA</th>\n",
       "      <td>-0.354823</td>\n",
       "      <td>0.156575</td>\n",
       "      <td>0.249023</td>\n",
       "      <td>1.197526</td>\n",
       "      <td>0.447913</td>\n",
       "      <td>1.001215</td>\n",
       "      <td>0.307314</td>\n",
       "      <td>0.581762</td>\n",
       "      <td>0.316779</td>\n",
       "      <td>-0.085146</td>\n",
       "      <td>...</td>\n",
       "      <td>0.076588</td>\n",
       "      <td>-0.325001</td>\n",
       "      <td>0.166015</td>\n",
       "      <td>-1.064492</td>\n",
       "      <td>0.181296</td>\n",
       "      <td>-0.226434</td>\n",
       "      <td>0.842169</td>\n",
       "      <td>0.280629</td>\n",
       "      <td>0.524148</td>\n",
       "      <td>-0.500144</td>\n",
       "    </tr>\n",
       "  </tbody>\n",
       "</table>\n",
       "<p>5 rows × 216 columns</p>\n",
       "</div>"
      ],
      "text/plain": [
       "              14-3-3_beta  14-3-3_epsilon  14-3-3_zeta    4E-BP1  4E-BP1_pS65  \\\n",
       "TCGA-3C-AALI    -0.000752        0.022553     0.021112  0.101796    -0.382850   \n",
       "TCGA-3C-AALK    -0.202252        0.077041     0.153997  0.299107    -0.438903   \n",
       "TCGA-4H-AAAK    -0.208434        0.062566     0.034209  0.429696    -0.102852   \n",
       "TCGA-5L-AAT1    -0.465476        0.141845     0.232721  0.427772    -0.231596   \n",
       "TCGA-5T-A9QA    -0.354823        0.156575     0.249023  1.197526     0.447913   \n",
       "\n",
       "              4E-BP1_pT37_T46  4E-BP1_pT70     53BP1     A-Raf  A-Raf_pS299  \\\n",
       "TCGA-3C-AALI        -0.108997     0.103860 -0.335720  0.139450     0.148123   \n",
       "TCGA-3C-AALK        -0.460678    -0.358195  0.474016  0.376476    -0.160318   \n",
       "TCGA-4H-AAAK        -0.499466    -0.433138  0.143794  0.339525    -0.221161   \n",
       "TCGA-5L-AAT1         0.276124    -0.411702  0.736283  0.398665    -0.063979   \n",
       "TCGA-5T-A9QA         1.001215     0.307314  0.581762  0.316779    -0.085146   \n",
       "\n",
       "              ...  p27_pT157  p27_pT198  p38_MAPK  p38_pT180_Y182       p53  \\\n",
       "TCGA-3C-AALI  ...  -0.076626  -0.231296 -0.169884        0.040360 -0.043975   \n",
       "TCGA-3C-AALK  ...  -0.219547  -0.340080  0.208381        0.365363 -0.136875   \n",
       "TCGA-4H-AAAK  ...  -0.070647  -0.471717 -0.052702        0.068514 -0.080364   \n",
       "TCGA-5L-AAT1  ...  -0.145362  -0.582255  0.346637        0.289421 -0.225658   \n",
       "TCGA-5T-A9QA  ...   0.076588  -0.325001  0.166015       -1.064492  0.181296   \n",
       "\n",
       "              p62-LCK-ligand    p70S6K  p70S6K_pT389    p90RSK  \\\n",
       "TCGA-3C-AALI        1.293687  0.783984      0.162565 -0.667649   \n",
       "TCGA-3C-AALK        0.680809  0.612644     -0.131174  0.419210   \n",
       "TCGA-4H-AAAK        0.300677  0.819253     -0.520017  0.003252   \n",
       "TCGA-5L-AAT1        0.591818  0.623455     -0.559783  0.510494   \n",
       "TCGA-5T-A9QA       -0.226434  0.842169      0.280629  0.524148   \n",
       "\n",
       "              p90RSK_pT359_S363  \n",
       "TCGA-3C-AALI          -0.102581  \n",
       "TCGA-3C-AALK          -0.118623  \n",
       "TCGA-4H-AAAK          -0.855659  \n",
       "TCGA-5L-AAT1          -0.601296  \n",
       "TCGA-5T-A9QA          -0.500144  \n",
       "\n",
       "[5 rows x 216 columns]"
      ]
     },
     "execution_count": 5,
     "metadata": {},
     "output_type": "execute_result"
    }
   ],
   "source": [
    "proteins = pd.read_csv('dataset_hg19/dataset/proteins.csv', sep=' ')\n",
    "\n",
    "proteins.head()"
   ]
  },
  {
   "cell_type": "markdown",
   "id": "45a17a80",
   "metadata": {},
   "source": [
    "# Import label"
   ]
  },
  {
   "cell_type": "code",
   "execution_count": 6,
   "id": "df21b35d",
   "metadata": {},
   "outputs": [
    {
     "data": {
      "image/png": "[encoded data removed]",
      "text/plain": [
       "<Figure size 432x288 with 1 Axes>"
      ]
     },
     "metadata": {
      "needs_background": "light"
     },
     "output_type": "display_data"
    }
   ],
   "source": [
    "label = pd.read_csv('dataset_hg19/dataset/labels_pfi.csv', sep=' ')\n",
    "\n",
    "label.hist()\n",
    "plt.show()"
   ]
  },
  {
   "cell_type": "markdown",
   "id": "e274c61c",
   "metadata": {},
   "source": [
    "# Check NaN values"
   ]
  },
  {
   "cell_type": "code",
   "execution_count": 7,
   "id": "51c1a851",
   "metadata": {},
   "outputs": [],
   "source": [
    "def checkNaNValues(dataset):\n",
    "    if dataset.isna().sum().sum() == 0:\n",
    "        print(f\"Non sono presenti dati NaN\")\n",
    "    else:\n",
    "        for column in dataset:\n",
    "            if dataset[column].isna().sum() == 0:\n",
    "                print(f\"Nella colonna {column} non sono presenti dati NaN\")\n",
    "            else:\n",
    "                print(f\"Nella colonna {column} sono presenti: {dataset[column].isna().sum()}\")"
   ]
  },
  {
   "cell_type": "code",
   "execution_count": 8,
   "id": "4337086d",
   "metadata": {},
   "outputs": [
    {
     "name": "stdout",
     "output_type": "stream",
     "text": [
      "Non sono presenti dati NaN\n"
     ]
    }
   ],
   "source": [
    "checkNaNValues(cnv)"
   ]
  },
  {
   "cell_type": "code",
   "execution_count": 9,
   "id": "73a22285",
   "metadata": {},
   "outputs": [
    {
     "name": "stdout",
     "output_type": "stream",
     "text": [
      "Non sono presenti dati NaN\n"
     ]
    }
   ],
   "source": [
    "checkNaNValues(mRNA)"
   ]
  },
  {
   "cell_type": "code",
   "execution_count": 10,
   "id": "67da8113",
   "metadata": {},
   "outputs": [
    {
     "name": "stdout",
     "output_type": "stream",
     "text": [
      "Non sono presenti dati NaN\n"
     ]
    }
   ],
   "source": [
    "checkNaNValues(miRNA)"
   ]
  },
  {
   "cell_type": "code",
   "execution_count": 11,
   "id": "95894c0d",
   "metadata": {},
   "outputs": [
    {
     "name": "stdout",
     "output_type": "stream",
     "text": [
      "Non sono presenti dati NaN\n"
     ]
    }
   ],
   "source": [
    "checkNaNValues(proteins)"
   ]
  },
  {
   "cell_type": "markdown",
   "id": "c8f2c29f",
   "metadata": {},
   "source": [
    "# Normalize data"
   ]
  },
  {
   "cell_type": "code",
   "execution_count": 12,
   "id": "291600a4",
   "metadata": {},
   "outputs": [],
   "source": [
    "def dataNormalization(scaler, data):\n",
    "    scl = scaler()\n",
    "    model = scl.fit(data)\n",
    "    scaled_data = model.transform(data)\n",
    "    \n",
    "    return pd.DataFrame(scaled_data, columns=data.columns, index=data.index)"
   ]
  },
  {
   "cell_type": "markdown",
   "id": "24a6043f",
   "metadata": {},
   "source": [
    "# Filter feature with low variability"
   ]
  },
  {
   "cell_type": "code",
   "execution_count": 13,
   "id": "97407b1d",
   "metadata": {},
   "outputs": [],
   "source": [
    "def filter_features_with_low_variability(data, alfa) -> pd.DataFrame:\n",
    "    #Delete columns with standard deviation < alfa (0.10?)\n",
    "    for column in data:\n",
    "        if data[column].std() < alfa:\n",
    "            #print(f'column: {column} has standard deviation < {alfa}, removed')\n",
    "            data.drop(column, axis=1, inplace=True)\n",
    "            \n",
    "    return data"
   ]
  },
  {
   "cell_type": "markdown",
   "id": "70d52afc",
   "metadata": {},
   "source": [
    "# Normalize and filter datasets"
   ]
  },
  {
   "cell_type": "code",
   "execution_count": 16,
   "id": "30bf1785",
   "metadata": {},
   "outputs": [],
   "source": [
    "dataset_dict = {'cnv': cnv, 'miRNA': miRNA, 'mRNA': mRNA, 'proteins': proteins}"
   ]
  },
  {
   "cell_type": "code",
   "execution_count": 19,
   "id": "5d465cd8",
   "metadata": {},
   "outputs": [],
   "source": [
    "def create_data_normalized_filtered(data_dict, scaler, min_variance):\n",
    "    dict_filtered_nornalize = {}\n",
    "    for (key, value) in zip(data_dict, data_dict.values()):\n",
    "        dict_filtered_nornalize[key] = filter_features_with_low_variability(dataNormalization(MinMaxScaler, value), 0.05)\n",
    "    \n",
    "    return dict_filtered_nornalize"
   ]
  },
  {
   "cell_type": "code",
   "execution_count": 20,
   "id": "6874b286",
   "metadata": {},
   "outputs": [],
   "source": [
    "filtered_normalize_data = create_data_normalized_filtered(dataset_dict, MinMaxScaler, 0.05)"
   ]
  },
  {
   "cell_type": "code",
   "execution_count": 21,
   "id": "be4a12f4",
   "metadata": {},
   "outputs": [],
   "source": [
    "#TO DO: su ogni dataset, genero i vari holdout e sui dati di training faccio\n",
    "#feature selection e traino usando RandomForest\n",
    "#usando 10 multiple holdout \n",
    "#misura di performance AUPRC, auc interne e poi media fuori \n",
    "\n",
    "#Feature seletion using multivariate (mrmr, maximum relevant minimum redundancy e boruta)\n",
    "#mrmr piu' e' basso piu' la feature non ci interessa, piu' e' alto piu e' informativa"
   ]
  },
  {
   "cell_type": "code",
   "execution_count": 22,
   "id": "6ce64f6e",
   "metadata": {},
   "outputs": [],
   "source": [
    "#UMAP "
   ]
  },
  {
   "cell_type": "code",
   "execution_count": 23,
   "id": "11eabc23",
   "metadata": {},
   "outputs": [
    {
     "data": {
      "text/plain": [
       "x    0.081429\n",
       "dtype: float64"
      ]
     },
     "execution_count": 23,
     "metadata": {},
     "output_type": "execute_result"
    }
   ],
   "source": [
    "#baseline AUPRC\n",
    "len(label)/label[label['x'] == 1].count()/100"
   ]
  },
  {
   "cell_type": "markdown",
   "id": "3842747b",
   "metadata": {},
   "source": [
    "# Univariate feature selection using Kruskal-Wallis e Mann-Whitney"
   ]
  },
  {
   "cell_type": "code",
   "execution_count": 24,
   "id": "5fa82652",
   "metadata": {},
   "outputs": [],
   "source": [
    "def create_dataframe_pos_neg(dataset, label):\n",
    "    return (dataset[label['x']==1], dataset[label['x']==0])"
   ]
  },
  {
   "cell_type": "code",
   "execution_count": 25,
   "id": "e8a6601e",
   "metadata": {},
   "outputs": [],
   "source": [
    "def univariate_features_selection(dataset, label, univariate_tecnique, min_pValue):\n",
    "    pos, neg = create_dataframe_pos_neg(dataset, label)\n",
    "    H, pval = univariate_tecnique(pos, neg)\n",
    "    mask = (pval < min_pValue)\n",
    "    return dataset.columns[mask]"
   ]
  },
  {
   "cell_type": "code",
   "execution_count": 26,
   "id": "c17ff935",
   "metadata": {},
   "outputs": [
    {
     "data": {
      "text/plain": [
       "Index(['A-Raf', 'Akt_pS473', 'Bcl-2', 'FASN', 'GSK3_pS9', 'Jak2', 'Ku80',\n",
       "       'PRAS40_pT246', 'PREX1', 'Raptor', 'Shc_pY317', 'XRCC1', 'mTOR', 'p27',\n",
       "       'p38_pT180_Y182'],\n",
       "      dtype='object')"
      ]
     },
     "execution_count": 26,
     "metadata": {},
     "output_type": "execute_result"
    }
   ],
   "source": [
    "univariate_features_selection(filtered_normalize_data['proteins'], label, mannwhitneyu, 0.05)"
   ]
  },
  {
   "cell_type": "code",
   "execution_count": 27,
   "id": "b6261e37",
   "metadata": {},
   "outputs": [
    {
     "data": {
      "text/plain": [
       "Index(['A-Raf', 'Akt_pS473', 'Bcl-2', 'FASN', 'GSK3_pS9', 'Jak2', 'Ku80',\n",
       "       'PRAS40_pT246', 'PREX1', 'Raptor', 'Shc_pY317', 'XRCC1', 'mTOR', 'p27',\n",
       "       'p38_pT180_Y182'],\n",
       "      dtype='object')"
      ]
     },
     "execution_count": 27,
     "metadata": {},
     "output_type": "execute_result"
    }
   ],
   "source": [
    "univariate_features_selection(filtered_normalize_data['proteins'], label, kruskal, 0.05)"
   ]
  },
  {
   "cell_type": "markdown",
   "id": "118fee41",
   "metadata": {},
   "source": [
    "# Multivariate feature selection, mrmr and Boruta"
   ]
  },
  {
   "cell_type": "code",
   "execution_count": 29,
   "id": "f00975df",
   "metadata": {},
   "outputs": [
    {
     "data": {
      "text/html": [
       "<div>\n",
       "<style scoped>\n",
       "    .dataframe tbody tr th:only-of-type {\n",
       "        vertical-align: middle;\n",
       "    }\n",
       "\n",
       "    .dataframe tbody tr th {\n",
       "        vertical-align: top;\n",
       "    }\n",
       "\n",
       "    .dataframe thead th {\n",
       "        text-align: right;\n",
       "    }\n",
       "</style>\n",
       "<table border=\"1\" class=\"dataframe\">\n",
       "  <thead>\n",
       "    <tr style=\"text-align: right;\">\n",
       "      <th></th>\n",
       "      <th>PKC-pan_BetaII_pS660</th>\n",
       "      <th>PKC-delta_pS664</th>\n",
       "      <th>PRDX1</th>\n",
       "      <th>PRAS40_pT246</th>\n",
       "      <th>PR</th>\n",
       "      <th>Paxillin</th>\n",
       "      <th>Rab11</th>\n",
       "      <th>PKC-alpha</th>\n",
       "      <th>PI3K-p85</th>\n",
       "      <th>PEA15_pS116</th>\n",
       "      <th>...</th>\n",
       "      <th>IRF-1</th>\n",
       "      <th>cIAP</th>\n",
       "      <th>mTOR</th>\n",
       "      <th>eIF4G</th>\n",
       "      <th>p16_INK4a</th>\n",
       "      <th>c-Kit</th>\n",
       "      <th>mTOR_pS2448</th>\n",
       "      <th>c-Abl</th>\n",
       "      <th>p62-LCK-ligand</th>\n",
       "      <th>p90RSK</th>\n",
       "    </tr>\n",
       "  </thead>\n",
       "  <tbody>\n",
       "    <tr>\n",
       "      <th>TCGA-3C-AALI</th>\n",
       "      <td>0.515140</td>\n",
       "      <td>0.732106</td>\n",
       "      <td>0.391717</td>\n",
       "      <td>0.617066</td>\n",
       "      <td>0.256991</td>\n",
       "      <td>0.926132</td>\n",
       "      <td>0.174880</td>\n",
       "      <td>0.169500</td>\n",
       "      <td>0.516393</td>\n",
       "      <td>0.205165</td>\n",
       "      <td>...</td>\n",
       "      <td>0.613319</td>\n",
       "      <td>0.604198</td>\n",
       "      <td>0.492546</td>\n",
       "      <td>0.752241</td>\n",
       "      <td>0.637904</td>\n",
       "      <td>0.225889</td>\n",
       "      <td>0.532247</td>\n",
       "      <td>0.508302</td>\n",
       "      <td>0.692510</td>\n",
       "      <td>0.231455</td>\n",
       "    </tr>\n",
       "    <tr>\n",
       "      <th>TCGA-3C-AALK</th>\n",
       "      <td>0.691956</td>\n",
       "      <td>0.697933</td>\n",
       "      <td>0.360341</td>\n",
       "      <td>0.495525</td>\n",
       "      <td>0.277583</td>\n",
       "      <td>0.721347</td>\n",
       "      <td>0.249617</td>\n",
       "      <td>0.500436</td>\n",
       "      <td>0.658059</td>\n",
       "      <td>0.145040</td>\n",
       "      <td>...</td>\n",
       "      <td>0.415123</td>\n",
       "      <td>0.695428</td>\n",
       "      <td>0.719286</td>\n",
       "      <td>0.773698</td>\n",
       "      <td>0.283953</td>\n",
       "      <td>0.343444</td>\n",
       "      <td>0.540128</td>\n",
       "      <td>0.551835</td>\n",
       "      <td>0.584796</td>\n",
       "      <td>0.608802</td>\n",
       "    </tr>\n",
       "    <tr>\n",
       "      <th>TCGA-4H-AAAK</th>\n",
       "      <td>0.692800</td>\n",
       "      <td>0.779736</td>\n",
       "      <td>0.313282</td>\n",
       "      <td>0.477525</td>\n",
       "      <td>0.275116</td>\n",
       "      <td>0.617550</td>\n",
       "      <td>0.088785</td>\n",
       "      <td>0.469991</td>\n",
       "      <td>0.485678</td>\n",
       "      <td>0.287031</td>\n",
       "      <td>...</td>\n",
       "      <td>0.545054</td>\n",
       "      <td>0.753813</td>\n",
       "      <td>0.726308</td>\n",
       "      <td>0.784195</td>\n",
       "      <td>0.446430</td>\n",
       "      <td>0.268753</td>\n",
       "      <td>0.570756</td>\n",
       "      <td>0.491512</td>\n",
       "      <td>0.517987</td>\n",
       "      <td>0.464385</td>\n",
       "    </tr>\n",
       "    <tr>\n",
       "      <th>TCGA-5L-AAT1</th>\n",
       "      <td>0.757739</td>\n",
       "      <td>0.744627</td>\n",
       "      <td>0.551637</td>\n",
       "      <td>0.619577</td>\n",
       "      <td>0.218207</td>\n",
       "      <td>0.669378</td>\n",
       "      <td>0.142310</td>\n",
       "      <td>0.401992</td>\n",
       "      <td>0.716260</td>\n",
       "      <td>0.180346</td>\n",
       "      <td>...</td>\n",
       "      <td>0.405369</td>\n",
       "      <td>0.583381</td>\n",
       "      <td>0.696904</td>\n",
       "      <td>0.740010</td>\n",
       "      <td>0.423125</td>\n",
       "      <td>0.214726</td>\n",
       "      <td>0.618668</td>\n",
       "      <td>0.415589</td>\n",
       "      <td>0.569156</td>\n",
       "      <td>0.640495</td>\n",
       "    </tr>\n",
       "    <tr>\n",
       "      <th>TCGA-5T-A9QA</th>\n",
       "      <td>0.599957</td>\n",
       "      <td>0.768653</td>\n",
       "      <td>0.275160</td>\n",
       "      <td>0.436008</td>\n",
       "      <td>0.255933</td>\n",
       "      <td>0.714973</td>\n",
       "      <td>0.179793</td>\n",
       "      <td>0.117931</td>\n",
       "      <td>0.378841</td>\n",
       "      <td>0.273460</td>\n",
       "      <td>...</td>\n",
       "      <td>0.473570</td>\n",
       "      <td>0.740902</td>\n",
       "      <td>0.732141</td>\n",
       "      <td>0.904467</td>\n",
       "      <td>0.320431</td>\n",
       "      <td>0.200455</td>\n",
       "      <td>0.619638</td>\n",
       "      <td>0.454653</td>\n",
       "      <td>0.425347</td>\n",
       "      <td>0.645235</td>\n",
       "    </tr>\n",
       "    <tr>\n",
       "      <th>...</th>\n",
       "      <td>...</td>\n",
       "      <td>...</td>\n",
       "      <td>...</td>\n",
       "      <td>...</td>\n",
       "      <td>...</td>\n",
       "      <td>...</td>\n",
       "      <td>...</td>\n",
       "      <td>...</td>\n",
       "      <td>...</td>\n",
       "      <td>...</td>\n",
       "      <td>...</td>\n",
       "      <td>...</td>\n",
       "      <td>...</td>\n",
       "      <td>...</td>\n",
       "      <td>...</td>\n",
       "      <td>...</td>\n",
       "      <td>...</td>\n",
       "      <td>...</td>\n",
       "      <td>...</td>\n",
       "      <td>...</td>\n",
       "      <td>...</td>\n",
       "    </tr>\n",
       "    <tr>\n",
       "      <th>TCGA-W8-A86G</th>\n",
       "      <td>0.507599</td>\n",
       "      <td>0.721415</td>\n",
       "      <td>0.567832</td>\n",
       "      <td>0.598971</td>\n",
       "      <td>0.284322</td>\n",
       "      <td>0.576803</td>\n",
       "      <td>0.715212</td>\n",
       "      <td>0.394448</td>\n",
       "      <td>0.000000</td>\n",
       "      <td>0.405961</td>\n",
       "      <td>...</td>\n",
       "      <td>0.767082</td>\n",
       "      <td>0.517077</td>\n",
       "      <td>0.292064</td>\n",
       "      <td>0.704424</td>\n",
       "      <td>0.952372</td>\n",
       "      <td>0.205247</td>\n",
       "      <td>0.556632</td>\n",
       "      <td>0.510256</td>\n",
       "      <td>0.646125</td>\n",
       "      <td>0.377118</td>\n",
       "    </tr>\n",
       "    <tr>\n",
       "      <th>TCGA-WT-AB41</th>\n",
       "      <td>0.819088</td>\n",
       "      <td>0.745874</td>\n",
       "      <td>0.488325</td>\n",
       "      <td>0.358247</td>\n",
       "      <td>0.225250</td>\n",
       "      <td>0.632682</td>\n",
       "      <td>0.188637</td>\n",
       "      <td>0.209467</td>\n",
       "      <td>0.749976</td>\n",
       "      <td>0.192409</td>\n",
       "      <td>...</td>\n",
       "      <td>0.558555</td>\n",
       "      <td>0.751296</td>\n",
       "      <td>0.786068</td>\n",
       "      <td>0.936196</td>\n",
       "      <td>0.434249</td>\n",
       "      <td>0.199404</td>\n",
       "      <td>0.636403</td>\n",
       "      <td>0.558366</td>\n",
       "      <td>0.589030</td>\n",
       "      <td>0.460639</td>\n",
       "    </tr>\n",
       "    <tr>\n",
       "      <th>TCGA-XX-A899</th>\n",
       "      <td>0.678188</td>\n",
       "      <td>0.738743</td>\n",
       "      <td>0.516766</td>\n",
       "      <td>0.425565</td>\n",
       "      <td>0.257439</td>\n",
       "      <td>0.642049</td>\n",
       "      <td>0.138916</td>\n",
       "      <td>0.374299</td>\n",
       "      <td>0.618923</td>\n",
       "      <td>0.238305</td>\n",
       "      <td>...</td>\n",
       "      <td>0.377076</td>\n",
       "      <td>0.724473</td>\n",
       "      <td>0.653618</td>\n",
       "      <td>0.842133</td>\n",
       "      <td>0.459133</td>\n",
       "      <td>0.192443</td>\n",
       "      <td>0.616971</td>\n",
       "      <td>0.535462</td>\n",
       "      <td>0.604636</td>\n",
       "      <td>0.663534</td>\n",
       "    </tr>\n",
       "    <tr>\n",
       "      <th>TCGA-Z7-A8R5</th>\n",
       "      <td>0.710838</td>\n",
       "      <td>0.668662</td>\n",
       "      <td>0.320834</td>\n",
       "      <td>0.453955</td>\n",
       "      <td>0.241871</td>\n",
       "      <td>0.721328</td>\n",
       "      <td>0.318521</td>\n",
       "      <td>0.263880</td>\n",
       "      <td>0.675085</td>\n",
       "      <td>0.227684</td>\n",
       "      <td>...</td>\n",
       "      <td>0.438963</td>\n",
       "      <td>0.754745</td>\n",
       "      <td>0.718558</td>\n",
       "      <td>0.672872</td>\n",
       "      <td>0.493214</td>\n",
       "      <td>0.255237</td>\n",
       "      <td>0.591668</td>\n",
       "      <td>0.663149</td>\n",
       "      <td>0.474557</td>\n",
       "      <td>0.652143</td>\n",
       "    </tr>\n",
       "    <tr>\n",
       "      <th>TCGA-Z7-A8R6</th>\n",
       "      <td>0.703306</td>\n",
       "      <td>0.775991</td>\n",
       "      <td>0.598535</td>\n",
       "      <td>0.576911</td>\n",
       "      <td>0.231056</td>\n",
       "      <td>0.716876</td>\n",
       "      <td>0.069316</td>\n",
       "      <td>0.287271</td>\n",
       "      <td>0.650121</td>\n",
       "      <td>0.290029</td>\n",
       "      <td>...</td>\n",
       "      <td>0.425912</td>\n",
       "      <td>0.580303</td>\n",
       "      <td>0.750879</td>\n",
       "      <td>0.892388</td>\n",
       "      <td>0.277184</td>\n",
       "      <td>0.187664</td>\n",
       "      <td>0.663278</td>\n",
       "      <td>0.557299</td>\n",
       "      <td>0.630132</td>\n",
       "      <td>0.471088</td>\n",
       "    </tr>\n",
       "  </tbody>\n",
       "</table>\n",
       "<p>627 rows × 50 columns</p>\n",
       "</div>"
      ],
      "text/plain": [
       "              PKC-pan_BetaII_pS660  PKC-delta_pS664     PRDX1  PRAS40_pT246  \\\n",
       "TCGA-3C-AALI              0.515140         0.732106  0.391717      0.617066   \n",
       "TCGA-3C-AALK              0.691956         0.697933  0.360341      0.495525   \n",
       "TCGA-4H-AAAK              0.692800         0.779736  0.313282      0.477525   \n",
       "TCGA-5L-AAT1              0.757739         0.744627  0.551637      0.619577   \n",
       "TCGA-5T-A9QA              0.599957         0.768653  0.275160      0.436008   \n",
       "...                            ...              ...       ...           ...   \n",
       "TCGA-W8-A86G              0.507599         0.721415  0.567832      0.598971   \n",
       "TCGA-WT-AB41              0.819088         0.745874  0.488325      0.358247   \n",
       "TCGA-XX-A899              0.678188         0.738743  0.516766      0.425565   \n",
       "TCGA-Z7-A8R5              0.710838         0.668662  0.320834      0.453955   \n",
       "TCGA-Z7-A8R6              0.703306         0.775991  0.598535      0.576911   \n",
       "\n",
       "                    PR  Paxillin     Rab11  PKC-alpha  PI3K-p85  PEA15_pS116  \\\n",
       "TCGA-3C-AALI  0.256991  0.926132  0.174880   0.169500  0.516393     0.205165   \n",
       "TCGA-3C-AALK  0.277583  0.721347  0.249617   0.500436  0.658059     0.145040   \n",
       "TCGA-4H-AAAK  0.275116  0.617550  0.088785   0.469991  0.485678     0.287031   \n",
       "TCGA-5L-AAT1  0.218207  0.669378  0.142310   0.401992  0.716260     0.180346   \n",
       "TCGA-5T-A9QA  0.255933  0.714973  0.179793   0.117931  0.378841     0.273460   \n",
       "...                ...       ...       ...        ...       ...          ...   \n",
       "TCGA-W8-A86G  0.284322  0.576803  0.715212   0.394448  0.000000     0.405961   \n",
       "TCGA-WT-AB41  0.225250  0.632682  0.188637   0.209467  0.749976     0.192409   \n",
       "TCGA-XX-A899  0.257439  0.642049  0.138916   0.374299  0.618923     0.238305   \n",
       "TCGA-Z7-A8R5  0.241871  0.721328  0.318521   0.263880  0.675085     0.227684   \n",
       "TCGA-Z7-A8R6  0.231056  0.716876  0.069316   0.287271  0.650121     0.290029   \n",
       "\n",
       "              ...     IRF-1      cIAP      mTOR     eIF4G  p16_INK4a  \\\n",
       "TCGA-3C-AALI  ...  0.613319  0.604198  0.492546  0.752241   0.637904   \n",
       "TCGA-3C-AALK  ...  0.415123  0.695428  0.719286  0.773698   0.283953   \n",
       "TCGA-4H-AAAK  ...  0.545054  0.753813  0.726308  0.784195   0.446430   \n",
       "TCGA-5L-AAT1  ...  0.405369  0.583381  0.696904  0.740010   0.423125   \n",
       "TCGA-5T-A9QA  ...  0.473570  0.740902  0.732141  0.904467   0.320431   \n",
       "...           ...       ...       ...       ...       ...        ...   \n",
       "TCGA-W8-A86G  ...  0.767082  0.517077  0.292064  0.704424   0.952372   \n",
       "TCGA-WT-AB41  ...  0.558555  0.751296  0.786068  0.936196   0.434249   \n",
       "TCGA-XX-A899  ...  0.377076  0.724473  0.653618  0.842133   0.459133   \n",
       "TCGA-Z7-A8R5  ...  0.438963  0.754745  0.718558  0.672872   0.493214   \n",
       "TCGA-Z7-A8R6  ...  0.425912  0.580303  0.750879  0.892388   0.277184   \n",
       "\n",
       "                 c-Kit  mTOR_pS2448     c-Abl  p62-LCK-ligand    p90RSK  \n",
       "TCGA-3C-AALI  0.225889     0.532247  0.508302        0.692510  0.231455  \n",
       "TCGA-3C-AALK  0.343444     0.540128  0.551835        0.584796  0.608802  \n",
       "TCGA-4H-AAAK  0.268753     0.570756  0.491512        0.517987  0.464385  \n",
       "TCGA-5L-AAT1  0.214726     0.618668  0.415589        0.569156  0.640495  \n",
       "TCGA-5T-A9QA  0.200455     0.619638  0.454653        0.425347  0.645235  \n",
       "...                ...          ...       ...             ...       ...  \n",
       "TCGA-W8-A86G  0.205247     0.556632  0.510256        0.646125  0.377118  \n",
       "TCGA-WT-AB41  0.199404     0.636403  0.558366        0.589030  0.460639  \n",
       "TCGA-XX-A899  0.192443     0.616971  0.535462        0.604636  0.663534  \n",
       "TCGA-Z7-A8R5  0.255237     0.591668  0.663149        0.474557  0.652143  \n",
       "TCGA-Z7-A8R6  0.187664     0.663278  0.557299        0.630132  0.471088  \n",
       "\n",
       "[627 rows x 50 columns]"
      ]
     },
     "execution_count": 29,
     "metadata": {},
     "output_type": "execute_result"
    }
   ],
   "source": [
    "def dataset_mrmr(dataset, n_feature):\n",
    "    return dataset[mRMR(dataset, 'MIQ', n_feature)]\n",
    "\n",
    "dataset_mrmr(filtered_normalize_data['proteins'], 50)"
   ]
  },
  {
   "cell_type": "code",
   "execution_count": 36,
   "id": "4b7944c1",
   "metadata": {},
   "outputs": [],
   "source": [
    "def execute_boruta_feature_selection(\n",
    "    X_train: pd.DataFrame,\n",
    "    y_train: np.ndarray,\n",
    "    holdout_number: int,\n",
    "    task_name: str,\n",
    "    max_iter: int = 100,\n",
    "    regression: bool = False,\n",
    "):\n",
    "    \"\"\"Returns tuple with list of kept features and list of discared features.\n",
    "    \n",
    "    Parameters\n",
    "    --------------------------\n",
    "    X_train: pd.DataFrame,\n",
    "        The data reserved for the input of the training of the Boruta model.\n",
    "    y_train: np.ndarray,\n",
    "        The data reserved for the output of the training of the Boruta model.\n",
    "    holdout_number: int,\n",
    "        The current holdout number.\n",
    "    regression: bool,\n",
    "        Whether the task is a binary classification one (False) or a regression one (True).\n",
    "    task_name: str,\n",
    "        The name of the task.\n",
    "    max_iter: int = 100,\n",
    "        Number of iterations to run Boruta for.\n",
    "    \"\"\"\n",
    "    if regression:\n",
    "        model = RandomForestRegressor(n_jobs=-1, max_depth=5)\n",
    "    else:\n",
    "        model = RandomForestClassifier(n_jobs=-1, class_weight='balanced_subsample', max_depth=5)\n",
    "    \n",
    "    boruta_selector = BorutaPy(\n",
    "        model,\n",
    "        n_estimators='auto',\n",
    "        verbose=False,\n",
    "        alpha=0.05,\n",
    "        max_iter=max_iter, \n",
    "        random_state=42,\n",
    "    )\n",
    "    boruta_selector.fit(X_train.values, y_train)\n",
    "    \n",
    "    kept_features = list(X_train.columns[boruta_selector.support_])\n",
    "    discarded_features = list(X_train.columns[~boruta_selector.support_])\n",
    "    \n",
    "    return kept_features, discarded_features"
   ]
  },
  {
   "cell_type": "code",
   "execution_count": 41,
   "id": "4bf87c36",
   "metadata": {},
   "outputs": [],
   "source": [
    "kept, discarded = execute_boruta_feature_selection(filtered_normalize_data['mRNA'], label, 3, 'prova')"
   ]
  },
  {
   "cell_type": "code",
   "execution_count": 42,
   "id": "fa331f77",
   "metadata": {},
   "outputs": [
    {
     "data": {
      "text/plain": [
       "['ANGPTL6', 'BCAS4', 'FLJ40330', 'FN3K', 'GP6', 'LOC284009', 'SRRM5', 'TTC36']"
      ]
     },
     "execution_count": 42,
     "metadata": {},
     "output_type": "execute_result"
    }
   ],
   "source": [
    "kept"
   ]
  },
  {
   "cell_type": "markdown",
   "id": "0b8a7eb3",
   "metadata": {},
   "source": [
    "# Train"
   ]
  },
  {
   "cell_type": "code",
   "execution_count": 173,
   "id": "afd31355",
   "metadata": {},
   "outputs": [],
   "source": [
    "def train_model(dataset, label, num_extenal_fold, scaler = None, minimum_variance=None):\n",
    "    \n",
    "    aucs =[]\n",
    "    \n",
    "    #to numpy\n",
    "    X_numpy = dataset.to_numpy()\n",
    "    y_numpy = label['x'].to_numpy()\n",
    "    \n",
    "    external_fold = StratifiedKFold(n_splits=num_extenal_fold, shuffle=True, random_state=1)\n",
    "    \n",
    "    for train_index, test_index in external_fold.split(filtered_dataset, label):\n",
    "        \n",
    "        X_train_fold, X_test_fold = X_numpy[train_index], X_numpy[test_index]\n",
    "        y_train_fold, y_test_fold = y_numpy[train_index], y_numpy[test_index]\n",
    "        \n",
    "        df_X_train = pd.DataFrame(data=X_train_fold, columns=dataset.columns)\n",
    "        df_X_test = pd.DataFrame(data=X_test_fold, columns=dataset.columns)\n",
    "        df_y_train = pd.DataFrame(data=y_train_fold, columns=label.columns)\n",
    "        \n",
    "        #feature selection\n",
    "        selected_features = univariate_features_selection(df_X_train, df_y_train, kruskal, 0.05)\n",
    "\n",
    "        X_train_selected_feature = df_X_train[selected_features]\n",
    "        X_test_selected_feature = df_X_test[selected_features]\n",
    "\n",
    "        #clf = GridSearchCV(estimator=RandomForestClassifier(),\n",
    "        #                   scoring=scoring,\n",
    "        #                   param_grid=model_selection_grid, \n",
    "        #                   cv=2, \n",
    "        #                   n_jobs=-1)\n",
    "        #clf.fit(X_train_selected_feature, y_train_fold)\n",
    "\n",
    "        #auc = clf.best_estimator_.score(X_test_selected_feature, y_test_fold)\n",
    "        #print('auc: {:.3f} using params {}:'.format(auc, clf.best_params_))\n",
    "        \n",
    "        # Create classifier using logistic regression\n",
    "        classifier = RandomForestClassifier(random_state=1)\n",
    "        classifier.fit(X_train_selected_feature, y_train_fold)\n",
    "        \n",
    "        # Get the predicited probability of testing data\n",
    "        y_score = classifier.predict_proba(X_test_selected_feature)[:, 1]\n",
    "        \n",
    "        # Data to plot precision - recall curve\n",
    "        precision, recall, thresholds = precision_recall_curve(y_test_fold, y_score)\n",
    "        # Use AUC function to calculate the area under the curve of precision recall curve\n",
    "        auc_precision_recall = auc(recall, precision)\n",
    "        \n",
    "        #print(auc_precision_recall)\n",
    "        \n",
    "        aucs.append(auc_precision_recall)\n",
    "    \n",
    "    return np.mean(aucs)"
   ]
  },
  {
   "cell_type": "code",
   "execution_count": 178,
   "id": "32f8a8e5",
   "metadata": {},
   "outputs": [
    {
     "data": {
      "text/plain": [
       "0.10430330938970704"
      ]
     },
     "execution_count": 178,
     "metadata": {},
     "output_type": "execute_result"
    }
   ],
   "source": [
    "train_model(filtered_normalize_data['cnv'], label, 2, scaler=MinMaxScaler, minimum_variance=0.05)"
   ]
  },
  {
   "cell_type": "code",
   "execution_count": 56,
   "id": "be7b0177",
   "metadata": {},
   "outputs": [
    {
     "name": "stderr",
     "output_type": "stream",
     "text": [
      "100%|██████████████████████████████████████████████| 10/10 [00:01<00:00,  8.03it/s]\n",
      "100%|██████████████████████████████████████████████| 10/10 [00:00<00:00, 10.90it/s]\n"
     ]
    },
    {
     "data": {
      "text/plain": [
       "0.11752768854692237"
      ]
     },
     "execution_count": 56,
     "metadata": {},
     "output_type": "execute_result"
    },
    {
     "data": {
      "image/png": "[encoded data removed]",
      "text/plain": [
       "<Figure size 432x288 with 1 Axes>"
      ]
     },
     "metadata": {
      "needs_background": "light"
     },
     "output_type": "display_data"
    },
    {
     "data": {
      "image/png": "[encoded data removed]",
      "text/plain": [
       "<Figure size 432x288 with 1 Axes>"
      ]
     },
     "metadata": {
      "needs_background": "light"
     },
     "output_type": "display_data"
    }
   ],
   "source": [
    "train_model(proteins, label, 2, 10,scaler=MinMaxScaler, minimumVariance=0.05)"
   ]
  },
  {
   "cell_type": "code",
   "execution_count": 18,
   "id": "12c0ac3b",
   "metadata": {},
   "outputs": [],
   "source": [
    "def trainAllDataset(listaDataset, \n",
    "                    label, \n",
    "                    num_extenal_fold, \n",
    "                    mrmrK, \n",
    "                    scaler, \n",
    "                    minimumVariance, \n",
    "                    model_selection_grid,\n",
    "                    scoring):\n",
    "    roc_aucList =[]\n",
    "    for dataset in listaDataset:\n",
    "        roc_aucList.append(train_model(dataset, label, num_extenal_fold, mrmrK, scaler, minimumVariance, \n",
    "                          model_selection_grid,\n",
    "                          scoring ))\n",
    "    return np.mean(roc_aucList)"
   ]
  },
  {
   "cell_type": "code",
   "execution_count": 18,
   "id": "cbf2fa0e",
   "metadata": {},
   "outputs": [],
   "source": [
    "model_selection_grid_DT = [\n",
    "    {},\n",
    "    #{'criterion': ['gini', 'entropy'],\n",
    "     #'max_leaf_nodes': [None, 2, 5, 10, 50, 100],\n",
    "      #                  'max_features': [None, 'sqrt', 'log2'],\n",
    "       #                 'max_depth': [None, 2, 5, 10]}\n",
    "]"
   ]
  },
  {
   "cell_type": "code",
   "execution_count": 56,
   "id": "e28aedc6",
   "metadata": {},
   "outputs": [],
   "source": [
    "def addResultJsonFile(result_dict, column_name, file_name, dataset, features_mrmr):\n",
    "    \n",
    "    if column_name not in result_dict:\n",
    "        if os.path.exists(file_name):\n",
    "            with open(file_name, 'r') as fp:\n",
    "                saved_dict = json.load(fp)\n",
    "                if column_name in saved_dict:\n",
    "                    result_dict[column_name] = saved_dict[column_name]\n",
    "                else:\n",
    "                    result_dict[column_name] = train_model(dataset,\n",
    "                                                           label, \n",
    "                                                            10, \n",
    "                                                            features_mrmr, \n",
    "                                                            MinMaxScaler, \n",
    "                                                            0.10, \n",
    "                                                            model_selection_grid_DT, \n",
    "                                                            'roc_auc')\n",
    "                    with open(file_name, 'w', encoding='utf-8') as fp:\n",
    "                        json.dump(result_dict, fp, ensure_ascii=False, indent=4)\n",
    "        else:\n",
    "            result_dict[column_name] = train_model(dataset,\n",
    "                                                           label, \n",
    "                                                            10, \n",
    "                                                            features_mrmr, \n",
    "                                                            MinMaxScaler, \n",
    "                                                            0.10, \n",
    "                                                            model_selection_grid_DT, \n",
    "                                                            'roc_auc')\n",
    "            with open(file_name, 'w', encoding='utf-8') as fp:\n",
    "                json.dump(result_dict, fp, ensure_ascii=False, indent=4)"
   ]
  },
  {
   "cell_type": "code",
   "execution_count": 74,
   "id": "0b1c23dd",
   "metadata": {},
   "outputs": [],
   "source": [
    "proteins_dict = {}\n",
    "cvn_dict = {}\n",
    "miRNA_dict = {}\n",
    "mRNA_dict = {}\n",
    "\n",
    "datasets_dict = [proteins_dict, cvn_dict, miRNA_dict, mRNA_dict]\n",
    "columns_name = ['1_feature', '5_feature']\n",
    "names_file = ['protein.json', 'cvn.json', 'miRNA.json', 'mRNA.json']\n",
    "dataset_list = [cnv, miRNA, mRNA, proteins]\n",
    "features_mrmr = [1,5]"
   ]
  },
  {
   "cell_type": "code",
   "execution_count": 77,
   "id": "0cdd0ab5",
   "metadata": {},
   "outputs": [],
   "source": [
    "def create_all_json(datasets_dict, columns_name, names_file, dataset_list, features_mrmr):\n",
    "    for (dataset_dict, name_file, dataset) in zip(datasets_dict, names_file, dataset_list):\n",
    "        print(f'start {dataset_dict}')\n",
    "        for (column_name, feature_mrmr) in zip(columns_name, features_mrmr):\n",
    "            print(f'start {column_name} using : {feature_mrmr} feature')\n",
    "            addResultJsonFile( dataset_dict, column_name, name_file, dataset, feature_mrmr)"
   ]
  },
  {
   "cell_type": "code",
   "execution_count": 78,
   "id": "f345ff74",
   "metadata": {},
   "outputs": [
    {
     "name": "stdout",
     "output_type": "stream",
     "text": [
      "start 1_feature using : 1 feature\n"
     ]
    },
    {
     "name": "stderr",
     "output_type": "stream",
     "text": [
      "100%|████████████████████████████████████████████████| 1/1 [00:00<00:00, 27.04it/s]\n"
     ]
    },
    {
     "name": "stdout",
     "output_type": "stream",
     "text": [
      "auc: 0.873 using params {}:\n"
     ]
    },
    {
     "name": "stderr",
     "output_type": "stream",
     "text": [
      "100%|████████████████████████████████████████████████| 1/1 [00:00<00:00, 25.58it/s]\n"
     ]
    },
    {
     "name": "stdout",
     "output_type": "stream",
     "text": [
      "auc: 0.873 using params {}:\n"
     ]
    },
    {
     "name": "stderr",
     "output_type": "stream",
     "text": [
      "100%|████████████████████████████████████████████████| 1/1 [00:00<00:00, 21.61it/s]\n"
     ]
    },
    {
     "name": "stdout",
     "output_type": "stream",
     "text": [
      "auc: 0.873 using params {}:\n"
     ]
    },
    {
     "name": "stderr",
     "output_type": "stream",
     "text": [
      "100%|████████████████████████████████████████████████| 1/1 [00:00<00:00, 24.03it/s]\n"
     ]
    },
    {
     "name": "stdout",
     "output_type": "stream",
     "text": [
      "auc: 0.873 using params {}:\n"
     ]
    },
    {
     "name": "stderr",
     "output_type": "stream",
     "text": [
      "100%|████████████████████████████████████████████████| 1/1 [00:00<00:00, 21.24it/s]\n"
     ]
    },
    {
     "name": "stdout",
     "output_type": "stream",
     "text": [
      "auc: 0.873 using params {}:\n"
     ]
    },
    {
     "name": "stderr",
     "output_type": "stream",
     "text": [
      "100%|████████████████████████████████████████████████| 1/1 [00:00<00:00, 22.19it/s]\n"
     ]
    },
    {
     "name": "stdout",
     "output_type": "stream",
     "text": [
      "auc: 0.873 using params {}:\n"
     ]
    },
    {
     "name": "stderr",
     "output_type": "stream",
     "text": [
      "100%|████████████████████████████████████████████████| 1/1 [00:00<00:00, 24.87it/s]\n"
     ]
    },
    {
     "name": "stdout",
     "output_type": "stream",
     "text": [
      "auc: 0.873 using params {}:\n"
     ]
    },
    {
     "name": "stderr",
     "output_type": "stream",
     "text": [
      "100%|████████████████████████████████████████████████| 1/1 [00:00<00:00, 24.03it/s]\n"
     ]
    },
    {
     "name": "stdout",
     "output_type": "stream",
     "text": [
      "auc: 0.887 using params {}:\n"
     ]
    },
    {
     "name": "stderr",
     "output_type": "stream",
     "text": [
      "100%|████████████████████████████████████████████████| 1/1 [00:00<00:00, 25.32it/s]\n"
     ]
    },
    {
     "name": "stdout",
     "output_type": "stream",
     "text": [
      "auc: 0.887 using params {}:\n"
     ]
    },
    {
     "name": "stderr",
     "output_type": "stream",
     "text": [
      "100%|████████████████████████████████████████████████| 1/1 [00:00<00:00, 26.49it/s]\n"
     ]
    },
    {
     "name": "stdout",
     "output_type": "stream",
     "text": [
      "auc: 0.871 using params {}:\n",
      "start 5_feature using : 5 feature\n"
     ]
    },
    {
     "name": "stderr",
     "output_type": "stream",
     "text": [
      "100%|████████████████████████████████████████████████| 5/5 [00:23<00:00,  4.65s/it]\n"
     ]
    },
    {
     "name": "stdout",
     "output_type": "stream",
     "text": [
      "auc: 0.857 using params {}:\n"
     ]
    },
    {
     "name": "stderr",
     "output_type": "stream",
     "text": [
      "100%|████████████████████████████████████████████████| 5/5 [00:23<00:00,  4.70s/it]\n"
     ]
    },
    {
     "name": "stdout",
     "output_type": "stream",
     "text": [
      "auc: 0.841 using params {}:\n"
     ]
    },
    {
     "name": "stderr",
     "output_type": "stream",
     "text": [
      "100%|████████████████████████████████████████████████| 5/5 [00:21<00:00,  4.40s/it]\n"
     ]
    },
    {
     "name": "stdout",
     "output_type": "stream",
     "text": [
      "auc: 0.825 using params {}:\n"
     ]
    },
    {
     "name": "stderr",
     "output_type": "stream",
     "text": [
      "100%|████████████████████████████████████████████████| 5/5 [00:21<00:00,  4.38s/it]\n"
     ]
    },
    {
     "name": "stdout",
     "output_type": "stream",
     "text": [
      "auc: 0.841 using params {}:\n"
     ]
    },
    {
     "name": "stderr",
     "output_type": "stream",
     "text": [
      "100%|████████████████████████████████████████████████| 5/5 [00:21<00:00,  4.31s/it]\n"
     ]
    },
    {
     "name": "stdout",
     "output_type": "stream",
     "text": [
      "auc: 0.810 using params {}:\n"
     ]
    },
    {
     "name": "stderr",
     "output_type": "stream",
     "text": [
      "100%|████████████████████████████████████████████████| 5/5 [00:21<00:00,  4.26s/it]\n"
     ]
    },
    {
     "name": "stdout",
     "output_type": "stream",
     "text": [
      "auc: 0.857 using params {}:\n"
     ]
    },
    {
     "name": "stderr",
     "output_type": "stream",
     "text": [
      "100%|████████████████████████████████████████████████| 5/5 [00:22<00:00,  4.41s/it]\n"
     ]
    },
    {
     "name": "stdout",
     "output_type": "stream",
     "text": [
      "auc: 0.889 using params {}:\n"
     ]
    },
    {
     "name": "stderr",
     "output_type": "stream",
     "text": [
      "100%|████████████████████████████████████████████████| 5/5 [00:23<00:00,  4.68s/it]\n"
     ]
    },
    {
     "name": "stdout",
     "output_type": "stream",
     "text": [
      "auc: 0.871 using params {}:\n"
     ]
    },
    {
     "name": "stderr",
     "output_type": "stream",
     "text": [
      "100%|████████████████████████████████████████████████| 5/5 [00:22<00:00,  4.52s/it]\n"
     ]
    },
    {
     "name": "stdout",
     "output_type": "stream",
     "text": [
      "auc: 0.855 using params {}:\n"
     ]
    },
    {
     "name": "stderr",
     "output_type": "stream",
     "text": [
      "100%|████████████████████████████████████████████████| 5/5 [00:24<00:00,  4.93s/it]\n"
     ]
    },
    {
     "name": "stdout",
     "output_type": "stream",
     "text": [
      "auc: 0.839 using params {}:\n",
      "start 1_feature using : 1 feature\n"
     ]
    },
    {
     "name": "stderr",
     "output_type": "stream",
     "text": [
      "100%|███████████████████████████████████████████████| 1/1 [00:00<00:00, 174.35it/s]\n"
     ]
    },
    {
     "name": "stdout",
     "output_type": "stream",
     "text": [
      "auc: 0.841 using params {}:\n"
     ]
    },
    {
     "name": "stderr",
     "output_type": "stream",
     "text": [
      "100%|███████████████████████████████████████████████| 1/1 [00:00<00:00, 145.19it/s]\n"
     ]
    },
    {
     "name": "stdout",
     "output_type": "stream",
     "text": [
      "auc: 0.857 using params {}:\n"
     ]
    },
    {
     "name": "stderr",
     "output_type": "stream",
     "text": [
      "100%|███████████████████████████████████████████████| 1/1 [00:00<00:00, 266.07it/s]\n"
     ]
    },
    {
     "name": "stdout",
     "output_type": "stream",
     "text": [
      "auc: 0.873 using params {}:\n"
     ]
    },
    {
     "name": "stderr",
     "output_type": "stream",
     "text": [
      "100%|███████████████████████████████████████████████| 1/1 [00:00<00:00, 204.57it/s]\n"
     ]
    },
    {
     "name": "stdout",
     "output_type": "stream",
     "text": [
      "auc: 0.873 using params {}:\n"
     ]
    },
    {
     "name": "stderr",
     "output_type": "stream",
     "text": [
      "100%|████████████████████████████████████████████████| 1/1 [00:00<00:00, 57.95it/s]\n"
     ]
    },
    {
     "name": "stdout",
     "output_type": "stream",
     "text": [
      "auc: 0.873 using params {}:\n"
     ]
    },
    {
     "name": "stderr",
     "output_type": "stream",
     "text": [
      "100%|███████████████████████████████████████████████| 1/1 [00:00<00:00, 207.99it/s]\n"
     ]
    },
    {
     "name": "stdout",
     "output_type": "stream",
     "text": [
      "auc: 0.762 using params {}:\n"
     ]
    },
    {
     "name": "stderr",
     "output_type": "stream",
     "text": [
      "100%|███████████████████████████████████████████████| 1/1 [00:00<00:00, 220.44it/s]\n"
     ]
    },
    {
     "name": "stdout",
     "output_type": "stream",
     "text": [
      "auc: 0.873 using params {}:\n"
     ]
    },
    {
     "name": "stderr",
     "output_type": "stream",
     "text": [
      "100%|███████████████████████████████████████████████| 1/1 [00:00<00:00, 222.91it/s]\n"
     ]
    },
    {
     "name": "stdout",
     "output_type": "stream",
     "text": [
      "auc: 0.887 using params {}:\n"
     ]
    },
    {
     "name": "stderr",
     "output_type": "stream",
     "text": [
      "100%|███████████████████████████████████████████████| 1/1 [00:00<00:00, 155.55it/s]\n"
     ]
    },
    {
     "name": "stdout",
     "output_type": "stream",
     "text": [
      "auc: 0.887 using params {}:\n"
     ]
    },
    {
     "name": "stderr",
     "output_type": "stream",
     "text": [
      "100%|███████████████████████████████████████████████| 1/1 [00:00<00:00, 221.66it/s]\n"
     ]
    },
    {
     "name": "stdout",
     "output_type": "stream",
     "text": [
      "auc: 0.887 using params {}:\n",
      "start 5_feature using : 5 feature\n"
     ]
    },
    {
     "name": "stderr",
     "output_type": "stream",
     "text": [
      "100%|████████████████████████████████████████████████| 5/5 [00:00<00:00,  5.72it/s]\n"
     ]
    },
    {
     "name": "stdout",
     "output_type": "stream",
     "text": [
      "auc: 0.857 using params {}:\n"
     ]
    },
    {
     "name": "stderr",
     "output_type": "stream",
     "text": [
      "100%|████████████████████████████████████████████████| 5/5 [00:00<00:00,  6.85it/s]\n"
     ]
    },
    {
     "name": "stdout",
     "output_type": "stream",
     "text": [
      "auc: 0.762 using params {}:\n"
     ]
    },
    {
     "name": "stderr",
     "output_type": "stream",
     "text": [
      "100%|████████████████████████████████████████████████| 5/5 [00:01<00:00,  4.60it/s]\n"
     ]
    },
    {
     "name": "stdout",
     "output_type": "stream",
     "text": [
      "auc: 0.857 using params {}:\n"
     ]
    },
    {
     "name": "stderr",
     "output_type": "stream",
     "text": [
      "100%|████████████████████████████████████████████████| 5/5 [00:01<00:00,  4.16it/s]\n"
     ]
    },
    {
     "name": "stdout",
     "output_type": "stream",
     "text": [
      "auc: 0.873 using params {}:\n"
     ]
    },
    {
     "name": "stderr",
     "output_type": "stream",
     "text": [
      "100%|████████████████████████████████████████████████| 5/5 [00:01<00:00,  4.28it/s]\n"
     ]
    },
    {
     "name": "stdout",
     "output_type": "stream",
     "text": [
      "auc: 0.857 using params {}:\n"
     ]
    },
    {
     "name": "stderr",
     "output_type": "stream",
     "text": [
      "100%|████████████████████████████████████████████████| 5/5 [00:01<00:00,  3.82it/s]\n"
     ]
    },
    {
     "name": "stdout",
     "output_type": "stream",
     "text": [
      "auc: 0.794 using params {}:\n"
     ]
    },
    {
     "name": "stderr",
     "output_type": "stream",
     "text": [
      "100%|████████████████████████████████████████████████| 5/5 [00:01<00:00,  4.68it/s]\n"
     ]
    },
    {
     "name": "stdout",
     "output_type": "stream",
     "text": [
      "auc: 0.778 using params {}:\n"
     ]
    },
    {
     "name": "stderr",
     "output_type": "stream",
     "text": [
      "100%|████████████████████████████████████████████████| 5/5 [00:00<00:00,  6.08it/s]\n"
     ]
    },
    {
     "name": "stdout",
     "output_type": "stream",
     "text": [
      "auc: 0.806 using params {}:\n"
     ]
    },
    {
     "name": "stderr",
     "output_type": "stream",
     "text": [
      "100%|████████████████████████████████████████████████| 5/5 [00:00<00:00,  5.44it/s]\n"
     ]
    },
    {
     "name": "stdout",
     "output_type": "stream",
     "text": [
      "auc: 0.855 using params {}:\n"
     ]
    },
    {
     "name": "stderr",
     "output_type": "stream",
     "text": [
      "100%|████████████████████████████████████████████████| 5/5 [00:01<00:00,  3.53it/s]\n"
     ]
    },
    {
     "name": "stdout",
     "output_type": "stream",
     "text": [
      "auc: 0.839 using params {}:\n",
      "start 1_feature using : 1 feature\n"
     ]
    },
    {
     "name": "stderr",
     "output_type": "stream",
     "text": [
      "100%|████████████████████████████████████████████████| 1/1 [00:00<00:00, 27.22it/s]\n"
     ]
    },
    {
     "name": "stdout",
     "output_type": "stream",
     "text": [
      "auc: 0.825 using params {}:\n"
     ]
    },
    {
     "name": "stderr",
     "output_type": "stream",
     "text": [
      "100%|████████████████████████████████████████████████| 1/1 [00:00<00:00, 30.66it/s]\n"
     ]
    },
    {
     "name": "stdout",
     "output_type": "stream",
     "text": [
      "auc: 0.746 using params {}:\n"
     ]
    },
    {
     "name": "stderr",
     "output_type": "stream",
     "text": [
      "100%|████████████████████████████████████████████████| 1/1 [00:00<00:00, 27.50it/s]\n"
     ]
    },
    {
     "name": "stdout",
     "output_type": "stream",
     "text": [
      "auc: 0.825 using params {}:\n"
     ]
    },
    {
     "name": "stderr",
     "output_type": "stream",
     "text": [
      "100%|████████████████████████████████████████████████| 1/1 [00:00<00:00, 29.41it/s]\n"
     ]
    },
    {
     "name": "stdout",
     "output_type": "stream",
     "text": [
      "auc: 0.857 using params {}:\n"
     ]
    },
    {
     "name": "stderr",
     "output_type": "stream",
     "text": [
      "100%|████████████████████████████████████████████████| 1/1 [00:00<00:00, 17.47it/s]\n"
     ]
    },
    {
     "name": "stdout",
     "output_type": "stream",
     "text": [
      "auc: 0.873 using params {}:\n"
     ]
    },
    {
     "name": "stderr",
     "output_type": "stream",
     "text": [
      "100%|████████████████████████████████████████████████| 1/1 [00:00<00:00, 29.76it/s]\n"
     ]
    },
    {
     "name": "stdout",
     "output_type": "stream",
     "text": [
      "auc: 0.873 using params {}:\n"
     ]
    },
    {
     "name": "stderr",
     "output_type": "stream",
     "text": [
      "100%|████████████████████████████████████████████████| 1/1 [00:00<00:00, 33.20it/s]\n"
     ]
    },
    {
     "name": "stdout",
     "output_type": "stream",
     "text": [
      "auc: 0.873 using params {}:\n"
     ]
    },
    {
     "name": "stderr",
     "output_type": "stream",
     "text": [
      "100%|████████████████████████████████████████████████| 1/1 [00:00<00:00, 55.85it/s]\n"
     ]
    },
    {
     "name": "stdout",
     "output_type": "stream",
     "text": [
      "auc: 0.903 using params {}:\n"
     ]
    },
    {
     "name": "stderr",
     "output_type": "stream",
     "text": [
      "100%|████████████████████████████████████████████████| 1/1 [00:00<00:00, 27.85it/s]\n"
     ]
    },
    {
     "name": "stdout",
     "output_type": "stream",
     "text": [
      "auc: 0.887 using params {}:\n"
     ]
    },
    {
     "name": "stderr",
     "output_type": "stream",
     "text": [
      "100%|████████████████████████████████████████████████| 1/1 [00:00<00:00, 27.80it/s]\n"
     ]
    },
    {
     "name": "stdout",
     "output_type": "stream",
     "text": [
      "auc: 0.887 using params {}:\n",
      "start 5_feature using : 5 feature\n"
     ]
    },
    {
     "name": "stderr",
     "output_type": "stream",
     "text": [
      "100%|████████████████████████████████████████████████| 5/5 [00:18<00:00,  3.66s/it]\n"
     ]
    },
    {
     "name": "stdout",
     "output_type": "stream",
     "text": [
      "auc: 0.841 using params {}:\n"
     ]
    },
    {
     "name": "stderr",
     "output_type": "stream",
     "text": [
      "100%|████████████████████████████████████████████████| 5/5 [00:18<00:00,  3.75s/it]\n"
     ]
    },
    {
     "name": "stdout",
     "output_type": "stream",
     "text": [
      "auc: 0.841 using params {}:\n"
     ]
    },
    {
     "name": "stderr",
     "output_type": "stream",
     "text": [
      "100%|████████████████████████████████████████████████| 5/5 [00:17<00:00,  3.53s/it]\n"
     ]
    },
    {
     "name": "stdout",
     "output_type": "stream",
     "text": [
      "auc: 0.857 using params {}:\n"
     ]
    },
    {
     "name": "stderr",
     "output_type": "stream",
     "text": [
      "100%|████████████████████████████████████████████████| 5/5 [00:17<00:00,  3.60s/it]\n"
     ]
    },
    {
     "name": "stdout",
     "output_type": "stream",
     "text": [
      "auc: 0.825 using params {}:\n"
     ]
    },
    {
     "name": "stderr",
     "output_type": "stream",
     "text": [
      "100%|████████████████████████████████████████████████| 5/5 [00:18<00:00,  3.61s/it]\n"
     ]
    },
    {
     "name": "stdout",
     "output_type": "stream",
     "text": [
      "auc: 0.825 using params {}:\n"
     ]
    },
    {
     "name": "stderr",
     "output_type": "stream",
     "text": [
      "100%|████████████████████████████████████████████████| 5/5 [00:19<00:00,  3.99s/it]\n"
     ]
    },
    {
     "name": "stdout",
     "output_type": "stream",
     "text": [
      "auc: 0.857 using params {}:\n"
     ]
    },
    {
     "name": "stderr",
     "output_type": "stream",
     "text": [
      "100%|████████████████████████████████████████████████| 5/5 [00:18<00:00,  3.71s/it]\n"
     ]
    },
    {
     "name": "stdout",
     "output_type": "stream",
     "text": [
      "auc: 0.857 using params {}:\n"
     ]
    },
    {
     "name": "stderr",
     "output_type": "stream",
     "text": [
      "100%|████████████████████████████████████████████████| 5/5 [00:19<00:00,  3.88s/it]\n"
     ]
    },
    {
     "name": "stdout",
     "output_type": "stream",
     "text": [
      "auc: 0.839 using params {}:\n"
     ]
    },
    {
     "name": "stderr",
     "output_type": "stream",
     "text": [
      "100%|████████████████████████████████████████████████| 5/5 [00:20<00:00,  4.18s/it]\n"
     ]
    },
    {
     "name": "stdout",
     "output_type": "stream",
     "text": [
      "auc: 0.855 using params {}:\n"
     ]
    },
    {
     "name": "stderr",
     "output_type": "stream",
     "text": [
      "100%|████████████████████████████████████████████████| 5/5 [00:18<00:00,  3.75s/it]\n"
     ]
    },
    {
     "name": "stdout",
     "output_type": "stream",
     "text": [
      "auc: 0.855 using params {}:\n",
      "start 1_feature using : 1 feature\n"
     ]
    },
    {
     "name": "stderr",
     "output_type": "stream",
     "text": [
      "100%|███████████████████████████████████████████████| 1/1 [00:00<00:00, 225.10it/s]\n"
     ]
    },
    {
     "name": "stdout",
     "output_type": "stream",
     "text": [
      "auc: 0.730 using params {}:\n"
     ]
    },
    {
     "name": "stderr",
     "output_type": "stream",
     "text": [
      "100%|███████████████████████████████████████████████| 1/1 [00:00<00:00, 472.81it/s]\n"
     ]
    },
    {
     "name": "stdout",
     "output_type": "stream",
     "text": [
      "auc: 0.810 using params {}:\n"
     ]
    },
    {
     "name": "stderr",
     "output_type": "stream",
     "text": [
      "100%|███████████████████████████████████████████████| 1/1 [00:00<00:00, 234.73it/s]\n"
     ]
    },
    {
     "name": "stdout",
     "output_type": "stream",
     "text": [
      "auc: 0.794 using params {}:\n"
     ]
    },
    {
     "name": "stderr",
     "output_type": "stream",
     "text": [
      "100%|███████████████████████████████████████████████| 1/1 [00:00<00:00, 233.17it/s]\n"
     ]
    },
    {
     "name": "stdout",
     "output_type": "stream",
     "text": [
      "auc: 0.873 using params {}:\n"
     ]
    },
    {
     "name": "stderr",
     "output_type": "stream",
     "text": [
      "100%|███████████████████████████████████████████████| 1/1 [00:00<00:00, 235.62it/s]\n"
     ]
    },
    {
     "name": "stdout",
     "output_type": "stream",
     "text": [
      "auc: 0.762 using params {}:\n"
     ]
    },
    {
     "name": "stderr",
     "output_type": "stream",
     "text": [
      "100%|███████████████████████████████████████████████| 1/1 [00:00<00:00, 330.96it/s]\n"
     ]
    },
    {
     "name": "stdout",
     "output_type": "stream",
     "text": [
      "auc: 0.778 using params {}:\n"
     ]
    },
    {
     "name": "stderr",
     "output_type": "stream",
     "text": [
      "100%|███████████████████████████████████████████████| 1/1 [00:00<00:00, 317.73it/s]\n"
     ]
    },
    {
     "name": "stdout",
     "output_type": "stream",
     "text": [
      "auc: 0.825 using params {}:\n"
     ]
    },
    {
     "name": "stderr",
     "output_type": "stream",
     "text": [
      "100%|███████████████████████████████████████████████| 1/1 [00:00<00:00, 408.92it/s]\n"
     ]
    },
    {
     "name": "stdout",
     "output_type": "stream",
     "text": [
      "auc: 0.758 using params {}:\n"
     ]
    },
    {
     "name": "stderr",
     "output_type": "stream",
     "text": [
      "100%|███████████████████████████████████████████████| 1/1 [00:00<00:00, 276.21it/s]\n"
     ]
    },
    {
     "name": "stdout",
     "output_type": "stream",
     "text": [
      "auc: 0.790 using params {}:\n"
     ]
    },
    {
     "name": "stderr",
     "output_type": "stream",
     "text": [
      "100%|███████████████████████████████████████████████| 1/1 [00:00<00:00, 292.84it/s]\n"
     ]
    },
    {
     "name": "stdout",
     "output_type": "stream",
     "text": [
      "auc: 0.694 using params {}:\n",
      "start 5_feature using : 5 feature\n"
     ]
    },
    {
     "name": "stderr",
     "output_type": "stream",
     "text": [
      "100%|████████████████████████████████████████████████| 5/5 [00:00<00:00, 11.90it/s]\n"
     ]
    },
    {
     "name": "stdout",
     "output_type": "stream",
     "text": [
      "auc: 0.873 using params {}:\n"
     ]
    },
    {
     "name": "stderr",
     "output_type": "stream",
     "text": [
      "100%|████████████████████████████████████████████████| 5/5 [00:00<00:00, 13.24it/s]\n"
     ]
    },
    {
     "name": "stdout",
     "output_type": "stream",
     "text": [
      "auc: 0.873 using params {}:\n"
     ]
    },
    {
     "name": "stderr",
     "output_type": "stream",
     "text": [
      "100%|████████████████████████████████████████████████| 5/5 [00:00<00:00, 12.50it/s]\n"
     ]
    },
    {
     "name": "stdout",
     "output_type": "stream",
     "text": [
      "auc: 0.841 using params {}:\n"
     ]
    },
    {
     "name": "stderr",
     "output_type": "stream",
     "text": [
      "100%|████████████████████████████████████████████████| 5/5 [00:00<00:00, 15.25it/s]\n"
     ]
    },
    {
     "name": "stdout",
     "output_type": "stream",
     "text": [
      "auc: 0.873 using params {}:\n"
     ]
    },
    {
     "name": "stderr",
     "output_type": "stream",
     "text": [
      "100%|████████████████████████████████████████████████| 5/5 [00:00<00:00, 10.26it/s]\n"
     ]
    },
    {
     "name": "stdout",
     "output_type": "stream",
     "text": [
      "auc: 0.873 using params {}:\n"
     ]
    },
    {
     "name": "stderr",
     "output_type": "stream",
     "text": [
      "100%|████████████████████████████████████████████████| 5/5 [00:00<00:00, 16.71it/s]\n"
     ]
    },
    {
     "name": "stdout",
     "output_type": "stream",
     "text": [
      "auc: 0.873 using params {}:\n"
     ]
    },
    {
     "name": "stderr",
     "output_type": "stream",
     "text": [
      "100%|████████████████████████████████████████████████| 5/5 [00:00<00:00, 14.30it/s]\n"
     ]
    },
    {
     "name": "stdout",
     "output_type": "stream",
     "text": [
      "auc: 0.873 using params {}:\n"
     ]
    },
    {
     "name": "stderr",
     "output_type": "stream",
     "text": [
      "100%|████████████████████████████████████████████████| 5/5 [00:00<00:00,  9.92it/s]\n"
     ]
    },
    {
     "name": "stdout",
     "output_type": "stream",
     "text": [
      "auc: 0.871 using params {}:\n"
     ]
    },
    {
     "name": "stderr",
     "output_type": "stream",
     "text": [
      "100%|████████████████████████████████████████████████| 5/5 [00:00<00:00, 13.37it/s]\n"
     ]
    },
    {
     "name": "stdout",
     "output_type": "stream",
     "text": [
      "auc: 0.790 using params {}:\n"
     ]
    },
    {
     "name": "stderr",
     "output_type": "stream",
     "text": [
      "100%|████████████████████████████████████████████████| 5/5 [00:00<00:00, 12.16it/s]\n"
     ]
    },
    {
     "name": "stdout",
     "output_type": "stream",
     "text": [
      "auc: 0.887 using params {}:\n"
     ]
    }
   ],
   "source": [
    "create_all_json(datasets_dict, columns_name, names_file, dataset_list, features_mrmr)"
   ]
  },
  {
   "cell_type": "code",
   "execution_count": null,
   "id": "398e7c3f",
   "metadata": {},
   "outputs": [],
   "source": []
  }
 ],
 "metadata": {
  "kernelspec": {
   "display_name": "Python 3 (ipykernel)",
   "language": "python",
   "name": "python3"
  },
  "language_info": {
   "codemirror_mode": {
    "name": "ipython",
    "version": 3
   },
   "file_extension": ".py",
   "mimetype": "text/x-python",
   "name": "python",
   "nbconvert_exporter": "python",
   "pygments_lexer": "ipython3",
   "version": "3.10.6"
  }
 },
 "nbformat": 4,
 "nbformat_minor": 5
}

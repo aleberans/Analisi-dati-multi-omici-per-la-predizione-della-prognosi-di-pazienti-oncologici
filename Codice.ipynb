{
 "cells": [
  {
   "cell_type": "code",
   "execution_count": 47,
   "id": "a9a87904",
   "metadata": {},
   "outputs": [],
   "source": [
    "import pandas as pd\n",
    "from sklearn.preprocessing import MinMaxScaler\n",
    "import mrmr\n",
    "from pymrmr import mRMR\n",
    "import matplotlib.pyplot as plt\n",
    "from sklearn.model_selection import StratifiedKFold\n",
    "import mrmr\n",
    "from sklearn.ensemble import RandomForestClassifier\n",
    "from sklearn.model_selection import GridSearchCV\n",
    "import numpy as np\n",
    "import os.path\n",
    "import json\n",
    "from sklearn.metrics import auc, precision_recall_curve, average_precision_score, PrecisionRecallDisplay\n",
    "import pymrmr\n",
    "from scipy.stats import kruskal, mannwhitneyu\n",
    "from boruta import BorutaPy\n",
    "import umap.umap_ as umap"
   ]
  },
  {
   "cell_type": "markdown",
   "id": "fcd46eab",
   "metadata": {},
   "source": [
    "# Import data"
   ]
  },
  {
   "cell_type": "code",
   "execution_count": 48,
   "id": "9a3102b3",
   "metadata": {},
   "outputs": [
    {
     "data": {
      "text/html": [
       "<div>\n",
       "<style scoped>\n",
       "    .dataframe tbody tr th:only-of-type {\n",
       "        vertical-align: middle;\n",
       "    }\n",
       "\n",
       "    .dataframe tbody tr th {\n",
       "        vertical-align: top;\n",
       "    }\n",
       "\n",
       "    .dataframe thead th {\n",
       "        text-align: right;\n",
       "    }\n",
       "</style>\n",
       "<table border=\"1\" class=\"dataframe\">\n",
       "  <thead>\n",
       "    <tr style=\"text-align: right;\">\n",
       "      <th></th>\n",
       "      <th>ACAP3</th>\n",
       "      <th>ACTRT2</th>\n",
       "      <th>AGRN</th>\n",
       "      <th>ANKRD65</th>\n",
       "      <th>ATAD3A</th>\n",
       "      <th>ATAD3B</th>\n",
       "      <th>ATAD3C</th>\n",
       "      <th>AURKAIP1</th>\n",
       "      <th>B3GALT6</th>\n",
       "      <th>C1orf159</th>\n",
       "      <th>...</th>\n",
       "      <th>SMIM9</th>\n",
       "      <th>SNORA36A</th>\n",
       "      <th>SNORA56</th>\n",
       "      <th>TMLHE</th>\n",
       "      <th>VBP1</th>\n",
       "      <th>IL9R|ENSG00000124334.12</th>\n",
       "      <th>SPRY3|ENSG00000168939.6</th>\n",
       "      <th>VAMP7|ENSG00000124333.10</th>\n",
       "      <th>WASH6P|ENSG00000182484.10</th>\n",
       "      <th>WASIR1|ENSG00000185203.7</th>\n",
       "    </tr>\n",
       "  </thead>\n",
       "  <tbody>\n",
       "    <tr>\n",
       "      <th>TCGA-3C-AALI</th>\n",
       "      <td>-1</td>\n",
       "      <td>-1</td>\n",
       "      <td>-1</td>\n",
       "      <td>-1</td>\n",
       "      <td>-1</td>\n",
       "      <td>-1</td>\n",
       "      <td>-1</td>\n",
       "      <td>-1</td>\n",
       "      <td>-1</td>\n",
       "      <td>-1</td>\n",
       "      <td>...</td>\n",
       "      <td>-1</td>\n",
       "      <td>-1</td>\n",
       "      <td>-1</td>\n",
       "      <td>-1</td>\n",
       "      <td>-1</td>\n",
       "      <td>-1</td>\n",
       "      <td>-1</td>\n",
       "      <td>-1</td>\n",
       "      <td>-1</td>\n",
       "      <td>-1</td>\n",
       "    </tr>\n",
       "    <tr>\n",
       "      <th>TCGA-3C-AALK</th>\n",
       "      <td>0</td>\n",
       "      <td>0</td>\n",
       "      <td>0</td>\n",
       "      <td>0</td>\n",
       "      <td>0</td>\n",
       "      <td>0</td>\n",
       "      <td>0</td>\n",
       "      <td>0</td>\n",
       "      <td>0</td>\n",
       "      <td>0</td>\n",
       "      <td>...</td>\n",
       "      <td>0</td>\n",
       "      <td>0</td>\n",
       "      <td>0</td>\n",
       "      <td>0</td>\n",
       "      <td>0</td>\n",
       "      <td>0</td>\n",
       "      <td>0</td>\n",
       "      <td>0</td>\n",
       "      <td>0</td>\n",
       "      <td>0</td>\n",
       "    </tr>\n",
       "    <tr>\n",
       "      <th>TCGA-4H-AAAK</th>\n",
       "      <td>0</td>\n",
       "      <td>0</td>\n",
       "      <td>0</td>\n",
       "      <td>0</td>\n",
       "      <td>0</td>\n",
       "      <td>0</td>\n",
       "      <td>0</td>\n",
       "      <td>0</td>\n",
       "      <td>0</td>\n",
       "      <td>0</td>\n",
       "      <td>...</td>\n",
       "      <td>0</td>\n",
       "      <td>0</td>\n",
       "      <td>0</td>\n",
       "      <td>0</td>\n",
       "      <td>0</td>\n",
       "      <td>0</td>\n",
       "      <td>0</td>\n",
       "      <td>0</td>\n",
       "      <td>0</td>\n",
       "      <td>0</td>\n",
       "    </tr>\n",
       "    <tr>\n",
       "      <th>TCGA-5L-AAT1</th>\n",
       "      <td>0</td>\n",
       "      <td>0</td>\n",
       "      <td>0</td>\n",
       "      <td>0</td>\n",
       "      <td>0</td>\n",
       "      <td>0</td>\n",
       "      <td>0</td>\n",
       "      <td>0</td>\n",
       "      <td>0</td>\n",
       "      <td>0</td>\n",
       "      <td>...</td>\n",
       "      <td>0</td>\n",
       "      <td>0</td>\n",
       "      <td>0</td>\n",
       "      <td>0</td>\n",
       "      <td>0</td>\n",
       "      <td>0</td>\n",
       "      <td>0</td>\n",
       "      <td>0</td>\n",
       "      <td>0</td>\n",
       "      <td>0</td>\n",
       "    </tr>\n",
       "    <tr>\n",
       "      <th>TCGA-5T-A9QA</th>\n",
       "      <td>-1</td>\n",
       "      <td>-1</td>\n",
       "      <td>-1</td>\n",
       "      <td>-1</td>\n",
       "      <td>-1</td>\n",
       "      <td>-1</td>\n",
       "      <td>-1</td>\n",
       "      <td>-1</td>\n",
       "      <td>-1</td>\n",
       "      <td>-1</td>\n",
       "      <td>...</td>\n",
       "      <td>0</td>\n",
       "      <td>0</td>\n",
       "      <td>0</td>\n",
       "      <td>0</td>\n",
       "      <td>0</td>\n",
       "      <td>0</td>\n",
       "      <td>0</td>\n",
       "      <td>0</td>\n",
       "      <td>0</td>\n",
       "      <td>0</td>\n",
       "    </tr>\n",
       "  </tbody>\n",
       "</table>\n",
       "<p>5 rows × 24776 columns</p>\n",
       "</div>"
      ],
      "text/plain": [
       "              ACAP3  ACTRT2  AGRN  ANKRD65  ATAD3A  ATAD3B  ATAD3C  AURKAIP1  \\\n",
       "TCGA-3C-AALI     -1      -1    -1       -1      -1      -1      -1        -1   \n",
       "TCGA-3C-AALK      0       0     0        0       0       0       0         0   \n",
       "TCGA-4H-AAAK      0       0     0        0       0       0       0         0   \n",
       "TCGA-5L-AAT1      0       0     0        0       0       0       0         0   \n",
       "TCGA-5T-A9QA     -1      -1    -1       -1      -1      -1      -1        -1   \n",
       "\n",
       "              B3GALT6  C1orf159  ...  SMIM9  SNORA36A  SNORA56  TMLHE  VBP1  \\\n",
       "TCGA-3C-AALI       -1        -1  ...     -1        -1       -1     -1    -1   \n",
       "TCGA-3C-AALK        0         0  ...      0         0        0      0     0   \n",
       "TCGA-4H-AAAK        0         0  ...      0         0        0      0     0   \n",
       "TCGA-5L-AAT1        0         0  ...      0         0        0      0     0   \n",
       "TCGA-5T-A9QA       -1        -1  ...      0         0        0      0     0   \n",
       "\n",
       "              IL9R|ENSG00000124334.12  SPRY3|ENSG00000168939.6  \\\n",
       "TCGA-3C-AALI                       -1                       -1   \n",
       "TCGA-3C-AALK                        0                        0   \n",
       "TCGA-4H-AAAK                        0                        0   \n",
       "TCGA-5L-AAT1                        0                        0   \n",
       "TCGA-5T-A9QA                        0                        0   \n",
       "\n",
       "              VAMP7|ENSG00000124333.10  WASH6P|ENSG00000182484.10  \\\n",
       "TCGA-3C-AALI                        -1                         -1   \n",
       "TCGA-3C-AALK                         0                          0   \n",
       "TCGA-4H-AAAK                         0                          0   \n",
       "TCGA-5L-AAT1                         0                          0   \n",
       "TCGA-5T-A9QA                         0                          0   \n",
       "\n",
       "              WASIR1|ENSG00000185203.7  \n",
       "TCGA-3C-AALI                        -1  \n",
       "TCGA-3C-AALK                         0  \n",
       "TCGA-4H-AAAK                         0  \n",
       "TCGA-5L-AAT1                         0  \n",
       "TCGA-5T-A9QA                         0  \n",
       "\n",
       "[5 rows x 24776 columns]"
      ]
     },
     "execution_count": 48,
     "metadata": {},
     "output_type": "execute_result"
    }
   ],
   "source": [
    "# import data from csv \n",
    "cnv = pd.read_csv('dataset_hg19/dataset/cnv.csv', sep=' ')\n",
    "\n",
    "cnv.head()"
   ]
  },
  {
   "cell_type": "code",
   "execution_count": 49,
   "id": "03c327fc",
   "metadata": {},
   "outputs": [
    {
     "data": {
      "text/html": [
       "<div>\n",
       "<style scoped>\n",
       "    .dataframe tbody tr th:only-of-type {\n",
       "        vertical-align: middle;\n",
       "    }\n",
       "\n",
       "    .dataframe tbody tr th {\n",
       "        vertical-align: top;\n",
       "    }\n",
       "\n",
       "    .dataframe thead th {\n",
       "        text-align: right;\n",
       "    }\n",
       "</style>\n",
       "<table border=\"1\" class=\"dataframe\">\n",
       "  <thead>\n",
       "    <tr style=\"text-align: right;\">\n",
       "      <th></th>\n",
       "      <th>hsa-let-7a-1</th>\n",
       "      <th>hsa-let-7a-2</th>\n",
       "      <th>hsa-let-7a-3</th>\n",
       "      <th>hsa-let-7b</th>\n",
       "      <th>hsa-let-7c</th>\n",
       "      <th>hsa-let-7d</th>\n",
       "      <th>hsa-let-7e</th>\n",
       "      <th>hsa-let-7f-1</th>\n",
       "      <th>hsa-let-7f-2</th>\n",
       "      <th>hsa-let-7g</th>\n",
       "      <th>...</th>\n",
       "      <th>hsa-mir-941-3</th>\n",
       "      <th>hsa-mir-941-4</th>\n",
       "      <th>hsa-mir-942</th>\n",
       "      <th>hsa-mir-943</th>\n",
       "      <th>hsa-mir-944</th>\n",
       "      <th>hsa-mir-95</th>\n",
       "      <th>hsa-mir-96</th>\n",
       "      <th>hsa-mir-98</th>\n",
       "      <th>hsa-mir-99a</th>\n",
       "      <th>hsa-mir-99b</th>\n",
       "    </tr>\n",
       "  </thead>\n",
       "  <tbody>\n",
       "    <tr>\n",
       "      <th>TCGA-3C-AALI</th>\n",
       "      <td>49201</td>\n",
       "      <td>98691</td>\n",
       "      <td>49035</td>\n",
       "      <td>148591</td>\n",
       "      <td>5095</td>\n",
       "      <td>3263</td>\n",
       "      <td>3566</td>\n",
       "      <td>133</td>\n",
       "      <td>41683</td>\n",
       "      <td>2231</td>\n",
       "      <td>...</td>\n",
       "      <td>0</td>\n",
       "      <td>0</td>\n",
       "      <td>52</td>\n",
       "      <td>0</td>\n",
       "      <td>4</td>\n",
       "      <td>8</td>\n",
       "      <td>383</td>\n",
       "      <td>547</td>\n",
       "      <td>1503</td>\n",
       "      <td>80378</td>\n",
       "    </tr>\n",
       "    <tr>\n",
       "      <th>TCGA-3C-AALK</th>\n",
       "      <td>57278</td>\n",
       "      <td>114320</td>\n",
       "      <td>57540</td>\n",
       "      <td>164553</td>\n",
       "      <td>18464</td>\n",
       "      <td>2114</td>\n",
       "      <td>8364</td>\n",
       "      <td>113</td>\n",
       "      <td>40723</td>\n",
       "      <td>2245</td>\n",
       "      <td>...</td>\n",
       "      <td>0</td>\n",
       "      <td>0</td>\n",
       "      <td>22</td>\n",
       "      <td>0</td>\n",
       "      <td>22</td>\n",
       "      <td>11</td>\n",
       "      <td>459</td>\n",
       "      <td>263</td>\n",
       "      <td>6620</td>\n",
       "      <td>152218</td>\n",
       "    </tr>\n",
       "    <tr>\n",
       "      <th>TCGA-4H-AAAK</th>\n",
       "      <td>67196</td>\n",
       "      <td>134563</td>\n",
       "      <td>67607</td>\n",
       "      <td>136918</td>\n",
       "      <td>20429</td>\n",
       "      <td>2162</td>\n",
       "      <td>10556</td>\n",
       "      <td>139</td>\n",
       "      <td>50848</td>\n",
       "      <td>2056</td>\n",
       "      <td>...</td>\n",
       "      <td>0</td>\n",
       "      <td>0</td>\n",
       "      <td>13</td>\n",
       "      <td>0</td>\n",
       "      <td>7</td>\n",
       "      <td>5</td>\n",
       "      <td>123</td>\n",
       "      <td>212</td>\n",
       "      <td>6666</td>\n",
       "      <td>158568</td>\n",
       "    </tr>\n",
       "    <tr>\n",
       "      <th>TCGA-5L-AAT1</th>\n",
       "      <td>94243</td>\n",
       "      <td>188921</td>\n",
       "      <td>94346</td>\n",
       "      <td>211457</td>\n",
       "      <td>21076</td>\n",
       "      <td>2657</td>\n",
       "      <td>12104</td>\n",
       "      <td>272</td>\n",
       "      <td>94610</td>\n",
       "      <td>3903</td>\n",
       "      <td>...</td>\n",
       "      <td>0</td>\n",
       "      <td>0</td>\n",
       "      <td>23</td>\n",
       "      <td>0</td>\n",
       "      <td>12</td>\n",
       "      <td>11</td>\n",
       "      <td>235</td>\n",
       "      <td>529</td>\n",
       "      <td>5352</td>\n",
       "      <td>196557</td>\n",
       "    </tr>\n",
       "    <tr>\n",
       "      <th>TCGA-5T-A9QA</th>\n",
       "      <td>49313</td>\n",
       "      <td>97721</td>\n",
       "      <td>49623</td>\n",
       "      <td>127544</td>\n",
       "      <td>2134</td>\n",
       "      <td>1769</td>\n",
       "      <td>8190</td>\n",
       "      <td>104</td>\n",
       "      <td>28306</td>\n",
       "      <td>2792</td>\n",
       "      <td>...</td>\n",
       "      <td>0</td>\n",
       "      <td>0</td>\n",
       "      <td>72</td>\n",
       "      <td>0</td>\n",
       "      <td>3</td>\n",
       "      <td>23</td>\n",
       "      <td>186</td>\n",
       "      <td>146</td>\n",
       "      <td>445</td>\n",
       "      <td>127728</td>\n",
       "    </tr>\n",
       "  </tbody>\n",
       "</table>\n",
       "<p>5 rows × 1046 columns</p>\n",
       "</div>"
      ],
      "text/plain": [
       "              hsa-let-7a-1  hsa-let-7a-2  hsa-let-7a-3  hsa-let-7b  \\\n",
       "TCGA-3C-AALI         49201         98691         49035      148591   \n",
       "TCGA-3C-AALK         57278        114320         57540      164553   \n",
       "TCGA-4H-AAAK         67196        134563         67607      136918   \n",
       "TCGA-5L-AAT1         94243        188921         94346      211457   \n",
       "TCGA-5T-A9QA         49313         97721         49623      127544   \n",
       "\n",
       "              hsa-let-7c  hsa-let-7d  hsa-let-7e  hsa-let-7f-1  hsa-let-7f-2  \\\n",
       "TCGA-3C-AALI        5095        3263        3566           133         41683   \n",
       "TCGA-3C-AALK       18464        2114        8364           113         40723   \n",
       "TCGA-4H-AAAK       20429        2162       10556           139         50848   \n",
       "TCGA-5L-AAT1       21076        2657       12104           272         94610   \n",
       "TCGA-5T-A9QA        2134        1769        8190           104         28306   \n",
       "\n",
       "              hsa-let-7g  ...  hsa-mir-941-3  hsa-mir-941-4  hsa-mir-942  \\\n",
       "TCGA-3C-AALI        2231  ...              0              0           52   \n",
       "TCGA-3C-AALK        2245  ...              0              0           22   \n",
       "TCGA-4H-AAAK        2056  ...              0              0           13   \n",
       "TCGA-5L-AAT1        3903  ...              0              0           23   \n",
       "TCGA-5T-A9QA        2792  ...              0              0           72   \n",
       "\n",
       "              hsa-mir-943  hsa-mir-944  hsa-mir-95  hsa-mir-96  hsa-mir-98  \\\n",
       "TCGA-3C-AALI            0            4           8         383         547   \n",
       "TCGA-3C-AALK            0           22          11         459         263   \n",
       "TCGA-4H-AAAK            0            7           5         123         212   \n",
       "TCGA-5L-AAT1            0           12          11         235         529   \n",
       "TCGA-5T-A9QA            0            3          23         186         146   \n",
       "\n",
       "              hsa-mir-99a  hsa-mir-99b  \n",
       "TCGA-3C-AALI         1503        80378  \n",
       "TCGA-3C-AALK         6620       152218  \n",
       "TCGA-4H-AAAK         6666       158568  \n",
       "TCGA-5L-AAT1         5352       196557  \n",
       "TCGA-5T-A9QA          445       127728  \n",
       "\n",
       "[5 rows x 1046 columns]"
      ]
     },
     "execution_count": 49,
     "metadata": {},
     "output_type": "execute_result"
    }
   ],
   "source": [
    "miRNA = pd.read_csv('dataset_hg19/dataset/mirna.csv', sep=' ')\n",
    "\n",
    "miRNA.head()"
   ]
  },
  {
   "cell_type": "code",
   "execution_count": 50,
   "id": "f1f3bfbe",
   "metadata": {},
   "outputs": [
    {
     "data": {
      "text/html": [
       "<div>\n",
       "<style scoped>\n",
       "    .dataframe tbody tr th:only-of-type {\n",
       "        vertical-align: middle;\n",
       "    }\n",
       "\n",
       "    .dataframe tbody tr th {\n",
       "        vertical-align: top;\n",
       "    }\n",
       "\n",
       "    .dataframe thead th {\n",
       "        text-align: right;\n",
       "    }\n",
       "</style>\n",
       "<table border=\"1\" class=\"dataframe\">\n",
       "  <thead>\n",
       "    <tr style=\"text-align: right;\">\n",
       "      <th></th>\n",
       "      <th>A1BG</th>\n",
       "      <th>A1CF</th>\n",
       "      <th>A2BP1</th>\n",
       "      <th>A2LD1</th>\n",
       "      <th>A2ML1</th>\n",
       "      <th>A2M</th>\n",
       "      <th>A4GALT</th>\n",
       "      <th>A4GNT</th>\n",
       "      <th>AAA1</th>\n",
       "      <th>AAAS</th>\n",
       "      <th>...</th>\n",
       "      <th>ZXDA</th>\n",
       "      <th>ZXDB</th>\n",
       "      <th>ZXDC</th>\n",
       "      <th>ZYG11A</th>\n",
       "      <th>ZYG11B</th>\n",
       "      <th>ZYX</th>\n",
       "      <th>ZZEF1</th>\n",
       "      <th>ZZZ3</th>\n",
       "      <th>psiTPTE22</th>\n",
       "      <th>tAKR</th>\n",
       "    </tr>\n",
       "  </thead>\n",
       "  <tbody>\n",
       "    <tr>\n",
       "      <th>TCGA-3C-AALI</th>\n",
       "      <td>436.55</td>\n",
       "      <td>0</td>\n",
       "      <td>0</td>\n",
       "      <td>130.32</td>\n",
       "      <td>8</td>\n",
       "      <td>13924.87</td>\n",
       "      <td>290</td>\n",
       "      <td>1</td>\n",
       "      <td>0</td>\n",
       "      <td>1633</td>\n",
       "      <td>...</td>\n",
       "      <td>110</td>\n",
       "      <td>825</td>\n",
       "      <td>2470</td>\n",
       "      <td>365</td>\n",
       "      <td>1110</td>\n",
       "      <td>10123</td>\n",
       "      <td>2425</td>\n",
       "      <td>748</td>\n",
       "      <td>1704</td>\n",
       "      <td>0</td>\n",
       "    </tr>\n",
       "    <tr>\n",
       "      <th>TCGA-3C-AALK</th>\n",
       "      <td>461.69</td>\n",
       "      <td>0</td>\n",
       "      <td>0</td>\n",
       "      <td>151.08</td>\n",
       "      <td>4</td>\n",
       "      <td>26490.85</td>\n",
       "      <td>1224</td>\n",
       "      <td>0</td>\n",
       "      <td>0</td>\n",
       "      <td>1878</td>\n",
       "      <td>...</td>\n",
       "      <td>133</td>\n",
       "      <td>1058</td>\n",
       "      <td>2088</td>\n",
       "      <td>424</td>\n",
       "      <td>1468</td>\n",
       "      <td>13756</td>\n",
       "      <td>1888</td>\n",
       "      <td>1694</td>\n",
       "      <td>161</td>\n",
       "      <td>0</td>\n",
       "    </tr>\n",
       "    <tr>\n",
       "      <th>TCGA-4H-AAAK</th>\n",
       "      <td>631.87</td>\n",
       "      <td>1</td>\n",
       "      <td>9</td>\n",
       "      <td>362.77</td>\n",
       "      <td>8</td>\n",
       "      <td>22525.79</td>\n",
       "      <td>804</td>\n",
       "      <td>1</td>\n",
       "      <td>1</td>\n",
       "      <td>1925</td>\n",
       "      <td>...</td>\n",
       "      <td>115</td>\n",
       "      <td>997</td>\n",
       "      <td>2467</td>\n",
       "      <td>33</td>\n",
       "      <td>1823</td>\n",
       "      <td>9498</td>\n",
       "      <td>1955</td>\n",
       "      <td>2072</td>\n",
       "      <td>440</td>\n",
       "      <td>0</td>\n",
       "    </tr>\n",
       "    <tr>\n",
       "      <th>TCGA-5L-AAT1</th>\n",
       "      <td>259.26</td>\n",
       "      <td>0</td>\n",
       "      <td>0</td>\n",
       "      <td>125.12</td>\n",
       "      <td>5</td>\n",
       "      <td>18903.93</td>\n",
       "      <td>323</td>\n",
       "      <td>1</td>\n",
       "      <td>0</td>\n",
       "      <td>971</td>\n",
       "      <td>...</td>\n",
       "      <td>55</td>\n",
       "      <td>697</td>\n",
       "      <td>1213</td>\n",
       "      <td>66</td>\n",
       "      <td>630</td>\n",
       "      <td>5421</td>\n",
       "      <td>1732</td>\n",
       "      <td>698</td>\n",
       "      <td>71</td>\n",
       "      <td>0</td>\n",
       "    </tr>\n",
       "    <tr>\n",
       "      <th>TCGA-5T-A9QA</th>\n",
       "      <td>600.72</td>\n",
       "      <td>1</td>\n",
       "      <td>1</td>\n",
       "      <td>446.68</td>\n",
       "      <td>0</td>\n",
       "      <td>6084.91</td>\n",
       "      <td>787</td>\n",
       "      <td>7</td>\n",
       "      <td>0</td>\n",
       "      <td>1670</td>\n",
       "      <td>...</td>\n",
       "      <td>55</td>\n",
       "      <td>547</td>\n",
       "      <td>1548</td>\n",
       "      <td>4</td>\n",
       "      <td>615</td>\n",
       "      <td>6160</td>\n",
       "      <td>2132</td>\n",
       "      <td>843</td>\n",
       "      <td>7</td>\n",
       "      <td>0</td>\n",
       "    </tr>\n",
       "  </tbody>\n",
       "</table>\n",
       "<p>5 rows × 20501 columns</p>\n",
       "</div>"
      ],
      "text/plain": [
       "                A1BG  A1CF  A2BP1   A2LD1  A2ML1       A2M  A4GALT  A4GNT  \\\n",
       "TCGA-3C-AALI  436.55     0      0  130.32      8  13924.87     290      1   \n",
       "TCGA-3C-AALK  461.69     0      0  151.08      4  26490.85    1224      0   \n",
       "TCGA-4H-AAAK  631.87     1      9  362.77      8  22525.79     804      1   \n",
       "TCGA-5L-AAT1  259.26     0      0  125.12      5  18903.93     323      1   \n",
       "TCGA-5T-A9QA  600.72     1      1  446.68      0   6084.91     787      7   \n",
       "\n",
       "              AAA1  AAAS  ...  ZXDA  ZXDB  ZXDC  ZYG11A  ZYG11B    ZYX  ZZEF1  \\\n",
       "TCGA-3C-AALI     0  1633  ...   110   825  2470     365    1110  10123   2425   \n",
       "TCGA-3C-AALK     0  1878  ...   133  1058  2088     424    1468  13756   1888   \n",
       "TCGA-4H-AAAK     1  1925  ...   115   997  2467      33    1823   9498   1955   \n",
       "TCGA-5L-AAT1     0   971  ...    55   697  1213      66     630   5421   1732   \n",
       "TCGA-5T-A9QA     0  1670  ...    55   547  1548       4     615   6160   2132   \n",
       "\n",
       "              ZZZ3  psiTPTE22  tAKR  \n",
       "TCGA-3C-AALI   748       1704     0  \n",
       "TCGA-3C-AALK  1694        161     0  \n",
       "TCGA-4H-AAAK  2072        440     0  \n",
       "TCGA-5L-AAT1   698         71     0  \n",
       "TCGA-5T-A9QA   843          7     0  \n",
       "\n",
       "[5 rows x 20501 columns]"
      ]
     },
     "execution_count": 50,
     "metadata": {},
     "output_type": "execute_result"
    }
   ],
   "source": [
    "mRNA = pd.read_csv('dataset_hg19/dataset/mrna.csv', sep=' ')\n",
    "\n",
    "mRNA.head()"
   ]
  },
  {
   "cell_type": "code",
   "execution_count": 51,
   "id": "06a16faf",
   "metadata": {},
   "outputs": [
    {
     "data": {
      "text/html": [
       "<div>\n",
       "<style scoped>\n",
       "    .dataframe tbody tr th:only-of-type {\n",
       "        vertical-align: middle;\n",
       "    }\n",
       "\n",
       "    .dataframe tbody tr th {\n",
       "        vertical-align: top;\n",
       "    }\n",
       "\n",
       "    .dataframe thead th {\n",
       "        text-align: right;\n",
       "    }\n",
       "</style>\n",
       "<table border=\"1\" class=\"dataframe\">\n",
       "  <thead>\n",
       "    <tr style=\"text-align: right;\">\n",
       "      <th></th>\n",
       "      <th>14-3-3_beta</th>\n",
       "      <th>14-3-3_epsilon</th>\n",
       "      <th>14-3-3_zeta</th>\n",
       "      <th>4E-BP1</th>\n",
       "      <th>4E-BP1_pS65</th>\n",
       "      <th>4E-BP1_pT37_T46</th>\n",
       "      <th>4E-BP1_pT70</th>\n",
       "      <th>53BP1</th>\n",
       "      <th>A-Raf</th>\n",
       "      <th>A-Raf_pS299</th>\n",
       "      <th>...</th>\n",
       "      <th>p27_pT157</th>\n",
       "      <th>p27_pT198</th>\n",
       "      <th>p38_MAPK</th>\n",
       "      <th>p38_pT180_Y182</th>\n",
       "      <th>p53</th>\n",
       "      <th>p62-LCK-ligand</th>\n",
       "      <th>p70S6K</th>\n",
       "      <th>p70S6K_pT389</th>\n",
       "      <th>p90RSK</th>\n",
       "      <th>p90RSK_pT359_S363</th>\n",
       "    </tr>\n",
       "  </thead>\n",
       "  <tbody>\n",
       "    <tr>\n",
       "      <th>TCGA-3C-AALI</th>\n",
       "      <td>-0.000752</td>\n",
       "      <td>0.022553</td>\n",
       "      <td>0.021112</td>\n",
       "      <td>0.101796</td>\n",
       "      <td>-0.382850</td>\n",
       "      <td>-0.108997</td>\n",
       "      <td>0.103860</td>\n",
       "      <td>-0.335720</td>\n",
       "      <td>0.139450</td>\n",
       "      <td>0.148123</td>\n",
       "      <td>...</td>\n",
       "      <td>-0.076626</td>\n",
       "      <td>-0.231296</td>\n",
       "      <td>-0.169884</td>\n",
       "      <td>0.040360</td>\n",
       "      <td>-0.043975</td>\n",
       "      <td>1.293687</td>\n",
       "      <td>0.783984</td>\n",
       "      <td>0.162565</td>\n",
       "      <td>-0.667649</td>\n",
       "      <td>-0.102581</td>\n",
       "    </tr>\n",
       "    <tr>\n",
       "      <th>TCGA-3C-AALK</th>\n",
       "      <td>-0.202252</td>\n",
       "      <td>0.077041</td>\n",
       "      <td>0.153997</td>\n",
       "      <td>0.299107</td>\n",
       "      <td>-0.438903</td>\n",
       "      <td>-0.460678</td>\n",
       "      <td>-0.358195</td>\n",
       "      <td>0.474016</td>\n",
       "      <td>0.376476</td>\n",
       "      <td>-0.160318</td>\n",
       "      <td>...</td>\n",
       "      <td>-0.219547</td>\n",
       "      <td>-0.340080</td>\n",
       "      <td>0.208381</td>\n",
       "      <td>0.365363</td>\n",
       "      <td>-0.136875</td>\n",
       "      <td>0.680809</td>\n",
       "      <td>0.612644</td>\n",
       "      <td>-0.131174</td>\n",
       "      <td>0.419210</td>\n",
       "      <td>-0.118623</td>\n",
       "    </tr>\n",
       "    <tr>\n",
       "      <th>TCGA-4H-AAAK</th>\n",
       "      <td>-0.208434</td>\n",
       "      <td>0.062566</td>\n",
       "      <td>0.034209</td>\n",
       "      <td>0.429696</td>\n",
       "      <td>-0.102852</td>\n",
       "      <td>-0.499466</td>\n",
       "      <td>-0.433138</td>\n",
       "      <td>0.143794</td>\n",
       "      <td>0.339525</td>\n",
       "      <td>-0.221161</td>\n",
       "      <td>...</td>\n",
       "      <td>-0.070647</td>\n",
       "      <td>-0.471717</td>\n",
       "      <td>-0.052702</td>\n",
       "      <td>0.068514</td>\n",
       "      <td>-0.080364</td>\n",
       "      <td>0.300677</td>\n",
       "      <td>0.819253</td>\n",
       "      <td>-0.520017</td>\n",
       "      <td>0.003252</td>\n",
       "      <td>-0.855659</td>\n",
       "    </tr>\n",
       "    <tr>\n",
       "      <th>TCGA-5L-AAT1</th>\n",
       "      <td>-0.465476</td>\n",
       "      <td>0.141845</td>\n",
       "      <td>0.232721</td>\n",
       "      <td>0.427772</td>\n",
       "      <td>-0.231596</td>\n",
       "      <td>0.276124</td>\n",
       "      <td>-0.411702</td>\n",
       "      <td>0.736283</td>\n",
       "      <td>0.398665</td>\n",
       "      <td>-0.063979</td>\n",
       "      <td>...</td>\n",
       "      <td>-0.145362</td>\n",
       "      <td>-0.582255</td>\n",
       "      <td>0.346637</td>\n",
       "      <td>0.289421</td>\n",
       "      <td>-0.225658</td>\n",
       "      <td>0.591818</td>\n",
       "      <td>0.623455</td>\n",
       "      <td>-0.559783</td>\n",
       "      <td>0.510494</td>\n",
       "      <td>-0.601296</td>\n",
       "    </tr>\n",
       "    <tr>\n",
       "      <th>TCGA-5T-A9QA</th>\n",
       "      <td>-0.354823</td>\n",
       "      <td>0.156575</td>\n",
       "      <td>0.249023</td>\n",
       "      <td>1.197526</td>\n",
       "      <td>0.447913</td>\n",
       "      <td>1.001215</td>\n",
       "      <td>0.307314</td>\n",
       "      <td>0.581762</td>\n",
       "      <td>0.316779</td>\n",
       "      <td>-0.085146</td>\n",
       "      <td>...</td>\n",
       "      <td>0.076588</td>\n",
       "      <td>-0.325001</td>\n",
       "      <td>0.166015</td>\n",
       "      <td>-1.064492</td>\n",
       "      <td>0.181296</td>\n",
       "      <td>-0.226434</td>\n",
       "      <td>0.842169</td>\n",
       "      <td>0.280629</td>\n",
       "      <td>0.524148</td>\n",
       "      <td>-0.500144</td>\n",
       "    </tr>\n",
       "  </tbody>\n",
       "</table>\n",
       "<p>5 rows × 216 columns</p>\n",
       "</div>"
      ],
      "text/plain": [
       "              14-3-3_beta  14-3-3_epsilon  14-3-3_zeta    4E-BP1  4E-BP1_pS65  \\\n",
       "TCGA-3C-AALI    -0.000752        0.022553     0.021112  0.101796    -0.382850   \n",
       "TCGA-3C-AALK    -0.202252        0.077041     0.153997  0.299107    -0.438903   \n",
       "TCGA-4H-AAAK    -0.208434        0.062566     0.034209  0.429696    -0.102852   \n",
       "TCGA-5L-AAT1    -0.465476        0.141845     0.232721  0.427772    -0.231596   \n",
       "TCGA-5T-A9QA    -0.354823        0.156575     0.249023  1.197526     0.447913   \n",
       "\n",
       "              4E-BP1_pT37_T46  4E-BP1_pT70     53BP1     A-Raf  A-Raf_pS299  \\\n",
       "TCGA-3C-AALI        -0.108997     0.103860 -0.335720  0.139450     0.148123   \n",
       "TCGA-3C-AALK        -0.460678    -0.358195  0.474016  0.376476    -0.160318   \n",
       "TCGA-4H-AAAK        -0.499466    -0.433138  0.143794  0.339525    -0.221161   \n",
       "TCGA-5L-AAT1         0.276124    -0.411702  0.736283  0.398665    -0.063979   \n",
       "TCGA-5T-A9QA         1.001215     0.307314  0.581762  0.316779    -0.085146   \n",
       "\n",
       "              ...  p27_pT157  p27_pT198  p38_MAPK  p38_pT180_Y182       p53  \\\n",
       "TCGA-3C-AALI  ...  -0.076626  -0.231296 -0.169884        0.040360 -0.043975   \n",
       "TCGA-3C-AALK  ...  -0.219547  -0.340080  0.208381        0.365363 -0.136875   \n",
       "TCGA-4H-AAAK  ...  -0.070647  -0.471717 -0.052702        0.068514 -0.080364   \n",
       "TCGA-5L-AAT1  ...  -0.145362  -0.582255  0.346637        0.289421 -0.225658   \n",
       "TCGA-5T-A9QA  ...   0.076588  -0.325001  0.166015       -1.064492  0.181296   \n",
       "\n",
       "              p62-LCK-ligand    p70S6K  p70S6K_pT389    p90RSK  \\\n",
       "TCGA-3C-AALI        1.293687  0.783984      0.162565 -0.667649   \n",
       "TCGA-3C-AALK        0.680809  0.612644     -0.131174  0.419210   \n",
       "TCGA-4H-AAAK        0.300677  0.819253     -0.520017  0.003252   \n",
       "TCGA-5L-AAT1        0.591818  0.623455     -0.559783  0.510494   \n",
       "TCGA-5T-A9QA       -0.226434  0.842169      0.280629  0.524148   \n",
       "\n",
       "              p90RSK_pT359_S363  \n",
       "TCGA-3C-AALI          -0.102581  \n",
       "TCGA-3C-AALK          -0.118623  \n",
       "TCGA-4H-AAAK          -0.855659  \n",
       "TCGA-5L-AAT1          -0.601296  \n",
       "TCGA-5T-A9QA          -0.500144  \n",
       "\n",
       "[5 rows x 216 columns]"
      ]
     },
     "execution_count": 51,
     "metadata": {},
     "output_type": "execute_result"
    }
   ],
   "source": [
    "proteins = pd.read_csv('dataset_hg19/dataset/proteins.csv', sep=' ')\n",
    "\n",
    "proteins.head()"
   ]
  },
  {
   "cell_type": "markdown",
   "id": "45a17a80",
   "metadata": {},
   "source": [
    "# Import label"
   ]
  },
  {
   "cell_type": "code",
   "execution_count": 52,
   "id": "df21b35d",
   "metadata": {},
   "outputs": [
    {
     "data": {
      "image/png": "[encoded data removed]",
      "text/plain": [
       "<Figure size 432x288 with 1 Axes>"
      ]
     },
     "metadata": {
      "needs_background": "light"
     },
     "output_type": "display_data"
    }
   ],
   "source": [
    "label = pd.read_csv('dataset_hg19/dataset/labels_pfi.csv', sep=' ')\n",
    "\n",
    "label.hist()\n",
    "plt.show()"
   ]
  },
  {
   "cell_type": "markdown",
   "id": "e274c61c",
   "metadata": {},
   "source": [
    "# Check NaN values"
   ]
  },
  {
   "cell_type": "code",
   "execution_count": 53,
   "id": "51c1a851",
   "metadata": {},
   "outputs": [],
   "source": [
    "def checkNaNValues(dataset):\n",
    "    if dataset.isna().sum().sum() == 0:\n",
    "        print(f\"Non sono presenti dati NaN\")\n",
    "    else:\n",
    "        for column in dataset:\n",
    "            if dataset[column].isna().sum() == 0:\n",
    "                print(f\"Nella colonna {column} non sono presenti dati NaN\")\n",
    "            else:\n",
    "                print(f\"Nella colonna {column} sono presenti: {dataset[column].isna().sum()}\")"
   ]
  },
  {
   "cell_type": "code",
   "execution_count": 54,
   "id": "4337086d",
   "metadata": {},
   "outputs": [
    {
     "name": "stdout",
     "output_type": "stream",
     "text": [
      "Non sono presenti dati NaN\n"
     ]
    }
   ],
   "source": [
    "checkNaNValues(cnv)"
   ]
  },
  {
   "cell_type": "code",
   "execution_count": 55,
   "id": "73a22285",
   "metadata": {},
   "outputs": [
    {
     "name": "stdout",
     "output_type": "stream",
     "text": [
      "Non sono presenti dati NaN\n"
     ]
    }
   ],
   "source": [
    "checkNaNValues(mRNA)"
   ]
  },
  {
   "cell_type": "code",
   "execution_count": 56,
   "id": "67da8113",
   "metadata": {},
   "outputs": [
    {
     "name": "stdout",
     "output_type": "stream",
     "text": [
      "Non sono presenti dati NaN\n"
     ]
    }
   ],
   "source": [
    "checkNaNValues(miRNA)"
   ]
  },
  {
   "cell_type": "code",
   "execution_count": 57,
   "id": "95894c0d",
   "metadata": {},
   "outputs": [
    {
     "name": "stdout",
     "output_type": "stream",
     "text": [
      "Non sono presenti dati NaN\n"
     ]
    }
   ],
   "source": [
    "checkNaNValues(proteins)"
   ]
  },
  {
   "cell_type": "markdown",
   "id": "c8f2c29f",
   "metadata": {},
   "source": [
    "# Normalize data"
   ]
  },
  {
   "cell_type": "code",
   "execution_count": 58,
   "id": "291600a4",
   "metadata": {},
   "outputs": [],
   "source": [
    "def dataNormalization(scaler, data):\n",
    "    scl = scaler()\n",
    "    model = scl.fit(data)\n",
    "    scaled_data = model.transform(data)\n",
    "    \n",
    "    return pd.DataFrame(scaled_data, columns=data.columns, index=data.index)"
   ]
  },
  {
   "cell_type": "markdown",
   "id": "24a6043f",
   "metadata": {},
   "source": [
    "# Filter feature with low variability"
   ]
  },
  {
   "cell_type": "code",
   "execution_count": 59,
   "id": "97407b1d",
   "metadata": {},
   "outputs": [],
   "source": [
    "def filter_features_with_low_variability(data, alfa) -> pd.DataFrame:\n",
    "    #Delete columns with standard deviation < alfa (0.10?)\n",
    "    for column in data:\n",
    "        if data[column].std() < alfa:\n",
    "            #print(f'column: {column} has standard deviation < {alfa}, removed')\n",
    "            data.drop(column, axis=1, inplace=True)\n",
    "            \n",
    "    return data"
   ]
  },
  {
   "cell_type": "markdown",
   "id": "70d52afc",
   "metadata": {},
   "source": [
    "# Normalize and filter datasets"
   ]
  },
  {
   "cell_type": "code",
   "execution_count": 60,
   "id": "30bf1785",
   "metadata": {},
   "outputs": [],
   "source": [
    "dataset_dict = {'cnv': cnv, 'miRNA': miRNA, 'mRNA': mRNA, 'proteins': proteins}"
   ]
  },
  {
   "cell_type": "code",
   "execution_count": 61,
   "id": "5d465cd8",
   "metadata": {},
   "outputs": [],
   "source": [
    "def create_data_normalized_filtered(data_dict, scaler, min_variance):\n",
    "    dict_filtered_nornalize = {}\n",
    "    for (key, value) in zip(data_dict, data_dict.values()):\n",
    "        dict_filtered_nornalize[key] = filter_features_with_low_variability(dataNormalization(MinMaxScaler, value), 0.05)\n",
    "    \n",
    "    return dict_filtered_nornalize"
   ]
  },
  {
   "cell_type": "code",
   "execution_count": 62,
   "id": "821defef",
   "metadata": {},
   "outputs": [],
   "source": [
    "filtered_normalize_data = create_data_normalized_filtered(dataset_dict, MinMaxScaler, 0.05)"
   ]
  },
  {
   "cell_type": "code",
   "execution_count": 63,
   "id": "be4a12f4",
   "metadata": {},
   "outputs": [],
   "source": [
    "#TO DO: su ogni dataset, genero i vari holdout e sui dati di training faccio\n",
    "#feature selection e traino usando RandomForest\n",
    "#usando 10 multiple holdout \n",
    "#misura di performance AUPRC, auc interne e poi media fuori \n",
    "\n",
    "#Feature seletion using multivariate (mrmr, maximum relevant minimum redundancy e boruta)\n",
    "#mrmr piu' e' basso piu' la feature non ci interessa, piu' e' alto piu e' informativa"
   ]
  },
  {
   "cell_type": "code",
   "execution_count": 64,
   "id": "6ce64f6e",
   "metadata": {},
   "outputs": [],
   "source": [
    "#UMAP "
   ]
  },
  {
   "cell_type": "code",
   "execution_count": 65,
   "id": "11eabc23",
   "metadata": {},
   "outputs": [
    {
     "data": {
      "text/plain": [
       "x    0.081429\n",
       "dtype: float64"
      ]
     },
     "execution_count": 65,
     "metadata": {},
     "output_type": "execute_result"
    }
   ],
   "source": [
    "#baseline AUPRC\n",
    "len(label)/label[label['x'] == 1].count()/100"
   ]
  },
  {
   "cell_type": "markdown",
   "id": "3842747b",
   "metadata": {},
   "source": [
    "# Univariate feature selection using Kruskal-Wallis e Mann-Whitney"
   ]
  },
  {
   "cell_type": "code",
   "execution_count": 66,
   "id": "5fa82652",
   "metadata": {},
   "outputs": [],
   "source": [
    "def create_dataframe_pos_neg(dataset, label):\n",
    "    return (dataset[label['x']==1], dataset[label['x']==0])"
   ]
  },
  {
   "cell_type": "code",
   "execution_count": 67,
   "id": "e8a6601e",
   "metadata": {},
   "outputs": [],
   "source": [
    "def univariate_features_selection(dataset, label, univariate_tecnique, min_pValue):\n",
    "    pos, neg = create_dataframe_pos_neg(dataset, label)\n",
    "    H, pval = univariate_tecnique(pos, neg)\n",
    "    mask = (pval < min_pValue)\n",
    "    return dataset.columns[mask]"
   ]
  },
  {
   "cell_type": "markdown",
   "id": "118fee41",
   "metadata": {},
   "source": [
    "# Multivariate feature selection, mrmr and Boruta"
   ]
  },
  {
   "cell_type": "code",
   "execution_count": 68,
   "id": "f00975df",
   "metadata": {},
   "outputs": [],
   "source": [
    "def dataset_mrmr(dataset, n_feature):\n",
    "    return dataset[mRMR(dataset, 'MIQ', n_feature)]"
   ]
  },
  {
   "cell_type": "code",
   "execution_count": 69,
   "id": "4b7944c1",
   "metadata": {},
   "outputs": [],
   "source": [
    "def execute_boruta_feature_selection(\n",
    "    X_train: pd.DataFrame,\n",
    "    y_train: np.ndarray,\n",
    "    holdout_number: int,\n",
    "    max_iter: int = 100,\n",
    "):\n",
    "    \"\"\"Returns tuple with list of kept features and list of discared features.\n",
    "    \n",
    "    Parameters\n",
    "    --------------------------\n",
    "    X_train: pd.DataFrame,\n",
    "        The data reserved for the input of the training of the Boruta model.\n",
    "    y_train: np.ndarray,\n",
    "        The data reserved for the output of the training of the Boruta model.\n",
    "    holdout_number: int,\n",
    "        The current holdout number.\n",
    "    max_iter: int = 100,\n",
    "        Number of iterations to run Boruta for.\n",
    "    \"\"\"\n",
    "\n",
    "    model = RandomForestClassifier(n_jobs=-1, class_weight='balanced_subsample', max_depth=5)\n",
    "    \n",
    "    boruta_selector = BorutaPy(\n",
    "        model,\n",
    "        n_estimators='auto',\n",
    "        verbose=False,\n",
    "        alpha=0.05,\n",
    "        max_iter=max_iter, \n",
    "        random_state=42,\n",
    "    )\n",
    "    boruta_selector.fit(X_train.values, y_train.values.ravel())\n",
    "    \n",
    "    kept_features = list(X_train.columns[boruta_selector.support_])\n",
    "    discarded_features = list(X_train.columns[~boruta_selector.support_])\n",
    "    \n",
    "    return kept_features, discarded_features"
   ]
  },
  {
   "cell_type": "code",
   "execution_count": 70,
   "id": "4bf87c36",
   "metadata": {},
   "outputs": [],
   "source": [
    "#kept, discarded = execute_boruta_feature_selection(filtered_normalize_data['cnv'], label, 3)"
   ]
  },
  {
   "cell_type": "code",
   "execution_count": 71,
   "id": "fa331f77",
   "metadata": {},
   "outputs": [],
   "source": [
    "#filtered_normalize_data['proteins'][kept]"
   ]
  },
  {
   "cell_type": "markdown",
   "id": "0b8a7eb3",
   "metadata": {},
   "source": [
    "# Train"
   ]
  },
  {
   "cell_type": "code",
   "execution_count": 72,
   "id": "0a7515b8",
   "metadata": {},
   "outputs": [
    {
     "data": {
      "text/plain": [
       "'Because PR curves don’t use true negatives anywhere, the AUPRC won’t be “swamped” by a large proportion of true negatives in the data. You can use AUPRC on a dataset with 98% negative/2% positive examples, and it will “focus” on how the model handles the 2% positive examples. If the model handles the positive examples well, AUPRC will be high. If the model does poorly on the positive examples, AUPRC will be low. \\nIronically, AUPRC can often be most useful when its baseline is lowest, because there are many datasets with large numbers of true negatives in which the goal is to handle the small fraction of positives as best as possible.'"
      ]
     },
     "execution_count": 72,
     "metadata": {},
     "output_type": "execute_result"
    }
   ],
   "source": [
    "\"\"\"Because PR curves don’t use true negatives anywhere, the AUPRC won’t be “swamped” by a large proportion of true negatives in the data. You can use AUPRC on a dataset with 98% negative/2% positive examples, and it will “focus” on how the model handles the 2% positive examples. If the model handles the positive examples well, AUPRC will be high. If the model does poorly on the positive examples, AUPRC will be low. \n",
    "Ironically, AUPRC can often be most useful when its baseline is lowest, because there are many datasets with large numbers of true negatives in which the goal is to handle the small fraction of positives as best as possible.\"\"\""
   ]
  },
  {
   "cell_type": "code",
   "execution_count": 73,
   "id": "3ec76efd",
   "metadata": {},
   "outputs": [
    {
     "data": {
      "text/plain": [
       "x    0.081429\n",
       "dtype: float64"
      ]
     },
     "execution_count": 73,
     "metadata": {},
     "output_type": "execute_result"
    }
   ],
   "source": [
    "#baseline AUPRC\n",
    "#positivi / tot \n",
    "len(label)/label[label['x'] == 1].count()/100"
   ]
  },
  {
   "cell_type": "code",
   "execution_count": 87,
   "id": "afd31355",
   "metadata": {},
   "outputs": [],
   "source": [
    "def train_model(dataset, label, num_extenal_fold, type_feature_selection, min_pValue:None, use_umap=False):\n",
    "    \n",
    "    \"\"\"Return AUPRC score after training.\n",
    "    \n",
    "    Parameters\n",
    "    --------------------------\n",
    "    dataset: string,\n",
    "        The data reserved for the input of the training.\n",
    "    label: pd.DataFrame,\n",
    "        The data reserved for the output of the training.\n",
    "    num_external_fold: int,\n",
    "        The current holdout number.\n",
    "    type_feature_selection: string,\n",
    "        Type of feature selection: ['kruskal', 'mrmr', 'mannwhitneyu', 'boruta']\n",
    "    min_pValue: int,\n",
    "        Minimum value of p_value. Valid if type_feature_selection == 'kruskal' or 'mannwhitneyu',\n",
    "    use_umap: bool,\n",
    "        Specified to use or not use UMAP for feature extraction after univariate feature selection (kruskal, mannwhitneyu)\n",
    "    \"\"\"\n",
    "    \n",
    "    aucs =[]\n",
    "    dataset = filtered_normalize_data[dataset]\n",
    "    \n",
    "    #to numpy\n",
    "    X_numpy = dataset.to_numpy()\n",
    "    y_numpy = label['x'].to_numpy()\n",
    "    \n",
    "    external_fold = StratifiedKFold(n_splits=num_extenal_fold, shuffle=True, random_state=1)\n",
    "    \n",
    "    for train_index, test_index in external_fold.split(X_numpy, label):\n",
    "        \n",
    "        X_train_fold, X_test_fold = X_numpy[train_index], X_numpy[test_index]\n",
    "        y_train_fold, y_test_fold = y_numpy[train_index], y_numpy[test_index]\n",
    "        \n",
    "        df_X_train = pd.DataFrame(data=X_train_fold, columns=dataset.columns)\n",
    "        df_X_test = pd.DataFrame(data=X_test_fold, columns=dataset.columns)\n",
    "        df_y_train = pd.DataFrame(data=y_train_fold, columns=label.columns)\n",
    "        \n",
    "        #feature selection\n",
    "        if type_feature_selection == 'kruskal':\n",
    "            selected_features = univariate_features_selection(df_X_train, df_y_train, kruskal, min_pValue)\n",
    "            #if use_umap:\n",
    "                #X_train_feature_extraction = UMAP(n_neighbors=100, n_components=3, random_state=42).fit_transform(X_train_fold, y_train_fold)\n",
    "                #X_test_feature_extraction = UMAP\n",
    "        elif type_feature_selection == 'mannwhitneyu':\n",
    "            selected_features = univariate_features_selection(df_X_train, df_y_train, mannwhitneyu, min_pValue)\n",
    "        elif type_feature_selection == \"mrmr\":\n",
    "            selected_features = mRMR(df_X_train, 'MIQ', 100)\n",
    "        elif type_feature_selection == 'boruta':\n",
    "            selected_features, discarded_feature =  execute_boruta_feature_selection(df_X_train, df_y_train, 5)\n",
    "        else:\n",
    "            return \"Invalid type of feature selection\"\n",
    "        \n",
    "        if len(selected_features) == 0:\n",
    "            return 'features selection is empty'\n",
    "        \n",
    "        X_train_selected_feature = df_X_train[selected_features]\n",
    "        X_test_selected_feature = df_X_test[selected_features]\n",
    "\n",
    "        #clf = GridSearchCV(estimator=RandomForestClassifier(),\n",
    "        #                   scoring=scoring,\n",
    "        #                   param_grid=model_selection_grid, \n",
    "        #                   cv=2, \n",
    "        #                   n_jobs=-1)\n",
    "        #clf.fit(X_train_selected_feature, y_train_fold)\n",
    "\n",
    "        #auc = clf.best_estimator_.score(X_test_selected_feature, y_test_fold)\n",
    "        #print('auc: {:.3f} using params {}:'.format(auc, clf.best_params_))\n",
    "        \n",
    "        # Create classifier using logistic regression\n",
    "        Random_Forest = RandomForestClassifier(random_state=1)\n",
    "        Random_Forest.fit(X_train_selected_feature, y_train_fold)\n",
    "        \n",
    "        # Get the predicited probability of testing data\n",
    "        #CHIEDERE\n",
    "        y_score = Random_Forest.predict_proba(X_test_selected_feature)[:, 1]\n",
    "        \n",
    "        #calculate precision and recall\n",
    "        precision, recall, thresholds = precision_recall_curve(y_test_fold, y_score)\n",
    "\n",
    "        #plot_precision_recall_curve(classifier, X_test_selected_feature, y_test_fold)\n",
    "        \n",
    "        #plot precision recall curve\n",
    "        PrecisionRecallDisplay.from_predictions(y_test_fold, y_score)\n",
    "        \n",
    "        plt.title('Random_Forest')\n",
    "        plt.show()\n",
    "        \n",
    "        # Use AUC function to calculate the area under the curve of precision recall curve\n",
    "        auc_precision_recall = auc(recall, precision)\n",
    "        \n",
    "        aucs.append(auc_precision_recall)\n",
    "    \n",
    "    return np.mean(aucs)"
   ]
  },
  {
   "cell_type": "code",
   "execution_count": 88,
   "id": "7e9a0f9b",
   "metadata": {},
   "outputs": [
    {
     "data": {
      "image/png": "[encoded data removed]",
      "text/plain": [
       "<Figure size 432x288 with 1 Axes>"
      ]
     },
     "metadata": {
      "needs_background": "light"
     },
     "output_type": "display_data"
    },
    {
     "data": {
      "image/png": "[encoded data removed]",
      "text/plain": [
       "<Figure size 432x288 with 1 Axes>"
      ]
     },
     "metadata": {
      "needs_background": "light"
     },
     "output_type": "display_data"
    },
    {
     "data": {
      "image/png": "[encoded data removed]",
      "text/plain": [
       "<Figure size 432x288 with 1 Axes>"
      ]
     },
     "metadata": {
      "needs_background": "light"
     },
     "output_type": "display_data"
    },
    {
     "data": {
      "image/png": "[encoded data removed]",
      "text/plain": [
       "<Figure size 432x288 with 1 Axes>"
      ]
     },
     "metadata": {
      "needs_background": "light"
     },
     "output_type": "display_data"
    },
    {
     "data": {
      "image/png": "[encoded data removed]",
      "text/plain": [
       "<Figure size 432x288 with 1 Axes>"
      ]
     },
     "metadata": {
      "needs_background": "light"
     },
     "output_type": "display_data"
    },
    {
     "data": {
      "image/png": "[encoded data removed]",
      "text/plain": [
       "<Figure size 432x288 with 1 Axes>"
      ]
     },
     "metadata": {
      "needs_background": "light"
     },
     "output_type": "display_data"
    },
    {
     "data": {
      "image/png": "[encoded data removed]",
      "text/plain": [
       "<Figure size 432x288 with 1 Axes>"
      ]
     },
     "metadata": {
      "needs_background": "light"
     },
     "output_type": "display_data"
    },
    {
     "data": {
      "image/png": "[encoded data removed]",
      "text/plain": [
       "<Figure size 432x288 with 1 Axes>"
      ]
     },
     "metadata": {
      "needs_background": "light"
     },
     "output_type": "display_data"
    },
    {
     "data": {
      "image/png": "[encoded data removed]",
      "text/plain": [
       "<Figure size 432x288 with 1 Axes>"
      ]
     },
     "metadata": {
      "needs_background": "light"
     },
     "output_type": "display_data"
    },
    {
     "data": {
      "image/png": "[encoded data removed]",
      "text/plain": [
       "<Figure size 432x288 with 1 Axes>"
      ]
     },
     "metadata": {
      "needs_background": "light"
     },
     "output_type": "display_data"
    },
    {
     "data": {
      "text/plain": [
       "0.17243107954748677"
      ]
     },
     "execution_count": 88,
     "metadata": {},
     "output_type": "execute_result"
    }
   ],
   "source": [
    "train_model('proteins', label, 10, 'kruskal', 0.05)"
   ]
  },
  {
   "cell_type": "code",
   "execution_count": 81,
   "id": "60c526d4",
   "metadata": {},
   "outputs": [
    {
     "data": {
      "text/plain": [
       "array([[10.313286 , 10.223786 ,  7.8080535, ...,  7.5300894,  4.2715178,\n",
       "         2.4155185],\n",
       "       [ 9.944867 , 10.0967245,  8.650063 , ...,  7.8444943,  3.0596218,\n",
       "         2.5452552],\n",
       "       [ 9.498    , 10.230697 ,  9.341524 , ...,  7.617655 ,  2.2524335,\n",
       "         2.5189798],\n",
       "       ...,\n",
       "       [ 9.598441 , 10.2636795,  9.201344 , ...,  7.6791606,  2.329901 ,\n",
       "         2.6169906],\n",
       "       [ 9.714019 , 10.211455 ,  9.03598  , ...,  7.7394905,  2.5626872,\n",
       "         2.574338 ],\n",
       "       [ 9.469405 , 10.35542  ,  9.293386 , ...,  7.5933566,  2.1084154,\n",
       "         2.6493213]], dtype=float32)"
      ]
     },
     "execution_count": 81,
     "metadata": {},
     "output_type": "execute_result"
    }
   ],
   "source": [
    "reducer = umap.UMAP(n_neighbors=5, n_components=10, random_state=42).fit_transform(filtered_normalize_data['proteins'].values, label.values)\n",
    "\n",
    "reducer"
   ]
  },
  {
   "cell_type": "code",
   "execution_count": 82,
   "id": "4f165251",
   "metadata": {},
   "outputs": [
    {
     "data": {
      "text/plain": [
       "array([[5.7679777, 7.838053 , 7.2582154, ..., 5.7444777, 3.488763 ,\n",
       "        3.8682923],\n",
       "       [3.9723787, 6.665053 , 5.820744 , ..., 5.987305 , 3.9170825,\n",
       "        3.0436273],\n",
       "       [2.9728618, 6.090689 , 5.601774 , ..., 5.892293 , 4.0220466,\n",
       "        2.7315726],\n",
       "       ...,\n",
       "       [2.9205205, 6.2987576, 5.7281647, ..., 6.0860834, 3.9682004,\n",
       "        2.7180777],\n",
       "       [3.1174932, 6.3905745, 5.8547864, ..., 6.172028 , 3.957164 ,\n",
       "        2.7330163],\n",
       "       [2.722917 , 6.2018604, 5.542305 , ..., 5.975399 , 3.9425972,\n",
       "        2.740765 ]], dtype=float32)"
      ]
     },
     "execution_count": 82,
     "metadata": {},
     "output_type": "execute_result"
    }
   ],
   "source": [
    "reducer = umap.UMAP(n_neighbors=5, n_components=10, random_state=42).fit_transform(filtered_normalize_data['proteins'].values)\n",
    "\n",
    "reducer"
   ]
  },
  {
   "cell_type": "code",
   "execution_count": null,
   "id": "12c0ac3b",
   "metadata": {},
   "outputs": [],
   "source": [
    "def trainAllDataset(listaDataset, \n",
    "                    label, \n",
    "                    num_extenal_fold, \n",
    "                    mrmrK, \n",
    "                    scaler, \n",
    "                    minimumVariance, \n",
    "                    model_selection_grid,\n",
    "                    scoring):\n",
    "    roc_aucList =[]\n",
    "    for dataset in listaDataset:\n",
    "        roc_aucList.append(train_model(dataset, label, num_extenal_fold, mrmrK, scaler, minimumVariance, \n",
    "                          model_selection_grid,\n",
    "                          scoring ))\n",
    "    return np.mean(roc_aucList)"
   ]
  },
  {
   "cell_type": "code",
   "execution_count": null,
   "id": "cbf2fa0e",
   "metadata": {},
   "outputs": [],
   "source": [
    "model_selection_grid_DT = [\n",
    "    {},\n",
    "    #{'criterion': ['gini', 'entropy'],\n",
    "     #'max_leaf_nodes': [None, 2, 5, 10, 50, 100],\n",
    "      #                  'max_features': [None, 'sqrt', 'log2'],\n",
    "       #                 'max_depth': [None, 2, 5, 10]}\n",
    "]"
   ]
  },
  {
   "cell_type": "code",
   "execution_count": 64,
   "id": "e28aedc6",
   "metadata": {},
   "outputs": [],
   "source": [
    "def addResultJsonFile(result_dict, file_name, dataset, type_feature_selection):\n",
    "    \n",
    "    if type_feature_selection not in result_dict:\n",
    "        if os.path.exists(file_name):\n",
    "            with open(file_name, 'r') as fp:\n",
    "                saved_dict = json.load(fp)\n",
    "                if type_feature_selection in saved_dict:\n",
    "                    print('Già presente')\n",
    "                    result_dict[type_feature_selection] = saved_dict[type_feature_selection]\n",
    "                else:\n",
    "                    print('Inizio a calcolare')\n",
    "                    result_dict[type_feature_selection] = train_model(dataset, label, 10, type_feature_selection, 0.05)\n",
    "                    with open(file_name, 'w', encoding='utf-8') as fp:\n",
    "                        json.dump(result_dict, fp, ensure_ascii=False, indent=4)\n",
    "        else:\n",
    "            result_dict[type_feature_selection] = train_model(dataset, label, 10, type_feature_selection, 0.05)\n",
    "            with open(file_name, 'w', encoding='utf-8') as fp:\n",
    "                json.dump(result_dict, fp, ensure_ascii=False, indent=4)"
   ]
  },
  {
   "cell_type": "code",
   "execution_count": 65,
   "id": "0b1c23dd",
   "metadata": {},
   "outputs": [],
   "source": [
    "proteins_dict = {}\n",
    "cnv_dict = {}\n",
    "miRNA_dict = {}\n",
    "mRNA_dict = {}\n",
    "\n",
    "datasets_dict = [proteins_dict, cnv_dict, miRNA_dict, mRNA_dict]\n",
    "names_file = ['protein.json', 'cnv.json', 'miRNA.json', 'mRNA.json']\n",
    "dataset_list = ['proteins', 'cnv', 'miRNA', 'mRNA']\n",
    "type_feature_selection = ['kruskal', 'mannwhitneyu', 'boruta', 'mrmr']"
   ]
  },
  {
   "cell_type": "code",
   "execution_count": null,
   "id": "0cdd0ab5",
   "metadata": {},
   "outputs": [],
   "source": [
    "def create_all_json(datasets_dict, columns_name, names_file, dataset_list):\n",
    "    for (dataset_dict, name_file, dataset) in zip(datasets_dict, names_file, dataset_list):\n",
    "        print(f'Start {name_file}')\n",
    "        for type_feature_selection in columns_name:\n",
    "            print(f'Start {type_feature_selection}')\n",
    "            addResultJsonFile(dataset_dict, name_file, dataset, type_feature_selection)"
   ]
  },
  {
   "cell_type": "markdown",
   "id": "ddb708c7",
   "metadata": {},
   "source": [
    "# miRNA and mRNA with kruskal = 'All numbers are identical in kruskal'"
   ]
  },
  {
   "cell_type": "code",
   "execution_count": null,
   "id": "58817823",
   "metadata": {},
   "outputs": [
    {
     "name": "stdout",
     "output_type": "stream",
     "text": [
      "Inizio a calcolare\n"
     ]
    }
   ],
   "source": [
    "addResultJsonFile(miRNA_dict, 'mRNA.json', 'mRNA', 'mannwhitneyu')\n",
    "addResultJsonFile(miRNA_dict, 'mRNA.json', 'mRNA', 'mrmr')\n",
    "addResultJsonFile(miRNA_dict, 'mRNA.json', 'mRNA', 'boruta')\n",
    "#addResultJsonFile(miRNA_dict, 'miRNA.json', filtered_normalize_data['miRNA'], 'mrmr')\n",
    "#addResultJsonFile(miRNA_dict, 'miRNA.json', filtered_normalize_data['miRNA'], 'kruskal')"
   ]
  },
  {
   "cell_type": "code",
   "execution_count": null,
   "id": "ac0e0bc2",
   "metadata": {},
   "outputs": [],
   "source": [
    "#for type_selection in type_feature_selection:\n",
    "#    if type_selection != 'kruskal'    if type_selection != 'kruskal'#:\n",
    "#        addResultJsonFile(miRNA_dict, 'miRNA.json', filtered_normalize_data['miRNA'], type_selection)"
   ]
  },
  {
   "cell_type": "code",
   "execution_count": null,
   "id": "f345ff74",
   "metadata": {},
   "outputs": [],
   "source": [
    "#create_all_json(datasets_dict, type_feature_selection, names_file, dataset_list)"
   ]
  },
  {
   "cell_type": "code",
   "execution_count": null,
   "id": "374e5483",
   "metadata": {},
   "outputs": [],
   "source": []
  },
  {
   "cell_type": "code",
   "execution_count": null,
   "id": "e3af5d62",
   "metadata": {},
   "outputs": [],
   "source": []
  },
  {
   "cell_type": "code",
   "execution_count": null,
   "id": "b32708d8",
   "metadata": {},
   "outputs": [],
   "source": []
  }
 ],
 "metadata": {
  "kernelspec": {
   "display_name": "Python 3 (ipykernel)",
   "language": "python",
   "name": "python3"
  },
  "language_info": {
   "codemirror_mode": {
    "name": "ipython",
    "version": 3
   },
   "file_extension": ".py",
   "mimetype": "text/x-python",
   "name": "python",
   "nbconvert_exporter": "python",
   "pygments_lexer": "ipython3",
   "version": "3.10.6"
  }
 },
 "nbformat": 4,
 "nbformat_minor": 5
}

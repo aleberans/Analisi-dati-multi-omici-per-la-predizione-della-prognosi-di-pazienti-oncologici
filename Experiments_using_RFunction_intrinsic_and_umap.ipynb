{
 "cells": [
  {
   "cell_type": "code",
   "execution_count": 65,
   "id": "22da371c",
   "metadata": {},
   "outputs": [],
   "source": [
    "import pandas as pd\n",
    "import matplotlib.pyplot as plt\n",
    "import rpy2.robjects as robjects\n",
    "from sklearn.preprocessing import MinMaxScaler\n",
    "from rpy2.robjects.packages import importr\n",
    "from rpy2.robjects import pandas2ri\n",
    "from rpy2.robjects.conversion import localconverter\n",
    "import skdim\n",
    "import os.path\n",
    "from boruta import BorutaPy\n",
    "from sklearn.ensemble import RandomForestClassifier\n",
    "from sklearn.metrics import auc, precision_recall_curve, average_precision_score, PrecisionRecallDisplay\n",
    "import umap.umap_ as umap\n",
    "from tqdm import tqdm\n",
    "import json\n",
    "import numpy as np\n",
    "import math\n",
    "from scipy.stats import mannwhitneyu\n",
    "from json import JSONEncoder\n",
    "from sklearn.model_selection import StratifiedKFold, GridSearchCV"
   ]
  },
  {
   "cell_type": "code",
   "execution_count": 2,
   "id": "7e76abd8",
   "metadata": {},
   "outputs": [],
   "source": [
    "#TO DO\n",
    "# concatenare per bene\n",
    "# usare https://scikit-dimension.readthedocs.io/en/latest/skdim.id.TwoNN.html#skdim.id.TwoNN \n",
    "# per stimare dimensionalita instrinseche\n",
    "# poi umap per arrivare a quella dimensionalita' oppure rpca per arrivare a dimensionalita' intrinseca\n"
   ]
  },
  {
   "cell_type": "markdown",
   "id": "309280f8",
   "metadata": {},
   "source": [
    "# Import data"
   ]
  },
  {
   "cell_type": "code",
   "execution_count": 3,
   "id": "f9eb11e6",
   "metadata": {},
   "outputs": [],
   "source": [
    "# import data from csv \n",
    "cnv = pd.read_csv('dataset_hg19/dataset/cnv.csv', sep=' ')"
   ]
  },
  {
   "cell_type": "code",
   "execution_count": 4,
   "id": "78e67514",
   "metadata": {},
   "outputs": [],
   "source": [
    "miRNA = pd.read_csv('dataset_hg19/dataset/mirna.csv', sep=' ')"
   ]
  },
  {
   "cell_type": "code",
   "execution_count": 5,
   "id": "ae9b411f",
   "metadata": {},
   "outputs": [],
   "source": [
    "mRNA = pd.read_csv('dataset_hg19/dataset/mrna.csv', sep=' ')"
   ]
  },
  {
   "cell_type": "code",
   "execution_count": 6,
   "id": "6d2a1e71",
   "metadata": {},
   "outputs": [],
   "source": [
    "proteins = pd.read_csv('dataset_hg19/dataset/proteins.csv', sep=' ')"
   ]
  },
  {
   "cell_type": "markdown",
   "id": "fe725e2b",
   "metadata": {},
   "source": [
    "# Import label"
   ]
  },
  {
   "cell_type": "code",
   "execution_count": 7,
   "id": "18d7db91",
   "metadata": {},
   "outputs": [],
   "source": [
    "label = pd.read_csv('dataset_hg19/dataset/labels_pfi.csv', sep=' ')"
   ]
  },
  {
   "cell_type": "markdown",
   "id": "1660c8fb",
   "metadata": {},
   "source": [
    "# Normalize data"
   ]
  },
  {
   "cell_type": "code",
   "execution_count": 8,
   "id": "93c3ec34",
   "metadata": {},
   "outputs": [],
   "source": [
    "def dataNormalization(scaler, data):\n",
    "    scl = scaler()\n",
    "    model = scl.fit(data)\n",
    "    scaled_data = model.transform(data)\n",
    "    \n",
    "    return pd.DataFrame(scaled_data, columns=data.columns, index=data.index)"
   ]
  },
  {
   "cell_type": "markdown",
   "id": "63a67b6f",
   "metadata": {},
   "source": [
    "# Filter feature with low variability"
   ]
  },
  {
   "cell_type": "code",
   "execution_count": 9,
   "id": "b9283972",
   "metadata": {},
   "outputs": [],
   "source": [
    "def filter_features_with_low_variability(data, alfa) -> pd.DataFrame:\n",
    "    #Delete columns with standard deviation < alfa (0.10?)\n",
    "    for column in data:\n",
    "        if data[column].std() < alfa:\n",
    "            #print(f'column: {column} has standard deviation < {alfa}, removed')\n",
    "            data.drop(column, axis=1, inplace=True)\n",
    "            \n",
    "    return data"
   ]
  },
  {
   "cell_type": "markdown",
   "id": "ee781ecd",
   "metadata": {},
   "source": [
    "# Normalize and filter datasets"
   ]
  },
  {
   "cell_type": "code",
   "execution_count": 10,
   "id": "1ab9e53e",
   "metadata": {},
   "outputs": [],
   "source": [
    "dataset_dict = {'cnv': cnv, 'miRNA': miRNA, 'mRNA': mRNA, 'proteins': proteins}"
   ]
  },
  {
   "cell_type": "code",
   "execution_count": 11,
   "id": "abb6a098",
   "metadata": {},
   "outputs": [],
   "source": [
    "def create_data_normalized_filtered(data_dict, scaler, min_variance):\n",
    "    dict_filtered_nornalize = {}\n",
    "    for (key, value) in zip(data_dict, data_dict.values()):\n",
    "        if key != 'cnv':\n",
    "            dict_filtered_nornalize[key] = filter_features_with_low_variability(dataNormalization(MinMaxScaler, value), 0.05)\n",
    "        else:\n",
    "            dict_filtered_nornalize[key] = value\n",
    "    return dict_filtered_nornalize"
   ]
  },
  {
   "cell_type": "markdown",
   "id": "264ea015",
   "metadata": {},
   "source": [
    "# Store and retrieve data normalize and filtered"
   ]
  },
  {
   "cell_type": "code",
   "execution_count": 12,
   "id": "efc59a15",
   "metadata": {},
   "outputs": [],
   "source": [
    "def mkdir_p(path):\n",
    "    try:\n",
    "        os.makedirs(path)\n",
    "    except OSError as exc: # Python >2.5\n",
    "        if exc.errno == errno.EEXIST and os.path.isdir(path):\n",
    "            pass\n",
    "        else: raise"
   ]
  },
  {
   "cell_type": "code",
   "execution_count": 13,
   "id": "f022dbd7",
   "metadata": {},
   "outputs": [],
   "source": [
    "def store_filtered_normalize_data(dataset_dict):\n",
    "    mkdir_p('filtered_normalize_data')\n",
    "    filtered_normalize_data = create_data_normalized_filtered(dataset_dict, MinMaxScaler, 0.05)\n",
    "    for data in dataset_dict:\n",
    "        filtered_normalize_data[data].to_json('filtered_normalize_data/'+data+'.json')"
   ]
  },
  {
   "cell_type": "code",
   "execution_count": 14,
   "id": "d00ffe79",
   "metadata": {},
   "outputs": [],
   "source": [
    "def load_filtered_normalize_data(dataset_dict):\n",
    "    dict_test = {}\n",
    "    if os.path.exists('filtered_normalize_data'):\n",
    "        for data in dataset_dict:\n",
    "            with open('filtered_normalize_data/'+data+'.json', 'r') as fp:\n",
    "                dataset = pd.read_json(fp)\n",
    "                dict_test[data] = dataset\n",
    "        return dict_test\n",
    "    else:\n",
    "        store_filtered_normalize_data(dataset_dict)\n",
    "        load_filtered_normalize_data(dataset_dict)"
   ]
  },
  {
   "cell_type": "code",
   "execution_count": 15,
   "id": "f27c57ad",
   "metadata": {},
   "outputs": [],
   "source": [
    "dataset_dict = {'cnv': cnv, 'miRNA': miRNA, 'mRNA': mRNA, 'proteins': proteins}\n",
    "\n",
    "datasets = load_filtered_normalize_data(dataset_dict)"
   ]
  },
  {
   "cell_type": "code",
   "execution_count": 16,
   "id": "5d9d73a6",
   "metadata": {},
   "outputs": [
    {
     "name": "stdout",
     "output_type": "stream",
     "text": [
      "DATI CARICATI CON SUCCESSO\n"
     ]
    }
   ],
   "source": [
    "print('DATI CARICATI CON SUCCESSO')"
   ]
  },
  {
   "cell_type": "markdown",
   "id": "b17e601a",
   "metadata": {},
   "source": [
    "# Create concatenation of all dataset"
   ]
  },
  {
   "cell_type": "code",
   "execution_count": 17,
   "id": "577fc311",
   "metadata": {},
   "outputs": [],
   "source": [
    "dataset_concat = pd.concat([datasets['cnv'], datasets['proteins'], datasets['mRNA'], datasets['miRNA']], axis=1)"
   ]
  },
  {
   "cell_type": "code",
   "execution_count": 18,
   "id": "7dec6ffe",
   "metadata": {},
   "outputs": [],
   "source": [
    "datasets['concat'] = dataset_concat"
   ]
  },
  {
   "cell_type": "markdown",
   "id": "b9768024",
   "metadata": {},
   "source": [
    "# Remove correlated feature using R code"
   ]
  },
  {
   "cell_type": "code",
   "execution_count": 19,
   "id": "ef88e05d",
   "metadata": {},
   "outputs": [
    {
     "name": "stderr",
     "output_type": "stream",
     "text": [
      "R[write to console]: Installazione pacchetto in ‘/usr/local/lib/R/site-library’\n",
      "(perché ‘lib’ non è specificato)\n",
      "\n",
      "R[write to console]: apertura URL 'https://cloud.r-project.org/src/contrib/caret_6.0-93.tar.gz'\n",
      "\n",
      "R[write to console]: Content type 'application/x-gzip'\n",
      "R[write to console]:  length 2273775 bytes (2.2 MB)\n",
      "\n",
      "R[write to console]: =\n",
      "R[write to console]: =\n",
      "R[write to console]: =\n",
      "R[write to console]: =\n",
      "R[write to console]: =\n",
      "R[write to console]: =\n",
      "R[write to console]: =\n",
      "R[write to console]: =\n",
      "R[write to console]: =\n",
      "R[write to console]: =\n",
      "R[write to console]: =\n",
      "R[write to console]: =\n",
      "R[write to console]: =\n",
      "R[write to console]: =\n",
      "R[write to console]: =\n",
      "R[write to console]: =\n",
      "R[write to console]: =\n",
      "R[write to console]: =\n",
      "R[write to console]: =\n",
      "R[write to console]: =\n",
      "R[write to console]: =\n",
      "R[write to console]: =\n",
      "R[write to console]: =\n",
      "R[write to console]: =\n",
      "R[write to console]: =\n",
      "R[write to console]: =\n",
      "R[write to console]: =\n",
      "R[write to console]: =\n",
      "R[write to console]: =\n",
      "R[write to console]: =\n",
      "R[write to console]: =\n",
      "R[write to console]: =\n",
      "R[write to console]: =\n",
      "R[write to console]: =\n",
      "R[write to console]: =\n",
      "R[write to console]: =\n",
      "R[write to console]: =\n",
      "R[write to console]: =\n",
      "R[write to console]: =\n",
      "R[write to console]: =\n",
      "R[write to console]: =\n",
      "R[write to console]: =\n",
      "R[write to console]: =\n",
      "R[write to console]: =\n",
      "R[write to console]: =\n",
      "R[write to console]: =\n",
      "R[write to console]: =\n",
      "R[write to console]: =\n",
      "R[write to console]: =\n",
      "R[write to console]: =\n",
      "R[write to console]: \n",
      "\n",
      "R[write to console]: downloaded 2.2 MB\n",
      "\n",
      "\n",
      "* installing *source* package ‘caret’ ...\n",
      "** pacchetto ‘caret’ aperto con successo con controllo somme MD5\n",
      "** using staged installation\n",
      "** libs\n"
     ]
    },
    {
     "name": "stdout",
     "output_type": "stream",
     "text": [
      "gcc -I\"/usr/share/R/include\" -DNDEBUG      -fpic  -g -O2 -ffile-prefix-map=/build/r-base-Faorqz/r-base-4.2.2.20221110=. -fstack-protector-strong -Wformat -Werror=format-security -Wdate-time -D_FORTIFY_SOURCE=2  -c caret.c -o caret.o\n",
      "gcc -shared -L/usr/lib/R/lib -Wl,-Bsymbolic-functions -flto=auto -ffat-lto-objects -flto=auto -Wl,-z,relro -o caret.so caret.o -L/usr/lib/R/lib -lR\n"
     ]
    },
    {
     "name": "stderr",
     "output_type": "stream",
     "text": [
      "installing to /usr/local/lib/R/site-library/00LOCK-caret/00new/caret/libs\n",
      "** R\n",
      "** data\n",
      "** inst\n",
      "** byte-compile and prepare package for lazy loading\n",
      "** help\n",
      "*** installing help indices\n",
      "** building package indices\n",
      "** installing vignettes\n",
      "** testing if installed package can be loaded from temporary location\n",
      "** checking absolute paths in shared objects and dynamic libraries\n",
      "** testing if installed package can be loaded from final location\n",
      "** testing if installed package keeps a record of temporary installation path\n",
      "* DONE (caret)\n",
      "R[write to console]: \n",
      "\n",
      "R[write to console]: \n",
      "R[write to console]: I pacchetti scaricati con il codice sorgente sono in\n",
      "\t‘/tmp/RtmpplghE9/downloaded_packages’\n",
      "R[write to console]: \n",
      "R[write to console]: \n",
      "\n"
     ]
    },
    {
     "data": {
      "text/plain": [
       "<rpy2.rinterface.NULLType object at 0x7f02cec3fdc0> [RTYPES.NILSXP]"
      ]
     },
     "execution_count": 19,
     "metadata": {},
     "output_type": "execute_result"
    }
   ],
   "source": [
    "robjects.r(\"\"\"\n",
    "install.packages('caret')\n",
    "\"\"\")"
   ]
  },
  {
   "cell_type": "code",
   "execution_count": 20,
   "id": "dca9c720",
   "metadata": {},
   "outputs": [
    {
     "name": "stderr",
     "output_type": "stream",
     "text": [
      "R[write to console]: Caricamento del pacchetto richiesto: foreach\n",
      "\n",
      "R[write to console]: Caricamento del pacchetto richiesto: iterators\n",
      "\n",
      "R[write to console]: Caricamento del pacchetto richiesto: parallel\n",
      "\n"
     ]
    },
    {
     "data": {
      "text/html": [
       "\n",
       "        <span>StrVector with 12 elements.</span>\n",
       "        <table>\n",
       "        <tbody>\n",
       "          <tr>\n",
       "          \n",
       "            <td>\n",
       "            'doParall...\n",
       "            </td>\n",
       "          \n",
       "            <td>\n",
       "            'parallel'\n",
       "            </td>\n",
       "          \n",
       "            <td>\n",
       "            'iterators'\n",
       "            </td>\n",
       "          \n",
       "            <td>\n",
       "            ...\n",
       "            </td>\n",
       "          \n",
       "            <td>\n",
       "            'datasets'\n",
       "            </td>\n",
       "          \n",
       "            <td>\n",
       "            'methods'\n",
       "            </td>\n",
       "          \n",
       "            <td>\n",
       "            'base'\n",
       "            </td>\n",
       "          \n",
       "          </tr>\n",
       "        </tbody>\n",
       "        </table>\n",
       "        "
      ],
      "text/plain": [
       "R object with classes: ('character',) mapped to:\n",
       "['doParall..., 'parallel', 'iterators', 'foreach', ..., 'utils', 'datasets', 'methods', 'base']"
      ]
     },
     "execution_count": 20,
     "metadata": {},
     "output_type": "execute_result"
    }
   ],
   "source": [
    "robjects.r(\"\"\"\n",
    "library(doParallel)\n",
    "\"\"\")"
   ]
  },
  {
   "cell_type": "code",
   "execution_count": 21,
   "id": "76ee205b",
   "metadata": {},
   "outputs": [
    {
     "data": {
      "text/plain": [
       "R object with classes: ('function',) mapped to:"
      ]
     },
     "execution_count": 21,
     "metadata": {},
     "output_type": "execute_result"
    }
   ],
   "source": [
    "robjects.r(\"\"\"\n",
    "remove_correlated_par <- function(df, dim_split = 1000, maxiter = 5, method = \"pearson\", cutoff = 0.8){\n",
    "  \n",
    "  #df has features on columns\n",
    "  X = t(df)\n",
    "  niter = 0\n",
    "  if (!is.finite(dim_split)) dim_split = nrow(X)\n",
    "  cat(\"dim(X) before starting remove correlation: \", dim(X), \"\\n\")\n",
    "  while(niter < maxiter ){\n",
    "    cat(\"niter = \", niter, '\\n')\n",
    "    filtered_X = NULL\n",
    "    \n",
    "    cl <- makeCluster(4)\n",
    "    registerDoParallel(cl)\n",
    "    \n",
    "    filtered_X = foreach(nR = seq(1, nrow(X), by=dim_split), \n",
    "                         .combine='rbind', .packages = c(\"caret\")) %dopar% {\n",
    "                           \n",
    "         subX = X[nR:min(nrow(X), (nR+dim_split-1)), ]\n",
    "         cc = cor(t(subX), use = \"pairwise.complete.obs\", method = \"kendall\")\n",
    "         \n",
    "         select_corr = caret::findCorrelation(cc, cutoff = cutoff, exact = FALSE)\n",
    "         #print(length(select_corr))\n",
    "         \n",
    "         if (length(select_corr)>0){ \n",
    "           subX = subX[-select_corr, ]\n",
    "         }\n",
    "         \n",
    "         return(subX)\n",
    "           \n",
    "     }\n",
    "    \n",
    "    stopCluster(cl)\n",
    "    \n",
    "    print(names(filtered_X))\n",
    "    #    if (length(unique(filtered_X[,1]))>1) cat('PROBLEMA!')\n",
    "    no_removed = nrow(X)-nrow(filtered_X)\n",
    "    cat('Removed = ', no_removed, '\\n')\n",
    "    cat('dim filetered_X =', dim(filtered_X), '\\n')\n",
    "\n",
    "    X = filtered_X[sample(nrow(filtered_X)), ]\n",
    "    \n",
    "    niter = niter + 1\n",
    "    cat(\"nrow(X) =\", dim(X), '\\n')\n",
    "    if (no_removed ==0) break;\n",
    "  }\n",
    "  cat('final dimension = ', dim(t(X)), '\\n')\n",
    "  \n",
    "  \n",
    "  return(t(X))\n",
    "    }\n",
    "    \"\"\")"
   ]
  },
  {
   "cell_type": "code",
   "execution_count": 22,
   "id": "3f4b6270",
   "metadata": {},
   "outputs": [],
   "source": [
    "with localconverter(robjects.default_converter + pandas2ri.converter):\n",
    "    r_proteins = robjects.conversion.py2rpy(datasets['proteins'])"
   ]
  },
  {
   "cell_type": "code",
   "execution_count": 24,
   "id": "34aa40c0",
   "metadata": {},
   "outputs": [],
   "source": [
    "with localconverter(robjects.default_converter + pandas2ri.converter):\n",
    "    r_miRNA = robjects.conversion.py2rpy(datasets['miRNA'])"
   ]
  },
  {
   "cell_type": "code",
   "execution_count": 25,
   "id": "cdcf446a",
   "metadata": {},
   "outputs": [],
   "source": [
    "with localconverter(robjects.default_converter + pandas2ri.converter):\n",
    "    r_mRNA = robjects.conversion.py2rpy(datasets['mRNA'])"
   ]
  },
  {
   "cell_type": "code",
   "execution_count": 26,
   "id": "87667643",
   "metadata": {},
   "outputs": [],
   "source": [
    "with localconverter(robjects.default_converter + pandas2ri.converter):\n",
    "    r_cnv = robjects.conversion.py2rpy(datasets['cnv'])"
   ]
  },
  {
   "cell_type": "code",
   "execution_count": 27,
   "id": "70a18910",
   "metadata": {},
   "outputs": [],
   "source": [
    "with localconverter(robjects.default_converter + pandas2ri.converter):\n",
    "    r_concat = robjects.conversion.py2rpy(datasets['concat'])"
   ]
  },
  {
   "cell_type": "markdown",
   "id": "832206e7",
   "metadata": {},
   "source": [
    "# Store data in local"
   ]
  },
  {
   "cell_type": "code",
   "execution_count": 51,
   "id": "79f077d7",
   "metadata": {},
   "outputs": [],
   "source": [
    "def compute_and_save_result(data, path):\n",
    "    data_removed = robjects.globalenv[\"remove_correlated_par\"](data)\n",
    "    df = pd.DataFrame(data=np.array(data_removed), columns=data_removed.colnames)\n",
    "    df.to_json(path)\n",
    "    \n",
    "def restore_result(file_name):\n",
    "    return pd.read_json(f'elaborated_data_r_intr_umap/{file_name}.json')\n",
    "\n",
    "def load_or_store_removed_correlated(data, file_name):\n",
    "    if os.path.exists(f'elaborated_data_r_intr_umap/{file_name}.json'):\n",
    "        return restore_result(file_name)\n",
    "    else:\n",
    "        compute_and_save_result(data, f'elaborated_data_r_intr_umap/{file_name}.json')\n",
    "        return restore_result(file_name)"
   ]
  },
  {
   "cell_type": "code",
   "execution_count": 55,
   "id": "f1ad8f73",
   "metadata": {},
   "outputs": [],
   "source": [
    "df_proteins_removed = load_or_store_removed_correlated(r_proteins, 'r_proteins_removed')"
   ]
  },
  {
   "cell_type": "code",
   "execution_count": null,
   "id": "9aa091f9",
   "metadata": {},
   "outputs": [],
   "source": [
    "df_mirna_removed = load_or_store_removed_correlated(r_miRNA, 'r_mirna_removed')"
   ]
  },
  {
   "cell_type": "code",
   "execution_count": null,
   "id": "7e1b5f7e",
   "metadata": {},
   "outputs": [],
   "source": [
    "df_mrna_removed = load_or_store_removed_correlated(r_mRNA, 'r_mrna_removed')"
   ]
  },
  {
   "cell_type": "code",
   "execution_count": null,
   "id": "1fbd10a5",
   "metadata": {},
   "outputs": [],
   "source": [
    "df_cnv_removed = load_or_store_removed_correlated(r_cnv, 'r_cnv_removed')"
   ]
  },
  {
   "cell_type": "code",
   "execution_count": null,
   "id": "ceb2c9a3",
   "metadata": {},
   "outputs": [],
   "source": [
    "df_concat_removed = load_or_store_removed_correlated(r_concat, 'r_concat_removed')"
   ]
  },
  {
   "cell_type": "code",
   "execution_count": null,
   "id": "42a739ca",
   "metadata": {},
   "outputs": [],
   "source": [
    "print('DATI MANIPOLATI CON LA FUNZIONE R ELIMINANDO LE FEATURE CORRELATE')"
   ]
  },
  {
   "cell_type": "markdown",
   "id": "5755d06d",
   "metadata": {},
   "source": [
    "# Intrinsic dimension estimation using the TwoNN algorithm"
   ]
  },
  {
   "cell_type": "code",
   "execution_count": 53,
   "id": "21e5c0e2",
   "metadata": {},
   "outputs": [],
   "source": [
    "def execute_instrinsic_dimension_estimation(data):\n",
    "    twoNN = skdim.id.TwoNN().fit(data)\n",
    "    #estimate local intrinsic dimension (dimension in k-nearest-neighborhoods around each point):\n",
    "    lpca = skdim.id.TwoNN().fit_pw(data,\n",
    "                                  n_neighbors = 100,\n",
    "                                  n_jobs = 1)\n",
    "\n",
    "    #get estimated intrinsic dimension\n",
    "    return twoNN.dimension_, np.mean(lpca.dimension_pw_)"
   ]
  },
  {
   "cell_type": "code",
   "execution_count": 57,
   "id": "30503f97",
   "metadata": {},
   "outputs": [
    {
     "data": {
      "text/plain": [
       "21.062135517039888"
      ]
     },
     "execution_count": 57,
     "metadata": {},
     "output_type": "execute_result"
    }
   ],
   "source": [
    "intr_dimension_proteins, _ = execute_instrinsic_dimension_estimation(df_proteins_removed)"
   ]
  },
  {
   "cell_type": "code",
   "execution_count": 43,
   "id": "11897dbc",
   "metadata": {},
   "outputs": [],
   "source": [
    "intr_dimension_mirna, _ = execute_instrinsic_dimension_estimation(r_mirna_removed)"
   ]
  },
  {
   "cell_type": "code",
   "execution_count": 44,
   "id": "8fc1ab9b",
   "metadata": {},
   "outputs": [],
   "source": [
    "intr_dimension_mrna, _ = execute_instrinsic_dimension_estimation(r_mrna_removed)"
   ]
  },
  {
   "cell_type": "code",
   "execution_count": 45,
   "id": "a1f1689e",
   "metadata": {},
   "outputs": [],
   "source": [
    "intr_dimension_cnv, _ = execute_instrinsic_dimension_estimation(r_cnv_removed)"
   ]
  },
  {
   "cell_type": "code",
   "execution_count": null,
   "id": "bc0a0a6d",
   "metadata": {},
   "outputs": [],
   "source": [
    "print('CALCOLATE LE DIMENSIONI INTRINSECHE')"
   ]
  },
  {
   "cell_type": "markdown",
   "id": "cac01d76",
   "metadata": {},
   "source": [
    "# Umap and rpca using specific number of feature "
   ]
  },
  {
   "cell_type": "code",
   "execution_count": 58,
   "id": "44a9c025",
   "metadata": {},
   "outputs": [],
   "source": [
    "def execute_umap(n_components, X, y):\n",
    "    return umap.UMAP(n_neighbors=5, n_components=n_components, random_state=42).fit_transform(X, y)"
   ]
  },
  {
   "cell_type": "code",
   "execution_count": 59,
   "id": "2ca21a83",
   "metadata": {},
   "outputs": [],
   "source": [
    "r_proteins_umap = execute_umap(math.trunc(intr_dimension_proteins), df_proteins_removed, label)"
   ]
  },
  {
   "cell_type": "code",
   "execution_count": 48,
   "id": "2a052da7",
   "metadata": {},
   "outputs": [],
   "source": [
    "r_miRNA_umap = execute_umap(math.trunc(intr_dimension_mirna), r_mirna_removed, label)"
   ]
  },
  {
   "cell_type": "code",
   "execution_count": 50,
   "id": "8da4d9a6",
   "metadata": {},
   "outputs": [],
   "source": [
    "r_mRNA_umap = execute_umap(math.trunc(intr_dimension_mrna), r_mrna_removed, label)"
   ]
  },
  {
   "cell_type": "code",
   "execution_count": 51,
   "id": "61bd8e52",
   "metadata": {},
   "outputs": [],
   "source": [
    "r_cnv_umap = execute_umap(math.trunc(intr_dimension_cnv), r_cnv_removed, label)"
   ]
  },
  {
   "cell_type": "code",
   "execution_count": 52,
   "id": "0413b3dd",
   "metadata": {},
   "outputs": [
    {
     "name": "stdout",
     "output_type": "stream",
     "text": [
      "ESTRATTE LE FEATURE USANDO UMAP\n"
     ]
    }
   ],
   "source": [
    "print('ESTRATTE LE FEATURE USANDO UMAP')"
   ]
  },
  {
   "cell_type": "markdown",
   "id": "ed3d8f75",
   "metadata": {},
   "source": [
    "# Train using intrinsic dimensionality and umap"
   ]
  },
  {
   "cell_type": "code",
   "execution_count": 61,
   "id": "94d907bd",
   "metadata": {},
   "outputs": [],
   "source": [
    "def train_using_intrinsic_dimensionality_and_umap(X, label, num_external_fold,\n",
    "                                          type_dataset, tecnique_feature_selection,\n",
    "                                          path):\n",
    "    \n",
    "    \"\"\"\n",
    "    X : data using number of features of intrinsic dimensionality and appliying umap features extraction.\n",
    "    \"\"\"\n",
    "    \n",
    "    aucs = []\n",
    "    y_score_concatenated = []\n",
    "    y_test_fold_concatenated = []\n",
    "    result_dict = {}\n",
    "    result_dict[type_dataset] = {}\n",
    "    result_dict[type_dataset][tecnique_feature_selection] = {}   \n",
    "    \n",
    "    label_numpy = label['x'].to_numpy()\n",
    "    \n",
    "    external_fold = StratifiedKFold(n_splits=num_external_fold, shuffle=True, random_state=1)\n",
    "    \n",
    "    for train_index, test_index in tqdm(external_fold.split(X, label_numpy), desc=f\"Running fold \", dynamic_ncols=True, leave=False):\n",
    "        \n",
    "        X_train_fold, X_test_fold = X[train_index], X[test_index]\n",
    "        y_train_fold, y_test_fold = label_numpy[train_index], label_numpy[test_index]\n",
    "        \n",
    "        clf = GridSearchCV(estimator=RandomForestClassifier(),\n",
    "                   scoring='average_precision',\n",
    "                   param_grid=model_selection_grid_DT, \n",
    "                   cv=2, \n",
    "                   n_jobs=-1)\n",
    "        clf.fit(X_train_fold, y_train_fold)\n",
    "        \n",
    "        # Get the predicited probability of testing data\n",
    "        y_score = clf.predict_proba(X_test_fold)[:, 1]\n",
    "        \n",
    "        #calculate precision and recall\n",
    "        precision, recall, thresholds = precision_recall_curve(y_test_fold, y_score)\n",
    "\n",
    "        #plot_precision_recall_curve(classifier, X_test_selected_feature, y_test_fold)\n",
    "        \n",
    "        y_score_concatenated = np.concatenate((y_score_concatenated, y_score), axis=None)\n",
    "        y_test_fold_concatenated = np.concatenate((y_test_fold_concatenated, y_test_fold), axis=None)\n",
    "        \n",
    "        \n",
    "        # Use AUC function to calculate the area under the curve of precision recall curve\n",
    "        auc_precision_recall = auc(recall, precision)\n",
    "        \n",
    "        aucs.append(auc_precision_recall)\n",
    "        #print('auc: {:.3f} using params {}:'.format(auc_precision_recall, clf.best_params_))\n",
    "    \n",
    "    internal_auc = np.mean(aucs)\n",
    "    \n",
    "    #calculate precision and recall\n",
    "    precision, recall, thresholds = precision_recall_curve(y_test_fold_concatenated, y_score_concatenated)\n",
    "    \n",
    "    external_auc = auc(recall, precision)\n",
    "    #plot precision recall curve\n",
    "    PrecisionRecallDisplay.from_predictions(y_test_fold_concatenated, y_score_concatenated)\n",
    "    #plt.show()\n",
    "    \n",
    "    result_dict[type_dataset][tecnique_feature_selection]['internal'] = '{0:.4f}'.format(internal_auc)\n",
    "    result_dict[type_dataset][tecnique_feature_selection]['external'] = '{0:.4f}'.format(external_auc)\n",
    "    result_dict[type_dataset][tecnique_feature_selection]['best_estimator'] = str(clf.best_estimator_)\n",
    "    \n",
    "    plt.savefig(path+tecnique_feature_selection+'/'+type_dataset+'_'+'AUC_External.pdf')\n",
    "    \n",
    "    with open(path+tecnique_feature_selection+'/'+type_dataset+'.json', 'w', encoding='utf-8') as fp:\n",
    "        json.dump(result_dict[type_dataset], fp, ensure_ascii=False, indent=4)\n",
    "    \n",
    "    return '{0:.4f}'.format(internal_auc), '{0:.4f}'.format(external_auc), clf.best_estimator_"
   ]
  },
  {
   "cell_type": "code",
   "execution_count": 63,
   "id": "4968fe76",
   "metadata": {},
   "outputs": [],
   "source": [
    "model_selection_grid_DT = [\n",
    "    {'criterion': ['gini', 'entropy'],\n",
    "     'max_leaf_nodes': [None, 2, 5, 10],\n",
    "     'max_features': [None, 'sqrt', 'log2'],\n",
    "    'n_estimators': [51, 101, 251, 500]}\n",
    "]"
   ]
  },
  {
   "cell_type": "code",
   "execution_count": 64,
   "id": "46f6f27b",
   "metadata": {},
   "outputs": [
    {
     "name": "stderr",
     "output_type": "stream",
     "text": [
      "                                      \r"
     ]
    },
    {
     "data": {
      "text/plain": [
       "('0.7195',\n",
       " '0.7043',\n",
       " RandomForestClassifier(criterion='entropy', max_leaf_nodes=5, n_estimators=251))"
      ]
     },
     "execution_count": 64,
     "metadata": {},
     "output_type": "execute_result"
    },
    {
     "data": {
      "image/png": "[encoded data removed]",
      "text/plain": [
       "<Figure size 432x288 with 1 Axes>"
      ]
     },
     "metadata": {
      "needs_background": "light"
     },
     "output_type": "display_data"
    }
   ],
   "source": [
    "train_using_intrinsic_dimensionality_and_umap(r_proteins_umap, label, 10, 'proteins', 'intrinsic_with_umap', 'result_new_experiment/')"
   ]
  },
  {
   "cell_type": "code",
   "execution_count": 56,
   "id": "e1da447f",
   "metadata": {},
   "outputs": [
    {
     "name": "stdout",
     "output_type": "stream",
     "text": [
      "FINITO ADDESTRAMENTO PROTEINS\n"
     ]
    }
   ],
   "source": [
    "print('FINITO ADDESTRAMENTO PROTEINS')"
   ]
  },
  {
   "cell_type": "code",
   "execution_count": 58,
   "id": "83b202c2",
   "metadata": {},
   "outputs": [
    {
     "name": "stderr",
     "output_type": "stream",
     "text": [
      "                                      "
     ]
    },
    {
     "name": "stdout",
     "output_type": "stream",
     "text": [
      "FINITO ADDESTRAMENTO MIRNA\n"
     ]
    },
    {
     "name": "stderr",
     "output_type": "stream",
     "text": [
      "\r"
     ]
    },
    {
     "data": {
      "image/png": "[encoded data removed]",
      "text/plain": [
       "<Figure size 432x288 with 1 Axes>"
      ]
     },
     "metadata": {
      "needs_background": "light"
     },
     "output_type": "display_data"
    }
   ],
   "source": [
    "train_using_intrinsic_dimensionality_and_umap(r_miRNA_umap, label, 10, 'miRNA', 'intrinsic_with_umap', 'result_new_experiment/')\n",
    "\n",
    "print('FINITO ADDESTRAMENTO MIRNA')"
   ]
  },
  {
   "cell_type": "code",
   "execution_count": 59,
   "id": "fbd73a6b",
   "metadata": {},
   "outputs": [
    {
     "name": "stderr",
     "output_type": "stream",
     "text": [
      "                                      "
     ]
    },
    {
     "name": "stdout",
     "output_type": "stream",
     "text": [
      "FINITO ADDESTRAMENTO MRNA\n"
     ]
    },
    {
     "name": "stderr",
     "output_type": "stream",
     "text": [
      "\r"
     ]
    },
    {
     "data": {
      "image/png": "[encoded data removed]",
      "text/plain": [
       "<Figure size 432x288 with 1 Axes>"
      ]
     },
     "metadata": {
      "needs_background": "light"
     },
     "output_type": "display_data"
    }
   ],
   "source": [
    "train_using_intrinsic_dimensionality_and_umap(r_mRNA_umap, label, 10, 'mRNA', 'intrinsic_with_umap', 'result_new_experiment/')\n",
    "\n",
    "print('FINITO ADDESTRAMENTO MRNA')"
   ]
  },
  {
   "cell_type": "code",
   "execution_count": 61,
   "id": "447af5b4",
   "metadata": {},
   "outputs": [
    {
     "name": "stderr",
     "output_type": "stream",
     "text": [
      "                                      "
     ]
    },
    {
     "name": "stdout",
     "output_type": "stream",
     "text": [
      "FINITO ADDESTRAMENTO CNV\n"
     ]
    },
    {
     "name": "stderr",
     "output_type": "stream",
     "text": [
      "\r"
     ]
    },
    {
     "data": {
      "image/png": "[encoded data removed]",
      "text/plain": [
       "<Figure size 432x288 with 1 Axes>"
      ]
     },
     "metadata": {
      "needs_background": "light"
     },
     "output_type": "display_data"
    }
   ],
   "source": [
    "train_using_intrinsic_dimensionality_and_umap(r_cnv_umap, label, 10, 'cnv', 'intrinsic_with_umap', 'result_new_experiment/')\n",
    "\n",
    "print('FINITO ADDESTRAMENTO CNV')"
   ]
  },
  {
   "cell_type": "code",
   "execution_count": null,
   "id": "0a54b373",
   "metadata": {},
   "outputs": [],
   "source": []
  }
 ],
 "metadata": {
  "kernelspec": {
   "display_name": "Python 3 (ipykernel)",
   "language": "python",
   "name": "python3"
  },
  "language_info": {
   "codemirror_mode": {
    "name": "ipython",
    "version": 3
   },
   "file_extension": ".py",
   "mimetype": "text/x-python",
   "name": "python",
   "nbconvert_exporter": "python",
   "pygments_lexer": "ipython3",
   "version": "3.10.6"
  }
 },
 "nbformat": 4,
 "nbformat_minor": 5
}

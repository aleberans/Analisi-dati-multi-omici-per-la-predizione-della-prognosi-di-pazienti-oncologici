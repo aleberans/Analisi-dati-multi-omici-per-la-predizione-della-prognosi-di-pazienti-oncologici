{
 "cells": [
  {
   "cell_type": "code",
   "execution_count": 32,
   "id": "22da371c",
   "metadata": {},
   "outputs": [],
   "source": [
    "import pandas as pd\n",
    "import matplotlib.pyplot as plt\n",
    "import rpy2.robjects as robjects\n",
    "from sklearn.preprocessing import MinMaxScaler\n",
    "from rpy2.robjects.packages import importr\n",
    "from rpy2.robjects import pandas2ri\n",
    "from rpy2.robjects.conversion import localconverter\n",
    "import skdim\n",
    "import os.path\n",
    "from boruta import BorutaPy\n",
    "from sklearn.ensemble import RandomForestClassifier\n",
    "from sklearn.metrics import auc, precision_recall_curve, average_precision_score, PrecisionRecallDisplay\n",
    "import umap.umap_ as umap\n",
    "from tqdm import tqdm\n",
    "import json\n",
    "import numpy as np\n",
    "import math\n",
    "from scipy.stats import mannwhitneyu\n",
    "from json import JSONEncoder\n",
    "from sklearn.model_selection import StratifiedKFold, GridSearchCV\n",
    "from rpy2.robjects import pandas2ri\n",
    "from sklearn.manifold import TSNE\n",
    "\n",
    "#pandas2ri.activate()"
   ]
  },
  {
   "cell_type": "code",
   "execution_count": 33,
   "id": "7e76abd8",
   "metadata": {},
   "outputs": [],
   "source": [
    "#TO DO\n",
    "# concatenare per bene\n",
    "# usare https://scikit-dimension.readthedocs.io/en/latest/skdim.id.TwoNN.html#skdim.id.TwoNN \n",
    "# per stimare dimensionalita instrinseche\n",
    "# poi umap per arrivare a quella dimensionalita' oppure rpca per arrivare a dimensionalita' intrinseca\n"
   ]
  },
  {
   "cell_type": "markdown",
   "id": "309280f8",
   "metadata": {},
   "source": [
    "# Import data"
   ]
  },
  {
   "cell_type": "code",
   "execution_count": 34,
   "id": "f9eb11e6",
   "metadata": {},
   "outputs": [],
   "source": [
    "# import data from csv \n",
    "cnv = pd.read_csv('dataset_hg19/dataset/cnv.csv', sep=' ')"
   ]
  },
  {
   "cell_type": "code",
   "execution_count": 35,
   "id": "78e67514",
   "metadata": {},
   "outputs": [],
   "source": [
    "mirna = pd.read_csv('dataset_hg19/dataset/mirna.csv', sep=' ')"
   ]
  },
  {
   "cell_type": "code",
   "execution_count": 36,
   "id": "ae9b411f",
   "metadata": {},
   "outputs": [],
   "source": [
    "mrna = pd.read_csv('dataset_hg19/dataset/mrna.csv', sep=' ')"
   ]
  },
  {
   "cell_type": "code",
   "execution_count": 37,
   "id": "6d2a1e71",
   "metadata": {},
   "outputs": [],
   "source": [
    "proteins = pd.read_csv('dataset_hg19/dataset/proteins.csv', sep=' ')"
   ]
  },
  {
   "cell_type": "markdown",
   "id": "fe725e2b",
   "metadata": {},
   "source": [
    "# Import label"
   ]
  },
  {
   "cell_type": "code",
   "execution_count": 38,
   "id": "18d7db91",
   "metadata": {},
   "outputs": [],
   "source": [
    "label = pd.read_csv('dataset_hg19/dataset/labels_pfi.csv', sep=' ')"
   ]
  },
  {
   "cell_type": "markdown",
   "id": "1660c8fb",
   "metadata": {},
   "source": [
    "# Normalize data"
   ]
  },
  {
   "cell_type": "code",
   "execution_count": 39,
   "id": "93c3ec34",
   "metadata": {},
   "outputs": [],
   "source": [
    "def dataNormalization(scaler, data):\n",
    "    scl = scaler()\n",
    "    model = scl.fit(data)\n",
    "    scaled_data = model.transform(data)\n",
    "    \n",
    "    return pd.DataFrame(scaled_data, columns=data.columns, index=data.index)"
   ]
  },
  {
   "cell_type": "markdown",
   "id": "63a67b6f",
   "metadata": {},
   "source": [
    "# Filter feature with low variability"
   ]
  },
  {
   "cell_type": "code",
   "execution_count": 40,
   "id": "b9283972",
   "metadata": {},
   "outputs": [],
   "source": [
    "def filter_features_with_low_variability(data, alfa) -> pd.DataFrame:\n",
    "    #Delete columns with standard deviation < alfa (0.10?)\n",
    "    for column in data:\n",
    "        if data[column].std() < alfa:\n",
    "            #print(f'column: {column} has standard deviation < {alfa}, removed')\n",
    "            data.drop(column, axis=1, inplace=True)\n",
    "            \n",
    "    return data"
   ]
  },
  {
   "cell_type": "markdown",
   "id": "ee781ecd",
   "metadata": {},
   "source": [
    "# Normalize and filter datasets"
   ]
  },
  {
   "cell_type": "code",
   "execution_count": 41,
   "id": "1ab9e53e",
   "metadata": {},
   "outputs": [],
   "source": [
    "dataset_dict = {'cnv': cnv, 'mirna': mirna, 'mrna': mrna, 'proteins': proteins}"
   ]
  },
  {
   "cell_type": "code",
   "execution_count": 42,
   "id": "abb6a098",
   "metadata": {},
   "outputs": [],
   "source": [
    "def create_data_normalized_filtered(data_dict, scaler, min_variance):\n",
    "    dict_filtered_nornalize = {}\n",
    "    for (key, value) in zip(data_dict, data_dict.values()):\n",
    "        if key != 'cnv':\n",
    "            dict_filtered_nornalize[key] = filter_features_with_low_variability(dataNormalization(MinMaxScaler, value), 0.05)\n",
    "        else:\n",
    "            dict_filtered_nornalize[key] = value\n",
    "    return dict_filtered_nornalize"
   ]
  },
  {
   "cell_type": "markdown",
   "id": "264ea015",
   "metadata": {},
   "source": [
    "# Store and retrieve data normalize and filtered"
   ]
  },
  {
   "cell_type": "code",
   "execution_count": 43,
   "id": "efc59a15",
   "metadata": {},
   "outputs": [],
   "source": [
    "def mkdir_p(path):\n",
    "    try:\n",
    "        os.makedirs(path)\n",
    "    except OSError as exc: # Python >2.5\n",
    "        if exc.errno == errno.EEXIST and os.path.isdir(path):\n",
    "            pass\n",
    "        else: raise"
   ]
  },
  {
   "cell_type": "code",
   "execution_count": 44,
   "id": "f022dbd7",
   "metadata": {},
   "outputs": [],
   "source": [
    "def store_filtered_normalize_data(dataset_dict):\n",
    "    mkdir_p('filtered_normalize_data')\n",
    "    filtered_normalize_data = create_data_normalized_filtered(dataset_dict, MinMaxScaler, 0.05)\n",
    "    for data in dataset_dict:\n",
    "        filtered_normalize_data[data].to_json('filtered_normalize_data/'+data+'.json')"
   ]
  },
  {
   "cell_type": "code",
   "execution_count": 45,
   "id": "d00ffe79",
   "metadata": {},
   "outputs": [],
   "source": [
    "def load_filtered_normalize_data(dataset_dict):\n",
    "    dict_test = {}\n",
    "    if os.path.exists('filtered_normalize_data'):\n",
    "        for data in dataset_dict:\n",
    "            with open('filtered_normalize_data/'+data+'.json', 'r') as fp:\n",
    "                dataset = pd.read_json(fp)\n",
    "                dict_test[data] = dataset\n",
    "        return dict_test\n",
    "    else:\n",
    "        store_filtered_normalize_data(dataset_dict)\n",
    "        load_filtered_normalize_data(dataset_dict)"
   ]
  },
  {
   "cell_type": "code",
   "execution_count": 46,
   "id": "f27c57ad",
   "metadata": {},
   "outputs": [],
   "source": [
    "dataset_dict = {'cnv': cnv, 'mirna': mirna, 'mrna': mrna, 'proteins': proteins}\n",
    "\n",
    "datasets = load_filtered_normalize_data(dataset_dict)"
   ]
  },
  {
   "cell_type": "code",
   "execution_count": 47,
   "id": "5d9d73a6",
   "metadata": {},
   "outputs": [
    {
     "name": "stdout",
     "output_type": "stream",
     "text": [
      "DATI CARICATI CON SUCCESSO\n"
     ]
    }
   ],
   "source": [
    "print('DATI CARICATI CON SUCCESSO')"
   ]
  },
  {
   "cell_type": "markdown",
   "id": "b17e601a",
   "metadata": {},
   "source": [
    "# Create concatenation of all dataset"
   ]
  },
  {
   "cell_type": "code",
   "execution_count": 48,
   "id": "577fc311",
   "metadata": {},
   "outputs": [],
   "source": [
    "dataset_whole_dataset = pd.concat([datasets['cnv'], datasets['proteins'], datasets['mrna'], datasets['mirna']], axis=1)"
   ]
  },
  {
   "cell_type": "code",
   "execution_count": 18,
   "id": "7dec6ffe",
   "metadata": {},
   "outputs": [],
   "source": [
    "datasets['whole_dataset'] = dataset_whole_dataset"
   ]
  },
  {
   "cell_type": "markdown",
   "id": "00bf52a6",
   "metadata": {},
   "source": [
    "# Create concatenatiof dataset: proteins+mirna, proteins+mirna+mrna"
   ]
  },
  {
   "cell_type": "code",
   "execution_count": 19,
   "id": "1f9bf90c",
   "metadata": {},
   "outputs": [],
   "source": [
    "proteins_mirna_dataset = pd.concat([datasets['proteins'], datasets['mirna']], axis=1)\n",
    "datasets['proteins_mirna_dataset'] = proteins_mirna_dataset"
   ]
  },
  {
   "cell_type": "code",
   "execution_count": 20,
   "id": "5c3fe9a5",
   "metadata": {},
   "outputs": [],
   "source": [
    "proteins_mirna_mrna_dataset = pd.concat([datasets['proteins'], datasets['mirna'], datasets['mrna']], axis=1)\n",
    "datasets['proteins_mirna_mrna_dataset'] = proteins_mirna_mrna_dataset"
   ]
  },
  {
   "cell_type": "markdown",
   "id": "b9768024",
   "metadata": {},
   "source": [
    "# Remove correlated feature using R code"
   ]
  },
  {
   "cell_type": "code",
   "execution_count": 49,
   "id": "ef88e05d",
   "metadata": {},
   "outputs": [
    {
     "name": "stderr",
     "output_type": "stream",
     "text": [
      "R[write to console]: Installazione pacchetto in ‘/usr/local/lib/R/site-library’\n",
      "(perché ‘lib’ non è specificato)\n",
      "\n",
      "R[write to console]: apertura URL 'https://cloud.r-project.org/src/contrib/caret_6.0-93.tar.gz'\n",
      "\n",
      "R[write to console]: Content type 'application/x-gzip'\n",
      "R[write to console]:  length 2273775 bytes (2.2 MB)\n",
      "\n",
      "R[write to console]: =\n",
      "R[write to console]: =\n",
      "R[write to console]: =\n",
      "R[write to console]: =\n",
      "R[write to console]: =\n",
      "R[write to console]: =\n",
      "R[write to console]: =\n",
      "R[write to console]: =\n",
      "R[write to console]: =\n",
      "R[write to console]: =\n",
      "R[write to console]: =\n",
      "R[write to console]: =\n",
      "R[write to console]: =\n",
      "R[write to console]: =\n",
      "R[write to console]: =\n",
      "R[write to console]: =\n",
      "R[write to console]: =\n",
      "R[write to console]: =\n",
      "R[write to console]: =\n",
      "R[write to console]: =\n",
      "R[write to console]: =\n",
      "R[write to console]: =\n",
      "R[write to console]: =\n",
      "R[write to console]: =\n",
      "R[write to console]: =\n",
      "R[write to console]: =\n",
      "R[write to console]: =\n",
      "R[write to console]: =\n",
      "R[write to console]: =\n",
      "R[write to console]: =\n",
      "R[write to console]: =\n",
      "R[write to console]: =\n",
      "R[write to console]: =\n",
      "R[write to console]: =\n",
      "R[write to console]: =\n",
      "R[write to console]: =\n",
      "R[write to console]: =\n",
      "R[write to console]: =\n",
      "R[write to console]: =\n",
      "R[write to console]: =\n",
      "R[write to console]: =\n",
      "R[write to console]: =\n",
      "R[write to console]: =\n",
      "R[write to console]: =\n",
      "R[write to console]: =\n",
      "R[write to console]: =\n",
      "R[write to console]: =\n",
      "R[write to console]: =\n",
      "R[write to console]: =\n",
      "R[write to console]: =\n",
      "R[write to console]: \n",
      "\n",
      "R[write to console]: downloaded 2.2 MB\n",
      "\n",
      "\n",
      "* installing *source* package ‘caret’ ...\n",
      "** pacchetto ‘caret’ aperto con successo con controllo somme MD5\n",
      "** using staged installation\n",
      "** libs\n",
      "installing to /usr/local/lib/R/site-library/00LOCK-caret/00new/caret/libs\n",
      "** R\n",
      "** data\n",
      "** inst\n",
      "** byte-compile and prepare package for lazy loading\n"
     ]
    },
    {
     "name": "stdout",
     "output_type": "stream",
     "text": [
      "gcc -I\"/usr/share/R/include\" -DNDEBUG      -fpic  -g -O2 -ffile-prefix-map=/build/r-base-Faorqz/r-base-4.2.2.20221110=. -fstack-protector-strong -Wformat -Werror=format-security -Wdate-time -D_FORTIFY_SOURCE=2  -c caret.c -o caret.o\n",
      "gcc -shared -L/usr/lib/R/lib -Wl,-Bsymbolic-functions -flto=auto -ffat-lto-objects -flto=auto -Wl,-z,relro -o caret.so caret.o -L/usr/lib/R/lib -lR\n"
     ]
    },
    {
     "name": "stderr",
     "output_type": "stream",
     "text": [
      "** help\n",
      "*** installing help indices\n",
      "** building package indices\n",
      "** installing vignettes\n",
      "** testing if installed package can be loaded from temporary location\n",
      "** checking absolute paths in shared objects and dynamic libraries\n",
      "** testing if installed package can be loaded from final location\n",
      "** testing if installed package keeps a record of temporary installation path\n",
      "* DONE (caret)\n",
      "R[write to console]: \n",
      "\n",
      "R[write to console]: \n",
      "R[write to console]: I pacchetti scaricati con il codice sorgente sono in\n",
      "\t‘/tmp/Rtmp1HQZTN/downloaded_packages’\n",
      "R[write to console]: \n",
      "R[write to console]: \n",
      "\n"
     ]
    },
    {
     "data": {
      "text/plain": [
       "<rpy2.rinterface.NULLType object at 0x7f4606d1afc0> [RTYPES.NILSXP]"
      ]
     },
     "execution_count": 49,
     "metadata": {},
     "output_type": "execute_result"
    }
   ],
   "source": [
    "robjects.r(\"\"\"\n",
    "install.packages('caret')\n",
    "\"\"\")"
   ]
  },
  {
   "cell_type": "code",
   "execution_count": 50,
   "id": "dca9c720",
   "metadata": {},
   "outputs": [
    {
     "data": {
      "text/plain": [
       "array(['doParallel', 'parallel', 'iterators', 'foreach', 'tools', 'stats',\n",
       "       'graphics', 'grDevices', 'utils', 'datasets', 'methods', 'base'],\n",
       "      dtype='<U10')"
      ]
     },
     "execution_count": 50,
     "metadata": {},
     "output_type": "execute_result"
    }
   ],
   "source": [
    "robjects.r(\"\"\"\n",
    "library(doParallel)\n",
    "\"\"\")"
   ]
  },
  {
   "cell_type": "code",
   "execution_count": 51,
   "id": "76ee205b",
   "metadata": {},
   "outputs": [
    {
     "data": {
      "text/plain": [
       "R object with classes: ('function',) mapped to:"
      ]
     },
     "execution_count": 51,
     "metadata": {},
     "output_type": "execute_result"
    }
   ],
   "source": [
    "robjects.r(\"\"\"\n",
    "remove_correlated_par <- function(df, dim_split = 1000, maxiter = 5, method = \"pearson\", cutoff = 0.8){\n",
    "  \n",
    "  #df has features on columns\n",
    "  X = t(df)\n",
    "  niter = 0\n",
    "  if (!is.finite(dim_split)) dim_split = nrow(X)\n",
    "  cat(\"dim(X) before starting remove correlation: \", dim(X), \"\\n\")\n",
    "  while(niter < maxiter ){\n",
    "    cat(\"niter = \", niter, '\\n')\n",
    "    filtered_X = NULL\n",
    "    \n",
    "    cl <- makeCluster(4)\n",
    "    registerDoParallel(cl)\n",
    "    \n",
    "    filtered_X = foreach(nR = seq(1, nrow(X), by=dim_split), \n",
    "                         .combine='rbind', .packages = c(\"caret\")) %dopar% {\n",
    "                           \n",
    "         subX = X[nR:min(nrow(X), (nR+dim_split-1)), ]\n",
    "         cc = cor(t(subX), use = \"pairwise.complete.obs\", method = \"kendall\")\n",
    "         \n",
    "         select_corr = caret::findCorrelation(cc, cutoff = cutoff, exact = FALSE)\n",
    "         #print(length(select_corr))\n",
    "         \n",
    "         if (length(select_corr)>0){ \n",
    "           subX = subX[-select_corr, ]\n",
    "         }\n",
    "         \n",
    "         return(subX)\n",
    "           \n",
    "     }\n",
    "    \n",
    "    stopCluster(cl)\n",
    "    \n",
    "    print(names(filtered_X))\n",
    "    #    if (length(unique(filtered_X[,1]))>1) cat('PROBLEMA!')\n",
    "    no_removed = nrow(X)-nrow(filtered_X)\n",
    "    cat('Removed = ', no_removed, '\\n')\n",
    "    cat('dim filetered_X =', dim(filtered_X), '\\n')\n",
    "\n",
    "    X = filtered_X[sample(nrow(filtered_X)), ]\n",
    "    \n",
    "    niter = niter + 1\n",
    "    cat(\"nrow(X) =\", dim(X), '\\n')\n",
    "    if (no_removed ==0) break;\n",
    "  }\n",
    "  cat('final dimension = ', dim(t(X)), '\\n')\n",
    "  \n",
    "  \n",
    "  return(t(X))\n",
    "    }\n",
    "    \"\"\")"
   ]
  },
  {
   "cell_type": "markdown",
   "id": "7dbb5761",
   "metadata": {},
   "source": [
    "# Convert data in r structure data"
   ]
  },
  {
   "cell_type": "code",
   "execution_count": 52,
   "id": "3f4b6270",
   "metadata": {},
   "outputs": [],
   "source": [
    "with localconverter(robjects.default_converter + pandas2ri.converter):\n",
    "    r_proteins = robjects.conversion.py2rpy(datasets['proteins'])"
   ]
  },
  {
   "cell_type": "code",
   "execution_count": 25,
   "id": "34aa40c0",
   "metadata": {},
   "outputs": [],
   "source": [
    "with localconverter(robjects.default_converter + pandas2ri.converter):\n",
    "    r_miRNA = robjects.conversion.py2rpy(datasets['mirna'])"
   ]
  },
  {
   "cell_type": "code",
   "execution_count": 26,
   "id": "cdcf446a",
   "metadata": {},
   "outputs": [],
   "source": [
    "with localconverter(robjects.default_converter + pandas2ri.converter):\n",
    "    r_mRNA = robjects.conversion.py2rpy(datasets['mrna'])"
   ]
  },
  {
   "cell_type": "code",
   "execution_count": 27,
   "id": "87667643",
   "metadata": {},
   "outputs": [],
   "source": [
    "with localconverter(robjects.default_converter + pandas2ri.converter):\n",
    "    r_cnv = robjects.conversion.py2rpy(datasets['cnv'])"
   ]
  },
  {
   "cell_type": "code",
   "execution_count": 28,
   "id": "70a18910",
   "metadata": {},
   "outputs": [
    {
     "name": "stderr",
     "output_type": "stream",
     "text": [
      "Exception ignored in: <function SexpCapsule.__del__ at 0x7f4606ce8430>\n",
      "Traceback (most recent call last):\n",
      "  File \"/home/ale/.local/lib/python3.10/site-packages/rpy2/rinterface_lib/_rinterface_capi.py\", line 113, in __del__\n",
      "    _release(self._cdata)\n",
      "  File \"/home/ale/.local/lib/python3.10/site-packages/rpy2/rinterface_lib/_rinterface_capi.py\", line 65, in _release\n",
      "    openrlib.rlib.R_ReleaseObject(cdata)\n",
      "KeyboardInterrupt: \n"
     ]
    },
    {
     "ename": "KeyboardInterrupt",
     "evalue": "",
     "output_type": "error",
     "traceback": [
      "\u001b[0;31m---------------------------------------------------------------------------\u001b[0m",
      "\u001b[0;31mTypeError\u001b[0m                                 Traceback (most recent call last)",
      "\u001b[0;32m~/.local/lib/python3.10/site-packages/rpy2/rinterface_lib/sexp.py\u001b[0m in \u001b[0;36mfrom_object\u001b[0;34m(cls, obj)\u001b[0m\n\u001b[1;32m    367\u001b[0m         \u001b[0;32mtry\u001b[0m\u001b[0;34m:\u001b[0m\u001b[0;34m\u001b[0m\u001b[0;34m\u001b[0m\u001b[0m\n\u001b[0;32m--> 368\u001b[0;31m             \u001b[0mmv\u001b[0m \u001b[0;34m=\u001b[0m \u001b[0mmemoryview\u001b[0m\u001b[0;34m(\u001b[0m\u001b[0mobj\u001b[0m\u001b[0;34m)\u001b[0m\u001b[0;34m\u001b[0m\u001b[0;34m\u001b[0m\u001b[0m\n\u001b[0m\u001b[1;32m    369\u001b[0m             \u001b[0mres\u001b[0m \u001b[0;34m=\u001b[0m \u001b[0mcls\u001b[0m\u001b[0;34m.\u001b[0m\u001b[0mfrom_memoryview\u001b[0m\u001b[0;34m(\u001b[0m\u001b[0mmv\u001b[0m\u001b[0;34m)\u001b[0m\u001b[0;34m\u001b[0m\u001b[0;34m\u001b[0m\u001b[0m\n",
      "\u001b[0;31mTypeError\u001b[0m: memoryview: a bytes-like object is required, not 'tuple'",
      "\nDuring handling of the above exception, another exception occurred:\n",
      "\u001b[0;31mKeyboardInterrupt\u001b[0m                         Traceback (most recent call last)",
      "\u001b[0;32m/tmp/ipykernel_5267/4279110776.py\u001b[0m in \u001b[0;36m<module>\u001b[0;34m\u001b[0m\n\u001b[1;32m      1\u001b[0m \u001b[0;32mwith\u001b[0m \u001b[0mlocalconverter\u001b[0m\u001b[0;34m(\u001b[0m\u001b[0mrobjects\u001b[0m\u001b[0;34m.\u001b[0m\u001b[0mdefault_converter\u001b[0m \u001b[0;34m+\u001b[0m \u001b[0mpandas2ri\u001b[0m\u001b[0;34m.\u001b[0m\u001b[0mconverter\u001b[0m\u001b[0;34m)\u001b[0m\u001b[0;34m:\u001b[0m\u001b[0;34m\u001b[0m\u001b[0;34m\u001b[0m\u001b[0m\n\u001b[0;32m----> 2\u001b[0;31m     \u001b[0mr_whole_dataset\u001b[0m \u001b[0;34m=\u001b[0m \u001b[0mrobjects\u001b[0m\u001b[0;34m.\u001b[0m\u001b[0mconversion\u001b[0m\u001b[0;34m.\u001b[0m\u001b[0mpy2rpy\u001b[0m\u001b[0;34m(\u001b[0m\u001b[0mdatasets\u001b[0m\u001b[0;34m[\u001b[0m\u001b[0;34m'whole_dataset'\u001b[0m\u001b[0;34m]\u001b[0m\u001b[0;34m)\u001b[0m\u001b[0;34m\u001b[0m\u001b[0;34m\u001b[0m\u001b[0m\n\u001b[0m",
      "\u001b[0;32m/usr/lib/python3.10/functools.py\u001b[0m in \u001b[0;36mwrapper\u001b[0;34m(*args, **kw)\u001b[0m\n\u001b[1;32m    887\u001b[0m                             '1 positional argument')\n\u001b[1;32m    888\u001b[0m \u001b[0;34m\u001b[0m\u001b[0m\n\u001b[0;32m--> 889\u001b[0;31m         \u001b[0;32mreturn\u001b[0m \u001b[0mdispatch\u001b[0m\u001b[0;34m(\u001b[0m\u001b[0margs\u001b[0m\u001b[0;34m[\u001b[0m\u001b[0;36m0\u001b[0m\u001b[0;34m]\u001b[0m\u001b[0;34m.\u001b[0m\u001b[0m__class__\u001b[0m\u001b[0;34m)\u001b[0m\u001b[0;34m(\u001b[0m\u001b[0;34m*\u001b[0m\u001b[0margs\u001b[0m\u001b[0;34m,\u001b[0m \u001b[0;34m**\u001b[0m\u001b[0mkw\u001b[0m\u001b[0;34m)\u001b[0m\u001b[0;34m\u001b[0m\u001b[0;34m\u001b[0m\u001b[0m\n\u001b[0m\u001b[1;32m    890\u001b[0m \u001b[0;34m\u001b[0m\u001b[0m\n\u001b[1;32m    891\u001b[0m     \u001b[0mfuncname\u001b[0m \u001b[0;34m=\u001b[0m \u001b[0mgetattr\u001b[0m\u001b[0;34m(\u001b[0m\u001b[0mfunc\u001b[0m\u001b[0;34m,\u001b[0m \u001b[0;34m'__name__'\u001b[0m\u001b[0;34m,\u001b[0m \u001b[0;34m'singledispatch function'\u001b[0m\u001b[0;34m)\u001b[0m\u001b[0;34m\u001b[0m\u001b[0;34m\u001b[0m\u001b[0m\n",
      "\u001b[0;32m~/.local/lib/python3.10/site-packages/rpy2/robjects/pandas2ri.py\u001b[0m in \u001b[0;36mpy2rpy_pandasdataframe\u001b[0;34m(obj)\u001b[0m\n\u001b[1;32m     53\u001b[0m     \u001b[0;32mfor\u001b[0m \u001b[0mname\u001b[0m\u001b[0;34m,\u001b[0m \u001b[0mvalues\u001b[0m \u001b[0;32min\u001b[0m \u001b[0mobj\u001b[0m\u001b[0;34m.\u001b[0m\u001b[0miteritems\u001b[0m\u001b[0;34m(\u001b[0m\u001b[0;34m)\u001b[0m\u001b[0;34m:\u001b[0m\u001b[0;34m\u001b[0m\u001b[0;34m\u001b[0m\u001b[0m\n\u001b[1;32m     54\u001b[0m         \u001b[0;32mtry\u001b[0m\u001b[0;34m:\u001b[0m\u001b[0;34m\u001b[0m\u001b[0;34m\u001b[0m\u001b[0m\n\u001b[0;32m---> 55\u001b[0;31m             \u001b[0mod\u001b[0m\u001b[0;34m[\u001b[0m\u001b[0mname\u001b[0m\u001b[0;34m]\u001b[0m \u001b[0;34m=\u001b[0m \u001b[0mconversion\u001b[0m\u001b[0;34m.\u001b[0m\u001b[0mpy2rpy\u001b[0m\u001b[0;34m(\u001b[0m\u001b[0mvalues\u001b[0m\u001b[0;34m)\u001b[0m\u001b[0;34m\u001b[0m\u001b[0;34m\u001b[0m\u001b[0m\n\u001b[0m\u001b[1;32m     56\u001b[0m         \u001b[0;32mexcept\u001b[0m \u001b[0mException\u001b[0m \u001b[0;32mas\u001b[0m \u001b[0me\u001b[0m\u001b[0;34m:\u001b[0m\u001b[0;34m\u001b[0m\u001b[0;34m\u001b[0m\u001b[0m\n\u001b[1;32m     57\u001b[0m             warnings.warn('Error while trying to convert '\n",
      "\u001b[0;32m/usr/lib/python3.10/functools.py\u001b[0m in \u001b[0;36mwrapper\u001b[0;34m(*args, **kw)\u001b[0m\n\u001b[1;32m    887\u001b[0m                             '1 positional argument')\n\u001b[1;32m    888\u001b[0m \u001b[0;34m\u001b[0m\u001b[0m\n\u001b[0;32m--> 889\u001b[0;31m         \u001b[0;32mreturn\u001b[0m \u001b[0mdispatch\u001b[0m\u001b[0;34m(\u001b[0m\u001b[0margs\u001b[0m\u001b[0;34m[\u001b[0m\u001b[0;36m0\u001b[0m\u001b[0;34m]\u001b[0m\u001b[0;34m.\u001b[0m\u001b[0m__class__\u001b[0m\u001b[0;34m)\u001b[0m\u001b[0;34m(\u001b[0m\u001b[0;34m*\u001b[0m\u001b[0margs\u001b[0m\u001b[0;34m,\u001b[0m \u001b[0;34m**\u001b[0m\u001b[0mkw\u001b[0m\u001b[0;34m)\u001b[0m\u001b[0;34m\u001b[0m\u001b[0;34m\u001b[0m\u001b[0m\n\u001b[0m\u001b[1;32m    890\u001b[0m \u001b[0;34m\u001b[0m\u001b[0m\n\u001b[1;32m    891\u001b[0m     \u001b[0mfuncname\u001b[0m \u001b[0;34m=\u001b[0m \u001b[0mgetattr\u001b[0m\u001b[0;34m(\u001b[0m\u001b[0mfunc\u001b[0m\u001b[0;34m,\u001b[0m \u001b[0;34m'__name__'\u001b[0m\u001b[0;34m,\u001b[0m \u001b[0;34m'singledispatch function'\u001b[0m\u001b[0;34m)\u001b[0m\u001b[0;34m\u001b[0m\u001b[0;34m\u001b[0m\u001b[0m\n",
      "\u001b[0;32m~/.local/lib/python3.10/site-packages/rpy2/robjects/pandas2ri.py\u001b[0m in \u001b[0;36mpy2rpy_pandasseries\u001b[0;34m(obj)\u001b[0m\n\u001b[1;32m    163\u001b[0m     \u001b[0;32mif\u001b[0m \u001b[0mobj\u001b[0m\u001b[0;34m.\u001b[0m\u001b[0mndim\u001b[0m \u001b[0;34m==\u001b[0m \u001b[0;36m1\u001b[0m\u001b[0;34m:\u001b[0m\u001b[0;34m\u001b[0m\u001b[0;34m\u001b[0m\u001b[0m\n\u001b[1;32m    164\u001b[0m         res.do_slot_assign('names',\n\u001b[0;32m--> 165\u001b[0;31m                            StrVector(tuple(str(x) for x in obj.index)))\n\u001b[0m\u001b[1;32m    166\u001b[0m     \u001b[0;32melse\u001b[0m\u001b[0;34m:\u001b[0m\u001b[0;34m\u001b[0m\u001b[0;34m\u001b[0m\u001b[0m\n\u001b[1;32m    167\u001b[0m         res.do_slot_assign('dimnames',\n",
      "\u001b[0;32m~/.local/lib/python3.10/site-packages/rpy2/robjects/vectors.py\u001b[0m in \u001b[0;36m__init__\u001b[0;34m(self, obj)\u001b[0m\n\u001b[1;32m    382\u001b[0m \u001b[0;34m\u001b[0m\u001b[0m\n\u001b[1;32m    383\u001b[0m     \u001b[0;32mdef\u001b[0m \u001b[0m__init__\u001b[0m\u001b[0;34m(\u001b[0m\u001b[0mself\u001b[0m\u001b[0;34m,\u001b[0m \u001b[0mobj\u001b[0m\u001b[0;34m)\u001b[0m\u001b[0;34m:\u001b[0m\u001b[0;34m\u001b[0m\u001b[0;34m\u001b[0m\u001b[0m\n\u001b[0;32m--> 384\u001b[0;31m         \u001b[0msuper\u001b[0m\u001b[0;34m(\u001b[0m\u001b[0;34m)\u001b[0m\u001b[0;34m.\u001b[0m\u001b[0m__init__\u001b[0m\u001b[0;34m(\u001b[0m\u001b[0mobj\u001b[0m\u001b[0;34m)\u001b[0m\u001b[0;34m\u001b[0m\u001b[0;34m\u001b[0m\u001b[0m\n\u001b[0m\u001b[1;32m    385\u001b[0m         \u001b[0mself\u001b[0m\u001b[0;34m.\u001b[0m\u001b[0m_add_rops\u001b[0m\u001b[0;34m(\u001b[0m\u001b[0;34m)\u001b[0m\u001b[0;34m\u001b[0m\u001b[0;34m\u001b[0m\u001b[0m\n\u001b[1;32m    386\u001b[0m \u001b[0;34m\u001b[0m\u001b[0m\n",
      "\u001b[0;32m~/.local/lib/python3.10/site-packages/rpy2/rinterface_lib/sexp.py\u001b[0m in \u001b[0;36m__init__\u001b[0;34m(self, obj)\u001b[0m\n\u001b[1;32m    286\u001b[0m             \u001b[0msuper\u001b[0m\u001b[0;34m(\u001b[0m\u001b[0;34m)\u001b[0m\u001b[0;34m.\u001b[0m\u001b[0m__init__\u001b[0m\u001b[0;34m(\u001b[0m\u001b[0mobj\u001b[0m\u001b[0;34m)\u001b[0m\u001b[0;34m\u001b[0m\u001b[0;34m\u001b[0m\u001b[0m\n\u001b[1;32m    287\u001b[0m         \u001b[0;32melif\u001b[0m \u001b[0misinstance\u001b[0m\u001b[0;34m(\u001b[0m\u001b[0mobj\u001b[0m\u001b[0;34m,\u001b[0m \u001b[0mcollections\u001b[0m\u001b[0;34m.\u001b[0m\u001b[0mabc\u001b[0m\u001b[0;34m.\u001b[0m\u001b[0mSized\u001b[0m\u001b[0;34m)\u001b[0m\u001b[0;34m:\u001b[0m\u001b[0;34m\u001b[0m\u001b[0;34m\u001b[0m\u001b[0m\n\u001b[0;32m--> 288\u001b[0;31m             \u001b[0msuper\u001b[0m\u001b[0;34m(\u001b[0m\u001b[0;34m)\u001b[0m\u001b[0;34m.\u001b[0m\u001b[0m__init__\u001b[0m\u001b[0;34m(\u001b[0m\u001b[0mtype\u001b[0m\u001b[0;34m(\u001b[0m\u001b[0mself\u001b[0m\u001b[0;34m)\u001b[0m\u001b[0;34m.\u001b[0m\u001b[0mfrom_object\u001b[0m\u001b[0;34m(\u001b[0m\u001b[0mobj\u001b[0m\u001b[0;34m)\u001b[0m\u001b[0;34m.\u001b[0m\u001b[0m__sexp__\u001b[0m\u001b[0;34m)\u001b[0m\u001b[0;34m\u001b[0m\u001b[0;34m\u001b[0m\u001b[0m\n\u001b[0m\u001b[1;32m    289\u001b[0m         \u001b[0;32melse\u001b[0m\u001b[0;34m:\u001b[0m\u001b[0;34m\u001b[0m\u001b[0;34m\u001b[0m\u001b[0m\n\u001b[1;32m    290\u001b[0m             raise TypeError('The constructor must be called '\n",
      "\u001b[0;32m~/.local/lib/python3.10/site-packages/rpy2/rinterface_lib/sexp.py\u001b[0m in \u001b[0;36mfrom_object\u001b[0;34m(cls, obj)\u001b[0m\n\u001b[1;32m    370\u001b[0m         \u001b[0;32mexcept\u001b[0m \u001b[0;34m(\u001b[0m\u001b[0mTypeError\u001b[0m\u001b[0;34m,\u001b[0m \u001b[0mValueError\u001b[0m\u001b[0;34m)\u001b[0m\u001b[0;34m:\u001b[0m\u001b[0;34m\u001b[0m\u001b[0;34m\u001b[0m\u001b[0m\n\u001b[1;32m    371\u001b[0m             \u001b[0;32mtry\u001b[0m\u001b[0;34m:\u001b[0m\u001b[0;34m\u001b[0m\u001b[0;34m\u001b[0m\u001b[0m\n\u001b[0;32m--> 372\u001b[0;31m                 \u001b[0mres\u001b[0m \u001b[0;34m=\u001b[0m \u001b[0mcls\u001b[0m\u001b[0;34m.\u001b[0m\u001b[0mfrom_iterable\u001b[0m\u001b[0;34m(\u001b[0m\u001b[0mobj\u001b[0m\u001b[0;34m)\u001b[0m\u001b[0;34m\u001b[0m\u001b[0;34m\u001b[0m\u001b[0m\n\u001b[0m\u001b[1;32m    373\u001b[0m             \u001b[0;32mexcept\u001b[0m \u001b[0mValueError\u001b[0m\u001b[0;34m:\u001b[0m\u001b[0;34m\u001b[0m\u001b[0;34m\u001b[0m\u001b[0m\n\u001b[1;32m    374\u001b[0m                 msg = ('The class methods from_memoryview() and '\n",
      "\u001b[0;32m~/.local/lib/python3.10/site-packages/rpy2/rinterface_lib/conversion.py\u001b[0m in \u001b[0;36m_\u001b[0;34m(*args, **kwargs)\u001b[0m\n\u001b[1;32m     38\u001b[0m \u001b[0;32mdef\u001b[0m \u001b[0m_cdata_res_to_rinterface\u001b[0m\u001b[0;34m(\u001b[0m\u001b[0mfunction\u001b[0m\u001b[0;34m)\u001b[0m\u001b[0;34m:\u001b[0m\u001b[0;34m\u001b[0m\u001b[0;34m\u001b[0m\u001b[0m\n\u001b[1;32m     39\u001b[0m     \u001b[0;32mdef\u001b[0m \u001b[0m_\u001b[0m\u001b[0;34m(\u001b[0m\u001b[0;34m*\u001b[0m\u001b[0margs\u001b[0m\u001b[0;34m,\u001b[0m \u001b[0;34m**\u001b[0m\u001b[0mkwargs\u001b[0m\u001b[0;34m)\u001b[0m\u001b[0;34m:\u001b[0m\u001b[0;34m\u001b[0m\u001b[0;34m\u001b[0m\u001b[0m\n\u001b[0;32m---> 40\u001b[0;31m         \u001b[0mcdata\u001b[0m \u001b[0;34m=\u001b[0m \u001b[0mfunction\u001b[0m\u001b[0;34m(\u001b[0m\u001b[0;34m*\u001b[0m\u001b[0margs\u001b[0m\u001b[0;34m,\u001b[0m \u001b[0;34m**\u001b[0m\u001b[0mkwargs\u001b[0m\u001b[0;34m)\u001b[0m\u001b[0;34m\u001b[0m\u001b[0;34m\u001b[0m\u001b[0m\n\u001b[0m\u001b[1;32m     41\u001b[0m         \u001b[0;31m# TODO: test cdata is of the expected CType\u001b[0m\u001b[0;34m\u001b[0m\u001b[0;34m\u001b[0m\u001b[0m\n\u001b[1;32m     42\u001b[0m         \u001b[0;32mreturn\u001b[0m \u001b[0m_cdata_to_rinterface\u001b[0m\u001b[0;34m(\u001b[0m\u001b[0mcdata\u001b[0m\u001b[0;34m)\u001b[0m\u001b[0;34m\u001b[0m\u001b[0;34m\u001b[0m\u001b[0m\n",
      "\u001b[0;32m~/.local/lib/python3.10/site-packages/rpy2/rinterface_lib/sexp.py\u001b[0m in \u001b[0;36mfrom_iterable\u001b[0;34m(cls, iterable, populate_func)\u001b[0m\n\u001b[1;32m    316\u001b[0m             )\n\u001b[1;32m    317\u001b[0m             \u001b[0;32mif\u001b[0m \u001b[0mpopulate_func\u001b[0m \u001b[0;32mis\u001b[0m \u001b[0;32mNone\u001b[0m\u001b[0;34m:\u001b[0m\u001b[0;34m\u001b[0m\u001b[0;34m\u001b[0m\u001b[0m\n\u001b[0;32m--> 318\u001b[0;31m                 cls._populate_r_vector(iterable,\n\u001b[0m\u001b[1;32m    319\u001b[0m                                        r_vector)\n\u001b[1;32m    320\u001b[0m             \u001b[0;32melse\u001b[0m\u001b[0;34m:\u001b[0m\u001b[0;34m\u001b[0m\u001b[0;34m\u001b[0m\u001b[0m\n",
      "\u001b[0;32m~/.local/lib/python3.10/site-packages/rpy2/rinterface_lib/sexp.py\u001b[0m in \u001b[0;36m_populate_r_vector\u001b[0;34m(cls, iterable, r_vector)\u001b[0m\n\u001b[1;32m    297\u001b[0m     def _populate_r_vector(cls, iterable,\n\u001b[1;32m    298\u001b[0m                            r_vector):\n\u001b[0;32m--> 299\u001b[0;31m         return _populate_r_vector(iterable,\n\u001b[0m\u001b[1;32m    300\u001b[0m                                   \u001b[0mr_vector\u001b[0m\u001b[0;34m,\u001b[0m\u001b[0;34m\u001b[0m\u001b[0;34m\u001b[0m\u001b[0m\n\u001b[1;32m    301\u001b[0m                                   \u001b[0mcls\u001b[0m\u001b[0;34m.\u001b[0m\u001b[0m_R_SET_VECTOR_ELT\u001b[0m\u001b[0;34m,\u001b[0m\u001b[0;34m\u001b[0m\u001b[0;34m\u001b[0m\u001b[0m\n",
      "\u001b[0;32m~/.local/lib/python3.10/site-packages/rpy2/rinterface_lib/sexp.py\u001b[0m in \u001b[0;36m_populate_r_vector\u001b[0;34m(iterable, r_vector, set_elt, cast_value)\u001b[0m\n\u001b[1;32m    237\u001b[0m \u001b[0;32mdef\u001b[0m \u001b[0m_populate_r_vector\u001b[0m\u001b[0;34m(\u001b[0m\u001b[0miterable\u001b[0m\u001b[0;34m,\u001b[0m \u001b[0mr_vector\u001b[0m\u001b[0;34m,\u001b[0m \u001b[0mset_elt\u001b[0m\u001b[0;34m,\u001b[0m \u001b[0mcast_value\u001b[0m\u001b[0;34m)\u001b[0m\u001b[0;34m:\u001b[0m\u001b[0;34m\u001b[0m\u001b[0;34m\u001b[0m\u001b[0m\n\u001b[1;32m    238\u001b[0m     \u001b[0;32mfor\u001b[0m \u001b[0mi\u001b[0m\u001b[0;34m,\u001b[0m \u001b[0mv\u001b[0m \u001b[0;32min\u001b[0m \u001b[0menumerate\u001b[0m\u001b[0;34m(\u001b[0m\u001b[0miterable\u001b[0m\u001b[0;34m)\u001b[0m\u001b[0;34m:\u001b[0m\u001b[0;34m\u001b[0m\u001b[0;34m\u001b[0m\u001b[0m\n\u001b[0;32m--> 239\u001b[0;31m         \u001b[0mset_elt\u001b[0m\u001b[0;34m(\u001b[0m\u001b[0mr_vector\u001b[0m\u001b[0;34m,\u001b[0m \u001b[0mi\u001b[0m\u001b[0;34m,\u001b[0m \u001b[0mcast_value\u001b[0m\u001b[0;34m(\u001b[0m\u001b[0mv\u001b[0m\u001b[0;34m)\u001b[0m\u001b[0;34m)\u001b[0m\u001b[0;34m\u001b[0m\u001b[0;34m\u001b[0m\u001b[0m\n\u001b[0m\u001b[1;32m    240\u001b[0m \u001b[0;34m\u001b[0m\u001b[0m\n\u001b[1;32m    241\u001b[0m \u001b[0;34m\u001b[0m\u001b[0m\n",
      "\u001b[0;32m~/.local/lib/python3.10/site-packages/rpy2/rinterface_lib/sexp.py\u001b[0m in \u001b[0;36m_as_charsxp_cdata\u001b[0;34m(x)\u001b[0m\n\u001b[1;32m    430\u001b[0m         \u001b[0;32mreturn\u001b[0m \u001b[0mx\u001b[0m\u001b[0;34m.\u001b[0m\u001b[0m__sexp__\u001b[0m\u001b[0;34m.\u001b[0m\u001b[0m_cdata\u001b[0m\u001b[0;34m\u001b[0m\u001b[0;34m\u001b[0m\u001b[0m\n\u001b[1;32m    431\u001b[0m     \u001b[0;32melse\u001b[0m\u001b[0;34m:\u001b[0m\u001b[0;34m\u001b[0m\u001b[0;34m\u001b[0m\u001b[0m\n\u001b[0;32m--> 432\u001b[0;31m         \u001b[0;32mreturn\u001b[0m \u001b[0mconversion\u001b[0m\u001b[0;34m.\u001b[0m\u001b[0m_str_to_charsxp\u001b[0m\u001b[0;34m(\u001b[0m\u001b[0mx\u001b[0m\u001b[0;34m)\u001b[0m\u001b[0;34m\u001b[0m\u001b[0;34m\u001b[0m\u001b[0m\n\u001b[0m\u001b[1;32m    433\u001b[0m \u001b[0;34m\u001b[0m\u001b[0m\n\u001b[1;32m    434\u001b[0m \u001b[0;34m\u001b[0m\u001b[0m\n",
      "\u001b[0;32m~/.local/lib/python3.10/site-packages/rpy2/rinterface_lib/conversion.py\u001b[0m in \u001b[0;36m_str_to_charsxp\u001b[0;34m(val)\u001b[0m\n\u001b[1;32m    134\u001b[0m     \u001b[0;32melse\u001b[0m\u001b[0;34m:\u001b[0m\u001b[0;34m\u001b[0m\u001b[0;34m\u001b[0m\u001b[0m\n\u001b[1;32m    135\u001b[0m         \u001b[0mcchar\u001b[0m \u001b[0;34m=\u001b[0m \u001b[0m_str_to_cchar\u001b[0m\u001b[0;34m(\u001b[0m\u001b[0mval\u001b[0m\u001b[0;34m)\u001b[0m\u001b[0;34m\u001b[0m\u001b[0;34m\u001b[0m\u001b[0m\n\u001b[0;32m--> 136\u001b[0;31m         \u001b[0ms\u001b[0m \u001b[0;34m=\u001b[0m \u001b[0mrlib\u001b[0m\u001b[0;34m.\u001b[0m\u001b[0mRf_mkCharCE\u001b[0m\u001b[0;34m(\u001b[0m\u001b[0mcchar\u001b[0m\u001b[0;34m,\u001b[0m \u001b[0m_CE_DEFAULT_VALUE\u001b[0m\u001b[0;34m)\u001b[0m\u001b[0;34m\u001b[0m\u001b[0;34m\u001b[0m\u001b[0m\n\u001b[0m\u001b[1;32m    137\u001b[0m     \u001b[0;32mreturn\u001b[0m \u001b[0ms\u001b[0m\u001b[0;34m\u001b[0m\u001b[0;34m\u001b[0m\u001b[0m\n\u001b[1;32m    138\u001b[0m \u001b[0;34m\u001b[0m\u001b[0m\n",
      "\u001b[0;31mKeyboardInterrupt\u001b[0m: "
     ]
    }
   ],
   "source": [
    "with localconverter(robjects.default_converter + pandas2ri.converter):\n",
    "    r_whole_dataset = robjects.conversion.py2rpy(datasets['whole_dataset'])"
   ]
  },
  {
   "cell_type": "code",
   "execution_count": null,
   "id": "083f92ef",
   "metadata": {},
   "outputs": [],
   "source": [
    "with localconverter(robjects.default_converter + pandas2ri.converter):\n",
    "    r_proteins_mirna_dataset = robjects.conversion.py2rpy(datasets['proteins_mirna_dataset'])"
   ]
  },
  {
   "cell_type": "code",
   "execution_count": null,
   "id": "6b374b94",
   "metadata": {},
   "outputs": [],
   "source": [
    "with localconverter(robjects.default_converter + pandas2ri.converter):\n",
    "    r_proteins_mirna_mrna_dataset = robjects.conversion.py2rpy(datasets['proteins_mirna_mrna_dataset'])"
   ]
  },
  {
   "cell_type": "markdown",
   "id": "832206e7",
   "metadata": {},
   "source": [
    "# Store data in local"
   ]
  },
  {
   "cell_type": "code",
   "execution_count": 53,
   "id": "79f077d7",
   "metadata": {},
   "outputs": [],
   "source": [
    "def compute_and_save_result(data, path):\n",
    "    data_removed = robjects.globalenv[\"remove_correlated_par\"](data)\n",
    "    df = pd.DataFrame(data=np.array(data_removed), columns=data_removed.colnames)\n",
    "    df.to_json(path)\n",
    "    \n",
    "def restore_result(file_name):\n",
    "    return pd.read_json(f'elaborated_data_with_r_function/{file_name}.json')\n",
    "\n",
    "def load_or_store_removed_correlated(data, file_name):\n",
    "    if os.path.exists(f'elaborated_data_with_r_function/{file_name}.json'):\n",
    "        return restore_result(file_name)\n",
    "    else:\n",
    "        compute_and_save_result(data, f'elaborated_data_with_r_function/{file_name}.json')\n",
    "        return restore_result(file_name)"
   ]
  },
  {
   "cell_type": "code",
   "execution_count": 54,
   "id": "7ace0e61",
   "metadata": {},
   "outputs": [],
   "source": [
    "df_proteins_removed = load_or_store_removed_correlated(r_proteins, 'r_proteins_removed')"
   ]
  },
  {
   "cell_type": "code",
   "execution_count": null,
   "id": "9aa091f9",
   "metadata": {},
   "outputs": [],
   "source": [
    "df_mirna_removed = load_or_store_removed_correlated(r_miRNA, 'r_mirna_removed')"
   ]
  },
  {
   "cell_type": "code",
   "execution_count": null,
   "id": "7e1b5f7e",
   "metadata": {},
   "outputs": [],
   "source": [
    "df_mrna_removed = load_or_store_removed_correlated(r_mRNA, 'r_mrna_removed')"
   ]
  },
  {
   "cell_type": "code",
   "execution_count": null,
   "id": "1fbd10a5",
   "metadata": {},
   "outputs": [],
   "source": [
    "df_cnv_removed = load_or_store_removed_correlated(r_cnv, 'r_cnv_removed')"
   ]
  },
  {
   "cell_type": "code",
   "execution_count": null,
   "id": "ceb2c9a3",
   "metadata": {},
   "outputs": [],
   "source": [
    "df_dataset_whole_dataset_removed = load_or_store_removed_correlated(r_whole_dataset, 'r_dataset_whole_dataset_removed')"
   ]
  },
  {
   "cell_type": "code",
   "execution_count": null,
   "id": "3ffd6f06",
   "metadata": {},
   "outputs": [],
   "source": [
    "df_dataset_proteins_mirna_removed = load_or_store_removed_correlated(r_proteins_mirna_dataset, 'r_dataset_proteins_mirna_removed')"
   ]
  },
  {
   "cell_type": "code",
   "execution_count": null,
   "id": "d6494e41",
   "metadata": {},
   "outputs": [],
   "source": [
    "df_dataset_proteins_mirna_mrna_removed = load_or_store_removed_correlated(r_proteins_mirna_mrna_dataset, 'r_dataset_proteins_mirna_mrna_removed')"
   ]
  },
  {
   "cell_type": "code",
   "execution_count": null,
   "id": "42a739ca",
   "metadata": {},
   "outputs": [],
   "source": [
    "print('DATI MANIPOLATI CON LA FUNZIONE R ELIMINANDO LE FEATURE CORRELATE')"
   ]
  },
  {
   "cell_type": "markdown",
   "id": "5755d06d",
   "metadata": {},
   "source": [
    "# Intrinsic dimension estimation using the TwoNN algorithm"
   ]
  },
  {
   "cell_type": "code",
   "execution_count": 55,
   "id": "21e5c0e2",
   "metadata": {},
   "outputs": [],
   "source": [
    "def execute_instrinsic_dimension_estimation(data):\n",
    "    twoNN = skdim.id.TwoNN().fit(data)\n",
    "    #estimate local intrinsic dimension (dimension in k-nearest-neighborhoods around each point):\n",
    "    lpca = skdim.id.TwoNN().fit_pw(data,\n",
    "                                  n_neighbors = 100,\n",
    "                                  n_jobs = 1)\n",
    "\n",
    "    #get estimated intrinsic dimension\n",
    "    return twoNN.dimension_, np.mean(lpca.dimension_pw_)"
   ]
  },
  {
   "cell_type": "code",
   "execution_count": 56,
   "id": "30503f97",
   "metadata": {},
   "outputs": [],
   "source": [
    "intr_dimension_proteins, _ = execute_instrinsic_dimension_estimation(df_proteins_removed)"
   ]
  },
  {
   "cell_type": "code",
   "execution_count": null,
   "id": "11897dbc",
   "metadata": {},
   "outputs": [],
   "source": [
    "intr_dimension_mirna, _ = execute_instrinsic_dimension_estimation(df_mirna_removed)"
   ]
  },
  {
   "cell_type": "code",
   "execution_count": null,
   "id": "8fc1ab9b",
   "metadata": {},
   "outputs": [],
   "source": [
    "intr_dimension_mrna, _ = execute_instrinsic_dimension_estimation(df_mrna_removed)"
   ]
  },
  {
   "cell_type": "code",
   "execution_count": null,
   "id": "a1f1689e",
   "metadata": {},
   "outputs": [],
   "source": [
    "intr_dimension_cnv, _ = execute_instrinsic_dimension_estimation(df_cnv_removed)"
   ]
  },
  {
   "cell_type": "code",
   "execution_count": null,
   "id": "9f836c9c",
   "metadata": {},
   "outputs": [],
   "source": [
    "intr_dimension_whole_dataset, _ = execute_instrinsic_dimension_estimation(df_dataset_whole_dataset_removed)"
   ]
  },
  {
   "cell_type": "code",
   "execution_count": null,
   "id": "563e161b",
   "metadata": {},
   "outputs": [],
   "source": [
    "intr_dimension_proteins_mirna_dataset, _ = execute_instrinsic_dimension_estimation(df_dataset_proteins_mirna_removed)"
   ]
  },
  {
   "cell_type": "code",
   "execution_count": null,
   "id": "76727eca",
   "metadata": {},
   "outputs": [],
   "source": [
    "intr_dimension_proteins_mirna_mrna_dataset, _ = execute_instrinsic_dimension_estimation(df_dataset_proteins_mirna_mrna_removed)"
   ]
  },
  {
   "cell_type": "code",
   "execution_count": null,
   "id": "bc0a0a6d",
   "metadata": {},
   "outputs": [],
   "source": [
    "print('CALCOLATE LE DIMENSIONI INTRINSECHE')"
   ]
  },
  {
   "cell_type": "markdown",
   "id": "cac01d76",
   "metadata": {},
   "source": [
    "# Feature extraction using t-SNE"
   ]
  },
  {
   "cell_type": "code",
   "execution_count": 57,
   "id": "1a84c8ee",
   "metadata": {},
   "outputs": [],
   "source": [
    "def execute_tSNE(n_components, X):\n",
    "    return TSNE(n_components=n_components,random_state=42, method='exact', learning_rate='auto',\n",
    "               init='random', perplexity=40).fit_transform(X)"
   ]
  },
  {
   "cell_type": "code",
   "execution_count": 58,
   "id": "de9e5d92",
   "metadata": {},
   "outputs": [
    {
     "data": {
      "text/plain": [
       "array([[ 0.02827968, -0.538332  ,  2.017389  , ...,  0.06866251,\n",
       "        -0.01419938,  0.1714379 ],\n",
       "       [ 1.1858755 , -0.2449575 ,  0.09899098, ..., -0.647911  ,\n",
       "        -2.2259889 ,  1.3546269 ],\n",
       "       [-0.11526524,  1.1876009 , -0.25661   , ..., -0.01549989,\n",
       "        -0.08914804, -0.44238356],\n",
       "       ...,\n",
       "       [ 0.1740745 ,  0.21492848,  0.5759676 , ..., -0.11051686,\n",
       "        -0.62196606,  0.16051917],\n",
       "       [ 0.41008964,  0.2961388 ,  0.06382255, ..., -0.52506596,\n",
       "        -0.9969463 ,  1.3947321 ],\n",
       "       [ 0.06014965,  0.05395237, -0.1184661 , ..., -0.12036185,\n",
       "        -0.31327787,  0.04685224]], dtype=float32)"
      ]
     },
     "execution_count": 58,
     "metadata": {},
     "output_type": "execute_result"
    }
   ],
   "source": [
    "r_proteins_tsne = execute_tSNE(math.trunc(intr_dimension_proteins), df_proteins_removed)\n",
    "\n",
    "r_proteins_tsne"
   ]
  },
  {
   "cell_type": "code",
   "execution_count": null,
   "id": "edee0c31",
   "metadata": {},
   "outputs": [],
   "source": [
    "r_miRNA_tsne = execute_tSNE(math.trunc(intr_dimension_mirna), df_mirna_removed)"
   ]
  },
  {
   "cell_type": "code",
   "execution_count": null,
   "id": "8da4d9a6",
   "metadata": {},
   "outputs": [],
   "source": [
    "r_mRNA_tsne = execute_tSNE(math.trunc(intr_dimension_mrna), df_mrna_removed)"
   ]
  },
  {
   "cell_type": "code",
   "execution_count": null,
   "id": "61bd8e52",
   "metadata": {},
   "outputs": [],
   "source": [
    "r_cnv_tsne = execute_tSNE(math.trunc(intr_dimension_cnv), df_cnv_removed)"
   ]
  },
  {
   "cell_type": "code",
   "execution_count": null,
   "id": "b81c3aab",
   "metadata": {},
   "outputs": [],
   "source": [
    "r_dataset_whole_dataset_tnse = execute_tSNE(math.trunc(intr_dimension_whole_dataset), df_dataset_whole_dataset_removed)"
   ]
  },
  {
   "cell_type": "code",
   "execution_count": null,
   "id": "2b4f971a",
   "metadata": {},
   "outputs": [],
   "source": [
    "r_dataset_proteins_mirna_dataset_tnse = execute_tSNE(math.trunc(intr_dimension_proteins_mirna_dataset), df_dataset_proteins_mirna_removed)"
   ]
  },
  {
   "cell_type": "code",
   "execution_count": null,
   "id": "a93907e5",
   "metadata": {},
   "outputs": [],
   "source": [
    "r_dataset_proteins_mirna_mrna_dataset_tsne = execute_tSNE(math.trunc(intr_dimension_proteins_mirna_mrna_dataset), df_dataset_proteins_mirna_mrna_removed)"
   ]
  },
  {
   "cell_type": "code",
   "execution_count": null,
   "id": "0413b3dd",
   "metadata": {},
   "outputs": [],
   "source": [
    "print('ESTRATTE LE FEATURE USANDO tSNE')"
   ]
  },
  {
   "cell_type": "markdown",
   "id": "ed3d8f75",
   "metadata": {},
   "source": [
    "# Train using intrinsic dimensionality and tSNE whole dataset"
   ]
  },
  {
   "cell_type": "code",
   "execution_count": null,
   "id": "94d907bd",
   "metadata": {},
   "outputs": [],
   "source": [
    "def train_using_intrinsic_dimensionality_and_tnse_whole_dataset(X, label, num_external_fold,\n",
    "                                          type_dataset, tecnique_feature_selection,\n",
    "                                          path):\n",
    "    \n",
    "    \"\"\"\n",
    "    X : data using number of features of intrinsic dimensionality and appliying umap features extraction.\n",
    "    \"\"\"\n",
    "    \n",
    "    aucs = []\n",
    "    y_score_concatenated = []\n",
    "    y_test_fold_concatenated = []\n",
    "    result_dict = {}\n",
    "    result_dict[type_dataset] = {}\n",
    "    result_dict[type_dataset][tecnique_feature_selection] = {}   \n",
    "    iterator = 1\n",
    "    \n",
    "    label_numpy = label['x'].to_numpy()\n",
    "    \n",
    "    external_fold = StratifiedKFold(n_splits=num_external_fold, shuffle=True, random_state=1)\n",
    "    \n",
    "    for train_index, test_index in tqdm(external_fold.split(X, label_numpy), desc=f\"Running fold \", dynamic_ncols=True, leave=False):\n",
    "        \n",
    "        X_train_fold, X_test_fold = X[train_index], X[test_index]\n",
    "        y_train_fold, y_test_fold = label_numpy[train_index], label_numpy[test_index]\n",
    "        \n",
    "        clf = GridSearchCV(estimator=RandomForestClassifier(),\n",
    "                   scoring='average_precision',\n",
    "                   param_grid=model_selection_grid_DT, \n",
    "                   cv=2, \n",
    "                   n_jobs=-1)\n",
    "        clf.fit(X_train_fold, y_train_fold)\n",
    "        \n",
    "        # Get the predicited probability of testing data\n",
    "        y_score = clf.predict_proba(X_test_fold)[:, 1]\n",
    "        \n",
    "        #calculate precision and recall\n",
    "        precision, recall, thresholds = precision_recall_curve(y_test_fold, y_score)\n",
    "\n",
    "        #plot_precision_recall_curve(classifier, X_test_selected_feature, y_test_fold)\n",
    "        \n",
    "        y_score_concatenated = np.concatenate((y_score_concatenated, y_score), axis=None)\n",
    "        y_test_fold_concatenated = np.concatenate((y_test_fold_concatenated, y_test_fold), axis=None)\n",
    "        \n",
    "        \n",
    "        # Use AUC function to calculate the area under the curve of precision recall curve\n",
    "        auc_precision_recall = auc(recall, precision)\n",
    "        \n",
    "        aucs.append(auc_precision_recall)\n",
    "        #print('auc: {:.3f} using params {}:'.format(auc_precision_recall, clf.best_params_))\n",
    "    \n",
    "        PrecisionRecallDisplay.from_predictions(y_test_fold, y_score)\n",
    "        plt.savefig(path+tecnique_feature_selection+'/'+type_dataset+'_'+str(iterator)+'_AUPRC_Internal.pdf')\n",
    "        iterator = iterator+1\n",
    "        \n",
    "    internal_auc = np.mean(aucs)\n",
    "    \n",
    "    #calculate precision and recall\n",
    "    precision, recall, thresholds = precision_recall_curve(y_test_fold_concatenated, y_score_concatenated)\n",
    "    \n",
    "    external_auc = auc(recall, precision)\n",
    "    #plot precision recall curve\n",
    "    PrecisionRecallDisplay.from_predictions(y_test_fold_concatenated, y_score_concatenated)\n",
    "    #plt.show()\n",
    "    \n",
    "    result_dict[type_dataset][tecnique_feature_selection]['internal'] = '{0:.4f}'.format(internal_auc)\n",
    "    result_dict[type_dataset][tecnique_feature_selection]['external'] = '{0:.4f}'.format(external_auc)\n",
    "    result_dict[type_dataset][tecnique_feature_selection]['best_estimator'] = str(clf.best_estimator_)\n",
    "    \n",
    "    plt.savefig(path+tecnique_feature_selection+'/'+type_dataset+'_'+'AUPRC_External.pdf')\n",
    "    \n",
    "    with open(path+tecnique_feature_selection+'/'+type_dataset+'.json', 'w', encoding='utf-8') as fp:\n",
    "        json.dump(result_dict[type_dataset], fp, ensure_ascii=False, indent=4)\n",
    "    \n",
    "    return '{0:.4f}'.format(internal_auc), '{0:.4f}'.format(external_auc), clf.best_estimator_"
   ]
  },
  {
   "cell_type": "code",
   "execution_count": null,
   "id": "4968fe76",
   "metadata": {},
   "outputs": [],
   "source": [
    "model_selection_grid_DT = [\n",
    "    {'criterion': ['gini', 'entropy'],\n",
    "     'max_leaf_nodes': [None, 2, 5, 10],\n",
    "     'max_features': [None, 'sqrt', 'log2'],\n",
    "    'n_estimators': [51, 101, 251, 500]}\n",
    "]"
   ]
  },
  {
   "cell_type": "markdown",
   "id": "566019ac",
   "metadata": {},
   "source": [
    "# Train proteins"
   ]
  },
  {
   "cell_type": "code",
   "execution_count": null,
   "id": "46f6f27b",
   "metadata": {},
   "outputs": [],
   "source": [
    "!mkdir 'result_Experiments_using_R_Function_intrinsic_and_tnse_whole_dataset/r_function_intrinsic_with_tsne'\n",
    "train_using_intrinsic_dimensionality_and_tnse_whole_dataset(r_proteins_tsne, label, 10, 'proteins', 'r_function_intrinsic_with_tsne', 'result_Experiments_using_R_Function_intrinsic_and_tnse_whole_dataset/')"
   ]
  },
  {
   "cell_type": "code",
   "execution_count": null,
   "id": "e1da447f",
   "metadata": {},
   "outputs": [],
   "source": [
    "print('FINITO ADDESTRAMENTO PROTEINS')"
   ]
  },
  {
   "cell_type": "markdown",
   "id": "090428b1",
   "metadata": {},
   "source": [
    "# Train miRNA"
   ]
  },
  {
   "cell_type": "code",
   "execution_count": null,
   "id": "83b202c2",
   "metadata": {},
   "outputs": [],
   "source": [
    "train_using_intrinsic_dimensionality_and_tnse_whole_dataset(r_miRNA_tsne, label, 10, 'mirna', 'r_function_intrinsic_with_tsne', 'result_Experiments_using_R_Function_intrinsic_and_tnse_whole_dataset/')\n",
    "\n",
    "print('FINITO ADDESTRAMENTO MIRNA')"
   ]
  },
  {
   "cell_type": "markdown",
   "id": "b1e6a1a2",
   "metadata": {},
   "source": [
    "# Train mRNA"
   ]
  },
  {
   "cell_type": "code",
   "execution_count": null,
   "id": "fbd73a6b",
   "metadata": {},
   "outputs": [],
   "source": [
    "train_using_intrinsic_dimensionality_and_tnse_whole_dataset(r_mRNA_tsne, label, 10, 'mrna', 'r_function_intrinsic_with_tsne', 'result_Experiments_using_R_Function_intrinsic_and_tnse_whole_dataset/')\n",
    "\n",
    "print('FINITO ADDESTRAMENTO MRNA')"
   ]
  },
  {
   "cell_type": "markdown",
   "id": "3a08ff0e",
   "metadata": {},
   "source": [
    "# Train cnv"
   ]
  },
  {
   "cell_type": "code",
   "execution_count": null,
   "id": "447af5b4",
   "metadata": {},
   "outputs": [],
   "source": [
    "train_using_intrinsic_dimensionality_and_tnse_whole_dataset(r_cnv_tsne, label, 10, 'cnv', 'r_function_intrinsic_with_tsne', 'result_Experiments_using_R_Function_intrinsic_and_tnse_whole_dataset/')\n",
    "\n",
    "print('FINITO ADDESTRAMENTO CNV')"
   ]
  },
  {
   "cell_type": "markdown",
   "id": "3cdc6a5f",
   "metadata": {},
   "source": [
    "# Train whole dataset"
   ]
  },
  {
   "cell_type": "code",
   "execution_count": null,
   "id": "0a54b373",
   "metadata": {},
   "outputs": [],
   "source": [
    "train_using_intrinsic_dimensionality_and_tnse_whole_dataset(r_dataset_whole_dataset_tnse, label, 10, 'whole_dataset', 'r_function_intrinsic_with_tsne', 'result_Experiments_using_R_Function_intrinsic_and_tnse_whole_dataset/')\n",
    "\n",
    "print('FINITO ADDESTRAMENTO whole dataset')"
   ]
  },
  {
   "cell_type": "markdown",
   "id": "677c86f3",
   "metadata": {},
   "source": [
    "# Train proteins + mirna"
   ]
  },
  {
   "cell_type": "code",
   "execution_count": null,
   "id": "9a67f185",
   "metadata": {},
   "outputs": [],
   "source": [
    "train_using_intrinsic_dimensionality_and_tnse_whole_dataset(r_dataset_proteins_mirna_dataset_tsne, label, 10, 'proteins_mirna_dataset', 'r_function_intrinsic_with_tsne', 'result_Experiments_using_R_Function_intrinsic_and_tnse_whole_dataset/')\n",
    "\n",
    "print('FINITO ADDESTRAMENTO PROTEINS+MIRNA DATASET')"
   ]
  },
  {
   "cell_type": "markdown",
   "id": "ab068d6a",
   "metadata": {},
   "source": [
    "# Train proteins+mirna+mrna"
   ]
  },
  {
   "cell_type": "code",
   "execution_count": null,
   "id": "557e2676",
   "metadata": {},
   "outputs": [],
   "source": [
    "train_using_intrinsic_dimensionality_and_tnse_whole_dataset(r_dataset_proteins_mirna_mrna_dataset_tsne, label, 10, 'proteins_mirna_mrna_dataset', 'r_function_intrinsic_with_tsne', 'result_Experiments_using_R_Function_intrinsic_and_tnse_whole_dataset/')\n",
    "\n",
    "print('FINITO ADDESTRAMENTO PROTEINS+MIRNA+MRNA DATASET')"
   ]
  },
  {
   "cell_type": "markdown",
   "id": "102e6661",
   "metadata": {},
   "source": [
    "# Train using intrinsic dimensionality and tSNE on fold"
   ]
  },
  {
   "cell_type": "code",
   "execution_count": null,
   "id": "ab6ea5e2",
   "metadata": {},
   "outputs": [],
   "source": [
    "def train_using_intrinsic_dimensionality_and_tnse_on_fold(X, label, num_external_fold,\n",
    "                                          type_dataset, tecnique_feature_selection,\n",
    "                                          path):\n",
    "    \n",
    "    \"\"\"\n",
    "    X : data using number of features of intrinsic dimensionality and appliying umap features extraction.\n",
    "    \"\"\"\n",
    "    \n",
    "    aucs = []\n",
    "    y_score_concatenated = []\n",
    "    y_test_fold_concatenated = []\n",
    "    result_dict = {}\n",
    "    iterator = 1\n",
    "    result_dict[type_dataset] = {}\n",
    "    result_dict[type_dataset][tecnique_feature_selection] = {}\n",
    "    X_numpy = X.to_numpy()\n",
    "    \n",
    "    label_numpy = label['x'].to_numpy()\n",
    "    \n",
    "    external_fold = StratifiedKFold(n_splits=num_external_fold, shuffle=True, random_state=1)\n",
    "    \n",
    "    for train_index, test_index in tqdm(external_fold.split(X_numpy, label_numpy), desc=f\"Running fold \", dynamic_ncols=True, leave=False):\n",
    "        \n",
    "        X_train_fold, X_test_fold = X_numpy[train_index], X_numpy[test_index]\n",
    "        y_train_fold, y_test_fold = label_numpy[train_index], label_numpy[test_index]\n",
    "        \n",
    "        X_train_intr_dimension_proteins, _ = execute_instrinsic_dimension_estimation(X_train_fold)\n",
    "\n",
    "        X_train_r_proteins_umap = execute_tSNE(math.trunc(X_train_intr_dimension_proteins), X_train_fold)\n",
    "        X_test_r_proteins_umap = execute_tSNE(math.trunc(X_train_intr_dimension_proteins), X_test_fold)\n",
    "        \n",
    "        clf = GridSearchCV(estimator=RandomForestClassifier(),\n",
    "                   scoring='average_precision',\n",
    "                   param_grid=model_selection_grid_DT, \n",
    "                   cv=2, \n",
    "                   n_jobs=-1)\n",
    "        clf.fit(X_train_r_proteins_umap, y_train_fold)\n",
    "        \n",
    "        # Get the predicited probability of testing data\n",
    "        y_score = clf.predict_proba(X_test_r_proteins_umap)[:, 1]\n",
    "        \n",
    "        #calculate precision and recall\n",
    "        precision, recall, thresholds = precision_recall_curve(y_test_fold, y_score)\n",
    "\n",
    "        #plot_precision_recall_curve(classifier, X_test_selected_feature, y_test_fold)\n",
    "        \n",
    "        y_score_concatenated = np.concatenate((y_score_concatenated, y_score), axis=None)\n",
    "        y_test_fold_concatenated = np.concatenate((y_test_fold_concatenated, y_test_fold), axis=None)\n",
    "        \n",
    "        \n",
    "        # Use AUC function to calculate the area under the curve of precision recall curve\n",
    "        auc_precision_recall = auc(recall, precision)\n",
    "        \n",
    "        aucs.append(auc_precision_recall)\n",
    "        #print('auc: {:.3f} using params {}:'.format(auc_precision_recall, clf.best_params_))\n",
    "        \n",
    "        PrecisionRecallDisplay.from_predictions(y_test_fold, y_score)\n",
    "        plt.savefig(path+tecnique_feature_selection+'/'+type_dataset+'_'+str(iterator)+'_AUPRC_Internal.pdf')\n",
    "        iterator = iterator+1\n",
    "    \n",
    "    internal_auc = np.mean(aucs)\n",
    "    \n",
    "    #calculate precision and recall\n",
    "    precision, recall, thresholds = precision_recall_curve(y_test_fold_concatenated, y_score_concatenated)\n",
    "    \n",
    "    external_auc = auc(recall, precision)\n",
    "    #plot precision recall curve\n",
    "    PrecisionRecallDisplay.from_predictions(y_test_fold_concatenated, y_score_concatenated)\n",
    "    #plt.show()\n",
    "    \n",
    "    result_dict[type_dataset][tecnique_feature_selection]['internal'] = '{0:.4f}'.format(internal_auc)\n",
    "    result_dict[type_dataset][tecnique_feature_selection]['external'] = '{0:.4f}'.format(external_auc)\n",
    "    result_dict[type_dataset][tecnique_feature_selection]['best_estimator'] = str(clf.best_estimator_)\n",
    "    \n",
    "    plt.savefig(path+tecnique_feature_selection+'/'+type_dataset+'_'+'AUPRC_External.pdf')\n",
    "    \n",
    "    with open(path+tecnique_feature_selection+'/'+type_dataset+'.json', 'w', encoding='utf-8') as fp:\n",
    "        json.dump(result_dict[type_dataset], fp, ensure_ascii=False, indent=4)\n",
    "    \n",
    "    return '{0:.4f}'.format(internal_auc), '{0:.4f}'.format(external_auc), clf.best_estimator_"
   ]
  },
  {
   "cell_type": "markdown",
   "id": "6f252ea7",
   "metadata": {},
   "source": [
    "# Train proteins"
   ]
  },
  {
   "cell_type": "code",
   "execution_count": null,
   "id": "2d18b4bd",
   "metadata": {},
   "outputs": [],
   "source": [
    "!mkdir 'result_Experiments_using_R_Function_whole_intrinsic_and_umap_on_fold/r_function_intrinsic_with_tsne'\n",
    "\n",
    "train_using_intrinsic_dimensionality_and_tnse_on_fold(df_proteins_removed, label, 10, 'proteins', 'r_function_intrinsic_with_tsne', 'result_Experiments_using_R_Function_whole_intrinsic_and_umap_on_fold/')"
   ]
  },
  {
   "cell_type": "markdown",
   "id": "49301874",
   "metadata": {},
   "source": [
    "# Train mrna"
   ]
  },
  {
   "cell_type": "code",
   "execution_count": null,
   "id": "5d221f90",
   "metadata": {},
   "outputs": [],
   "source": [
    "train_using_intrinsic_dimensionality_and_tnse_on_fold(df_mrna_removed, label, 10, 'mrna', 'r_function_intrinsic_with_tsne', 'result_Experiments_using_R_Function_whole_intrinsic_and_umap_on_fold/')"
   ]
  },
  {
   "cell_type": "markdown",
   "id": "fc336bb5",
   "metadata": {},
   "source": [
    "# Train mirna"
   ]
  },
  {
   "cell_type": "code",
   "execution_count": null,
   "id": "44f89296",
   "metadata": {},
   "outputs": [],
   "source": [
    "train_using_intrinsic_dimensionality_and_tnse_on_fold(df_mirna_removed, label, 10, 'mirna', 'r_function_intrinsic_with_tsne', 'result_Experiments_using_R_Function_whole_intrinsic_and_umap_on_fold/')"
   ]
  },
  {
   "cell_type": "markdown",
   "id": "6b956522",
   "metadata": {},
   "source": [
    "# Train cnv"
   ]
  },
  {
   "cell_type": "code",
   "execution_count": null,
   "id": "71fe0c6c",
   "metadata": {},
   "outputs": [],
   "source": [
    "train_using_intrinsic_dimensionality_and_tnse_on_fold(df_cnv_removed, label, 10, 'cnv', 'r_function_intrinsic_with_tsne', 'result_Experiments_using_R_Function_whole_intrinsic_and_umap_on_fold/')"
   ]
  },
  {
   "cell_type": "markdown",
   "id": "7ac7f41f",
   "metadata": {},
   "source": [
    "# Train whole dataset"
   ]
  },
  {
   "cell_type": "code",
   "execution_count": null,
   "id": "2482dd3b",
   "metadata": {},
   "outputs": [],
   "source": [
    "train_using_intrinsic_dimensionality_and_tnse_on_fold(r_dataset_whole_dataset_tnse, label, 10, 'whole_dataset', 'r_function_intrinsic_with_tsne', 'result_Experiments_using_R_Function_whole_intrinsic_and_umap_on_fold/')"
   ]
  },
  {
   "cell_type": "markdown",
   "id": "272e7bda",
   "metadata": {},
   "source": [
    "# Train proteins + mirna"
   ]
  },
  {
   "cell_type": "code",
   "execution_count": null,
   "id": "2877ddcf",
   "metadata": {},
   "outputs": [],
   "source": [
    "train_using_intrinsic_dimensionality_and_tnse_on_fold(r_dataset_proteins_mirna_dataset_tsne, label, 10, 'proteins_mirna_dataset', 'r_function_intrinsic_with_tsne', 'result_Experiments_using_R_Function_whole_intrinsic_and_umap_on_fold/')"
   ]
  },
  {
   "cell_type": "markdown",
   "id": "191d8ad1",
   "metadata": {},
   "source": [
    "# Train proteins + mirna+mrna"
   ]
  },
  {
   "cell_type": "code",
   "execution_count": null,
   "id": "2b0ff790",
   "metadata": {},
   "outputs": [],
   "source": [
    "train_using_intrinsic_dimensionality_and_tnse_on_fold(r_dataset_proteins_mirna_mrna_dataset_tsne, label, 10, 'proteins_mirna_mrna_dataset', 'r_function_intrinsic_with_tsne', 'result_Experiments_using_R_Function_whole_intrinsic_and_umap_on_fold/')"
   ]
  }
 ],
 "metadata": {
  "kernelspec": {
   "display_name": "Python 3 (ipykernel)",
   "language": "python",
   "name": "python3"
  },
  "language_info": {
   "codemirror_mode": {
    "name": "ipython",
    "version": 3
   },
   "file_extension": ".py",
   "mimetype": "text/x-python",
   "name": "python",
   "nbconvert_exporter": "python",
   "pygments_lexer": "ipython3",
   "version": "3.10.6"
  }
 },
 "nbformat": 4,
 "nbformat_minor": 5
}

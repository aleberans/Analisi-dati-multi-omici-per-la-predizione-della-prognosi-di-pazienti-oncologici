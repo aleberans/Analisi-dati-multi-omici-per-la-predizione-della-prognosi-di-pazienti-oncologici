{
 "cells": [
  {
   "cell_type": "code",
   "execution_count": 35,
   "id": "71b81edd",
   "metadata": {},
   "outputs": [],
   "source": [
    "import json\n",
    "import pandas as pd\n",
    "import numpy as np\n",
    "from IPython.display import IFrame, display\n",
    "    \n",
    "def float_formatter(x): return '{:.3f}'.format(x)\n",
    "\n",
    "def highlight_max(s):\n",
    "    if (s.dtype == object):\n",
    "        is_max = [False for _ in range(s.shape[0])]\n",
    "    else:\n",
    "        is_max = s == s.max()\n",
    "    return ['background: lightgreen' if cell else '' for cell in is_max]\n",
    "\n",
    "wanted_keys = (\"internal\", \"external\")\n",
    "dictfilt = lambda x, y: dict([ (i,'{:.3f}'.format(float(x[i]))) for i in x if i in set(y) ])\n",
    "\n",
    "def retrieve_single_result_cnv():\n",
    "    f = open(f'Result/Many_Feature_Selection_notebook/cnv/cnv.json')\n",
    "    data = json.load(f)\n",
    "    new_dict = {}\n",
    "    new_dict['cnv'] = {}\n",
    "    new_dict['cnv']['spearman'] = dictfilt(data['spearman'], wanted_keys)\n",
    "    return pd.DataFrame(new_dict)\n",
    "\n",
    "def print_best_estimator(dataset, feature_selection):\n",
    "    f = open(f'Result/Many_Feature_Selection_notebook/{dataset}/{dataset}.json')\n",
    "    data = json.load(f)\n",
    "    print(data[feature_selection]['best_estimator'])\n",
    "    \n",
    "def retrieve_results():\n",
    "    new_dict = {}\n",
    "    for dataset in ['mirna', 'proteins', 'mrna', 'dataset_whole_dataset']:\n",
    "        new_dict[dataset] = {}\n",
    "        f = open(f'Result/Many_Feature_Selection_notebook/{dataset}/{dataset}.json')\n",
    "        data = json.load(f)\n",
    "        for metodo in ['mannwhitneyu','mannwhitneyu_with_umap', 'boruta', 'mine', 'mrmr']:\n",
    "            if metodo in data:\n",
    "                new_dict[dataset][metodo] = dictfilt(data[metodo], wanted_keys)\n",
    "            else: \n",
    "                new_dict[dataset][metodo] = -1\n",
    "    return pd.DataFrame(new_dict)\n",
    "\n",
    "def load_filtered_normalize_data():\n",
    "    dataset_dict = ['cnv','mirna', 'mrna', 'proteins']\n",
    "    dict_test = {}\n",
    "    for data in dataset_dict:\n",
    "        with open('filtered_normalize_data/'+data+'.json', 'r') as fp:\n",
    "            dataset = pd.read_json(fp)\n",
    "            dict_test[data] = dataset\n",
    "    return dict_test\n",
    "\n",
    "def load_data_after_r_function():\n",
    "    dataset_dict = ['cnv','mirna', 'mrna', 'proteins',\n",
    "                    'dataset_whole_dataset', 'proteins_mirna_dataset',\n",
    "                   'proteins_mirna_mrna_dataset']\n",
    "    dict_test = {}\n",
    "    for data in dataset_dict:\n",
    "        with open('elaborated_data_with_r_function/r_'+data+'_removed.json', 'r') as fp:\n",
    "            dataset = pd.read_json(fp)\n",
    "            dict_test[data] = dataset\n",
    "    return dict_test\n",
    "\n",
    "def retrieve_results_on_fold(lista_path, lista_dataset, lista_metodi):\n",
    "    new_dict = {}\n",
    "    for dataset in lista_dataset:\n",
    "        new_dict[dataset] = {}\n",
    "        for metodo, path in zip(lista_metodi, lista_path):\n",
    "            f = open(path)\n",
    "            data = json.load(f)\n",
    "            #dictfilt(data[metodo], wanted_keys)\n",
    "            new_dict[dataset][metodo] = dictfilt(data[metodo], wanted_keys)\n",
    "    return pd.DataFrame(new_dict)\n",
    "\n",
    "lista_metodi = ['r_function_intrinsic_with_tsne', 'r_function_intrinsic_with_umap',\n",
    "                'r_function_with_mannwhitney', 'r_function_with_mannwhitney_boruta',\n",
    "                'r_function_with_mannwhitney_mrmr']\n",
    "lista_dataset = ['proteins', 'cnv', 'mrna', 'mirna',\n",
    "                 'dataset_whole_dataset', 'proteins_mirna_dataset', 'proteins_mirna_mrna_dataset']\n",
    "\n",
    "lista_metodi_ext = ['r_function_intrinsic_with_tsne', 'r_function_intrinsic_with_umap']\n",
    "\n",
    "def retrieve_results_on_whole_dataset(lista_metodi_ext, lista_dataset):\n",
    "    new_dict = {}\n",
    "    for dataset in lista_dataset:\n",
    "        new_dict[dataset] = {}\n",
    "        for metodo in lista_metodi_ext:\n",
    "            f = open(f'result_new_experiment_externally/{metodo}/{dataset}.json')\n",
    "            data = json.load(f)\n",
    "            #float(data[metodo]['internal'])\n",
    "            new_dict[dataset][metodo] = dictfilt(data[metodo], wanted_keys)\n",
    "    return pd.DataFrame(new_dict)\n",
    "\n",
    "datasets = load_filtered_normalize_data()\n",
    "\n",
    "data_after_r_function = load_data_after_r_function()\n",
    "\n",
    "#create combination of dataset\n",
    "dataset_whole_dataset = pd.concat([datasets['cnv'], datasets['proteins'], datasets['mrna'], datasets['mirna']], axis=1)\n",
    "datasets['dataset_whole_dataset'] = dataset_whole_dataset\n",
    "\n",
    "proteins_mirna_dataset = pd.concat([datasets['proteins'], datasets['mirna']], axis=1)\n",
    "datasets['proteins_mirna_dataset'] = proteins_mirna_dataset\n",
    "\n",
    "proteins_mirna_mrna_dataset = pd.concat([datasets['proteins'], datasets['mirna'], datasets['mrna']], axis=1)\n",
    "datasets['proteins_mirna_mrna_dataset'] = proteins_mirna_mrna_dataset"
   ]
  },
  {
   "cell_type": "markdown",
   "id": "fb1de01a",
   "metadata": {},
   "source": [
    "# Osservazioni iniziali"
   ]
  },
  {
   "cell_type": "markdown",
   "id": "70bf4723",
   "metadata": {},
   "source": [
    "1) Inizialmente tutti i i dati sono stati normalizzati usando MinMaxScaler e filtrati scartando le feature con bassa variabilità ( deviazione standard < 0.05)\n",
    "3) Il modello usato è sempre RandomForest\n",
    "3) Viene usata l'AUPRC come misuratore di performance. La baseline per il dataset fornito è 0.122807, ovvero il 12% dei pazienti sono positivi (77 su 627).\n",
    "4) Viene sempre applicata una StratifiedKFold usando 10 fold.\n",
    "5) I risultati sono sempre presentati con etichetta \"external\" e \"internal\". Questo sta a indicare quando è stata calcolata la AUPRC: nel primo caso le predizioni effettuate dal modello nei 10 fold vengono concatenate e una volta finite viene calcolata l'AUPRC totale; nel secondo caso invece ad ogni iterazione viene calcolata l'AUPRC e alla fine viene calcolata la media. Calcolando l'AUPRC esternamente sono anche in grado di avere un grafico, cosa che internamente non è possibile poiché avrei 10 grafici distinti."
   ]
  },
  {
   "cell_type": "markdown",
   "id": "6745e4b5",
   "metadata": {},
   "source": [
    "### A cnv ho applicato spearman e scartato le feature altamente correlate tra di loro o bassamente correlate con la label"
   ]
  },
  {
   "cell_type": "code",
   "execution_count": 36,
   "id": "465a992d",
   "metadata": {},
   "outputs": [
    {
     "data": {
      "text/html": [
       "<div>\n",
       "<style scoped>\n",
       "    .dataframe tbody tr th:only-of-type {\n",
       "        vertical-align: middle;\n",
       "    }\n",
       "\n",
       "    .dataframe tbody tr th {\n",
       "        vertical-align: top;\n",
       "    }\n",
       "\n",
       "    .dataframe thead th {\n",
       "        text-align: right;\n",
       "    }\n",
       "</style>\n",
       "<table border=\"1\" class=\"dataframe\">\n",
       "  <thead>\n",
       "    <tr style=\"text-align: right;\">\n",
       "      <th></th>\n",
       "      <th>cnv</th>\n",
       "    </tr>\n",
       "  </thead>\n",
       "  <tbody>\n",
       "    <tr>\n",
       "      <th>spearman</th>\n",
       "      <td>{'internal': '0.135', 'external': '0.099'}</td>\n",
       "    </tr>\n",
       "  </tbody>\n",
       "</table>\n",
       "</div>"
      ],
      "text/plain": [
       "                                                 cnv\n",
       "spearman  {'internal': '0.135', 'external': '0.099'}"
      ]
     },
     "execution_count": 36,
     "metadata": {},
     "output_type": "execute_result"
    }
   ],
   "source": [
    "retrieve_single_result_cnv()"
   ]
  },
  {
   "cell_type": "code",
   "execution_count": 37,
   "id": "9c0014b2",
   "metadata": {},
   "outputs": [
    {
     "name": "stdout",
     "output_type": "stream",
     "text": [
      "RandomForestClassifier(criterion='entropy', max_leaf_nodes=5, n_estimators=101)\n"
     ]
    }
   ],
   "source": [
    "print_best_estimator('cnv', 'spearman')"
   ]
  },
  {
   "cell_type": "markdown",
   "id": "daef28d9",
   "metadata": {},
   "source": [
    "### Figura"
   ]
  },
  {
   "cell_type": "code",
   "execution_count": 38,
   "id": "f7a231f0",
   "metadata": {},
   "outputs": [
    {
     "data": {
      "text/html": [
       "\n",
       "        <iframe\n",
       "            width=\"700\"\n",
       "            height=\"400\"\n",
       "            src=\"Result/Many_Feature_Selection_notebook/cnv/spearman_AUPRC_External.pdf\"\n",
       "            frameborder=\"0\"\n",
       "            allowfullscreen\n",
       "            \n",
       "        ></iframe>\n",
       "        "
      ],
      "text/plain": [
       "<IPython.lib.display.IFrame at 0x7f060da06ce0>"
      ]
     },
     "execution_count": 38,
     "metadata": {},
     "output_type": "execute_result"
    }
   ],
   "source": [
    "filepath = \"Result/Many_Feature_Selection_notebook/cnv/spearman_AUPRC_External.pdf\"\n",
    "IFrame(filepath, width=700, height=400)"
   ]
  },
  {
   "cell_type": "markdown",
   "id": "9c8cbcaa",
   "metadata": {},
   "source": [
    "# Risultati di proteins, miRNA e mRNA e concat (concatenazione di tutti i dataset)"
   ]
  },
  {
   "cell_type": "code",
   "execution_count": 39,
   "id": "83834f10",
   "metadata": {},
   "outputs": [
    {
     "ename": "FileNotFoundError",
     "evalue": "[Errno 2] No such file or directory: 'Result/Many_Feature_Selection_notebook/mirna/mirna.json'",
     "output_type": "error",
     "traceback": [
      "\u001b[0;31m---------------------------------------------------------------------------\u001b[0m",
      "\u001b[0;31mFileNotFoundError\u001b[0m                         Traceback (most recent call last)",
      "\u001b[0;32m/tmp/ipykernel_3703710/2376415977.py\u001b[0m in \u001b[0;36m<module>\u001b[0;34m\u001b[0m\n\u001b[0;32m----> 1\u001b[0;31m \u001b[0mretrieve_results\u001b[0m\u001b[0;34m(\u001b[0m\u001b[0;34m)\u001b[0m\u001b[0;34m\u001b[0m\u001b[0;34m\u001b[0m\u001b[0m\n\u001b[0m",
      "\u001b[0;32m/tmp/ipykernel_3703710/96165925.py\u001b[0m in \u001b[0;36mretrieve_results\u001b[0;34m()\u001b[0m\n\u001b[1;32m     33\u001b[0m     \u001b[0;32mfor\u001b[0m \u001b[0mdataset\u001b[0m \u001b[0;32min\u001b[0m \u001b[0;34m[\u001b[0m\u001b[0;34m'mirna'\u001b[0m\u001b[0;34m,\u001b[0m \u001b[0;34m'proteins'\u001b[0m\u001b[0;34m,\u001b[0m \u001b[0;34m'mrna'\u001b[0m\u001b[0;34m,\u001b[0m \u001b[0;34m'dataset_whole_dataset'\u001b[0m\u001b[0;34m]\u001b[0m\u001b[0;34m:\u001b[0m\u001b[0;34m\u001b[0m\u001b[0;34m\u001b[0m\u001b[0m\n\u001b[1;32m     34\u001b[0m         \u001b[0mnew_dict\u001b[0m\u001b[0;34m[\u001b[0m\u001b[0mdataset\u001b[0m\u001b[0;34m]\u001b[0m \u001b[0;34m=\u001b[0m \u001b[0;34m{\u001b[0m\u001b[0;34m}\u001b[0m\u001b[0;34m\u001b[0m\u001b[0;34m\u001b[0m\u001b[0m\n\u001b[0;32m---> 35\u001b[0;31m         \u001b[0mf\u001b[0m \u001b[0;34m=\u001b[0m \u001b[0mopen\u001b[0m\u001b[0;34m(\u001b[0m\u001b[0;34mf'Result/Many_Feature_Selection_notebook/{dataset}/{dataset}.json'\u001b[0m\u001b[0;34m)\u001b[0m\u001b[0;34m\u001b[0m\u001b[0;34m\u001b[0m\u001b[0m\n\u001b[0m\u001b[1;32m     36\u001b[0m         \u001b[0mdata\u001b[0m \u001b[0;34m=\u001b[0m \u001b[0mjson\u001b[0m\u001b[0;34m.\u001b[0m\u001b[0mload\u001b[0m\u001b[0;34m(\u001b[0m\u001b[0mf\u001b[0m\u001b[0;34m)\u001b[0m\u001b[0;34m\u001b[0m\u001b[0;34m\u001b[0m\u001b[0m\n\u001b[1;32m     37\u001b[0m         \u001b[0;32mfor\u001b[0m \u001b[0mmetodo\u001b[0m \u001b[0;32min\u001b[0m \u001b[0;34m[\u001b[0m\u001b[0;34m'mannwhitneyu'\u001b[0m\u001b[0;34m,\u001b[0m\u001b[0;34m'mannwhitneyu_with_umap'\u001b[0m\u001b[0;34m,\u001b[0m \u001b[0;34m'boruta'\u001b[0m\u001b[0;34m,\u001b[0m \u001b[0;34m'mine'\u001b[0m\u001b[0;34m,\u001b[0m \u001b[0;34m'mrmr'\u001b[0m\u001b[0;34m]\u001b[0m\u001b[0;34m:\u001b[0m\u001b[0;34m\u001b[0m\u001b[0;34m\u001b[0m\u001b[0m\n",
      "\u001b[0;31mFileNotFoundError\u001b[0m: [Errno 2] No such file or directory: 'Result/Many_Feature_Selection_notebook/mirna/mirna.json'"
     ]
    }
   ],
   "source": [
    "retrieve_results()"
   ]
  },
  {
   "cell_type": "markdown",
   "id": "f21bc274",
   "metadata": {},
   "source": [
    "#### Per mRNA e concat in corrispodenza di mrmr c'è -1, questo perchè il calcolo richiedeva tantissimo tempo, sopratutto usando 10 fold"
   ]
  },
  {
   "cell_type": "markdown",
   "id": "7726a137",
   "metadata": {},
   "source": [
    "## Best estimator of the best combination of feature selection + extraction"
   ]
  },
  {
   "cell_type": "code",
   "execution_count": 6,
   "id": "bcb0c058",
   "metadata": {},
   "outputs": [
    {
     "name": "stdout",
     "output_type": "stream",
     "text": [
      "RandomForestClassifier(max_features='log2', max_leaf_nodes=5, n_estimators=51)\n"
     ]
    }
   ],
   "source": [
    "print_best_estimator('proteins', 'mannwhitneyu_with_umap')"
   ]
  },
  {
   "cell_type": "code",
   "execution_count": 7,
   "id": "8b44847f",
   "metadata": {},
   "outputs": [
    {
     "name": "stdout",
     "output_type": "stream",
     "text": [
      "RandomForestClassifier(max_features='log2', n_estimators=51)\n"
     ]
    }
   ],
   "source": [
    "print_best_estimator('mRNA', 'mannwhitneyu_with_umap')"
   ]
  },
  {
   "cell_type": "code",
   "execution_count": 8,
   "id": "01731bb0",
   "metadata": {},
   "outputs": [
    {
     "name": "stdout",
     "output_type": "stream",
     "text": [
      "RandomForestClassifier(criterion='entropy', max_leaf_nodes=10, n_estimators=51)\n"
     ]
    }
   ],
   "source": [
    "print_best_estimator('miRNA', 'mannwhitneyu_with_umap')"
   ]
  },
  {
   "cell_type": "code",
   "execution_count": 9,
   "id": "9d60d385",
   "metadata": {},
   "outputs": [
    {
     "name": "stdout",
     "output_type": "stream",
     "text": [
      "RandomForestClassifier(criterion='entropy', max_features='log2',\n",
      "                       n_estimators=101)\n"
     ]
    }
   ],
   "source": [
    "print_best_estimator('concat', 'mannwhitneyu_with_umap')"
   ]
  },
  {
   "cell_type": "markdown",
   "id": "0408e12c",
   "metadata": {},
   "source": [
    "# Seconda tipologia di esperimenti\n",
    "\n",
    "### Come prima cosa viene utlizzata una funzione che scarta le feature altamente correlate tra di loro usando \"pearson\" con un cutoff = 0.8. Vediamo quante feature vengono scartate:"
   ]
  },
  {
   "cell_type": "code",
   "execution_count": 30,
   "id": "a4144166",
   "metadata": {},
   "outputs": [
    {
     "name": "stdout",
     "output_type": "stream",
     "text": [
      "proteins: feature prima dell applicazione della funzione: 216\n",
      "proteins: feature dopo l applicazione della funzione: 216\n",
      "\n",
      "\n",
      "cnv: feature prima dell applicazione della funzione: 24776\n",
      "cnv: feature dopo l applicazione della funzione: 194\n",
      "\n",
      "\n",
      "mirna: feature prima dell applicazione della funzione: 773\n",
      "mirna: feature dopo l applicazione della funzione: 761\n",
      "\n",
      "\n",
      "mrna: feature prima dell applicazione della funzione: 18465\n",
      "mrna: feature dopo l applicazione della funzione: 18411\n",
      "\n",
      "\n",
      "dataset_whole_dataset: feature prima dell applicazione della funzione: 44230\n",
      "dataset_whole_dataset: feature dopo l applicazione della funzione: 20386\n",
      "\n",
      "\n",
      "proteins_mirna_dataset: feature prima dell applicazione della funzione: 989\n",
      "proteins_mirna_dataset: feature dopo l applicazione della funzione: 977\n",
      "\n",
      "\n",
      "proteins_mirna_mrna_dataset: feature prima dell applicazione della funzione: 19454\n",
      "proteins_mirna_mrna_dataset: feature dopo l applicazione della funzione: 19344\n",
      "\n",
      "\n"
     ]
    }
   ],
   "source": [
    "for dataset in ['proteins', 'cnv', 'mirna', 'mrna',\n",
    "                'dataset_whole_dataset', 'proteins_mirna_dataset',\n",
    "               'proteins_mirna_mrna_dataset']:    \n",
    "    print(f\"{dataset}: feature prima dell applicazione della funzione: {len(datasets[dataset].columns)}\")\n",
    "    print(f\"{dataset}: feature dopo l applicazione della funzione: {len(data_after_r_function[dataset].columns)}\")\n",
    "    print('\\n')"
   ]
  },
  {
   "cell_type": "markdown",
   "id": "75ec3868",
   "metadata": {},
   "source": [
    "### La differenza tra on fold e on whole dataset:\n",
    "1) In entrambi i casi la funzione che calcola la correlazione tra le feature viene applicata sull'intero dataset, prima di darlo in pasto alla funzione che splitta i dati in fold e addestra\n",
    "2) In 'on fold' il calcolo della dimensione intrinseca viene effettuato sul train set del fold generato durante la StratifiedKFold e la dimensione calcolata viene usata per fare feature extraction sia sul train set che sul test set, usando tSNE e Umap.\n",
    "3) In 'on whole dataset' invece la dimensione intrinseca viene calcolata esternamente alla funzione, quindi su tutto il dataset, e anche la feature extraction viene effettuata esternamente. Il dataset cosi ottenuto viene passato alla funzione che addestra."
   ]
  },
  {
   "cell_type": "code",
   "execution_count": 62,
   "id": "d90727ae",
   "metadata": {},
   "outputs": [],
   "source": [
    "def retrieve_results_on_fold(lista_path, lista_dataset):\n",
    "    new_dict = {}\n",
    "    for dataset in lista_dataset:\n",
    "        new_dict[dataset] = {}\n",
    "        for path in lista_path:\n",
    "            if 'umap' in path:\n",
    "                f = open(f'Result/{path}/r_function_intrinsic_with_umap/{dataset}.json')\n",
    "                data = json.load(f)\n",
    "                #dictfilt(data[metodo], wanted_keys)\n",
    "                new_dict[dataset]['r_function_intrinsic_with_umap'] = dictfilt(\n",
    "                    data['r_function_intrinsic_with_umap'], wanted_keys)\n",
    "            elif 'tsne' in path:\n",
    "                f = open(f'Result/{path}/r_function_intrinsic_with_tsne/{dataset}.json')\n",
    "                data = json.load(f)\n",
    "                #dictfilt(data[metodo], wanted_keys)\n",
    "                new_dict[dataset]['r_function_intrinsic_with_tsne'] = dictfilt(\n",
    "                    data['r_function_intrinsic_with_tsne'], wanted_keys)\n",
    "            elif 'multivariate' in path:\n",
    "                print('to do')\n",
    "    return pd.DataFrame(new_dict)"
   ]
  },
  {
   "cell_type": "code",
   "execution_count": 63,
   "id": "3ba4d873",
   "metadata": {},
   "outputs": [],
   "source": [
    "lista_dataset = ['proteins', 'cnv', 'mrna', 'mirna',\n",
    "                 'whole_dataset', 'proteins_mirna_dataset', 'proteins_mirna_mrna_dataset']\n",
    "lista_path = ['Experiments_using_R_Function_whole_intrinsic_and_umap_on_fold',\n",
    "             'Experiments_using_R_Function_whole_intrinsic_and_tsne_on_fold']"
   ]
  },
  {
   "cell_type": "markdown",
   "id": "0ecaf82b",
   "metadata": {},
   "source": [
    "# On fold"
   ]
  },
  {
   "cell_type": "code",
   "execution_count": 64,
   "id": "a2cf348d",
   "metadata": {},
   "outputs": [
    {
     "data": {
      "text/html": [
       "<div>\n",
       "<style scoped>\n",
       "    .dataframe tbody tr th:only-of-type {\n",
       "        vertical-align: middle;\n",
       "    }\n",
       "\n",
       "    .dataframe tbody tr th {\n",
       "        vertical-align: top;\n",
       "    }\n",
       "\n",
       "    .dataframe thead th {\n",
       "        text-align: right;\n",
       "    }\n",
       "</style>\n",
       "<table border=\"1\" class=\"dataframe\">\n",
       "  <thead>\n",
       "    <tr style=\"text-align: right;\">\n",
       "      <th></th>\n",
       "      <th>proteins</th>\n",
       "      <th>cnv</th>\n",
       "      <th>mrna</th>\n",
       "      <th>mirna</th>\n",
       "      <th>whole_dataset</th>\n",
       "      <th>proteins_mirna_dataset</th>\n",
       "      <th>proteins_mirna_mrna_dataset</th>\n",
       "    </tr>\n",
       "  </thead>\n",
       "  <tbody>\n",
       "    <tr>\n",
       "      <th>r_function_intrinsic_with_umap</th>\n",
       "      <td>{'internal': '0.346', 'external': '0.137'}</td>\n",
       "      <td>{'internal': '0.197', 'external': '0.117'}</td>\n",
       "      <td>{'internal': '0.320', 'external': '0.207'}</td>\n",
       "      <td>{'internal': '0.383', 'external': '0.175'}</td>\n",
       "      <td>{'internal': '0.227', 'external': '0.166'}</td>\n",
       "      <td>{'internal': '0.373', 'external': '0.120'}</td>\n",
       "      <td>{'internal': '0.363', 'external': '0.219'}</td>\n",
       "    </tr>\n",
       "    <tr>\n",
       "      <th>r_function_intrinsic_with_tsne</th>\n",
       "      <td>{'internal': '0.199', 'external': '0.141'}</td>\n",
       "      <td>{'internal': '0.163', 'external': '0.112'}</td>\n",
       "      <td>{'internal': '0.185', 'external': '0.130'}</td>\n",
       "      <td>{'internal': '0.160', 'external': '0.125'}</td>\n",
       "      <td>{'internal': '0.164', 'external': '0.139'}</td>\n",
       "      <td>{'internal': '0.177', 'external': '0.124'}</td>\n",
       "      <td>{'internal': '0.160', 'external': '0.124'}</td>\n",
       "    </tr>\n",
       "  </tbody>\n",
       "</table>\n",
       "</div>"
      ],
      "text/plain": [
       "                                                                  proteins  \\\n",
       "r_function_intrinsic_with_umap  {'internal': '0.346', 'external': '0.137'}   \n",
       "r_function_intrinsic_with_tsne  {'internal': '0.199', 'external': '0.141'}   \n",
       "\n",
       "                                                                       cnv  \\\n",
       "r_function_intrinsic_with_umap  {'internal': '0.197', 'external': '0.117'}   \n",
       "r_function_intrinsic_with_tsne  {'internal': '0.163', 'external': '0.112'}   \n",
       "\n",
       "                                                                      mrna  \\\n",
       "r_function_intrinsic_with_umap  {'internal': '0.320', 'external': '0.207'}   \n",
       "r_function_intrinsic_with_tsne  {'internal': '0.185', 'external': '0.130'}   \n",
       "\n",
       "                                                                     mirna  \\\n",
       "r_function_intrinsic_with_umap  {'internal': '0.383', 'external': '0.175'}   \n",
       "r_function_intrinsic_with_tsne  {'internal': '0.160', 'external': '0.125'}   \n",
       "\n",
       "                                                             whole_dataset  \\\n",
       "r_function_intrinsic_with_umap  {'internal': '0.227', 'external': '0.166'}   \n",
       "r_function_intrinsic_with_tsne  {'internal': '0.164', 'external': '0.139'}   \n",
       "\n",
       "                                                    proteins_mirna_dataset  \\\n",
       "r_function_intrinsic_with_umap  {'internal': '0.373', 'external': '0.120'}   \n",
       "r_function_intrinsic_with_tsne  {'internal': '0.177', 'external': '0.124'}   \n",
       "\n",
       "                                               proteins_mirna_mrna_dataset  \n",
       "r_function_intrinsic_with_umap  {'internal': '0.363', 'external': '0.219'}  \n",
       "r_function_intrinsic_with_tsne  {'internal': '0.160', 'external': '0.124'}  "
      ]
     },
     "execution_count": 64,
     "metadata": {},
     "output_type": "execute_result"
    }
   ],
   "source": [
    "retrieve_results_on_fold(lista_path, lista_dataset)"
   ]
  },
  {
   "cell_type": "markdown",
   "id": "f2fa813a",
   "metadata": {},
   "source": [
    "### whole dataset (transductive)"
   ]
  },
  {
   "cell_type": "code",
   "execution_count": 73,
   "id": "02751978",
   "metadata": {},
   "outputs": [],
   "source": [
    "def retrieve_results_on_whole_dataset(lista_path, lista_dataset):\n",
    "    new_dict = {}\n",
    "    for dataset in lista_dataset:\n",
    "        new_dict[dataset] = {}\n",
    "        for path in lista_path:\n",
    "            if 'umap' in path:\n",
    "                f = open(f'Result/{path}/r_function_intrinsic_with_umap/{dataset}.json')\n",
    "                data = json.load(f)\n",
    "                new_dict[dataset]['r_function_intrinsic_with_umap'] = dictfilt(\n",
    "                    data['r_function_intrinsic_with_umap'], wanted_keys)\n",
    "            elif 'tsne' in path:\n",
    "                f = open(f'Result/{path}/r_function_intrinsic_with_tsne/{dataset}.json')\n",
    "                data = json.load(f)\n",
    "                new_dict[dataset]['r_function_intrinsic_with_tsne'] = dictfilt(\n",
    "                    data['r_function_intrinsic_with_tsne'], wanted_keys)\n",
    "            elif 'multivariate' in path:\n",
    "                print('to do')\n",
    "    return pd.DataFrame(new_dict)"
   ]
  },
  {
   "cell_type": "code",
   "execution_count": 74,
   "id": "a6da85df",
   "metadata": {},
   "outputs": [],
   "source": [
    "lista_dataset = ['proteins', 'cnv', 'mrna', 'mirna',\n",
    "                 'whole_dataset', 'proteins_mirna_dataset', 'proteins_mirna_mrna_dataset']\n",
    "lista_path = ['Experiments_using_R_Function_intrinsic_and_umap_whole_dataset',\n",
    "             'Experiments_using_R_Function_intrinsic_and_tsne_whole_dataset']"
   ]
  },
  {
   "cell_type": "code",
   "execution_count": 75,
   "id": "21e1ba57",
   "metadata": {},
   "outputs": [
    {
     "data": {
      "text/html": [
       "<div>\n",
       "<style scoped>\n",
       "    .dataframe tbody tr th:only-of-type {\n",
       "        vertical-align: middle;\n",
       "    }\n",
       "\n",
       "    .dataframe tbody tr th {\n",
       "        vertical-align: top;\n",
       "    }\n",
       "\n",
       "    .dataframe thead th {\n",
       "        text-align: right;\n",
       "    }\n",
       "</style>\n",
       "<table border=\"1\" class=\"dataframe\">\n",
       "  <thead>\n",
       "    <tr style=\"text-align: right;\">\n",
       "      <th></th>\n",
       "      <th>proteins</th>\n",
       "      <th>cnv</th>\n",
       "      <th>mrna</th>\n",
       "      <th>mirna</th>\n",
       "      <th>whole_dataset</th>\n",
       "      <th>proteins_mirna_dataset</th>\n",
       "      <th>proteins_mirna_mrna_dataset</th>\n",
       "    </tr>\n",
       "  </thead>\n",
       "  <tbody>\n",
       "    <tr>\n",
       "      <th>r_function_intrinsic_with_umap</th>\n",
       "      <td>{'internal': '0.719', 'external': '0.694'}</td>\n",
       "      <td>{'internal': '0.552', 'external': '0.563'}</td>\n",
       "      <td>{'internal': '0.633', 'external': '0.637'}</td>\n",
       "      <td>{'internal': '0.787', 'external': '0.785'}</td>\n",
       "      <td>{'internal': '0.703', 'external': '0.684'}</td>\n",
       "      <td>{'internal': '0.735', 'external': '0.733'}</td>\n",
       "      <td>{'internal': '0.699', 'external': '0.679'}</td>\n",
       "    </tr>\n",
       "    <tr>\n",
       "      <th>r_function_intrinsic_with_tsne</th>\n",
       "      <td>{'internal': '0.136', 'external': '0.108'}</td>\n",
       "      <td>{'internal': '0.153', 'external': '0.115'}</td>\n",
       "      <td>{'internal': '0.168', 'external': '0.114'}</td>\n",
       "      <td>{'internal': '0.206', 'external': '0.153'}</td>\n",
       "      <td>{'internal': '0.164', 'external': '0.140'}</td>\n",
       "      <td>{'internal': '0.194', 'external': '0.139'}</td>\n",
       "      <td>{'internal': '0.179', 'external': '0.141'}</td>\n",
       "    </tr>\n",
       "  </tbody>\n",
       "</table>\n",
       "</div>"
      ],
      "text/plain": [
       "                                                                  proteins  \\\n",
       "r_function_intrinsic_with_umap  {'internal': '0.719', 'external': '0.694'}   \n",
       "r_function_intrinsic_with_tsne  {'internal': '0.136', 'external': '0.108'}   \n",
       "\n",
       "                                                                       cnv  \\\n",
       "r_function_intrinsic_with_umap  {'internal': '0.552', 'external': '0.563'}   \n",
       "r_function_intrinsic_with_tsne  {'internal': '0.153', 'external': '0.115'}   \n",
       "\n",
       "                                                                      mrna  \\\n",
       "r_function_intrinsic_with_umap  {'internal': '0.633', 'external': '0.637'}   \n",
       "r_function_intrinsic_with_tsne  {'internal': '0.168', 'external': '0.114'}   \n",
       "\n",
       "                                                                     mirna  \\\n",
       "r_function_intrinsic_with_umap  {'internal': '0.787', 'external': '0.785'}   \n",
       "r_function_intrinsic_with_tsne  {'internal': '0.206', 'external': '0.153'}   \n",
       "\n",
       "                                                             whole_dataset  \\\n",
       "r_function_intrinsic_with_umap  {'internal': '0.703', 'external': '0.684'}   \n",
       "r_function_intrinsic_with_tsne  {'internal': '0.164', 'external': '0.140'}   \n",
       "\n",
       "                                                    proteins_mirna_dataset  \\\n",
       "r_function_intrinsic_with_umap  {'internal': '0.735', 'external': '0.733'}   \n",
       "r_function_intrinsic_with_tsne  {'internal': '0.194', 'external': '0.139'}   \n",
       "\n",
       "                                               proteins_mirna_mrna_dataset  \n",
       "r_function_intrinsic_with_umap  {'internal': '0.699', 'external': '0.679'}  \n",
       "r_function_intrinsic_with_tsne  {'internal': '0.179', 'external': '0.141'}  "
      ]
     },
     "execution_count": 75,
     "metadata": {},
     "output_type": "execute_result"
    }
   ],
   "source": [
    "retrieve_results_on_whole_dataset(lista_path, lista_dataset)"
   ]
  },
  {
   "cell_type": "code",
   "execution_count": null,
   "id": "49ddbf53",
   "metadata": {},
   "outputs": [],
   "source": []
  }
 ],
 "metadata": {
  "kernelspec": {
   "display_name": "Python 3 (ipykernel)",
   "language": "python",
   "name": "python3"
  },
  "language_info": {
   "codemirror_mode": {
    "name": "ipython",
    "version": 3
   },
   "file_extension": ".py",
   "mimetype": "text/x-python",
   "name": "python",
   "nbconvert_exporter": "python",
   "pygments_lexer": "ipython3",
   "version": "3.10.6"
  }
 },
 "nbformat": 4,
 "nbformat_minor": 5
}

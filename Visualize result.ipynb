{
 "cells": [
  {
   "cell_type": "code",
   "execution_count": 1,
   "id": "71b81edd",
   "metadata": {},
   "outputs": [],
   "source": [
    "import json\n",
    "import pandas as pd\n",
    "import numpy as np\n",
    "from IPython.display import IFrame, display\n",
    "    \n",
    "def float_formatter(x): return '{:.3f}'.format(x)\n",
    "\n",
    "def highlight_max(s):\n",
    "    if (s.dtype == object):\n",
    "        is_max = [False for _ in range(s.shape[0])]\n",
    "    else:\n",
    "        is_max = s == s.max()\n",
    "    return ['background: lightgreen' if cell else '' for cell in is_max]\n",
    "\n",
    "wanted_keys = (\"internal\", \"external\")\n",
    "dictfilt = lambda x, y: dict([ (i,'{:.2f}'.format(round(float(x[i]),2))) for i in x if i in set(y) ])\n",
    "\n",
    "def retrieve_single_result_cnv():\n",
    "    f = open(f'Result/Many_Feature_Selection_notebook/cnv/cnv.json')\n",
    "    data = json.load(f)\n",
    "    new_dict = {}\n",
    "    new_dict['cnv'] = {}\n",
    "    new_dict['cnv']['spearman'] = dictfilt(data['spearman'], wanted_keys)\n",
    "    return pd.DataFrame(new_dict)\n",
    "\n",
    "def print_best_estimator(dataset, feature_selection):\n",
    "    f = open(f'Result/Many_Feature_Selection_notebook/{dataset}/{dataset}.json')\n",
    "    data = json.load(f)\n",
    "    print(data[feature_selection]['best_estimator'])\n",
    "    \n",
    "def retrieve_results():\n",
    "    new_dict = {}\n",
    "    for dataset in ['mirna', 'proteins', 'mrna', 'whole_dataset']:\n",
    "        new_dict[dataset] = {}\n",
    "        f = open(f'Result/Many_Feature_Selection_notebook/{dataset}/{dataset}.json')\n",
    "        data = json.load(f)\n",
    "        for metodo in ['mannwhitneyu','mannwhitneyu_with_umap', 'boruta', 'mine', 'mrmr']:\n",
    "            if metodo in data:\n",
    "                new_dict[dataset][metodo] = dictfilt(data[metodo], wanted_keys)\n",
    "            else: \n",
    "                new_dict[dataset][metodo] = -1\n",
    "    return pd.DataFrame(new_dict)\n",
    "\n",
    "def load_filtered_normalize_data():\n",
    "    dataset_dict = ['cnv','mirna', 'mrna', 'proteins']\n",
    "    dict_test = {}\n",
    "    for data in dataset_dict:\n",
    "        with open('filtered_normalize_data/'+data+'.json', 'r') as fp:\n",
    "            dataset = pd.read_json(fp)\n",
    "            dict_test[data] = dataset\n",
    "    return dict_test\n",
    "\n",
    "def load_data_after_r_function():\n",
    "    dataset_dict = ['cnv','mirna', 'mrna', 'proteins',\n",
    "                    'dataset_whole_dataset', 'proteins_mirna_dataset',\n",
    "                   'proteins_mirna_mrna_dataset']\n",
    "    dict_test = {}\n",
    "    for data in dataset_dict:\n",
    "        with open('elaborated_data_with_r_function/r_'+data+'_removed.json', 'r') as fp:\n",
    "            dataset = pd.read_json(fp)\n",
    "            dict_test[data] = dataset\n",
    "    return dict_test\n",
    "\n",
    "lista_dataset = ['proteins', 'cnv', 'mrna', 'mirna','whole_dataset',\n",
    "                'proteins_mirna','proteins_mirna_mrna']\n",
    "\n",
    "lista_path_on_whole = ['Experiments_using_R_Function_intrinsic_and_umap_whole_dataset',\n",
    "             'Experiments_using_R_Function_intrinsic_and_tsne_whole_dataset',\n",
    "             'Experiments_using_R_Function_mannwhitney_and_multivariate_feature_selection_whole_dataset']\n",
    "\n",
    "lista_path_on_fold = ['Experiments_using_R_Function_whole_intrinsic_and_umap_on_fold',\n",
    "             'Experiments_using_R_Function_whole_intrinsic_and_tsne_on_fold',\n",
    "             'Experiments_using_R_Function_mannwhitney_and_multivariate_feature_selection_on_fold']\n",
    "\n",
    "def retrieve_results_on_fold_or_on_whole(lista_path, lista_dataset):\n",
    "    new_dict = {}\n",
    "    for dataset in lista_dataset:\n",
    "        new_dict[dataset] = {}\n",
    "        for path in lista_path:\n",
    "            if 'umap' in path:\n",
    "                f = open(f'Result/{path}/r_function_intrinsic_with_umap/{dataset}.json')\n",
    "                data = json.load(f)\n",
    "                new_dict[dataset]['r_function_intrinsic_with_umap'] = dictfilt(\n",
    "                    data['r_function_intrinsic_with_umap'], wanted_keys)\n",
    "            elif 'tsne' in path:\n",
    "                f = open(f'Result/{path}/r_function_intrinsic_with_tsne/{dataset}.json')\n",
    "                data = json.load(f)\n",
    "                new_dict[dataset]['r_function_intrinsic_with_tsne'] = dictfilt(\n",
    "                    data['r_function_intrinsic_with_tsne'], wanted_keys)\n",
    "            elif 'multivariate' in path:\n",
    "                if dataset != 'cnv':\n",
    "                    \n",
    "                    f = open(f'Result/{path}/r_function_with_mannwhitney_boruta/{dataset}.json')\n",
    "                    data = json.load(f)\n",
    "                    new_dict[dataset]['r_function_with_mannwhitney_boruta'] = dictfilt(\n",
    "                        data['r_function_with_mannwhitney_boruta'], wanted_keys)\n",
    "                    \n",
    "                if dataset != 'mrna' and dataset != 'whole_dataset' and dataset != 'proteins_mirna_mrna':\n",
    "                    \n",
    "                    f = open(f'Result/{path}/r_function_with_mannwhitney_mrmr/{dataset}.json')\n",
    "                    data = json.load(f)\n",
    "                    new_dict[dataset]['r_function_with_mannwhitney_mrmr'] = dictfilt(\n",
    "                        data['r_function_with_mannwhitney_mrmr'], wanted_keys)\n",
    "                \n",
    "                f = open(f'Result/{path}/r_function_with_mannwhitney/{dataset}.json')\n",
    "                data = json.load(f)\n",
    "                new_dict[dataset]['r_function_with_mannwhitney'] = dictfilt(\n",
    "                    data['r_function_with_mannwhitney'], wanted_keys)\n",
    "    return pd.DataFrame(new_dict)\n",
    "\n",
    "datasets = load_filtered_normalize_data()\n",
    "\n",
    "data_after_r_function = load_data_after_r_function()\n",
    "\n",
    "#create combination of dataset\n",
    "dataset_whole_dataset = pd.concat([datasets['cnv'], datasets['proteins'], datasets['mrna'], datasets['mirna']], axis=1)\n",
    "datasets['dataset_whole_dataset'] = dataset_whole_dataset\n",
    "\n",
    "proteins_mirna_dataset = pd.concat([datasets['proteins'], datasets['mirna']], axis=1)\n",
    "datasets['proteins_mirna_dataset'] = proteins_mirna_dataset\n",
    "\n",
    "proteins_mirna_mrna_dataset = pd.concat([datasets['proteins'], datasets['mirna'], datasets['mrna']], axis=1)\n",
    "datasets['proteins_mirna_mrna_dataset'] = proteins_mirna_mrna_dataset"
   ]
  },
  {
   "cell_type": "markdown",
   "id": "fb1de01a",
   "metadata": {},
   "source": [
    "# Osservazioni iniziali"
   ]
  },
  {
   "cell_type": "markdown",
   "id": "70bf4723",
   "metadata": {},
   "source": [
    "1) Inizialmente tutti i i dati sono stati normalizzati usando MinMaxScaler e filtrati scartando le feature con bassa variabilità ( deviazione standard < 0.05)\n",
    "3) Il modello usato è sempre RandomForest\n",
    "3) Viene usata l'AUPRC come misuratore di performance. La baseline per il dataset fornito è 0.122807, ovvero il 12% dei pazienti sono positivi (77 su 627).\n",
    "4) Viene sempre applicata una StratifiedKFold usando 10 fold.\n",
    "5) I risultati sono sempre presentati con etichetta \"external\" e \"internal\". Questo sta a indicare quando è stata calcolata la AUPRC: nel primo caso le predizioni effettuate dal modello nei 10 fold vengono concatenate e una volta finite viene calcolata l'AUPRC totale; nel secondo caso invece ad ogni iterazione viene calcolata l'AUPRC e alla fine viene calcolata la media. "
   ]
  },
  {
   "cell_type": "markdown",
   "id": "6745e4b5",
   "metadata": {},
   "source": [
    "### A cnv ho applicato spearman e scartato le feature altamente correlate tra di loro o bassamente correlate con la label"
   ]
  },
  {
   "cell_type": "code",
   "execution_count": 2,
   "id": "465a992d",
   "metadata": {},
   "outputs": [
    {
     "data": {
      "text/html": [
       "<div>\n",
       "<style scoped>\n",
       "    .dataframe tbody tr th:only-of-type {\n",
       "        vertical-align: middle;\n",
       "    }\n",
       "\n",
       "    .dataframe tbody tr th {\n",
       "        vertical-align: top;\n",
       "    }\n",
       "\n",
       "    .dataframe thead th {\n",
       "        text-align: right;\n",
       "    }\n",
       "</style>\n",
       "<table border=\"1\" class=\"dataframe\">\n",
       "  <thead>\n",
       "    <tr style=\"text-align: right;\">\n",
       "      <th></th>\n",
       "      <th>cnv</th>\n",
       "    </tr>\n",
       "  </thead>\n",
       "  <tbody>\n",
       "    <tr>\n",
       "      <th>spearman</th>\n",
       "      <td>{'internal': '0.13', 'external': '0.10'}</td>\n",
       "    </tr>\n",
       "  </tbody>\n",
       "</table>\n",
       "</div>"
      ],
      "text/plain": [
       "                                               cnv\n",
       "spearman  {'internal': '0.13', 'external': '0.10'}"
      ]
     },
     "execution_count": 2,
     "metadata": {},
     "output_type": "execute_result"
    }
   ],
   "source": [
    "retrieve_single_result_cnv()"
   ]
  },
  {
   "cell_type": "code",
   "execution_count": 3,
   "id": "9c0014b2",
   "metadata": {},
   "outputs": [
    {
     "name": "stdout",
     "output_type": "stream",
     "text": [
      "RandomForestClassifier(criterion='entropy', max_leaf_nodes=5, n_estimators=101)\n"
     ]
    }
   ],
   "source": [
    "print_best_estimator('cnv', 'spearman')"
   ]
  },
  {
   "cell_type": "markdown",
   "id": "daef28d9",
   "metadata": {},
   "source": [
    "### Figura"
   ]
  },
  {
   "cell_type": "code",
   "execution_count": 4,
   "id": "f7a231f0",
   "metadata": {},
   "outputs": [
    {
     "data": {
      "text/html": [
       "\n",
       "        <iframe\n",
       "            width=\"700\"\n",
       "            height=\"400\"\n",
       "            src=\"Result/Many_Feature_Selection_notebook/cnv/spearman_AUPRC_External.pdf\"\n",
       "            frameborder=\"0\"\n",
       "            allowfullscreen\n",
       "            \n",
       "        ></iframe>\n",
       "        "
      ],
      "text/plain": [
       "<IPython.lib.display.IFrame at 0x7fab868ae9e0>"
      ]
     },
     "execution_count": 4,
     "metadata": {},
     "output_type": "execute_result"
    }
   ],
   "source": [
    "filepath = \"Result/Many_Feature_Selection_notebook/cnv/spearman_AUPRC_External.pdf\"\n",
    "IFrame(filepath, width=700, height=400)"
   ]
  },
  {
   "cell_type": "markdown",
   "id": "9c8cbcaa",
   "metadata": {},
   "source": [
    "# Risultati di proteins, miRNA e mRNA e concat (concatenazione di tutti i dataset)"
   ]
  },
  {
   "cell_type": "code",
   "execution_count": 5,
   "id": "9525cbd3",
   "metadata": {},
   "outputs": [
    {
     "data": {
      "text/html": [
       "<div>\n",
       "<style scoped>\n",
       "    .dataframe tbody tr th:only-of-type {\n",
       "        vertical-align: middle;\n",
       "    }\n",
       "\n",
       "    .dataframe tbody tr th {\n",
       "        vertical-align: top;\n",
       "    }\n",
       "\n",
       "    .dataframe thead th {\n",
       "        text-align: right;\n",
       "    }\n",
       "</style>\n",
       "<table border=\"1\" class=\"dataframe\">\n",
       "  <thead>\n",
       "    <tr style=\"text-align: right;\">\n",
       "      <th></th>\n",
       "      <th>mirna</th>\n",
       "      <th>proteins</th>\n",
       "      <th>mrna</th>\n",
       "      <th>whole_dataset</th>\n",
       "    </tr>\n",
       "  </thead>\n",
       "  <tbody>\n",
       "    <tr>\n",
       "      <th>mannwhitneyu</th>\n",
       "      <td>{'internal': '0.25', 'external': '0.16'}</td>\n",
       "      <td>{'internal': '0.22', 'external': '0.15'}</td>\n",
       "      <td>{'internal': '0.23', 'external': '0.15'}</td>\n",
       "      <td>{'internal': '0.23', 'external': '0.16'}</td>\n",
       "    </tr>\n",
       "    <tr>\n",
       "      <th>mannwhitneyu_with_umap</th>\n",
       "      <td>{'internal': '0.27', 'external': '0.12'}</td>\n",
       "      <td>{'internal': '0.26', 'external': '0.12'}</td>\n",
       "      <td>{'internal': '0.39', 'external': '0.14'}</td>\n",
       "      <td>{'internal': '0.21', 'external': '0.11'}</td>\n",
       "    </tr>\n",
       "    <tr>\n",
       "      <th>boruta</th>\n",
       "      <td>{'internal': '0.18', 'external': '0.14'}</td>\n",
       "      <td>{'internal': '0.17', 'external': '0.12'}</td>\n",
       "      <td>{'internal': '0.20', 'external': '0.16'}</td>\n",
       "      <td>{'internal': '0.22', 'external': '0.16'}</td>\n",
       "    </tr>\n",
       "    <tr>\n",
       "      <th>mine</th>\n",
       "      <td>{'internal': '0.25', 'external': '0.17'}</td>\n",
       "      <td>{'internal': '0.21', 'external': '0.15'}</td>\n",
       "      <td>{'internal': '0.23', 'external': '0.17'}</td>\n",
       "      <td>-1</td>\n",
       "    </tr>\n",
       "    <tr>\n",
       "      <th>mrmr</th>\n",
       "      <td>{'internal': '0.20', 'external': '0.14'}</td>\n",
       "      <td>{'internal': '0.19', 'external': '0.14'}</td>\n",
       "      <td>-1</td>\n",
       "      <td>-1</td>\n",
       "    </tr>\n",
       "  </tbody>\n",
       "</table>\n",
       "</div>"
      ],
      "text/plain": [
       "                                                           mirna  \\\n",
       "mannwhitneyu            {'internal': '0.25', 'external': '0.16'}   \n",
       "mannwhitneyu_with_umap  {'internal': '0.27', 'external': '0.12'}   \n",
       "boruta                  {'internal': '0.18', 'external': '0.14'}   \n",
       "mine                    {'internal': '0.25', 'external': '0.17'}   \n",
       "mrmr                    {'internal': '0.20', 'external': '0.14'}   \n",
       "\n",
       "                                                        proteins  \\\n",
       "mannwhitneyu            {'internal': '0.22', 'external': '0.15'}   \n",
       "mannwhitneyu_with_umap  {'internal': '0.26', 'external': '0.12'}   \n",
       "boruta                  {'internal': '0.17', 'external': '0.12'}   \n",
       "mine                    {'internal': '0.21', 'external': '0.15'}   \n",
       "mrmr                    {'internal': '0.19', 'external': '0.14'}   \n",
       "\n",
       "                                                            mrna  \\\n",
       "mannwhitneyu            {'internal': '0.23', 'external': '0.15'}   \n",
       "mannwhitneyu_with_umap  {'internal': '0.39', 'external': '0.14'}   \n",
       "boruta                  {'internal': '0.20', 'external': '0.16'}   \n",
       "mine                    {'internal': '0.23', 'external': '0.17'}   \n",
       "mrmr                                                          -1   \n",
       "\n",
       "                                                   whole_dataset  \n",
       "mannwhitneyu            {'internal': '0.23', 'external': '0.16'}  \n",
       "mannwhitneyu_with_umap  {'internal': '0.21', 'external': '0.11'}  \n",
       "boruta                  {'internal': '0.22', 'external': '0.16'}  \n",
       "mine                                                          -1  \n",
       "mrmr                                                          -1  "
      ]
     },
     "execution_count": 5,
     "metadata": {},
     "output_type": "execute_result"
    }
   ],
   "source": [
    "retrieve_results()"
   ]
  },
  {
   "cell_type": "markdown",
   "id": "f21bc274",
   "metadata": {},
   "source": [
    "#### Per mRNA e concat in corrispodenza di mrmr c'è -1, questo perchè il calcolo richiedeva tantissimo tempo, sopratutto usando 10 fold"
   ]
  },
  {
   "cell_type": "markdown",
   "id": "7726a137",
   "metadata": {},
   "source": [
    "## Best estimator of the best combination of feature selection + extraction"
   ]
  },
  {
   "cell_type": "code",
   "execution_count": 6,
   "id": "bcb0c058",
   "metadata": {},
   "outputs": [
    {
     "name": "stdout",
     "output_type": "stream",
     "text": [
      "RandomForestClassifier(criterion='entropy', max_features='log2',\n",
      "                       max_leaf_nodes=5, n_estimators=51)\n"
     ]
    }
   ],
   "source": [
    "print_best_estimator('proteins', 'mannwhitneyu_with_umap')"
   ]
  },
  {
   "cell_type": "code",
   "execution_count": 7,
   "id": "8b44847f",
   "metadata": {},
   "outputs": [
    {
     "name": "stdout",
     "output_type": "stream",
     "text": [
      "RandomForestClassifier(max_leaf_nodes=10, n_estimators=51)\n"
     ]
    }
   ],
   "source": [
    "print_best_estimator('mrna', 'mannwhitneyu_with_umap')"
   ]
  },
  {
   "cell_type": "code",
   "execution_count": 8,
   "id": "01731bb0",
   "metadata": {},
   "outputs": [
    {
     "name": "stdout",
     "output_type": "stream",
     "text": [
      "RandomForestClassifier(criterion='entropy', max_features='log2',\n",
      "                       max_leaf_nodes=10, n_estimators=51)\n"
     ]
    }
   ],
   "source": [
    "print_best_estimator('mirna', 'mannwhitneyu_with_umap')"
   ]
  },
  {
   "cell_type": "code",
   "execution_count": 9,
   "id": "9d60d385",
   "metadata": {},
   "outputs": [
    {
     "name": "stdout",
     "output_type": "stream",
     "text": [
      "RandomForestClassifier(max_leaf_nodes=10, n_estimators=51)\n"
     ]
    }
   ],
   "source": [
    "print_best_estimator('whole_dataset', 'mannwhitneyu_with_umap')"
   ]
  },
  {
   "cell_type": "markdown",
   "id": "0408e12c",
   "metadata": {},
   "source": [
    "# Seconda tipologia di esperimenti\n",
    "\n",
    "### Come prima cosa viene utlizzata una funzione che scarta le feature altamente correlate tra di loro usando \"pearson\" con un cutoff = 0.8. Vediamo quante feature vengono scartate:"
   ]
  },
  {
   "cell_type": "code",
   "execution_count": 10,
   "id": "8525960b",
   "metadata": {},
   "outputs": [
    {
     "name": "stdout",
     "output_type": "stream",
     "text": [
      "proteins: feature prima dell applicazione della funzione: 216\n",
      "proteins: feature dopo l applicazione della funzione: 216\n",
      "proteins: feature eliminate: 0\n",
      "\n",
      "\n",
      "cnv: feature prima dell applicazione della funzione: 24776\n",
      "cnv: feature dopo l applicazione della funzione: 194\n",
      "cnv: feature eliminate: 24582\n",
      "\n",
      "\n",
      "mirna: feature prima dell applicazione della funzione: 773\n",
      "mirna: feature dopo l applicazione della funzione: 761\n",
      "mirna: feature eliminate: 12\n",
      "\n",
      "\n",
      "mrna: feature prima dell applicazione della funzione: 18465\n",
      "mrna: feature dopo l applicazione della funzione: 18411\n",
      "mrna: feature eliminate: 54\n",
      "\n",
      "\n",
      "dataset_whole_dataset: feature prima dell applicazione della funzione: 44230\n",
      "dataset_whole_dataset: feature dopo l applicazione della funzione: 20386\n",
      "dataset_whole_dataset: feature eliminate: 23844\n",
      "\n",
      "\n",
      "proteins_mirna_dataset: feature prima dell applicazione della funzione: 989\n",
      "proteins_mirna_dataset: feature dopo l applicazione della funzione: 977\n",
      "proteins_mirna_dataset: feature eliminate: 12\n",
      "\n",
      "\n",
      "proteins_mirna_mrna_dataset: feature prima dell applicazione della funzione: 19454\n",
      "proteins_mirna_mrna_dataset: feature dopo l applicazione della funzione: 19344\n",
      "proteins_mirna_mrna_dataset: feature eliminate: 110\n",
      "\n",
      "\n"
     ]
    }
   ],
   "source": [
    "for dataset in ['proteins', 'cnv', 'mirna', 'mrna',\n",
    "                'dataset_whole_dataset', 'proteins_mirna_dataset',\n",
    "               'proteins_mirna_mrna_dataset']:    \n",
    "    print(f\"{dataset}: feature prima dell applicazione della funzione: {len(datasets[dataset].columns)}\")\n",
    "    print(f\"{dataset}: feature dopo l applicazione della funzione: {len(data_after_r_function[dataset].columns)}\")\n",
    "    print(f\"{dataset}: feature eliminate: {len(datasets[dataset].columns)-len(data_after_r_function[dataset].columns)}\")\n",
    "    print('\\n')\n",
    "\n"
   ]
  },
  {
   "cell_type": "markdown",
   "id": "75ec3868",
   "metadata": {},
   "source": [
    "### La differenza tra on fold e on whole dataset:\n",
    "1) In entrambi i casi la funzione che calcola la correlazione tra le feature viene applicata sull'intero dataset, prima di darlo in pasto alla funzione che splitta i dati in fold e addestra\n",
    "2) In 'on fold' il calcolo della dimensione intrinseca viene effettuato sul train set del fold generato durante la StratifiedKFold e la dimensione calcolata viene usata per fare feature extraction sia sul train set che sul test set, usando tSNE e Umap.\n",
    "3) In 'on whole dataset' invece la dimensione intrinseca viene calcolata esternamente alla funzione, quindi su tutto il dataset, e anche la feature extraction viene effettuata esternamente. Il dataset cosi ottenuto viene passato alla funzione che addestra."
   ]
  },
  {
   "cell_type": "markdown",
   "id": "0ecaf82b",
   "metadata": {},
   "source": [
    "# On fold"
   ]
  },
  {
   "cell_type": "code",
   "execution_count": 11,
   "id": "a2cf348d",
   "metadata": {},
   "outputs": [
    {
     "data": {
      "text/html": [
       "<div>\n",
       "<style scoped>\n",
       "    .dataframe tbody tr th:only-of-type {\n",
       "        vertical-align: middle;\n",
       "    }\n",
       "\n",
       "    .dataframe tbody tr th {\n",
       "        vertical-align: top;\n",
       "    }\n",
       "\n",
       "    .dataframe thead th {\n",
       "        text-align: right;\n",
       "    }\n",
       "</style>\n",
       "<table border=\"1\" class=\"dataframe\">\n",
       "  <thead>\n",
       "    <tr style=\"text-align: right;\">\n",
       "      <th></th>\n",
       "      <th>proteins</th>\n",
       "      <th>cnv</th>\n",
       "      <th>mrna</th>\n",
       "      <th>mirna</th>\n",
       "      <th>whole_dataset</th>\n",
       "      <th>proteins_mirna</th>\n",
       "      <th>proteins_mirna_mrna</th>\n",
       "    </tr>\n",
       "  </thead>\n",
       "  <tbody>\n",
       "    <tr>\n",
       "      <th>r_function_intrinsic_with_umap</th>\n",
       "      <td>{'internal': '0.35', 'external': '0.14'}</td>\n",
       "      <td>{'internal': '0.20', 'external': '0.12'}</td>\n",
       "      <td>{'internal': '0.32', 'external': '0.21'}</td>\n",
       "      <td>{'internal': '0.38', 'external': '0.17'}</td>\n",
       "      <td>{'internal': '0.23', 'external': '0.17'}</td>\n",
       "      <td>{'internal': '0.37', 'external': '0.12'}</td>\n",
       "      <td>{'internal': '0.36', 'external': '0.22'}</td>\n",
       "    </tr>\n",
       "    <tr>\n",
       "      <th>r_function_intrinsic_with_tsne</th>\n",
       "      <td>{'internal': '0.20', 'external': '0.14'}</td>\n",
       "      <td>{'internal': '0.16', 'external': '0.11'}</td>\n",
       "      <td>{'internal': '0.18', 'external': '0.13'}</td>\n",
       "      <td>{'internal': '0.16', 'external': '0.13'}</td>\n",
       "      <td>{'internal': '0.16', 'external': '0.14'}</td>\n",
       "      <td>{'internal': '0.18', 'external': '0.12'}</td>\n",
       "      <td>{'internal': '0.16', 'external': '0.12'}</td>\n",
       "    </tr>\n",
       "    <tr>\n",
       "      <th>r_function_with_mannwhitney_boruta</th>\n",
       "      <td>{'internal': '0.22', 'external': '0.15'}</td>\n",
       "      <td>NaN</td>\n",
       "      <td>{'internal': '0.22', 'external': '0.18'}</td>\n",
       "      <td>{'internal': '0.17', 'external': '0.13'}</td>\n",
       "      <td>{'internal': '0.22', 'external': '0.15'}</td>\n",
       "      <td>{'internal': '0.16', 'external': '0.13'}</td>\n",
       "      <td>{'internal': '0.20', 'external': '0.15'}</td>\n",
       "    </tr>\n",
       "    <tr>\n",
       "      <th>r_function_with_mannwhitney_mrmr</th>\n",
       "      <td>{'internal': '0.21', 'external': '0.16'}</td>\n",
       "      <td>{'internal': '0.16', 'external': '0.11'}</td>\n",
       "      <td>NaN</td>\n",
       "      <td>{'internal': '0.25', 'external': '0.17'}</td>\n",
       "      <td>NaN</td>\n",
       "      <td>{'internal': '0.22', 'external': '0.16'}</td>\n",
       "      <td>NaN</td>\n",
       "    </tr>\n",
       "    <tr>\n",
       "      <th>r_function_with_mannwhitney</th>\n",
       "      <td>{'internal': '0.21', 'external': '0.15'}</td>\n",
       "      <td>{'internal': '0.15', 'external': '0.12'}</td>\n",
       "      <td>{'internal': '0.21', 'external': '0.16'}</td>\n",
       "      <td>{'internal': '0.23', 'external': '0.17'}</td>\n",
       "      <td>{'internal': '0.22', 'external': '0.17'}</td>\n",
       "      <td>{'internal': '0.25', 'external': '0.17'}</td>\n",
       "      <td>{'internal': '0.24', 'external': '0.18'}</td>\n",
       "    </tr>\n",
       "  </tbody>\n",
       "</table>\n",
       "</div>"
      ],
      "text/plain": [
       "                                                                    proteins  \\\n",
       "r_function_intrinsic_with_umap      {'internal': '0.35', 'external': '0.14'}   \n",
       "r_function_intrinsic_with_tsne      {'internal': '0.20', 'external': '0.14'}   \n",
       "r_function_with_mannwhitney_boruta  {'internal': '0.22', 'external': '0.15'}   \n",
       "r_function_with_mannwhitney_mrmr    {'internal': '0.21', 'external': '0.16'}   \n",
       "r_function_with_mannwhitney         {'internal': '0.21', 'external': '0.15'}   \n",
       "\n",
       "                                                                         cnv  \\\n",
       "r_function_intrinsic_with_umap      {'internal': '0.20', 'external': '0.12'}   \n",
       "r_function_intrinsic_with_tsne      {'internal': '0.16', 'external': '0.11'}   \n",
       "r_function_with_mannwhitney_boruta                                       NaN   \n",
       "r_function_with_mannwhitney_mrmr    {'internal': '0.16', 'external': '0.11'}   \n",
       "r_function_with_mannwhitney         {'internal': '0.15', 'external': '0.12'}   \n",
       "\n",
       "                                                                        mrna  \\\n",
       "r_function_intrinsic_with_umap      {'internal': '0.32', 'external': '0.21'}   \n",
       "r_function_intrinsic_with_tsne      {'internal': '0.18', 'external': '0.13'}   \n",
       "r_function_with_mannwhitney_boruta  {'internal': '0.22', 'external': '0.18'}   \n",
       "r_function_with_mannwhitney_mrmr                                         NaN   \n",
       "r_function_with_mannwhitney         {'internal': '0.21', 'external': '0.16'}   \n",
       "\n",
       "                                                                       mirna  \\\n",
       "r_function_intrinsic_with_umap      {'internal': '0.38', 'external': '0.17'}   \n",
       "r_function_intrinsic_with_tsne      {'internal': '0.16', 'external': '0.13'}   \n",
       "r_function_with_mannwhitney_boruta  {'internal': '0.17', 'external': '0.13'}   \n",
       "r_function_with_mannwhitney_mrmr    {'internal': '0.25', 'external': '0.17'}   \n",
       "r_function_with_mannwhitney         {'internal': '0.23', 'external': '0.17'}   \n",
       "\n",
       "                                                               whole_dataset  \\\n",
       "r_function_intrinsic_with_umap      {'internal': '0.23', 'external': '0.17'}   \n",
       "r_function_intrinsic_with_tsne      {'internal': '0.16', 'external': '0.14'}   \n",
       "r_function_with_mannwhitney_boruta  {'internal': '0.22', 'external': '0.15'}   \n",
       "r_function_with_mannwhitney_mrmr                                         NaN   \n",
       "r_function_with_mannwhitney         {'internal': '0.22', 'external': '0.17'}   \n",
       "\n",
       "                                                              proteins_mirna  \\\n",
       "r_function_intrinsic_with_umap      {'internal': '0.37', 'external': '0.12'}   \n",
       "r_function_intrinsic_with_tsne      {'internal': '0.18', 'external': '0.12'}   \n",
       "r_function_with_mannwhitney_boruta  {'internal': '0.16', 'external': '0.13'}   \n",
       "r_function_with_mannwhitney_mrmr    {'internal': '0.22', 'external': '0.16'}   \n",
       "r_function_with_mannwhitney         {'internal': '0.25', 'external': '0.17'}   \n",
       "\n",
       "                                                         proteins_mirna_mrna  \n",
       "r_function_intrinsic_with_umap      {'internal': '0.36', 'external': '0.22'}  \n",
       "r_function_intrinsic_with_tsne      {'internal': '0.16', 'external': '0.12'}  \n",
       "r_function_with_mannwhitney_boruta  {'internal': '0.20', 'external': '0.15'}  \n",
       "r_function_with_mannwhitney_mrmr                                         NaN  \n",
       "r_function_with_mannwhitney         {'internal': '0.24', 'external': '0.18'}  "
      ]
     },
     "execution_count": 11,
     "metadata": {},
     "output_type": "execute_result"
    }
   ],
   "source": [
    "retrieve_results_on_fold_or_on_whole(lista_path_on_fold, lista_dataset)"
   ]
  },
  {
   "cell_type": "markdown",
   "id": "f2fa813a",
   "metadata": {},
   "source": [
    "### whole dataset "
   ]
  },
  {
   "cell_type": "code",
   "execution_count": 12,
   "id": "21e1ba57",
   "metadata": {},
   "outputs": [
    {
     "data": {
      "text/html": [
       "<div>\n",
       "<style scoped>\n",
       "    .dataframe tbody tr th:only-of-type {\n",
       "        vertical-align: middle;\n",
       "    }\n",
       "\n",
       "    .dataframe tbody tr th {\n",
       "        vertical-align: top;\n",
       "    }\n",
       "\n",
       "    .dataframe thead th {\n",
       "        text-align: right;\n",
       "    }\n",
       "</style>\n",
       "<table border=\"1\" class=\"dataframe\">\n",
       "  <thead>\n",
       "    <tr style=\"text-align: right;\">\n",
       "      <th></th>\n",
       "      <th>proteins</th>\n",
       "      <th>cnv</th>\n",
       "      <th>mrna</th>\n",
       "      <th>mirna</th>\n",
       "      <th>whole_dataset</th>\n",
       "      <th>proteins_mirna</th>\n",
       "      <th>proteins_mirna_mrna</th>\n",
       "    </tr>\n",
       "  </thead>\n",
       "  <tbody>\n",
       "    <tr>\n",
       "      <th>r_function_intrinsic_with_umap</th>\n",
       "      <td>{'internal': '0.72', 'external': '0.70'}</td>\n",
       "      <td>{'internal': '0.55', 'external': '0.56'}</td>\n",
       "      <td>{'internal': '0.63', 'external': '0.64'}</td>\n",
       "      <td>{'internal': '0.79', 'external': '0.79'}</td>\n",
       "      <td>{'internal': '0.70', 'external': '0.68'}</td>\n",
       "      <td>{'internal': '0.73', 'external': '0.73'}</td>\n",
       "      <td>{'internal': '0.70', 'external': '0.68'}</td>\n",
       "    </tr>\n",
       "    <tr>\n",
       "      <th>r_function_intrinsic_with_tsne</th>\n",
       "      <td>{'internal': '0.14', 'external': '0.11'}</td>\n",
       "      <td>{'internal': '0.15', 'external': '0.12'}</td>\n",
       "      <td>{'internal': '0.17', 'external': '0.11'}</td>\n",
       "      <td>{'internal': '0.21', 'external': '0.15'}</td>\n",
       "      <td>{'internal': '0.16', 'external': '0.14'}</td>\n",
       "      <td>{'internal': '0.19', 'external': '0.14'}</td>\n",
       "      <td>{'internal': '0.18', 'external': '0.14'}</td>\n",
       "    </tr>\n",
       "    <tr>\n",
       "      <th>r_function_with_mannwhitney_boruta</th>\n",
       "      <td>{'internal': '0.24', 'external': '0.17'}</td>\n",
       "      <td>NaN</td>\n",
       "      <td>{'internal': '0.38', 'external': '0.29'}</td>\n",
       "      <td>{'internal': '0.29', 'external': '0.18'}</td>\n",
       "      <td>{'internal': '0.39', 'external': '0.30'}</td>\n",
       "      <td>{'internal': '0.30', 'external': '0.24'}</td>\n",
       "      <td>{'internal': '0.38', 'external': '0.32'}</td>\n",
       "    </tr>\n",
       "    <tr>\n",
       "      <th>r_function_with_mannwhitney_mrmr</th>\n",
       "      <td>{'internal': '0.23', 'external': '0.17'}</td>\n",
       "      <td>{'internal': '0.26', 'external': '0.16'}</td>\n",
       "      <td>NaN</td>\n",
       "      <td>{'internal': '0.25', 'external': '0.18'}</td>\n",
       "      <td>NaN</td>\n",
       "      <td>{'internal': '0.29', 'external': '0.22'}</td>\n",
       "      <td>NaN</td>\n",
       "    </tr>\n",
       "    <tr>\n",
       "      <th>r_function_with_mannwhitney</th>\n",
       "      <td>{'internal': '0.25', 'external': '0.19'}</td>\n",
       "      <td>{'internal': '0.24', 'external': '0.17'}</td>\n",
       "      <td>{'internal': '0.26', 'external': '0.18'}</td>\n",
       "      <td>{'internal': '0.22', 'external': '0.18'}</td>\n",
       "      <td>{'internal': '0.26', 'external': '0.16'}</td>\n",
       "      <td>{'internal': '0.31', 'external': '0.21'}</td>\n",
       "      <td>{'internal': '0.25', 'external': '0.17'}</td>\n",
       "    </tr>\n",
       "  </tbody>\n",
       "</table>\n",
       "</div>"
      ],
      "text/plain": [
       "                                                                    proteins  \\\n",
       "r_function_intrinsic_with_umap      {'internal': '0.72', 'external': '0.70'}   \n",
       "r_function_intrinsic_with_tsne      {'internal': '0.14', 'external': '0.11'}   \n",
       "r_function_with_mannwhitney_boruta  {'internal': '0.24', 'external': '0.17'}   \n",
       "r_function_with_mannwhitney_mrmr    {'internal': '0.23', 'external': '0.17'}   \n",
       "r_function_with_mannwhitney         {'internal': '0.25', 'external': '0.19'}   \n",
       "\n",
       "                                                                         cnv  \\\n",
       "r_function_intrinsic_with_umap      {'internal': '0.55', 'external': '0.56'}   \n",
       "r_function_intrinsic_with_tsne      {'internal': '0.15', 'external': '0.12'}   \n",
       "r_function_with_mannwhitney_boruta                                       NaN   \n",
       "r_function_with_mannwhitney_mrmr    {'internal': '0.26', 'external': '0.16'}   \n",
       "r_function_with_mannwhitney         {'internal': '0.24', 'external': '0.17'}   \n",
       "\n",
       "                                                                        mrna  \\\n",
       "r_function_intrinsic_with_umap      {'internal': '0.63', 'external': '0.64'}   \n",
       "r_function_intrinsic_with_tsne      {'internal': '0.17', 'external': '0.11'}   \n",
       "r_function_with_mannwhitney_boruta  {'internal': '0.38', 'external': '0.29'}   \n",
       "r_function_with_mannwhitney_mrmr                                         NaN   \n",
       "r_function_with_mannwhitney         {'internal': '0.26', 'external': '0.18'}   \n",
       "\n",
       "                                                                       mirna  \\\n",
       "r_function_intrinsic_with_umap      {'internal': '0.79', 'external': '0.79'}   \n",
       "r_function_intrinsic_with_tsne      {'internal': '0.21', 'external': '0.15'}   \n",
       "r_function_with_mannwhitney_boruta  {'internal': '0.29', 'external': '0.18'}   \n",
       "r_function_with_mannwhitney_mrmr    {'internal': '0.25', 'external': '0.18'}   \n",
       "r_function_with_mannwhitney         {'internal': '0.22', 'external': '0.18'}   \n",
       "\n",
       "                                                               whole_dataset  \\\n",
       "r_function_intrinsic_with_umap      {'internal': '0.70', 'external': '0.68'}   \n",
       "r_function_intrinsic_with_tsne      {'internal': '0.16', 'external': '0.14'}   \n",
       "r_function_with_mannwhitney_boruta  {'internal': '0.39', 'external': '0.30'}   \n",
       "r_function_with_mannwhitney_mrmr                                         NaN   \n",
       "r_function_with_mannwhitney         {'internal': '0.26', 'external': '0.16'}   \n",
       "\n",
       "                                                              proteins_mirna  \\\n",
       "r_function_intrinsic_with_umap      {'internal': '0.73', 'external': '0.73'}   \n",
       "r_function_intrinsic_with_tsne      {'internal': '0.19', 'external': '0.14'}   \n",
       "r_function_with_mannwhitney_boruta  {'internal': '0.30', 'external': '0.24'}   \n",
       "r_function_with_mannwhitney_mrmr    {'internal': '0.29', 'external': '0.22'}   \n",
       "r_function_with_mannwhitney         {'internal': '0.31', 'external': '0.21'}   \n",
       "\n",
       "                                                         proteins_mirna_mrna  \n",
       "r_function_intrinsic_with_umap      {'internal': '0.70', 'external': '0.68'}  \n",
       "r_function_intrinsic_with_tsne      {'internal': '0.18', 'external': '0.14'}  \n",
       "r_function_with_mannwhitney_boruta  {'internal': '0.38', 'external': '0.32'}  \n",
       "r_function_with_mannwhitney_mrmr                                         NaN  \n",
       "r_function_with_mannwhitney         {'internal': '0.25', 'external': '0.17'}  "
      ]
     },
     "execution_count": 12,
     "metadata": {},
     "output_type": "execute_result"
    }
   ],
   "source": [
    "retrieve_results_on_fold_or_on_whole(lista_path_on_whole, lista_dataset)"
   ]
  },
  {
   "cell_type": "code",
   "execution_count": null,
   "id": "dadfb4d4",
   "metadata": {},
   "outputs": [],
   "source": []
  }
 ],
 "metadata": {
  "kernelspec": {
   "display_name": "Python 3 (ipykernel)",
   "language": "python",
   "name": "python3"
  },
  "language_info": {
   "codemirror_mode": {
    "name": "ipython",
    "version": 3
   },
   "file_extension": ".py",
   "mimetype": "text/x-python",
   "name": "python",
   "nbconvert_exporter": "python",
   "pygments_lexer": "ipython3",
   "version": "3.10.6"
  }
 },
 "nbformat": 4,
 "nbformat_minor": 5
}

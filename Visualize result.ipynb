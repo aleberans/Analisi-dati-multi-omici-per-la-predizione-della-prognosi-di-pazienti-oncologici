{
 "cells": [
  {
   "cell_type": "code",
   "execution_count": 15,
   "id": "71b81edd",
   "metadata": {},
   "outputs": [],
   "source": [
    "import json\n",
    "import pandas as pd\n",
    "import numpy as np\n",
    "from IPython.display import IFrame, display\n",
    "    \n",
    "def float_formatter(x): return '{:.3f}'.format(x)\n",
    "\n",
    "def highlight_max(s):\n",
    "    if (s.dtype == object):\n",
    "        is_max = [False for _ in range(s.shape[0])]\n",
    "    else:\n",
    "        is_max = s == s.max()\n",
    "    return ['background: lightgreen' if cell else '' for cell in is_max]\n",
    "\n",
    "wanted_keys = (\"internal\", \"external\")\n",
    "dictfilt = lambda x, y: dict([ (i,'{:.3f}'.format(float(x[i]))) for i in x if i in set(y) ])\n",
    "\n",
    "def retrieve_single_result_cnv():\n",
    "    f = open(f'result/cnv/cnv.json')\n",
    "    data = json.load(f)\n",
    "    new_dict = {}\n",
    "    new_dict['cnv'] = {}\n",
    "    new_dict['cnv']['spearman'] = dictfilt(data['spearman'], wanted_keys)\n",
    "    return pd.DataFrame(new_dict)\n",
    "\n",
    "def print_best_estimator(dataset, feature_selection):\n",
    "    f = open(f'result/{dataset}/{dataset}.json')\n",
    "    data = json.load(f)\n",
    "    print(data[feature_selection]['best_estimator'])\n",
    "    \n",
    "def retrieve_results():\n",
    "    new_dict = {}\n",
    "    for dataset in ['miRNA', 'proteins', 'mRNA', 'concat']:\n",
    "        new_dict[dataset] = {}\n",
    "        f = open(f'result/{dataset}/{dataset}.json')\n",
    "        data = json.load(f)\n",
    "        for metodo in ['mannwhitneyu','mannwhitneyu_with_umap', 'boruta', 'mine', 'mrmr']:\n",
    "            if metodo in data:\n",
    "                new_dict[dataset][metodo] = dictfilt(data[metodo], wanted_keys)\n",
    "            else: \n",
    "                new_dict[dataset][metodo] = -1\n",
    "    return pd.DataFrame(new_dict)\n",
    "\n",
    "def load_filtered_normalize_data():\n",
    "    dataset_dict = ['cnv','mirna', 'mrna', 'proteins']\n",
    "    dict_test = {}\n",
    "    for data in dataset_dict:\n",
    "        with open('filtered_normalize_data/'+data+'.json', 'r') as fp:\n",
    "            dataset = pd.read_json(fp)\n",
    "            dict_test[data] = dataset\n",
    "    return dict_test\n",
    "\n",
    "def load_data_after_r_function():\n",
    "    dataset_dict = ['cnv','mirna', 'mrna', 'proteins', 'concat']\n",
    "    dict_test = {}\n",
    "    for data in dataset_dict:\n",
    "        with open('elaborated_data_with_r_function/r_'+data+'_removed.json', 'r') as fp:\n",
    "            dataset = pd.read_json(fp)\n",
    "            dict_test[data] = dataset\n",
    "    return dict_test\n",
    "\n",
    "def retrieve_results_internally(lista_metodi, lista_dataset):\n",
    "    new_dict = {}\n",
    "    for dataset in lista_dataset:\n",
    "        new_dict[dataset] = {}\n",
    "        for metodo in lista_metodi:\n",
    "            f = open(f'result_new_experiment_internally/{metodo}/{dataset}.json')\n",
    "            data = json.load(f)\n",
    "            #dictfilt(data[metodo], wanted_keys)\n",
    "            new_dict[dataset][metodo] = dictfilt(data[metodo], wanted_keys)\n",
    "    return pd.DataFrame(new_dict)\n",
    "\n",
    "lista_metodi = ['r_function_intrinsic_with_tsne', 'r_function_intrinsic_with_umap',\n",
    "                'r_function_with_mannwhitney', 'r_function_with_mannwhitney_boruta',\n",
    "                'r_function_with_mannwhitney_mrmr']\n",
    "lista_dataset = ['proteins', 'cnv', 'mrna', 'mirna', 'concat']\n",
    "\n",
    "lista_metodi_ext = ['r_function_intrinsic_with_tsne', 'r_function_intrinsic_with_umap']\n",
    "\n",
    "def retrieve_results_externally(lista_metodi_ext, lista_dataset):\n",
    "    new_dict = {}\n",
    "    for dataset in lista_dataset:\n",
    "        new_dict[dataset] = {}\n",
    "        for metodo in lista_metodi_ext:\n",
    "            f = open(f'result_new_experiment_externally/{metodo}/{dataset}.json')\n",
    "            data = json.load(f)\n",
    "            #float(data[metodo]['internal'])\n",
    "            new_dict[dataset][metodo] = dictfilt(data[metodo], wanted_keys)\n",
    "    return pd.DataFrame(new_dict)\n",
    "\n",
    "datasets = load_filtered_normalize_data()\n",
    "\n",
    "data_after_r_function = load_data_after_r_function()\n",
    "\n",
    "dataset_concat = pd.concat([datasets['cnv'], datasets['proteins'], datasets['mrna'], datasets['mirna']], axis=1)\n",
    "datasets['concat'] = dataset_concat"
   ]
  },
  {
   "cell_type": "markdown",
   "id": "fb1de01a",
   "metadata": {},
   "source": [
    "# Osservazioni iniziali"
   ]
  },
  {
   "cell_type": "markdown",
   "id": "70bf4723",
   "metadata": {},
   "source": [
    "1) Inizialmente tutti i i dati sono stati normalizzati usando MinMaxScaler e filtrati scartando le feature con bassa variabilità ( deviazione standard < 0.05)\n",
    "3) Il modello usato è sempre RandomForest\n",
    "3) Viene usata l'AUPRC come misuratore di performance. La baseline per il dataset fornito è 0.122807, ovvero il 12% dei pazienti sono positivi (77 su 627).\n",
    "4) Viene sempre applicata una StratifiedKFold usando 10 fold.\n",
    "5) I risultati sono sempre presentati con etichetta \"external\" e \"internal\". Questo sta a indicare quando è stata calcolata la AUPRC: nel primo caso le predizioni effettuate dal modello nei 10 fold vengono concatenate e una volta finite viene calcolata l'AUPRC totale; nel secondo caso invece ad ogni iterazione viene calcolata l'AUPRC e alla fine viene calcolata la media. Calcolando l'AUPRC esternamente sono anche in grado di avere un grafico, cosa che internamente non è possibile poiché avrei 10 grafici distinti."
   ]
  },
  {
   "cell_type": "markdown",
   "id": "6745e4b5",
   "metadata": {},
   "source": [
    "### A cnv ho applicato spearman e scartato le feature altamente correlate tra di loro o bassamente correlate con la label"
   ]
  },
  {
   "cell_type": "code",
   "execution_count": 2,
   "id": "465a992d",
   "metadata": {},
   "outputs": [
    {
     "data": {
      "text/html": [
       "<div>\n",
       "<style scoped>\n",
       "    .dataframe tbody tr th:only-of-type {\n",
       "        vertical-align: middle;\n",
       "    }\n",
       "\n",
       "    .dataframe tbody tr th {\n",
       "        vertical-align: top;\n",
       "    }\n",
       "\n",
       "    .dataframe thead th {\n",
       "        text-align: right;\n",
       "    }\n",
       "</style>\n",
       "<table border=\"1\" class=\"dataframe\">\n",
       "  <thead>\n",
       "    <tr style=\"text-align: right;\">\n",
       "      <th></th>\n",
       "      <th>cnv</th>\n",
       "    </tr>\n",
       "  </thead>\n",
       "  <tbody>\n",
       "    <tr>\n",
       "      <th>spearman</th>\n",
       "      <td>{'internal': '0.118', 'external': '0.100'}</td>\n",
       "    </tr>\n",
       "  </tbody>\n",
       "</table>\n",
       "</div>"
      ],
      "text/plain": [
       "                                                 cnv\n",
       "spearman  {'internal': '0.118', 'external': '0.100'}"
      ]
     },
     "execution_count": 2,
     "metadata": {},
     "output_type": "execute_result"
    }
   ],
   "source": [
    "retrieve_single_result_cnv()"
   ]
  },
  {
   "cell_type": "code",
   "execution_count": 3,
   "id": "9c0014b2",
   "metadata": {},
   "outputs": [
    {
     "name": "stdout",
     "output_type": "stream",
     "text": [
      "RandomForestClassifier(criterion='entropy', max_features=None, max_leaf_nodes=5,\n",
      "                       n_estimators=251)\n"
     ]
    }
   ],
   "source": [
    "print_best_estimator('cnv', 'spearman')"
   ]
  },
  {
   "cell_type": "markdown",
   "id": "4f66d025",
   "metadata": {},
   "source": [
    "### Figura disponibile solo per l'AUPRC \"esterna\""
   ]
  },
  {
   "cell_type": "code",
   "execution_count": 4,
   "id": "f7a231f0",
   "metadata": {},
   "outputs": [
    {
     "data": {
      "text/html": [
       "\n",
       "        <iframe\n",
       "            width=\"700\"\n",
       "            height=\"400\"\n",
       "            src=\"result/cnv/spearman_AUC_External.pdf\"\n",
       "            frameborder=\"0\"\n",
       "            allowfullscreen\n",
       "            \n",
       "        ></iframe>\n",
       "        "
      ],
      "text/plain": [
       "<IPython.lib.display.IFrame at 0x7fa376543ac0>"
      ]
     },
     "execution_count": 4,
     "metadata": {},
     "output_type": "execute_result"
    }
   ],
   "source": [
    "filepath = \"result/cnv/spearman_AUC_External.pdf\"\n",
    "IFrame(filepath, width=700, height=400)"
   ]
  },
  {
   "cell_type": "markdown",
   "id": "9c8cbcaa",
   "metadata": {},
   "source": [
    "# Risultati di proteins, miRNA e mRNA e concat (concatenazione di tutti i dataset)"
   ]
  },
  {
   "cell_type": "code",
   "execution_count": 5,
   "id": "83834f10",
   "metadata": {},
   "outputs": [
    {
     "data": {
      "text/html": [
       "<div>\n",
       "<style scoped>\n",
       "    .dataframe tbody tr th:only-of-type {\n",
       "        vertical-align: middle;\n",
       "    }\n",
       "\n",
       "    .dataframe tbody tr th {\n",
       "        vertical-align: top;\n",
       "    }\n",
       "\n",
       "    .dataframe thead th {\n",
       "        text-align: right;\n",
       "    }\n",
       "</style>\n",
       "<table border=\"1\" class=\"dataframe\">\n",
       "  <thead>\n",
       "    <tr style=\"text-align: right;\">\n",
       "      <th></th>\n",
       "      <th>miRNA</th>\n",
       "      <th>proteins</th>\n",
       "      <th>mRNA</th>\n",
       "      <th>concat</th>\n",
       "    </tr>\n",
       "  </thead>\n",
       "  <tbody>\n",
       "    <tr>\n",
       "      <th>mannwhitneyu</th>\n",
       "      <td>{'internal': '0.210', 'external': '0.162'}</td>\n",
       "      <td>{'internal': '0.187', 'external': '0.137'}</td>\n",
       "      <td>{'internal': '0.216', 'external': '0.159'}</td>\n",
       "      <td>{'internal': '0.182', 'external': '0.152'}</td>\n",
       "    </tr>\n",
       "    <tr>\n",
       "      <th>mannwhitneyu_with_umap</th>\n",
       "      <td>{'internal': '0.414', 'external': '0.151'}</td>\n",
       "      <td>{'internal': '0.248', 'external': '0.108'}</td>\n",
       "      <td>{'internal': '0.386', 'external': '0.136'}</td>\n",
       "      <td>{'internal': '0.264', 'external': '0.111'}</td>\n",
       "    </tr>\n",
       "    <tr>\n",
       "      <th>boruta</th>\n",
       "      <td>{'internal': '0.140', 'external': '0.125'}</td>\n",
       "      <td>{'internal': '0.145', 'external': '0.119'}</td>\n",
       "      <td>{'internal': '0.157', 'external': '0.141'}</td>\n",
       "      <td>{'internal': '0.186', 'external': '0.140'}</td>\n",
       "    </tr>\n",
       "    <tr>\n",
       "      <th>mine</th>\n",
       "      <td>{'internal': '0.215', 'external': '0.174'}</td>\n",
       "      <td>{'internal': '0.186', 'external': '0.140'}</td>\n",
       "      <td>{'internal': '0.172', 'external': '0.134'}</td>\n",
       "      <td>-1</td>\n",
       "    </tr>\n",
       "    <tr>\n",
       "      <th>mrmr</th>\n",
       "      <td>{'internal': '0.165', 'external': '0.130'}</td>\n",
       "      <td>{'internal': '0.177', 'external': '0.144'}</td>\n",
       "      <td>-1</td>\n",
       "      <td>-1</td>\n",
       "    </tr>\n",
       "  </tbody>\n",
       "</table>\n",
       "</div>"
      ],
      "text/plain": [
       "                                                             miRNA  \\\n",
       "mannwhitneyu            {'internal': '0.210', 'external': '0.162'}   \n",
       "mannwhitneyu_with_umap  {'internal': '0.414', 'external': '0.151'}   \n",
       "boruta                  {'internal': '0.140', 'external': '0.125'}   \n",
       "mine                    {'internal': '0.215', 'external': '0.174'}   \n",
       "mrmr                    {'internal': '0.165', 'external': '0.130'}   \n",
       "\n",
       "                                                          proteins  \\\n",
       "mannwhitneyu            {'internal': '0.187', 'external': '0.137'}   \n",
       "mannwhitneyu_with_umap  {'internal': '0.248', 'external': '0.108'}   \n",
       "boruta                  {'internal': '0.145', 'external': '0.119'}   \n",
       "mine                    {'internal': '0.186', 'external': '0.140'}   \n",
       "mrmr                    {'internal': '0.177', 'external': '0.144'}   \n",
       "\n",
       "                                                              mRNA  \\\n",
       "mannwhitneyu            {'internal': '0.216', 'external': '0.159'}   \n",
       "mannwhitneyu_with_umap  {'internal': '0.386', 'external': '0.136'}   \n",
       "boruta                  {'internal': '0.157', 'external': '0.141'}   \n",
       "mine                    {'internal': '0.172', 'external': '0.134'}   \n",
       "mrmr                                                            -1   \n",
       "\n",
       "                                                            concat  \n",
       "mannwhitneyu            {'internal': '0.182', 'external': '0.152'}  \n",
       "mannwhitneyu_with_umap  {'internal': '0.264', 'external': '0.111'}  \n",
       "boruta                  {'internal': '0.186', 'external': '0.140'}  \n",
       "mine                                                            -1  \n",
       "mrmr                                                            -1  "
      ]
     },
     "execution_count": 5,
     "metadata": {},
     "output_type": "execute_result"
    }
   ],
   "source": [
    "retrieve_results()"
   ]
  },
  {
   "cell_type": "markdown",
   "id": "f21bc274",
   "metadata": {},
   "source": [
    "#### Per mRNA e concat in corrispodenza di mrmr c'è -1, questo perchè il calcolo richiedeva tantissimo tempo, sopratutto usando 10 fold"
   ]
  },
  {
   "cell_type": "markdown",
   "id": "7726a137",
   "metadata": {},
   "source": [
    "## Best estimator of the best combination of feature selection + extraction"
   ]
  },
  {
   "cell_type": "code",
   "execution_count": 6,
   "id": "bcb0c058",
   "metadata": {},
   "outputs": [
    {
     "name": "stdout",
     "output_type": "stream",
     "text": [
      "RandomForestClassifier(max_features='log2', max_leaf_nodes=5, n_estimators=51)\n"
     ]
    }
   ],
   "source": [
    "print_best_estimator('proteins', 'mannwhitneyu_with_umap')"
   ]
  },
  {
   "cell_type": "code",
   "execution_count": 7,
   "id": "8b44847f",
   "metadata": {},
   "outputs": [
    {
     "name": "stdout",
     "output_type": "stream",
     "text": [
      "RandomForestClassifier(max_features='log2', n_estimators=51)\n"
     ]
    }
   ],
   "source": [
    "print_best_estimator('mRNA', 'mannwhitneyu_with_umap')"
   ]
  },
  {
   "cell_type": "code",
   "execution_count": 8,
   "id": "01731bb0",
   "metadata": {},
   "outputs": [
    {
     "name": "stdout",
     "output_type": "stream",
     "text": [
      "RandomForestClassifier(criterion='entropy', max_leaf_nodes=10, n_estimators=51)\n"
     ]
    }
   ],
   "source": [
    "print_best_estimator('miRNA', 'mannwhitneyu_with_umap')"
   ]
  },
  {
   "cell_type": "code",
   "execution_count": 9,
   "id": "9d60d385",
   "metadata": {},
   "outputs": [
    {
     "name": "stdout",
     "output_type": "stream",
     "text": [
      "RandomForestClassifier(criterion='entropy', max_features='log2',\n",
      "                       n_estimators=101)\n"
     ]
    }
   ],
   "source": [
    "print_best_estimator('concat', 'mannwhitneyu_with_umap')"
   ]
  },
  {
   "cell_type": "markdown",
   "id": "0408e12c",
   "metadata": {},
   "source": [
    "# Seconda tipologia di esperimenti\n",
    "\n",
    "### Come prima cosa viene utlizzata una funzione che scarta le feature altamente correlate tra di loro usando \"pearson\" con un cutoff = 0.8. Vediamo quante feature vengono scartate:"
   ]
  },
  {
   "cell_type": "code",
   "execution_count": 10,
   "id": "a4144166",
   "metadata": {},
   "outputs": [
    {
     "name": "stdout",
     "output_type": "stream",
     "text": [
      "proteins: feature prima dell applicazione della funzione: 216\n",
      "proteins: feature dopo l applicazione della funzione: 216\n",
      "\n",
      "\n",
      "cnv: feature prima dell applicazione della funzione: 24776\n",
      "cnv: feature dopo l applicazione della funzione: 194\n",
      "\n",
      "\n",
      "mirna: feature prima dell applicazione della funzione: 773\n",
      "mirna: feature dopo l applicazione della funzione: 761\n",
      "\n",
      "\n",
      "mrna: feature prima dell applicazione della funzione: 18465\n",
      "mrna: feature dopo l applicazione della funzione: 18411\n",
      "\n",
      "\n",
      "concat: feature prima dell applicazione della funzione: 44230\n",
      "concat: feature dopo l applicazione della funzione: 20386\n",
      "\n",
      "\n"
     ]
    }
   ],
   "source": [
    "for dataset in ['proteins', 'cnv', 'mirna', 'mrna', 'concat']:    \n",
    "    print(f\"{dataset}: feature prima dell applicazione della funzione: {len(datasets[dataset].columns)}\")\n",
    "    print(f\"{dataset}: feature dopo l applicazione della funzione: {len(data_after_r_function[dataset].columns)}\")\n",
    "    print('\\n')"
   ]
  },
  {
   "cell_type": "markdown",
   "id": "a27d0060",
   "metadata": {},
   "source": [
    "### La differenza tra internally e externally:\n",
    "1) In entrambi i casi la funzione che calcola la correlazione tra le feature viene applicata sull'intero dataset, prima di darlo in pasto alla funzione che splitta i dati in fold e addestra\n",
    "2) In 'internally' il calcolo della dimensione intrinseca viene effettuato sul train set del fold generato durante la StratifiedKFold e la dimensione calcolata viene usata per fare feature extraction sia sul train set che sul test set, usando tSNE e Umap.\n",
    "3) In 'externally' invece la dimensione intrinseca viene calcolata esternamente alla funzione, quindi su tutto il dataset, e anche la feature extraction viene effettuata esternamente. Il dataset cosi ottenuto viene passato alla funzione che addestra."
   ]
  },
  {
   "cell_type": "markdown",
   "id": "bf6c8d1d",
   "metadata": {},
   "source": [
    "### on fold"
   ]
  },
  {
   "cell_type": "code",
   "execution_count": 13,
   "id": "e531439a",
   "metadata": {},
   "outputs": [
    {
     "data": {
      "text/html": [
       "<div>\n",
       "<style scoped>\n",
       "    .dataframe tbody tr th:only-of-type {\n",
       "        vertical-align: middle;\n",
       "    }\n",
       "\n",
       "    .dataframe tbody tr th {\n",
       "        vertical-align: top;\n",
       "    }\n",
       "\n",
       "    .dataframe thead th {\n",
       "        text-align: right;\n",
       "    }\n",
       "</style>\n",
       "<table border=\"1\" class=\"dataframe\">\n",
       "  <thead>\n",
       "    <tr style=\"text-align: right;\">\n",
       "      <th></th>\n",
       "      <th>proteins</th>\n",
       "      <th>cnv</th>\n",
       "      <th>mrna</th>\n",
       "      <th>mirna</th>\n",
       "      <th>concat</th>\n",
       "    </tr>\n",
       "  </thead>\n",
       "  <tbody>\n",
       "    <tr>\n",
       "      <th>r_function_intrinsic_with_tsne</th>\n",
       "      <td>{'internal': '0.139', 'external': '0.126'}</td>\n",
       "      <td>{'internal': '0.151', 'external': '0.117'}</td>\n",
       "      <td>{'internal': '0.125', 'external': '0.121'}</td>\n",
       "      <td>{'internal': '0.134', 'external': '0.118'}</td>\n",
       "      <td>{'internal': '0.145', 'external': '0.116'}</td>\n",
       "    </tr>\n",
       "    <tr>\n",
       "      <th>r_function_intrinsic_with_umap</th>\n",
       "      <td>{'internal': '0.370', 'external': '0.187'}</td>\n",
       "      <td>{'internal': '0.182', 'external': '0.155'}</td>\n",
       "      <td>{'internal': '0.465', 'external': '0.208'}</td>\n",
       "      <td>{'internal': '0.277', 'external': '0.152'}</td>\n",
       "      <td>{'internal': '0.252', 'external': '0.145'}</td>\n",
       "    </tr>\n",
       "    <tr>\n",
       "      <th>r_function_with_mannwhitney</th>\n",
       "      <td>{'internal': '0.158', 'external': '0.150'}</td>\n",
       "      <td>{'internal': '0.142', 'external': '0.109'}</td>\n",
       "      <td>{'internal': '0.194', 'external': '0.182'}</td>\n",
       "      <td>{'internal': '0.198', 'external': '0.168'}</td>\n",
       "      <td>{'internal': '0.218', 'external': '0.151'}</td>\n",
       "    </tr>\n",
       "    <tr>\n",
       "      <th>r_function_with_mannwhitney_boruta</th>\n",
       "      <td>{'internal': '0.175', 'external': '0.143'}</td>\n",
       "      <td>{'internal': '-1.000', 'external': '-1.000'}</td>\n",
       "      <td>{'internal': '0.217', 'external': '0.163'}</td>\n",
       "      <td>{'internal': '0.158', 'external': '0.130'}</td>\n",
       "      <td>{'internal': '0.180', 'external': '0.144'}</td>\n",
       "    </tr>\n",
       "    <tr>\n",
       "      <th>r_function_with_mannwhitney_mrmr</th>\n",
       "      <td>{'internal': '0.177', 'external': '0.144'}</td>\n",
       "      <td>{'internal': '0.146', 'external': '0.110'}</td>\n",
       "      <td>{'internal': '0.221', 'external': '0.200'}</td>\n",
       "      <td>{'internal': '0.200', 'external': '0.161'}</td>\n",
       "      <td>{'internal': '0.204', 'external': '0.170'}</td>\n",
       "    </tr>\n",
       "  </tbody>\n",
       "</table>\n",
       "</div>"
      ],
      "text/plain": [
       "                                                                      proteins  \\\n",
       "r_function_intrinsic_with_tsne      {'internal': '0.139', 'external': '0.126'}   \n",
       "r_function_intrinsic_with_umap      {'internal': '0.370', 'external': '0.187'}   \n",
       "r_function_with_mannwhitney         {'internal': '0.158', 'external': '0.150'}   \n",
       "r_function_with_mannwhitney_boruta  {'internal': '0.175', 'external': '0.143'}   \n",
       "r_function_with_mannwhitney_mrmr    {'internal': '0.177', 'external': '0.144'}   \n",
       "\n",
       "                                                                             cnv  \\\n",
       "r_function_intrinsic_with_tsne        {'internal': '0.151', 'external': '0.117'}   \n",
       "r_function_intrinsic_with_umap        {'internal': '0.182', 'external': '0.155'}   \n",
       "r_function_with_mannwhitney           {'internal': '0.142', 'external': '0.109'}   \n",
       "r_function_with_mannwhitney_boruta  {'internal': '-1.000', 'external': '-1.000'}   \n",
       "r_function_with_mannwhitney_mrmr      {'internal': '0.146', 'external': '0.110'}   \n",
       "\n",
       "                                                                          mrna  \\\n",
       "r_function_intrinsic_with_tsne      {'internal': '0.125', 'external': '0.121'}   \n",
       "r_function_intrinsic_with_umap      {'internal': '0.465', 'external': '0.208'}   \n",
       "r_function_with_mannwhitney         {'internal': '0.194', 'external': '0.182'}   \n",
       "r_function_with_mannwhitney_boruta  {'internal': '0.217', 'external': '0.163'}   \n",
       "r_function_with_mannwhitney_mrmr    {'internal': '0.221', 'external': '0.200'}   \n",
       "\n",
       "                                                                         mirna  \\\n",
       "r_function_intrinsic_with_tsne      {'internal': '0.134', 'external': '0.118'}   \n",
       "r_function_intrinsic_with_umap      {'internal': '0.277', 'external': '0.152'}   \n",
       "r_function_with_mannwhitney         {'internal': '0.198', 'external': '0.168'}   \n",
       "r_function_with_mannwhitney_boruta  {'internal': '0.158', 'external': '0.130'}   \n",
       "r_function_with_mannwhitney_mrmr    {'internal': '0.200', 'external': '0.161'}   \n",
       "\n",
       "                                                                        concat  \n",
       "r_function_intrinsic_with_tsne      {'internal': '0.145', 'external': '0.116'}  \n",
       "r_function_intrinsic_with_umap      {'internal': '0.252', 'external': '0.145'}  \n",
       "r_function_with_mannwhitney         {'internal': '0.218', 'external': '0.151'}  \n",
       "r_function_with_mannwhitney_boruta  {'internal': '0.180', 'external': '0.144'}  \n",
       "r_function_with_mannwhitney_mrmr    {'internal': '0.204', 'external': '0.170'}  "
      ]
     },
     "execution_count": 13,
     "metadata": {},
     "output_type": "execute_result"
    }
   ],
   "source": [
    "retrieve_results_internally(lista_metodi, lista_dataset)"
   ]
  },
  {
   "cell_type": "markdown",
   "id": "9e2cbb9a",
   "metadata": {},
   "source": [
    "### whole dataset (tranductive)"
   ]
  },
  {
   "cell_type": "code",
   "execution_count": 16,
   "id": "21e1ba57",
   "metadata": {},
   "outputs": [
    {
     "data": {
      "text/html": [
       "<div>\n",
       "<style scoped>\n",
       "    .dataframe tbody tr th:only-of-type {\n",
       "        vertical-align: middle;\n",
       "    }\n",
       "\n",
       "    .dataframe tbody tr th {\n",
       "        vertical-align: top;\n",
       "    }\n",
       "\n",
       "    .dataframe thead th {\n",
       "        text-align: right;\n",
       "    }\n",
       "</style>\n",
       "<table border=\"1\" class=\"dataframe\">\n",
       "  <thead>\n",
       "    <tr style=\"text-align: right;\">\n",
       "      <th></th>\n",
       "      <th>proteins</th>\n",
       "      <th>cnv</th>\n",
       "      <th>mrna</th>\n",
       "      <th>mirna</th>\n",
       "      <th>concat</th>\n",
       "    </tr>\n",
       "  </thead>\n",
       "  <tbody>\n",
       "    <tr>\n",
       "      <th>r_function_intrinsic_with_tsne</th>\n",
       "      <td>{'internal': '0.138', 'external': '0.115'}</td>\n",
       "      <td>{'internal': '0.125', 'external': '0.124'}</td>\n",
       "      <td>{'internal': '0.110', 'external': '0.102'}</td>\n",
       "      <td>{'internal': '0.159', 'external': '0.125'}</td>\n",
       "      <td>{'internal': '0.135', 'external': '0.113'}</td>\n",
       "    </tr>\n",
       "    <tr>\n",
       "      <th>r_function_intrinsic_with_umap</th>\n",
       "      <td>{'internal': '0.708', 'external': '0.697'}</td>\n",
       "      <td>{'internal': '0.546', 'external': '0.559'}</td>\n",
       "      <td>{'internal': '0.639', 'external': '0.639'}</td>\n",
       "      <td>{'internal': '0.773', 'external': '0.775'}</td>\n",
       "      <td>{'internal': '0.677', 'external': '0.682'}</td>\n",
       "    </tr>\n",
       "  </tbody>\n",
       "</table>\n",
       "</div>"
      ],
      "text/plain": [
       "                                                                  proteins  \\\n",
       "r_function_intrinsic_with_tsne  {'internal': '0.138', 'external': '0.115'}   \n",
       "r_function_intrinsic_with_umap  {'internal': '0.708', 'external': '0.697'}   \n",
       "\n",
       "                                                                       cnv  \\\n",
       "r_function_intrinsic_with_tsne  {'internal': '0.125', 'external': '0.124'}   \n",
       "r_function_intrinsic_with_umap  {'internal': '0.546', 'external': '0.559'}   \n",
       "\n",
       "                                                                      mrna  \\\n",
       "r_function_intrinsic_with_tsne  {'internal': '0.110', 'external': '0.102'}   \n",
       "r_function_intrinsic_with_umap  {'internal': '0.639', 'external': '0.639'}   \n",
       "\n",
       "                                                                     mirna  \\\n",
       "r_function_intrinsic_with_tsne  {'internal': '0.159', 'external': '0.125'}   \n",
       "r_function_intrinsic_with_umap  {'internal': '0.773', 'external': '0.775'}   \n",
       "\n",
       "                                                                    concat  \n",
       "r_function_intrinsic_with_tsne  {'internal': '0.135', 'external': '0.113'}  \n",
       "r_function_intrinsic_with_umap  {'internal': '0.677', 'external': '0.682'}  "
      ]
     },
     "execution_count": 16,
     "metadata": {},
     "output_type": "execute_result"
    }
   ],
   "source": [
    "retrieve_results_externally(lista_metodi_ext, lista_dataset)"
   ]
  }
 ],
 "metadata": {
  "kernelspec": {
   "display_name": "Python 3 (ipykernel)",
   "language": "python",
   "name": "python3"
  },
  "language_info": {
   "codemirror_mode": {
    "name": "ipython",
    "version": 3
   },
   "file_extension": ".py",
   "mimetype": "text/x-python",
   "name": "python",
   "nbconvert_exporter": "python",
   "pygments_lexer": "ipython3",
   "version": "3.10.6"
  }
 },
 "nbformat": 4,
 "nbformat_minor": 5
}

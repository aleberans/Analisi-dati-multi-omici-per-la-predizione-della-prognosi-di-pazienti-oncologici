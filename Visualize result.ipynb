{
 "cells": [
  {
   "cell_type": "code",
   "execution_count": 121,
   "id": "71b81edd",
   "metadata": {},
   "outputs": [],
   "source": [
    "import json\n",
    "import pandas as pd\n",
    "import numpy as np\n",
    "from IPython.display import IFrame, display\n",
    "    \n",
    "def float_formatter(x): return '{:.3f}'.format(x)\n",
    "\n",
    "def highlight_max(s):\n",
    "    if (s.dtype == object):\n",
    "        is_max = [False for _ in range(s.shape[0])]\n",
    "    else:\n",
    "        is_max = s == s.max()\n",
    "    return ['background: lightgreen' if cell else '' for cell in is_max]\n",
    "\n",
    "wanted_keys = (\"internal\", \"external\")\n",
    "dictfilt = lambda x, y: dict([ (i,'{:.3f}'.format(float(x[i]))) for i in x if i in set(y) ])\n",
    "\n",
    "def retrieve_single_result_cnv():\n",
    "    f = open(f'Result/Many_Feature_Selection_notebook/cnv/cnv.json')\n",
    "    data = json.load(f)\n",
    "    new_dict = {}\n",
    "    new_dict['cnv'] = {}\n",
    "    new_dict['cnv']['spearman'] = dictfilt(data['spearman'], wanted_keys)\n",
    "    return pd.DataFrame(new_dict)\n",
    "\n",
    "def print_best_estimator(dataset, feature_selection):\n",
    "    f = open(f'Result/Many_Feature_Selection_notebook/{dataset}/{dataset}.json')\n",
    "    data = json.load(f)\n",
    "    print(data[feature_selection]['best_estimator'])\n",
    "    \n",
    "def retrieve_results():\n",
    "    new_dict = {}\n",
    "    for dataset in ['mirna', 'proteins', 'mrna', 'whole_dataset']:\n",
    "        new_dict[dataset] = {}\n",
    "        f = open(f'Result/Many_Feature_Selection_notebook/{dataset}/{dataset}.json')\n",
    "        data = json.load(f)\n",
    "        for metodo in ['mannwhitneyu','mannwhitneyu_with_umap', 'boruta', 'mine', 'mrmr']:\n",
    "            if metodo in data:\n",
    "                new_dict[dataset][metodo] = dictfilt(data[metodo], wanted_keys)\n",
    "            else: \n",
    "                new_dict[dataset][metodo] = -1\n",
    "    return pd.DataFrame(new_dict)\n",
    "\n",
    "def load_filtered_normalize_data():\n",
    "    dataset_dict = ['cnv','mirna', 'mrna', 'proteins']\n",
    "    dict_test = {}\n",
    "    for data in dataset_dict:\n",
    "        with open('filtered_normalize_data/'+data+'.json', 'r') as fp:\n",
    "            dataset = pd.read_json(fp)\n",
    "            dict_test[data] = dataset\n",
    "    return dict_test\n",
    "\n",
    "def load_data_after_r_function():\n",
    "    dataset_dict = ['cnv','mirna', 'mrna', 'proteins',\n",
    "                    'dataset_whole_dataset', 'proteins_mirna_dataset',\n",
    "                   'proteins_mirna_mrna_dataset']\n",
    "    dict_test = {}\n",
    "    for data in dataset_dict:\n",
    "        with open('elaborated_data_with_r_function/r_'+data+'_removed.json', 'r') as fp:\n",
    "            dataset = pd.read_json(fp)\n",
    "            dict_test[data] = dataset\n",
    "    return dict_test\n",
    "\n",
    "lista_dataset = ['proteins', 'cnv', 'mrna', 'mirna','whole_dataset',\n",
    "                'proteins_mirna','proteins_mirna_mrna']\n",
    "\n",
    "lista_path_on_whole = ['Experiments_using_R_Function_intrinsic_and_umap_whole_dataset',\n",
    "             'Experiments_using_R_Function_intrinsic_and_tsne_whole_dataset',\n",
    "             'Experiments_using_R_Function_mannwhitney_and_multivariate_feature_selection_whole_dataset']\n",
    "\n",
    "lista_path_on_fold = ['Experiments_using_R_Function_whole_intrinsic_and_umap_on_fold',\n",
    "             'Experiments_using_R_Function_whole_intrinsic_and_tsne_on_fold',\n",
    "             'Experiments_using_R_Function_mannwhitney_and_multivariate_feature_selection_on_fold']\n",
    "\n",
    "def retrieve_results_on_fold_or_on_whole(lista_path, lista_dataset):\n",
    "    new_dict = {}\n",
    "    for dataset in lista_dataset:\n",
    "        new_dict[dataset] = {}\n",
    "        for path in lista_path:\n",
    "            if 'umap' in path:\n",
    "                f = open(f'Result/{path}/r_function_intrinsic_with_umap/{dataset}.json')\n",
    "                data = json.load(f)\n",
    "                new_dict[dataset]['r_function_intrinsic_with_umap'] = dictfilt(\n",
    "                    data['r_function_intrinsic_with_umap'], wanted_keys)\n",
    "            elif 'tsne' in path:\n",
    "                f = open(f'Result/{path}/r_function_intrinsic_with_tsne/{dataset}.json')\n",
    "                data = json.load(f)\n",
    "                new_dict[dataset]['r_function_intrinsic_with_tsne'] = dictfilt(\n",
    "                    data['r_function_intrinsic_with_tsne'], wanted_keys)\n",
    "            elif 'multivariate' in path:\n",
    "                if dataset != 'cnv':\n",
    "                    \n",
    "                    f = open(f'Result/{path}/r_function_with_mannwhitney_boruta/{dataset}.json')\n",
    "                    data = json.load(f)\n",
    "                    new_dict[dataset]['r_function_with_mannwhitney_boruta'] = dictfilt(\n",
    "                        data['r_function_with_mannwhitney_boruta'], wanted_keys)\n",
    "                    \n",
    "                if dataset != 'mrna' and dataset != 'whole_dataset' and dataset != 'proteins_mirna_mrna':\n",
    "                    \n",
    "                    f = open(f'Result/{path}/r_function_with_mannwhitney_mrmr/{dataset}.json')\n",
    "                    data = json.load(f)\n",
    "                    new_dict[dataset]['r_function_with_mannwhitney_mrmr'] = dictfilt(\n",
    "                        data['r_function_with_mannwhitney_mrmr'], wanted_keys)\n",
    "                \n",
    "                f = open(f'Result/{path}/r_function_with_mannwhitney/{dataset}.json')\n",
    "                data = json.load(f)\n",
    "                new_dict[dataset]['r_function_with_mannwhitney'] = dictfilt(\n",
    "                    data['r_function_with_mannwhitney'], wanted_keys)\n",
    "    return pd.DataFrame(new_dict)\n",
    "\n",
    "datasets = load_filtered_normalize_data()\n",
    "\n",
    "data_after_r_function = load_data_after_r_function()\n",
    "\n",
    "#create combination of dataset\n",
    "dataset_whole_dataset = pd.concat([datasets['cnv'], datasets['proteins'], datasets['mrna'], datasets['mirna']], axis=1)\n",
    "datasets['dataset_whole_dataset'] = dataset_whole_dataset\n",
    "\n",
    "proteins_mirna_dataset = pd.concat([datasets['proteins'], datasets['mirna']], axis=1)\n",
    "datasets['proteins_mirna_dataset'] = proteins_mirna_dataset\n",
    "\n",
    "proteins_mirna_mrna_dataset = pd.concat([datasets['proteins'], datasets['mirna'], datasets['mrna']], axis=1)\n",
    "datasets['proteins_mirna_mrna_dataset'] = proteins_mirna_mrna_dataset"
   ]
  },
  {
   "cell_type": "markdown",
   "id": "fb1de01a",
   "metadata": {},
   "source": [
    "# Osservazioni iniziali"
   ]
  },
  {
   "cell_type": "markdown",
   "id": "70bf4723",
   "metadata": {},
   "source": [
    "1) Inizialmente tutti i i dati sono stati normalizzati usando MinMaxScaler e filtrati scartando le feature con bassa variabilità ( deviazione standard < 0.05)\n",
    "3) Il modello usato è sempre RandomForest\n",
    "3) Viene usata l'AUPRC come misuratore di performance. La baseline per il dataset fornito è 0.122807, ovvero il 12% dei pazienti sono positivi (77 su 627).\n",
    "4) Viene sempre applicata una StratifiedKFold usando 10 fold.\n",
    "5) I risultati sono sempre presentati con etichetta \"external\" e \"internal\". Questo sta a indicare quando è stata calcolata la AUPRC: nel primo caso le predizioni effettuate dal modello nei 10 fold vengono concatenate e una volta finite viene calcolata l'AUPRC totale; nel secondo caso invece ad ogni iterazione viene calcolata l'AUPRC e alla fine viene calcolata la media. Calcolando l'AUPRC esternamente sono anche in grado di avere un grafico, cosa che internamente non è possibile poiché avrei 10 grafici distinti."
   ]
  },
  {
   "cell_type": "markdown",
   "id": "6745e4b5",
   "metadata": {},
   "source": [
    "### A cnv ho applicato spearman e scartato le feature altamente correlate tra di loro o bassamente correlate con la label"
   ]
  },
  {
   "cell_type": "code",
   "execution_count": 107,
   "id": "465a992d",
   "metadata": {},
   "outputs": [
    {
     "data": {
      "text/html": [
       "<div>\n",
       "<style scoped>\n",
       "    .dataframe tbody tr th:only-of-type {\n",
       "        vertical-align: middle;\n",
       "    }\n",
       "\n",
       "    .dataframe tbody tr th {\n",
       "        vertical-align: top;\n",
       "    }\n",
       "\n",
       "    .dataframe thead th {\n",
       "        text-align: right;\n",
       "    }\n",
       "</style>\n",
       "<table border=\"1\" class=\"dataframe\">\n",
       "  <thead>\n",
       "    <tr style=\"text-align: right;\">\n",
       "      <th></th>\n",
       "      <th>cnv</th>\n",
       "    </tr>\n",
       "  </thead>\n",
       "  <tbody>\n",
       "    <tr>\n",
       "      <th>spearman</th>\n",
       "      <td>{'internal': '0.135', 'external': '0.099'}</td>\n",
       "    </tr>\n",
       "  </tbody>\n",
       "</table>\n",
       "</div>"
      ],
      "text/plain": [
       "                                                 cnv\n",
       "spearman  {'internal': '0.135', 'external': '0.099'}"
      ]
     },
     "execution_count": 107,
     "metadata": {},
     "output_type": "execute_result"
    }
   ],
   "source": [
    "retrieve_single_result_cnv()"
   ]
  },
  {
   "cell_type": "code",
   "execution_count": 108,
   "id": "9c0014b2",
   "metadata": {},
   "outputs": [
    {
     "name": "stdout",
     "output_type": "stream",
     "text": [
      "RandomForestClassifier(criterion='entropy', max_leaf_nodes=5, n_estimators=101)\n"
     ]
    }
   ],
   "source": [
    "print_best_estimator('cnv', 'spearman')"
   ]
  },
  {
   "cell_type": "markdown",
   "id": "daef28d9",
   "metadata": {},
   "source": [
    "### Figura"
   ]
  },
  {
   "cell_type": "code",
   "execution_count": 109,
   "id": "f7a231f0",
   "metadata": {},
   "outputs": [
    {
     "data": {
      "text/html": [
       "\n",
       "        <iframe\n",
       "            width=\"700\"\n",
       "            height=\"400\"\n",
       "            src=\"Result/Many_Feature_Selection_notebook/cnv/spearman_AUPRC_External.pdf\"\n",
       "            frameborder=\"0\"\n",
       "            allowfullscreen\n",
       "            \n",
       "        ></iframe>\n",
       "        "
      ],
      "text/plain": [
       "<IPython.lib.display.IFrame at 0x7ff69c30a4a0>"
      ]
     },
     "execution_count": 109,
     "metadata": {},
     "output_type": "execute_result"
    }
   ],
   "source": [
    "filepath = \"Result/Many_Feature_Selection_notebook/cnv/spearman_AUPRC_External.pdf\"\n",
    "IFrame(filepath, width=700, height=400)"
   ]
  },
  {
   "cell_type": "markdown",
   "id": "9c8cbcaa",
   "metadata": {},
   "source": [
    "# Risultati di proteins, miRNA e mRNA e concat (concatenazione di tutti i dataset)"
   ]
  },
  {
   "cell_type": "code",
   "execution_count": 110,
   "id": "83834f10",
   "metadata": {},
   "outputs": [
    {
     "data": {
      "text/html": [
       "<div>\n",
       "<style scoped>\n",
       "    .dataframe tbody tr th:only-of-type {\n",
       "        vertical-align: middle;\n",
       "    }\n",
       "\n",
       "    .dataframe tbody tr th {\n",
       "        vertical-align: top;\n",
       "    }\n",
       "\n",
       "    .dataframe thead th {\n",
       "        text-align: right;\n",
       "    }\n",
       "</style>\n",
       "<table border=\"1\" class=\"dataframe\">\n",
       "  <thead>\n",
       "    <tr style=\"text-align: right;\">\n",
       "      <th></th>\n",
       "      <th>mirna</th>\n",
       "      <th>proteins</th>\n",
       "      <th>mrna</th>\n",
       "      <th>whole_dataset</th>\n",
       "    </tr>\n",
       "  </thead>\n",
       "  <tbody>\n",
       "    <tr>\n",
       "      <th>mannwhitneyu</th>\n",
       "      <td>{'internal': '0.249', 'external': '0.165'}</td>\n",
       "      <td>{'internal': '0.223', 'external': '0.147'}</td>\n",
       "      <td>{'internal': '0.228', 'external': '0.148'}</td>\n",
       "      <td>{'internal': '0.228', 'external': '0.156'}</td>\n",
       "    </tr>\n",
       "    <tr>\n",
       "      <th>mannwhitneyu_with_umap</th>\n",
       "      <td>{'internal': '0.269', 'external': '0.118'}</td>\n",
       "      <td>{'internal': '0.263', 'external': '0.115'}</td>\n",
       "      <td>{'internal': '0.387', 'external': '0.143'}</td>\n",
       "      <td>{'internal': '0.214', 'external': '0.113'}</td>\n",
       "    </tr>\n",
       "    <tr>\n",
       "      <th>boruta</th>\n",
       "      <td>{'internal': '0.181', 'external': '0.136'}</td>\n",
       "      <td>{'internal': '0.167', 'external': '0.119'}</td>\n",
       "      <td>{'internal': '0.199', 'external': '0.161'}</td>\n",
       "      <td>{'internal': '0.220', 'external': '0.155'}</td>\n",
       "    </tr>\n",
       "    <tr>\n",
       "      <th>mine</th>\n",
       "      <td>{'internal': '0.249', 'external': '0.175'}</td>\n",
       "      <td>{'internal': '0.212', 'external': '0.155'}</td>\n",
       "      <td>{'internal': '0.227', 'external': '0.166'}</td>\n",
       "      <td>-1</td>\n",
       "    </tr>\n",
       "    <tr>\n",
       "      <th>mrmr</th>\n",
       "      <td>{'internal': '0.198', 'external': '0.138'}</td>\n",
       "      <td>{'internal': '0.191', 'external': '0.144'}</td>\n",
       "      <td>-1</td>\n",
       "      <td>-1</td>\n",
       "    </tr>\n",
       "  </tbody>\n",
       "</table>\n",
       "</div>"
      ],
      "text/plain": [
       "                                                             mirna  \\\n",
       "mannwhitneyu            {'internal': '0.249', 'external': '0.165'}   \n",
       "mannwhitneyu_with_umap  {'internal': '0.269', 'external': '0.118'}   \n",
       "boruta                  {'internal': '0.181', 'external': '0.136'}   \n",
       "mine                    {'internal': '0.249', 'external': '0.175'}   \n",
       "mrmr                    {'internal': '0.198', 'external': '0.138'}   \n",
       "\n",
       "                                                          proteins  \\\n",
       "mannwhitneyu            {'internal': '0.223', 'external': '0.147'}   \n",
       "mannwhitneyu_with_umap  {'internal': '0.263', 'external': '0.115'}   \n",
       "boruta                  {'internal': '0.167', 'external': '0.119'}   \n",
       "mine                    {'internal': '0.212', 'external': '0.155'}   \n",
       "mrmr                    {'internal': '0.191', 'external': '0.144'}   \n",
       "\n",
       "                                                              mrna  \\\n",
       "mannwhitneyu            {'internal': '0.228', 'external': '0.148'}   \n",
       "mannwhitneyu_with_umap  {'internal': '0.387', 'external': '0.143'}   \n",
       "boruta                  {'internal': '0.199', 'external': '0.161'}   \n",
       "mine                    {'internal': '0.227', 'external': '0.166'}   \n",
       "mrmr                                                            -1   \n",
       "\n",
       "                                                     whole_dataset  \n",
       "mannwhitneyu            {'internal': '0.228', 'external': '0.156'}  \n",
       "mannwhitneyu_with_umap  {'internal': '0.214', 'external': '0.113'}  \n",
       "boruta                  {'internal': '0.220', 'external': '0.155'}  \n",
       "mine                                                            -1  \n",
       "mrmr                                                            -1  "
      ]
     },
     "execution_count": 110,
     "metadata": {},
     "output_type": "execute_result"
    }
   ],
   "source": [
    "retrieve_results()"
   ]
  },
  {
   "cell_type": "markdown",
   "id": "f21bc274",
   "metadata": {},
   "source": [
    "#### Per mRNA e concat in corrispodenza di mrmr c'è -1, questo perchè il calcolo richiedeva tantissimo tempo, sopratutto usando 10 fold"
   ]
  },
  {
   "cell_type": "markdown",
   "id": "7726a137",
   "metadata": {},
   "source": [
    "## Best estimator of the best combination of feature selection + extraction"
   ]
  },
  {
   "cell_type": "code",
   "execution_count": 111,
   "id": "bcb0c058",
   "metadata": {},
   "outputs": [
    {
     "name": "stdout",
     "output_type": "stream",
     "text": [
      "RandomForestClassifier(criterion='entropy', max_features='log2',\n",
      "                       max_leaf_nodes=5, n_estimators=51)\n"
     ]
    }
   ],
   "source": [
    "print_best_estimator('proteins', 'mannwhitneyu_with_umap')"
   ]
  },
  {
   "cell_type": "code",
   "execution_count": 112,
   "id": "8b44847f",
   "metadata": {},
   "outputs": [
    {
     "name": "stdout",
     "output_type": "stream",
     "text": [
      "RandomForestClassifier(max_leaf_nodes=10, n_estimators=51)\n"
     ]
    }
   ],
   "source": [
    "print_best_estimator('mrna', 'mannwhitneyu_with_umap')"
   ]
  },
  {
   "cell_type": "code",
   "execution_count": 113,
   "id": "01731bb0",
   "metadata": {},
   "outputs": [
    {
     "name": "stdout",
     "output_type": "stream",
     "text": [
      "RandomForestClassifier(criterion='entropy', max_features='log2',\n",
      "                       max_leaf_nodes=10, n_estimators=51)\n"
     ]
    }
   ],
   "source": [
    "print_best_estimator('mirna', 'mannwhitneyu_with_umap')"
   ]
  },
  {
   "cell_type": "code",
   "execution_count": 114,
   "id": "9d60d385",
   "metadata": {},
   "outputs": [
    {
     "name": "stdout",
     "output_type": "stream",
     "text": [
      "RandomForestClassifier(max_leaf_nodes=10, n_estimators=51)\n"
     ]
    }
   ],
   "source": [
    "print_best_estimator('whole_dataset', 'mannwhitneyu_with_umap')"
   ]
  },
  {
   "cell_type": "markdown",
   "id": "0408e12c",
   "metadata": {},
   "source": [
    "# Seconda tipologia di esperimenti\n",
    "\n",
    "### Come prima cosa viene utlizzata una funzione che scarta le feature altamente correlate tra di loro usando \"pearson\" con un cutoff = 0.8. Vediamo quante feature vengono scartate:"
   ]
  },
  {
   "cell_type": "code",
   "execution_count": 115,
   "id": "a4144166",
   "metadata": {},
   "outputs": [
    {
     "name": "stdout",
     "output_type": "stream",
     "text": [
      "proteins: feature prima dell applicazione della funzione: 216\n",
      "proteins: feature dopo l applicazione della funzione: 216\n",
      "proteins: feature eliminate: 0\n",
      "\n",
      "\n",
      "cnv: feature prima dell applicazione della funzione: 24776\n",
      "cnv: feature dopo l applicazione della funzione: 194\n",
      "cnv: feature eliminate: 24582\n",
      "\n",
      "\n",
      "mirna: feature prima dell applicazione della funzione: 773\n",
      "mirna: feature dopo l applicazione della funzione: 761\n",
      "mirna: feature eliminate: 12\n",
      "\n",
      "\n",
      "mrna: feature prima dell applicazione della funzione: 18465\n",
      "mrna: feature dopo l applicazione della funzione: 18411\n",
      "mrna: feature eliminate: 54\n",
      "\n",
      "\n",
      "dataset_whole_dataset: feature prima dell applicazione della funzione: 44230\n",
      "dataset_whole_dataset: feature dopo l applicazione della funzione: 20386\n",
      "dataset_whole_dataset: feature eliminate: 23844\n",
      "\n",
      "\n",
      "proteins_mirna_dataset: feature prima dell applicazione della funzione: 989\n",
      "proteins_mirna_dataset: feature dopo l applicazione della funzione: 977\n",
      "proteins_mirna_dataset: feature eliminate: 12\n",
      "\n",
      "\n",
      "proteins_mirna_mrna_dataset: feature prima dell applicazione della funzione: 19454\n",
      "proteins_mirna_mrna_dataset: feature dopo l applicazione della funzione: 19344\n",
      "proteins_mirna_mrna_dataset: feature eliminate: 110\n",
      "\n",
      "\n"
     ]
    }
   ],
   "source": [
    "for dataset in ['proteins', 'cnv', 'mirna', 'mrna',\n",
    "                'dataset_whole_dataset', 'proteins_mirna_dataset',\n",
    "               'proteins_mirna_mrna_dataset']:    \n",
    "    print(f\"{dataset}: feature prima dell applicazione della funzione: {len(datasets[dataset].columns)}\")\n",
    "    print(f\"{dataset}: feature dopo l applicazione della funzione: {len(data_after_r_function[dataset].columns)}\")\n",
    "    print(f\"{dataset}: feature eliminate: {len(datasets[dataset].columns)-len(data_after_r_function[dataset].columns)}\")\n",
    "    print('\\n')"
   ]
  },
  {
   "cell_type": "markdown",
   "id": "75ec3868",
   "metadata": {},
   "source": [
    "### La differenza tra on fold e on whole dataset:\n",
    "1) In entrambi i casi la funzione che calcola la correlazione tra le feature viene applicata sull'intero dataset, prima di darlo in pasto alla funzione che splitta i dati in fold e addestra\n",
    "2) In 'on fold' il calcolo della dimensione intrinseca viene effettuato sul train set del fold generato durante la StratifiedKFold e la dimensione calcolata viene usata per fare feature extraction sia sul train set che sul test set, usando tSNE e Umap.\n",
    "3) In 'on whole dataset' invece la dimensione intrinseca viene calcolata esternamente alla funzione, quindi su tutto il dataset, e anche la feature extraction viene effettuata esternamente. Il dataset cosi ottenuto viene passato alla funzione che addestra."
   ]
  },
  {
   "cell_type": "markdown",
   "id": "0ecaf82b",
   "metadata": {},
   "source": [
    "# On fold"
   ]
  },
  {
   "cell_type": "code",
   "execution_count": 122,
   "id": "a2cf348d",
   "metadata": {},
   "outputs": [
    {
     "ename": "KeyError",
     "evalue": "'internal'",
     "output_type": "error",
     "traceback": [
      "\u001b[0;31m---------------------------------------------------------------------------\u001b[0m",
      "\u001b[0;31mKeyError\u001b[0m                                  Traceback (most recent call last)",
      "\u001b[0;32m~/.local/lib/python3.10/site-packages/pandas/core/indexes/base.py\u001b[0m in \u001b[0;36mget_loc\u001b[0;34m(self, key, method, tolerance)\u001b[0m\n\u001b[1;32m   3799\u001b[0m             \u001b[0;32mtry\u001b[0m\u001b[0;34m:\u001b[0m\u001b[0;34m\u001b[0m\u001b[0;34m\u001b[0m\u001b[0m\n\u001b[0;32m-> 3800\u001b[0;31m                 \u001b[0;32mreturn\u001b[0m \u001b[0mself\u001b[0m\u001b[0;34m.\u001b[0m\u001b[0m_engine\u001b[0m\u001b[0;34m.\u001b[0m\u001b[0mget_loc\u001b[0m\u001b[0;34m(\u001b[0m\u001b[0mcasted_key\u001b[0m\u001b[0;34m)\u001b[0m\u001b[0;34m\u001b[0m\u001b[0;34m\u001b[0m\u001b[0m\n\u001b[0m\u001b[1;32m   3801\u001b[0m             \u001b[0;32mexcept\u001b[0m \u001b[0mKeyError\u001b[0m \u001b[0;32mas\u001b[0m \u001b[0merr\u001b[0m\u001b[0;34m:\u001b[0m\u001b[0;34m\u001b[0m\u001b[0;34m\u001b[0m\u001b[0m\n",
      "\u001b[0;32m~/.local/lib/python3.10/site-packages/pandas/_libs/index.pyx\u001b[0m in \u001b[0;36mpandas._libs.index.IndexEngine.get_loc\u001b[0;34m()\u001b[0m\n",
      "\u001b[0;32m~/.local/lib/python3.10/site-packages/pandas/_libs/index.pyx\u001b[0m in \u001b[0;36mpandas._libs.index.IndexEngine.get_loc\u001b[0;34m()\u001b[0m\n",
      "\u001b[0;32mpandas/_libs/hashtable_class_helper.pxi\u001b[0m in \u001b[0;36mpandas._libs.hashtable.PyObjectHashTable.get_item\u001b[0;34m()\u001b[0m\n",
      "\u001b[0;32mpandas/_libs/hashtable_class_helper.pxi\u001b[0m in \u001b[0;36mpandas._libs.hashtable.PyObjectHashTable.get_item\u001b[0;34m()\u001b[0m\n",
      "\u001b[0;31mKeyError\u001b[0m: 'internal'",
      "\nThe above exception was the direct cause of the following exception:\n",
      "\u001b[0;31mKeyError\u001b[0m                                  Traceback (most recent call last)",
      "\u001b[0;32m/usr/lib/python3/dist-packages/IPython/core/formatters.py\u001b[0m in \u001b[0;36m__call__\u001b[0;34m(self, obj)\u001b[0m\n\u001b[1;32m    343\u001b[0m             \u001b[0mmethod\u001b[0m \u001b[0;34m=\u001b[0m \u001b[0mget_real_method\u001b[0m\u001b[0;34m(\u001b[0m\u001b[0mobj\u001b[0m\u001b[0;34m,\u001b[0m \u001b[0mself\u001b[0m\u001b[0;34m.\u001b[0m\u001b[0mprint_method\u001b[0m\u001b[0;34m)\u001b[0m\u001b[0;34m\u001b[0m\u001b[0;34m\u001b[0m\u001b[0m\n\u001b[1;32m    344\u001b[0m             \u001b[0;32mif\u001b[0m \u001b[0mmethod\u001b[0m \u001b[0;32mis\u001b[0m \u001b[0;32mnot\u001b[0m \u001b[0;32mNone\u001b[0m\u001b[0;34m:\u001b[0m\u001b[0;34m\u001b[0m\u001b[0;34m\u001b[0m\u001b[0m\n\u001b[0;32m--> 345\u001b[0;31m                 \u001b[0;32mreturn\u001b[0m \u001b[0mmethod\u001b[0m\u001b[0;34m(\u001b[0m\u001b[0;34m)\u001b[0m\u001b[0;34m\u001b[0m\u001b[0;34m\u001b[0m\u001b[0m\n\u001b[0m\u001b[1;32m    346\u001b[0m             \u001b[0;32mreturn\u001b[0m \u001b[0;32mNone\u001b[0m\u001b[0;34m\u001b[0m\u001b[0;34m\u001b[0m\u001b[0m\n\u001b[1;32m    347\u001b[0m         \u001b[0;32melse\u001b[0m\u001b[0;34m:\u001b[0m\u001b[0;34m\u001b[0m\u001b[0;34m\u001b[0m\u001b[0m\n",
      "\u001b[0;32m~/.local/lib/python3.10/site-packages/pandas/io/formats/style.py\u001b[0m in \u001b[0;36m_repr_html_\u001b[0;34m(self)\u001b[0m\n\u001b[1;32m    378\u001b[0m         \"\"\"\n\u001b[1;32m    379\u001b[0m         \u001b[0;32mif\u001b[0m \u001b[0mget_option\u001b[0m\u001b[0;34m(\u001b[0m\u001b[0;34m\"styler.render.repr\"\u001b[0m\u001b[0;34m)\u001b[0m \u001b[0;34m==\u001b[0m \u001b[0;34m\"html\"\u001b[0m\u001b[0;34m:\u001b[0m\u001b[0;34m\u001b[0m\u001b[0;34m\u001b[0m\u001b[0m\n\u001b[0;32m--> 380\u001b[0;31m             \u001b[0;32mreturn\u001b[0m \u001b[0mself\u001b[0m\u001b[0;34m.\u001b[0m\u001b[0mto_html\u001b[0m\u001b[0;34m(\u001b[0m\u001b[0;34m)\u001b[0m\u001b[0;34m\u001b[0m\u001b[0;34m\u001b[0m\u001b[0m\n\u001b[0m\u001b[1;32m    381\u001b[0m         \u001b[0;32mreturn\u001b[0m \u001b[0;32mNone\u001b[0m\u001b[0;34m\u001b[0m\u001b[0;34m\u001b[0m\u001b[0m\n\u001b[1;32m    382\u001b[0m \u001b[0;34m\u001b[0m\u001b[0m\n",
      "\u001b[0;32m~/.local/lib/python3.10/site-packages/pandas/io/formats/style.py\u001b[0m in \u001b[0;36mto_html\u001b[0;34m(self, buf, table_uuid, table_attributes, sparse_index, sparse_columns, bold_headers, caption, max_rows, max_columns, encoding, doctype_html, exclude_styles, **kwargs)\u001b[0m\n\u001b[1;32m   1370\u001b[0m \u001b[0;34m\u001b[0m\u001b[0m\n\u001b[1;32m   1371\u001b[0m         \u001b[0;31m# Build HTML string..\u001b[0m\u001b[0;34m\u001b[0m\u001b[0;34m\u001b[0m\u001b[0m\n\u001b[0;32m-> 1372\u001b[0;31m         html = obj._render_html(\n\u001b[0m\u001b[1;32m   1373\u001b[0m             \u001b[0msparse_index\u001b[0m\u001b[0;34m=\u001b[0m\u001b[0msparse_index\u001b[0m\u001b[0;34m,\u001b[0m\u001b[0;34m\u001b[0m\u001b[0;34m\u001b[0m\u001b[0m\n\u001b[1;32m   1374\u001b[0m             \u001b[0msparse_columns\u001b[0m\u001b[0;34m=\u001b[0m\u001b[0msparse_columns\u001b[0m\u001b[0;34m,\u001b[0m\u001b[0;34m\u001b[0m\u001b[0;34m\u001b[0m\u001b[0m\n",
      "\u001b[0;32m~/.local/lib/python3.10/site-packages/pandas/io/formats/style_render.py\u001b[0m in \u001b[0;36m_render_html\u001b[0;34m(self, sparse_index, sparse_columns, max_rows, max_cols, **kwargs)\u001b[0m\n\u001b[1;32m    197\u001b[0m         \u001b[0mGenerates\u001b[0m \u001b[0ma\u001b[0m \u001b[0mdict\u001b[0m \u001b[0;32mwith\u001b[0m \u001b[0mnecessary\u001b[0m \u001b[0mkwargs\u001b[0m \u001b[0mpassed\u001b[0m \u001b[0mto\u001b[0m \u001b[0mjinja2\u001b[0m \u001b[0mtemplate\u001b[0m\u001b[0;34m.\u001b[0m\u001b[0;34m\u001b[0m\u001b[0;34m\u001b[0m\u001b[0m\n\u001b[1;32m    198\u001b[0m         \"\"\"\n\u001b[0;32m--> 199\u001b[0;31m         \u001b[0md\u001b[0m \u001b[0;34m=\u001b[0m \u001b[0mself\u001b[0m\u001b[0;34m.\u001b[0m\u001b[0m_render\u001b[0m\u001b[0;34m(\u001b[0m\u001b[0msparse_index\u001b[0m\u001b[0;34m,\u001b[0m \u001b[0msparse_columns\u001b[0m\u001b[0;34m,\u001b[0m \u001b[0mmax_rows\u001b[0m\u001b[0;34m,\u001b[0m \u001b[0mmax_cols\u001b[0m\u001b[0;34m,\u001b[0m \u001b[0;34m\"&nbsp;\"\u001b[0m\u001b[0;34m)\u001b[0m\u001b[0;34m\u001b[0m\u001b[0;34m\u001b[0m\u001b[0m\n\u001b[0m\u001b[1;32m    200\u001b[0m         \u001b[0md\u001b[0m\u001b[0;34m.\u001b[0m\u001b[0mupdate\u001b[0m\u001b[0;34m(\u001b[0m\u001b[0mkwargs\u001b[0m\u001b[0;34m)\u001b[0m\u001b[0;34m\u001b[0m\u001b[0;34m\u001b[0m\u001b[0m\n\u001b[1;32m    201\u001b[0m         return self.template_html.render(\n",
      "\u001b[0;32m~/.local/lib/python3.10/site-packages/pandas/io/formats/style_render.py\u001b[0m in \u001b[0;36m_render\u001b[0;34m(self, sparse_index, sparse_columns, max_rows, max_cols, blank)\u001b[0m\n\u001b[1;32m    161\u001b[0m         \u001b[0mstylers\u001b[0m \u001b[0;32mfor\u001b[0m \u001b[0muse\u001b[0m \u001b[0mwithin\u001b[0m\u001b[0;31m \u001b[0m\u001b[0;31m`\u001b[0m\u001b[0m_translate_latex\u001b[0m\u001b[0;31m`\u001b[0m\u001b[0;34m\u001b[0m\u001b[0;34m\u001b[0m\u001b[0m\n\u001b[1;32m    162\u001b[0m         \"\"\"\n\u001b[0;32m--> 163\u001b[0;31m         \u001b[0mself\u001b[0m\u001b[0;34m.\u001b[0m\u001b[0m_compute\u001b[0m\u001b[0;34m(\u001b[0m\u001b[0;34m)\u001b[0m\u001b[0;34m\u001b[0m\u001b[0;34m\u001b[0m\u001b[0m\n\u001b[0m\u001b[1;32m    164\u001b[0m         \u001b[0mdx\u001b[0m \u001b[0;34m=\u001b[0m \u001b[0;32mNone\u001b[0m\u001b[0;34m\u001b[0m\u001b[0;34m\u001b[0m\u001b[0m\n\u001b[1;32m    165\u001b[0m         \u001b[0;32mif\u001b[0m \u001b[0mself\u001b[0m\u001b[0;34m.\u001b[0m\u001b[0mconcatenated\u001b[0m \u001b[0;32mis\u001b[0m \u001b[0;32mnot\u001b[0m \u001b[0;32mNone\u001b[0m\u001b[0;34m:\u001b[0m\u001b[0;34m\u001b[0m\u001b[0;34m\u001b[0m\u001b[0m\n",
      "\u001b[0;32m~/.local/lib/python3.10/site-packages/pandas/io/formats/style_render.py\u001b[0m in \u001b[0;36m_compute\u001b[0;34m(self)\u001b[0m\n\u001b[1;32m    249\u001b[0m         \u001b[0mr\u001b[0m \u001b[0;34m=\u001b[0m \u001b[0mself\u001b[0m\u001b[0;34m\u001b[0m\u001b[0;34m\u001b[0m\u001b[0m\n\u001b[1;32m    250\u001b[0m         \u001b[0;32mfor\u001b[0m \u001b[0mfunc\u001b[0m\u001b[0;34m,\u001b[0m \u001b[0margs\u001b[0m\u001b[0;34m,\u001b[0m \u001b[0mkwargs\u001b[0m \u001b[0;32min\u001b[0m \u001b[0mself\u001b[0m\u001b[0;34m.\u001b[0m\u001b[0m_todo\u001b[0m\u001b[0;34m:\u001b[0m\u001b[0;34m\u001b[0m\u001b[0;34m\u001b[0m\u001b[0m\n\u001b[0;32m--> 251\u001b[0;31m             \u001b[0mr\u001b[0m \u001b[0;34m=\u001b[0m \u001b[0mfunc\u001b[0m\u001b[0;34m(\u001b[0m\u001b[0mself\u001b[0m\u001b[0;34m)\u001b[0m\u001b[0;34m(\u001b[0m\u001b[0;34m*\u001b[0m\u001b[0margs\u001b[0m\u001b[0;34m,\u001b[0m \u001b[0;34m**\u001b[0m\u001b[0mkwargs\u001b[0m\u001b[0;34m)\u001b[0m\u001b[0;34m\u001b[0m\u001b[0;34m\u001b[0m\u001b[0m\n\u001b[0m\u001b[1;32m    252\u001b[0m         \u001b[0;32mreturn\u001b[0m \u001b[0mr\u001b[0m\u001b[0;34m\u001b[0m\u001b[0;34m\u001b[0m\u001b[0m\n\u001b[1;32m    253\u001b[0m \u001b[0;34m\u001b[0m\u001b[0m\n",
      "\u001b[0;32m~/.local/lib/python3.10/site-packages/pandas/io/formats/style.py\u001b[0m in \u001b[0;36m_apply\u001b[0;34m(self, func, axis, subset, **kwargs)\u001b[0m\n\u001b[1;32m   1712\u001b[0m             \u001b[0mresult\u001b[0m \u001b[0;34m=\u001b[0m \u001b[0mDataFrame\u001b[0m\u001b[0;34m(\u001b[0m\u001b[0;34m)\u001b[0m\u001b[0;34m\u001b[0m\u001b[0;34m\u001b[0m\u001b[0m\n\u001b[1;32m   1713\u001b[0m         \u001b[0;32melif\u001b[0m \u001b[0maxis\u001b[0m \u001b[0;32mis\u001b[0m \u001b[0;32mNone\u001b[0m\u001b[0;34m:\u001b[0m\u001b[0;34m\u001b[0m\u001b[0;34m\u001b[0m\u001b[0m\n\u001b[0;32m-> 1714\u001b[0;31m             \u001b[0mresult\u001b[0m \u001b[0;34m=\u001b[0m \u001b[0mfunc\u001b[0m\u001b[0;34m(\u001b[0m\u001b[0mdata\u001b[0m\u001b[0;34m,\u001b[0m \u001b[0;34m**\u001b[0m\u001b[0mkwargs\u001b[0m\u001b[0;34m)\u001b[0m\u001b[0;34m\u001b[0m\u001b[0;34m\u001b[0m\u001b[0m\n\u001b[0m\u001b[1;32m   1715\u001b[0m             \u001b[0;32mif\u001b[0m \u001b[0;32mnot\u001b[0m \u001b[0misinstance\u001b[0m\u001b[0;34m(\u001b[0m\u001b[0mresult\u001b[0m\u001b[0;34m,\u001b[0m \u001b[0mDataFrame\u001b[0m\u001b[0;34m)\u001b[0m\u001b[0;34m:\u001b[0m\u001b[0;34m\u001b[0m\u001b[0;34m\u001b[0m\u001b[0m\n\u001b[1;32m   1716\u001b[0m                 \u001b[0;32mif\u001b[0m \u001b[0;32mnot\u001b[0m \u001b[0misinstance\u001b[0m\u001b[0;34m(\u001b[0m\u001b[0mresult\u001b[0m\u001b[0;34m,\u001b[0m \u001b[0mnp\u001b[0m\u001b[0;34m.\u001b[0m\u001b[0mndarray\u001b[0m\u001b[0;34m)\u001b[0m\u001b[0;34m:\u001b[0m\u001b[0;34m\u001b[0m\u001b[0;34m\u001b[0m\u001b[0m\n",
      "\u001b[0;32m/tmp/ipykernel_6676/3010530294.py\u001b[0m in \u001b[0;36mhighlight_max\u001b[0;34m(s)\u001b[0m\n\u001b[1;32m      7\u001b[0m \u001b[0;34m\u001b[0m\u001b[0m\n\u001b[1;32m      8\u001b[0m \u001b[0;32mdef\u001b[0m \u001b[0mhighlight_max\u001b[0m\u001b[0;34m(\u001b[0m\u001b[0ms\u001b[0m\u001b[0;34m)\u001b[0m\u001b[0;34m:\u001b[0m\u001b[0;34m\u001b[0m\u001b[0;34m\u001b[0m\u001b[0m\n\u001b[0;32m----> 9\u001b[0;31m     \u001b[0ms\u001b[0m \u001b[0;34m=\u001b[0m \u001b[0ms\u001b[0m\u001b[0;34m[\u001b[0m\u001b[0;34m'internal'\u001b[0m\u001b[0;34m]\u001b[0m\u001b[0;34m\u001b[0m\u001b[0;34m\u001b[0m\u001b[0m\n\u001b[0m\u001b[1;32m     10\u001b[0m     \u001b[0;32mif\u001b[0m \u001b[0;34m(\u001b[0m\u001b[0ms\u001b[0m\u001b[0;34m.\u001b[0m\u001b[0mdtype\u001b[0m \u001b[0;34m==\u001b[0m \u001b[0mobject\u001b[0m\u001b[0;34m)\u001b[0m\u001b[0;34m:\u001b[0m\u001b[0;34m\u001b[0m\u001b[0;34m\u001b[0m\u001b[0m\n\u001b[1;32m     11\u001b[0m         \u001b[0mis_max\u001b[0m \u001b[0;34m=\u001b[0m \u001b[0;34m[\u001b[0m\u001b[0;32mFalse\u001b[0m \u001b[0;32mfor\u001b[0m \u001b[0m_\u001b[0m \u001b[0;32min\u001b[0m \u001b[0mrange\u001b[0m\u001b[0;34m(\u001b[0m\u001b[0ms\u001b[0m\u001b[0;34m.\u001b[0m\u001b[0mshape\u001b[0m\u001b[0;34m[\u001b[0m\u001b[0;36m0\u001b[0m\u001b[0;34m]\u001b[0m\u001b[0;34m)\u001b[0m\u001b[0;34m]\u001b[0m\u001b[0;34m\u001b[0m\u001b[0;34m\u001b[0m\u001b[0m\n",
      "\u001b[0;32m~/.local/lib/python3.10/site-packages/pandas/core/frame.py\u001b[0m in \u001b[0;36m__getitem__\u001b[0;34m(self, key)\u001b[0m\n\u001b[1;32m   3803\u001b[0m             \u001b[0;32mif\u001b[0m \u001b[0mself\u001b[0m\u001b[0;34m.\u001b[0m\u001b[0mcolumns\u001b[0m\u001b[0;34m.\u001b[0m\u001b[0mnlevels\u001b[0m \u001b[0;34m>\u001b[0m \u001b[0;36m1\u001b[0m\u001b[0;34m:\u001b[0m\u001b[0;34m\u001b[0m\u001b[0;34m\u001b[0m\u001b[0m\n\u001b[1;32m   3804\u001b[0m                 \u001b[0;32mreturn\u001b[0m \u001b[0mself\u001b[0m\u001b[0;34m.\u001b[0m\u001b[0m_getitem_multilevel\u001b[0m\u001b[0;34m(\u001b[0m\u001b[0mkey\u001b[0m\u001b[0;34m)\u001b[0m\u001b[0;34m\u001b[0m\u001b[0;34m\u001b[0m\u001b[0m\n\u001b[0;32m-> 3805\u001b[0;31m             \u001b[0mindexer\u001b[0m \u001b[0;34m=\u001b[0m \u001b[0mself\u001b[0m\u001b[0;34m.\u001b[0m\u001b[0mcolumns\u001b[0m\u001b[0;34m.\u001b[0m\u001b[0mget_loc\u001b[0m\u001b[0;34m(\u001b[0m\u001b[0mkey\u001b[0m\u001b[0;34m)\u001b[0m\u001b[0;34m\u001b[0m\u001b[0;34m\u001b[0m\u001b[0m\n\u001b[0m\u001b[1;32m   3806\u001b[0m             \u001b[0;32mif\u001b[0m \u001b[0mis_integer\u001b[0m\u001b[0;34m(\u001b[0m\u001b[0mindexer\u001b[0m\u001b[0;34m)\u001b[0m\u001b[0;34m:\u001b[0m\u001b[0;34m\u001b[0m\u001b[0;34m\u001b[0m\u001b[0m\n\u001b[1;32m   3807\u001b[0m                 \u001b[0mindexer\u001b[0m \u001b[0;34m=\u001b[0m \u001b[0;34m[\u001b[0m\u001b[0mindexer\u001b[0m\u001b[0;34m]\u001b[0m\u001b[0;34m\u001b[0m\u001b[0;34m\u001b[0m\u001b[0m\n",
      "\u001b[0;32m~/.local/lib/python3.10/site-packages/pandas/core/indexes/base.py\u001b[0m in \u001b[0;36mget_loc\u001b[0;34m(self, key, method, tolerance)\u001b[0m\n\u001b[1;32m   3800\u001b[0m                 \u001b[0;32mreturn\u001b[0m \u001b[0mself\u001b[0m\u001b[0;34m.\u001b[0m\u001b[0m_engine\u001b[0m\u001b[0;34m.\u001b[0m\u001b[0mget_loc\u001b[0m\u001b[0;34m(\u001b[0m\u001b[0mcasted_key\u001b[0m\u001b[0;34m)\u001b[0m\u001b[0;34m\u001b[0m\u001b[0;34m\u001b[0m\u001b[0m\n\u001b[1;32m   3801\u001b[0m             \u001b[0;32mexcept\u001b[0m \u001b[0mKeyError\u001b[0m \u001b[0;32mas\u001b[0m \u001b[0merr\u001b[0m\u001b[0;34m:\u001b[0m\u001b[0;34m\u001b[0m\u001b[0;34m\u001b[0m\u001b[0m\n\u001b[0;32m-> 3802\u001b[0;31m                 \u001b[0;32mraise\u001b[0m \u001b[0mKeyError\u001b[0m\u001b[0;34m(\u001b[0m\u001b[0mkey\u001b[0m\u001b[0;34m)\u001b[0m \u001b[0;32mfrom\u001b[0m \u001b[0merr\u001b[0m\u001b[0;34m\u001b[0m\u001b[0;34m\u001b[0m\u001b[0m\n\u001b[0m\u001b[1;32m   3803\u001b[0m             \u001b[0;32mexcept\u001b[0m \u001b[0mTypeError\u001b[0m\u001b[0;34m:\u001b[0m\u001b[0;34m\u001b[0m\u001b[0;34m\u001b[0m\u001b[0m\n\u001b[1;32m   3804\u001b[0m                 \u001b[0;31m# If we have a listlike key, _check_indexing_error will raise\u001b[0m\u001b[0;34m\u001b[0m\u001b[0;34m\u001b[0m\u001b[0m\n",
      "\u001b[0;31mKeyError\u001b[0m: 'internal'"
     ]
    },
    {
     "data": {
      "text/plain": [
       "<pandas.io.formats.style.Styler at 0x7ff6c4e28ee0>"
      ]
     },
     "execution_count": 122,
     "metadata": {},
     "output_type": "execute_result"
    }
   ],
   "source": [
    "retrieve_results_on_fold_or_on_whole(lista_path_on_fold, lista_dataset).style.apply(highlight_max, axis=None).format(float_formatter)"
   ]
  },
  {
   "cell_type": "markdown",
   "id": "f2fa813a",
   "metadata": {},
   "source": [
    "### whole dataset (transductive)"
   ]
  },
  {
   "cell_type": "code",
   "execution_count": 119,
   "id": "21e1ba57",
   "metadata": {},
   "outputs": [
    {
     "data": {
      "text/html": [
       "<div>\n",
       "<style scoped>\n",
       "    .dataframe tbody tr th:only-of-type {\n",
       "        vertical-align: middle;\n",
       "    }\n",
       "\n",
       "    .dataframe tbody tr th {\n",
       "        vertical-align: top;\n",
       "    }\n",
       "\n",
       "    .dataframe thead th {\n",
       "        text-align: right;\n",
       "    }\n",
       "</style>\n",
       "<table border=\"1\" class=\"dataframe\">\n",
       "  <thead>\n",
       "    <tr style=\"text-align: right;\">\n",
       "      <th></th>\n",
       "      <th>proteins</th>\n",
       "      <th>cnv</th>\n",
       "      <th>mrna</th>\n",
       "      <th>mirna</th>\n",
       "      <th>whole_dataset</th>\n",
       "      <th>proteins_mirna</th>\n",
       "      <th>proteins_mirna_mrna</th>\n",
       "    </tr>\n",
       "  </thead>\n",
       "  <tbody>\n",
       "    <tr>\n",
       "      <th>r_function_intrinsic_with_umap</th>\n",
       "      <td>{'internal': '0.719', 'external': '0.694'}</td>\n",
       "      <td>{'internal': '0.552', 'external': '0.563'}</td>\n",
       "      <td>{'internal': '0.633', 'external': '0.637'}</td>\n",
       "      <td>{'internal': '0.787', 'external': '0.785'}</td>\n",
       "      <td>{'internal': '0.703', 'external': '0.684'}</td>\n",
       "      <td>{'internal': '0.735', 'external': '0.733'}</td>\n",
       "      <td>{'internal': '0.699', 'external': '0.679'}</td>\n",
       "    </tr>\n",
       "    <tr>\n",
       "      <th>r_function_intrinsic_with_tsne</th>\n",
       "      <td>{'internal': '0.136', 'external': '0.108'}</td>\n",
       "      <td>{'internal': '0.153', 'external': '0.115'}</td>\n",
       "      <td>{'internal': '0.168', 'external': '0.114'}</td>\n",
       "      <td>{'internal': '0.206', 'external': '0.153'}</td>\n",
       "      <td>{'internal': '0.164', 'external': '0.140'}</td>\n",
       "      <td>{'internal': '0.194', 'external': '0.139'}</td>\n",
       "      <td>{'internal': '0.179', 'external': '0.141'}</td>\n",
       "    </tr>\n",
       "    <tr>\n",
       "      <th>r_function_with_mannwhitney_boruta</th>\n",
       "      <td>{'internal': '0.245', 'external': '0.175'}</td>\n",
       "      <td>NaN</td>\n",
       "      <td>{'internal': '0.383', 'external': '0.292'}</td>\n",
       "      <td>{'internal': '0.287', 'external': '0.179'}</td>\n",
       "      <td>{'internal': '0.388', 'external': '0.303'}</td>\n",
       "      <td>{'internal': '0.302', 'external': '0.239'}</td>\n",
       "      <td>{'internal': '0.380', 'external': '0.324'}</td>\n",
       "    </tr>\n",
       "    <tr>\n",
       "      <th>r_function_with_mannwhitney_mrmr</th>\n",
       "      <td>{'internal': '0.235', 'external': '0.167'}</td>\n",
       "      <td>{'internal': '0.255', 'external': '0.164'}</td>\n",
       "      <td>NaN</td>\n",
       "      <td>{'internal': '0.253', 'external': '0.180'}</td>\n",
       "      <td>NaN</td>\n",
       "      <td>{'internal': '0.287', 'external': '0.215'}</td>\n",
       "      <td>NaN</td>\n",
       "    </tr>\n",
       "    <tr>\n",
       "      <th>r_function_with_mannwhitney</th>\n",
       "      <td>{'internal': '0.250', 'external': '0.188'}</td>\n",
       "      <td>{'internal': '0.244', 'external': '0.165'}</td>\n",
       "      <td>{'internal': '0.264', 'external': '0.178'}</td>\n",
       "      <td>{'internal': '0.223', 'external': '0.177'}</td>\n",
       "      <td>{'internal': '0.265', 'external': '0.158'}</td>\n",
       "      <td>{'internal': '0.312', 'external': '0.208'}</td>\n",
       "      <td>{'internal': '0.248', 'external': '0.173'}</td>\n",
       "    </tr>\n",
       "  </tbody>\n",
       "</table>\n",
       "</div>"
      ],
      "text/plain": [
       "                                                                      proteins  \\\n",
       "r_function_intrinsic_with_umap      {'internal': '0.719', 'external': '0.694'}   \n",
       "r_function_intrinsic_with_tsne      {'internal': '0.136', 'external': '0.108'}   \n",
       "r_function_with_mannwhitney_boruta  {'internal': '0.245', 'external': '0.175'}   \n",
       "r_function_with_mannwhitney_mrmr    {'internal': '0.235', 'external': '0.167'}   \n",
       "r_function_with_mannwhitney         {'internal': '0.250', 'external': '0.188'}   \n",
       "\n",
       "                                                                           cnv  \\\n",
       "r_function_intrinsic_with_umap      {'internal': '0.552', 'external': '0.563'}   \n",
       "r_function_intrinsic_with_tsne      {'internal': '0.153', 'external': '0.115'}   \n",
       "r_function_with_mannwhitney_boruta                                         NaN   \n",
       "r_function_with_mannwhitney_mrmr    {'internal': '0.255', 'external': '0.164'}   \n",
       "r_function_with_mannwhitney         {'internal': '0.244', 'external': '0.165'}   \n",
       "\n",
       "                                                                          mrna  \\\n",
       "r_function_intrinsic_with_umap      {'internal': '0.633', 'external': '0.637'}   \n",
       "r_function_intrinsic_with_tsne      {'internal': '0.168', 'external': '0.114'}   \n",
       "r_function_with_mannwhitney_boruta  {'internal': '0.383', 'external': '0.292'}   \n",
       "r_function_with_mannwhitney_mrmr                                           NaN   \n",
       "r_function_with_mannwhitney         {'internal': '0.264', 'external': '0.178'}   \n",
       "\n",
       "                                                                         mirna  \\\n",
       "r_function_intrinsic_with_umap      {'internal': '0.787', 'external': '0.785'}   \n",
       "r_function_intrinsic_with_tsne      {'internal': '0.206', 'external': '0.153'}   \n",
       "r_function_with_mannwhitney_boruta  {'internal': '0.287', 'external': '0.179'}   \n",
       "r_function_with_mannwhitney_mrmr    {'internal': '0.253', 'external': '0.180'}   \n",
       "r_function_with_mannwhitney         {'internal': '0.223', 'external': '0.177'}   \n",
       "\n",
       "                                                                 whole_dataset  \\\n",
       "r_function_intrinsic_with_umap      {'internal': '0.703', 'external': '0.684'}   \n",
       "r_function_intrinsic_with_tsne      {'internal': '0.164', 'external': '0.140'}   \n",
       "r_function_with_mannwhitney_boruta  {'internal': '0.388', 'external': '0.303'}   \n",
       "r_function_with_mannwhitney_mrmr                                           NaN   \n",
       "r_function_with_mannwhitney         {'internal': '0.265', 'external': '0.158'}   \n",
       "\n",
       "                                                                proteins_mirna  \\\n",
       "r_function_intrinsic_with_umap      {'internal': '0.735', 'external': '0.733'}   \n",
       "r_function_intrinsic_with_tsne      {'internal': '0.194', 'external': '0.139'}   \n",
       "r_function_with_mannwhitney_boruta  {'internal': '0.302', 'external': '0.239'}   \n",
       "r_function_with_mannwhitney_mrmr    {'internal': '0.287', 'external': '0.215'}   \n",
       "r_function_with_mannwhitney         {'internal': '0.312', 'external': '0.208'}   \n",
       "\n",
       "                                                           proteins_mirna_mrna  \n",
       "r_function_intrinsic_with_umap      {'internal': '0.699', 'external': '0.679'}  \n",
       "r_function_intrinsic_with_tsne      {'internal': '0.179', 'external': '0.141'}  \n",
       "r_function_with_mannwhitney_boruta  {'internal': '0.380', 'external': '0.324'}  \n",
       "r_function_with_mannwhitney_mrmr                                           NaN  \n",
       "r_function_with_mannwhitney         {'internal': '0.248', 'external': '0.173'}  "
      ]
     },
     "execution_count": 119,
     "metadata": {},
     "output_type": "execute_result"
    }
   ],
   "source": [
    "retrieve_results_on_fold_or_on_whole(lista_path_on_whole, lista_dataset)"
   ]
  }
 ],
 "metadata": {
  "kernelspec": {
   "display_name": "Python 3 (ipykernel)",
   "language": "python",
   "name": "python3"
  },
  "language_info": {
   "codemirror_mode": {
    "name": "ipython",
    "version": 3
   },
   "file_extension": ".py",
   "mimetype": "text/x-python",
   "name": "python",
   "nbconvert_exporter": "python",
   "pygments_lexer": "ipython3",
   "version": "3.10.6"
  }
 },
 "nbformat": 4,
 "nbformat_minor": 5
}

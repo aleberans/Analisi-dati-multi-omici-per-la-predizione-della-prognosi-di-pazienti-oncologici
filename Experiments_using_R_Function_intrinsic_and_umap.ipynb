{
 "cells": [
  {
   "cell_type": "code",
   "execution_count": 43,
   "id": "22da371c",
   "metadata": {},
   "outputs": [],
   "source": [
    "import pandas as pd\n",
    "import matplotlib.pyplot as plt\n",
    "import rpy2.robjects as robjects\n",
    "from sklearn.preprocessing import MinMaxScaler\n",
    "from rpy2.robjects.packages import importr\n",
    "from rpy2.robjects import pandas2ri\n",
    "from rpy2.robjects.conversion import localconverter\n",
    "import skdim\n",
    "import os.path\n",
    "from boruta import BorutaPy\n",
    "from sklearn.ensemble import RandomForestClassifier\n",
    "from sklearn.metrics import auc, precision_recall_curve, average_precision_score, PrecisionRecallDisplay\n",
    "import umap.umap_ as umap\n",
    "from tqdm import tqdm\n",
    "import json\n",
    "import numpy as np\n",
    "import math\n",
    "from scipy.stats import mannwhitneyu\n",
    "from json import JSONEncoder\n",
    "from sklearn.model_selection import StratifiedKFold, GridSearchCV\n",
    "from rpy2.robjects import pandas2ri\n",
    "from sklearn.manifold import TSNE\n",
    "\n",
    "#pandas2ri.activate()"
   ]
  },
  {
   "cell_type": "markdown",
   "id": "309280f8",
   "metadata": {},
   "source": [
    "# Import data"
   ]
  },
  {
   "cell_type": "code",
   "execution_count": 44,
   "id": "f9eb11e6",
   "metadata": {},
   "outputs": [],
   "source": [
    "# import data from csv \n",
    "cnv = pd.read_csv('dataset_hg19/dataset/cnv.csv', sep=' ')"
   ]
  },
  {
   "cell_type": "code",
   "execution_count": 45,
   "id": "78e67514",
   "metadata": {},
   "outputs": [],
   "source": [
    "mirna = pd.read_csv('dataset_hg19/dataset/mirna.csv', sep=' ')"
   ]
  },
  {
   "cell_type": "code",
   "execution_count": 46,
   "id": "ae9b411f",
   "metadata": {},
   "outputs": [],
   "source": [
    "mrna = pd.read_csv('dataset_hg19/dataset/mrna.csv', sep=' ')"
   ]
  },
  {
   "cell_type": "code",
   "execution_count": 47,
   "id": "6d2a1e71",
   "metadata": {},
   "outputs": [
    {
     "data": {
      "text/plain": [
       "216"
      ]
     },
     "execution_count": 47,
     "metadata": {},
     "output_type": "execute_result"
    }
   ],
   "source": [
    "proteins = pd.read_csv('dataset_hg19/dataset/proteins.csv', sep=' ')\n",
    "len(proteins.columns)"
   ]
  },
  {
   "cell_type": "markdown",
   "id": "fe725e2b",
   "metadata": {},
   "source": [
    "# Import label"
   ]
  },
  {
   "cell_type": "code",
   "execution_count": 48,
   "id": "18d7db91",
   "metadata": {},
   "outputs": [],
   "source": [
    "label = pd.read_csv('dataset_hg19/dataset/labels_pfi.csv', sep=' ')"
   ]
  },
  {
   "cell_type": "markdown",
   "id": "1660c8fb",
   "metadata": {},
   "source": [
    "# Normalize data"
   ]
  },
  {
   "cell_type": "code",
   "execution_count": 49,
   "id": "93c3ec34",
   "metadata": {},
   "outputs": [],
   "source": [
    "def dataNormalization(scaler, data):\n",
    "    scl = scaler()\n",
    "    model = scl.fit(data)\n",
    "    scaled_data = model.transform(data)\n",
    "    \n",
    "    return pd.DataFrame(scaled_data, columns=data.columns, index=data.index)"
   ]
  },
  {
   "cell_type": "markdown",
   "id": "63a67b6f",
   "metadata": {},
   "source": [
    "# Filter feature with low variability"
   ]
  },
  {
   "cell_type": "code",
   "execution_count": 50,
   "id": "b9283972",
   "metadata": {},
   "outputs": [],
   "source": [
    "def filter_features_with_low_variability(data, alfa) -> pd.DataFrame:\n",
    "    #Delete columns with standard deviation < alfa (0.10?)\n",
    "    for column in data:\n",
    "        if data[column].std() < alfa:\n",
    "            #print(f'column: {column} has standard deviation < {alfa}, removed')\n",
    "            data.drop(column, axis=1, inplace=True)\n",
    "            \n",
    "    return data"
   ]
  },
  {
   "cell_type": "markdown",
   "id": "ee781ecd",
   "metadata": {},
   "source": [
    "# Normalize and filter datasets"
   ]
  },
  {
   "cell_type": "code",
   "execution_count": 51,
   "id": "d8c02d33",
   "metadata": {},
   "outputs": [],
   "source": [
    "dataset_dict = {'cnv': cnv, 'mirna': mirna, 'mrna': mrna, 'proteins': proteins}"
   ]
  },
  {
   "cell_type": "code",
   "execution_count": 52,
   "id": "abb6a098",
   "metadata": {},
   "outputs": [],
   "source": [
    "def create_data_normalized_filtered(data_dict, scaler, min_variance):\n",
    "    dict_filtered_nornalize = {}\n",
    "    for (key, value) in zip(data_dict, data_dict.values()):\n",
    "        if key != 'cnv':\n",
    "            dict_filtered_nornalize[key] = filter_features_with_low_variability(dataNormalization(MinMaxScaler, value), 0.05)\n",
    "        else:\n",
    "            dict_filtered_nornalize[key] = value\n",
    "    return dict_filtered_nornalize"
   ]
  },
  {
   "cell_type": "markdown",
   "id": "264ea015",
   "metadata": {},
   "source": [
    "# Store and retrieve data normalize and filtered"
   ]
  },
  {
   "cell_type": "code",
   "execution_count": 53,
   "id": "efc59a15",
   "metadata": {},
   "outputs": [],
   "source": [
    "def mkdir_p(path):\n",
    "    try:\n",
    "        os.makedirs(path)\n",
    "    except OSError as exc: # Python >2.5\n",
    "        if exc.errno == errno.EEXIST and os.path.isdir(path):\n",
    "            pass\n",
    "        else: raise"
   ]
  },
  {
   "cell_type": "code",
   "execution_count": 54,
   "id": "f022dbd7",
   "metadata": {},
   "outputs": [],
   "source": [
    "def store_filtered_normalize_data(dataset_dict):\n",
    "    mkdir_p('filtered_normalize_data')\n",
    "    filtered_normalize_data = create_data_normalized_filtered(dataset_dict, MinMaxScaler, 0.05)\n",
    "    for data in dataset_dict:\n",
    "        filtered_normalize_data[data].to_json('filtered_normalize_data/'+data+'.json')"
   ]
  },
  {
   "cell_type": "code",
   "execution_count": 55,
   "id": "d00ffe79",
   "metadata": {},
   "outputs": [],
   "source": [
    "def load_filtered_normalize_data(dataset_dict):\n",
    "    dict_test = {}\n",
    "    if os.path.exists('filtered_normalize_data'):\n",
    "        for data in dataset_dict:\n",
    "            with open('filtered_normalize_data/'+data+'.json', 'r') as fp:\n",
    "                dataset = pd.read_json(fp)\n",
    "                dict_test[data] = dataset\n",
    "        return dict_test\n",
    "    else:\n",
    "        store_filtered_normalize_data(dataset_dict)\n",
    "        load_filtered_normalize_data(dataset_dict)"
   ]
  },
  {
   "cell_type": "code",
   "execution_count": 56,
   "id": "f27c57ad",
   "metadata": {},
   "outputs": [],
   "source": [
    "dataset_dict = {'cnv': cnv, 'mirna': mirna, 'mrna': mrna, 'proteins': proteins}\n",
    "\n",
    "datasets = load_filtered_normalize_data(dataset_dict)"
   ]
  },
  {
   "cell_type": "code",
   "execution_count": 57,
   "id": "5d9d73a6",
   "metadata": {},
   "outputs": [
    {
     "name": "stdout",
     "output_type": "stream",
     "text": [
      "DATI CARICATI CON SUCCESSO\n"
     ]
    }
   ],
   "source": [
    "print('DATI CARICATI CON SUCCESSO')"
   ]
  },
  {
   "cell_type": "code",
   "execution_count": 58,
   "id": "030674d0",
   "metadata": {},
   "outputs": [],
   "source": [
    "datasets = load_filtered_normalize_data(dataset_dict)"
   ]
  },
  {
   "cell_type": "markdown",
   "id": "1f92d4e0",
   "metadata": {},
   "source": [
    "# Create concatenation of all dataset"
   ]
  },
  {
   "cell_type": "code",
   "execution_count": 59,
   "id": "e1ea4ff8",
   "metadata": {},
   "outputs": [],
   "source": [
    "whole_dataset = pd.concat([datasets['cnv'], datasets['proteins'], datasets['mrna'], datasets['mirna']], axis=1)"
   ]
  },
  {
   "cell_type": "code",
   "execution_count": 60,
   "id": "7dec6ffe",
   "metadata": {},
   "outputs": [],
   "source": [
    "datasets['whole_dataset'] = whole_dataset"
   ]
  },
  {
   "cell_type": "markdown",
   "id": "fbd92341",
   "metadata": {},
   "source": [
    "# Create concatenation of dataset: proteins+mirna, proteins+mirna+mrna"
   ]
  },
  {
   "cell_type": "code",
   "execution_count": 61,
   "id": "ddb662e6",
   "metadata": {},
   "outputs": [],
   "source": [
    "proteins_mirna_dataset = pd.concat([datasets['proteins'], datasets['mirna']], axis=1)\n",
    "datasets['proteins_mirna_dataset'] = proteins_mirna_dataset"
   ]
  },
  {
   "cell_type": "code",
   "execution_count": 62,
   "id": "34e9377c",
   "metadata": {},
   "outputs": [],
   "source": [
    "proteins_mirna_mrna_dataset = pd.concat([datasets['proteins'], datasets['mirna'], datasets['mrna']], axis=1)\n",
    "datasets['proteins_mirna_mrna_dataset'] = proteins_mirna_mrna_dataset"
   ]
  },
  {
   "cell_type": "markdown",
   "id": "b9768024",
   "metadata": {},
   "source": [
    "# Remove correlated feature using R code"
   ]
  },
  {
   "cell_type": "code",
   "execution_count": 63,
   "id": "ef88e05d",
   "metadata": {},
   "outputs": [
    {
     "name": "stderr",
     "output_type": "stream",
     "text": [
      "R[write to console]: Installazione pacchetto in ‘/usr/local/lib/R/site-library’\n",
      "(perché ‘lib’ non è specificato)\n",
      "\n",
      "R[write to console]: apertura URL 'https://cloud.r-project.org/src/contrib/caret_6.0-93.tar.gz'\n",
      "\n",
      "R[write to console]: Content type 'application/x-gzip'\n",
      "R[write to console]:  length 2273775 bytes (2.2 MB)\n",
      "\n",
      "R[write to console]: =\n",
      "R[write to console]: =\n",
      "R[write to console]: =\n",
      "R[write to console]: =\n",
      "R[write to console]: =\n",
      "R[write to console]: =\n",
      "R[write to console]: =\n",
      "R[write to console]: =\n",
      "R[write to console]: =\n",
      "R[write to console]: =\n",
      "R[write to console]: =\n",
      "R[write to console]: =\n",
      "R[write to console]: =\n",
      "R[write to console]: =\n",
      "R[write to console]: =\n",
      "R[write to console]: =\n",
      "R[write to console]: =\n",
      "R[write to console]: =\n",
      "R[write to console]: =\n",
      "R[write to console]: =\n",
      "R[write to console]: =\n",
      "R[write to console]: =\n",
      "R[write to console]: =\n",
      "R[write to console]: =\n",
      "R[write to console]: =\n",
      "R[write to console]: =\n",
      "R[write to console]: =\n",
      "R[write to console]: =\n",
      "R[write to console]: =\n",
      "R[write to console]: =\n",
      "R[write to console]: =\n",
      "R[write to console]: =\n",
      "R[write to console]: =\n",
      "R[write to console]: =\n",
      "R[write to console]: =\n",
      "R[write to console]: =\n",
      "R[write to console]: =\n",
      "R[write to console]: =\n",
      "R[write to console]: =\n",
      "R[write to console]: =\n",
      "R[write to console]: =\n",
      "R[write to console]: =\n",
      "R[write to console]: =\n",
      "R[write to console]: =\n",
      "R[write to console]: =\n",
      "R[write to console]: =\n",
      "R[write to console]: =\n",
      "R[write to console]: =\n",
      "R[write to console]: =\n",
      "R[write to console]: =\n",
      "R[write to console]: \n",
      "\n",
      "R[write to console]: downloaded 2.2 MB\n",
      "\n",
      "\n",
      "* installing *source* package ‘caret’ ...\n",
      "** pacchetto ‘caret’ aperto con successo con controllo somme MD5\n",
      "** using staged installation\n",
      "** libs\n",
      "installing to /usr/local/lib/R/site-library/00LOCK-caret/00new/caret/libs\n",
      "** R\n",
      "** data\n",
      "** inst\n",
      "** byte-compile and prepare package for lazy loading\n"
     ]
    },
    {
     "name": "stdout",
     "output_type": "stream",
     "text": [
      "gcc -I\"/usr/share/R/include\" -DNDEBUG      -fpic  -g -O2 -ffile-prefix-map=/build/r-base-Faorqz/r-base-4.2.2.20221110=. -fstack-protector-strong -Wformat -Werror=format-security -Wdate-time -D_FORTIFY_SOURCE=2  -c caret.c -o caret.o\n",
      "gcc -shared -L/usr/lib/R/lib -Wl,-Bsymbolic-functions -flto=auto -ffat-lto-objects -flto=auto -Wl,-z,relro -o caret.so caret.o -L/usr/lib/R/lib -lR\n"
     ]
    },
    {
     "name": "stderr",
     "output_type": "stream",
     "text": [
      "** help\n",
      "*** installing help indices\n",
      "** building package indices\n",
      "** installing vignettes\n",
      "** testing if installed package can be loaded from temporary location\n",
      "** checking absolute paths in shared objects and dynamic libraries\n",
      "** testing if installed package can be loaded from final location\n",
      "** testing if installed package keeps a record of temporary installation path\n",
      "* DONE (caret)\n",
      "R[write to console]: \n",
      "\n",
      "R[write to console]: \n",
      "R[write to console]: I pacchetti scaricati con il codice sorgente sono in\n",
      "\t‘/tmp/RtmpXdSjJ0/downloaded_packages’\n",
      "R[write to console]: \n",
      "R[write to console]: \n",
      "\n"
     ]
    },
    {
     "data": {
      "text/plain": [
       "<rpy2.rinterface.NULLType object at 0x7fc4b083b900> [RTYPES.NILSXP]"
      ]
     },
     "execution_count": 63,
     "metadata": {},
     "output_type": "execute_result"
    }
   ],
   "source": [
    "robjects.r(\"\"\"\n",
    "install.packages('caret')\n",
    "\"\"\")"
   ]
  },
  {
   "cell_type": "code",
   "execution_count": 64,
   "id": "dca9c720",
   "metadata": {},
   "outputs": [
    {
     "data": {
      "text/html": [
       "\n",
       "        <span>StrVector with 12 elements.</span>\n",
       "        <table>\n",
       "        <tbody>\n",
       "          <tr>\n",
       "          \n",
       "            <td>\n",
       "            'doParall...\n",
       "            </td>\n",
       "          \n",
       "            <td>\n",
       "            'parallel'\n",
       "            </td>\n",
       "          \n",
       "            <td>\n",
       "            'iterators'\n",
       "            </td>\n",
       "          \n",
       "            <td>\n",
       "            ...\n",
       "            </td>\n",
       "          \n",
       "            <td>\n",
       "            'datasets'\n",
       "            </td>\n",
       "          \n",
       "            <td>\n",
       "            'methods'\n",
       "            </td>\n",
       "          \n",
       "            <td>\n",
       "            'base'\n",
       "            </td>\n",
       "          \n",
       "          </tr>\n",
       "        </tbody>\n",
       "        </table>\n",
       "        "
      ],
      "text/plain": [
       "R object with classes: ('character',) mapped to:\n",
       "['doParall..., 'parallel', 'iterators', 'foreach', ..., 'utils', 'datasets', 'methods', 'base']"
      ]
     },
     "execution_count": 64,
     "metadata": {},
     "output_type": "execute_result"
    }
   ],
   "source": [
    "robjects.r(\"\"\"\n",
    "library(doParallel)\n",
    "\"\"\")"
   ]
  },
  {
   "cell_type": "code",
   "execution_count": 65,
   "id": "76ee205b",
   "metadata": {},
   "outputs": [
    {
     "data": {
      "text/plain": [
       "R object with classes: ('function',) mapped to:"
      ]
     },
     "execution_count": 65,
     "metadata": {},
     "output_type": "execute_result"
    }
   ],
   "source": [
    "robjects.r(\"\"\"\n",
    "remove_correlated_par <- function(df, dim_split = 1000, maxiter = 5, method = \"pearson\", cutoff = 0.8){\n",
    "  \n",
    "  #df has features on columns\n",
    "  X = t(df)\n",
    "  niter = 0\n",
    "  if (!is.finite(dim_split)) dim_split = nrow(X)\n",
    "  cat(\"dim(X) before starting remove correlation: \", dim(X), \"\\n\")\n",
    "  while(niter < maxiter ){\n",
    "    cat(\"niter = \", niter, '\\n')\n",
    "    filtered_X = NULL\n",
    "    \n",
    "    cl <- makeCluster(4)\n",
    "    registerDoParallel(cl)\n",
    "    \n",
    "    filtered_X = foreach(nR = seq(1, nrow(X), by=dim_split), \n",
    "                         .combine='rbind', .packages = c(\"caret\")) %dopar% {\n",
    "                           \n",
    "         subX = X[nR:min(nrow(X), (nR+dim_split-1)), ]\n",
    "         cc = cor(t(subX), use = \"pairwise.complete.obs\", method = \"kendall\")\n",
    "         \n",
    "         select_corr = caret::findCorrelation(cc, cutoff = cutoff, exact = FALSE)\n",
    "         #print(length(select_corr))\n",
    "         \n",
    "         if (length(select_corr)>0){ \n",
    "           subX = subX[-select_corr, ]\n",
    "         }\n",
    "         \n",
    "         return(subX)\n",
    "           \n",
    "     }\n",
    "    \n",
    "    stopCluster(cl)\n",
    "    \n",
    "    print(names(filtered_X))\n",
    "    #    if (length(unique(filtered_X[,1]))>1) cat('PROBLEMA!')\n",
    "    no_removed = nrow(X)-nrow(filtered_X)\n",
    "    cat('Removed = ', no_removed, '\\n')\n",
    "    cat('dim filetered_X =', dim(filtered_X), '\\n')\n",
    "\n",
    "    X = filtered_X[sample(nrow(filtered_X)), ]\n",
    "    \n",
    "    niter = niter + 1\n",
    "    cat(\"nrow(X) =\", dim(X), '\\n')\n",
    "    if (no_removed ==0) break;\n",
    "  }\n",
    "  cat('final dimension = ', dim(t(X)), '\\n')\n",
    "  \n",
    "  \n",
    "  return(t(X))\n",
    "    }\n",
    "    \"\"\")"
   ]
  },
  {
   "cell_type": "code",
   "execution_count": 66,
   "id": "3f4b6270",
   "metadata": {},
   "outputs": [],
   "source": [
    "with localconverter(robjects.default_converter + pandas2ri.converter):\n",
    "    r_proteins = robjects.conversion.py2rpy(datasets['proteins'])"
   ]
  },
  {
   "cell_type": "code",
   "execution_count": 25,
   "id": "34aa40c0",
   "metadata": {},
   "outputs": [],
   "source": [
    "with localconverter(robjects.default_converter + pandas2ri.converter):\n",
    "    r_miRNA = robjects.conversion.py2rpy(datasets['mirna'])"
   ]
  },
  {
   "cell_type": "code",
   "execution_count": 26,
   "id": "cdcf446a",
   "metadata": {},
   "outputs": [],
   "source": [
    "with localconverter(robjects.default_converter + pandas2ri.converter):\n",
    "    r_mRNA = robjects.conversion.py2rpy(datasets['mrna'])"
   ]
  },
  {
   "cell_type": "code",
   "execution_count": 27,
   "id": "87667643",
   "metadata": {},
   "outputs": [],
   "source": [
    "with localconverter(robjects.default_converter + pandas2ri.converter):\n",
    "    r_cnv = robjects.conversion.py2rpy(datasets['cnv'])"
   ]
  },
  {
   "cell_type": "code",
   "execution_count": 28,
   "id": "70a18910",
   "metadata": {},
   "outputs": [],
   "source": [
    "with localconverter(robjects.default_converter + pandas2ri.converter):\n",
    "    r_whole_dataset = robjects.conversion.py2rpy(datasets['whole_dataset'])"
   ]
  },
  {
   "cell_type": "code",
   "execution_count": 29,
   "id": "f3576c4c",
   "metadata": {},
   "outputs": [],
   "source": [
    "with localconverter(robjects.default_converter + pandas2ri.converter):\n",
    "    r_proteins_mirna_dataset = robjects.conversion.py2rpy(datasets['proteins_mirna_dataset'])"
   ]
  },
  {
   "cell_type": "code",
   "execution_count": 30,
   "id": "227ab528",
   "metadata": {},
   "outputs": [],
   "source": [
    "with localconverter(robjects.default_converter + pandas2ri.converter):\n",
    "    r_proteins_mirna_mrna_dataset = robjects.conversion.py2rpy(datasets['proteins_mirna_mrna_dataset'])"
   ]
  },
  {
   "cell_type": "markdown",
   "id": "832206e7",
   "metadata": {},
   "source": [
    "# Store data in local"
   ]
  },
  {
   "cell_type": "code",
   "execution_count": 67,
   "id": "79f077d7",
   "metadata": {},
   "outputs": [],
   "source": [
    "def compute_and_save_result(data, path):\n",
    "    data_removed = robjects.globalenv[\"remove_correlated_par\"](data)\n",
    "    df = pd.DataFrame(data=np.array(data_removed), columns=data_removed.colnames)\n",
    "    df.to_json(path)\n",
    "    \n",
    "def restore_result(file_name):\n",
    "    return pd.read_json(f'elaborated_data_with_r_function/{file_name}.json')\n",
    "\n",
    "def load_or_store_removed_correlated(data, file_name):\n",
    "    if os.path.exists(f'elaborated_data_with_r_function/{file_name}.json'):\n",
    "        return restore_result(file_name)\n",
    "    else:\n",
    "        compute_and_save_result(data, f'elaborated_data_with_r_function/{file_name}.json')\n",
    "        return restore_result(file_name)"
   ]
  },
  {
   "cell_type": "code",
   "execution_count": 68,
   "id": "7ace0e61",
   "metadata": {},
   "outputs": [],
   "source": [
    "df_proteins_removed = load_or_store_removed_correlated(r_proteins, 'r_proteins_removed')"
   ]
  },
  {
   "cell_type": "code",
   "execution_count": 33,
   "id": "9aa091f9",
   "metadata": {},
   "outputs": [],
   "source": [
    "df_mirna_removed = load_or_store_removed_correlated(r_miRNA, 'r_mirna_removed')"
   ]
  },
  {
   "cell_type": "code",
   "execution_count": 34,
   "id": "7e1b5f7e",
   "metadata": {},
   "outputs": [],
   "source": [
    "df_mrna_removed = load_or_store_removed_correlated(r_mRNA, 'r_mrna_removed')"
   ]
  },
  {
   "cell_type": "code",
   "execution_count": 35,
   "id": "1fbd10a5",
   "metadata": {},
   "outputs": [],
   "source": [
    "df_cnv_removed = load_or_store_removed_correlated(r_cnv, 'r_cnv_removed')"
   ]
  },
  {
   "cell_type": "code",
   "execution_count": 36,
   "id": "ceb2c9a3",
   "metadata": {},
   "outputs": [],
   "source": [
    "df_dataset_whole_dataset_removed = load_or_store_removed_correlated(r_whole_dataset, 'r_dataset_whole_dataset_removed')"
   ]
  },
  {
   "cell_type": "code",
   "execution_count": 37,
   "id": "e4cead59",
   "metadata": {},
   "outputs": [
    {
     "name": "stdout",
     "output_type": "stream",
     "text": [
      "dim(X) before starting remove correlation:  989 627 \n",
      "niter =  0 \n",
      "NULL\n",
      "Removed =  12 \n",
      "dim filetered_X = 977 627 \n",
      "nrow(X) = 977 627 \n",
      "niter =  1 \n",
      "NULL\n",
      "Removed =  0 \n",
      "dim filetered_X = 977 627 \n",
      "nrow(X) = 977 627 \n",
      "final dimension =  627 977 \n"
     ]
    }
   ],
   "source": [
    "df_dataset_proteins_mirna_removed = load_or_store_removed_correlated(r_proteins_mirna_dataset, 'r_dataset_proteins_mirna_removed')"
   ]
  },
  {
   "cell_type": "code",
   "execution_count": 38,
   "id": "2253ca1b",
   "metadata": {},
   "outputs": [
    {
     "data": {
      "text/html": [
       "<div>\n",
       "<style scoped>\n",
       "    .dataframe tbody tr th:only-of-type {\n",
       "        vertical-align: middle;\n",
       "    }\n",
       "\n",
       "    .dataframe tbody tr th {\n",
       "        vertical-align: top;\n",
       "    }\n",
       "\n",
       "    .dataframe thead th {\n",
       "        text-align: right;\n",
       "    }\n",
       "</style>\n",
       "<table border=\"1\" class=\"dataframe\">\n",
       "  <thead>\n",
       "    <tr style=\"text-align: right;\">\n",
       "      <th></th>\n",
       "      <th>hsa.mir.326</th>\n",
       "      <th>hsa.mir.505</th>\n",
       "      <th>hsa.mir.3116.1</th>\n",
       "      <th>SHP.2_pY542</th>\n",
       "      <th>hsa.mir.708</th>\n",
       "      <th>hsa.mir.181d</th>\n",
       "      <th>hsa.mir.638</th>\n",
       "      <th>hsa.mir.3133</th>\n",
       "      <th>hsa.mir.105.1</th>\n",
       "      <th>Fibronectin</th>\n",
       "      <th>...</th>\n",
       "      <th>hsa.mir.181b.2</th>\n",
       "      <th>mTOR_pS2448</th>\n",
       "      <th>AMPK_pT172</th>\n",
       "      <th>hsa.mir.1291</th>\n",
       "      <th>hsa.mir.549</th>\n",
       "      <th>hsa.mir.3929</th>\n",
       "      <th>hsa.mir.2115</th>\n",
       "      <th>hsa.mir.1245</th>\n",
       "      <th>hsa.mir.3676</th>\n",
       "      <th>hsa.mir.3928</th>\n",
       "    </tr>\n",
       "  </thead>\n",
       "  <tbody>\n",
       "    <tr>\n",
       "      <th>0</th>\n",
       "      <td>0.015493</td>\n",
       "      <td>0.072874</td>\n",
       "      <td>0.0</td>\n",
       "      <td>0.202014</td>\n",
       "      <td>0.154311</td>\n",
       "      <td>0.029491</td>\n",
       "      <td>0</td>\n",
       "      <td>0.0</td>\n",
       "      <td>0.043026</td>\n",
       "      <td>0.782654</td>\n",
       "      <td>...</td>\n",
       "      <td>0.090909</td>\n",
       "      <td>0.532247</td>\n",
       "      <td>0.609486</td>\n",
       "      <td>0.057143</td>\n",
       "      <td>0.090909</td>\n",
       "      <td>0.0</td>\n",
       "      <td>0.183879</td>\n",
       "      <td>0.072</td>\n",
       "      <td>0.005988</td>\n",
       "      <td>0.070707</td>\n",
       "    </tr>\n",
       "    <tr>\n",
       "      <th>1</th>\n",
       "      <td>0.015493</td>\n",
       "      <td>0.065587</td>\n",
       "      <td>0.0</td>\n",
       "      <td>0.200541</td>\n",
       "      <td>0.102927</td>\n",
       "      <td>0.036640</td>\n",
       "      <td>0</td>\n",
       "      <td>0.0</td>\n",
       "      <td>0.000000</td>\n",
       "      <td>0.493293</td>\n",
       "      <td>...</td>\n",
       "      <td>0.026608</td>\n",
       "      <td>0.540128</td>\n",
       "      <td>0.797494</td>\n",
       "      <td>0.057143</td>\n",
       "      <td>0.363636</td>\n",
       "      <td>0.0</td>\n",
       "      <td>0.032746</td>\n",
       "      <td>0.112</td>\n",
       "      <td>0.009980</td>\n",
       "      <td>0.020202</td>\n",
       "    </tr>\n",
       "    <tr>\n",
       "      <th>2</th>\n",
       "      <td>0.011268</td>\n",
       "      <td>0.054251</td>\n",
       "      <td>0.0</td>\n",
       "      <td>0.243913</td>\n",
       "      <td>0.189628</td>\n",
       "      <td>0.084540</td>\n",
       "      <td>0</td>\n",
       "      <td>0.0</td>\n",
       "      <td>0.000236</td>\n",
       "      <td>0.746711</td>\n",
       "      <td>...</td>\n",
       "      <td>0.023282</td>\n",
       "      <td>0.570756</td>\n",
       "      <td>0.540565</td>\n",
       "      <td>0.114286</td>\n",
       "      <td>0.000000</td>\n",
       "      <td>0.0</td>\n",
       "      <td>0.000000</td>\n",
       "      <td>0.200</td>\n",
       "      <td>0.043912</td>\n",
       "      <td>0.090909</td>\n",
       "    </tr>\n",
       "    <tr>\n",
       "      <th>3</th>\n",
       "      <td>0.022535</td>\n",
       "      <td>0.105263</td>\n",
       "      <td>0.0</td>\n",
       "      <td>0.255635</td>\n",
       "      <td>0.210150</td>\n",
       "      <td>0.018409</td>\n",
       "      <td>0</td>\n",
       "      <td>0.5</td>\n",
       "      <td>0.000236</td>\n",
       "      <td>0.423429</td>\n",
       "      <td>...</td>\n",
       "      <td>0.035477</td>\n",
       "      <td>0.618668</td>\n",
       "      <td>0.715885</td>\n",
       "      <td>0.142857</td>\n",
       "      <td>0.000000</td>\n",
       "      <td>0.0</td>\n",
       "      <td>0.017632</td>\n",
       "      <td>0.208</td>\n",
       "      <td>0.013972</td>\n",
       "      <td>0.070707</td>\n",
       "    </tr>\n",
       "    <tr>\n",
       "      <th>4</th>\n",
       "      <td>0.132394</td>\n",
       "      <td>0.044534</td>\n",
       "      <td>0.0</td>\n",
       "      <td>0.152205</td>\n",
       "      <td>0.062997</td>\n",
       "      <td>0.029312</td>\n",
       "      <td>0</td>\n",
       "      <td>0.5</td>\n",
       "      <td>0.000473</td>\n",
       "      <td>0.297057</td>\n",
       "      <td>...</td>\n",
       "      <td>0.060976</td>\n",
       "      <td>0.619638</td>\n",
       "      <td>0.417004</td>\n",
       "      <td>0.000000</td>\n",
       "      <td>0.000000</td>\n",
       "      <td>0.0</td>\n",
       "      <td>0.000000</td>\n",
       "      <td>0.000</td>\n",
       "      <td>0.065868</td>\n",
       "      <td>0.030303</td>\n",
       "    </tr>\n",
       "    <tr>\n",
       "      <th>...</th>\n",
       "      <td>...</td>\n",
       "      <td>...</td>\n",
       "      <td>...</td>\n",
       "      <td>...</td>\n",
       "      <td>...</td>\n",
       "      <td>...</td>\n",
       "      <td>...</td>\n",
       "      <td>...</td>\n",
       "      <td>...</td>\n",
       "      <td>...</td>\n",
       "      <td>...</td>\n",
       "      <td>...</td>\n",
       "      <td>...</td>\n",
       "      <td>...</td>\n",
       "      <td>...</td>\n",
       "      <td>...</td>\n",
       "      <td>...</td>\n",
       "      <td>...</td>\n",
       "      <td>...</td>\n",
       "      <td>...</td>\n",
       "      <td>...</td>\n",
       "    </tr>\n",
       "    <tr>\n",
       "      <th>622</th>\n",
       "      <td>0.012676</td>\n",
       "      <td>0.051822</td>\n",
       "      <td>0.0</td>\n",
       "      <td>0.308738</td>\n",
       "      <td>0.040566</td>\n",
       "      <td>0.021269</td>\n",
       "      <td>0</td>\n",
       "      <td>0.0</td>\n",
       "      <td>0.000000</td>\n",
       "      <td>1.000000</td>\n",
       "      <td>...</td>\n",
       "      <td>0.005543</td>\n",
       "      <td>0.556632</td>\n",
       "      <td>0.248128</td>\n",
       "      <td>0.000000</td>\n",
       "      <td>0.000000</td>\n",
       "      <td>0.0</td>\n",
       "      <td>0.042821</td>\n",
       "      <td>0.168</td>\n",
       "      <td>0.005988</td>\n",
       "      <td>0.020202</td>\n",
       "    </tr>\n",
       "    <tr>\n",
       "      <th>623</th>\n",
       "      <td>0.043662</td>\n",
       "      <td>0.133603</td>\n",
       "      <td>0.0</td>\n",
       "      <td>0.297456</td>\n",
       "      <td>0.178015</td>\n",
       "      <td>0.029491</td>\n",
       "      <td>0</td>\n",
       "      <td>0.0</td>\n",
       "      <td>0.004255</td>\n",
       "      <td>0.442900</td>\n",
       "      <td>...</td>\n",
       "      <td>0.150776</td>\n",
       "      <td>0.636403</td>\n",
       "      <td>0.535566</td>\n",
       "      <td>0.028571</td>\n",
       "      <td>0.090909</td>\n",
       "      <td>0.0</td>\n",
       "      <td>0.000000</td>\n",
       "      <td>0.144</td>\n",
       "      <td>0.000000</td>\n",
       "      <td>0.050505</td>\n",
       "    </tr>\n",
       "    <tr>\n",
       "      <th>624</th>\n",
       "      <td>0.084507</td>\n",
       "      <td>0.102024</td>\n",
       "      <td>0.0</td>\n",
       "      <td>0.326805</td>\n",
       "      <td>0.092905</td>\n",
       "      <td>0.050402</td>\n",
       "      <td>0</td>\n",
       "      <td>1.0</td>\n",
       "      <td>0.000473</td>\n",
       "      <td>0.386972</td>\n",
       "      <td>...</td>\n",
       "      <td>0.029933</td>\n",
       "      <td>0.616971</td>\n",
       "      <td>0.652278</td>\n",
       "      <td>0.000000</td>\n",
       "      <td>0.090909</td>\n",
       "      <td>0.0</td>\n",
       "      <td>0.032746</td>\n",
       "      <td>0.208</td>\n",
       "      <td>0.005988</td>\n",
       "      <td>0.101010</td>\n",
       "    </tr>\n",
       "    <tr>\n",
       "      <th>625</th>\n",
       "      <td>0.023944</td>\n",
       "      <td>0.159514</td>\n",
       "      <td>0.0</td>\n",
       "      <td>0.317352</td>\n",
       "      <td>0.179605</td>\n",
       "      <td>0.031457</td>\n",
       "      <td>0</td>\n",
       "      <td>0.0</td>\n",
       "      <td>0.000000</td>\n",
       "      <td>0.348027</td>\n",
       "      <td>...</td>\n",
       "      <td>0.042129</td>\n",
       "      <td>0.591668</td>\n",
       "      <td>0.832184</td>\n",
       "      <td>0.085714</td>\n",
       "      <td>0.090909</td>\n",
       "      <td>0.0</td>\n",
       "      <td>0.068010</td>\n",
       "      <td>0.104</td>\n",
       "      <td>0.027944</td>\n",
       "      <td>0.050505</td>\n",
       "    </tr>\n",
       "    <tr>\n",
       "      <th>626</th>\n",
       "      <td>0.030986</td>\n",
       "      <td>0.073684</td>\n",
       "      <td>0.0</td>\n",
       "      <td>0.324763</td>\n",
       "      <td>0.081133</td>\n",
       "      <td>0.021805</td>\n",
       "      <td>0</td>\n",
       "      <td>0.0</td>\n",
       "      <td>0.000000</td>\n",
       "      <td>0.476914</td>\n",
       "      <td>...</td>\n",
       "      <td>0.043237</td>\n",
       "      <td>0.663278</td>\n",
       "      <td>0.643869</td>\n",
       "      <td>0.000000</td>\n",
       "      <td>0.090909</td>\n",
       "      <td>0.0</td>\n",
       "      <td>0.010076</td>\n",
       "      <td>0.008</td>\n",
       "      <td>0.009980</td>\n",
       "      <td>0.111111</td>\n",
       "    </tr>\n",
       "  </tbody>\n",
       "</table>\n",
       "<p>627 rows × 977 columns</p>\n",
       "</div>"
      ],
      "text/plain": [
       "     hsa.mir.326  hsa.mir.505  hsa.mir.3116.1  SHP.2_pY542  hsa.mir.708  \\\n",
       "0       0.015493     0.072874             0.0     0.202014     0.154311   \n",
       "1       0.015493     0.065587             0.0     0.200541     0.102927   \n",
       "2       0.011268     0.054251             0.0     0.243913     0.189628   \n",
       "3       0.022535     0.105263             0.0     0.255635     0.210150   \n",
       "4       0.132394     0.044534             0.0     0.152205     0.062997   \n",
       "..           ...          ...             ...          ...          ...   \n",
       "622     0.012676     0.051822             0.0     0.308738     0.040566   \n",
       "623     0.043662     0.133603             0.0     0.297456     0.178015   \n",
       "624     0.084507     0.102024             0.0     0.326805     0.092905   \n",
       "625     0.023944     0.159514             0.0     0.317352     0.179605   \n",
       "626     0.030986     0.073684             0.0     0.324763     0.081133   \n",
       "\n",
       "     hsa.mir.181d  hsa.mir.638  hsa.mir.3133  hsa.mir.105.1  Fibronectin  ...  \\\n",
       "0        0.029491            0           0.0       0.043026     0.782654  ...   \n",
       "1        0.036640            0           0.0       0.000000     0.493293  ...   \n",
       "2        0.084540            0           0.0       0.000236     0.746711  ...   \n",
       "3        0.018409            0           0.5       0.000236     0.423429  ...   \n",
       "4        0.029312            0           0.5       0.000473     0.297057  ...   \n",
       "..            ...          ...           ...            ...          ...  ...   \n",
       "622      0.021269            0           0.0       0.000000     1.000000  ...   \n",
       "623      0.029491            0           0.0       0.004255     0.442900  ...   \n",
       "624      0.050402            0           1.0       0.000473     0.386972  ...   \n",
       "625      0.031457            0           0.0       0.000000     0.348027  ...   \n",
       "626      0.021805            0           0.0       0.000000     0.476914  ...   \n",
       "\n",
       "     hsa.mir.181b.2  mTOR_pS2448  AMPK_pT172  hsa.mir.1291  hsa.mir.549  \\\n",
       "0          0.090909     0.532247    0.609486      0.057143     0.090909   \n",
       "1          0.026608     0.540128    0.797494      0.057143     0.363636   \n",
       "2          0.023282     0.570756    0.540565      0.114286     0.000000   \n",
       "3          0.035477     0.618668    0.715885      0.142857     0.000000   \n",
       "4          0.060976     0.619638    0.417004      0.000000     0.000000   \n",
       "..              ...          ...         ...           ...          ...   \n",
       "622        0.005543     0.556632    0.248128      0.000000     0.000000   \n",
       "623        0.150776     0.636403    0.535566      0.028571     0.090909   \n",
       "624        0.029933     0.616971    0.652278      0.000000     0.090909   \n",
       "625        0.042129     0.591668    0.832184      0.085714     0.090909   \n",
       "626        0.043237     0.663278    0.643869      0.000000     0.090909   \n",
       "\n",
       "     hsa.mir.3929  hsa.mir.2115  hsa.mir.1245  hsa.mir.3676  hsa.mir.3928  \n",
       "0             0.0      0.183879         0.072      0.005988      0.070707  \n",
       "1             0.0      0.032746         0.112      0.009980      0.020202  \n",
       "2             0.0      0.000000         0.200      0.043912      0.090909  \n",
       "3             0.0      0.017632         0.208      0.013972      0.070707  \n",
       "4             0.0      0.000000         0.000      0.065868      0.030303  \n",
       "..            ...           ...           ...           ...           ...  \n",
       "622           0.0      0.042821         0.168      0.005988      0.020202  \n",
       "623           0.0      0.000000         0.144      0.000000      0.050505  \n",
       "624           0.0      0.032746         0.208      0.005988      0.101010  \n",
       "625           0.0      0.068010         0.104      0.027944      0.050505  \n",
       "626           0.0      0.010076         0.008      0.009980      0.111111  \n",
       "\n",
       "[627 rows x 977 columns]"
      ]
     },
     "execution_count": 38,
     "metadata": {},
     "output_type": "execute_result"
    }
   ],
   "source": [
    "df_dataset_proteins_mirna_removed"
   ]
  },
  {
   "cell_type": "code",
   "execution_count": 39,
   "id": "d5d89178",
   "metadata": {},
   "outputs": [
    {
     "name": "stdout",
     "output_type": "stream",
     "text": [
      "dim(X) before starting remove correlation:  19413 627 \n",
      "niter =  0 \n"
     ]
    },
    {
     "name": "stderr",
     "output_type": "stream",
     "text": [
      "R[write to console]: \n",
      "\n"
     ]
    },
    {
     "ename": "RRuntimeError",
     "evalue": "StopIteration",
     "output_type": "error",
     "traceback": [
      "\u001b[0;31m---------------------------------------------------------------------------\u001b[0m",
      "\u001b[0;31mRRuntimeError\u001b[0m                             Traceback (most recent call last)",
      "\u001b[0;32m/tmp/ipykernel_1669613/857348574.py\u001b[0m in \u001b[0;36m<module>\u001b[0;34m\u001b[0m\n\u001b[0;32m----> 1\u001b[0;31m \u001b[0mdf_dataset_proteins_mirna_mrna_removed\u001b[0m \u001b[0;34m=\u001b[0m \u001b[0mload_or_store_removed_correlated\u001b[0m\u001b[0;34m(\u001b[0m\u001b[0mr_proteins_mirna_mrna_dataset\u001b[0m\u001b[0;34m,\u001b[0m \u001b[0;34m'r_dataset_proteins_mirna_mrna_removed'\u001b[0m\u001b[0;34m)\u001b[0m\u001b[0;34m\u001b[0m\u001b[0;34m\u001b[0m\u001b[0m\n\u001b[0m",
      "\u001b[0;32m/tmp/ipykernel_1669613/4182514352.py\u001b[0m in \u001b[0;36mload_or_store_removed_correlated\u001b[0;34m(data, file_name)\u001b[0m\n\u001b[1;32m     11\u001b[0m         \u001b[0;32mreturn\u001b[0m \u001b[0mrestore_result\u001b[0m\u001b[0;34m(\u001b[0m\u001b[0mfile_name\u001b[0m\u001b[0;34m)\u001b[0m\u001b[0;34m\u001b[0m\u001b[0;34m\u001b[0m\u001b[0m\n\u001b[1;32m     12\u001b[0m     \u001b[0;32melse\u001b[0m\u001b[0;34m:\u001b[0m\u001b[0;34m\u001b[0m\u001b[0;34m\u001b[0m\u001b[0m\n\u001b[0;32m---> 13\u001b[0;31m         \u001b[0mcompute_and_save_result\u001b[0m\u001b[0;34m(\u001b[0m\u001b[0mdata\u001b[0m\u001b[0;34m,\u001b[0m \u001b[0;34mf'elaborated_data_with_r_function/{file_name}.json'\u001b[0m\u001b[0;34m)\u001b[0m\u001b[0;34m\u001b[0m\u001b[0;34m\u001b[0m\u001b[0m\n\u001b[0m\u001b[1;32m     14\u001b[0m         \u001b[0;32mreturn\u001b[0m \u001b[0mrestore_result\u001b[0m\u001b[0;34m(\u001b[0m\u001b[0mfile_name\u001b[0m\u001b[0;34m)\u001b[0m\u001b[0;34m\u001b[0m\u001b[0;34m\u001b[0m\u001b[0m\n",
      "\u001b[0;32m/tmp/ipykernel_1669613/4182514352.py\u001b[0m in \u001b[0;36mcompute_and_save_result\u001b[0;34m(data, path)\u001b[0m\n\u001b[1;32m      1\u001b[0m \u001b[0;32mdef\u001b[0m \u001b[0mcompute_and_save_result\u001b[0m\u001b[0;34m(\u001b[0m\u001b[0mdata\u001b[0m\u001b[0;34m,\u001b[0m \u001b[0mpath\u001b[0m\u001b[0;34m)\u001b[0m\u001b[0;34m:\u001b[0m\u001b[0;34m\u001b[0m\u001b[0;34m\u001b[0m\u001b[0m\n\u001b[0;32m----> 2\u001b[0;31m     \u001b[0mdata_removed\u001b[0m \u001b[0;34m=\u001b[0m \u001b[0mrobjects\u001b[0m\u001b[0;34m.\u001b[0m\u001b[0mglobalenv\u001b[0m\u001b[0;34m[\u001b[0m\u001b[0;34m\"remove_correlated_par\"\u001b[0m\u001b[0;34m]\u001b[0m\u001b[0;34m(\u001b[0m\u001b[0mdata\u001b[0m\u001b[0;34m)\u001b[0m\u001b[0;34m\u001b[0m\u001b[0;34m\u001b[0m\u001b[0m\n\u001b[0m\u001b[1;32m      3\u001b[0m     \u001b[0mdf\u001b[0m \u001b[0;34m=\u001b[0m \u001b[0mpd\u001b[0m\u001b[0;34m.\u001b[0m\u001b[0mDataFrame\u001b[0m\u001b[0;34m(\u001b[0m\u001b[0mdata\u001b[0m\u001b[0;34m=\u001b[0m\u001b[0mnp\u001b[0m\u001b[0;34m.\u001b[0m\u001b[0marray\u001b[0m\u001b[0;34m(\u001b[0m\u001b[0mdata_removed\u001b[0m\u001b[0;34m)\u001b[0m\u001b[0;34m,\u001b[0m \u001b[0mcolumns\u001b[0m\u001b[0;34m=\u001b[0m\u001b[0mdata_removed\u001b[0m\u001b[0;34m.\u001b[0m\u001b[0mcolnames\u001b[0m\u001b[0;34m)\u001b[0m\u001b[0;34m\u001b[0m\u001b[0;34m\u001b[0m\u001b[0m\n\u001b[1;32m      4\u001b[0m     \u001b[0mdf\u001b[0m\u001b[0;34m.\u001b[0m\u001b[0mto_json\u001b[0m\u001b[0;34m(\u001b[0m\u001b[0mpath\u001b[0m\u001b[0;34m)\u001b[0m\u001b[0;34m\u001b[0m\u001b[0;34m\u001b[0m\u001b[0m\n\u001b[1;32m      5\u001b[0m \u001b[0;34m\u001b[0m\u001b[0m\n",
      "\u001b[0;32m~/.local/lib/python3.10/site-packages/rpy2/robjects/functions.py\u001b[0m in \u001b[0;36m__call__\u001b[0;34m(self, *args, **kwargs)\u001b[0m\n\u001b[1;32m    189\u001b[0m                 \u001b[0mv\u001b[0m \u001b[0;34m=\u001b[0m \u001b[0mkwargs\u001b[0m\u001b[0;34m.\u001b[0m\u001b[0mpop\u001b[0m\u001b[0;34m(\u001b[0m\u001b[0mk\u001b[0m\u001b[0;34m)\u001b[0m\u001b[0;34m\u001b[0m\u001b[0;34m\u001b[0m\u001b[0m\n\u001b[1;32m    190\u001b[0m                 \u001b[0mkwargs\u001b[0m\u001b[0;34m[\u001b[0m\u001b[0mr_k\u001b[0m\u001b[0;34m]\u001b[0m \u001b[0;34m=\u001b[0m \u001b[0mv\u001b[0m\u001b[0;34m\u001b[0m\u001b[0;34m\u001b[0m\u001b[0m\n\u001b[0;32m--> 191\u001b[0;31m         return (super(SignatureTranslatedFunction, self)\n\u001b[0m\u001b[1;32m    192\u001b[0m                 .__call__(*args, **kwargs))\n\u001b[1;32m    193\u001b[0m \u001b[0;34m\u001b[0m\u001b[0m\n",
      "\u001b[0;32m~/.local/lib/python3.10/site-packages/rpy2/robjects/functions.py\u001b[0m in \u001b[0;36m__call__\u001b[0;34m(self, *args, **kwargs)\u001b[0m\n\u001b[1;32m    119\u001b[0m             \u001b[0;32melse\u001b[0m\u001b[0;34m:\u001b[0m\u001b[0;34m\u001b[0m\u001b[0;34m\u001b[0m\u001b[0m\n\u001b[1;32m    120\u001b[0m                 \u001b[0mnew_kwargs\u001b[0m\u001b[0;34m[\u001b[0m\u001b[0mk\u001b[0m\u001b[0;34m]\u001b[0m \u001b[0;34m=\u001b[0m \u001b[0mconversion\u001b[0m\u001b[0;34m.\u001b[0m\u001b[0mpy2rpy\u001b[0m\u001b[0;34m(\u001b[0m\u001b[0mv\u001b[0m\u001b[0;34m)\u001b[0m\u001b[0;34m\u001b[0m\u001b[0;34m\u001b[0m\u001b[0m\n\u001b[0;32m--> 121\u001b[0;31m         \u001b[0mres\u001b[0m \u001b[0;34m=\u001b[0m \u001b[0msuper\u001b[0m\u001b[0;34m(\u001b[0m\u001b[0mFunction\u001b[0m\u001b[0;34m,\u001b[0m \u001b[0mself\u001b[0m\u001b[0;34m)\u001b[0m\u001b[0;34m.\u001b[0m\u001b[0m__call__\u001b[0m\u001b[0;34m(\u001b[0m\u001b[0;34m*\u001b[0m\u001b[0mnew_args\u001b[0m\u001b[0;34m,\u001b[0m \u001b[0;34m**\u001b[0m\u001b[0mnew_kwargs\u001b[0m\u001b[0;34m)\u001b[0m\u001b[0;34m\u001b[0m\u001b[0;34m\u001b[0m\u001b[0m\n\u001b[0m\u001b[1;32m    122\u001b[0m         \u001b[0mres\u001b[0m \u001b[0;34m=\u001b[0m \u001b[0mconversion\u001b[0m\u001b[0;34m.\u001b[0m\u001b[0mrpy2py\u001b[0m\u001b[0;34m(\u001b[0m\u001b[0mres\u001b[0m\u001b[0;34m)\u001b[0m\u001b[0;34m\u001b[0m\u001b[0;34m\u001b[0m\u001b[0m\n\u001b[1;32m    123\u001b[0m         \u001b[0;32mreturn\u001b[0m \u001b[0mres\u001b[0m\u001b[0;34m\u001b[0m\u001b[0;34m\u001b[0m\u001b[0m\n",
      "\u001b[0;32m~/.local/lib/python3.10/site-packages/rpy2/rinterface_lib/conversion.py\u001b[0m in \u001b[0;36m_\u001b[0;34m(*args, **kwargs)\u001b[0m\n\u001b[1;32m     38\u001b[0m \u001b[0;32mdef\u001b[0m \u001b[0m_cdata_res_to_rinterface\u001b[0m\u001b[0;34m(\u001b[0m\u001b[0mfunction\u001b[0m\u001b[0;34m)\u001b[0m\u001b[0;34m:\u001b[0m\u001b[0;34m\u001b[0m\u001b[0;34m\u001b[0m\u001b[0m\n\u001b[1;32m     39\u001b[0m     \u001b[0;32mdef\u001b[0m \u001b[0m_\u001b[0m\u001b[0;34m(\u001b[0m\u001b[0;34m*\u001b[0m\u001b[0margs\u001b[0m\u001b[0;34m,\u001b[0m \u001b[0;34m**\u001b[0m\u001b[0mkwargs\u001b[0m\u001b[0;34m)\u001b[0m\u001b[0;34m:\u001b[0m\u001b[0;34m\u001b[0m\u001b[0;34m\u001b[0m\u001b[0m\n\u001b[0;32m---> 40\u001b[0;31m         \u001b[0mcdata\u001b[0m \u001b[0;34m=\u001b[0m \u001b[0mfunction\u001b[0m\u001b[0;34m(\u001b[0m\u001b[0;34m*\u001b[0m\u001b[0margs\u001b[0m\u001b[0;34m,\u001b[0m \u001b[0;34m**\u001b[0m\u001b[0mkwargs\u001b[0m\u001b[0;34m)\u001b[0m\u001b[0;34m\u001b[0m\u001b[0;34m\u001b[0m\u001b[0m\n\u001b[0m\u001b[1;32m     41\u001b[0m         \u001b[0;31m# TODO: test cdata is of the expected CType\u001b[0m\u001b[0;34m\u001b[0m\u001b[0;34m\u001b[0m\u001b[0m\n\u001b[1;32m     42\u001b[0m         \u001b[0;32mreturn\u001b[0m \u001b[0m_cdata_to_rinterface\u001b[0m\u001b[0;34m(\u001b[0m\u001b[0mcdata\u001b[0m\u001b[0;34m)\u001b[0m\u001b[0;34m\u001b[0m\u001b[0;34m\u001b[0m\u001b[0m\n",
      "\u001b[0;32m~/.local/lib/python3.10/site-packages/rpy2/rinterface.py\u001b[0m in \u001b[0;36m__call__\u001b[0;34m(self, *args, **kwargs)\u001b[0m\n\u001b[1;32m    787\u001b[0m                     error_occured))\n\u001b[1;32m    788\u001b[0m             \u001b[0;32mif\u001b[0m \u001b[0merror_occured\u001b[0m\u001b[0;34m[\u001b[0m\u001b[0;36m0\u001b[0m\u001b[0;34m]\u001b[0m\u001b[0;34m:\u001b[0m\u001b[0;34m\u001b[0m\u001b[0;34m\u001b[0m\u001b[0m\n\u001b[0;32m--> 789\u001b[0;31m                 \u001b[0;32mraise\u001b[0m \u001b[0membedded\u001b[0m\u001b[0;34m.\u001b[0m\u001b[0mRRuntimeError\u001b[0m\u001b[0;34m(\u001b[0m\u001b[0m_rinterface\u001b[0m\u001b[0;34m.\u001b[0m\u001b[0m_geterrmessage\u001b[0m\u001b[0;34m(\u001b[0m\u001b[0;34m)\u001b[0m\u001b[0;34m)\u001b[0m\u001b[0;34m\u001b[0m\u001b[0;34m\u001b[0m\u001b[0m\n\u001b[0m\u001b[1;32m    790\u001b[0m         \u001b[0;32mreturn\u001b[0m \u001b[0mres\u001b[0m\u001b[0;34m\u001b[0m\u001b[0;34m\u001b[0m\u001b[0m\n\u001b[1;32m    791\u001b[0m \u001b[0;34m\u001b[0m\u001b[0m\n",
      "\u001b[0;31mRRuntimeError\u001b[0m: StopIteration"
     ]
    }
   ],
   "source": [
    "df_dataset_proteins_mirna_mrna_removed = load_or_store_removed_correlated(r_proteins_mirna_mrna_dataset, 'r_dataset_proteins_mirna_mrna_removed')"
   ]
  },
  {
   "cell_type": "code",
   "execution_count": null,
   "id": "fe4dfad2",
   "metadata": {},
   "outputs": [],
   "source": [
    "df_dataset_proteins_mirna_mrna_removed"
   ]
  },
  {
   "cell_type": "code",
   "execution_count": null,
   "id": "42a739ca",
   "metadata": {},
   "outputs": [],
   "source": [
    "print('DATI MANIPOLATI CON LA FUNZIONE R ELIMINANDO LE FEATURE CORRELATE')"
   ]
  },
  {
   "cell_type": "markdown",
   "id": "5755d06d",
   "metadata": {},
   "source": [
    "# Intrinsic dimension estimation using the TwoNN algorithm"
   ]
  },
  {
   "cell_type": "code",
   "execution_count": 69,
   "id": "21e5c0e2",
   "metadata": {},
   "outputs": [],
   "source": [
    "def execute_instrinsic_dimension_estimation(data):\n",
    "    twoNN = skdim.id.TwoNN().fit(data)\n",
    "    #estimate local intrinsic dimension (dimension in k-nearest-neighborhoods around each point):\n",
    "    lpca = skdim.id.TwoNN().fit_pw(data,\n",
    "                                  n_neighbors = 100,\n",
    "                                  n_jobs = 1)\n",
    "\n",
    "    #get estimated intrinsic dimension\n",
    "    return twoNN.dimension_, np.mean(lpca.dimension_pw_)"
   ]
  },
  {
   "cell_type": "code",
   "execution_count": 70,
   "id": "30503f97",
   "metadata": {},
   "outputs": [],
   "source": [
    "intr_dimension_proteins, _ = execute_instrinsic_dimension_estimation(df_proteins_removed)"
   ]
  },
  {
   "cell_type": "code",
   "execution_count": null,
   "id": "11897dbc",
   "metadata": {},
   "outputs": [],
   "source": [
    "intr_dimension_mirna, _ = execute_instrinsic_dimension_estimation(df_mirna_removed)"
   ]
  },
  {
   "cell_type": "code",
   "execution_count": null,
   "id": "8fc1ab9b",
   "metadata": {},
   "outputs": [],
   "source": [
    "intr_dimension_mrna, _ = execute_instrinsic_dimension_estimation(df_mrna_removed)"
   ]
  },
  {
   "cell_type": "code",
   "execution_count": null,
   "id": "a1f1689e",
   "metadata": {},
   "outputs": [],
   "source": [
    "intr_dimension_cnv, _ = execute_instrinsic_dimension_estimation(df_cnv_removed)"
   ]
  },
  {
   "cell_type": "code",
   "execution_count": null,
   "id": "9f836c9c",
   "metadata": {},
   "outputs": [],
   "source": [
    "intr_dimension_whole_dataset, _ = execute_instrinsic_dimension_estimation(df_dataset_whole_dataset_removed)"
   ]
  },
  {
   "cell_type": "code",
   "execution_count": null,
   "id": "1967ccf3",
   "metadata": {},
   "outputs": [],
   "source": [
    "intr_dimension_proteins_mirna_dataset, _ = execute_instrinsic_dimension_estimation(df_dataset_proteins_mirna_removed)"
   ]
  },
  {
   "cell_type": "code",
   "execution_count": null,
   "id": "a6ebd7e0",
   "metadata": {},
   "outputs": [],
   "source": [
    "intr_dimension_proteins_mirna_mrna_dataset, _ = execute_instrinsic_dimension_estimation(df_dataset_proteins_mirna_mrna_removed)"
   ]
  },
  {
   "cell_type": "code",
   "execution_count": null,
   "id": "bc0a0a6d",
   "metadata": {},
   "outputs": [],
   "source": [
    "print('CALCOLATE LE DIMENSIONI INTRINSECHE')"
   ]
  },
  {
   "cell_type": "markdown",
   "id": "cac01d76",
   "metadata": {},
   "source": [
    "# Feature extraction using umap"
   ]
  },
  {
   "cell_type": "code",
   "execution_count": 71,
   "id": "1a84c8ee",
   "metadata": {},
   "outputs": [],
   "source": [
    "def execute_umap(n_components, X, y):\n",
    "    return umap.UMAP(n_neighbors=5, n_components=n_components, random_state=42).fit_transform(X, y)"
   ]
  },
  {
   "cell_type": "code",
   "execution_count": 72,
   "id": "de9e5d92",
   "metadata": {},
   "outputs": [],
   "source": [
    "r_proteins_umap = execute_umap(math.trunc(intr_dimension_proteins), df_proteins_removed, label)"
   ]
  },
  {
   "cell_type": "code",
   "execution_count": null,
   "id": "8da4d9a6",
   "metadata": {},
   "outputs": [],
   "source": [
    "r_miRNA_umap = execute_umap(math.trunc(intr_dimension_mirna), df_mirna_removed, label)"
   ]
  },
  {
   "cell_type": "code",
   "execution_count": null,
   "id": "61bd8e52",
   "metadata": {},
   "outputs": [],
   "source": [
    "r_mRNA_umap = execute_umap(math.trunc(intr_dimension_mrna), df_mrna_removed, label)"
   ]
  },
  {
   "cell_type": "code",
   "execution_count": null,
   "id": "e66861b9",
   "metadata": {},
   "outputs": [],
   "source": [
    "r_cnv_umap = execute_umap(math.trunc(intr_dimension_cnv), df_cnv_removed, label)"
   ]
  },
  {
   "cell_type": "code",
   "execution_count": null,
   "id": "b81c3aab",
   "metadata": {},
   "outputs": [],
   "source": [
    "r_dataset_whole_dataset_umap = execute_umap(math.trunc(intr_dimension_whole_dataset), df_dataset_whole_dataset_removed, label)"
   ]
  },
  {
   "cell_type": "code",
   "execution_count": null,
   "id": "8a2756ed",
   "metadata": {},
   "outputs": [],
   "source": [
    "r_dataset_proteins_mirna_dataset_umap = execute_umap(math.trunc(intr_dimension_proteins_mirna_dataset), df_dataset_proteins_mirna_removed, label)"
   ]
  },
  {
   "cell_type": "code",
   "execution_count": null,
   "id": "d4f69074",
   "metadata": {},
   "outputs": [],
   "source": [
    "r_dataset_proteins_mirna_mrna_dataset_umap = execute_umap(math.trunc(intr_dimension_proteins_mirna_mrna_dataset), df_dataset_proteins_mirna_mrna_removed, label)"
   ]
  },
  {
   "cell_type": "code",
   "execution_count": null,
   "id": "0413b3dd",
   "metadata": {},
   "outputs": [],
   "source": [
    "print('ESTRATTE LE FEATURE USANDO UMAP')"
   ]
  },
  {
   "cell_type": "markdown",
   "id": "ed3d8f75",
   "metadata": {},
   "source": [
    "# Train using intrinsic dimensionality and umap calculated externally"
   ]
  },
  {
   "cell_type": "code",
   "execution_count": 82,
   "id": "94d907bd",
   "metadata": {},
   "outputs": [],
   "source": [
    "def train_using_intrinsic_dimensionality_and_umap(X, label, num_external_fold,\n",
    "                                          type_dataset, tecnique_feature_selection,\n",
    "                                          path):\n",
    "    \n",
    "    \"\"\"\n",
    "    X : data using number of features of intrinsic dimensionality and appliying umap features extraction.\n",
    "    \"\"\"\n",
    "    \n",
    "    _, ax = plt.subplots(figsize=(10, 10))\n",
    "    average_precision_scores = []\n",
    "    y_score_concatenated = []\n",
    "    y_test_fold_concatenated = []\n",
    "    result_dict = {}\n",
    "    result_dict[type_dataset] = {}\n",
    "    result_dict[type_dataset][tecnique_feature_selection] = {}\n",
    "    iterator = 1\n",
    "    \n",
    "    label_numpy = label['x'].to_numpy()\n",
    "    \n",
    "    external_fold = StratifiedKFold(n_splits=num_external_fold, shuffle=True, random_state=1)\n",
    "    \n",
    "    for train_index, test_index in tqdm(external_fold.split(X, label_numpy), desc=f\"Running fold \", dynamic_ncols=True, leave=False):\n",
    "        \n",
    "        X_train_fold, X_test_fold = X[train_index], X[test_index]\n",
    "        y_train_fold, y_test_fold = label_numpy[train_index], label_numpy[test_index]\n",
    "        \n",
    "        clf = GridSearchCV(estimator=RandomForestClassifier(),\n",
    "                   scoring='average_precision',\n",
    "                   param_grid=model_selection_grid_DT, \n",
    "                   cv=2, \n",
    "                   n_jobs=-1)\n",
    "        clf.fit(X_train_fold, y_train_fold)\n",
    "        \n",
    "        # Get the predicited probability of testing data\n",
    "        y_score = clf.predict_proba(X_test_fold)[:, 1]\n",
    "        \n",
    "        avg_precision_score = average_precision_score(y_test_fold, y_score)\n",
    "        average_precision_scores.append(avg_precision_score)\n",
    "        \n",
    "        #concatenation of result for external AUPRC\n",
    "        y_score_concatenated = np.concatenate((y_score_concatenated, y_score), axis=None)\n",
    "        y_test_fold_concatenated = np.concatenate((y_test_fold_concatenated, y_test_fold), axis=None)\n",
    "        \n",
    "        \n",
    "        PrecisionRecallDisplay.from_predictions(y_test_fold, y_score, ax=ax,name=f'Result on {iterator} fold:')\n",
    "\n",
    "        plt.title('Random_Forest internal')\n",
    "        ax.legend(title='AUPRC')\n",
    "        plt.savefig('Result/'+path+tecnique_feature_selection+'/'+type_dataset+'_'+'AUPRC_Internal.pdf')\n",
    "        \n",
    "        iterator = iterator +1\n",
    "    \n",
    "    internal_average_precision_score = np.mean(average_precision_scores)\n",
    "    \n",
    "    #plot precision recall curve\n",
    "    PrecisionRecallDisplay.from_predictions(y_test_fold_concatenated, y_score_concatenated, name='Concat of predictions')\n",
    "\n",
    "    plt.title('Random_Forest external')\n",
    "    plt.legend(title='AUPRC')\n",
    "    \n",
    "    external_average_precision_score = average_precision_score(y_test_fold_concatenated, y_score_concatenated)\n",
    "    \n",
    "    result_dict[type_dataset][tecnique_feature_selection]['internal'] = '{0:.4f}'.format(internal_average_precision_score)\n",
    "    result_dict[type_dataset][tecnique_feature_selection]['external'] = '{0:.4f}'.format(external_average_precision_score)\n",
    "    result_dict[type_dataset][tecnique_feature_selection]['best_estimator'] = str(clf.best_estimator_)\n",
    "    \n",
    "    plt.savefig('Result/'+path+tecnique_feature_selection+'/'+type_dataset+'_'+'AUPRC_External.pdf')\n",
    "    \n",
    "    with open('Result/'+path+tecnique_feature_selection+'/'+type_dataset+'.json', 'w', encoding='utf-8') as fp:\n",
    "        json.dump(result_dict[type_dataset], fp, ensure_ascii=False, indent=4)\n",
    "    \n",
    "    return '{0:.4f}'.format(internal_average_precision_score), '{0:.4f}'.format(external_average_precision_score), clf.best_estimator_"
   ]
  },
  {
   "cell_type": "code",
   "execution_count": 83,
   "id": "4968fe76",
   "metadata": {},
   "outputs": [],
   "source": [
    "model_selection_grid_DT = [\n",
    "    {'criterion': ['gini', 'entropy'],\n",
    "     'max_leaf_nodes': [None, 2, 5, 10],\n",
    "     'max_features': [None, 'sqrt', 'log2'],\n",
    "    'n_estimators': [51, 101, 251, 500]}\n",
    "]"
   ]
  },
  {
   "cell_type": "markdown",
   "id": "566019ac",
   "metadata": {},
   "source": [
    "# Train proteins"
   ]
  },
  {
   "cell_type": "code",
   "execution_count": 89,
   "id": "46f6f27b",
   "metadata": {},
   "outputs": [
    {
     "name": "stderr",
     "output_type": "stream",
     "text": [
      "                                      \r"
     ]
    },
    {
     "data": {
      "text/plain": [
       "('0.7136',\n",
       " '0.6912',\n",
       " RandomForestClassifier(criterion='entropy', max_features='log2',\n",
       "                        max_leaf_nodes=5, n_estimators=500))"
      ]
     },
     "execution_count": 89,
     "metadata": {},
     "output_type": "execute_result"
    },
    {
     "data": {
      "image/png": "[encoded data removed]",
      "text/plain": [
       "<Figure size 720x720 with 1 Axes>"
      ]
     },
     "metadata": {
      "needs_background": "light"
     },
     "output_type": "display_data"
    },
    {
     "data": {
      "image/png": "[encoded data removed]",
      "text/plain": [
       "<Figure size 432x288 with 1 Axes>"
      ]
     },
     "metadata": {
      "needs_background": "light"
     },
     "output_type": "display_data"
    }
   ],
   "source": [
    "!mkdir 'Result/Experiments_using_R_Function_intrinsic_and_umap_whole_dataset'\n",
    "!mkdir 'Result/Experiments_using_R_Function_intrinsic_and_umap_whole_dataset/r_function_intrinsic_with_umap'\n",
    "train_using_intrinsic_dimensionality_and_umap(r_proteins_umap, label, 10, 'proteins', 'r_function_intrinsic_with_umap', 'Experiments_using_R_Function_intrinsic_and_umap_whole_dataset/')"
   ]
  },
  {
   "cell_type": "markdown",
   "id": "090428b1",
   "metadata": {},
   "source": [
    "# Train miRNA"
   ]
  },
  {
   "cell_type": "code",
   "execution_count": null,
   "id": "83b202c2",
   "metadata": {},
   "outputs": [],
   "source": [
    "train_using_intrinsic_dimensionality_and_umap(\n",
    "    r_miRNA_umap, label, 10, 'mirna', 'r_function_intrinsic_with_umap',\n",
    "    'Experiments_using_R_Function_intrinsic_and_umap_whole_dataset/')"
   ]
  },
  {
   "cell_type": "markdown",
   "id": "b1e6a1a2",
   "metadata": {},
   "source": [
    "# Train mRNA"
   ]
  },
  {
   "cell_type": "code",
   "execution_count": null,
   "id": "fbd73a6b",
   "metadata": {},
   "outputs": [],
   "source": [
    "train_using_intrinsic_dimensionality_and_umap(\n",
    "    r_mRNA_umap, label, 10, 'mrna', 'r_function_intrinsic_with_umap',\n",
    "    'Experiments_using_R_Function_intrinsic_and_umap_whole_dataset/')"
   ]
  },
  {
   "cell_type": "markdown",
   "id": "3a08ff0e",
   "metadata": {},
   "source": [
    "# Train cnv"
   ]
  },
  {
   "cell_type": "code",
   "execution_count": null,
   "id": "447af5b4",
   "metadata": {},
   "outputs": [],
   "source": [
    "train_using_intrinsic_dimensionality_and_umap(\n",
    "    r_cnv_umap, label, 10, 'cnv', 'r_function_intrinsic_with_umap',\n",
    "    'Experiments_using_R_Function_intrinsic_and_umap_whole_dataset/')"
   ]
  },
  {
   "cell_type": "markdown",
   "id": "3cdc6a5f",
   "metadata": {},
   "source": [
    "# Train whole dataset"
   ]
  },
  {
   "cell_type": "code",
   "execution_count": null,
   "id": "0a54b373",
   "metadata": {},
   "outputs": [],
   "source": [
    "train_using_intrinsic_dimensionality_and_umap(\n",
    "    r_whole_dataset_umap, label, 10, 'whole_dataset',\n",
    "    'r_function_intrinsic_with_umap',\n",
    "    'Experiments_using_R_Function_intrinsic_and_umap_whole_dataset/')"
   ]
  },
  {
   "cell_type": "markdown",
   "id": "b44b333c",
   "metadata": {},
   "source": [
    "# Train proteins + mirna"
   ]
  },
  {
   "cell_type": "code",
   "execution_count": null,
   "id": "43207c46",
   "metadata": {},
   "outputs": [],
   "source": [
    "train_using_intrinsic_dimensionality_and_umap(\n",
    "    r_dataset_proteins_mirna_dataset_umap,\n",
    "    label, 10, 'proteins_mirna_dataset', 'r_function_intrinsic_with_umap',\n",
    "    'Experiments_using_R_Function_intrinsic_and_umap_whole_dataset/')"
   ]
  },
  {
   "cell_type": "markdown",
   "id": "1e397c51",
   "metadata": {},
   "source": [
    "# Train proteins+mirna+mrna"
   ]
  },
  {
   "cell_type": "code",
   "execution_count": null,
   "id": "434cf6cb",
   "metadata": {},
   "outputs": [],
   "source": [
    "train_using_intrinsic_dimensionality_and_umap(\n",
    "    r_dataset_proteins_mirna_mrna_dataset_umap,\n",
    "    label, 10, 'proteins_mirna_mrna_dataset',\n",
    "    'r_function_intrinsic_with_umap',\n",
    "    'Experiments_using_R_Function_intrinsic_and_umap_whole_dataset/')"
   ]
  },
  {
   "cell_type": "markdown",
   "id": "27287aa1",
   "metadata": {},
   "source": [
    "# Train using intrinsic dimensionality and umap calculated internally"
   ]
  },
  {
   "cell_type": "code",
   "execution_count": 86,
   "id": "16198f19",
   "metadata": {},
   "outputs": [],
   "source": [
    "def train_using_intrinsic_dimensionality_and_umap_internally(X, label, num_external_fold,\n",
    "                                          type_dataset, tecnique_feature_selection,\n",
    "                                          path):\n",
    "    \n",
    "    \"\"\"\n",
    "    X : data using number of features of intrinsic dimensionality and appliying umap features extraction.\n",
    "    \"\"\"\n",
    "    _, ax = plt.subplots(figsize=(10, 10))\n",
    "    average_precision_scores = []\n",
    "    y_score_concatenated = []\n",
    "    y_test_fold_concatenated = []\n",
    "    result_dict = {}\n",
    "    iterator = 1\n",
    "    result_dict[type_dataset] = {}\n",
    "    result_dict[type_dataset][tecnique_feature_selection] = {}\n",
    "    X_numpy = X.to_numpy()\n",
    "    \n",
    "    label_numpy = label['x'].to_numpy()\n",
    "    \n",
    "    external_fold = StratifiedKFold(n_splits=num_external_fold, shuffle=True, random_state=1)\n",
    "    \n",
    "    for train_index, test_index in tqdm(external_fold.split(X_numpy, label_numpy), desc=f\"Running fold \", dynamic_ncols=True, leave=False):\n",
    "        \n",
    "        X_train_fold, X_test_fold = X_numpy[train_index], X_numpy[test_index]\n",
    "        y_train_fold, y_test_fold = label_numpy[train_index], label_numpy[test_index]\n",
    "        \n",
    "        X_train_intr_dimension_proteins, _ = execute_instrinsic_dimension_estimation(X_train_fold)\n",
    "\n",
    "        X_train_r_proteins_umap = execute_umap(math.trunc(X_train_intr_dimension_proteins), X_train_fold, y_train_fold)\n",
    "        X_test_r_proteins_umap = execute_umap(math.trunc(X_train_intr_dimension_proteins), X_test_fold, y_test_fold)\n",
    "        \n",
    "        clf = GridSearchCV(estimator=RandomForestClassifier(),\n",
    "                   scoring='average_precision',\n",
    "                   param_grid=model_selection_grid_DT, \n",
    "                   cv=2, \n",
    "                   n_jobs=-1)\n",
    "        clf.fit(X_train_r_proteins_umap, y_train_fold)\n",
    "        \n",
    "        # Get the predicited probability of testing data\n",
    "        y_score = clf.predict_proba(X_test_r_proteins_umap)[:, 1]\n",
    "        \n",
    "        avg_precision_score = average_precision_score(y_test_fold, y_score)\n",
    "        average_precision_scores.append(avg_precision_score)\n",
    "        \n",
    "        #concatenation of result for external AUPRC\n",
    "        y_score_concatenated = np.concatenate((y_score_concatenated, y_score), axis=None)\n",
    "        y_test_fold_concatenated = np.concatenate((y_test_fold_concatenated, y_test_fold), axis=None)\n",
    "        \n",
    "        \n",
    "        PrecisionRecallDisplay.from_predictions(y_test_fold, y_score, ax=ax,name=f'Result on {iterator} fold:')\n",
    "\n",
    "        plt.title('Random_Forest internal')\n",
    "        ax.legend(title='AUPRC')\n",
    "        plt.savefig('Result/'+path+tecnique_feature_selection+'/'+type_dataset+'_'+'AUPRC_Internal.pdf')\n",
    "        \n",
    "        iterator = iterator +1\n",
    "        \n",
    "    \n",
    "    internal_average_precision_score = np.mean(average_precision_scores)\n",
    "    \n",
    "    #plot precision recall curve\n",
    "    PrecisionRecallDisplay.from_predictions(y_test_fold_concatenated, y_score_concatenated, name='Concat of predictions')\n",
    "\n",
    "    plt.title('Random_Forest external')\n",
    "    plt.legend(title='AUPRC')\n",
    "    \n",
    "    external_average_precision_score = average_precision_score(y_test_fold_concatenated, y_score_concatenated)\n",
    "    \n",
    "    result_dict[type_dataset][tecnique_feature_selection]['internal'] = '{0:.4f}'.format(internal_average_precision_score)\n",
    "    result_dict[type_dataset][tecnique_feature_selection]['external'] = '{0:.4f}'.format(external_average_precision_score)\n",
    "    result_dict[type_dataset][tecnique_feature_selection]['best_estimator'] = str(clf.best_estimator_)\n",
    "    \n",
    "    plt.savefig('Result/'+path+tecnique_feature_selection+'/'+type_dataset+'_'+'AUPRC_External.pdf')\n",
    "    \n",
    "    with open('Result/'+path+tecnique_feature_selection+'/'+type_dataset+'.json', 'w', encoding='utf-8') as fp:\n",
    "        json.dump(result_dict[type_dataset], fp, ensure_ascii=False, indent=4)\n",
    "        \n",
    "    \n",
    "    return '{0:.4f}'.format(internal_average_precision_score), '{0:.4f}'.format(external_average_precision_score), clf.best_estimator_"
   ]
  },
  {
   "cell_type": "markdown",
   "id": "356f7bf1",
   "metadata": {},
   "source": [
    "# Train proteins"
   ]
  },
  {
   "cell_type": "code",
   "execution_count": 90,
   "id": "ab6ea5e2",
   "metadata": {},
   "outputs": [
    {
     "name": "stdout",
     "output_type": "stream",
     "text": [
      "mkdir: impossibile creare la directory \"Result/Experiments_using_R_Function_whole_intrinsic_and_umap_on_fold\": File già esistente\r\n"
     ]
    },
    {
     "name": "stderr",
     "output_type": "stream",
     "text": [
      "                                      \r"
     ]
    },
    {
     "data": {
      "text/plain": [
       "('0.3886', '0.1387', RandomForestClassifier(max_leaf_nodes=5, n_estimators=51))"
      ]
     },
     "execution_count": 90,
     "metadata": {},
     "output_type": "execute_result"
    },
    {
     "data": {
      "image/png": "[encoded data removed]",
      "text/plain": [
       "<Figure size 720x720 with 1 Axes>"
      ]
     },
     "metadata": {
      "needs_background": "light"
     },
     "output_type": "display_data"
    },
    {
     "data": {
      "image/png": "[encoded data removed]",
      "text/plain": [
       "<Figure size 432x288 with 1 Axes>"
      ]
     },
     "metadata": {
      "needs_background": "light"
     },
     "output_type": "display_data"
    }
   ],
   "source": [
    "!mkdir 'Result/Experiments_using_R_Function_whole_intrinsic_and_umap_on_fold'\n",
    "!mkdir 'Result/Experiments_using_R_Function_whole_intrinsic_and_umap_on_fold/r_function_intrinsic_with_umap'\n",
    "train_using_intrinsic_dimensionality_and_umap_internally(\n",
    "    df_proteins_removed, label, 10, 'proteins', 'r_function_intrinsic_with_umap',\n",
    "    'Experiments_using_R_Function_whole_intrinsic_and_umap_on_fold/')"
   ]
  },
  {
   "cell_type": "code",
   "execution_count": 88,
   "id": "3900d981",
   "metadata": {},
   "outputs": [
    {
     "ename": "NameError",
     "evalue": "name 'df_mirna_removed' is not defined",
     "output_type": "error",
     "traceback": [
      "\u001b[0;31m---------------------------------------------------------------------------\u001b[0m",
      "\u001b[0;31mNameError\u001b[0m                                 Traceback (most recent call last)",
      "\u001b[0;32m/tmp/ipykernel_20661/159505909.py\u001b[0m in \u001b[0;36m<module>\u001b[0;34m\u001b[0m\n\u001b[1;32m      1\u001b[0m train_using_intrinsic_dimensionality_and_umap_internally(\n\u001b[0;32m----> 2\u001b[0;31m     \u001b[0mdf_mirna_removed\u001b[0m\u001b[0;34m,\u001b[0m \u001b[0mlabel\u001b[0m\u001b[0;34m,\u001b[0m \u001b[0;36m10\u001b[0m\u001b[0;34m,\u001b[0m \u001b[0;34m'mirna'\u001b[0m\u001b[0;34m,\u001b[0m \u001b[0;34m'r_function_intrinsic_with_umap'\u001b[0m\u001b[0;34m,\u001b[0m\u001b[0;34m\u001b[0m\u001b[0;34m\u001b[0m\u001b[0m\n\u001b[0m\u001b[1;32m      3\u001b[0m     'Experiments_using_R_Function_whole_intrinsic_and_umap_on_fold/')\n",
      "\u001b[0;31mNameError\u001b[0m: name 'df_mirna_removed' is not defined"
     ]
    }
   ],
   "source": [
    "train_using_intrinsic_dimensionality_and_umap_internally(\n",
    "    df_mirna_removed, label, 10, 'mirna', 'r_function_intrinsic_with_umap',\n",
    "    'Experiments_using_R_Function_whole_intrinsic_and_umap_on_fold/')"
   ]
  },
  {
   "cell_type": "code",
   "execution_count": null,
   "id": "8f61b24e",
   "metadata": {},
   "outputs": [],
   "source": [
    "train_using_intrinsic_dimensionality_and_umap_internally(\n",
    "    df_mrna_removed, label, 10, 'mrna', 'r_function_intrinsic_with_umap',\n",
    "    'Experiments_using_R_Function_whole_intrinsic_and_umap_on_fold/')"
   ]
  },
  {
   "cell_type": "code",
   "execution_count": null,
   "id": "3c8bd6a5",
   "metadata": {},
   "outputs": [],
   "source": [
    "train_using_intrinsic_dimensionality_and_umap_internally(\n",
    "    df_cnv_removed, label, 10, 'cnv', 'r_function_intrinsic_with_umap',\n",
    "    'Experiments_using_R_Function_whole_intrinsic_and_umap_on_fold/')"
   ]
  },
  {
   "cell_type": "code",
   "execution_count": null,
   "id": "2354735a",
   "metadata": {},
   "outputs": [],
   "source": [
    "train_using_intrinsic_dimensionality_and_umap_internally(\n",
    "    df_whole_dataset_removed, label, 10, 'whole_dataset', 'r_function_intrinsic_with_umap',\n",
    "    'Experiments_using_R_Function_whole_intrinsic_and_umap_on_fold/')"
   ]
  },
  {
   "cell_type": "code",
   "execution_count": null,
   "id": "462fe383",
   "metadata": {},
   "outputs": [],
   "source": [
    "train_using_intrinsic_dimensionality_and_umap_internally(\n",
    "    df_dataset_proteins_mirna_removed, label, 10, 'proteins_mirna_dataset', \n",
    "    'r_function_intrinsic_with_umap',\n",
    "    'Experiments_using_R_Function_whole_intrinsic_and_umap_on_fold/')"
   ]
  },
  {
   "cell_type": "code",
   "execution_count": null,
   "id": "86ccaf55",
   "metadata": {},
   "outputs": [],
   "source": [
    "train_using_intrinsic_dimensionality_and_umap_internally(\n",
    "    df_dataset_proteins_mirna_mrna_removed, label, 10,\n",
    "    'proteins_mirna_mrna_dataset', 'r_function_intrinsic_with_umap',\n",
    "    'Experiments_using_R_Function_whole_intrinsic_and_umap_on_fold/')"
   ]
  }
 ],
 "metadata": {
  "kernelspec": {
   "display_name": "Python 3 (ipykernel)",
   "language": "python",
   "name": "python3"
  },
  "language_info": {
   "codemirror_mode": {
    "name": "ipython",
    "version": 3
   },
   "file_extension": ".py",
   "mimetype": "text/x-python",
   "name": "python",
   "nbconvert_exporter": "python",
   "pygments_lexer": "ipython3",
   "version": "3.10.6"
  }
 },
 "nbformat": 4,
 "nbformat_minor": 5
}

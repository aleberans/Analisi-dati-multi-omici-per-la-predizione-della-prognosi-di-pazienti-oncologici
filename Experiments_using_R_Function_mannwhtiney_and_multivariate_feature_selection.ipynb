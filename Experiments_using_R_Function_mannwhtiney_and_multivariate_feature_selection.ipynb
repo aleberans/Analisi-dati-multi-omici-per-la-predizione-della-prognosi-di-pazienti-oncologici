{
 "cells": [
  {
   "cell_type": "code",
   "execution_count": null,
   "id": "474116e9",
   "metadata": {},
   "outputs": [],
   "source": [
    "import json\n",
    "import pandas as pd\n",
    "from scipy.stats import mannwhitneyu\n",
    "import numpy as np\n",
    "import rpy2.robjects as robjects\n",
    "from rpy2.robjects.conversion import localconverter\n",
    "from rpy2.robjects import pandas2ri\n",
    "from sklearn.model_selection import StratifiedKFold, GridSearchCV\n",
    "from tqdm import tqdm\n",
    "from sklearn.ensemble import RandomForestClassifier\n",
    "import os.path\n",
    "from pymrmr import mRMR\n",
    "import matplotlib.pyplot as plt\n",
    "from boruta import BorutaPy\n",
    "from sklearn.metrics import auc, precision_recall_curve, average_precision_score, PrecisionRecallDisplay\n",
    "import pandas as pd"
   ]
  },
  {
   "cell_type": "markdown",
   "id": "963aa9b6",
   "metadata": {},
   "source": [
    "# Import raw data"
   ]
  },
  {
   "cell_type": "code",
   "execution_count": null,
   "id": "3b24ab06",
   "metadata": {},
   "outputs": [],
   "source": [
    "# import data from csv \n",
    "cnv = pd.read_csv('dataset_hg19/dataset/cnv.csv', sep=' ')\n",
    "miRNA = pd.read_csv('dataset_hg19/dataset/mirna.csv', sep=' ')\n",
    "mRNA = pd.read_csv('dataset_hg19/dataset/mrna.csv', sep=' ')\n",
    "proteins = pd.read_csv('dataset_hg19/dataset/proteins.csv', sep=' ')"
   ]
  },
  {
   "cell_type": "code",
   "execution_count": null,
   "id": "c2512a3c",
   "metadata": {},
   "outputs": [],
   "source": [
    "label = pd.read_csv('dataset_hg19/dataset/labels_pfi.csv', sep=' ')"
   ]
  },
  {
   "cell_type": "code",
   "execution_count": null,
   "id": "6feda40b",
   "metadata": {},
   "outputs": [],
   "source": [
    "def store_filtered_normalize_data(dataset_dict):\n",
    "    mkdir_p('filtered_normalize_data')\n",
    "    filtered_normalize_data = create_data_normalized_filtered(dataset_dict, MinMaxScaler, 0.05)\n",
    "    for data in dataset_dict:\n",
    "        filtered_normalize_data[data].to_json('filtered_normalize_data/'+data+'.json')"
   ]
  },
  {
   "cell_type": "code",
   "execution_count": null,
   "id": "3fe4a860",
   "metadata": {},
   "outputs": [],
   "source": [
    "def load_filtered_normalize_data(dataset_dict):\n",
    "    dict_test = {}\n",
    "    if os.path.exists('filtered_normalize_data'):\n",
    "        for data in dataset_dict:\n",
    "            with open('filtered_normalize_data/'+data+'.json', 'r') as fp:\n",
    "                dataset = pd.read_json(fp)\n",
    "                dict_test[data] = dataset\n",
    "        return dict_test\n",
    "    else:\n",
    "        store_filtered_normalize_data(dataset_dict)\n",
    "        load_filtered_normalize_data(dataset_dict)"
   ]
  },
  {
   "cell_type": "code",
   "execution_count": null,
   "id": "5a125346",
   "metadata": {},
   "outputs": [],
   "source": [
    "dataset_dict = {'cnv': cnv, 'mirna': miRNA, 'mrna': mRNA, 'proteins': proteins}\n",
    "\n",
    "datasets = load_filtered_normalize_data(dataset_dict)"
   ]
  },
  {
   "cell_type": "markdown",
   "id": "b4fd08af",
   "metadata": {},
   "source": [
    "# Create concatenation of all dataset"
   ]
  },
  {
   "cell_type": "code",
   "execution_count": null,
   "id": "c5702a77",
   "metadata": {},
   "outputs": [],
   "source": [
    "dataset_whole_dataset = pd.concat([datasets['cnv'], datasets['proteins'], datasets['mrna'], datasets['mirna']], axis=1)"
   ]
  },
  {
   "cell_type": "code",
   "execution_count": null,
   "id": "61bf938b",
   "metadata": {},
   "outputs": [],
   "source": [
    "datasets['whole_dataset'] = dataset_whole_dataset"
   ]
  },
  {
   "cell_type": "markdown",
   "id": "d6c53ec3",
   "metadata": {},
   "source": [
    "# Create concatenation of dataset: proteins+mirna, proteins+mirna+mrna"
   ]
  },
  {
   "cell_type": "code",
   "execution_count": null,
   "id": "ee4e5261",
   "metadata": {},
   "outputs": [],
   "source": [
    "proteins_mirna_dataset = pd.concat([datasets['proteins'], datasets['mirna']], axis=1)\n",
    "datasets['proteins_mirna_dataset'] = proteins_mirna_dataset"
   ]
  },
  {
   "cell_type": "code",
   "execution_count": null,
   "id": "1f204320",
   "metadata": {},
   "outputs": [],
   "source": [
    "proteins_mirna_mrna_dataset = pd.concat([datasets['proteins'], datasets['mirna'], datasets['mrna']], axis=1)\n",
    "datasets['proteins_mirna_mrna_dataset'] = proteins_mirna_mrna_dataset"
   ]
  },
  {
   "cell_type": "markdown",
   "id": "6e4dbc9f",
   "metadata": {},
   "source": [
    "# Remove correlated feature using R code"
   ]
  },
  {
   "cell_type": "code",
   "execution_count": null,
   "id": "4baeba7f",
   "metadata": {},
   "outputs": [],
   "source": [
    "robjects.r(\"\"\"\n",
    "install.packages('caret')\n",
    "\"\"\")"
   ]
  },
  {
   "cell_type": "code",
   "execution_count": null,
   "id": "55a336dd",
   "metadata": {},
   "outputs": [],
   "source": [
    "robjects.r(\"\"\"\n",
    "library(doParallel)\n",
    "\"\"\")"
   ]
  },
  {
   "cell_type": "code",
   "execution_count": null,
   "id": "a1c134de",
   "metadata": {},
   "outputs": [],
   "source": [
    "robjects.r(\"\"\"\n",
    "remove_correlated_par <- function(df, dim_split = 1000, maxiter = 5, method = \"pearson\", cutoff = 0.8){\n",
    "  \n",
    "  #df has features on columns\n",
    "  X = t(df)\n",
    "  niter = 0\n",
    "  if (!is.finite(dim_split)) dim_split = nrow(X)\n",
    "  cat(\"dim(X) before starting remove correlation: \", dim(X), \"\\n\")\n",
    "  while(niter < maxiter ){\n",
    "    cat(\"niter = \", niter, '\\n')\n",
    "    filtered_X = NULL\n",
    "    \n",
    "    cl <- makeCluster(4)\n",
    "    registerDoParallel(cl)\n",
    "    \n",
    "    filtered_X = foreach(nR = seq(1, nrow(X), by=dim_split), \n",
    "                         .combine='rbind', .packages = c(\"caret\")) %dopar% {\n",
    "                           \n",
    "         subX = X[nR:min(nrow(X), (nR+dim_split-1)), ]\n",
    "         cc = cor(t(subX), use = \"pairwise.complete.obs\", method = \"kendall\")\n",
    "         \n",
    "         select_corr = caret::findCorrelation(cc, cutoff = cutoff, exact = FALSE)\n",
    "         #print(length(select_corr))\n",
    "         \n",
    "         if (length(select_corr)>0){ \n",
    "           subX = subX[-select_corr, ]\n",
    "         }\n",
    "         \n",
    "         return(subX)\n",
    "           \n",
    "     }\n",
    "    \n",
    "    stopCluster(cl)\n",
    "    \n",
    "    print(names(filtered_X))\n",
    "    #    if (length(unique(filtered_X[,1]))>1) cat('PROBLEMA!')\n",
    "    no_removed = nrow(X)-nrow(filtered_X)\n",
    "    cat('Removed = ', no_removed, '\\n')\n",
    "    cat('dim filetered_X =', dim(filtered_X), '\\n')\n",
    "\n",
    "    X = filtered_X[sample(nrow(filtered_X)), ]\n",
    "    \n",
    "    niter = niter + 1\n",
    "    cat(\"nrow(X) =\", dim(X), '\\n')\n",
    "    if (no_removed ==0) break;\n",
    "  }\n",
    "  cat('final dimension = ', dim(t(X)), '\\n')\n",
    "  \n",
    "  \n",
    "  return(t(X))\n",
    "    }\n",
    "    \"\"\")"
   ]
  },
  {
   "cell_type": "markdown",
   "id": "30bd284a",
   "metadata": {},
   "source": [
    "# Convert data in a r structure data"
   ]
  },
  {
   "cell_type": "code",
   "execution_count": null,
   "id": "91205736",
   "metadata": {},
   "outputs": [],
   "source": [
    "with localconverter(robjects.default_converter + pandas2ri.converter):\n",
    "    r_proteins = robjects.conversion.py2rpy(datasets['proteins'])"
   ]
  },
  {
   "cell_type": "code",
   "execution_count": null,
   "id": "4f5564a9",
   "metadata": {},
   "outputs": [],
   "source": [
    "with localconverter(robjects.default_converter + pandas2ri.converter):\n",
    "    r_miRNA = robjects.conversion.py2rpy(datasets['mirna'])"
   ]
  },
  {
   "cell_type": "code",
   "execution_count": null,
   "id": "da9a7d68",
   "metadata": {},
   "outputs": [],
   "source": [
    "with localconverter(robjects.default_converter + pandas2ri.converter):\n",
    "    r_mRNA = robjects.conversion.py2rpy(datasets['mrna'])"
   ]
  },
  {
   "cell_type": "code",
   "execution_count": null,
   "id": "e89acf30",
   "metadata": {},
   "outputs": [],
   "source": [
    "with localconverter(robjects.default_converter + pandas2ri.converter):\n",
    "    r_cnv = robjects.conversion.py2rpy(datasets['cnv'])"
   ]
  },
  {
   "cell_type": "code",
   "execution_count": null,
   "id": "fb40a4a3",
   "metadata": {},
   "outputs": [],
   "source": [
    "with localconverter(robjects.default_converter + pandas2ri.converter):\n",
    "    r_whole_dataset = robjects.conversion.py2rpy(datasets['whole_dataset'])"
   ]
  },
  {
   "cell_type": "code",
   "execution_count": null,
   "id": "a2766826",
   "metadata": {},
   "outputs": [],
   "source": [
    "with localconverter(robjects.default_converter + pandas2ri.converter):\n",
    "    r_proteins_mirna_dataset = robjects.conversion.py2rpy(datasets['proteins_mirna_dataset'])"
   ]
  },
  {
   "cell_type": "code",
   "execution_count": null,
   "id": "e056b681",
   "metadata": {},
   "outputs": [],
   "source": [
    "with localconverter(robjects.default_converter + pandas2ri.converter):\n",
    "    r_proteins_mirna_mrna_dataset = robjects.conversion.py2rpy(datasets['proteins_mirna_mrna_dataset'])"
   ]
  },
  {
   "cell_type": "markdown",
   "id": "69285f02",
   "metadata": {},
   "source": [
    "# Store data in local"
   ]
  },
  {
   "cell_type": "code",
   "execution_count": null,
   "id": "58a620b2",
   "metadata": {},
   "outputs": [],
   "source": [
    "def compute_and_save_result(data, path):\n",
    "    data_removed = robjects.globalenv[\"remove_correlated_par\"](data)\n",
    "    df = pd.DataFrame(data=np.array(data_removed), columns=data_removed.colnames)\n",
    "    df.to_json(path)\n",
    "    \n",
    "def restore_result(file_name):\n",
    "    return pd.read_json(f'elaborated_data_with_r_function/{file_name}.json')\n",
    "\n",
    "def load_or_store_removed_correlated(data, file_name):\n",
    "    if os.path.exists(f'elaborated_data_with_r_function/{file_name}.json'):\n",
    "        return restore_result(file_name)\n",
    "    else:\n",
    "        compute_and_save_result(data, f'elaborated_data_with_r_function/{file_name}.json')\n",
    "        return restore_result(file_name)"
   ]
  },
  {
   "cell_type": "code",
   "execution_count": null,
   "id": "df560fa1",
   "metadata": {},
   "outputs": [],
   "source": [
    "df_proteins_removed = load_or_store_removed_correlated(r_proteins, 'r_proteins_removed')"
   ]
  },
  {
   "cell_type": "code",
   "execution_count": null,
   "id": "657eb7e1",
   "metadata": {},
   "outputs": [],
   "source": [
    "df_mirna_removed = load_or_store_removed_correlated(r_miRNA, 'r_mirna_removed')"
   ]
  },
  {
   "cell_type": "code",
   "execution_count": null,
   "id": "4715aecc",
   "metadata": {},
   "outputs": [],
   "source": [
    "df_mrna_removed = load_or_store_removed_correlated(r_mRNA, 'r_mrna_removed')"
   ]
  },
  {
   "cell_type": "code",
   "execution_count": null,
   "id": "3afecfa8",
   "metadata": {},
   "outputs": [],
   "source": [
    "df_cnv_removed = load_or_store_removed_correlated(r_cnv, 'r_cnv_removed')"
   ]
  },
  {
   "cell_type": "code",
   "execution_count": null,
   "id": "24418740",
   "metadata": {},
   "outputs": [],
   "source": [
    "df_dataset_whole_dataset_removed = load_or_store_removed_correlated(r_whole_dataset, 'r_dataset_whole_dataset_removed')"
   ]
  },
  {
   "cell_type": "code",
   "execution_count": null,
   "id": "82d6221d",
   "metadata": {},
   "outputs": [],
   "source": [
    "df_dataset_proteins_mirna_removed = load_or_store_removed_correlated(r_proteins_mirna_dataset, 'r_proteins_mirna_dataset_removed')"
   ]
  },
  {
   "cell_type": "code",
   "execution_count": null,
   "id": "a986306c",
   "metadata": {},
   "outputs": [],
   "source": [
    "df_dataset_proteins_mirna_mrna_removed = load_or_store_removed_correlated(r_proteins_mirna_mrna_dataset, 'r_proteins_mirna_mrna_dataset_removed')"
   ]
  },
  {
   "cell_type": "code",
   "execution_count": null,
   "id": "9dc32b5b",
   "metadata": {},
   "outputs": [],
   "source": [
    "print('DATI MANIPOLATI CON LA FUNZIONE R ELIMINANDO LE FEATURE CORRELATE')"
   ]
  },
  {
   "cell_type": "markdown",
   "id": "0ad25462",
   "metadata": {},
   "source": [
    "# Mann-Whitney"
   ]
  },
  {
   "cell_type": "code",
   "execution_count": null,
   "id": "63966031",
   "metadata": {},
   "outputs": [],
   "source": [
    "def create_dataframe_pos_neg(dataset, label):\n",
    "    mask_1 = label['x']==1\n",
    "    mask_0 = label['x']==0\n",
    "    return (dataset[mask_1.values], dataset[mask_0.values])"
   ]
  },
  {
   "cell_type": "code",
   "execution_count": null,
   "id": "9ad32bc0",
   "metadata": {},
   "outputs": [],
   "source": [
    "def mann_whitney_features_selection(dataset, label, min_pValue):\n",
    "    pos, neg = create_dataframe_pos_neg(dataset, label)\n",
    "    H, pval = mannwhitneyu(pos, neg)\n",
    "    mask = (pval < min_pValue)\n",
    "    return dataset.columns[mask]"
   ]
  },
  {
   "cell_type": "markdown",
   "id": "23c0bd3c",
   "metadata": {},
   "source": [
    "# Multivariate feature selection, mrmr and Boruta "
   ]
  },
  {
   "cell_type": "code",
   "execution_count": null,
   "id": "aba8f2c2",
   "metadata": {},
   "outputs": [],
   "source": [
    "def execute_mrmr(dataset, n_feature):\n",
    "    return mRMR(dataset, 'MIQ', n_feature)"
   ]
  },
  {
   "cell_type": "code",
   "execution_count": null,
   "id": "c572daee",
   "metadata": {},
   "outputs": [],
   "source": [
    "def execute_boruta_feature_selection(\n",
    "    X_train: pd.DataFrame,\n",
    "    y_train: np.ndarray,\n",
    "    holdout_number: int,\n",
    "    max_iter: int = 100,\n",
    "):\n",
    "    \"\"\"Returns tuple with list of kept features and list of discared features.\n",
    "    \n",
    "    Parameters\n",
    "    --------------------------\n",
    "    X_train: pd.DataFrame,\n",
    "        The data reserved for the input of the training of the Boruta model.\n",
    "    y_train: np.ndarray,\n",
    "        The data reserved for the output of the training of the Boruta model.\n",
    "    holdout_number: int,\n",
    "        The current holdout number.\n",
    "    max_iter: int = 100,\n",
    "        Number of iterations to run Boruta for.\n",
    "    \"\"\"\n",
    "\n",
    "    model = RandomForestClassifier(n_jobs=-1, class_weight='balanced_subsample', max_depth=5)\n",
    "    \n",
    "    boruta_selector = BorutaPy(\n",
    "        model,\n",
    "        n_estimators='auto',\n",
    "        verbose=False,\n",
    "        alpha=0.05,\n",
    "        max_iter=max_iter, \n",
    "        random_state=42,\n",
    "    )\n",
    "    boruta_selector.fit(X_train.values, y_train.values.ravel())\n",
    "    \n",
    "    kept_features = list(X_train.columns[boruta_selector.support_])\n",
    "    discarded_features = list(X_train.columns[~boruta_selector.support_])\n",
    "    \n",
    "    return kept_features, discarded_features"
   ]
  },
  {
   "cell_type": "markdown",
   "id": "6aa792a9",
   "metadata": {},
   "source": [
    "# Train on fold"
   ]
  },
  {
   "cell_type": "code",
   "execution_count": null,
   "id": "5dcec6c1",
   "metadata": {},
   "outputs": [],
   "source": [
    "def train_using_mann_whitney_on_fold(X,\n",
    "                            label, \n",
    "                            num_external_fold,\n",
    "                            type_dataset, \n",
    "                            tecnique_feature_selection,\n",
    "                            path):\n",
    "    \n",
    "    _, ax = plt.subplots(figsize=(10, 10))\n",
    "    average_precision_scores =[]\n",
    "    y_score_concatenated = []\n",
    "    y_test_fold_concatenated = []\n",
    "    list_selected_feature = {}\n",
    "    iterator = 0\n",
    "    result_dict = {}\n",
    "    result_dict[type_dataset] = {}\n",
    "    result_dict[type_dataset][tecnique_feature_selection] = {} \n",
    "    \n",
    "   \n",
    "    X_numpy = X.values\n",
    "    label_numpy = label['x'].values\n",
    "    \n",
    "    external_fold = StratifiedKFold(n_splits=num_external_fold, shuffle=True, random_state=1)\n",
    "    \n",
    "    for train_index, test_index in tqdm(external_fold.split(X, label_numpy), desc=f\"Running fold \", dynamic_ncols=True, leave=False):\n",
    "        \n",
    "        X_train_fold, X_test_fold = X_numpy[train_index], X_numpy[test_index]\n",
    "        y_train_fold, y_test_fold = label_numpy[train_index], label_numpy[test_index]\n",
    "        \n",
    "        df_X_train = pd.DataFrame(data=X_train_fold, columns=X.columns)\n",
    "        df_X_test = pd.DataFrame(data=X_test_fold, columns=X.columns)\n",
    "        df_y_train = pd.DataFrame(data=y_train_fold, columns=label.columns)\n",
    "        \n",
    "        selected_features = mann_whitney_features_selection(df_X_train, df_y_train, 0.05)\n",
    "        \n",
    "        list_selected_feature[iterator] = selected_features\n",
    "        \n",
    "        X_train_selected_feature = df_X_train[selected_features]\n",
    "        X_test_selected_feature = df_X_test[selected_features]\n",
    "        \n",
    "        clf = GridSearchCV(estimator=RandomForestClassifier(),\n",
    "                   scoring='average_precision',\n",
    "                   param_grid=model_selection_grid_DT, \n",
    "                   cv=2, \n",
    "                   n_jobs=-1)\n",
    "        clf.fit(X_train_selected_feature, y_train_fold)\n",
    "        \n",
    "        # Get the predicited probability of testing data\n",
    "        y_score = clf.predict_proba(X_test_selected_feature)[:, 1]\n",
    "        \n",
    "        avg_precision_score = average_precision_score(y_test_fold, y_score)\n",
    "        average_precision_scores.append(avg_precision_score)\n",
    "        \n",
    "        #concatenation of result for external AUPRC\n",
    "        y_score_concatenated = np.concatenate((y_score_concatenated, y_score), axis=None)\n",
    "        y_test_fold_concatenated = np.concatenate((y_test_fold_concatenated, y_test_fold), axis=None)\n",
    "               \n",
    "        PrecisionRecallDisplay.from_predictions(y_test_fold, y_score, ax=ax,name=f'Result on {iterator} fold:')\n",
    "\n",
    "        plt.title('Random_Forest internal')\n",
    "        ax.legend(title='AUPRC')\n",
    "        \n",
    "        iterator = iterator +1\n",
    "        plt.savefig('Result/'+path+tecnique_feature_selection+'/'+type_dataset+'_AUPRC_Internal.pdf')\n",
    "    \n",
    "    internal_average_precision_score = np.mean(average_precision_scores)\n",
    "    \n",
    "    external_average_precision_score = average_precision_score(y_test_fold_concatenated, y_score_concatenated)\n",
    "    \n",
    "    #plot precision recall curve\n",
    "    PrecisionRecallDisplay.from_predictions(y_test_fold_concatenated, y_score_concatenated,name='Concat of predictions')\n",
    "\n",
    "    plt.title('Random_Forest external')\n",
    "    plt.legend(title='AUPRC')\n",
    "    plt.savefig('Result/'+path+tecnique_feature_selection+'/'+type_dataset+'_'+'AUPRC_External.pdf')\n",
    "    \n",
    "    result_dict[type_dataset][tecnique_feature_selection]['internal'] = '{0:.4f}'.format(internal_average_precision_score)\n",
    "    result_dict[type_dataset][tecnique_feature_selection]['external'] = '{0:.4f}'.format(external_average_precision_score)\n",
    "    result_dict[type_dataset][tecnique_feature_selection]['best_estimator'] = str(clf.best_estimator_)\n",
    "    result_dict[type_dataset][tecnique_feature_selection]['feature_used'] = str(list_selected_feature)\n",
    "      \n",
    "    with open('Result/'+path+tecnique_feature_selection+'/'+type_dataset+'.json', 'w', encoding='utf-8') as fp:\n",
    "        json.dump(result_dict[type_dataset], fp, ensure_ascii=False, indent=4) \n",
    "    \n",
    "    return list_selected_feature"
   ]
  },
  {
   "cell_type": "markdown",
   "id": "5f159f8a",
   "metadata": {},
   "source": [
    "# GridSearch"
   ]
  },
  {
   "cell_type": "code",
   "execution_count": null,
   "id": "5ca43372",
   "metadata": {},
   "outputs": [],
   "source": [
    "model_selection_grid_DT = [\n",
    "    {'criterion': ['gini', 'entropy'],\n",
    "     'max_leaf_nodes': [None, 2, 5, 10],\n",
    "     'max_features': [None, 'sqrt', 'log2'],\n",
    "    'n_estimators': [51, 101, 251, 500]}\n",
    "]"
   ]
  },
  {
   "cell_type": "markdown",
   "id": "2a5bc1d2",
   "metadata": {},
   "source": [
    "# Train using multivariate feature selection after mannwhitney on fold"
   ]
  },
  {
   "cell_type": "code",
   "execution_count": null,
   "id": "bfb36aa4",
   "metadata": {},
   "outputs": [],
   "source": [
    "def train_using_multivariate_on_fold(X,\n",
    "                             label,\n",
    "                             list_selected_feature_from_mannwhiney, \n",
    "                             num_external_fold,\n",
    "                             tecnique_feature_selection,\n",
    "                             path,\n",
    "                             type_dataset,\n",
    "                             type_feature_selection=None):\n",
    "    _, ax = plt.subplots(figsize=(10, 10))\n",
    "    average_precision_scores =[]\n",
    "    y_score_concatenated = []\n",
    "    y_test_fold_concatenated = []\n",
    "    result_dict = {}\n",
    "    list_selected_feature = {}\n",
    "    iterator = 0\n",
    "    result_dict[type_dataset] = {}\n",
    "    result_dict[type_dataset][tecnique_feature_selection] = {}\n",
    "    \n",
    "    X_numpy = X.values\n",
    "    label_numpy = label['x'].values\n",
    "    \n",
    "    external_fold = StratifiedKFold(n_splits=num_external_fold, shuffle=True, random_state=1)\n",
    "    \n",
    "    for (train_index, test_index), selected_features in zip(tqdm(external_fold.split(X, label_numpy), desc=f\"Running fold \", dynamic_ncols=True, leave=False), list_selected_feature_from_mannwhiney.values()):\n",
    "        \n",
    "        X_train_fold, X_test_fold = X_numpy[train_index], X_numpy[test_index]\n",
    "        y_train_fold, y_test_fold = label_numpy[train_index], label_numpy[test_index]\n",
    "        \n",
    "        df_X_train = pd.DataFrame(data=X_train_fold, columns=X.columns)\n",
    "        df_X_test = pd.DataFrame(data=X_test_fold, columns=X.columns)\n",
    "        df_y_train = pd.DataFrame(data=y_train_fold, columns=label.columns)\n",
    "        \n",
    "        #TAKE FEATURES FROM MANNWHINEY\n",
    "        X_train_selected_feature = df_X_train[selected_features]\n",
    "        X_test_selected_feature = df_X_test[selected_features]\n",
    "       \n",
    "        if type_feature_selection == \"mrmr\":\n",
    "            selected_features = execute_mrmr(X_train_selected_feature, 100)\n",
    "        elif type_feature_selection == 'boruta':\n",
    "            selected_features, discarded_feature =  execute_boruta_feature_selection(X_train_selected_feature, df_y_train, 5)\n",
    "        \n",
    "        list_selected_feature[iterator] = selected_features\n",
    "        \n",
    "        \n",
    "        X_train_selected_feature = X_train_selected_feature[selected_features]\n",
    "        X_test_selected_feature = X_test_selected_feature[selected_features]\n",
    "        \n",
    "        \n",
    "        clf = GridSearchCV(estimator=RandomForestClassifier(),\n",
    "                   scoring='average_precision',\n",
    "                   param_grid=model_selection_grid_DT, \n",
    "                   cv=2, \n",
    "                   n_jobs=-1)\n",
    "        clf.fit(X_train_selected_feature, y_train_fold)\n",
    "        \n",
    "        # Get the predicited probability of testing data\n",
    "        y_score = clf.predict_proba(X_test_selected_feature)[:, 1]\n",
    "        \n",
    "        avg_precision_score = average_precision_score(y_test_fold, y_score)\n",
    "        average_precision_scores.append(avg_precision_score)\n",
    "        \n",
    "        #concatenation of result for external AUPRC\n",
    "        y_score_concatenated = np.concatenate((y_score_concatenated, y_score), axis=None)\n",
    "        y_test_fold_concatenated = np.concatenate((y_test_fold_concatenated, y_test_fold), axis=None)\n",
    "               \n",
    "        PrecisionRecallDisplay.from_predictions(y_test_fold, y_score, ax=ax,name=f'Result on {iterator} fold:')\n",
    "\n",
    "        plt.title('Random_Forest internal')\n",
    "        ax.legend(title='AUPRC')\n",
    "        \n",
    "        plt.savefig('Result/'+path+tecnique_feature_selection+'/'+type_dataset+'_AUPRC_Internal.pdf')\n",
    "        \n",
    "        iterator = iterator + 1\n",
    "        \n",
    "    internal_average_precision_score = np.mean(average_precision_scores)\n",
    "    \n",
    "    external_average_precision_score = average_precision_score(y_test_fold_concatenated, y_score_concatenated)\n",
    "\n",
    "    #plot precision recall curve\n",
    "    PrecisionRecallDisplay.from_predictions(y_test_fold_concatenated, y_score_concatenated,name='Concat of predictions')\n",
    "    plt.title('Random_Forest external')\n",
    "    plt.legend(title='AUPRC')\n",
    "    \n",
    "    result_dict[type_dataset][tecnique_feature_selection]['internal'] = '{0:.4f}'.format(internal_average_precision_score)\n",
    "    result_dict[type_dataset][tecnique_feature_selection]['external'] = '{0:.4f}'.format(external_average_precision_score)\n",
    "    result_dict[type_dataset][tecnique_feature_selection]['best_estimator'] = str(clf.best_estimator_)\n",
    "    result_dict[type_dataset][tecnique_feature_selection]['feature_used'] = str(list_selected_feature)\n",
    "    \n",
    "    plt.savefig('Result/'+path+tecnique_feature_selection+type_dataset+'_'+'AUPRC_External.pdf')\n",
    "    \n",
    "    with open('Result/'+path+tecnique_feature_selection+'/'+type_dataset+'.json', 'w', encoding='utf-8') as fp:\n",
    "        json.dump(result_dict[type_dataset], fp, ensure_ascii=False, indent=4)\n",
    "    \n",
    "    return list_selected_feature"
   ]
  },
  {
   "cell_type": "markdown",
   "id": "2c73126d",
   "metadata": {},
   "source": [
    "# Train proteins"
   ]
  },
  {
   "cell_type": "code",
   "execution_count": null,
   "id": "2f8bf842",
   "metadata": {},
   "outputs": [],
   "source": [
    "!mkdir 'Result/Experiments_using_R_Function_mannwhtiney_and_multivariate_feature_selection_on_fold'\n",
    "!mkdir 'Result/Experiments_using_R_Function_mannwhtiney_and_multivariate_feature_selection_on_fold/r_function_with_mannwhitney'\n",
    "list_selected_feature_proteins = train_using_mann_whitney_on_fold(\n",
    "    df_proteins_removed, label, 10, 'proteins', 'r_function_with_mannwhitney',\n",
    "    'Experiments_using_R_Function_mannwhtiney_and_multivariate_feature_selection_on_fold/')"
   ]
  },
  {
   "cell_type": "code",
   "execution_count": null,
   "id": "02630c6d",
   "metadata": {},
   "outputs": [],
   "source": [
    "!mkdir 'Result/Experiments_using_R_Function_mannwhtiney_and_multivariate_feature_selection_on_fold/r_function_with_mannwhitney_mrmr'\n",
    "train_using_multivariate_on_fold(df_proteins_removed, label, list_selected_feature_proteins, 10,\n",
    "                         'r_function_with_mannwhitney_mrmr/', \n",
    "                         'Experiments_using_R_Function_mannwhtiney_and_multivariate_feature_selection_on_fold/',\n",
    "                         'proteins',\n",
    "                         'mrmr')"
   ]
  },
  {
   "cell_type": "code",
   "execution_count": null,
   "id": "4f991400",
   "metadata": {},
   "outputs": [],
   "source": [
    "!mkdir 'Result/Experiments_using_R_Function_mannwhtiney_and_multivariate_feature_selection_on_fold/r_function_with_mannwhitney_boruta'\n",
    "train_using_multivariate_on_fold(df_proteins_removed, label, list_selected_feature_proteins, 10,\n",
    "                         'r_function_with_mannwhitney_boruta/', \n",
    "                         'Experiments_using_R_Function_mannwhtiney_and_multivariate_feature_selection_on_fold/',\n",
    "                         'proteins',\n",
    "                         'boruta')"
   ]
  },
  {
   "cell_type": "markdown",
   "id": "39ca9469",
   "metadata": {},
   "source": [
    "# Train miRNA "
   ]
  },
  {
   "cell_type": "code",
   "execution_count": null,
   "id": "4d55e79e",
   "metadata": {},
   "outputs": [],
   "source": [
    "list_selected_feature_mirna = train_using_mann_whitney_on_fold(\n",
    "    df_mirna_removed, label, 10, 'mirna', 'r_function_with_mannwhitney',\n",
    "    'Experiments_using_R_Function_mannwhtiney_and_multivariate_feature_selection_on_fold/')"
   ]
  },
  {
   "cell_type": "code",
   "execution_count": null,
   "id": "ef0e9548",
   "metadata": {},
   "outputs": [],
   "source": [
    "train_using_multivariate_on_fold(df_mirna_removed, label, list_selected_feature_mirna, 10,\n",
    "                         'r_function_with_mannwhitney_mrmr/', \n",
    "                         'Experiments_using_R_Function_mannwhtiney_and_multivariate_feature_selection_on_fold/',\n",
    "                         'miRNA',\n",
    "                         'mrmr')"
   ]
  },
  {
   "cell_type": "code",
   "execution_count": null,
   "id": "3c9f1b72",
   "metadata": {},
   "outputs": [],
   "source": [
    "train_using_multivariate_on_fold(df_mirna_removed, label, list_selected_feature_mirna, 10,\n",
    "                         'r_function_with_mannwhitney_boruta/', \n",
    "                         'Experiments_using_R_Function_mannwhtiney_and_multivariate_feature_selection_on_fold/',\n",
    "                         'miRNA',\n",
    "                         'boruta')"
   ]
  },
  {
   "cell_type": "markdown",
   "id": "918149b4",
   "metadata": {},
   "source": [
    "# Train mrna"
   ]
  },
  {
   "cell_type": "code",
   "execution_count": null,
   "id": "714479b4",
   "metadata": {},
   "outputs": [],
   "source": [
    "list_selected_feature_mrna = train_using_mann_whitney_on_fold(\n",
    "    df_mrna_removed, label, 10, 'mRNA', 'r_function_with_mannwhitney',\n",
    "    'Experiments_using_R_Function_mannwhtiney_and_multivariate_feature_selection_on_fold/')"
   ]
  },
  {
   "cell_type": "code",
   "execution_count": null,
   "id": "8390f1f0",
   "metadata": {},
   "outputs": [],
   "source": [
    "train_using_multivariate_on_fold(df_mrna_removed, label, list_selected_feature_mrna, 10,\n",
    "                         'r_function_with_mannwhitney_mrmr/', \n",
    "                         'Experiments_using_R_Function_mannwhtiney_and_multivariate_feature_selection_on_fold/',\n",
    "                         'mRNA',\n",
    "                         'mrmr')"
   ]
  },
  {
   "cell_type": "code",
   "execution_count": null,
   "id": "c84d8537",
   "metadata": {},
   "outputs": [],
   "source": [
    "train_using_multivariate_on_fold(df_mrna_removed, label, list_selected_feature_mrna, 10,\n",
    "                         'r_function_with_mannwhitney_boruta/', \n",
    "                         'Experiments_using_R_Function_mannwhtiney_and_multivariate_feature_selection_on_fold/',\n",
    "                         'mRNA',\n",
    "                         'boruta')"
   ]
  },
  {
   "cell_type": "markdown",
   "id": "e88cec73",
   "metadata": {},
   "source": [
    "# Train cnv"
   ]
  },
  {
   "cell_type": "code",
   "execution_count": null,
   "id": "80860e65",
   "metadata": {},
   "outputs": [],
   "source": [
    "list_selected_feature_cnv = train_using_mann_whitney_on_fold(\n",
    "    df_cnv_removed, label, 10, 'cnv', 'r_function_with_mannwhitney',\n",
    "    'Experiments_using_R_Function_mannwhtiney_and_multivariate_feature_selection_on_fold/')"
   ]
  },
  {
   "cell_type": "code",
   "execution_count": null,
   "id": "09e064ca",
   "metadata": {},
   "outputs": [],
   "source": [
    "train_using_multivariate_on_fold(df_cnv_removed, label, list_selected_feature_cnv, 10,\n",
    "                         'r_function_with_mannwhitney_mrmr/', \n",
    "                         'Experiments_using_R_Function_mannwhtiney_and_multivariate_feature_selection_on_fold/',\n",
    "                         'cnv',\n",
    "                         'mrmr')"
   ]
  },
  {
   "cell_type": "code",
   "execution_count": null,
   "id": "2773d919",
   "metadata": {},
   "outputs": [],
   "source": [
    "train_using_multivariate_on_fold(df_cnv_removed, label, list_selected_feature_cnv, 10,\n",
    "                         'r_function_with_mannwhitney_boruta/', \n",
    "                         'Experiments_using_R_Function_mannwhtiney_and_multivariate_feature_selection_on_fold/',\n",
    "                         'cnv',\n",
    "                         'boruta')"
   ]
  },
  {
   "cell_type": "markdown",
   "id": "40589090",
   "metadata": {},
   "source": [
    "# Train whole dataset"
   ]
  },
  {
   "cell_type": "code",
   "execution_count": null,
   "id": "e4139c0b",
   "metadata": {},
   "outputs": [],
   "source": [
    "list_selected_feature_concat = train_using_mann_whitney_on_fold(\n",
    "    df_dataset_whole_dataset_removed, label, 10, 'whole_dataset',\n",
    "    'r_function_with_mannwhitney', 'Experiments_using_R_Function_mannwhtiney_and_multivariate_feature_selection_on_fold/')"
   ]
  },
  {
   "cell_type": "code",
   "execution_count": null,
   "id": "1d128ae3",
   "metadata": {},
   "outputs": [],
   "source": [
    "train_using_multivariate_on_fold(df_dataset_whole_dataset_removed, label, list_selected_feature_concat, 10,\n",
    "                         'r_function_with_mannwhitney_mrmr/', \n",
    "                         'Experiments_using_R_Function_mannwhtiney_and_multivariate_feature_selection_on_fold/',\n",
    "                         'whole_dataset',\n",
    "                         'mrmr')"
   ]
  },
  {
   "cell_type": "code",
   "execution_count": null,
   "id": "cef35b13",
   "metadata": {},
   "outputs": [],
   "source": [
    "train_using_multivariate_on_fold(df_dataset_whole_dataset_removed, label, list_selected_feature_concat, 10,\n",
    "                         'r_function_with_mannwhitney_boruta/', \n",
    "                         'Experiments_using_R_Function_mannwhtiney_and_multivariate_feature_selection_on_fold/',\n",
    "                         'whole_dataset',\n",
    "                         'boruta')"
   ]
  },
  {
   "cell_type": "markdown",
   "id": "36860b18",
   "metadata": {},
   "source": [
    "# Feature selection on whole dataset before train with: 1) mannwthineyu, 2) mannwthineyu + boruta and mannwthineyu + mrmr "
   ]
  },
  {
   "cell_type": "markdown",
   "id": "c181068d",
   "metadata": {},
   "source": [
    "# Prepare data mannwhitney"
   ]
  },
  {
   "cell_type": "code",
   "execution_count": null,
   "id": "95fc9d5b",
   "metadata": {},
   "outputs": [],
   "source": [
    "proteins_selected_features = mann_whitney_features_selection(df_proteins_removed, label, 0.05)\n",
    "proteins_mannwhitney = df_proteins_removed[proteins_selected_features]"
   ]
  },
  {
   "cell_type": "code",
   "execution_count": null,
   "id": "33d96e60",
   "metadata": {},
   "outputs": [],
   "source": [
    "cnv_selected_features = mann_whitney_features_selection(df_cnv_removed, label, 0.05)\n",
    "cnv_mannwhitney = df_cnv_removed[cnv_selected_features]"
   ]
  },
  {
   "cell_type": "code",
   "execution_count": null,
   "id": "d396efdf",
   "metadata": {},
   "outputs": [],
   "source": [
    "mirna_selected_features = mann_whitney_features_selection(df_mirna_removed, label, 0.05)\n",
    "mirna_mannwhitney = df_mirna_removed[mirna_selected_features]"
   ]
  },
  {
   "cell_type": "code",
   "execution_count": null,
   "id": "673996a4",
   "metadata": {},
   "outputs": [],
   "source": [
    "mrna_selected_features = mann_whitney_features_selection(df_mrna_removed, label, 0.05)\n",
    "mrna_mannwhitney = df_mrna_removed[mrna_selected_features]"
   ]
  },
  {
   "cell_type": "code",
   "execution_count": null,
   "id": "a90e8611",
   "metadata": {},
   "outputs": [],
   "source": [
    "whole_dataset_selected_features = mann_whitney_features_selection(df_dataset_whole_dataset_removed, label, 0.05)\n",
    "whole_mannwhitney = df_dataset_whole_dataset_removed[whole_dataset_selected_features]"
   ]
  },
  {
   "cell_type": "code",
   "execution_count": null,
   "id": "afb78ae3",
   "metadata": {},
   "outputs": [],
   "source": [
    "dataset_proteins_mirna_selected_features = mann_whitney_features_selection(\n",
    "    df_dataset_proteins_mirna_removed,label, 0.05)\n",
    "\n",
    "\n",
    "dataset_proteins_mirna_mannwhitney = df_dataset_proteins_mirna_removed[dataset_proteins_mirna_selected_features]"
   ]
  },
  {
   "cell_type": "code",
   "execution_count": null,
   "id": "f5fb11b8",
   "metadata": {},
   "outputs": [],
   "source": [
    "dataset_proteins_mirna_mrna_selected_features = mann_whitney_features_selection(\n",
    "    df_dataset_proteins_mirna_mrna_removed,label, 0.05)\n",
    "\n",
    "dataset_proteins_mirna_mrna_mannwhitney = df_dataset_proteins_mirna_mrna_removed[dataset_proteins_mirna_mrna_selected_features]"
   ]
  },
  {
   "cell_type": "markdown",
   "id": "61b25fd4",
   "metadata": {},
   "source": [
    "# Prepare data Boruta"
   ]
  },
  {
   "cell_type": "code",
   "execution_count": null,
   "id": "f6be1be8",
   "metadata": {},
   "outputs": [],
   "source": [
    "proteins_selected_features_boruta, discarded_feature =  execute_boruta_feature_selection(proteins_mannwhitney, label, 5)"
   ]
  },
  {
   "cell_type": "code",
   "execution_count": null,
   "id": "c0b753ee",
   "metadata": {},
   "outputs": [],
   "source": [
    "cnv_selected_features_boruta, discarded_feature =  execute_boruta_feature_selection(cnv_mannwhitney, label, 5)"
   ]
  },
  {
   "cell_type": "code",
   "execution_count": null,
   "id": "bde3ada7",
   "metadata": {},
   "outputs": [],
   "source": [
    "mirna_selected_features_boruta, discarded_feature =  execute_boruta_feature_selection(mirna_mannwhitney, label, 5)"
   ]
  },
  {
   "cell_type": "code",
   "execution_count": null,
   "id": "d243e0e3",
   "metadata": {},
   "outputs": [],
   "source": [
    "mrna_selected_features_boruta, discarded_feature =  execute_boruta_feature_selection(mrna_mannwhitney, label, 5)"
   ]
  },
  {
   "cell_type": "code",
   "execution_count": null,
   "id": "15d13565",
   "metadata": {},
   "outputs": [],
   "source": [
    "whole_dataset_selected_features_boruta, discarded_feature =  execute_boruta_feature_selection(whole_mannwhitney, label, 5)"
   ]
  },
  {
   "cell_type": "code",
   "execution_count": null,
   "id": "2ff9f891",
   "metadata": {},
   "outputs": [],
   "source": [
    "dataset_proteins_mirna_selected_features_boruta, discarded_feature =  execute_boruta_feature_selection(dataset_proteins_mirna_mannwhitney, label, 5)"
   ]
  },
  {
   "cell_type": "code",
   "execution_count": null,
   "id": "754497e6",
   "metadata": {},
   "outputs": [],
   "source": [
    "dataset_proteins_mirna_mrna_selected_features_boruta, discarded_feature =  execute_boruta_feature_selection(dataset_proteins_mirna_mrna_mannwhitney, label, 5)"
   ]
  },
  {
   "cell_type": "markdown",
   "id": "f2e739bd",
   "metadata": {},
   "source": [
    "# Prepare data mrmr"
   ]
  },
  {
   "cell_type": "code",
   "execution_count": null,
   "id": "c2392d46",
   "metadata": {},
   "outputs": [],
   "source": [
    "proteins_selected_features_mrmr = execute_mrmr(proteins_mannwhitney, 100)"
   ]
  },
  {
   "cell_type": "code",
   "execution_count": null,
   "id": "613c61b9",
   "metadata": {},
   "outputs": [],
   "source": [
    "cnv_selected_features_mrmr = execute_mrmr(cnv_mannwhitney, 100)"
   ]
  },
  {
   "cell_type": "code",
   "execution_count": null,
   "id": "57235ca2",
   "metadata": {},
   "outputs": [],
   "source": [
    "mirna_selected_features_mrmr = execute_mrmr(mirna_mannwhitney, 100)"
   ]
  },
  {
   "cell_type": "code",
   "execution_count": null,
   "id": "2a37781a",
   "metadata": {},
   "outputs": [],
   "source": [
    "mrna_selected_features_mrmr = execute_mrmr(mrna_mannwhitney, 100)"
   ]
  },
  {
   "cell_type": "code",
   "execution_count": null,
   "id": "90911d40",
   "metadata": {},
   "outputs": [],
   "source": [
    "whole_dataset_selected_features_mrmr = execute_mrmr(whole_mannwhitney, 100)"
   ]
  },
  {
   "cell_type": "code",
   "execution_count": null,
   "id": "b9d979f9",
   "metadata": {},
   "outputs": [],
   "source": [
    "dataset_proteins_mirna_selected_features_mrmr = execute_mrmr(dataset_proteins_mirna_mannwhitney, 100)"
   ]
  },
  {
   "cell_type": "code",
   "execution_count": null,
   "id": "44d42112",
   "metadata": {},
   "outputs": [],
   "source": [
    "dataset_proteins_mirna_mrna_selected_features_mrmr = execute_mrmr(dataset_proteins_mirna_mrna_mannwhitney, 100)"
   ]
  },
  {
   "cell_type": "markdown",
   "id": "75844d85",
   "metadata": {},
   "source": [
    "# Training function on whole dataset"
   ]
  },
  {
   "cell_type": "code",
   "execution_count": null,
   "id": "57e5104a",
   "metadata": {},
   "outputs": [],
   "source": [
    "def train_using_mannwhitney_and_boruta_or_mrmr_whole_dataset(X, label, num_external_fold,\n",
    "                                          type_dataset, tecnique_feature_selection,\n",
    "                                          path):\n",
    "    \n",
    "    \"\"\"\n",
    "    X : data using number of features of intrinsic dimensionality and appliying umap features extraction.\n",
    "    \"\"\"\n",
    "    \n",
    "    _, ax = plt.subplots(figsize=(10, 10))\n",
    "    average_precision_scores =[]\n",
    "    y_score_concatenated = []\n",
    "    y_test_fold_concatenated = []\n",
    "    result_dict = {}\n",
    "    result_dict[type_dataset] = {}\n",
    "    result_dict[type_dataset][tecnique_feature_selection] = {}   \n",
    "    iterator = 1\n",
    "    \n",
    "    label_numpy = label['x'].to_numpy()\n",
    "    \n",
    "    external_fold = StratifiedKFold(n_splits=num_external_fold, shuffle=True, random_state=1)\n",
    "    \n",
    "    for train_index, test_index in tqdm(external_fold.split(X, label_numpy), desc=f\"Running fold \", dynamic_ncols=True, leave=False):\n",
    "        \n",
    "        X_train_fold, X_test_fold = X[train_index], X[test_index]\n",
    "        y_train_fold, y_test_fold = label_numpy[train_index], label_numpy[test_index]\n",
    "        \n",
    "        clf = GridSearchCV(estimator=RandomForestClassifier(),\n",
    "                   scoring='average_precision',\n",
    "                   param_grid=model_selection_grid_DT, \n",
    "                   cv=2, \n",
    "                   n_jobs=-1)\n",
    "        clf.fit(X_train_fold, y_train_fold)\n",
    "        \n",
    "        # Get the predicited probability of testing data\n",
    "        y_score = clf.predict_proba(X_test_fold)[:, 1]\n",
    "        \n",
    "        avg_precision_score = average_precision_score(y_test_fold, y_score)\n",
    "        average_precision_scores.append(avg_precision_score)\n",
    "        \n",
    "        #concatenation of result for external AUPRC\n",
    "        y_score_concatenated = np.concatenate((y_score_concatenated, y_score), axis=None)\n",
    "        y_test_fold_concatenated = np.concatenate((y_test_fold_concatenated, y_test_fold), axis=None)\n",
    "               \n",
    "        PrecisionRecallDisplay.from_predictions(y_test_fold, y_score, ax=ax,name=f'Result on {iterator} fold:')\n",
    "\n",
    "        plt.title('Random_Forest internal')\n",
    "        ax.legend(title='AUPRC')\n",
    "        \n",
    "        plt.savefig('Result/'+path+tecnique_feature_selection+'/'+type_dataset+'_AUPRC_Internal.pdf')\n",
    "        \n",
    "        iterator = iterator + 1\n",
    "        \n",
    "    internal_average_precision_score = np.mean(average_precision_scores)\n",
    "    \n",
    "    external_average_precision_score = average_precision_score(y_test_fold_concatenated, y_score_concatenated)\n",
    "\n",
    "    #plot precision recall curve\n",
    "    PrecisionRecallDisplay.from_predictions(y_test_fold_concatenated, y_score_concatenated,name='Concat of predictions')\n",
    "    plt.title('Random_Forest external')\n",
    "    plt.legend(title='AUPRC')\n",
    "    \n",
    "    result_dict[type_dataset][tecnique_feature_selection]['internal'] = '{0:.4f}'.format(internal_average_precision_score)\n",
    "    result_dict[type_dataset][tecnique_feature_selection]['external'] = '{0:.4f}'.format(external_average_precision_score)\n",
    "    result_dict[type_dataset][tecnique_feature_selection]['best_estimator'] = str(clf.best_estimator_)\n",
    "    \n",
    "    plt.savefig('Result/'+path+tecnique_feature_selection+'/'+type_dataset+'_'+'AUPRC_External.pdf')\n",
    "    \n",
    "    with open('Result/'+path+tecnique_feature_selection+'/'+type_dataset+'.json', 'w', encoding='utf-8') as fp:\n",
    "        json.dump(result_dict[type_dataset], fp, ensure_ascii=False, indent=4)\n",
    "    \n",
    "    return '{0:.4f}'.format(internal_average_precision_score), '{0:.4f}'.format(external_average_precision_score), clf.best_estimator_"
   ]
  },
  {
   "cell_type": "markdown",
   "id": "29333b34",
   "metadata": {},
   "source": [
    "# Proteins only with mannwhitney feature selection on whole dataset"
   ]
  },
  {
   "cell_type": "code",
   "execution_count": null,
   "id": "fa222fdb",
   "metadata": {},
   "outputs": [],
   "source": [
    "!mkdir 'Result/Experiments_using_R_Function_mannwhitney_and_multivariate_feature_selection_whole_dataset'\n",
    "!mkdir 'Result/Experiments_using_R_Function_mannwhitney_and_multivariate_feature_selection_whole_dataset/r_function_mannwhtiney'\n",
    "train_using_mannwhitney_and_boruta_or_mrmr_whole_dataset(\n",
    "    proteins_mannwhitney.to_numpy(), \n",
    "    label, 10, 'proteins', 'r_function_mannwhtiney', \n",
    "    'Experiments_using_R_Function_mannwhitney_and_multivariate_feature_selection_whole_dataset/')"
   ]
  },
  {
   "cell_type": "markdown",
   "id": "2c625ff9",
   "metadata": {},
   "source": [
    "# Proteins mannwhitney + mrmr on whole dataset"
   ]
  },
  {
   "cell_type": "code",
   "execution_count": null,
   "id": "766c9663",
   "metadata": {},
   "outputs": [],
   "source": [
    "!mkdir 'Result/Experiments_using_R_Function_mannwhitney_and_multivariate_feature_selection_whole_dataset/r_function_with_mannwhitney_mrmr'\n",
    "train_using_mannwhitney_and_boruta_or_mrmr_whole_dataset(\n",
    "    proteins_selected_features_mrmr.to_numpy(), \n",
    "    label, \n",
    "    10, \n",
    "    'proteins', \n",
    "    'r_function_with_mannwhitney_mrmr', \n",
    "    'Experiments_using_R_Function_mannwhitney_and_multivariate_feature_selection_whole_dataset/')"
   ]
  },
  {
   "cell_type": "markdown",
   "id": "e9835865",
   "metadata": {},
   "source": [
    "# Proteins mannwhitney + boruta on whole dataset"
   ]
  },
  {
   "cell_type": "code",
   "execution_count": null,
   "id": "2603eb7e",
   "metadata": {},
   "outputs": [],
   "source": [
    "!mkdir 'Result/Experiments_using_R_Function_mannwhitney_and_multivariate_feature_selection_whole_dataset/r_function_with_mannwhitney_boruta'\n",
    "train_using_mannwhitney_and_boruta_or_mrmr_whole_dataset(\n",
    "    proteins_selected_features_boruta.to_numpy(), \n",
    "    label, \n",
    "    10, \n",
    "    'proteins', \n",
    "    'r_function_with_mannwhitney_boruta', \n",
    "    'Experiments_using_R_Function_mannwhitney_and_multivariate_feature_selection_whole_dataset/')"
   ]
  },
  {
   "cell_type": "markdown",
   "id": "bd372b79",
   "metadata": {},
   "source": [
    "# mRNA only mannwhitney on whole dataset"
   ]
  },
  {
   "cell_type": "code",
   "execution_count": null,
   "id": "8cf8148e",
   "metadata": {},
   "outputs": [],
   "source": [
    "train_using_mannwhitney_and_boruta_or_mrmr_whole_dataset(\n",
    "    mrna_mannwhitney.to_numpy(), \n",
    "    label, 10, 'mrna', 'r_function_mannwhtiney', \n",
    "    'Experiments_using_R_Function_mannwhitney_and_multivariate_feature_selection_whole_dataset/')"
   ]
  },
  {
   "cell_type": "markdown",
   "id": "f69c4d87",
   "metadata": {},
   "source": [
    "# mRNA mannwthiney + mrmr on whole dataset"
   ]
  },
  {
   "cell_type": "code",
   "execution_count": null,
   "id": "c8973f6b",
   "metadata": {},
   "outputs": [],
   "source": [
    "train_using_mannwhitney_and_boruta_or_mrmr_whole_dataset(\n",
    "    mrna_selected_features_mrmr.to_numpy(), \n",
    "    label, \n",
    "    10, \n",
    "    'mrna', \n",
    "    'r_function_with_mannwhitney_mrmr', \n",
    "    'Experiments_using_R_Function_mannwhitney_and_multivariate_feature_selection_whole_dataset/')"
   ]
  },
  {
   "cell_type": "markdown",
   "id": "c3c72ea8",
   "metadata": {},
   "source": [
    "# mRNA mannwhitney + boruta on whole dataset"
   ]
  },
  {
   "cell_type": "code",
   "execution_count": null,
   "id": "f6ad9218",
   "metadata": {},
   "outputs": [],
   "source": [
    "train_using_mannwhitney_and_boruta_or_mrmr_whole_dataset(\n",
    "    mrna_selected_features_boruta.to_numpy(), \n",
    "    label, \n",
    "    10, \n",
    "    'mrna', \n",
    "    'r_function_with_mannwhitney_mrmr', \n",
    "    'Experiments_using_R_Function_mannwhitney_and_multivariate_feature_selection_whole_dataset/')"
   ]
  },
  {
   "cell_type": "markdown",
   "id": "ef28e203",
   "metadata": {},
   "source": [
    "# miRNA only mannwhitney on whole dataset"
   ]
  },
  {
   "cell_type": "code",
   "execution_count": null,
   "id": "d589363f",
   "metadata": {},
   "outputs": [],
   "source": [
    "train_using_mannwhitney_and_boruta_or_mrmr_whole_dataset(\n",
    "    mirna_mannwhitney.to_numpy(), \n",
    "    label, 10, 'mirna', 'r_function_mannwhtiney', \n",
    "    'Experiments_using_R_Function_mannwhitney_and_multivariate_feature_selection_whole_dataset/')"
   ]
  },
  {
   "cell_type": "markdown",
   "id": "0e8ac5cc",
   "metadata": {},
   "source": [
    "# miRNA mannwthiney + mrmr on whole dataset"
   ]
  },
  {
   "cell_type": "code",
   "execution_count": null,
   "id": "8301b596",
   "metadata": {},
   "outputs": [],
   "source": [
    "train_using_mannwhitney_and_boruta_or_mrmr_whole_dataset(\n",
    "    mirna_selected_features_mrmr.to_numpy(), \n",
    "    label, \n",
    "    10, \n",
    "    'mirna', \n",
    "    'r_function_with_mannwhitney_mrmr', \n",
    "    'Experiments_using_R_Function_mannwhitney_and_multivariate_feature_selection_whole_dataset/')"
   ]
  },
  {
   "cell_type": "markdown",
   "id": "ae6dd39b",
   "metadata": {},
   "source": [
    "# miRNA mannwhitney + boruta on whole dataset"
   ]
  },
  {
   "cell_type": "code",
   "execution_count": null,
   "id": "829c0923",
   "metadata": {},
   "outputs": [],
   "source": [
    "train_using_mannwhitney_and_boruta_or_mrmr_whole_dataset(\n",
    "    mirna_selected_features_boruta.to_numpy(), \n",
    "    label, \n",
    "    10, \n",
    "    'mirna', \n",
    "    'r_function_with_mannwhitney_mrmr', \n",
    "    'Experiments_using_R_Function_mannwhitney_and_multivariate_feature_selection_whole_dataset/')"
   ]
  },
  {
   "cell_type": "markdown",
   "id": "ddf74568",
   "metadata": {},
   "source": [
    "# cnv only mannwhitney on whole dataset"
   ]
  },
  {
   "cell_type": "code",
   "execution_count": null,
   "id": "3ea6cf81",
   "metadata": {},
   "outputs": [],
   "source": [
    "train_using_mannwhitney_and_boruta_or_mrmr_whole_dataset(\n",
    "    cnv_mannwhitney.to_numpy(), \n",
    "    label, 10, 'cnv', 'r_function_mannwhtiney', \n",
    "    'Experiments_using_R_Function_mannwhitney_and_multivariate_feature_selection_whole_dataset/')"
   ]
  },
  {
   "cell_type": "markdown",
   "id": "ef1bbab0",
   "metadata": {},
   "source": [
    "# cnv mannwthiney + mrmr on whole dataset"
   ]
  },
  {
   "cell_type": "code",
   "execution_count": null,
   "id": "a356892d",
   "metadata": {},
   "outputs": [],
   "source": [
    "train_using_mannwhitney_and_boruta_or_mrmr_whole_dataset(\n",
    "    cnv_selected_features_mrmr.to_numpy(), \n",
    "    label, \n",
    "    10, \n",
    "    'cnv', \n",
    "    'r_function_with_mannwhitney_mrmr', \n",
    "    'Experiments_using_R_Function_mannwhitney_and_multivariate_feature_selection_whole_dataset/')"
   ]
  },
  {
   "cell_type": "markdown",
   "id": "7df2fa3e",
   "metadata": {},
   "source": [
    "# cnv mannwthiney + boruta on whole dataset"
   ]
  },
  {
   "cell_type": "code",
   "execution_count": null,
   "id": "2d47efcf",
   "metadata": {},
   "outputs": [],
   "source": [
    "train_using_mannwhitney_and_boruta_or_mrmr_whole_dataset(\n",
    "    cnv_selected_features_boruta.to_numpy(), \n",
    "    label, \n",
    "    10, \n",
    "    'cnv', \n",
    "    'r_function_with_mannwhitney_mrmr', \n",
    "    'Experiments_using_R_Function_mannwhitney_and_multivariate_feature_selection_whole_dataset/')"
   ]
  },
  {
   "cell_type": "markdown",
   "id": "5609dcc9",
   "metadata": {},
   "source": [
    "# Whole dataset (cnv+proteins+mirna+mrna) only mannwthiney on whole dataset"
   ]
  },
  {
   "cell_type": "code",
   "execution_count": null,
   "id": "0fefd4ea",
   "metadata": {},
   "outputs": [],
   "source": [
    "train_using_mannwhitney_and_boruta_or_mrmr_whole_dataset(\n",
    "    whole_mannwhitney.to_numpy(), \n",
    "    label, 10, 'cnv', 'r_function_mannwhtiney', \n",
    "    'Experiments_using_R_Function_mannwhitney_and_multivariate_feature_selection_whole_dataset/')"
   ]
  },
  {
   "cell_type": "markdown",
   "id": "f5079a71",
   "metadata": {},
   "source": [
    "# Whole dataset (cnv+proteins+mirna+mrna) mannwthiney + mrmr on whole dataset"
   ]
  },
  {
   "cell_type": "code",
   "execution_count": null,
   "id": "44943109",
   "metadata": {},
   "outputs": [],
   "source": [
    "train_using_mannwhitney_and_boruta_or_mrmr_whole_dataset(\n",
    "    whole_dataset_selected_features_mrmr.to_numpy(), \n",
    "    label, \n",
    "    10, \n",
    "    'cnv', \n",
    "    'r_function_with_mannwhitney_mrmr', \n",
    "    'Experiments_using_R_Function_mannwhitney_and_multivariate_feature_selection_whole_dataset/')"
   ]
  },
  {
   "cell_type": "markdown",
   "id": "8dc12ef8",
   "metadata": {},
   "source": [
    "# Whole dataset (cnv+proteins+mirna+mrna) mannwthiney + boruta on whole dataset"
   ]
  },
  {
   "cell_type": "code",
   "execution_count": null,
   "id": "a0cef7e2",
   "metadata": {},
   "outputs": [],
   "source": [
    "train_using_mannwhitney_and_boruta_or_mrmr_whole_dataset(\n",
    "    whole_dataset_selected_features_boruta.to_numpy(), \n",
    "    label, \n",
    "    10, \n",
    "    'cnv', \n",
    "    'r_function_with_mannwhitney_mrmr', \n",
    "    'Experiments_using_R_Function_mannwhitney_and_multivariate_feature_selection_whole_dataset/')"
   ]
  },
  {
   "cell_type": "code",
   "execution_count": null,
   "id": "8958c9c7",
   "metadata": {},
   "outputs": [],
   "source": []
  },
  {
   "cell_type": "code",
   "execution_count": null,
   "id": "9751dfe1",
   "metadata": {},
   "outputs": [],
   "source": []
  },
  {
   "cell_type": "code",
   "execution_count": null,
   "id": "66573d5c",
   "metadata": {},
   "outputs": [],
   "source": []
  },
  {
   "cell_type": "code",
   "execution_count": null,
   "id": "75625b71",
   "metadata": {},
   "outputs": [],
   "source": []
  },
  {
   "cell_type": "code",
   "execution_count": null,
   "id": "3c548ba9",
   "metadata": {},
   "outputs": [],
   "source": []
  },
  {
   "cell_type": "code",
   "execution_count": null,
   "id": "f7b1cde5",
   "metadata": {},
   "outputs": [],
   "source": []
  }
 ],
 "metadata": {
  "kernelspec": {
   "display_name": "Python 3 (ipykernel)",
   "language": "python",
   "name": "python3"
  },
  "language_info": {
   "codemirror_mode": {
    "name": "ipython",
    "version": 3
   },
   "file_extension": ".py",
   "mimetype": "text/x-python",
   "name": "python",
   "nbconvert_exporter": "python",
   "pygments_lexer": "ipython3",
   "version": "3.10.6"
  }
 },
 "nbformat": 4,
 "nbformat_minor": 5
}

{
 "cells": [
  {
   "cell_type": "code",
   "execution_count": 1,
   "id": "a9a87904",
   "metadata": {},
   "outputs": [],
   "source": [
    "import pandas as pd\n",
    "from sklearn.preprocessing import MinMaxScaler\n",
    "import mrmr\n",
    "from pymrmr import mRMR\n",
    "import matplotlib.pyplot as plt\n",
    "from sklearn.model_selection import StratifiedKFold, GridSearchCV\n",
    "import mrmr\n",
    "from sklearn.ensemble import RandomForestClassifier\n",
    "import numpy as np\n",
    "import os.path\n",
    "import json\n",
    "from sklearn.metrics import auc, precision_recall_curve, average_precision_score, PrecisionRecallDisplay\n",
    "import pymrmr\n",
    "from scipy.stats import kruskal, mannwhitneyu, kendalltau, spearmanr\n",
    "from boruta import BorutaPy\n",
    "import umap.umap_ as umap\n",
    "import icikt\n",
    "from tqdm import tqdm\n",
    "from sklearn.feature_selection import mutual_info_classif as MIC\n",
    "from minepy import MINE\n",
    "import random\n",
    "\n",
    "random.seed(10)"
   ]
  },
  {
   "cell_type": "markdown",
   "id": "fcd46eab",
   "metadata": {},
   "source": [
    "# Import data"
   ]
  },
  {
   "cell_type": "code",
   "execution_count": 2,
   "id": "9a3102b3",
   "metadata": {},
   "outputs": [
    {
     "data": {
      "text/html": [
       "<div>\n",
       "<style scoped>\n",
       "    .dataframe tbody tr th:only-of-type {\n",
       "        vertical-align: middle;\n",
       "    }\n",
       "\n",
       "    .dataframe tbody tr th {\n",
       "        vertical-align: top;\n",
       "    }\n",
       "\n",
       "    .dataframe thead th {\n",
       "        text-align: right;\n",
       "    }\n",
       "</style>\n",
       "<table border=\"1\" class=\"dataframe\">\n",
       "  <thead>\n",
       "    <tr style=\"text-align: right;\">\n",
       "      <th></th>\n",
       "      <th>ACAP3</th>\n",
       "      <th>ACTRT2</th>\n",
       "      <th>AGRN</th>\n",
       "      <th>ANKRD65</th>\n",
       "      <th>ATAD3A</th>\n",
       "      <th>ATAD3B</th>\n",
       "      <th>ATAD3C</th>\n",
       "      <th>AURKAIP1</th>\n",
       "      <th>B3GALT6</th>\n",
       "      <th>C1orf159</th>\n",
       "      <th>...</th>\n",
       "      <th>SMIM9</th>\n",
       "      <th>SNORA36A</th>\n",
       "      <th>SNORA56</th>\n",
       "      <th>TMLHE</th>\n",
       "      <th>VBP1</th>\n",
       "      <th>IL9R|ENSG00000124334.12</th>\n",
       "      <th>SPRY3|ENSG00000168939.6</th>\n",
       "      <th>VAMP7|ENSG00000124333.10</th>\n",
       "      <th>WASH6P|ENSG00000182484.10</th>\n",
       "      <th>WASIR1|ENSG00000185203.7</th>\n",
       "    </tr>\n",
       "  </thead>\n",
       "  <tbody>\n",
       "    <tr>\n",
       "      <th>TCGA-3C-AALI</th>\n",
       "      <td>-1</td>\n",
       "      <td>-1</td>\n",
       "      <td>-1</td>\n",
       "      <td>-1</td>\n",
       "      <td>-1</td>\n",
       "      <td>-1</td>\n",
       "      <td>-1</td>\n",
       "      <td>-1</td>\n",
       "      <td>-1</td>\n",
       "      <td>-1</td>\n",
       "      <td>...</td>\n",
       "      <td>-1</td>\n",
       "      <td>-1</td>\n",
       "      <td>-1</td>\n",
       "      <td>-1</td>\n",
       "      <td>-1</td>\n",
       "      <td>-1</td>\n",
       "      <td>-1</td>\n",
       "      <td>-1</td>\n",
       "      <td>-1</td>\n",
       "      <td>-1</td>\n",
       "    </tr>\n",
       "    <tr>\n",
       "      <th>TCGA-3C-AALK</th>\n",
       "      <td>0</td>\n",
       "      <td>0</td>\n",
       "      <td>0</td>\n",
       "      <td>0</td>\n",
       "      <td>0</td>\n",
       "      <td>0</td>\n",
       "      <td>0</td>\n",
       "      <td>0</td>\n",
       "      <td>0</td>\n",
       "      <td>0</td>\n",
       "      <td>...</td>\n",
       "      <td>0</td>\n",
       "      <td>0</td>\n",
       "      <td>0</td>\n",
       "      <td>0</td>\n",
       "      <td>0</td>\n",
       "      <td>0</td>\n",
       "      <td>0</td>\n",
       "      <td>0</td>\n",
       "      <td>0</td>\n",
       "      <td>0</td>\n",
       "    </tr>\n",
       "    <tr>\n",
       "      <th>TCGA-4H-AAAK</th>\n",
       "      <td>0</td>\n",
       "      <td>0</td>\n",
       "      <td>0</td>\n",
       "      <td>0</td>\n",
       "      <td>0</td>\n",
       "      <td>0</td>\n",
       "      <td>0</td>\n",
       "      <td>0</td>\n",
       "      <td>0</td>\n",
       "      <td>0</td>\n",
       "      <td>...</td>\n",
       "      <td>0</td>\n",
       "      <td>0</td>\n",
       "      <td>0</td>\n",
       "      <td>0</td>\n",
       "      <td>0</td>\n",
       "      <td>0</td>\n",
       "      <td>0</td>\n",
       "      <td>0</td>\n",
       "      <td>0</td>\n",
       "      <td>0</td>\n",
       "    </tr>\n",
       "    <tr>\n",
       "      <th>TCGA-5L-AAT1</th>\n",
       "      <td>0</td>\n",
       "      <td>0</td>\n",
       "      <td>0</td>\n",
       "      <td>0</td>\n",
       "      <td>0</td>\n",
       "      <td>0</td>\n",
       "      <td>0</td>\n",
       "      <td>0</td>\n",
       "      <td>0</td>\n",
       "      <td>0</td>\n",
       "      <td>...</td>\n",
       "      <td>0</td>\n",
       "      <td>0</td>\n",
       "      <td>0</td>\n",
       "      <td>0</td>\n",
       "      <td>0</td>\n",
       "      <td>0</td>\n",
       "      <td>0</td>\n",
       "      <td>0</td>\n",
       "      <td>0</td>\n",
       "      <td>0</td>\n",
       "    </tr>\n",
       "    <tr>\n",
       "      <th>TCGA-5T-A9QA</th>\n",
       "      <td>-1</td>\n",
       "      <td>-1</td>\n",
       "      <td>-1</td>\n",
       "      <td>-1</td>\n",
       "      <td>-1</td>\n",
       "      <td>-1</td>\n",
       "      <td>-1</td>\n",
       "      <td>-1</td>\n",
       "      <td>-1</td>\n",
       "      <td>-1</td>\n",
       "      <td>...</td>\n",
       "      <td>0</td>\n",
       "      <td>0</td>\n",
       "      <td>0</td>\n",
       "      <td>0</td>\n",
       "      <td>0</td>\n",
       "      <td>0</td>\n",
       "      <td>0</td>\n",
       "      <td>0</td>\n",
       "      <td>0</td>\n",
       "      <td>0</td>\n",
       "    </tr>\n",
       "  </tbody>\n",
       "</table>\n",
       "<p>5 rows × 24776 columns</p>\n",
       "</div>"
      ],
      "text/plain": [
       "              ACAP3  ACTRT2  AGRN  ANKRD65  ATAD3A  ATAD3B  ATAD3C  AURKAIP1  \\\n",
       "TCGA-3C-AALI     -1      -1    -1       -1      -1      -1      -1        -1   \n",
       "TCGA-3C-AALK      0       0     0        0       0       0       0         0   \n",
       "TCGA-4H-AAAK      0       0     0        0       0       0       0         0   \n",
       "TCGA-5L-AAT1      0       0     0        0       0       0       0         0   \n",
       "TCGA-5T-A9QA     -1      -1    -1       -1      -1      -1      -1        -1   \n",
       "\n",
       "              B3GALT6  C1orf159  ...  SMIM9  SNORA36A  SNORA56  TMLHE  VBP1  \\\n",
       "TCGA-3C-AALI       -1        -1  ...     -1        -1       -1     -1    -1   \n",
       "TCGA-3C-AALK        0         0  ...      0         0        0      0     0   \n",
       "TCGA-4H-AAAK        0         0  ...      0         0        0      0     0   \n",
       "TCGA-5L-AAT1        0         0  ...      0         0        0      0     0   \n",
       "TCGA-5T-A9QA       -1        -1  ...      0         0        0      0     0   \n",
       "\n",
       "              IL9R|ENSG00000124334.12  SPRY3|ENSG00000168939.6  \\\n",
       "TCGA-3C-AALI                       -1                       -1   \n",
       "TCGA-3C-AALK                        0                        0   \n",
       "TCGA-4H-AAAK                        0                        0   \n",
       "TCGA-5L-AAT1                        0                        0   \n",
       "TCGA-5T-A9QA                        0                        0   \n",
       "\n",
       "              VAMP7|ENSG00000124333.10  WASH6P|ENSG00000182484.10  \\\n",
       "TCGA-3C-AALI                        -1                         -1   \n",
       "TCGA-3C-AALK                         0                          0   \n",
       "TCGA-4H-AAAK                         0                          0   \n",
       "TCGA-5L-AAT1                         0                          0   \n",
       "TCGA-5T-A9QA                         0                          0   \n",
       "\n",
       "              WASIR1|ENSG00000185203.7  \n",
       "TCGA-3C-AALI                        -1  \n",
       "TCGA-3C-AALK                         0  \n",
       "TCGA-4H-AAAK                         0  \n",
       "TCGA-5L-AAT1                         0  \n",
       "TCGA-5T-A9QA                         0  \n",
       "\n",
       "[5 rows x 24776 columns]"
      ]
     },
     "execution_count": 2,
     "metadata": {},
     "output_type": "execute_result"
    }
   ],
   "source": [
    "# import data from csv \n",
    "cnv = pd.read_csv('dataset_hg19/dataset/cnv.csv', sep=' ')\n",
    "\n",
    "cnv.head()"
   ]
  },
  {
   "cell_type": "code",
   "execution_count": 3,
   "id": "03c327fc",
   "metadata": {},
   "outputs": [
    {
     "data": {
      "text/html": [
       "<div>\n",
       "<style scoped>\n",
       "    .dataframe tbody tr th:only-of-type {\n",
       "        vertical-align: middle;\n",
       "    }\n",
       "\n",
       "    .dataframe tbody tr th {\n",
       "        vertical-align: top;\n",
       "    }\n",
       "\n",
       "    .dataframe thead th {\n",
       "        text-align: right;\n",
       "    }\n",
       "</style>\n",
       "<table border=\"1\" class=\"dataframe\">\n",
       "  <thead>\n",
       "    <tr style=\"text-align: right;\">\n",
       "      <th></th>\n",
       "      <th>hsa-let-7a-1</th>\n",
       "      <th>hsa-let-7a-2</th>\n",
       "      <th>hsa-let-7a-3</th>\n",
       "      <th>hsa-let-7b</th>\n",
       "      <th>hsa-let-7c</th>\n",
       "      <th>hsa-let-7d</th>\n",
       "      <th>hsa-let-7e</th>\n",
       "      <th>hsa-let-7f-1</th>\n",
       "      <th>hsa-let-7f-2</th>\n",
       "      <th>hsa-let-7g</th>\n",
       "      <th>...</th>\n",
       "      <th>hsa-mir-941-3</th>\n",
       "      <th>hsa-mir-941-4</th>\n",
       "      <th>hsa-mir-942</th>\n",
       "      <th>hsa-mir-943</th>\n",
       "      <th>hsa-mir-944</th>\n",
       "      <th>hsa-mir-95</th>\n",
       "      <th>hsa-mir-96</th>\n",
       "      <th>hsa-mir-98</th>\n",
       "      <th>hsa-mir-99a</th>\n",
       "      <th>hsa-mir-99b</th>\n",
       "    </tr>\n",
       "  </thead>\n",
       "  <tbody>\n",
       "    <tr>\n",
       "      <th>TCGA-3C-AALI</th>\n",
       "      <td>49201</td>\n",
       "      <td>98691</td>\n",
       "      <td>49035</td>\n",
       "      <td>148591</td>\n",
       "      <td>5095</td>\n",
       "      <td>3263</td>\n",
       "      <td>3566</td>\n",
       "      <td>133</td>\n",
       "      <td>41683</td>\n",
       "      <td>2231</td>\n",
       "      <td>...</td>\n",
       "      <td>0</td>\n",
       "      <td>0</td>\n",
       "      <td>52</td>\n",
       "      <td>0</td>\n",
       "      <td>4</td>\n",
       "      <td>8</td>\n",
       "      <td>383</td>\n",
       "      <td>547</td>\n",
       "      <td>1503</td>\n",
       "      <td>80378</td>\n",
       "    </tr>\n",
       "    <tr>\n",
       "      <th>TCGA-3C-AALK</th>\n",
       "      <td>57278</td>\n",
       "      <td>114320</td>\n",
       "      <td>57540</td>\n",
       "      <td>164553</td>\n",
       "      <td>18464</td>\n",
       "      <td>2114</td>\n",
       "      <td>8364</td>\n",
       "      <td>113</td>\n",
       "      <td>40723</td>\n",
       "      <td>2245</td>\n",
       "      <td>...</td>\n",
       "      <td>0</td>\n",
       "      <td>0</td>\n",
       "      <td>22</td>\n",
       "      <td>0</td>\n",
       "      <td>22</td>\n",
       "      <td>11</td>\n",
       "      <td>459</td>\n",
       "      <td>263</td>\n",
       "      <td>6620</td>\n",
       "      <td>152218</td>\n",
       "    </tr>\n",
       "    <tr>\n",
       "      <th>TCGA-4H-AAAK</th>\n",
       "      <td>67196</td>\n",
       "      <td>134563</td>\n",
       "      <td>67607</td>\n",
       "      <td>136918</td>\n",
       "      <td>20429</td>\n",
       "      <td>2162</td>\n",
       "      <td>10556</td>\n",
       "      <td>139</td>\n",
       "      <td>50848</td>\n",
       "      <td>2056</td>\n",
       "      <td>...</td>\n",
       "      <td>0</td>\n",
       "      <td>0</td>\n",
       "      <td>13</td>\n",
       "      <td>0</td>\n",
       "      <td>7</td>\n",
       "      <td>5</td>\n",
       "      <td>123</td>\n",
       "      <td>212</td>\n",
       "      <td>6666</td>\n",
       "      <td>158568</td>\n",
       "    </tr>\n",
       "    <tr>\n",
       "      <th>TCGA-5L-AAT1</th>\n",
       "      <td>94243</td>\n",
       "      <td>188921</td>\n",
       "      <td>94346</td>\n",
       "      <td>211457</td>\n",
       "      <td>21076</td>\n",
       "      <td>2657</td>\n",
       "      <td>12104</td>\n",
       "      <td>272</td>\n",
       "      <td>94610</td>\n",
       "      <td>3903</td>\n",
       "      <td>...</td>\n",
       "      <td>0</td>\n",
       "      <td>0</td>\n",
       "      <td>23</td>\n",
       "      <td>0</td>\n",
       "      <td>12</td>\n",
       "      <td>11</td>\n",
       "      <td>235</td>\n",
       "      <td>529</td>\n",
       "      <td>5352</td>\n",
       "      <td>196557</td>\n",
       "    </tr>\n",
       "    <tr>\n",
       "      <th>TCGA-5T-A9QA</th>\n",
       "      <td>49313</td>\n",
       "      <td>97721</td>\n",
       "      <td>49623</td>\n",
       "      <td>127544</td>\n",
       "      <td>2134</td>\n",
       "      <td>1769</td>\n",
       "      <td>8190</td>\n",
       "      <td>104</td>\n",
       "      <td>28306</td>\n",
       "      <td>2792</td>\n",
       "      <td>...</td>\n",
       "      <td>0</td>\n",
       "      <td>0</td>\n",
       "      <td>72</td>\n",
       "      <td>0</td>\n",
       "      <td>3</td>\n",
       "      <td>23</td>\n",
       "      <td>186</td>\n",
       "      <td>146</td>\n",
       "      <td>445</td>\n",
       "      <td>127728</td>\n",
       "    </tr>\n",
       "  </tbody>\n",
       "</table>\n",
       "<p>5 rows × 1046 columns</p>\n",
       "</div>"
      ],
      "text/plain": [
       "              hsa-let-7a-1  hsa-let-7a-2  hsa-let-7a-3  hsa-let-7b  \\\n",
       "TCGA-3C-AALI         49201         98691         49035      148591   \n",
       "TCGA-3C-AALK         57278        114320         57540      164553   \n",
       "TCGA-4H-AAAK         67196        134563         67607      136918   \n",
       "TCGA-5L-AAT1         94243        188921         94346      211457   \n",
       "TCGA-5T-A9QA         49313         97721         49623      127544   \n",
       "\n",
       "              hsa-let-7c  hsa-let-7d  hsa-let-7e  hsa-let-7f-1  hsa-let-7f-2  \\\n",
       "TCGA-3C-AALI        5095        3263        3566           133         41683   \n",
       "TCGA-3C-AALK       18464        2114        8364           113         40723   \n",
       "TCGA-4H-AAAK       20429        2162       10556           139         50848   \n",
       "TCGA-5L-AAT1       21076        2657       12104           272         94610   \n",
       "TCGA-5T-A9QA        2134        1769        8190           104         28306   \n",
       "\n",
       "              hsa-let-7g  ...  hsa-mir-941-3  hsa-mir-941-4  hsa-mir-942  \\\n",
       "TCGA-3C-AALI        2231  ...              0              0           52   \n",
       "TCGA-3C-AALK        2245  ...              0              0           22   \n",
       "TCGA-4H-AAAK        2056  ...              0              0           13   \n",
       "TCGA-5L-AAT1        3903  ...              0              0           23   \n",
       "TCGA-5T-A9QA        2792  ...              0              0           72   \n",
       "\n",
       "              hsa-mir-943  hsa-mir-944  hsa-mir-95  hsa-mir-96  hsa-mir-98  \\\n",
       "TCGA-3C-AALI            0            4           8         383         547   \n",
       "TCGA-3C-AALK            0           22          11         459         263   \n",
       "TCGA-4H-AAAK            0            7           5         123         212   \n",
       "TCGA-5L-AAT1            0           12          11         235         529   \n",
       "TCGA-5T-A9QA            0            3          23         186         146   \n",
       "\n",
       "              hsa-mir-99a  hsa-mir-99b  \n",
       "TCGA-3C-AALI         1503        80378  \n",
       "TCGA-3C-AALK         6620       152218  \n",
       "TCGA-4H-AAAK         6666       158568  \n",
       "TCGA-5L-AAT1         5352       196557  \n",
       "TCGA-5T-A9QA          445       127728  \n",
       "\n",
       "[5 rows x 1046 columns]"
      ]
     },
     "execution_count": 3,
     "metadata": {},
     "output_type": "execute_result"
    }
   ],
   "source": [
    "miRNA = pd.read_csv('dataset_hg19/dataset/mirna.csv', sep=' ')\n",
    "\n",
    "miRNA.head()"
   ]
  },
  {
   "cell_type": "code",
   "execution_count": 4,
   "id": "f1f3bfbe",
   "metadata": {},
   "outputs": [
    {
     "data": {
      "text/html": [
       "<div>\n",
       "<style scoped>\n",
       "    .dataframe tbody tr th:only-of-type {\n",
       "        vertical-align: middle;\n",
       "    }\n",
       "\n",
       "    .dataframe tbody tr th {\n",
       "        vertical-align: top;\n",
       "    }\n",
       "\n",
       "    .dataframe thead th {\n",
       "        text-align: right;\n",
       "    }\n",
       "</style>\n",
       "<table border=\"1\" class=\"dataframe\">\n",
       "  <thead>\n",
       "    <tr style=\"text-align: right;\">\n",
       "      <th></th>\n",
       "      <th>A1BG</th>\n",
       "      <th>A1CF</th>\n",
       "      <th>A2BP1</th>\n",
       "      <th>A2LD1</th>\n",
       "      <th>A2ML1</th>\n",
       "      <th>A2M</th>\n",
       "      <th>A4GALT</th>\n",
       "      <th>A4GNT</th>\n",
       "      <th>AAA1</th>\n",
       "      <th>AAAS</th>\n",
       "      <th>...</th>\n",
       "      <th>ZXDA</th>\n",
       "      <th>ZXDB</th>\n",
       "      <th>ZXDC</th>\n",
       "      <th>ZYG11A</th>\n",
       "      <th>ZYG11B</th>\n",
       "      <th>ZYX</th>\n",
       "      <th>ZZEF1</th>\n",
       "      <th>ZZZ3</th>\n",
       "      <th>psiTPTE22</th>\n",
       "      <th>tAKR</th>\n",
       "    </tr>\n",
       "  </thead>\n",
       "  <tbody>\n",
       "    <tr>\n",
       "      <th>TCGA-3C-AALI</th>\n",
       "      <td>436.55</td>\n",
       "      <td>0</td>\n",
       "      <td>0</td>\n",
       "      <td>130.32</td>\n",
       "      <td>8</td>\n",
       "      <td>13924.87</td>\n",
       "      <td>290</td>\n",
       "      <td>1</td>\n",
       "      <td>0</td>\n",
       "      <td>1633</td>\n",
       "      <td>...</td>\n",
       "      <td>110</td>\n",
       "      <td>825</td>\n",
       "      <td>2470</td>\n",
       "      <td>365</td>\n",
       "      <td>1110</td>\n",
       "      <td>10123</td>\n",
       "      <td>2425</td>\n",
       "      <td>748</td>\n",
       "      <td>1704</td>\n",
       "      <td>0</td>\n",
       "    </tr>\n",
       "    <tr>\n",
       "      <th>TCGA-3C-AALK</th>\n",
       "      <td>461.69</td>\n",
       "      <td>0</td>\n",
       "      <td>0</td>\n",
       "      <td>151.08</td>\n",
       "      <td>4</td>\n",
       "      <td>26490.85</td>\n",
       "      <td>1224</td>\n",
       "      <td>0</td>\n",
       "      <td>0</td>\n",
       "      <td>1878</td>\n",
       "      <td>...</td>\n",
       "      <td>133</td>\n",
       "      <td>1058</td>\n",
       "      <td>2088</td>\n",
       "      <td>424</td>\n",
       "      <td>1468</td>\n",
       "      <td>13756</td>\n",
       "      <td>1888</td>\n",
       "      <td>1694</td>\n",
       "      <td>161</td>\n",
       "      <td>0</td>\n",
       "    </tr>\n",
       "    <tr>\n",
       "      <th>TCGA-4H-AAAK</th>\n",
       "      <td>631.87</td>\n",
       "      <td>1</td>\n",
       "      <td>9</td>\n",
       "      <td>362.77</td>\n",
       "      <td>8</td>\n",
       "      <td>22525.79</td>\n",
       "      <td>804</td>\n",
       "      <td>1</td>\n",
       "      <td>1</td>\n",
       "      <td>1925</td>\n",
       "      <td>...</td>\n",
       "      <td>115</td>\n",
       "      <td>997</td>\n",
       "      <td>2467</td>\n",
       "      <td>33</td>\n",
       "      <td>1823</td>\n",
       "      <td>9498</td>\n",
       "      <td>1955</td>\n",
       "      <td>2072</td>\n",
       "      <td>440</td>\n",
       "      <td>0</td>\n",
       "    </tr>\n",
       "    <tr>\n",
       "      <th>TCGA-5L-AAT1</th>\n",
       "      <td>259.26</td>\n",
       "      <td>0</td>\n",
       "      <td>0</td>\n",
       "      <td>125.12</td>\n",
       "      <td>5</td>\n",
       "      <td>18903.93</td>\n",
       "      <td>323</td>\n",
       "      <td>1</td>\n",
       "      <td>0</td>\n",
       "      <td>971</td>\n",
       "      <td>...</td>\n",
       "      <td>55</td>\n",
       "      <td>697</td>\n",
       "      <td>1213</td>\n",
       "      <td>66</td>\n",
       "      <td>630</td>\n",
       "      <td>5421</td>\n",
       "      <td>1732</td>\n",
       "      <td>698</td>\n",
       "      <td>71</td>\n",
       "      <td>0</td>\n",
       "    </tr>\n",
       "    <tr>\n",
       "      <th>TCGA-5T-A9QA</th>\n",
       "      <td>600.72</td>\n",
       "      <td>1</td>\n",
       "      <td>1</td>\n",
       "      <td>446.68</td>\n",
       "      <td>0</td>\n",
       "      <td>6084.91</td>\n",
       "      <td>787</td>\n",
       "      <td>7</td>\n",
       "      <td>0</td>\n",
       "      <td>1670</td>\n",
       "      <td>...</td>\n",
       "      <td>55</td>\n",
       "      <td>547</td>\n",
       "      <td>1548</td>\n",
       "      <td>4</td>\n",
       "      <td>615</td>\n",
       "      <td>6160</td>\n",
       "      <td>2132</td>\n",
       "      <td>843</td>\n",
       "      <td>7</td>\n",
       "      <td>0</td>\n",
       "    </tr>\n",
       "  </tbody>\n",
       "</table>\n",
       "<p>5 rows × 20501 columns</p>\n",
       "</div>"
      ],
      "text/plain": [
       "                A1BG  A1CF  A2BP1   A2LD1  A2ML1       A2M  A4GALT  A4GNT  \\\n",
       "TCGA-3C-AALI  436.55     0      0  130.32      8  13924.87     290      1   \n",
       "TCGA-3C-AALK  461.69     0      0  151.08      4  26490.85    1224      0   \n",
       "TCGA-4H-AAAK  631.87     1      9  362.77      8  22525.79     804      1   \n",
       "TCGA-5L-AAT1  259.26     0      0  125.12      5  18903.93     323      1   \n",
       "TCGA-5T-A9QA  600.72     1      1  446.68      0   6084.91     787      7   \n",
       "\n",
       "              AAA1  AAAS  ...  ZXDA  ZXDB  ZXDC  ZYG11A  ZYG11B    ZYX  ZZEF1  \\\n",
       "TCGA-3C-AALI     0  1633  ...   110   825  2470     365    1110  10123   2425   \n",
       "TCGA-3C-AALK     0  1878  ...   133  1058  2088     424    1468  13756   1888   \n",
       "TCGA-4H-AAAK     1  1925  ...   115   997  2467      33    1823   9498   1955   \n",
       "TCGA-5L-AAT1     0   971  ...    55   697  1213      66     630   5421   1732   \n",
       "TCGA-5T-A9QA     0  1670  ...    55   547  1548       4     615   6160   2132   \n",
       "\n",
       "              ZZZ3  psiTPTE22  tAKR  \n",
       "TCGA-3C-AALI   748       1704     0  \n",
       "TCGA-3C-AALK  1694        161     0  \n",
       "TCGA-4H-AAAK  2072        440     0  \n",
       "TCGA-5L-AAT1   698         71     0  \n",
       "TCGA-5T-A9QA   843          7     0  \n",
       "\n",
       "[5 rows x 20501 columns]"
      ]
     },
     "execution_count": 4,
     "metadata": {},
     "output_type": "execute_result"
    }
   ],
   "source": [
    "mRNA = pd.read_csv('dataset_hg19/dataset/mrna.csv', sep=' ')\n",
    "\n",
    "mRNA.head()"
   ]
  },
  {
   "cell_type": "code",
   "execution_count": 5,
   "id": "06a16faf",
   "metadata": {},
   "outputs": [
    {
     "data": {
      "text/html": [
       "<div>\n",
       "<style scoped>\n",
       "    .dataframe tbody tr th:only-of-type {\n",
       "        vertical-align: middle;\n",
       "    }\n",
       "\n",
       "    .dataframe tbody tr th {\n",
       "        vertical-align: top;\n",
       "    }\n",
       "\n",
       "    .dataframe thead th {\n",
       "        text-align: right;\n",
       "    }\n",
       "</style>\n",
       "<table border=\"1\" class=\"dataframe\">\n",
       "  <thead>\n",
       "    <tr style=\"text-align: right;\">\n",
       "      <th></th>\n",
       "      <th>14-3-3_beta</th>\n",
       "      <th>14-3-3_epsilon</th>\n",
       "      <th>14-3-3_zeta</th>\n",
       "      <th>4E-BP1</th>\n",
       "      <th>4E-BP1_pS65</th>\n",
       "      <th>4E-BP1_pT37_T46</th>\n",
       "      <th>4E-BP1_pT70</th>\n",
       "      <th>53BP1</th>\n",
       "      <th>A-Raf</th>\n",
       "      <th>A-Raf_pS299</th>\n",
       "      <th>...</th>\n",
       "      <th>p27_pT157</th>\n",
       "      <th>p27_pT198</th>\n",
       "      <th>p38_MAPK</th>\n",
       "      <th>p38_pT180_Y182</th>\n",
       "      <th>p53</th>\n",
       "      <th>p62-LCK-ligand</th>\n",
       "      <th>p70S6K</th>\n",
       "      <th>p70S6K_pT389</th>\n",
       "      <th>p90RSK</th>\n",
       "      <th>p90RSK_pT359_S363</th>\n",
       "    </tr>\n",
       "  </thead>\n",
       "  <tbody>\n",
       "    <tr>\n",
       "      <th>TCGA-3C-AALI</th>\n",
       "      <td>-0.000752</td>\n",
       "      <td>0.022553</td>\n",
       "      <td>0.021112</td>\n",
       "      <td>0.101796</td>\n",
       "      <td>-0.382850</td>\n",
       "      <td>-0.108997</td>\n",
       "      <td>0.103860</td>\n",
       "      <td>-0.335720</td>\n",
       "      <td>0.139450</td>\n",
       "      <td>0.148123</td>\n",
       "      <td>...</td>\n",
       "      <td>-0.076626</td>\n",
       "      <td>-0.231296</td>\n",
       "      <td>-0.169884</td>\n",
       "      <td>0.040360</td>\n",
       "      <td>-0.043975</td>\n",
       "      <td>1.293687</td>\n",
       "      <td>0.783984</td>\n",
       "      <td>0.162565</td>\n",
       "      <td>-0.667649</td>\n",
       "      <td>-0.102581</td>\n",
       "    </tr>\n",
       "    <tr>\n",
       "      <th>TCGA-3C-AALK</th>\n",
       "      <td>-0.202252</td>\n",
       "      <td>0.077041</td>\n",
       "      <td>0.153997</td>\n",
       "      <td>0.299107</td>\n",
       "      <td>-0.438903</td>\n",
       "      <td>-0.460678</td>\n",
       "      <td>-0.358195</td>\n",
       "      <td>0.474016</td>\n",
       "      <td>0.376476</td>\n",
       "      <td>-0.160318</td>\n",
       "      <td>...</td>\n",
       "      <td>-0.219547</td>\n",
       "      <td>-0.340080</td>\n",
       "      <td>0.208381</td>\n",
       "      <td>0.365363</td>\n",
       "      <td>-0.136875</td>\n",
       "      <td>0.680809</td>\n",
       "      <td>0.612644</td>\n",
       "      <td>-0.131174</td>\n",
       "      <td>0.419210</td>\n",
       "      <td>-0.118623</td>\n",
       "    </tr>\n",
       "    <tr>\n",
       "      <th>TCGA-4H-AAAK</th>\n",
       "      <td>-0.208434</td>\n",
       "      <td>0.062566</td>\n",
       "      <td>0.034209</td>\n",
       "      <td>0.429696</td>\n",
       "      <td>-0.102852</td>\n",
       "      <td>-0.499466</td>\n",
       "      <td>-0.433138</td>\n",
       "      <td>0.143794</td>\n",
       "      <td>0.339525</td>\n",
       "      <td>-0.221161</td>\n",
       "      <td>...</td>\n",
       "      <td>-0.070647</td>\n",
       "      <td>-0.471717</td>\n",
       "      <td>-0.052702</td>\n",
       "      <td>0.068514</td>\n",
       "      <td>-0.080364</td>\n",
       "      <td>0.300677</td>\n",
       "      <td>0.819253</td>\n",
       "      <td>-0.520017</td>\n",
       "      <td>0.003252</td>\n",
       "      <td>-0.855659</td>\n",
       "    </tr>\n",
       "    <tr>\n",
       "      <th>TCGA-5L-AAT1</th>\n",
       "      <td>-0.465476</td>\n",
       "      <td>0.141845</td>\n",
       "      <td>0.232721</td>\n",
       "      <td>0.427772</td>\n",
       "      <td>-0.231596</td>\n",
       "      <td>0.276124</td>\n",
       "      <td>-0.411702</td>\n",
       "      <td>0.736283</td>\n",
       "      <td>0.398665</td>\n",
       "      <td>-0.063979</td>\n",
       "      <td>...</td>\n",
       "      <td>-0.145362</td>\n",
       "      <td>-0.582255</td>\n",
       "      <td>0.346637</td>\n",
       "      <td>0.289421</td>\n",
       "      <td>-0.225658</td>\n",
       "      <td>0.591818</td>\n",
       "      <td>0.623455</td>\n",
       "      <td>-0.559783</td>\n",
       "      <td>0.510494</td>\n",
       "      <td>-0.601296</td>\n",
       "    </tr>\n",
       "    <tr>\n",
       "      <th>TCGA-5T-A9QA</th>\n",
       "      <td>-0.354823</td>\n",
       "      <td>0.156575</td>\n",
       "      <td>0.249023</td>\n",
       "      <td>1.197526</td>\n",
       "      <td>0.447913</td>\n",
       "      <td>1.001215</td>\n",
       "      <td>0.307314</td>\n",
       "      <td>0.581762</td>\n",
       "      <td>0.316779</td>\n",
       "      <td>-0.085146</td>\n",
       "      <td>...</td>\n",
       "      <td>0.076588</td>\n",
       "      <td>-0.325001</td>\n",
       "      <td>0.166015</td>\n",
       "      <td>-1.064492</td>\n",
       "      <td>0.181296</td>\n",
       "      <td>-0.226434</td>\n",
       "      <td>0.842169</td>\n",
       "      <td>0.280629</td>\n",
       "      <td>0.524148</td>\n",
       "      <td>-0.500144</td>\n",
       "    </tr>\n",
       "  </tbody>\n",
       "</table>\n",
       "<p>5 rows × 216 columns</p>\n",
       "</div>"
      ],
      "text/plain": [
       "              14-3-3_beta  14-3-3_epsilon  14-3-3_zeta    4E-BP1  4E-BP1_pS65  \\\n",
       "TCGA-3C-AALI    -0.000752        0.022553     0.021112  0.101796    -0.382850   \n",
       "TCGA-3C-AALK    -0.202252        0.077041     0.153997  0.299107    -0.438903   \n",
       "TCGA-4H-AAAK    -0.208434        0.062566     0.034209  0.429696    -0.102852   \n",
       "TCGA-5L-AAT1    -0.465476        0.141845     0.232721  0.427772    -0.231596   \n",
       "TCGA-5T-A9QA    -0.354823        0.156575     0.249023  1.197526     0.447913   \n",
       "\n",
       "              4E-BP1_pT37_T46  4E-BP1_pT70     53BP1     A-Raf  A-Raf_pS299  \\\n",
       "TCGA-3C-AALI        -0.108997     0.103860 -0.335720  0.139450     0.148123   \n",
       "TCGA-3C-AALK        -0.460678    -0.358195  0.474016  0.376476    -0.160318   \n",
       "TCGA-4H-AAAK        -0.499466    -0.433138  0.143794  0.339525    -0.221161   \n",
       "TCGA-5L-AAT1         0.276124    -0.411702  0.736283  0.398665    -0.063979   \n",
       "TCGA-5T-A9QA         1.001215     0.307314  0.581762  0.316779    -0.085146   \n",
       "\n",
       "              ...  p27_pT157  p27_pT198  p38_MAPK  p38_pT180_Y182       p53  \\\n",
       "TCGA-3C-AALI  ...  -0.076626  -0.231296 -0.169884        0.040360 -0.043975   \n",
       "TCGA-3C-AALK  ...  -0.219547  -0.340080  0.208381        0.365363 -0.136875   \n",
       "TCGA-4H-AAAK  ...  -0.070647  -0.471717 -0.052702        0.068514 -0.080364   \n",
       "TCGA-5L-AAT1  ...  -0.145362  -0.582255  0.346637        0.289421 -0.225658   \n",
       "TCGA-5T-A9QA  ...   0.076588  -0.325001  0.166015       -1.064492  0.181296   \n",
       "\n",
       "              p62-LCK-ligand    p70S6K  p70S6K_pT389    p90RSK  \\\n",
       "TCGA-3C-AALI        1.293687  0.783984      0.162565 -0.667649   \n",
       "TCGA-3C-AALK        0.680809  0.612644     -0.131174  0.419210   \n",
       "TCGA-4H-AAAK        0.300677  0.819253     -0.520017  0.003252   \n",
       "TCGA-5L-AAT1        0.591818  0.623455     -0.559783  0.510494   \n",
       "TCGA-5T-A9QA       -0.226434  0.842169      0.280629  0.524148   \n",
       "\n",
       "              p90RSK_pT359_S363  \n",
       "TCGA-3C-AALI          -0.102581  \n",
       "TCGA-3C-AALK          -0.118623  \n",
       "TCGA-4H-AAAK          -0.855659  \n",
       "TCGA-5L-AAT1          -0.601296  \n",
       "TCGA-5T-A9QA          -0.500144  \n",
       "\n",
       "[5 rows x 216 columns]"
      ]
     },
     "execution_count": 5,
     "metadata": {},
     "output_type": "execute_result"
    }
   ],
   "source": [
    "proteins = pd.read_csv('dataset_hg19/dataset/proteins.csv', sep=' ')\n",
    "\n",
    "proteins.head()"
   ]
  },
  {
   "cell_type": "markdown",
   "id": "45a17a80",
   "metadata": {},
   "source": [
    "# Import label"
   ]
  },
  {
   "cell_type": "code",
   "execution_count": 6,
   "id": "df21b35d",
   "metadata": {},
   "outputs": [
    {
     "data": {
      "image/png": "[encoded data removed]",
      "text/plain": [
       "<Figure size 432x288 with 1 Axes>"
      ]
     },
     "metadata": {
      "needs_background": "light"
     },
     "output_type": "display_data"
    }
   ],
   "source": [
    "label = pd.read_csv('dataset_hg19/dataset/labels_pfi.csv', sep=' ')\n",
    "\n",
    "label.hist()\n",
    "plt.show()"
   ]
  },
  {
   "cell_type": "markdown",
   "id": "e274c61c",
   "metadata": {},
   "source": [
    "# Check NaN values"
   ]
  },
  {
   "cell_type": "code",
   "execution_count": 7,
   "id": "51c1a851",
   "metadata": {},
   "outputs": [],
   "source": [
    "def checkNaNValues(dataset):\n",
    "    if dataset.isna().sum().sum() == 0:\n",
    "        print(f\"Non sono presenti dati NaN\")\n",
    "    else:\n",
    "        for column in dataset:\n",
    "            if dataset[column].isna().sum() == 0:\n",
    "                print(f\"Nella colonna {column} non sono presenti dati NaN\")\n",
    "            else:\n",
    "                print(f\"Nella colonna {column} sono presenti: {dataset[column].isna().sum()}\")"
   ]
  },
  {
   "cell_type": "code",
   "execution_count": 8,
   "id": "4337086d",
   "metadata": {},
   "outputs": [
    {
     "name": "stdout",
     "output_type": "stream",
     "text": [
      "Non sono presenti dati NaN\n"
     ]
    }
   ],
   "source": [
    "checkNaNValues(cnv)"
   ]
  },
  {
   "cell_type": "code",
   "execution_count": 9,
   "id": "73a22285",
   "metadata": {},
   "outputs": [
    {
     "name": "stdout",
     "output_type": "stream",
     "text": [
      "Non sono presenti dati NaN\n"
     ]
    }
   ],
   "source": [
    "checkNaNValues(mRNA)"
   ]
  },
  {
   "cell_type": "code",
   "execution_count": 10,
   "id": "67da8113",
   "metadata": {},
   "outputs": [
    {
     "name": "stdout",
     "output_type": "stream",
     "text": [
      "Non sono presenti dati NaN\n"
     ]
    }
   ],
   "source": [
    "checkNaNValues(miRNA)"
   ]
  },
  {
   "cell_type": "code",
   "execution_count": 11,
   "id": "95894c0d",
   "metadata": {},
   "outputs": [
    {
     "name": "stdout",
     "output_type": "stream",
     "text": [
      "Non sono presenti dati NaN\n"
     ]
    }
   ],
   "source": [
    "checkNaNValues(proteins)"
   ]
  },
  {
   "cell_type": "markdown",
   "id": "c8f2c29f",
   "metadata": {},
   "source": [
    "# Normalize data"
   ]
  },
  {
   "cell_type": "code",
   "execution_count": 12,
   "id": "291600a4",
   "metadata": {},
   "outputs": [],
   "source": [
    "def dataNormalization(scaler, data):\n",
    "    scl = scaler()\n",
    "    model = scl.fit(data)\n",
    "    scaled_data = model.transform(data)\n",
    "    \n",
    "    return pd.DataFrame(scaled_data, columns=data.columns, index=data.index)"
   ]
  },
  {
   "cell_type": "markdown",
   "id": "24a6043f",
   "metadata": {},
   "source": [
    "# Filter feature with low variability"
   ]
  },
  {
   "cell_type": "code",
   "execution_count": 13,
   "id": "97407b1d",
   "metadata": {},
   "outputs": [],
   "source": [
    "def filter_features_with_low_variability(data, alfa) -> pd.DataFrame:\n",
    "    for column in data:\n",
    "        if data[column].std() < alfa:\n",
    "            #print(f'column: {column} has standard deviation < {alfa}, removed')\n",
    "            data.drop(column, axis=1, inplace=True)\n",
    "    return data"
   ]
  },
  {
   "cell_type": "markdown",
   "id": "70d52afc",
   "metadata": {},
   "source": [
    "# Normalize and filter datasets"
   ]
  },
  {
   "cell_type": "code",
   "execution_count": 14,
   "id": "30bf1785",
   "metadata": {},
   "outputs": [],
   "source": [
    "dataset_dict = {'cnv': cnv, 'mirna': miRNA, 'mrna': mRNA, 'proteins': proteins}"
   ]
  },
  {
   "cell_type": "code",
   "execution_count": 15,
   "id": "5d465cd8",
   "metadata": {},
   "outputs": [],
   "source": [
    "def create_data_normalized_filtered(data_dict, scaler, min_variance):\n",
    "    dict_filtered_nornalize = {}\n",
    "    for (key, value) in zip(data_dict, data_dict.values()):\n",
    "        if key != 'cnv':\n",
    "            dict_filtered_nornalize[key] = filter_features_with_low_variability(dataNormalization(MinMaxScaler, value), 0.05)\n",
    "        else:\n",
    "            dict_filtered_nornalize[key] = value\n",
    "    return dict_filtered_nornalize"
   ]
  },
  {
   "cell_type": "markdown",
   "id": "984c47a1",
   "metadata": {},
   "source": [
    "# Store and retrieve data normalize and filtered"
   ]
  },
  {
   "cell_type": "code",
   "execution_count": 16,
   "id": "d1cdc936",
   "metadata": {},
   "outputs": [],
   "source": [
    "def mkdir_p(path):\n",
    "    try:\n",
    "        os.makedirs(path)\n",
    "    except OSError as exc: # Python >2.5\n",
    "        if exc.errno == errno.EEXIST and os.path.isdir(path):\n",
    "            pass\n",
    "        else: raise"
   ]
  },
  {
   "cell_type": "code",
   "execution_count": 17,
   "id": "8c20d27d",
   "metadata": {},
   "outputs": [],
   "source": [
    "def store_filtered_normalize_data(dataset_dict):\n",
    "    if not os.path.exists('filtered_normalize_data'):\n",
    "        mkdir_p('filtered_normalize_data')\n",
    "        filtered_normalize_data = create_data_normalized_filtered(dataset_dict, MinMaxScaler, 0.05)\n",
    "        for data in dataset_dict:\n",
    "            filtered_normalize_data[data].to_json('filtered_normalize_data/'+data+'.json')"
   ]
  },
  {
   "cell_type": "code",
   "execution_count": 18,
   "id": "9c5d4e89",
   "metadata": {},
   "outputs": [],
   "source": [
    "def load_filtered_normalize_data(dataset_dict):\n",
    "    dict_test = {}\n",
    "    if os.path.exists('filtered_normalize_data'):\n",
    "        for data in dataset_dict:\n",
    "            with open('filtered_normalize_data/'+data+'.json', 'r') as fp:\n",
    "                dataset = pd.read_json(fp)\n",
    "                dict_test[data] = dataset\n",
    "        return dict_test\n",
    "    else:\n",
    "        store_filtered_normalize_data(dataset_dict)\n",
    "        load_filtered_normalize_data(dataset_dict)"
   ]
  },
  {
   "cell_type": "code",
   "execution_count": 19,
   "id": "cc3e3d4e",
   "metadata": {},
   "outputs": [
    {
     "name": "stdout",
     "output_type": "stream",
     "text": [
      "CPU times: user 7.89 s, sys: 699 ms, total: 8.59 s\n",
      "Wall time: 9.56 s\n"
     ]
    }
   ],
   "source": [
    "%time datasets = load_filtered_normalize_data(dataset_dict)"
   ]
  },
  {
   "cell_type": "code",
   "execution_count": 20,
   "id": "3c372d88",
   "metadata": {},
   "outputs": [
    {
     "data": {
      "text/plain": [
       "{'cnv':               ACAP3  ACTRT2  AGRN  ANKRD65  ATAD3A  ATAD3B  ATAD3C  AURKAIP1  \\\n",
       " TCGA-3C-AALI     -1      -1    -1       -1      -1      -1      -1        -1   \n",
       " TCGA-3C-AALK      0       0     0        0       0       0       0         0   \n",
       " TCGA-4H-AAAK      0       0     0        0       0       0       0         0   \n",
       " TCGA-5L-AAT1      0       0     0        0       0       0       0         0   \n",
       " TCGA-5T-A9QA     -1      -1    -1       -1      -1      -1      -1        -1   \n",
       " ...             ...     ...   ...      ...     ...     ...     ...       ...   \n",
       " TCGA-W8-A86G      0       0     0        0       0       0       0         0   \n",
       " TCGA-WT-AB41     -1      -1    -1       -1      -1      -1      -1        -1   \n",
       " TCGA-XX-A899      0       0     0        0       0       0       0         0   \n",
       " TCGA-Z7-A8R5     -1      -1    -1       -1      -1      -1      -1        -1   \n",
       " TCGA-Z7-A8R6      0       0     0        0       0       0       0         0   \n",
       " \n",
       "               B3GALT6  C1orf159  ...  SMIM9  SNORA36A  SNORA56  TMLHE  VBP1  \\\n",
       " TCGA-3C-AALI       -1        -1  ...     -1        -1       -1     -1    -1   \n",
       " TCGA-3C-AALK        0         0  ...      0         0        0      0     0   \n",
       " TCGA-4H-AAAK        0         0  ...      0         0        0      0     0   \n",
       " TCGA-5L-AAT1        0         0  ...      0         0        0      0     0   \n",
       " TCGA-5T-A9QA       -1        -1  ...      0         0        0      0     0   \n",
       " ...               ...       ...  ...    ...       ...      ...    ...   ...   \n",
       " TCGA-W8-A86G        0         0  ...      0         0        0      0     0   \n",
       " TCGA-WT-AB41       -1        -1  ...      0         0        0      0     0   \n",
       " TCGA-XX-A899        0         0  ...      0         0        0      0     0   \n",
       " TCGA-Z7-A8R5       -1        -1  ...      0         0        0      0     0   \n",
       " TCGA-Z7-A8R6        0         0  ...      1         1        1      1     1   \n",
       " \n",
       "               IL9R|ENSG00000124334.12  SPRY3|ENSG00000168939.6  \\\n",
       " TCGA-3C-AALI                       -1                       -1   \n",
       " TCGA-3C-AALK                        0                        0   \n",
       " TCGA-4H-AAAK                        0                        0   \n",
       " TCGA-5L-AAT1                        0                        0   \n",
       " TCGA-5T-A9QA                        0                        0   \n",
       " ...                               ...                      ...   \n",
       " TCGA-W8-A86G                        0                        0   \n",
       " TCGA-WT-AB41                        0                        0   \n",
       " TCGA-XX-A899                        0                        0   \n",
       " TCGA-Z7-A8R5                        0                        0   \n",
       " TCGA-Z7-A8R6                        1                        1   \n",
       " \n",
       "               VAMP7|ENSG00000124333.10  WASH6P|ENSG00000182484.10  \\\n",
       " TCGA-3C-AALI                        -1                         -1   \n",
       " TCGA-3C-AALK                         0                          0   \n",
       " TCGA-4H-AAAK                         0                          0   \n",
       " TCGA-5L-AAT1                         0                          0   \n",
       " TCGA-5T-A9QA                         0                          0   \n",
       " ...                                ...                        ...   \n",
       " TCGA-W8-A86G                         0                          0   \n",
       " TCGA-WT-AB41                         0                          0   \n",
       " TCGA-XX-A899                         0                          0   \n",
       " TCGA-Z7-A8R5                         0                          0   \n",
       " TCGA-Z7-A8R6                         1                          1   \n",
       " \n",
       "               WASIR1|ENSG00000185203.7  \n",
       " TCGA-3C-AALI                        -1  \n",
       " TCGA-3C-AALK                         0  \n",
       " TCGA-4H-AAAK                         0  \n",
       " TCGA-5L-AAT1                         0  \n",
       " TCGA-5T-A9QA                         0  \n",
       " ...                                ...  \n",
       " TCGA-W8-A86G                         0  \n",
       " TCGA-WT-AB41                         0  \n",
       " TCGA-XX-A899                         0  \n",
       " TCGA-Z7-A8R5                         0  \n",
       " TCGA-Z7-A8R6                         1  \n",
       " \n",
       " [627 rows x 24776 columns],\n",
       " 'mirna':               hsa-let-7a-1  hsa-let-7a-2  hsa-let-7a-3  hsa-let-7b  \\\n",
       " TCGA-3C-AALI      0.118843      0.119289      0.117400    0.115944   \n",
       " TCGA-3C-AALK      0.140045      0.139836      0.139602    0.129035   \n",
       " TCGA-4H-AAAK      0.166080      0.166448      0.165881    0.106370   \n",
       " TCGA-5L-AAT1      0.237079      0.237909      0.235682    0.167503   \n",
       " TCGA-5T-A9QA      0.119137      0.118014      0.118935    0.098682   \n",
       " ...                    ...           ...           ...         ...   \n",
       " TCGA-W8-A86G      0.143347      0.142673      0.142319    0.129196   \n",
       " TCGA-WT-AB41      0.088356      0.088473      0.088724    0.050548   \n",
       " TCGA-XX-A899      0.427241      0.427864      0.426683    0.162773   \n",
       " TCGA-Z7-A8R5      0.141405      0.141958      0.142674    0.115629   \n",
       " TCGA-Z7-A8R6      0.099423      0.099472      0.100716    0.052441   \n",
       " \n",
       "               hsa-let-7c  hsa-let-7d  hsa-let-7e  hsa-let-7f-1  hsa-let-7f-2  \\\n",
       " TCGA-3C-AALI    0.021513    0.284442    0.041509      0.074618      0.137896   \n",
       " TCGA-3C-AALK    0.082666    0.177846    0.104815      0.062867      0.134629   \n",
       " TCGA-4H-AAAK    0.091655    0.182299    0.133736      0.078143      0.169085   \n",
       " TCGA-5L-AAT1    0.094614    0.228222    0.154161      0.156287      0.318010   \n",
       " TCGA-5T-A9QA    0.007968    0.145839    0.102519      0.057579      0.092373   \n",
       " ...                  ...         ...         ...           ...           ...   \n",
       " TCGA-W8-A86G    0.111027    0.118564    0.093362      0.058754      0.148269   \n",
       " TCGA-WT-AB41    0.047870    0.212079    0.074917      0.064042      0.160390   \n",
       " TCGA-XX-A899    0.237085    0.167362    0.278965      0.211516      0.611488   \n",
       " TCGA-Z7-A8R5    0.132068    0.180351    0.086409      0.098120      0.183994   \n",
       " TCGA-Z7-A8R6    0.022583    0.275536    0.097637      0.066980      0.145083   \n",
       " \n",
       "               hsa-let-7g  ...  hsa-mir-940  hsa-mir-941-1  hsa-mir-942  \\\n",
       " TCGA-3C-AALI    0.124417  ...     0.021407            0.0     0.190476   \n",
       " TCGA-3C-AALK    0.125276  ...     0.018349            0.0     0.080586   \n",
       " TCGA-4H-AAAK    0.113670  ...     0.006116            0.0     0.047619   \n",
       " TCGA-5L-AAT1    0.227094  ...     0.018349            0.0     0.084249   \n",
       " TCGA-5T-A9QA    0.158868  ...     0.018349            0.0     0.263736   \n",
       " ...                  ...  ...          ...            ...          ...   \n",
       " TCGA-W8-A86G    0.201486  ...     0.021407            0.0     0.036630   \n",
       " TCGA-WT-AB41    0.194363  ...     0.027523            0.0     0.117216   \n",
       " TCGA-XX-A899    0.517686  ...     0.015291            0.0     0.194139   \n",
       " TCGA-Z7-A8R5    0.177966  ...     0.021407            0.0     0.054945   \n",
       " TCGA-Z7-A8R6    0.129514  ...     0.067278            0.0     0.168498   \n",
       " \n",
       "               hsa-mir-943  hsa-mir-944  hsa-mir-95  hsa-mir-96  hsa-mir-98  \\\n",
       " TCGA-3C-AALI          0.0     0.017094    0.048485    0.233110    0.166206   \n",
       " TCGA-3C-AALK          0.0     0.094017    0.066667    0.279367    0.078955   \n",
       " TCGA-4H-AAAK          0.0     0.029915    0.030303    0.074863    0.063287   \n",
       " TCGA-5L-AAT1          0.0     0.051282    0.066667    0.143031    0.160676   \n",
       " TCGA-5T-A9QA          0.0     0.012821    0.139394    0.113208    0.043011   \n",
       " ...                   ...          ...         ...         ...         ...   \n",
       " TCGA-W8-A86G          0.0     0.068376    0.030303    0.175898    0.044854   \n",
       " TCGA-WT-AB41          0.0     0.008547    0.084848    0.150335    0.085100   \n",
       " TCGA-XX-A899          0.0     0.132479    0.139394    0.100426    0.172965   \n",
       " TCGA-Z7-A8R5          0.0     0.068376    0.072727    0.243457    0.116129   \n",
       " TCGA-Z7-A8R6          0.0     0.064103    0.066667    0.109556    0.096774   \n",
       " \n",
       "               hsa-mir-99a  hsa-mir-99b  \n",
       " TCGA-3C-AALI     0.024324     0.055582  \n",
       " TCGA-3C-AALK     0.113358     0.112672  \n",
       " TCGA-4H-AAAK     0.114158     0.117719  \n",
       " TCGA-5L-AAT1     0.091295     0.147908  \n",
       " TCGA-5T-A9QA     0.005916     0.093211  \n",
       " ...                   ...          ...  \n",
       " TCGA-W8-A86G     0.122858     0.075161  \n",
       " TCGA-WT-AB41     0.065892     0.071841  \n",
       " TCGA-XX-A899     0.329563     0.102730  \n",
       " TCGA-Z7-A8R5     0.139439     0.099325  \n",
       " TCGA-Z7-A8R6     0.030936     0.100159  \n",
       " \n",
       " [627 rows x 773 columns],\n",
       " 'mrna':                   A1BG      A1CF    A2BP1     A2LD1     A2ML1       A2M  \\\n",
       " TCGA-3C-AALI  0.089449  0.000000  0.00000  0.079959  0.000126  0.016260   \n",
       " TCGA-3C-AALK  0.094835  0.000000  0.00000  0.095500  0.000063  0.033358   \n",
       " TCGA-4H-AAAK  0.131292  0.058824  0.02439  0.253973  0.000126  0.027963   \n",
       " TCGA-5L-AAT1  0.051470  0.000000  0.00000  0.076066  0.000079  0.023035   \n",
       " TCGA-5T-A9QA  0.124619  0.058824  0.00271  0.316789  0.000000  0.005593   \n",
       " ...                ...       ...      ...       ...       ...       ...   \n",
       " TCGA-W8-A86G  0.236527  0.058824  0.02981  0.076590  0.000047  0.049850   \n",
       " TCGA-WT-AB41  0.028475  0.000000  0.01626  0.278617  0.000000  0.013843   \n",
       " TCGA-XX-A899  0.117391  0.000000  0.00271  0.231927  0.000016  0.067641   \n",
       " TCGA-Z7-A8R5  0.153569  0.000000  0.00271  0.084293  0.000063  0.081230   \n",
       " TCGA-Z7-A8R6  0.148807  0.000000  0.00000  0.036585  0.000189  0.026011   \n",
       " \n",
       "                 A4GALT  A4GNT      AAA1      AAAS  ...      ZXDA      ZXDB  \\\n",
       " TCGA-3C-AALI  0.033847   0.04  0.000000  0.217074  ...  0.153610  0.066555   \n",
       " TCGA-3C-AALK  0.168371   0.00  0.000000  0.268211  ...  0.188940  0.089428   \n",
       " TCGA-4H-AAAK  0.107878   0.04  0.058824  0.278021  ...  0.161290  0.083440   \n",
       " TCGA-5L-AAT1  0.038600   0.04  0.000000  0.078898  ...  0.069124  0.053990   \n",
       " TCGA-5T-A9QA  0.105430   0.28  0.000000  0.224796  ...  0.069124  0.039266   \n",
       " ...                ...    ...       ...       ...  ...       ...       ...   \n",
       " TCGA-W8-A86G  0.076336   0.16  0.000000  0.394907  ...  0.089094  0.048493   \n",
       " TCGA-WT-AB41  0.359787   0.00  0.000000  0.226884  ...  0.023041  0.013350   \n",
       " TCGA-XX-A899  0.177013   0.08  0.000000  0.251096  ...  0.261137  0.146069   \n",
       " TCGA-Z7-A8R5  0.102117   0.00  0.000000  0.240868  ...  0.067588  0.026406   \n",
       " TCGA-Z7-A8R6  0.310241   0.00  0.000000  0.400125  ...  0.136713  0.095514   \n",
       " \n",
       "                   ZXDC    ZYG11A    ZYG11B       ZYX     ZZEF1      ZZZ3  \\\n",
       " TCGA-3C-AALI  0.236598  0.157804  0.081788  0.174010  0.081985  0.017930   \n",
       " TCGA-3C-AALK  0.188753  0.183312  0.117671  0.252786  0.056654  0.055456   \n",
       " TCGA-4H-AAAK  0.236222  0.014267  0.153252  0.160458  0.059814  0.070451   \n",
       " TCGA-5L-AAT1  0.079158  0.028534  0.033677  0.072054  0.049295  0.015947   \n",
       " TCGA-5T-A9QA  0.121117  0.001729  0.032174  0.088078  0.068164  0.021699   \n",
       " ...                ...       ...       ...       ...       ...       ...   \n",
       " TCGA-W8-A86G  0.177104  0.102464  0.083292  0.208097  0.064012  0.061050   \n",
       " TCGA-WT-AB41  0.000000  0.025508  0.000000  0.138059  0.000991  0.002697   \n",
       " TCGA-XX-A899  0.330160  0.023346  0.145735  0.236394  0.199302  0.055774   \n",
       " TCGA-Z7-A8R5  0.094188  0.037613  0.055427  0.196843  0.027171  0.038121   \n",
       " TCGA-Z7-A8R6  0.268412  0.173368  0.135712  0.166529  0.044106  0.040938   \n",
       " \n",
       "               psiTPTE22  tAKR  \n",
       " TCGA-3C-AALI   0.220236   0.0  \n",
       " TCGA-3C-AALK   0.020339   0.0  \n",
       " TCGA-4H-AAAK   0.056484   0.0  \n",
       " TCGA-5L-AAT1   0.008680   0.0  \n",
       " TCGA-5T-A9QA   0.000389   0.0  \n",
       " ...                 ...   ...  \n",
       " TCGA-W8-A86G   0.059593   0.0  \n",
       " TCGA-WT-AB41   0.004146   0.0  \n",
       " TCGA-XX-A899   0.031869   0.0  \n",
       " TCGA-Z7-A8R5   0.051302   0.0  \n",
       " TCGA-Z7-A8R6   0.007255   0.0  \n",
       " \n",
       " [627 rows x 18465 columns],\n",
       " 'proteins':               14-3-3_beta  14-3-3_epsilon  14-3-3_zeta    4E-BP1  4E-BP1_pS65  \\\n",
       " TCGA-3C-AALI     0.403974        0.533935     0.406886  0.239167     0.119029   \n",
       " TCGA-3C-AALK     0.303318        0.565050     0.448557  0.284533     0.100122   \n",
       " TCGA-4H-AAAK     0.300230        0.556784     0.410993  0.314558     0.213474   \n",
       " TCGA-5L-AAT1     0.171829        0.602057     0.473243  0.314115     0.170048   \n",
       " TCGA-5T-A9QA     0.227103        0.610469     0.478355  0.491097     0.399251   \n",
       " ...                   ...             ...          ...       ...          ...   \n",
       " TCGA-W8-A86G     0.738564        0.385956     0.297579  0.338530     0.221547   \n",
       " TCGA-WT-AB41     0.362785        0.581322     0.553549  0.548152     0.296392   \n",
       " TCGA-XX-A899     0.207706        0.650906     0.433922  0.432427     0.223976   \n",
       " TCGA-Z7-A8R5     0.347305        0.504144     0.477080  0.393421     0.247037   \n",
       " TCGA-Z7-A8R6     0.122879        0.501788     0.488921  0.329616     0.251731   \n",
       " \n",
       "               4E-BP1_pT37_T46  4E-BP1_pT70     53BP1     A-Raf  A-Raf_pS299  \\\n",
       " TCGA-3C-AALI         0.252247     0.279890  0.532114  0.597189     0.300498   \n",
       " TCGA-3C-AALK         0.186528     0.107078  0.759309  0.692356     0.218197   \n",
       " TCGA-4H-AAAK         0.179280     0.079048  0.666655  0.677520     0.201963   \n",
       " TCGA-5L-AAT1         0.324214     0.087066  0.832895  0.701265     0.243903   \n",
       " TCGA-5T-A9QA         0.459712     0.355984  0.789540  0.668388     0.238255   \n",
       " ...                       ...          ...       ...       ...          ...   \n",
       " TCGA-W8-A86G         0.366266     0.434856  0.389442  0.131184     0.375467   \n",
       " TCGA-WT-AB41         0.457906     0.320336  0.760588  0.660413     0.214366   \n",
       " TCGA-XX-A899         0.314551     0.200134  0.807222  0.608169     0.245557   \n",
       " TCGA-Z7-A8R5         0.316564     0.191963  0.783289  0.706199     0.254789   \n",
       " TCGA-Z7-A8R6         0.300142     0.005868  0.792202  0.650329     0.228490   \n",
       " \n",
       "               ...  p27_pT157  p27_pT198  p38_MAPK  p38_pT180_Y182       p53  \\\n",
       " TCGA-3C-AALI  ...   0.574520   0.255794  0.403903        0.562600  0.584565   \n",
       " TCGA-3C-AALK  ...   0.516624   0.208243  0.540288        0.667240  0.566300   \n",
       " TCGA-4H-AAAK  ...   0.576942   0.150703  0.446154        0.571665  0.577410   \n",
       " TCGA-5L-AAT1  ...   0.546676   0.102386  0.590137        0.642789  0.548844   \n",
       " TCGA-5T-A9QA  ...   0.636586   0.214834  0.525013        0.206878  0.628854   \n",
       " ...           ...        ...        ...       ...             ...       ...   \n",
       " TCGA-W8-A86G  ...   0.581830   0.504856  0.145524        0.303551  0.555919   \n",
       " TCGA-WT-AB41  ...   0.552110   0.300270  0.685554        0.765590  0.583359   \n",
       " TCGA-XX-A899  ...   0.593486   0.161780  0.552642        0.532947  0.613404   \n",
       " TCGA-Z7-A8R5  ...   0.606149   0.262403  0.732537        0.816809  0.567604   \n",
       " TCGA-Z7-A8R6  ...   0.473802   0.052109  0.553458        0.546725  0.578532   \n",
       " \n",
       "               p62-LCK-ligand    p70S6K  p70S6K_pT389    p90RSK  \\\n",
       " TCGA-3C-AALI        0.692510  0.475394      0.435960  0.231455   \n",
       " TCGA-3C-AALK        0.584796  0.447657      0.322088  0.608802   \n",
       " TCGA-4H-AAAK        0.517987  0.481104      0.171347  0.464385   \n",
       " TCGA-5L-AAT1        0.569156  0.449407      0.155931  0.640495   \n",
       " TCGA-5T-A9QA        0.425347  0.484813      0.481729  0.645235   \n",
       " ...                      ...       ...           ...       ...   \n",
       " TCGA-W8-A86G        0.646125  0.308584      0.221007  0.377118   \n",
       " TCGA-WT-AB41        0.589030  0.541331      0.291261  0.460639   \n",
       " TCGA-XX-A899        0.604636  0.485170      0.127698  0.663534   \n",
       " TCGA-Z7-A8R5        0.474557  0.385110      0.239462  0.652143   \n",
       " TCGA-Z7-A8R6        0.630132  0.466109      0.121869  0.471088   \n",
       " \n",
       "               p90RSK_pT359_S363  \n",
       " TCGA-3C-AALI           0.480984  \n",
       " TCGA-3C-AALK           0.473838  \n",
       " TCGA-4H-AAAK           0.145520  \n",
       " TCGA-5L-AAT1           0.258829  \n",
       " TCGA-5T-A9QA           0.303887  \n",
       " ...                         ...  \n",
       " TCGA-W8-A86G           0.191574  \n",
       " TCGA-WT-AB41           0.383711  \n",
       " TCGA-XX-A899           0.245199  \n",
       " TCGA-Z7-A8R5           0.426395  \n",
       " TCGA-Z7-A8R6           0.278298  \n",
       " \n",
       " [627 rows x 216 columns]}"
      ]
     },
     "execution_count": 20,
     "metadata": {},
     "output_type": "execute_result"
    }
   ],
   "source": [
    "datasets"
   ]
  },
  {
   "cell_type": "code",
   "execution_count": 21,
   "id": "11eabc23",
   "metadata": {},
   "outputs": [
    {
     "data": {
      "text/plain": [
       "x    0.122807\n",
       "dtype: float64"
      ]
     },
     "execution_count": 21,
     "metadata": {},
     "output_type": "execute_result"
    }
   ],
   "source": [
    "#baseline AUPRC\n",
    "label[label['x'] == 1].count()/len(label)"
   ]
  },
  {
   "cell_type": "code",
   "execution_count": 22,
   "id": "00392fff",
   "metadata": {},
   "outputs": [
    {
     "data": {
      "text/plain": [
       "x    77\n",
       "dtype: int64"
      ]
     },
     "execution_count": 22,
     "metadata": {},
     "output_type": "execute_result"
    }
   ],
   "source": [
    "#Numero positivi\n",
    "label[label['x'] == 1].count()"
   ]
  },
  {
   "cell_type": "markdown",
   "id": "43ea9f69",
   "metadata": {},
   "source": [
    "# Correlation with Spearman on cnv"
   ]
  },
  {
   "cell_type": "code",
   "execution_count": 23,
   "id": "d675a704",
   "metadata": {},
   "outputs": [],
   "source": [
    "p_value_threshold = 0.05\n",
    "correlation_threshold = 0.01"
   ]
  },
  {
   "cell_type": "code",
   "execution_count": 24,
   "id": "6f881205",
   "metadata": {},
   "outputs": [],
   "source": [
    "def compute_spearmanr_with_label(dataset, label):\n",
    "    not_correlated_features = []\n",
    "    for feature in tqdm(dataset.columns, desc=f\"Running Spearman test on cnv\", dynamic_ncols=True, leave=False):\n",
    "        correlation, p_value = spearmanr(dataset[feature].values.flatten(), label.values.flatten())\n",
    "        if p_value > p_value_threshold:\n",
    "            #print(f\"In cnv the feature {feature} does not correlate in a statistically significant manner with the output. p-value:{p_value} -- correlation:{correlation}\")\n",
    "            not_correlated_features.append(feature)\n",
    "    return not_correlated_features"
   ]
  },
  {
   "cell_type": "code",
   "execution_count": 25,
   "id": "1d40106e",
   "metadata": {},
   "outputs": [],
   "source": [
    "def spearmanr_between_feature(\n",
    "    X:pd.DataFrame,\n",
    "    feature_left: str,\n",
    "    feature_right: str,\n",
    "):\n",
    "    \"\"\"Returns Spearman correlation.\n",
    "    \n",
    "    Parameters\n",
    "    ----------------------\n",
    "    X:pd.DataFrame,\n",
    "        The epigenomic data.\n",
    "    feature_left: str,\n",
    "        The left features to compute pearson for.\n",
    "    feature_right: str,\n",
    "        The right features to compute pearson for.\n",
    "    \"\"\"\n",
    "    correlation, p_value = spearmanr(\n",
    "        X[feature_left].values.flatten(),\n",
    "        X[feature_right].values.flatten(),\n",
    "    )\n",
    "    return dict(\n",
    "        correlation=correlation,\n",
    "        p_value=p_value\n",
    "    )"
   ]
  },
  {
   "cell_type": "code",
   "execution_count": 26,
   "id": "29e190a0",
   "metadata": {},
   "outputs": [],
   "source": [
    "def compute_spearmanr_between_feature(dataset):\n",
    "    spearman_result = []\n",
    "    score = []\n",
    "    highly_correlated_future = []\n",
    "    for feature_left in tqdm(dataset.columns, desc=f\"Running Spearman test\", dynamic_ncols=True, leave=False):\n",
    "        for feature_right in dataset.columns:\n",
    "                spearman_result  = spearmanr_between_feature(dataset,feature_left,feature_right)\n",
    "                \n",
    "                score.append(spearman_result)\n",
    "                if feature_left!=feature_right and spearman_result[\"p_value\"] < p_value_threshold and np.abs(spearman_result[\"correlation\"]) > 0.95:\n",
    "                    correlation = spearman_result[\"correlation\"]\n",
    "                    #print(f\"The feature {feature_left} is highly correlated with {feature_right} ({correlation}).\")\n",
    "                    highly_correlated_future.append(feature_left)\n",
    "    return highly_correlated_future"
   ]
  },
  {
   "cell_type": "markdown",
   "id": "22859839",
   "metadata": {},
   "source": [
    "## Creation cnv dataset after drop feature not correlated with output and features with higly correlations with other features"
   ]
  },
  {
   "cell_type": "code",
   "execution_count": 27,
   "id": "0aec1b8a",
   "metadata": {},
   "outputs": [],
   "source": [
    "def compute_all_spearman(dataset, label):\n",
    "    #Drop features not correlated with output\n",
    "    new_df = dataset.drop(compute_spearmanr_with_label(dataset, label), axis=1)\n",
    "    high_correlated_feature = compute_spearmanr_between_feature(new_df)\n",
    "    return new_df.drop(high_correlated_feature, axis=1).columns"
   ]
  },
  {
   "cell_type": "markdown",
   "id": "bb7fe3ad",
   "metadata": {},
   "source": [
    "# Correlation with Mine"
   ]
  },
  {
   "cell_type": "code",
   "execution_count": 28,
   "id": "e092ec5a",
   "metadata": {},
   "outputs": [],
   "source": [
    "def compute_mine(dataset, label):\n",
    "    feature_to_drop = []\n",
    "    for feature in tqdm(dataset.columns, desc=f\"Running MINE test\", dynamic_ncols=True, leave=False):\n",
    "        mine = MINE()\n",
    "        mine.compute_score(dataset[feature].values.ravel(), label.values.ravel())\n",
    "        score = mine.mic()\n",
    "        if score < correlation_threshold:\n",
    "            feature_to_drop.append(feature)\n",
    "    return dataset.drop(feature_to_drop, axis=1).columns"
   ]
  },
  {
   "cell_type": "markdown",
   "id": "3842747b",
   "metadata": {},
   "source": [
    "# Univariate feature selection using Kruskal-Wallis e Mann-Whitney"
   ]
  },
  {
   "cell_type": "code",
   "execution_count": 29,
   "id": "5fa82652",
   "metadata": {},
   "outputs": [],
   "source": [
    "def create_dataframe_pos_neg(dataset, label):\n",
    "    return (dataset[label['x']==1], dataset[label['x']==0])"
   ]
  },
  {
   "cell_type": "code",
   "execution_count": 30,
   "id": "e8a6601e",
   "metadata": {},
   "outputs": [],
   "source": [
    "def univariate_features_selection(dataset, label, univariate_tecnique, min_pValue):\n",
    "    pos, neg = create_dataframe_pos_neg(dataset, label)\n",
    "    H, pval = univariate_tecnique(pos, neg)\n",
    "    mask = (pval < min_pValue)\n",
    "    return dataset.columns[mask]"
   ]
  },
  {
   "cell_type": "markdown",
   "id": "c19b7033",
   "metadata": {},
   "source": [
    "# Umap"
   ]
  },
  {
   "cell_type": "code",
   "execution_count": 31,
   "id": "0e4d0523",
   "metadata": {},
   "outputs": [],
   "source": [
    "#init='random'\n",
    "def execute_umap(n_components, X, y):\n",
    "    return umap.UMAP(n_neighbors=5, n_components=n_components, random_state=42).fit_transform(X, y)"
   ]
  },
  {
   "cell_type": "markdown",
   "id": "118fee41",
   "metadata": {},
   "source": [
    "# Multivariate feature selection, mrmr and Boruta"
   ]
  },
  {
   "cell_type": "code",
   "execution_count": 32,
   "id": "f00975df",
   "metadata": {},
   "outputs": [],
   "source": [
    "def execute_mrmr(dataset, n_feature):\n",
    "    return mRMR(dataset, 'MIQ', n_feature)"
   ]
  },
  {
   "cell_type": "code",
   "execution_count": 33,
   "id": "4b7944c1",
   "metadata": {},
   "outputs": [],
   "source": [
    "def execute_boruta_feature_selection(\n",
    "    X_train: pd.DataFrame,\n",
    "    y_train: np.ndarray,\n",
    "    holdout_number: int,\n",
    "    max_iter: int = 100,\n",
    "):\n",
    "    \"\"\"Returns tuple with list of kept features and list of discared features.\n",
    "    \n",
    "    Parameters\n",
    "    --------------------------\n",
    "    X_train: pd.DataFrame,\n",
    "        The data reserved for the input of the training of the Boruta model.\n",
    "    y_train: np.ndarray,\n",
    "        The data reserved for the output of the training of the Boruta model.\n",
    "    holdout_number: int,\n",
    "        The current holdout number.\n",
    "    max_iter: int = 100,\n",
    "        Number of iterations to run Boruta for.\n",
    "    \"\"\"\n",
    "    \n",
    "    print('execute boruta')\n",
    "\n",
    "    model = RandomForestClassifier(n_jobs=-1, class_weight='balanced_subsample', max_depth=5)\n",
    "    \n",
    "    boruta_selector = BorutaPy(\n",
    "        model,\n",
    "        n_estimators='auto',\n",
    "        verbose=False,\n",
    "        alpha=0.05,\n",
    "        max_iter=max_iter, \n",
    "        random_state=42,\n",
    "    )\n",
    "    boruta_selector.fit(X_train.values, y_train.values.ravel())\n",
    "    \n",
    "    kept_features = list(X_train.columns[boruta_selector.support_])\n",
    "    discarded_features = list(X_train.columns[~boruta_selector.support_])\n",
    "    \n",
    "    return kept_features, discarded_features"
   ]
  },
  {
   "cell_type": "markdown",
   "id": "0b8a7eb3",
   "metadata": {},
   "source": [
    "# Train"
   ]
  },
  {
   "cell_type": "code",
   "execution_count": 34,
   "id": "afd31355",
   "metadata": {},
   "outputs": [],
   "source": [
    "def train_model(key, label, num_extenal_fold, type_feature_selection, datasets):\n",
    "    \n",
    "    \"\"\"Return AUPRC score after training.\n",
    "    \n",
    "    Parameters\n",
    "    --------------------------\n",
    "    dataset: string,\n",
    "        The data reserved for the input of the training.\n",
    "    label: pd.DataFrame,\n",
    "        The data reserved for the output of the training.\n",
    "    num_external_fold: int,\n",
    "        The current holdout number.\n",
    "    type_feature_selection: string,\n",
    "        Type of feature selection: ['kruskal', 'mrmr', 'mannwhitneyu', 'boruta']\n",
    "    min_pValue: int,\n",
    "        Minimum value of p_value. Valid if type_feature_selection == 'kruskal' or 'mannwhitneyu',\n",
    "    use_umap: bool,\n",
    "        Specified to use or not use UMAP for feature extraction after univariate feature selection (kruskal, mannwhitneyu)\n",
    "    \"\"\"\n",
    "    _, ax = plt.subplots(figsize=(10, 10))\n",
    "    average_precision_scores =[]\n",
    "    dataset = datasets[key]\n",
    "    y_score_concatenated = []\n",
    "    y_test_fold_concatenated = []\n",
    "    colors = [\"navy\", \"turquoise\", \"darkorange\", \"cornflowerblue\", \"teal\"]\n",
    "    \n",
    "    #to numpy\n",
    "    X_numpy = dataset.to_numpy()\n",
    "    y_numpy = label['x'].to_numpy()\n",
    "    \n",
    "    iterator = 0\n",
    "    \n",
    "    external_fold = StratifiedKFold(n_splits=num_extenal_fold, shuffle=True, random_state=1)\n",
    "    \n",
    "    for train_index, test_index in tqdm(external_fold.split(X_numpy, label), desc=f\"Running fold \", dynamic_ncols=True, leave=False):\n",
    "        \n",
    "        X_train_fold, X_test_fold = X_numpy[train_index], X_numpy[test_index]\n",
    "        y_train_fold, y_test_fold = y_numpy[train_index], y_numpy[test_index]\n",
    "        \n",
    "        df_X_train = pd.DataFrame(data=X_train_fold, columns=dataset.columns)\n",
    "        df_X_test = pd.DataFrame(data=X_test_fold, columns=dataset.columns)\n",
    "        df_y_train = pd.DataFrame(data=y_train_fold, columns=label.columns)\n",
    "        \n",
    "        \n",
    "        #feature selection\n",
    "        if 'kruskal' in type_feature_selection:\n",
    "            selected_features = univariate_features_selection(df_X_train, df_y_train, kruskal, 0.05)\n",
    "        elif 'mannwhitneyu' in type_feature_selection:\n",
    "            selected_features = univariate_features_selection(df_X_train, df_y_train, mannwhitneyu, 0.05)\n",
    "        elif type_feature_selection == \"mrmr\":\n",
    "            selected_features = execute_mrmr(df_X_train, 100)\n",
    "        elif type_feature_selection == 'boruta':\n",
    "            selected_features, discarded_feature =  execute_boruta_feature_selection(df_X_train, df_y_train, 5)\n",
    "        elif type_feature_selection == 'mine':\n",
    "            selected_features = compute_mine(df_X_train, df_y_train)\n",
    "        elif type_feature_selection == 'spearman':\n",
    "            selected_features = compute_all_spearman(df_X_train, df_y_train)\n",
    "        else:\n",
    "            return \"Invalid type of feature selection\"\n",
    "              \n",
    "        X_train_selected_feature = df_X_train[selected_features]\n",
    "        X_test_selected_feature = df_X_test[selected_features]\n",
    "        \n",
    "        \n",
    "        if 'umap' in type_feature_selection:\n",
    "            X_train_selected_feature = execute_umap(50, X_train_selected_feature, y_train_fold)\n",
    "            X_test_selected_feature = execute_umap(50, X_test_selected_feature , y_test_fold)\n",
    "            \n",
    "        clf = GridSearchCV(estimator=RandomForestClassifier(),\n",
    "                           scoring='average_precision',\n",
    "                           param_grid=model_selection_grid_DT, \n",
    "                           cv=2, \n",
    "                           n_jobs=-1)\n",
    "        clf.fit(X_train_selected_feature, y_train_fold)\n",
    "    \n",
    "        # Get the predicited probability of testing data\n",
    "        y_score = clf.predict_proba(X_test_selected_feature)[:, 1]\n",
    "        \n",
    "        avg_precision_score = average_precision_score(y_test_fold, y_score)\n",
    "        average_precision_scores.append(avg_precision_score)\n",
    "        \n",
    "        #concatenation of result for external AUPRC\n",
    "        y_score_concatenated = np.concatenate((y_score_concatenated, y_score), axis=None)\n",
    "        y_test_fold_concatenated = np.concatenate((y_test_fold_concatenated, y_test_fold), axis=None)\n",
    "               \n",
    "        PrecisionRecallDisplay.from_predictions(y_test_fold, y_score, ax=ax,name=f'Result on {iterator} fold:')\n",
    "\n",
    "        plt.title('Random_Forest internal')\n",
    "        ax.legend(title='AUPRC')\n",
    "        \n",
    "        iterator = iterator +1\n",
    "    plt.savefig('result_Many_Feature_Selection_notebook/'+key+'/'+type_feature_selection+'_'+'AUPRC_Internal.pdf')\n",
    "    \n",
    "    #plt.show()\n",
    "    internal_average_precision_score = np.mean(average_precision_scores)\n",
    "    \n",
    "    external_average_precision_score = average_precision_score(y_test_fold_concatenated, y_score_concatenated)\n",
    "\n",
    "    #plot precision recall curve\n",
    "    PrecisionRecallDisplay.from_predictions(y_test_fold_concatenated, y_score_concatenated)\n",
    "\n",
    "    plt.title('Random_Forest external')\n",
    "    plt.legend(title='AUPRC')\n",
    "    #plt.show()\n",
    "    plt.savefig('result_Many_Feature_Selection_notebook/'+key+'/'+type_feature_selection+'_'+'AUPRC_External.pdf')\n",
    "    \n",
    "    return '{0:.4f}'.format(internal_average_precision_score), '{0:.4f}'.format(external_average_precision_score), str(clf.best_estimator_)"
   ]
  },
  {
   "cell_type": "code",
   "execution_count": 35,
   "id": "ba37c80f",
   "metadata": {},
   "outputs": [],
   "source": [
    "model_selection_grid_DT = [\n",
    "    {'criterion': ['gini', 'entropy'],\n",
    "     'max_leaf_nodes': [None, 2, 5, 10],\n",
    "     'max_features': [None, 'sqrt', 'log2'],\n",
    "    'n_estimators': [51, 101, 251, 500]}\n",
    "]"
   ]
  },
  {
   "cell_type": "markdown",
   "id": "c6eb18f1",
   "metadata": {},
   "source": [
    "# Train all datasets with combination of feature selection and feature extraction "
   ]
  },
  {
   "cell_type": "code",
   "execution_count": 36,
   "id": "d184b005",
   "metadata": {},
   "outputs": [],
   "source": [
    "files_name = ['result_Many_Feature_Selection_notebook/proteins/proteins.json',\n",
    "              'result_Many_Feature_Selection_notebook/miRNA/mRNA.json',\n",
    "              'result_Many_Feature_Selection_notebook/mRNA/miRNA.json',\n",
    "              'result_Many_Feature_Selection_notebook/cnv/cnv.json']\n",
    "dataset_list = ['proteins', 'mrna', 'mirna', 'cnv']\n",
    "feature_selection_list = ['mannwhitneyu', 'mrmr', 'mannwhitneyu_with_umap']"
   ]
  },
  {
   "cell_type": "code",
   "execution_count": 37,
   "id": "c974eb19",
   "metadata": {},
   "outputs": [],
   "source": [
    "def create_result_json(result_dict, feature_selection_list, files_name, dataset_list, label, datasets,):\n",
    "    for file_name, key in tqdm(zip(files_name, dataset_list), desc=f\"Running training \", dynamic_ncols=True, leave=False):\n",
    "        #print(f'FILE NAME {file_name}')\n",
    "        if os.path.exists(file_name):\n",
    "            with open(file_name, 'r') as fp:\n",
    "                saved_dict = json.load(fp)\n",
    "                result_dict[key] = saved_dict\n",
    "                for feature_selection in tqdm(feature_selection_list,desc=f\"Running {key} training \", dynamic_ncols=True, leave=False):\n",
    "                    print(f'TECNICA DI FS exist {feature_selection}')\n",
    "                    if not feature_selection in result_dict[key].keys():\n",
    "                        result_dict[key][feature_selection] = {}    \n",
    "                        result_dict[key][feature_selection]['internal'],  result_dict[key][feature_selection]['external'], result_dict[key][feature_selection]['best_estimator'] = train_model(key, label, 10, feature_selection, datasets)\n",
    "                        with open(file_name, 'w', encoding='utf-8') as fp:\n",
    "                            json.dump(result_dict[key], fp, ensure_ascii=False, indent=4)\n",
    "        else:\n",
    "            result_dict[key] = {}\n",
    "            for feature_selection in tqdm(feature_selection_list, desc=f\"Running {key} training \", dynamic_ncols=True, leave=False):\n",
    "                print(f'TECNICA DI FS check {feature_selection}')\n",
    "                print(f'file name {file_name}')\n",
    "                result_dict[key][feature_selection] = {}    \n",
    "                result_dict[key][feature_selection]['internal'],  result_dict[key][feature_selection]['external'], result_dict[key][feature_selection]['best_estimator'] = train_model(key, label, 10, feature_selection, datasets)\n",
    "            with open(file_name, 'w', encoding='utf-8') as fp:\n",
    "                json.dump(result_dict[key], fp, ensure_ascii=False, indent=4)"
   ]
  },
  {
   "cell_type": "markdown",
   "id": "386e72ce",
   "metadata": {},
   "source": [
    "# Create cnv result using spearman"
   ]
  },
  {
   "cell_type": "code",
   "execution_count": 38,
   "id": "c4aee2a9",
   "metadata": {},
   "outputs": [
    {
     "name": "stdout",
     "output_type": "stream",
     "text": [
      "mkdir: impossibile creare la directory \"result_Many_Feature_Selection_notebook\": File già esistente\r\n"
     ]
    }
   ],
   "source": [
    "result_dict = {}\n",
    "\n",
    "dataset_list = ['cnv']\n",
    "cnv_file_name = ['result_Many_Feature_Selection_notebook/cnv/cnv.json']\n",
    "feature_selection_list_cnv = ['spearman']\n",
    "\n",
    "!mkdir  'result_Many_Feature_Selection_notebook'"
   ]
  },
  {
   "cell_type": "code",
   "execution_count": 39,
   "id": "191c49b6",
   "metadata": {},
   "outputs": [
    {
     "name": "stdout",
     "output_type": "stream",
     "text": [
      "mkdir: impossibile creare la directory \"result_Many_Feature_Selection_notebook/cnv\": File già esistente\r\n"
     ]
    },
    {
     "name": "stderr",
     "output_type": "stream",
     "text": [
      "Running training : 0it [00:00, ?it/s]\n",
      "Running cnv training :   0%|                                                                                                                                                         | 0/1 [00:00<?, ?it/s]\u001b[A\n",
      "                                                                                                                                                                                                           \u001b[A"
     ]
    },
    {
     "name": "stdout",
     "output_type": "stream",
     "text": [
      "TECNICA DI FS exist spearman\n"
     ]
    },
    {
     "name": "stderr",
     "output_type": "stream",
     "text": [
      "\r"
     ]
    }
   ],
   "source": [
    "!mkdir 'result_Many_Feature_Selection_notebook/cnv'\n",
    "create_result_json(result_dict, feature_selection_list_cnv, cnv_file_name, dataset_list, label, datasets)"
   ]
  },
  {
   "cell_type": "markdown",
   "id": "3d232b3d",
   "metadata": {},
   "source": [
    "# Create proteins result using mannwhitneyu, mrmr, mannwhitneyu_with_umap, mne"
   ]
  },
  {
   "cell_type": "code",
   "execution_count": 40,
   "id": "631c43d4",
   "metadata": {},
   "outputs": [
    {
     "name": "stdout",
     "output_type": "stream",
     "text": [
      "mkdir: impossibile creare la directory \"result_Many_Feature_Selection_notebook/proteins\": File già esistente\r\n"
     ]
    },
    {
     "name": "stderr",
     "output_type": "stream",
     "text": [
      "Running training : 0it [00:00, ?it/s]\n",
      "Running proteins training :   0%|                                                                                                                                                    | 0/5 [00:00<?, ?it/s]\u001b[A\n",
      "                                                                                                                                                                                                           \u001b[A"
     ]
    },
    {
     "name": "stdout",
     "output_type": "stream",
     "text": [
      "TECNICA DI FS exist mannwhitneyu\n",
      "TECNICA DI FS exist mannwhitneyu_with_umap\n",
      "TECNICA DI FS exist boruta\n",
      "TECNICA DI FS exist mine\n",
      "TECNICA DI FS exist mrmr\n"
     ]
    },
    {
     "name": "stderr",
     "output_type": "stream",
     "text": [
      "\r"
     ]
    }
   ],
   "source": [
    "dataset_list = ['proteins']\n",
    "proteins_file_name = ['result_Many_Feature_Selection_notebook/proteins/proteins.json']\n",
    "feature_selection_list = ['mannwhitneyu','mannwhitneyu_with_umap', 'boruta', 'mine', 'mrmr']\n",
    "\n",
    "\n",
    "!mkdir 'result_Many_Feature_Selection_notebook/proteins'\n",
    "create_result_json(result_dict, feature_selection_list, proteins_file_name, dataset_list, label, datasets)"
   ]
  },
  {
   "cell_type": "markdown",
   "id": "b5fc7cd4",
   "metadata": {},
   "source": [
    "# Create mRNA result using mannwhitneyu, mrmr, mannwhitneyu_with_umap, mine, boruta"
   ]
  },
  {
   "cell_type": "code",
   "execution_count": 41,
   "id": "1e4012d0",
   "metadata": {},
   "outputs": [
    {
     "name": "stdout",
     "output_type": "stream",
     "text": [
      "mkdir: impossibile creare la directory \"result_Many_Feature_Selection_notebook/mrna\": File già esistente\r\n"
     ]
    },
    {
     "name": "stderr",
     "output_type": "stream",
     "text": [
      "Running training : 0it [00:00, ?it/s]\n",
      "Running mrna training :   0%|                                                                                                                                                        | 0/4 [00:00<?, ?it/s]\u001b[A\n",
      "                                                                                                                                                                                                           \u001b[A"
     ]
    },
    {
     "name": "stdout",
     "output_type": "stream",
     "text": [
      "TECNICA DI FS exist mannwhitneyu\n",
      "TECNICA DI FS exist mannwhitneyu_with_umap\n",
      "TECNICA DI FS exist boruta\n",
      "TECNICA DI FS exist mine\n"
     ]
    },
    {
     "name": "stderr",
     "output_type": "stream",
     "text": [
      "\r"
     ]
    }
   ],
   "source": [
    "dataset_list = ['mrna']\n",
    "mrna_file_name = ['result_Many_Feature_Selection_notebook/mrna/mrna.json']\n",
    "feature_selection_list = ['mannwhitneyu','mannwhitneyu_with_umap', 'boruta', 'mine']\n",
    "#,'mrmr'\n",
    "\n",
    "!mkdir 'result_Many_Feature_Selection_notebook/mrna'\n",
    "create_result_json(result_dict, feature_selection_list, mrna_file_name, dataset_list, label, datasets)"
   ]
  },
  {
   "cell_type": "markdown",
   "id": "273a8ebd",
   "metadata": {},
   "source": [
    "# Create miRNA result using mannwhitneyu, mrmr, mannwhitneyu_with_umap, mic, boruta"
   ]
  },
  {
   "cell_type": "code",
   "execution_count": null,
   "id": "d2fd72bd",
   "metadata": {},
   "outputs": [
    {
     "name": "stderr",
     "output_type": "stream",
     "text": [
      "Running training : 0it [00:00, ?it/s]\n",
      "Running mirna training :   0%|                                                                                                                                                       | 0/5 [00:00<?, ?it/s]\u001b[A"
     ]
    },
    {
     "name": "stdout",
     "output_type": "stream",
     "text": [
      "TECNICA DI FS check mannwhitneyu\n",
      "file name result/mirna/mirna.json\n"
     ]
    },
    {
     "name": "stderr",
     "output_type": "stream",
     "text": [
      "\n",
      "\n",
      "Running fold : 0it [00:00, ?it/s]\u001b[A\u001b[A\n",
      "\n",
      "Running fold : 1it [00:08,  8.09s/it]\u001b[A\u001b[A\n",
      "\n",
      "Running fold : 2it [00:13,  6.55s/it]\u001b[A\u001b[A\n",
      "\n",
      "Running fold : 3it [00:20,  6.73s/it]\u001b[A\u001b[A\n",
      "\n",
      "Running fold : 4it [00:26,  6.57s/it]\u001b[A\u001b[A\n",
      "\n",
      "Running fold : 5it [00:31,  5.91s/it]\u001b[A\u001b[A\n",
      "\n",
      "Running fold : 6it [00:37,  6.04s/it]\u001b[A\u001b[A\n",
      "\n",
      "Running fold : 7it [00:42,  5.65s/it]\u001b[A\u001b[A\n",
      "\n",
      "Running fold : 8it [00:48,  5.65s/it]\u001b[A\u001b[A\n",
      "\n",
      "Running fold : 9it [00:52,  5.24s/it]\u001b[A\u001b[A\n",
      "\n",
      "Running fold : 10it [01:02,  6.80s/it]\u001b[A\u001b[A\n",
      "\n",
      "                                      \u001b[A\u001b[A\n",
      "Running mirna training :  20%|████████████████████████████▌                                                                                                                  | 1/5 [01:03<04:12, 63.03s/it]\u001b[A"
     ]
    },
    {
     "name": "stdout",
     "output_type": "stream",
     "text": [
      "TECNICA DI FS check mannwhitneyu_with_umap\n",
      "file name result/mirna/mirna.json\n"
     ]
    },
    {
     "name": "stderr",
     "output_type": "stream",
     "text": [
      "\n",
      "\n",
      "Running fold : 0it [00:00, ?it/s]\u001b[A\u001b[A\n",
      "\n",
      "Running fold : 1it [00:08,  8.97s/it]\u001b[A\u001b[A\n",
      "\n",
      "Running fold : 2it [00:16,  7.92s/it]\u001b[A\u001b[A\n",
      "\n",
      "Running fold : 3it [00:22,  7.32s/it]\u001b[A\u001b[A\n",
      "\n",
      "Running fold : 4it [00:29,  6.97s/it]\u001b[A\u001b[A\n",
      "\n",
      "Running fold : 5it [00:35,  6.82s/it]\u001b[A\u001b[A\n",
      "\n",
      "Running fold : 6it [00:41,  6.60s/it]\u001b[A\u001b[A\n",
      "\n",
      "Running fold : 7it [00:48,  6.67s/it]\u001b[A\u001b[A\n",
      "\n",
      "Running fold : 8it [00:55,  6.75s/it]\u001b[A\u001b[A\n",
      "\n",
      "Running fold : 9it [01:03,  6.94s/it]\u001b[A\u001b[A\n",
      "\n",
      "Running fold : 10it [01:09,  6.93s/it]\u001b[A\u001b[A\n",
      "\n",
      "                                      \u001b[A\u001b[A\n",
      "Running mirna training :  40%|█████████████████████████████████████████████████████████▏                                                                                     | 2/5 [02:12<03:21, 67.11s/it]\u001b[A"
     ]
    },
    {
     "name": "stdout",
     "output_type": "stream",
     "text": [
      "TECNICA DI FS check boruta\n",
      "file name result/mirna/mirna.json\n"
     ]
    },
    {
     "name": "stderr",
     "output_type": "stream",
     "text": [
      "\n",
      "\n",
      "Running fold : 0it [00:00, ?it/s]\u001b[A\u001b[A"
     ]
    },
    {
     "name": "stdout",
     "output_type": "stream",
     "text": [
      "execute boruta\n"
     ]
    },
    {
     "name": "stderr",
     "output_type": "stream",
     "text": [
      "\n",
      "\n",
      "Running fold : 1it [00:12, 12.97s/it]\u001b[A\u001b[A"
     ]
    },
    {
     "name": "stdout",
     "output_type": "stream",
     "text": [
      "execute boruta\n"
     ]
    },
    {
     "name": "stderr",
     "output_type": "stream",
     "text": [
      "\n",
      "\n",
      "Running fold : 2it [00:21, 10.31s/it]\u001b[A\u001b[A"
     ]
    },
    {
     "name": "stdout",
     "output_type": "stream",
     "text": [
      "execute boruta\n"
     ]
    },
    {
     "name": "stderr",
     "output_type": "stream",
     "text": [
      "\n",
      "\n",
      "Running fold : 3it [00:31, 10.21s/it]\u001b[A\u001b[A"
     ]
    },
    {
     "name": "stdout",
     "output_type": "stream",
     "text": [
      "execute boruta\n"
     ]
    },
    {
     "name": "stderr",
     "output_type": "stream",
     "text": [
      "\n",
      "\n",
      "Running fold : 4it [00:43, 11.10s/it]\u001b[A\u001b[A"
     ]
    },
    {
     "name": "stdout",
     "output_type": "stream",
     "text": [
      "execute boruta\n"
     ]
    },
    {
     "name": "stderr",
     "output_type": "stream",
     "text": [
      "\n",
      "\n",
      "Running fold : 5it [00:56, 11.49s/it]\u001b[A\u001b[A"
     ]
    },
    {
     "name": "stdout",
     "output_type": "stream",
     "text": [
      "execute boruta\n"
     ]
    },
    {
     "name": "stderr",
     "output_type": "stream",
     "text": [
      "\n",
      "\n",
      "Running fold : 6it [01:08, 11.62s/it]\u001b[A\u001b[A"
     ]
    },
    {
     "name": "stdout",
     "output_type": "stream",
     "text": [
      "execute boruta\n"
     ]
    },
    {
     "name": "stderr",
     "output_type": "stream",
     "text": [
      "\n",
      "\n",
      "Running fold : 7it [01:16, 10.71s/it]\u001b[A\u001b[A"
     ]
    },
    {
     "name": "stdout",
     "output_type": "stream",
     "text": [
      "execute boruta\n"
     ]
    },
    {
     "name": "stderr",
     "output_type": "stream",
     "text": [
      "\n",
      "\n",
      "Running fold : 8it [01:27, 10.56s/it]\u001b[A\u001b[A"
     ]
    },
    {
     "name": "stdout",
     "output_type": "stream",
     "text": [
      "execute boruta\n"
     ]
    },
    {
     "name": "stderr",
     "output_type": "stream",
     "text": [
      "\n",
      "\n",
      "Running fold : 9it [01:35,  9.85s/it]\u001b[A\u001b[A"
     ]
    },
    {
     "name": "stdout",
     "output_type": "stream",
     "text": [
      "execute boruta\n"
     ]
    },
    {
     "name": "stderr",
     "output_type": "stream",
     "text": [
      "\n",
      "\n",
      "Running fold : 10it [01:43,  9.42s/it]\u001b[A\u001b[A\n",
      "\n",
      "                                      \u001b[A\u001b[A\n",
      "Running mirna training :  60%|█████████████████████████████████████████████████████████████████████████████████████▊                                                         | 3/5 [03:56<02:47, 83.91s/it]\u001b[A"
     ]
    },
    {
     "name": "stdout",
     "output_type": "stream",
     "text": [
      "TECNICA DI FS check mine\n",
      "file name result/mirna/mirna.json\n"
     ]
    },
    {
     "name": "stderr",
     "output_type": "stream",
     "text": [
      "\n",
      "\n",
      "Running fold : 0it [00:00, ?it/s]\u001b[A\u001b[A\n",
      "\n",
      "\n",
      "Running MINE test:   0%|                                                                                                                                                           | 0/773 [00:00<?, ?it/s]\u001b[A\u001b[A\u001b[A\n",
      "\n",
      "\n",
      "Running MINE test:  14%|███████████████████▍                                                                                                                           | 105/773 [00:00<00:00, 1049.00it/s]\u001b[A\u001b[A\u001b[A\n",
      "\n",
      "\n",
      "Running MINE test:  27%|███████████████████████████████████████                                                                                                         | 210/773 [00:00<00:00, 742.30it/s]\u001b[A\u001b[A\u001b[A\n",
      "\n",
      "\n",
      "Running MINE test:  39%|████████████████████████████████████████████████████████▍                                                                                       | 303/773 [00:00<00:00, 811.78it/s]\u001b[A\u001b[A\u001b[A\n",
      "\n",
      "\n",
      "Running MINE test:  58%|███████████████████████████████████████████████████████████████████████████████████▍                                                           | 451/773 [00:00<00:00, 1037.26it/s]\u001b[A\u001b[A\u001b[A\n",
      "\n",
      "\n",
      "Running MINE test:  76%|█████████████████████████████████████████████████████████████████████████████████████████████████████████████▎                                 | 591/773 [00:00<00:00, 1156.75it/s]\u001b[A\u001b[A\u001b[A\n",
      "\n",
      "\n",
      "Running MINE test:  97%|██████████████████████████████████████████████████████████████████████████████████████████████████████████████████████████████████████████▋    | 750/773 [00:00<00:00, 1289.32it/s]\u001b[A\u001b[A\u001b[A\n",
      "\n",
      "\n",
      "                                                                                                                                                                                                           \u001b[A\u001b[A\u001b[A\n",
      "\n",
      "Running fold : 1it [00:18, 18.88s/it]\u001b[A\u001b[A\n",
      "\n",
      "\n",
      "Running MINE test:   0%|                                                                                                                                                           | 0/773 [00:00<?, ?it/s]\u001b[A\u001b[A\u001b[A\n",
      "\n",
      "\n",
      "Running MINE test:  13%|███████████████████                                                                                                                            | 103/773 [00:00<00:00, 1026.59it/s]\u001b[A\u001b[A\u001b[A\n",
      "\n",
      "\n",
      "Running MINE test:  27%|██████████████████████████████████████▍                                                                                                         | 206/773 [00:00<00:00, 746.93it/s]\u001b[A\u001b[A\u001b[A\n",
      "\n",
      "\n",
      "Running MINE test:  37%|█████████████████████████████████████████████████████▎                                                                                          | 286/773 [00:00<00:00, 763.82it/s]\u001b[A\u001b[A\u001b[A\n",
      "\n",
      "\n",
      "Running MINE test:  58%|██████████████████████████████████████████████████████████████████████████████████▋                                                            | 447/773 [00:00<00:00, 1059.14it/s]\u001b[A\u001b[A\u001b[A\n",
      "\n",
      "\n",
      "Running MINE test:  74%|█████████████████████████████████████████████████████████████████████████████████████████████████████████▋                                     | 571/773 [00:00<00:00, 1118.77it/s]\u001b[A\u001b[A\u001b[A\n",
      "\n",
      "\n",
      "Running MINE test:  96%|█████████████████████████████████████████████████████████████████████████████████████████████████████████████████████████████████████████▋     | 744/773 [00:00<00:00, 1311.12it/s]\u001b[A\u001b[A\u001b[A\n",
      "\n",
      "\n",
      "                                                                                                                                                                                                           \u001b[A\u001b[A\u001b[A\n",
      "\n",
      "Running fold : 2it [00:37, 18.89s/it]\u001b[A\u001b[A\n",
      "\n",
      "\n",
      "Running MINE test:   0%|                                                                                                                                                           | 0/773 [00:00<?, ?it/s]\u001b[A\u001b[A\u001b[A\n",
      "\n",
      "\n",
      "Running MINE test:  14%|███████████████████▌                                                                                                                           | 106/773 [00:00<00:00, 1054.10it/s]\u001b[A\u001b[A\u001b[A\n",
      "\n",
      "\n",
      "Running MINE test:  27%|███████████████████████████████████████▍                                                                                                        | 212/773 [00:00<00:00, 740.98it/s]\u001b[A\u001b[A\u001b[A\n",
      "\n",
      "\n",
      "Running MINE test:  42%|███████████████████████████████████████████████████████████▊                                                                                    | 321/773 [00:00<00:00, 870.07it/s]\u001b[A\u001b[A\u001b[A\n",
      "\n",
      "\n",
      "Running MINE test:  59%|████████████████████████████████████████████████████████████████████████████████████▋                                                          | 458/773 [00:00<00:00, 1041.32it/s]\u001b[A\u001b[A\u001b[A\n",
      "\n",
      "\n",
      "Running MINE test:  77%|██████████████████████████████████████████████████████████████████████████████████████████████████████████████▎                                | 596/773 [00:00<00:00, 1149.39it/s]\u001b[A\u001b[A\u001b[A\n",
      "\n",
      "\n",
      "Running MINE test:  98%|███████████████████████████████████████████████████████████████████████████████████████████████████████████████████████████████████████████▊   | 756/773 [00:00<00:00, 1285.93it/s]\u001b[A\u001b[A\u001b[A\n",
      "\n",
      "\n",
      "                                                                                                                                                                                                           \u001b[A\u001b[A\u001b[A\n",
      "\n",
      "Running fold : 3it [00:57, 19.16s/it]\u001b[A\u001b[A\n",
      "\n",
      "\n",
      "Running MINE test:   0%|                                                                                                                                                           | 0/773 [00:00<?, ?it/s]\u001b[A\u001b[A\u001b[A\n",
      "\n",
      "\n",
      "Running MINE test:  14%|███████████████████▍                                                                                                                           | 105/773 [00:00<00:00, 1048.97it/s]\u001b[A\u001b[A\u001b[A\n",
      "\n",
      "\n",
      "Running MINE test:  27%|███████████████████████████████████████                                                                                                         | 210/773 [00:00<00:00, 749.87it/s]\u001b[A\u001b[A\u001b[A\n",
      "\n",
      "\n",
      "Running MINE test:  39%|████████████████████████████████████████████████████████                                                                                        | 301/773 [00:00<00:00, 808.34it/s]\u001b[A\u001b[A\u001b[A\n",
      "\n",
      "\n",
      "Running MINE test:  58%|███████████████████████████████████████████████████████████████████████████████████▍                                                           | 451/773 [00:00<00:00, 1048.12it/s]\u001b[A\u001b[A\u001b[A\n",
      "\n",
      "\n",
      "Running MINE test:  77%|█████████████████████████████████████████████████████████████████████████████████████████████████████████████▋                                 | 593/773 [00:00<00:00, 1166.34it/s]\u001b[A\u001b[A\u001b[A\n",
      "\n",
      "\n",
      "Running MINE test:  98%|███████████████████████████████████████████████████████████████████████████████████████████████████████████████████████████████████████████▋   | 755/773 [00:00<00:00, 1302.31it/s]\u001b[A\u001b[A\u001b[A\n",
      "\n",
      "\n",
      "                                                                                                                                                                                                           \u001b[A\u001b[A\u001b[A\n",
      "\n",
      "Running fold : 4it [01:16, 19.10s/it]\u001b[A\u001b[A\n",
      "\n",
      "\n",
      "Running MINE test:   0%|                                                                                                                                                           | 0/773 [00:00<?, ?it/s]\u001b[A\u001b[A\u001b[A\n",
      "\n",
      "\n",
      "Running MINE test:  10%|██████████████▎                                                                                                                                  | 76/773 [00:00<00:00, 747.36it/s]\u001b[A\u001b[A\u001b[A\n",
      "\n",
      "\n",
      "Running MINE test:  21%|█████████████████████████████▌                                                                                                                  | 159/773 [00:00<00:00, 792.69it/s]\u001b[A\u001b[A\u001b[A\n",
      "\n",
      "\n",
      "Running MINE test:  31%|████████████████████████████████████████████▌                                                                                                   | 239/773 [00:00<00:00, 723.23it/s]\u001b[A\u001b[A\u001b[A\n",
      "\n",
      "\n",
      "Running MINE test:  49%|█████████████████████████████████████████████████████████████████████▊                                                                          | 375/773 [00:00<00:00, 954.19it/s]\u001b[A\u001b[A\u001b[A\n",
      "\n",
      "\n",
      "Running MINE test:  66%|█████████████████████████████████████████████████████████████████████████████████████████████▉                                                 | 508/773 [00:00<00:00, 1078.23it/s]\u001b[A\u001b[A\u001b[A\n",
      "\n",
      "\n",
      "Running MINE test:  88%|█████████████████████████████████████████████████████████████████████████████████████████████████████████████████████████████▌                 | 679/773 [00:00<00:00, 1285.71it/s]\u001b[A\u001b[A\u001b[A\n",
      "\n",
      "\n",
      "                                                                                                                                                                                                           \u001b[A\u001b[A\u001b[A\n",
      "\n",
      "Running fold : 5it [01:37, 20.04s/it]\u001b[A\u001b[A\n",
      "\n",
      "\n",
      "Running MINE test:   0%|                                                                                                                                                           | 0/773 [00:00<?, ?it/s]\u001b[A\u001b[A\u001b[A\n",
      "\n",
      "\n",
      "Running MINE test:  14%|███████████████████▌                                                                                                                           | 106/773 [00:00<00:00, 1050.05it/s]\u001b[A\u001b[A\u001b[A\n",
      "\n",
      "\n",
      "Running MINE test:  27%|███████████████████████████████████████▍                                                                                                        | 212/773 [00:00<00:00, 742.50it/s]\u001b[A\u001b[A\u001b[A\n",
      "\n",
      "\n",
      "Running MINE test:  42%|███████████████████████████████████████████████████████████▊                                                                                    | 321/773 [00:00<00:00, 870.75it/s]\u001b[A\u001b[A\u001b[A\n",
      "\n",
      "\n",
      "Running MINE test:  59%|████████████████████████████████████████████████████████████████████████████████████▌                                                          | 457/773 [00:00<00:00, 1037.58it/s]\u001b[A\u001b[A\u001b[A\n",
      "\n",
      "\n",
      "Running MINE test:  77%|██████████████████████████████████████████████████████████████████████████████████████████████████████████████▎                                | 596/773 [00:00<00:00, 1148.82it/s]\u001b[A\u001b[A\u001b[A\n",
      "\n",
      "\n",
      "Running MINE test:  98%|███████████████████████████████████████████████████████████████████████████████████████████████████████████████████████████████████████████▊   | 756/773 [00:00<00:00, 1286.92it/s]\u001b[A\u001b[A\u001b[A\n",
      "\n",
      "\n",
      "                                                                                                                                                                                                           \u001b[A\u001b[A\u001b[A\n",
      "\n",
      "Running fold : 6it [01:56, 19.67s/it]\u001b[A\u001b[A\n",
      "\n",
      "\n",
      "Running MINE test:   0%|                                                                                                                                                           | 0/773 [00:00<?, ?it/s]\u001b[A\u001b[A\u001b[A\n",
      "\n",
      "\n",
      "Running MINE test:  13%|██████████████████▋                                                                                                                            | 101/773 [00:00<00:00, 1008.86it/s]\u001b[A\u001b[A\u001b[A\n",
      "\n",
      "\n",
      "Running MINE test:  26%|█████████████████████████████████████▋                                                                                                          | 202/773 [00:00<00:00, 754.63it/s]\u001b[A\u001b[A\u001b[A\n",
      "\n",
      "\n",
      "Running MINE test:  36%|████████████████████████████████████████████████████▌                                                                                           | 282/773 [00:00<00:00, 748.54it/s]\u001b[A\u001b[A\u001b[A\n",
      "\n",
      "\n",
      "Running MINE test:  57%|█████████████████████████████████████████████████████████████████████████████████▉                                                             | 443/773 [00:00<00:00, 1046.64it/s]\u001b[A\u001b[A\u001b[A\n",
      "\n",
      "\n",
      "Running MINE test:  73%|████████████████████████████████████████████████████████████████████████████████████████████████████████▎                                      | 564/773 [00:00<00:00, 1099.28it/s]\u001b[A\u001b[A\u001b[A\n",
      "\n",
      "\n",
      "Running MINE test:  96%|█████████████████████████████████████████████████████████████████████████████████████████████████████████████████████████████████████████▎     | 742/773 [00:00<00:00, 1314.67it/s]\u001b[A\u001b[A\u001b[A\n",
      "\n",
      "\n",
      "                                                                                                                                                                                                           \u001b[A\u001b[A\u001b[A\n",
      "\n",
      "Running fold : 7it [02:16, 19.49s/it]\u001b[A\u001b[A\n",
      "\n",
      "\n",
      "Running MINE test:   0%|                                                                                                                                                           | 0/773 [00:00<?, ?it/s]\u001b[A\u001b[A\u001b[A\n",
      "\n",
      "\n",
      "Running MINE test:  12%|█████████████████▋                                                                                                                               | 94/773 [00:00<00:00, 931.52it/s]\u001b[A\u001b[A\u001b[A\n",
      "\n",
      "\n",
      "Running MINE test:  24%|███████████████████████████████████                                                                                                             | 188/773 [00:00<00:00, 777.13it/s]\u001b[A\u001b[A\u001b[A\n",
      "\n",
      "\n",
      "Running MINE test:  35%|█████████████████████████████████████████████████▉                                                                                              | 268/773 [00:00<00:00, 693.71it/s]\u001b[A\u001b[A\u001b[A\n",
      "\n",
      "\n",
      "Running MINE test:  56%|███████████████████████████████████████████████████████████████████████████████▌                                                               | 430/773 [00:00<00:00, 1004.20it/s]\u001b[A\u001b[A\u001b[A\n",
      "\n",
      "\n",
      "Running MINE test:  72%|██████████████████████████████████████████████████████████████████████████████████████████████████████▍                                        | 554/773 [00:00<00:00, 1076.24it/s]\u001b[A\u001b[A\u001b[A\n",
      "\n",
      "\n",
      "Running MINE test:  94%|██████████████████████████████████████████████████████████████████████████████████████████████████████████████████████████████████████▍        | 727/773 [00:00<00:00, 1275.30it/s]\u001b[A\u001b[A\u001b[A\n",
      "\n",
      "\n",
      "                                                                                                                                                                                                           \u001b[A\u001b[A\u001b[A\n",
      "\n",
      "Running fold : 8it [02:34, 19.23s/it]\u001b[A\u001b[A\n",
      "\n",
      "\n",
      "Running MINE test:   0%|                                                                                                                                                           | 0/773 [00:00<?, ?it/s]\u001b[A\u001b[A\u001b[A\n",
      "\n",
      "\n",
      "Running MINE test:  12%|█████████████████▋                                                                                                                               | 94/773 [00:00<00:00, 937.03it/s]\u001b[A\u001b[A\u001b[A\n",
      "\n",
      "\n",
      "Running MINE test:  24%|███████████████████████████████████                                                                                                             | 188/773 [00:00<00:00, 765.93it/s]\u001b[A\u001b[A\u001b[A\n",
      "\n",
      "\n",
      "Running MINE test:  35%|█████████████████████████████████████████████████▋                                                                                              | 267/773 [00:00<00:00, 689.21it/s]\u001b[A\u001b[A\u001b[A\n",
      "\n",
      "\n",
      "Running MINE test:  54%|█████████████████████████████████████████████████████████████████████████████▊                                                                  | 418/773 [00:00<00:00, 968.44it/s]\u001b[A\u001b[A\u001b[A\n",
      "\n",
      "\n",
      "Running MINE test:  71%|█████████████████████████████████████████████████████████████████████████████████████████████████████▉                                         | 551/773 [00:00<00:00, 1085.93it/s]\u001b[A\u001b[A\u001b[A\n",
      "\n",
      "\n",
      "Running MINE test:  94%|██████████████████████████████████████████████████████████████████████████████████████████████████████████████████████████████████████▋        | 728/773 [00:00<00:00, 1297.84it/s]\u001b[A\u001b[A\u001b[A\n",
      "\n",
      "\n",
      "                                                                                                                                                                                                           \u001b[A\u001b[A\u001b[A\n",
      "\n",
      "Running fold : 9it [02:53, 19.04s/it]\u001b[A\u001b[A\n",
      "\n",
      "\n",
      "Running MINE test:   0%|                                                                                                                                                           | 0/773 [00:00<?, ?it/s]\u001b[A\u001b[A\u001b[A\n",
      "\n",
      "\n",
      "Running MINE test:  13%|██████████████████▋                                                                                                                            | 101/773 [00:00<00:00, 1009.97it/s]\u001b[A\u001b[A\u001b[A\n",
      "\n",
      "\n"
     ]
    },
    {
     "name": "stderr",
     "output_type": "stream",
     "text": [
      "Running MINE test:  26%|█████████████████████████████████████▋                                                                                                          | 202/773 [00:00<00:00, 744.90it/s]\u001b[A\u001b[A\u001b[A\n",
      "\n",
      "\n",
      "Running MINE test:  36%|████████████████████████████████████████████████████▎                                                                                           | 281/773 [00:00<00:00, 735.26it/s]\u001b[A\u001b[A\u001b[A\n",
      "\n",
      "\n",
      "Running MINE test:  57%|█████████████████████████████████████████████████████████████████████████████████▉                                                             | 443/773 [00:00<00:00, 1040.14it/s]\u001b[A\u001b[A\u001b[A\n",
      "\n",
      "\n",
      "Running MINE test:  73%|███████████████████████████████████████████████████████████████████████████████████████████████████████▉                                       | 562/773 [00:00<00:00, 1088.66it/s]\u001b[A\u001b[A\u001b[A\n",
      "\n",
      "\n",
      "Running MINE test:  96%|████████████████████████████████████████████████████████████████████████████████████████████████████████████████████████████████████████▉      | 740/773 [00:00<00:00, 1308.77it/s]\u001b[A\u001b[A\u001b[A\n",
      "\n",
      "\n",
      "                                                                                                                                                                                                           \u001b[A\u001b[A\u001b[A\n",
      "\n",
      "Running fold : 10it [03:11, 18.81s/it]\u001b[A\u001b[A\n",
      "\n",
      "                                      \u001b[A\u001b[A\n",
      "Running mirna training :  80%|█████████████████████████████████████████████████████████████████████████████████████████████████████████████████▌                            | 4/5 [07:08<02:06, 126.46s/it]\u001b[A"
     ]
    },
    {
     "name": "stdout",
     "output_type": "stream",
     "text": [
      "TECNICA DI FS check mrmr\n",
      "file name result/mirna/mirna.json\n"
     ]
    },
    {
     "name": "stderr",
     "output_type": "stream",
     "text": [
      "\n",
      "\n",
      "Running fold : 0it [00:00, ?it/s]\u001b[A\u001b[A"
     ]
    }
   ],
   "source": [
    "dataset_list = ['mirna']\n",
    "mirna_file_name = ['result/mirna/mirna.json']\n",
    "feature_selection_list = ['mannwhitneyu','mannwhitneyu_with_umap', 'boruta', 'mine', 'mrmr']\n",
    "\n",
    "!mkdir 'result_Many_Feature_Selection_notebook/mirna'\n",
    "create_result_json(result_dict, feature_selection_list, mirna_file_name, dataset_list, label, datasets)"
   ]
  },
  {
   "cell_type": "markdown",
   "id": "4b28d048",
   "metadata": {},
   "source": [
    "# Create concatenation of all dataset"
   ]
  },
  {
   "cell_type": "code",
   "execution_count": null,
   "id": "073b5436",
   "metadata": {},
   "outputs": [],
   "source": [
    "dataset_whole_dataset = pd.concat([datasets['cnv'], datasets['proteins'], datasets['mrna'], datasets['mirna']], axis=1)\n",
    "datasets['whole_dataset'] = dataset_whole_dataset"
   ]
  },
  {
   "cell_type": "markdown",
   "id": "5ee4c014",
   "metadata": {},
   "source": [
    "# Create whole dataset result using mannwhitneyu, mrmr, mannwhitneyu_with_umap, mic, boruta"
   ]
  },
  {
   "cell_type": "code",
   "execution_count": null,
   "id": "eb423d42",
   "metadata": {},
   "outputs": [],
   "source": [
    "dataset_list = ['whole_dataset']\n",
    "whole_dataset_file_name = ['result_Many_Feature_Selection_notebook/whole_dataset/whole_dataset.json']\n",
    "feature_selection_list = ['mannwhitneyu','mannwhitneyu_with_umap','boruta']\n",
    "#,'mine']\n",
    "#, 'mrmr']\n",
    "\n",
    "!mkdir 'result_Many_Feature_Selection_notebook/whole_dataset'\n",
    "create_result_json(result_dict, feature_selection_list, whole_dataset_file_name, dataset_list, label, datasets)"
   ]
  },
  {
   "cell_type": "code",
   "execution_count": null,
   "id": "a5b672a7",
   "metadata": {},
   "outputs": [],
   "source": []
  },
  {
   "cell_type": "code",
   "execution_count": 40,
   "id": "36f3a9d1",
   "metadata": {},
   "outputs": [],
   "source": [
    "random_state = np.random.RandomState(0)"
   ]
  },
  {
   "cell_type": "code",
   "execution_count": 43,
   "id": "de449894",
   "metadata": {},
   "outputs": [],
   "source": [
    "from sklearn.preprocessing import label_binarize\n",
    "\n",
    "# Use label_binarize to be multi-label like settings\n",
    "Y = label_binarize(y, classes=[0, 1, 2])\n",
    "n_classes = Y.shape[1]\n",
    "\n",
    "# Split into training and test\n",
    "X_train, X_test, Y_train, Y_test = train_test_split(\n",
    "    X, Y, test_size=0.5, random_state=random_state\n",
    ")"
   ]
  },
  {
   "cell_type": "code",
   "execution_count": 44,
   "id": "ca6ab947",
   "metadata": {},
   "outputs": [
    {
     "ename": "NameError",
     "evalue": "name 'make_pipeline' is not defined",
     "output_type": "error",
     "traceback": [
      "\u001b[0;31m---------------------------------------------------------------------------\u001b[0m",
      "\u001b[0;31mNameError\u001b[0m                                 Traceback (most recent call last)",
      "\u001b[0;32m/tmp/ipykernel_4791/3866571240.py\u001b[0m in \u001b[0;36m<module>\u001b[0;34m\u001b[0m\n\u001b[1;32m      2\u001b[0m \u001b[0;34m\u001b[0m\u001b[0m\n\u001b[1;32m      3\u001b[0m classifier = OneVsRestClassifier(\n\u001b[0;32m----> 4\u001b[0;31m     \u001b[0mmake_pipeline\u001b[0m\u001b[0;34m(\u001b[0m\u001b[0mStandardScaler\u001b[0m\u001b[0;34m(\u001b[0m\u001b[0;34m)\u001b[0m\u001b[0;34m,\u001b[0m \u001b[0mLinearSVC\u001b[0m\u001b[0;34m(\u001b[0m\u001b[0mrandom_state\u001b[0m\u001b[0;34m=\u001b[0m\u001b[0mrandom_state\u001b[0m\u001b[0;34m)\u001b[0m\u001b[0;34m)\u001b[0m\u001b[0;34m\u001b[0m\u001b[0;34m\u001b[0m\u001b[0m\n\u001b[0m\u001b[1;32m      5\u001b[0m )\n\u001b[1;32m      6\u001b[0m \u001b[0mclassifier\u001b[0m\u001b[0;34m.\u001b[0m\u001b[0mfit\u001b[0m\u001b[0;34m(\u001b[0m\u001b[0mX_train\u001b[0m\u001b[0;34m,\u001b[0m \u001b[0mY_train\u001b[0m\u001b[0;34m)\u001b[0m\u001b[0;34m\u001b[0m\u001b[0;34m\u001b[0m\u001b[0m\n",
      "\u001b[0;31mNameError\u001b[0m: name 'make_pipeline' is not defined"
     ]
    }
   ],
   "source": [
    "from sklearn.multiclass import OneVsRestClassifier\n",
    "\n",
    "classifier = OneVsRestClassifier(\n",
    "    make_pipeline(StandardScaler(), LinearSVC(random_state=random_state))\n",
    ")\n",
    "classifier.fit(X_train, Y_train)\n",
    "y_score = classifier.decision_function(X_test)"
   ]
  },
  {
   "cell_type": "code",
   "execution_count": null,
   "id": "d14249ab",
   "metadata": {},
   "outputs": [],
   "source": []
  },
  {
   "cell_type": "code",
   "execution_count": null,
   "id": "2f5b240f",
   "metadata": {},
   "outputs": [],
   "source": []
  },
  {
   "cell_type": "code",
   "execution_count": 42,
   "id": "a6bcd2c8",
   "metadata": {},
   "outputs": [
    {
     "ename": "NameError",
     "evalue": "name 'y_score' is not defined",
     "output_type": "error",
     "traceback": [
      "\u001b[0;31m---------------------------------------------------------------------------\u001b[0m",
      "\u001b[0;31mNameError\u001b[0m                                 Traceback (most recent call last)",
      "\u001b[0;32m/tmp/ipykernel_4791/1157156150.py\u001b[0m in \u001b[0;36m<module>\u001b[0;34m\u001b[0m\n\u001b[1;32m      7\u001b[0m \u001b[0maverage_precision\u001b[0m \u001b[0;34m=\u001b[0m \u001b[0mdict\u001b[0m\u001b[0;34m(\u001b[0m\u001b[0;34m)\u001b[0m\u001b[0;34m\u001b[0m\u001b[0;34m\u001b[0m\u001b[0m\n\u001b[1;32m      8\u001b[0m \u001b[0;32mfor\u001b[0m \u001b[0mi\u001b[0m \u001b[0;32min\u001b[0m \u001b[0mrange\u001b[0m\u001b[0;34m(\u001b[0m\u001b[0mn_classes\u001b[0m\u001b[0;34m)\u001b[0m\u001b[0;34m:\u001b[0m\u001b[0;34m\u001b[0m\u001b[0;34m\u001b[0m\u001b[0m\n\u001b[0;32m----> 9\u001b[0;31m     \u001b[0mprecision\u001b[0m\u001b[0;34m[\u001b[0m\u001b[0mi\u001b[0m\u001b[0;34m]\u001b[0m\u001b[0;34m,\u001b[0m \u001b[0mrecall\u001b[0m\u001b[0;34m[\u001b[0m\u001b[0mi\u001b[0m\u001b[0;34m]\u001b[0m\u001b[0;34m,\u001b[0m \u001b[0m_\u001b[0m \u001b[0;34m=\u001b[0m \u001b[0mprecision_recall_curve\u001b[0m\u001b[0;34m(\u001b[0m\u001b[0mY_test\u001b[0m\u001b[0;34m[\u001b[0m\u001b[0;34m:\u001b[0m\u001b[0;34m,\u001b[0m \u001b[0mi\u001b[0m\u001b[0;34m]\u001b[0m\u001b[0;34m,\u001b[0m \u001b[0my_score\u001b[0m\u001b[0;34m[\u001b[0m\u001b[0;34m:\u001b[0m\u001b[0;34m,\u001b[0m \u001b[0mi\u001b[0m\u001b[0;34m]\u001b[0m\u001b[0;34m)\u001b[0m\u001b[0;34m\u001b[0m\u001b[0;34m\u001b[0m\u001b[0m\n\u001b[0m\u001b[1;32m     10\u001b[0m     \u001b[0maverage_precision\u001b[0m\u001b[0;34m[\u001b[0m\u001b[0mi\u001b[0m\u001b[0;34m]\u001b[0m \u001b[0;34m=\u001b[0m \u001b[0maverage_precision_score\u001b[0m\u001b[0;34m(\u001b[0m\u001b[0mY_test\u001b[0m\u001b[0;34m[\u001b[0m\u001b[0;34m:\u001b[0m\u001b[0;34m,\u001b[0m \u001b[0mi\u001b[0m\u001b[0;34m]\u001b[0m\u001b[0;34m,\u001b[0m \u001b[0my_score\u001b[0m\u001b[0;34m[\u001b[0m\u001b[0;34m:\u001b[0m\u001b[0;34m,\u001b[0m \u001b[0mi\u001b[0m\u001b[0;34m]\u001b[0m\u001b[0;34m)\u001b[0m\u001b[0;34m\u001b[0m\u001b[0;34m\u001b[0m\u001b[0m\n\u001b[1;32m     11\u001b[0m \u001b[0;34m\u001b[0m\u001b[0m\n",
      "\u001b[0;31mNameError\u001b[0m: name 'y_score' is not defined"
     ]
    }
   ],
   "source": [
    "from sklearn.metrics import precision_recall_curve\n",
    "from sklearn.metrics import average_precision_score\n",
    "\n",
    "# For each class\n",
    "precision = dict()\n",
    "recall = dict()\n",
    "average_precision = dict()\n",
    "for i in range(n_classes):\n",
    "    precision[i], recall[i], _ = precision_recall_curve(Y_test[:, i], y_score[:, i])\n",
    "    average_precision[i] = average_precision_score(Y_test[:, i], y_score[:, i])\n",
    "\n",
    "# A \"micro-average\": quantifying score on all classes jointly\n",
    "precision[\"micro\"], recall[\"micro\"], _ = precision_recall_curve(\n",
    "    Y_test.ravel(), y_score.ravel()\n",
    ")\n",
    "average_precision[\"micro\"] = average_precision_score(Y_test, y_score, average=\"micro\")"
   ]
  },
  {
   "cell_type": "code",
   "execution_count": null,
   "id": "7bbe711e",
   "metadata": {},
   "outputs": [],
   "source": []
  }
 ],
 "metadata": {
  "kernelspec": {
   "display_name": "Python 3 (ipykernel)",
   "language": "python",
   "name": "python3"
  },
  "language_info": {
   "codemirror_mode": {
    "name": "ipython",
    "version": 3
   },
   "file_extension": ".py",
   "mimetype": "text/x-python",
   "name": "python",
   "nbconvert_exporter": "python",
   "pygments_lexer": "ipython3",
   "version": "3.10.6"
  }
 },
 "nbformat": 4,
 "nbformat_minor": 5
}

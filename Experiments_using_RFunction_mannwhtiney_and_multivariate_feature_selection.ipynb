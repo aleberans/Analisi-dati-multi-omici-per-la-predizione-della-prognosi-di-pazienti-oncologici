{
 "cells": [
  {
   "cell_type": "code",
   "execution_count": 1,
   "id": "474116e9",
   "metadata": {},
   "outputs": [
    {
     "name": "stderr",
     "output_type": "stream",
     "text": [
      "/home/ale/.local/lib/python3.10/site-packages/rpy2/robjects/pandas2ri.py:14: FutureWarning: pandas.core.index is deprecated and will be removed in a future version. The public classes are available in the top-level namespace.\n",
      "  from pandas.core.index import Index as PandasIndex\n"
     ]
    }
   ],
   "source": [
    "import json\n",
    "import pandas as pd\n",
    "from scipy.stats import mannwhitneyu\n",
    "import numpy as np\n",
    "import rpy2.robjects as robjects\n",
    "from rpy2.robjects.conversion import localconverter\n",
    "from rpy2.robjects import pandas2ri\n",
    "from sklearn.model_selection import StratifiedKFold, GridSearchCV\n",
    "from tqdm import tqdm\n",
    "from sklearn.ensemble import RandomForestClassifier\n",
    "import os.path\n",
    "from pymrmr import mRMR\n",
    "import matplotlib.pyplot as plt\n",
    "from boruta import BorutaPy\n",
    "from sklearn.metrics import auc, precision_recall_curve, average_precision_score, PrecisionRecallDisplay\n",
    "import pandas as pd"
   ]
  },
  {
   "cell_type": "markdown",
   "id": "963aa9b6",
   "metadata": {},
   "source": [
    "# Import raw data"
   ]
  },
  {
   "cell_type": "code",
   "execution_count": 2,
   "id": "3b24ab06",
   "metadata": {},
   "outputs": [],
   "source": [
    "# import data from csv \n",
    "cnv = pd.read_csv('dataset_hg19/dataset/cnv.csv', sep=' ')\n",
    "miRNA = pd.read_csv('dataset_hg19/dataset/mirna.csv', sep=' ')\n",
    "mRNA = pd.read_csv('dataset_hg19/dataset/mrna.csv', sep=' ')\n",
    "proteins = pd.read_csv('dataset_hg19/dataset/proteins.csv', sep=' ')"
   ]
  },
  {
   "cell_type": "code",
   "execution_count": 3,
   "id": "c2512a3c",
   "metadata": {},
   "outputs": [],
   "source": [
    "label = pd.read_csv('dataset_hg19/dataset/labels_pfi.csv', sep=' ')"
   ]
  },
  {
   "cell_type": "code",
   "execution_count": 4,
   "id": "6feda40b",
   "metadata": {},
   "outputs": [],
   "source": [
    "def store_filtered_normalize_data(dataset_dict):\n",
    "    mkdir_p('filtered_normalize_data')\n",
    "    filtered_normalize_data = create_data_normalized_filtered(dataset_dict, MinMaxScaler, 0.05)\n",
    "    for data in dataset_dict:\n",
    "        filtered_normalize_data[data].to_json('filtered_normalize_data/'+data+'.json')"
   ]
  },
  {
   "cell_type": "code",
   "execution_count": 5,
   "id": "3fe4a860",
   "metadata": {},
   "outputs": [],
   "source": [
    "def load_filtered_normalize_data(dataset_dict):\n",
    "    dict_test = {}\n",
    "    if os.path.exists('filtered_normalize_data'):\n",
    "        for data in dataset_dict:\n",
    "            with open('filtered_normalize_data/'+data+'.json', 'r') as fp:\n",
    "                dataset = pd.read_json(fp)\n",
    "                dict_test[data] = dataset\n",
    "        return dict_test\n",
    "    else:\n",
    "        store_filtered_normalize_data(dataset_dict)\n",
    "        load_filtered_normalize_data(dataset_dict)"
   ]
  },
  {
   "cell_type": "code",
   "execution_count": 6,
   "id": "5a125346",
   "metadata": {},
   "outputs": [],
   "source": [
    "dataset_dict = {'cnv': cnv, 'miRNA': miRNA, 'mRNA': mRNA, 'proteins': proteins}\n",
    "\n",
    "datasets = load_filtered_normalize_data(dataset_dict)"
   ]
  },
  {
   "cell_type": "markdown",
   "id": "b4fd08af",
   "metadata": {},
   "source": [
    "# Create concatenation of all dataset"
   ]
  },
  {
   "cell_type": "code",
   "execution_count": 7,
   "id": "c5702a77",
   "metadata": {},
   "outputs": [],
   "source": [
    "dataset_concat = pd.concat([datasets['cnv'], datasets['proteins'], datasets['mRNA'], datasets['miRNA']], axis=1)"
   ]
  },
  {
   "cell_type": "code",
   "execution_count": 8,
   "id": "61bf938b",
   "metadata": {},
   "outputs": [],
   "source": [
    "datasets['concat'] = dataset_concat"
   ]
  },
  {
   "cell_type": "markdown",
   "id": "6e4dbc9f",
   "metadata": {},
   "source": [
    "# Remove correlated feature using R code"
   ]
  },
  {
   "cell_type": "code",
   "execution_count": 9,
   "id": "ad3fb9e4",
   "metadata": {},
   "outputs": [],
   "source": [
    "# applicare remove correlated di R per buttare via features.\n",
    "# poi usare prima mannwhtiney da solo e poi applicare le mann+multivariate, sopratutto con mRNA che ha 20k features.\n",
    "# l'idea e' di avere una funzione che addestra che mi sputa gli score, il modello addestrato \n",
    "# + le feature che ha usato sui fold per addestrare \n",
    "# usare poi quelle per applicare multivariate"
   ]
  },
  {
   "cell_type": "code",
   "execution_count": 10,
   "id": "4baeba7f",
   "metadata": {},
   "outputs": [
    {
     "name": "stderr",
     "output_type": "stream",
     "text": [
      "R[write to console]: Installazione pacchetto in ‘/usr/local/lib/R/site-library’\n",
      "(perché ‘lib’ non è specificato)\n",
      "\n",
      "R[write to console]: apertura URL 'https://cloud.r-project.org/src/contrib/caret_6.0-93.tar.gz'\n",
      "\n",
      "R[write to console]: Content type 'application/x-gzip'\n",
      "R[write to console]:  length 2273775 bytes (2.2 MB)\n",
      "\n",
      "R[write to console]: =\n",
      "R[write to console]: =\n",
      "R[write to console]: =\n",
      "R[write to console]: =\n",
      "R[write to console]: =\n",
      "R[write to console]: =\n",
      "R[write to console]: =\n",
      "R[write to console]: =\n",
      "R[write to console]: =\n",
      "R[write to console]: =\n",
      "R[write to console]: =\n",
      "R[write to console]: =\n",
      "R[write to console]: =\n",
      "R[write to console]: =\n",
      "R[write to console]: =\n",
      "R[write to console]: =\n",
      "R[write to console]: =\n",
      "R[write to console]: =\n",
      "R[write to console]: =\n",
      "R[write to console]: =\n",
      "R[write to console]: =\n",
      "R[write to console]: =\n",
      "R[write to console]: =\n",
      "R[write to console]: =\n",
      "R[write to console]: =\n",
      "R[write to console]: =\n",
      "R[write to console]: =\n",
      "R[write to console]: =\n",
      "R[write to console]: =\n",
      "R[write to console]: =\n",
      "R[write to console]: =\n",
      "R[write to console]: =\n",
      "R[write to console]: =\n",
      "R[write to console]: =\n",
      "R[write to console]: =\n",
      "R[write to console]: =\n",
      "R[write to console]: =\n",
      "R[write to console]: =\n",
      "R[write to console]: =\n",
      "R[write to console]: =\n",
      "R[write to console]: =\n",
      "R[write to console]: =\n",
      "R[write to console]: =\n",
      "R[write to console]: =\n",
      "R[write to console]: =\n",
      "R[write to console]: =\n",
      "R[write to console]: =\n",
      "R[write to console]: =\n",
      "R[write to console]: =\n",
      "R[write to console]: =\n",
      "R[write to console]: \n",
      "\n",
      "R[write to console]: downloaded 2.2 MB\n",
      "\n",
      "\n",
      "* installing *source* package ‘caret’ ...\n",
      "** pacchetto ‘caret’ aperto con successo con controllo somme MD5\n",
      "** using staged installation\n",
      "** libs\n",
      "installing to /usr/local/lib/R/site-library/00LOCK-caret/00new/caret/libs\n",
      "** R\n"
     ]
    },
    {
     "name": "stdout",
     "output_type": "stream",
     "text": [
      "gcc -I\"/usr/share/R/include\" -DNDEBUG      -fpic  -g -O2 -ffile-prefix-map=/build/r-base-Faorqz/r-base-4.2.2.20221110=. -fstack-protector-strong -Wformat -Werror=format-security -Wdate-time -D_FORTIFY_SOURCE=2  -c caret.c -o caret.o\n",
      "gcc -shared -L/usr/lib/R/lib -Wl,-Bsymbolic-functions -flto=auto -ffat-lto-objects -flto=auto -Wl,-z,relro -o caret.so caret.o -L/usr/lib/R/lib -lR\n"
     ]
    },
    {
     "name": "stderr",
     "output_type": "stream",
     "text": [
      "** data\n",
      "** inst\n",
      "** byte-compile and prepare package for lazy loading\n",
      "** help\n",
      "*** installing help indices\n",
      "** building package indices\n",
      "** installing vignettes\n",
      "** testing if installed package can be loaded from temporary location\n",
      "** checking absolute paths in shared objects and dynamic libraries\n",
      "** testing if installed package can be loaded from final location\n",
      "** testing if installed package keeps a record of temporary installation path\n",
      "* DONE (caret)\n",
      "R[write to console]: \n",
      "\n",
      "R[write to console]: \n",
      "R[write to console]: I pacchetti scaricati con il codice sorgente sono in\n",
      "\t‘/tmp/RtmpKdfOsL/downloaded_packages’\n",
      "R[write to console]: \n",
      "R[write to console]: \n",
      "\n"
     ]
    },
    {
     "data": {
      "text/plain": [
       "<rpy2.rinterface.NULLType object at 0x7fec59d50980> [RTYPES.NILSXP]"
      ]
     },
     "execution_count": 10,
     "metadata": {},
     "output_type": "execute_result"
    }
   ],
   "source": [
    "robjects.r(\"\"\"\n",
    "install.packages('caret')\n",
    "\"\"\")"
   ]
  },
  {
   "cell_type": "code",
   "execution_count": 11,
   "id": "55a336dd",
   "metadata": {},
   "outputs": [
    {
     "name": "stderr",
     "output_type": "stream",
     "text": [
      "R[write to console]: Caricamento del pacchetto richiesto: foreach\n",
      "\n",
      "R[write to console]: Caricamento del pacchetto richiesto: iterators\n",
      "\n",
      "R[write to console]: Caricamento del pacchetto richiesto: parallel\n",
      "\n"
     ]
    },
    {
     "data": {
      "text/html": [
       "\n",
       "        <span>StrVector with 12 elements.</span>\n",
       "        <table>\n",
       "        <tbody>\n",
       "          <tr>\n",
       "          \n",
       "            <td>\n",
       "            'doParall...\n",
       "            </td>\n",
       "          \n",
       "            <td>\n",
       "            'parallel'\n",
       "            </td>\n",
       "          \n",
       "            <td>\n",
       "            'iterators'\n",
       "            </td>\n",
       "          \n",
       "            <td>\n",
       "            ...\n",
       "            </td>\n",
       "          \n",
       "            <td>\n",
       "            'datasets'\n",
       "            </td>\n",
       "          \n",
       "            <td>\n",
       "            'methods'\n",
       "            </td>\n",
       "          \n",
       "            <td>\n",
       "            'base'\n",
       "            </td>\n",
       "          \n",
       "          </tr>\n",
       "        </tbody>\n",
       "        </table>\n",
       "        "
      ],
      "text/plain": [
       "R object with classes: ('character',) mapped to:\n",
       "['doParall..., 'parallel', 'iterators', 'foreach', ..., 'utils', 'datasets', 'methods', 'base']"
      ]
     },
     "execution_count": 11,
     "metadata": {},
     "output_type": "execute_result"
    }
   ],
   "source": [
    "robjects.r(\"\"\"\n",
    "library(doParallel)\n",
    "\"\"\")"
   ]
  },
  {
   "cell_type": "code",
   "execution_count": 12,
   "id": "a1c134de",
   "metadata": {},
   "outputs": [
    {
     "data": {
      "text/plain": [
       "R object with classes: ('function',) mapped to:"
      ]
     },
     "execution_count": 12,
     "metadata": {},
     "output_type": "execute_result"
    }
   ],
   "source": [
    "robjects.r(\"\"\"\n",
    "remove_correlated_par <- function(df, dim_split = 1000, maxiter = 5, method = \"pearson\", cutoff = 0.8){\n",
    "  \n",
    "  #df has features on columns\n",
    "  X = t(df)\n",
    "  niter = 0\n",
    "  if (!is.finite(dim_split)) dim_split = nrow(X)\n",
    "  cat(\"dim(X) before starting remove correlation: \", dim(X), \"\\n\")\n",
    "  while(niter < maxiter ){\n",
    "    cat(\"niter = \", niter, '\\n')\n",
    "    filtered_X = NULL\n",
    "    \n",
    "    cl <- makeCluster(4)\n",
    "    registerDoParallel(cl)\n",
    "    \n",
    "    filtered_X = foreach(nR = seq(1, nrow(X), by=dim_split), \n",
    "                         .combine='rbind', .packages = c(\"caret\")) %dopar% {\n",
    "                           \n",
    "         subX = X[nR:min(nrow(X), (nR+dim_split-1)), ]\n",
    "         cc = cor(t(subX), use = \"pairwise.complete.obs\", method = \"kendall\")\n",
    "         \n",
    "         select_corr = caret::findCorrelation(cc, cutoff = cutoff, exact = FALSE)\n",
    "         #print(length(select_corr))\n",
    "         \n",
    "         if (length(select_corr)>0){ \n",
    "           subX = subX[-select_corr, ]\n",
    "         }\n",
    "         \n",
    "         return(subX)\n",
    "           \n",
    "     }\n",
    "    \n",
    "    stopCluster(cl)\n",
    "    \n",
    "    print(names(filtered_X))\n",
    "    #    if (length(unique(filtered_X[,1]))>1) cat('PROBLEMA!')\n",
    "    no_removed = nrow(X)-nrow(filtered_X)\n",
    "    cat('Removed = ', no_removed, '\\n')\n",
    "    cat('dim filetered_X =', dim(filtered_X), '\\n')\n",
    "\n",
    "    X = filtered_X[sample(nrow(filtered_X)), ]\n",
    "    \n",
    "    niter = niter + 1\n",
    "    cat(\"nrow(X) =\", dim(X), '\\n')\n",
    "    if (no_removed ==0) break;\n",
    "  }\n",
    "  cat('final dimension = ', dim(t(X)), '\\n')\n",
    "  \n",
    "  \n",
    "  return(t(X))\n",
    "    }\n",
    "    \"\"\")"
   ]
  },
  {
   "cell_type": "markdown",
   "id": "30bd284a",
   "metadata": {},
   "source": [
    "# Convert data in a r structure data"
   ]
  },
  {
   "cell_type": "code",
   "execution_count": 13,
   "id": "91205736",
   "metadata": {},
   "outputs": [
    {
     "name": "stderr",
     "output_type": "stream",
     "text": [
      "/home/ale/.local/lib/python3.10/site-packages/rpy2/robjects/pandas2ri.py:53: FutureWarning: iteritems is deprecated and will be removed in a future version. Use .items instead.\n",
      "  for name, values in obj.iteritems():\n"
     ]
    }
   ],
   "source": [
    "with localconverter(robjects.default_converter + pandas2ri.converter):\n",
    "    r_proteins = robjects.conversion.py2rpy(datasets['proteins'])"
   ]
  },
  {
   "cell_type": "code",
   "execution_count": 14,
   "id": "4f5564a9",
   "metadata": {},
   "outputs": [],
   "source": [
    "with localconverter(robjects.default_converter + pandas2ri.converter):\n",
    "    r_miRNA = robjects.conversion.py2rpy(datasets['miRNA'])"
   ]
  },
  {
   "cell_type": "code",
   "execution_count": 15,
   "id": "da9a7d68",
   "metadata": {},
   "outputs": [],
   "source": [
    "with localconverter(robjects.default_converter + pandas2ri.converter):\n",
    "    r_mRNA = robjects.conversion.py2rpy(datasets['mRNA'])"
   ]
  },
  {
   "cell_type": "code",
   "execution_count": 16,
   "id": "e89acf30",
   "metadata": {},
   "outputs": [],
   "source": [
    "with localconverter(robjects.default_converter + pandas2ri.converter):\n",
    "    r_cnv = robjects.conversion.py2rpy(datasets['cnv'])"
   ]
  },
  {
   "cell_type": "code",
   "execution_count": 17,
   "id": "fb40a4a3",
   "metadata": {},
   "outputs": [],
   "source": [
    "with localconverter(robjects.default_converter + pandas2ri.converter):\n",
    "    r_concat = robjects.conversion.py2rpy(datasets['concat'])"
   ]
  },
  {
   "cell_type": "markdown",
   "id": "69285f02",
   "metadata": {},
   "source": [
    "# Store data in local"
   ]
  },
  {
   "cell_type": "code",
   "execution_count": 18,
   "id": "58a620b2",
   "metadata": {},
   "outputs": [],
   "source": [
    "def compute_and_save_result(data, path):\n",
    "    data_removed = robjects.globalenv[\"remove_correlated_par\"](data)\n",
    "    df = pd.DataFrame(data=np.array(data_removed), columns=data_removed.colnames)\n",
    "    df.to_json(path)\n",
    "    \n",
    "def restore_result(file_name):\n",
    "    return pd.read_json(f'elaborated_data_r_mannwhtiney_and_multivariate_feature_selection/{file_name}.json')\n",
    "\n",
    "def load_or_store_removed_correlated(data, file_name):\n",
    "    if os.path.exists(f'elaborated_data_r_mannwhtiney_and_multivariate_feature_selection/{file_name}.json'):\n",
    "        return restore_result(file_name)\n",
    "    else:\n",
    "        compute_and_save_result(data, f'elaborated_data_r_mannwhtiney_and_multivariate_feature_selection/{file_name}.json')\n",
    "        return restore_result(file_name)"
   ]
  },
  {
   "cell_type": "code",
   "execution_count": 19,
   "id": "df560fa1",
   "metadata": {},
   "outputs": [],
   "source": [
    "df_proteins_removed = load_or_store_removed_correlated(r_proteins, 'r_proteins_removed')"
   ]
  },
  {
   "cell_type": "code",
   "execution_count": 20,
   "id": "657eb7e1",
   "metadata": {},
   "outputs": [],
   "source": [
    "df_mirna_removed = load_or_store_removed_correlated(r_miRNA, 'r_mirna_removed')"
   ]
  },
  {
   "cell_type": "code",
   "execution_count": 21,
   "id": "4715aecc",
   "metadata": {},
   "outputs": [],
   "source": [
    "df_mrna_removed = load_or_store_removed_correlated(r_mRNA, 'r_mrna_removed')"
   ]
  },
  {
   "cell_type": "code",
   "execution_count": 22,
   "id": "3afecfa8",
   "metadata": {},
   "outputs": [],
   "source": [
    "df_cnv_removed = load_or_store_removed_correlated(r_cnv, 'r_cnv_removed')"
   ]
  },
  {
   "cell_type": "code",
   "execution_count": 23,
   "id": "24418740",
   "metadata": {},
   "outputs": [],
   "source": [
    "df_concat_removed = load_or_store_removed_correlated(r_concat, 'r_concat_removed')"
   ]
  },
  {
   "cell_type": "code",
   "execution_count": 24,
   "id": "9dc32b5b",
   "metadata": {},
   "outputs": [
    {
     "name": "stdout",
     "output_type": "stream",
     "text": [
      "DATI MANIPOLATI CON LA FUNZIONE R ELIMINANDO LE FEATURE CORRELATE\n"
     ]
    }
   ],
   "source": [
    "print('DATI MANIPOLATI CON LA FUNZIONE R ELIMINANDO LE FEATURE CORRELATE')"
   ]
  },
  {
   "cell_type": "markdown",
   "id": "0ad25462",
   "metadata": {},
   "source": [
    "# Mann-Whitney"
   ]
  },
  {
   "cell_type": "code",
   "execution_count": 25,
   "id": "63966031",
   "metadata": {},
   "outputs": [],
   "source": [
    "def create_dataframe_pos_neg(dataset, label):\n",
    "    mask_1 = label['x']==1\n",
    "    mask_0 = label['x']==0\n",
    "    return (dataset[mask_1.to_list()], dataset[mask_0.to_list()])"
   ]
  },
  {
   "cell_type": "code",
   "execution_count": 26,
   "id": "9ad32bc0",
   "metadata": {},
   "outputs": [],
   "source": [
    "def mann_whitney_features_selection(dataset, label, min_pValue):\n",
    "    pos, neg = create_dataframe_pos_neg(dataset, label)\n",
    "    H, pval = mannwhitneyu(pos, neg)\n",
    "    mask = (pval < min_pValue)\n",
    "    return dataset.columns[mask]"
   ]
  },
  {
   "cell_type": "markdown",
   "id": "23c0bd3c",
   "metadata": {},
   "source": [
    "# Multivariate feature selection, mrmr and Boruta "
   ]
  },
  {
   "cell_type": "code",
   "execution_count": 27,
   "id": "aba8f2c2",
   "metadata": {},
   "outputs": [],
   "source": [
    "def execute_mrmr(dataset, n_feature):\n",
    "    return mRMR(dataset, 'MIQ', n_feature)"
   ]
  },
  {
   "cell_type": "code",
   "execution_count": 28,
   "id": "c572daee",
   "metadata": {},
   "outputs": [],
   "source": [
    "def execute_boruta_feature_selection(\n",
    "    X_train: pd.DataFrame,\n",
    "    y_train: np.ndarray,\n",
    "    holdout_number: int,\n",
    "    max_iter: int = 100,\n",
    "):\n",
    "    \"\"\"Returns tuple with list of kept features and list of discared features.\n",
    "    \n",
    "    Parameters\n",
    "    --------------------------\n",
    "    X_train: pd.DataFrame,\n",
    "        The data reserved for the input of the training of the Boruta model.\n",
    "    y_train: np.ndarray,\n",
    "        The data reserved for the output of the training of the Boruta model.\n",
    "    holdout_number: int,\n",
    "        The current holdout number.\n",
    "    max_iter: int = 100,\n",
    "        Number of iterations to run Boruta for.\n",
    "    \"\"\"\n",
    "\n",
    "    model = RandomForestClassifier(n_jobs=-1, class_weight='balanced_subsample', max_depth=5)\n",
    "    \n",
    "    boruta_selector = BorutaPy(\n",
    "        model,\n",
    "        n_estimators='auto',\n",
    "        verbose=False,\n",
    "        alpha=0.05,\n",
    "        max_iter=max_iter, \n",
    "        random_state=42,\n",
    "    )\n",
    "    boruta_selector.fit(X_train.values, y_train.values.ravel())\n",
    "    \n",
    "    kept_features = list(X_train.columns[boruta_selector.support_])\n",
    "    discarded_features = list(X_train.columns[~boruta_selector.support_])\n",
    "    \n",
    "    return kept_features, discarded_features"
   ]
  },
  {
   "cell_type": "markdown",
   "id": "6aa792a9",
   "metadata": {},
   "source": [
    "# Train"
   ]
  },
  {
   "cell_type": "code",
   "execution_count": 29,
   "id": "5dcec6c1",
   "metadata": {},
   "outputs": [],
   "source": [
    "def train_using_mann_whitney(X,\n",
    "                            label, \n",
    "                            num_external_fold,\n",
    "                            type_dataset, \n",
    "                            tecnique_feature_selection,\n",
    "                            path):\n",
    "    \n",
    "    aucs = []\n",
    "    y_score_concatenated = []\n",
    "    y_test_fold_concatenated = []\n",
    "    list_selected_feature = {}\n",
    "    iteration = 0\n",
    "    result_dict = {}\n",
    "    result_dict[type_dataset] = {}\n",
    "    result_dict[type_dataset][tecnique_feature_selection] = {} \n",
    "    \n",
    "   \n",
    "    X_numpy = X.to_numpy()\n",
    "    label_numpy = label['x'].to_numpy()\n",
    "    \n",
    "    external_fold = StratifiedKFold(n_splits=num_external_fold, shuffle=True, random_state=1)\n",
    "    \n",
    "    for train_index, test_index in tqdm(external_fold.split(X, label_numpy), desc=f\"Running fold \", dynamic_ncols=True, leave=False):\n",
    "        \n",
    "        X_train_fold, X_test_fold = X_numpy[train_index], X_numpy[test_index]\n",
    "        y_train_fold, y_test_fold = label_numpy[train_index], label_numpy[test_index]\n",
    "        \n",
    "        df_X_train = pd.DataFrame(data=X_train_fold, columns=X.columns)\n",
    "        df_X_test = pd.DataFrame(data=X_test_fold, columns=X.columns)\n",
    "        df_y_train = pd.DataFrame(data=y_train_fold, columns=label.columns)\n",
    "        \n",
    "        selected_features = mann_whitney_features_selection(df_X_train, df_y_train, 0.05)\n",
    "        \n",
    "        iteration = iteration + 1\n",
    "        list_selected_feature[iteration] = selected_features\n",
    "        \n",
    "        X_train_selected_feature = df_X_train[selected_features]\n",
    "        X_test_selected_feature = df_X_test[selected_features]\n",
    "        \n",
    "        clf = GridSearchCV(estimator=RandomForestClassifier(),\n",
    "                   scoring='average_precision',\n",
    "                   param_grid=model_selection_grid_DT, \n",
    "                   cv=2, \n",
    "                   n_jobs=-1)\n",
    "        clf.fit(X_train_selected_feature, y_train_fold)\n",
    "        \n",
    "        # Get the predicited probability of testing data\n",
    "        y_score = clf.predict_proba(X_test_selected_feature)[:, 1]\n",
    "        \n",
    "        #calculate precision and recall\n",
    "        precision, recall, thresholds = precision_recall_curve(y_test_fold, y_score)\n",
    "\n",
    "        #plot_precision_recall_curve(classifier, X_test_selected_feature, y_test_fold)\n",
    "        \n",
    "        y_score_concatenated = np.concatenate((y_score_concatenated, y_score), axis=None)\n",
    "        y_test_fold_concatenated = np.concatenate((y_test_fold_concatenated, y_test_fold), axis=None)\n",
    "        \n",
    "        \n",
    "        # Use AUC function to calculate the area under the curve of precision recall curve\n",
    "        auc_precision_recall = auc(recall, precision)\n",
    "        \n",
    "        aucs.append(auc_precision_recall)\n",
    "        #print('auc: {:.3f} using params {}:'.format(auc_precision_recall, clf.best_params_))\n",
    "    \n",
    "    internal_auc = np.mean(aucs)\n",
    "    \n",
    "    #calculate precision and recall\n",
    "    precision, recall, thresholds = precision_recall_curve(y_test_fold_concatenated, y_score_concatenated)\n",
    "    \n",
    "    external_auc = auc(recall, precision)\n",
    "    #plot precision recall curve\n",
    "    PrecisionRecallDisplay.from_predictions(y_test_fold_concatenated, y_score_concatenated)\n",
    "    \n",
    "    result_dict[type_dataset][tecnique_feature_selection]['internal'] = '{0:.4f}'.format(internal_auc)\n",
    "    result_dict[type_dataset][tecnique_feature_selection]['external'] = '{0:.4f}'.format(external_auc)\n",
    "    result_dict[type_dataset][tecnique_feature_selection]['best_estimator'] = str(clf.best_estimator_)\n",
    "    result_dict[type_dataset][tecnique_feature_selection]['feature_used'] = str(list_selected_feature)\n",
    "    \n",
    "    plt.savefig(path+tecnique_feature_selection+'/'+type_dataset+'_'+'AUC_External.pdf')\n",
    "    \n",
    "    with open(path+tecnique_feature_selection+'/'+type_dataset+'.json', 'w', encoding='utf-8') as fp:\n",
    "        json.dump(result_dict[type_dataset], fp, ensure_ascii=False, indent=4)\n",
    "    #plt.show()    \n",
    "    \n",
    "    return list_selected_feature"
   ]
  },
  {
   "cell_type": "markdown",
   "id": "5f159f8a",
   "metadata": {},
   "source": [
    "# GridSearch"
   ]
  },
  {
   "cell_type": "code",
   "execution_count": 30,
   "id": "5ca43372",
   "metadata": {},
   "outputs": [],
   "source": [
    "model_selection_grid_DT = [\n",
    "    {'criterion': ['gini', 'entropy'],\n",
    "     'max_leaf_nodes': [None, 2, 5, 10],\n",
    "     'max_features': [None, 'sqrt', 'log2'],\n",
    "    'n_estimators': [51, 101, 251, 500]}\n",
    "]"
   ]
  },
  {
   "cell_type": "markdown",
   "id": "2a5bc1d2",
   "metadata": {},
   "source": [
    "# Train using multivariate feature selection after mannwhitney"
   ]
  },
  {
   "cell_type": "code",
   "execution_count": 35,
   "id": "bfb36aa4",
   "metadata": {},
   "outputs": [],
   "source": [
    "def train_using_multivariate(X,\n",
    "                             label,\n",
    "                             list_selected_feature_from_mannwhiney, \n",
    "                             num_external_fold,\n",
    "                             tecnique_feature_selection,\n",
    "                             path,\n",
    "                             type_dataset,\n",
    "                             type_feature_selection=None):\n",
    "    \n",
    "    aucs = []\n",
    "    iteration = 0\n",
    "    y_score_concatenated = []\n",
    "    y_test_fold_concatenated = []\n",
    "    result_dict = {}\n",
    "    result_dict[type_dataset] = {}\n",
    "    result_dict[type_dataset][type_feature_selection] = {} \n",
    "    \n",
    "    X_numpy = X.to_numpy()\n",
    "    label_numpy = label['x'].to_numpy()\n",
    "    \n",
    "    external_fold = StratifiedKFold(n_splits=num_external_fold, shuffle=True, random_state=1)\n",
    "    \n",
    "    for (train_index, test_index), selected_features in zip(tqdm(external_fold.split(X, label_numpy), desc=f\"Running fold \", dynamic_ncols=True, leave=False), list_selected_feature_from_mannwhiney.values()):\n",
    "        \n",
    "        X_train_fold, X_test_fold = X_numpy[train_index], X_numpy[test_index]\n",
    "        y_train_fold, y_test_fold = label_numpy[train_index], label_numpy[test_index]\n",
    "        \n",
    "        df_X_train = pd.DataFrame(data=X_train_fold, columns=X.columns)\n",
    "        df_X_test = pd.DataFrame(data=X_test_fold, columns=X.columns)\n",
    "        df_y_train = pd.DataFrame(data=y_train_fold, columns=label.columns)\n",
    "        \n",
    "        #TAKE FEATURES FROM MANNWHINEY\n",
    "        X_train_selected_feature = df_X_train[selected_features]\n",
    "        X_test_selected_feature = df_X_test[selected_features]\n",
    "        \n",
    "        print(f'TRAIN:{X_train_selected_feature}')\n",
    "        print('*'*10)\n",
    "       \n",
    "        if type_feature_selection == \"mrmr\":\n",
    "            selected_features = execute_mrmr(X_train_selected_feature, 100)\n",
    "        elif type_feature_selection == 'boruta':\n",
    "            selected_features, discarded_feature =  execute_boruta_feature_selection(X_train_selected_feature, df_y_train, 5)\n",
    "        \n",
    "        X_train_selected_feature = X_train_selected_feature[selected_features]\n",
    "        X_test_selected_feature = X_test_selected_feature[selected_features]\n",
    "        \n",
    "        \n",
    "        clf = GridSearchCV(estimator=RandomForestClassifier(),\n",
    "                   scoring='average_precision',\n",
    "                   param_grid=model_selection_grid_DT, \n",
    "                   cv=2, \n",
    "                   n_jobs=-1)\n",
    "        clf.fit(X_train_selected_feature, y_train_fold)\n",
    "        \n",
    "        # Get the predicited probability of testing data\n",
    "        y_score = clf.predict_proba(X_test_selected_feature)[:, 1]\n",
    "        \n",
    "        #calculate precision and recall\n",
    "        precision, recall, thresholds = precision_recall_curve(y_test_fold, y_score)\n",
    "\n",
    "        #plot_precision_recall_curve(classifier, X_test_selected_feature, y_test_fold)\n",
    "        \n",
    "        y_score_concatenated = np.concatenate((y_score_concatenated, y_score), axis=None)\n",
    "        y_test_fold_concatenated = np.concatenate((y_test_fold_concatenated, y_test_fold), axis=None)\n",
    "        \n",
    "        \n",
    "        # Use AUC function to calculate the area under the curve of precision recall curve\n",
    "        auc_precision_recall = auc(recall, precision)\n",
    "        \n",
    "        aucs.append(auc_precision_recall)\n",
    "        #print('auc: {:.3f} using params {}:'.format(auc_precision_recall, clf.best_params_))\n",
    "    \n",
    "    internal_auc = np.mean(aucs)\n",
    "    \n",
    "    #calculate precision and recall\n",
    "    precision, recall, thresholds = precision_recall_curve(y_test_fold_concatenated, y_score_concatenated)\n",
    "    \n",
    "    external_auc = auc(recall, precision)\n",
    "    #plot precision recall curve\n",
    "    PrecisionRecallDisplay.from_predictions(y_test_fold_concatenated, y_score_concatenated)\n",
    "    #plt.show()\n",
    "    \n",
    "    result_dict[type_dataset][type_feature_selection]['internal'] = '{0:.4f}'.format(internal_auc)\n",
    "    result_dict[type_dataset][type_feature_selection]['external'] = '{0:.4f}'.format(external_auc)\n",
    "    result_dict[type_dataset][type_feature_selection]['best_estimator'] = str(clf.best_estimator_)\n",
    "    result_dict[type_dataset][type_feature_selection]['feature_used'] = str(list_selected_feature)\n",
    "    \n",
    "    plt.savefig(path+tecnique_feature_selection+type_dataset+'_'+'AUC_External.pdf')\n",
    "    \n",
    "    with open(path+tecnique_feature_selection+'/'+type_dataset+'.json', 'w', encoding='utf-8') as fp:\n",
    "        json.dump(result_dict[type_dataset], fp, ensure_ascii=False, indent=4)\n",
    "    \n",
    "    return list_selected_feature"
   ]
  },
  {
   "cell_type": "markdown",
   "id": "2c73126d",
   "metadata": {},
   "source": [
    "# Train proteins"
   ]
  },
  {
   "cell_type": "code",
   "execution_count": 100,
   "id": "51f4532f",
   "metadata": {},
   "outputs": [
    {
     "ename": "TypeError",
     "evalue": "the JSON object must be str, bytes or bytearray, not TextIOWrapper",
     "output_type": "error",
     "traceback": [
      "\u001b[0;31m---------------------------------------------------------------------------\u001b[0m",
      "\u001b[0;31mTypeError\u001b[0m                                 Traceback (most recent call last)",
      "\u001b[0;32m/tmp/ipykernel_4058/3716493054.py\u001b[0m in \u001b[0;36m<module>\u001b[0;34m\u001b[0m\n\u001b[1;32m      2\u001b[0m     \u001b[0mlist_selected_feature\u001b[0m \u001b[0;34m=\u001b[0m \u001b[0mtrain_using_mann_whitney\u001b[0m\u001b[0;34m(\u001b[0m\u001b[0mdf_proteins_removed\u001b[0m\u001b[0;34m,\u001b[0m \u001b[0mlabel\u001b[0m\u001b[0;34m,\u001b[0m \u001b[0;36m10\u001b[0m\u001b[0;34m,\u001b[0m \u001b[0;34m'proteins'\u001b[0m\u001b[0;34m,\u001b[0m \u001b[0;34m'r_function_with_mannwhitney'\u001b[0m\u001b[0;34m,\u001b[0m \u001b[0;34m'result_new_experiment/'\u001b[0m\u001b[0;34m)\u001b[0m\u001b[0;34m\u001b[0m\u001b[0;34m\u001b[0m\u001b[0m\n\u001b[1;32m      3\u001b[0m \u001b[0;32melse\u001b[0m\u001b[0;34m:\u001b[0m\u001b[0;34m\u001b[0m\u001b[0;34m\u001b[0m\u001b[0m\n\u001b[0;32m----> 4\u001b[0;31m     \u001b[0mlist_selected_feature\u001b[0m \u001b[0;34m=\u001b[0m \u001b[0mretrieve_feature_used\u001b[0m\u001b[0;34m(\u001b[0m\u001b[0;34m'r_function_with_mannwhitney'\u001b[0m\u001b[0;34m,\u001b[0m \u001b[0;34m'proteins'\u001b[0m\u001b[0;34m)\u001b[0m\u001b[0;34m\u001b[0m\u001b[0;34m\u001b[0m\u001b[0m\n\u001b[0m",
      "\u001b[0;32m/tmp/ipykernel_4058/3123072507.py\u001b[0m in \u001b[0;36mretrieve_feature_used\u001b[0;34m(directory, file_name)\u001b[0m\n\u001b[1;32m      1\u001b[0m \u001b[0;32mdef\u001b[0m \u001b[0mretrieve_feature_used\u001b[0m\u001b[0;34m(\u001b[0m\u001b[0mdirectory\u001b[0m\u001b[0;34m,\u001b[0m \u001b[0mfile_name\u001b[0m\u001b[0;34m)\u001b[0m\u001b[0;34m:\u001b[0m\u001b[0;34m\u001b[0m\u001b[0;34m\u001b[0m\u001b[0m\n\u001b[1;32m      2\u001b[0m     \u001b[0mf\u001b[0m \u001b[0;34m=\u001b[0m \u001b[0mopen\u001b[0m\u001b[0;34m(\u001b[0m\u001b[0;34mf'result_new_experiment/{directory}'\u001b[0m\u001b[0;34m+\u001b[0m\u001b[0;34mf'/{file_name}.json'\u001b[0m\u001b[0;34m)\u001b[0m\u001b[0;34m\u001b[0m\u001b[0;34m\u001b[0m\u001b[0m\n\u001b[0;32m----> 3\u001b[0;31m     \u001b[0mdata\u001b[0m \u001b[0;34m=\u001b[0m \u001b[0mjson\u001b[0m\u001b[0;34m.\u001b[0m\u001b[0mloads\u001b[0m\u001b[0;34m(\u001b[0m\u001b[0mf\u001b[0m\u001b[0;34m)\u001b[0m\u001b[0;34m\u001b[0m\u001b[0;34m\u001b[0m\u001b[0m\n\u001b[0m\u001b[1;32m      4\u001b[0m     \u001b[0;32mreturn\u001b[0m \u001b[0mdata\u001b[0m\u001b[0;34m[\u001b[0m\u001b[0mdirectory\u001b[0m\u001b[0;34m]\u001b[0m\u001b[0;34m[\u001b[0m\u001b[0;34m'feature_used'\u001b[0m\u001b[0;34m]\u001b[0m\u001b[0;34m\u001b[0m\u001b[0;34m\u001b[0m\u001b[0m\n",
      "\u001b[0;32m/usr/lib/python3.10/json/__init__.py\u001b[0m in \u001b[0;36mloads\u001b[0;34m(s, cls, object_hook, parse_float, parse_int, parse_constant, object_pairs_hook, **kw)\u001b[0m\n\u001b[1;32m    337\u001b[0m     \u001b[0;32melse\u001b[0m\u001b[0;34m:\u001b[0m\u001b[0;34m\u001b[0m\u001b[0;34m\u001b[0m\u001b[0m\n\u001b[1;32m    338\u001b[0m         \u001b[0;32mif\u001b[0m \u001b[0;32mnot\u001b[0m \u001b[0misinstance\u001b[0m\u001b[0;34m(\u001b[0m\u001b[0ms\u001b[0m\u001b[0;34m,\u001b[0m \u001b[0;34m(\u001b[0m\u001b[0mbytes\u001b[0m\u001b[0;34m,\u001b[0m \u001b[0mbytearray\u001b[0m\u001b[0;34m)\u001b[0m\u001b[0;34m)\u001b[0m\u001b[0;34m:\u001b[0m\u001b[0;34m\u001b[0m\u001b[0;34m\u001b[0m\u001b[0m\n\u001b[0;32m--> 339\u001b[0;31m             raise TypeError(f'the JSON object must be str, bytes or bytearray, '\n\u001b[0m\u001b[1;32m    340\u001b[0m                             f'not {s.__class__.__name__}')\n\u001b[1;32m    341\u001b[0m         \u001b[0ms\u001b[0m \u001b[0;34m=\u001b[0m \u001b[0ms\u001b[0m\u001b[0;34m.\u001b[0m\u001b[0mdecode\u001b[0m\u001b[0;34m(\u001b[0m\u001b[0mdetect_encoding\u001b[0m\u001b[0;34m(\u001b[0m\u001b[0ms\u001b[0m\u001b[0;34m)\u001b[0m\u001b[0;34m,\u001b[0m \u001b[0;34m'surrogatepass'\u001b[0m\u001b[0;34m)\u001b[0m\u001b[0;34m\u001b[0m\u001b[0;34m\u001b[0m\u001b[0m\n",
      "\u001b[0;31mTypeError\u001b[0m: the JSON object must be str, bytes or bytearray, not TextIOWrapper"
     ]
    }
   ],
   "source": [
    "list_selected_feature = train_using_mann_whitney(df_proteins_removed, label, 10, 'proteins', 'r_function_with_mannwhitney', 'result_new_experiment/')"
   ]
  },
  {
   "cell_type": "code",
   "execution_count": 74,
   "id": "22d8afde",
   "metadata": {},
   "outputs": [],
   "source": [
    "train_using_multivariate(df_proteins_removed, label, list_selected_feature, 10,\n",
    "                         'r_function_with_mannwhitney_mrmr/', \n",
    "                         'result_new_experiment/',\n",
    "                         'proteins',\n",
    "                         'mrmr')"
   ]
  },
  {
   "cell_type": "code",
   "execution_count": 75,
   "id": "d8d6cdde",
   "metadata": {},
   "outputs": [],
   "source": [
    "train_using_multivariate(df_proteins_removed, label, list_selected_feature, 2,\n",
    "                         'r_function_with_mannwhitney_boruta/', \n",
    "                         'result_new_experiment/',\n",
    "                         'proteins',\n",
    "                         'boruta')"
   ]
  },
  {
   "cell_type": "markdown",
   "id": "39ca9469",
   "metadata": {},
   "source": [
    "# Train miRNA "
   ]
  },
  {
   "cell_type": "code",
   "execution_count": 87,
   "id": "4baf4205",
   "metadata": {},
   "outputs": [],
   "source": [
    "list_selected_feature = train_using_mann_whitney(df_mirna_removed, label, 10, 'mirna', 'r_function_with_mannwhitney', 'result_new_experiment/')"
   ]
  },
  {
   "cell_type": "code",
   "execution_count": 77,
   "id": "97dfd67b",
   "metadata": {},
   "outputs": [],
   "source": [
    "train_using_multivariate(df_mirna_removed, label, list_selected_feature, 10,\n",
    "                         'r_function_with_mannwhitney_mrmr/', \n",
    "                         'result_new_experiment/',\n",
    "                         'mirna',\n",
    "                         'mrmr')"
   ]
  },
  {
   "cell_type": "code",
   "execution_count": 78,
   "id": "4578090a",
   "metadata": {},
   "outputs": [],
   "source": [
    "train_using_multivariate(df_mirna_removed, label, list_selected_feature, 10,\n",
    "                         'r_function_with_mannwhitney_boruta/', \n",
    "                         'result_new_experiment/',\n",
    "                         'mirna',\n",
    "                         'boruta')"
   ]
  },
  {
   "cell_type": "markdown",
   "id": "918149b4",
   "metadata": {},
   "source": [
    "# Train mrna"
   ]
  },
  {
   "cell_type": "code",
   "execution_count": 126,
   "id": "714479b4",
   "metadata": {},
   "outputs": [
    {
     "name": "stderr",
     "output_type": "stream",
     "text": [
      "                                 \r"
     ]
    },
    {
     "ename": "KeyboardInterrupt",
     "evalue": "",
     "output_type": "error",
     "traceback": [
      "\u001b[0;31m---------------------------------------------------------------------------\u001b[0m",
      "\u001b[0;31mKeyboardInterrupt\u001b[0m                         Traceback (most recent call last)",
      "\u001b[0;32m/tmp/ipykernel_4058/1505508062.py\u001b[0m in \u001b[0;36m<module>\u001b[0;34m\u001b[0m\n\u001b[0;32m----> 1\u001b[0;31m \u001b[0mlist_selected_feature\u001b[0m \u001b[0;34m=\u001b[0m \u001b[0mtrain_using_mann_whitney\u001b[0m\u001b[0;34m(\u001b[0m\u001b[0mdf_mrna_removed\u001b[0m\u001b[0;34m,\u001b[0m \u001b[0mlabel\u001b[0m\u001b[0;34m,\u001b[0m \u001b[0;36m10\u001b[0m\u001b[0;34m,\u001b[0m \u001b[0;34m'mrna'\u001b[0m\u001b[0;34m,\u001b[0m \u001b[0;34m'r_function_with_mannwhitney'\u001b[0m\u001b[0;34m,\u001b[0m \u001b[0;34m'result_new_experiment/'\u001b[0m\u001b[0;34m)\u001b[0m\u001b[0;34m\u001b[0m\u001b[0;34m\u001b[0m\u001b[0m\n\u001b[0m",
      "\u001b[0;32m/tmp/ipykernel_4058/2237334544.py\u001b[0m in \u001b[0;36mtrain_using_mann_whitney\u001b[0;34m(X, label, num_external_fold, type_dataset, tecnique_feature_selection, path)\u001b[0m\n\u001b[1;32m     43\u001b[0m                    \u001b[0mcv\u001b[0m\u001b[0;34m=\u001b[0m\u001b[0;36m2\u001b[0m\u001b[0;34m,\u001b[0m\u001b[0;34m\u001b[0m\u001b[0;34m\u001b[0m\u001b[0m\n\u001b[1;32m     44\u001b[0m                    n_jobs=-1)\n\u001b[0;32m---> 45\u001b[0;31m         \u001b[0mclf\u001b[0m\u001b[0;34m.\u001b[0m\u001b[0mfit\u001b[0m\u001b[0;34m(\u001b[0m\u001b[0mX_train_selected_feature\u001b[0m\u001b[0;34m,\u001b[0m \u001b[0my_train_fold\u001b[0m\u001b[0;34m)\u001b[0m\u001b[0;34m\u001b[0m\u001b[0;34m\u001b[0m\u001b[0m\n\u001b[0m\u001b[1;32m     46\u001b[0m \u001b[0;34m\u001b[0m\u001b[0m\n\u001b[1;32m     47\u001b[0m         \u001b[0;31m# Get the predicited probability of testing data\u001b[0m\u001b[0;34m\u001b[0m\u001b[0;34m\u001b[0m\u001b[0m\n",
      "\u001b[0;32m~/.local/lib/python3.10/site-packages/sklearn/model_selection/_search.py\u001b[0m in \u001b[0;36mfit\u001b[0;34m(self, X, y, groups, **fit_params)\u001b[0m\n\u001b[1;32m    873\u001b[0m                 \u001b[0;32mreturn\u001b[0m \u001b[0mresults\u001b[0m\u001b[0;34m\u001b[0m\u001b[0;34m\u001b[0m\u001b[0m\n\u001b[1;32m    874\u001b[0m \u001b[0;34m\u001b[0m\u001b[0m\n\u001b[0;32m--> 875\u001b[0;31m             \u001b[0mself\u001b[0m\u001b[0;34m.\u001b[0m\u001b[0m_run_search\u001b[0m\u001b[0;34m(\u001b[0m\u001b[0mevaluate_candidates\u001b[0m\u001b[0;34m)\u001b[0m\u001b[0;34m\u001b[0m\u001b[0;34m\u001b[0m\u001b[0m\n\u001b[0m\u001b[1;32m    876\u001b[0m \u001b[0;34m\u001b[0m\u001b[0m\n\u001b[1;32m    877\u001b[0m             \u001b[0;31m# multimetric is determined here because in the case of a callable\u001b[0m\u001b[0;34m\u001b[0m\u001b[0;34m\u001b[0m\u001b[0m\n",
      "\u001b[0;32m~/.local/lib/python3.10/site-packages/sklearn/model_selection/_search.py\u001b[0m in \u001b[0;36m_run_search\u001b[0;34m(self, evaluate_candidates)\u001b[0m\n\u001b[1;32m   1377\u001b[0m     \u001b[0;32mdef\u001b[0m \u001b[0m_run_search\u001b[0m\u001b[0;34m(\u001b[0m\u001b[0mself\u001b[0m\u001b[0;34m,\u001b[0m \u001b[0mevaluate_candidates\u001b[0m\u001b[0;34m)\u001b[0m\u001b[0;34m:\u001b[0m\u001b[0;34m\u001b[0m\u001b[0;34m\u001b[0m\u001b[0m\n\u001b[1;32m   1378\u001b[0m         \u001b[0;34m\"\"\"Search all candidates in param_grid\"\"\"\u001b[0m\u001b[0;34m\u001b[0m\u001b[0;34m\u001b[0m\u001b[0m\n\u001b[0;32m-> 1379\u001b[0;31m         \u001b[0mevaluate_candidates\u001b[0m\u001b[0;34m(\u001b[0m\u001b[0mParameterGrid\u001b[0m\u001b[0;34m(\u001b[0m\u001b[0mself\u001b[0m\u001b[0;34m.\u001b[0m\u001b[0mparam_grid\u001b[0m\u001b[0;34m)\u001b[0m\u001b[0;34m)\u001b[0m\u001b[0;34m\u001b[0m\u001b[0;34m\u001b[0m\u001b[0m\n\u001b[0m\u001b[1;32m   1380\u001b[0m \u001b[0;34m\u001b[0m\u001b[0m\n\u001b[1;32m   1381\u001b[0m \u001b[0;34m\u001b[0m\u001b[0m\n",
      "\u001b[0;32m~/.local/lib/python3.10/site-packages/sklearn/model_selection/_search.py\u001b[0m in \u001b[0;36mevaluate_candidates\u001b[0;34m(candidate_params, cv, more_results)\u001b[0m\n\u001b[1;32m    820\u001b[0m                     )\n\u001b[1;32m    821\u001b[0m \u001b[0;34m\u001b[0m\u001b[0m\n\u001b[0;32m--> 822\u001b[0;31m                 out = parallel(\n\u001b[0m\u001b[1;32m    823\u001b[0m                     delayed(_fit_and_score)(\n\u001b[1;32m    824\u001b[0m                         \u001b[0mclone\u001b[0m\u001b[0;34m(\u001b[0m\u001b[0mbase_estimator\u001b[0m\u001b[0;34m)\u001b[0m\u001b[0;34m,\u001b[0m\u001b[0;34m\u001b[0m\u001b[0;34m\u001b[0m\u001b[0m\n",
      "\u001b[0;32m~/.local/lib/python3.10/site-packages/joblib/parallel.py\u001b[0m in \u001b[0;36m__call__\u001b[0;34m(self, iterable)\u001b[0m\n\u001b[1;32m   1096\u001b[0m \u001b[0;34m\u001b[0m\u001b[0m\n\u001b[1;32m   1097\u001b[0m             \u001b[0;32mwith\u001b[0m \u001b[0mself\u001b[0m\u001b[0;34m.\u001b[0m\u001b[0m_backend\u001b[0m\u001b[0;34m.\u001b[0m\u001b[0mretrieval_context\u001b[0m\u001b[0;34m(\u001b[0m\u001b[0;34m)\u001b[0m\u001b[0;34m:\u001b[0m\u001b[0;34m\u001b[0m\u001b[0;34m\u001b[0m\u001b[0m\n\u001b[0;32m-> 1098\u001b[0;31m                 \u001b[0mself\u001b[0m\u001b[0;34m.\u001b[0m\u001b[0mretrieve\u001b[0m\u001b[0;34m(\u001b[0m\u001b[0;34m)\u001b[0m\u001b[0;34m\u001b[0m\u001b[0;34m\u001b[0m\u001b[0m\n\u001b[0m\u001b[1;32m   1099\u001b[0m             \u001b[0;31m# Make sure that we get a last message telling us we are done\u001b[0m\u001b[0;34m\u001b[0m\u001b[0;34m\u001b[0m\u001b[0m\n\u001b[1;32m   1100\u001b[0m             \u001b[0melapsed_time\u001b[0m \u001b[0;34m=\u001b[0m \u001b[0mtime\u001b[0m\u001b[0;34m.\u001b[0m\u001b[0mtime\u001b[0m\u001b[0;34m(\u001b[0m\u001b[0;34m)\u001b[0m \u001b[0;34m-\u001b[0m \u001b[0mself\u001b[0m\u001b[0;34m.\u001b[0m\u001b[0m_start_time\u001b[0m\u001b[0;34m\u001b[0m\u001b[0;34m\u001b[0m\u001b[0m\n",
      "\u001b[0;32m~/.local/lib/python3.10/site-packages/joblib/parallel.py\u001b[0m in \u001b[0;36mretrieve\u001b[0;34m(self)\u001b[0m\n\u001b[1;32m    973\u001b[0m             \u001b[0;32mtry\u001b[0m\u001b[0;34m:\u001b[0m\u001b[0;34m\u001b[0m\u001b[0;34m\u001b[0m\u001b[0m\n\u001b[1;32m    974\u001b[0m                 \u001b[0;32mif\u001b[0m \u001b[0mgetattr\u001b[0m\u001b[0;34m(\u001b[0m\u001b[0mself\u001b[0m\u001b[0;34m.\u001b[0m\u001b[0m_backend\u001b[0m\u001b[0;34m,\u001b[0m \u001b[0;34m'supports_timeout'\u001b[0m\u001b[0;34m,\u001b[0m \u001b[0;32mFalse\u001b[0m\u001b[0;34m)\u001b[0m\u001b[0;34m:\u001b[0m\u001b[0;34m\u001b[0m\u001b[0;34m\u001b[0m\u001b[0m\n\u001b[0;32m--> 975\u001b[0;31m                     \u001b[0mself\u001b[0m\u001b[0;34m.\u001b[0m\u001b[0m_output\u001b[0m\u001b[0;34m.\u001b[0m\u001b[0mextend\u001b[0m\u001b[0;34m(\u001b[0m\u001b[0mjob\u001b[0m\u001b[0;34m.\u001b[0m\u001b[0mget\u001b[0m\u001b[0;34m(\u001b[0m\u001b[0mtimeout\u001b[0m\u001b[0;34m=\u001b[0m\u001b[0mself\u001b[0m\u001b[0;34m.\u001b[0m\u001b[0mtimeout\u001b[0m\u001b[0;34m)\u001b[0m\u001b[0;34m)\u001b[0m\u001b[0;34m\u001b[0m\u001b[0;34m\u001b[0m\u001b[0m\n\u001b[0m\u001b[1;32m    976\u001b[0m                 \u001b[0;32melse\u001b[0m\u001b[0;34m:\u001b[0m\u001b[0;34m\u001b[0m\u001b[0;34m\u001b[0m\u001b[0m\n\u001b[1;32m    977\u001b[0m                     \u001b[0mself\u001b[0m\u001b[0;34m.\u001b[0m\u001b[0m_output\u001b[0m\u001b[0;34m.\u001b[0m\u001b[0mextend\u001b[0m\u001b[0;34m(\u001b[0m\u001b[0mjob\u001b[0m\u001b[0;34m.\u001b[0m\u001b[0mget\u001b[0m\u001b[0;34m(\u001b[0m\u001b[0;34m)\u001b[0m\u001b[0;34m)\u001b[0m\u001b[0;34m\u001b[0m\u001b[0;34m\u001b[0m\u001b[0m\n",
      "\u001b[0;32m~/.local/lib/python3.10/site-packages/joblib/_parallel_backends.py\u001b[0m in \u001b[0;36mwrap_future_result\u001b[0;34m(future, timeout)\u001b[0m\n\u001b[1;32m    565\u001b[0m         AsyncResults.get from multiprocessing.\"\"\"\n\u001b[1;32m    566\u001b[0m         \u001b[0;32mtry\u001b[0m\u001b[0;34m:\u001b[0m\u001b[0;34m\u001b[0m\u001b[0;34m\u001b[0m\u001b[0m\n\u001b[0;32m--> 567\u001b[0;31m             \u001b[0;32mreturn\u001b[0m \u001b[0mfuture\u001b[0m\u001b[0;34m.\u001b[0m\u001b[0mresult\u001b[0m\u001b[0;34m(\u001b[0m\u001b[0mtimeout\u001b[0m\u001b[0;34m=\u001b[0m\u001b[0mtimeout\u001b[0m\u001b[0;34m)\u001b[0m\u001b[0;34m\u001b[0m\u001b[0;34m\u001b[0m\u001b[0m\n\u001b[0m\u001b[1;32m    568\u001b[0m         \u001b[0;32mexcept\u001b[0m \u001b[0mCfTimeoutError\u001b[0m \u001b[0;32mas\u001b[0m \u001b[0me\u001b[0m\u001b[0;34m:\u001b[0m\u001b[0;34m\u001b[0m\u001b[0;34m\u001b[0m\u001b[0m\n\u001b[1;32m    569\u001b[0m             \u001b[0;32mraise\u001b[0m \u001b[0mTimeoutError\u001b[0m \u001b[0;32mfrom\u001b[0m \u001b[0me\u001b[0m\u001b[0;34m\u001b[0m\u001b[0;34m\u001b[0m\u001b[0m\n",
      "\u001b[0;32m/usr/lib/python3.10/concurrent/futures/_base.py\u001b[0m in \u001b[0;36mresult\u001b[0;34m(self, timeout)\u001b[0m\n\u001b[1;32m    451\u001b[0m                     \u001b[0;32mreturn\u001b[0m \u001b[0mself\u001b[0m\u001b[0;34m.\u001b[0m\u001b[0m__get_result\u001b[0m\u001b[0;34m(\u001b[0m\u001b[0;34m)\u001b[0m\u001b[0;34m\u001b[0m\u001b[0;34m\u001b[0m\u001b[0m\n\u001b[1;32m    452\u001b[0m \u001b[0;34m\u001b[0m\u001b[0m\n\u001b[0;32m--> 453\u001b[0;31m                 \u001b[0mself\u001b[0m\u001b[0;34m.\u001b[0m\u001b[0m_condition\u001b[0m\u001b[0;34m.\u001b[0m\u001b[0mwait\u001b[0m\u001b[0;34m(\u001b[0m\u001b[0mtimeout\u001b[0m\u001b[0;34m)\u001b[0m\u001b[0;34m\u001b[0m\u001b[0;34m\u001b[0m\u001b[0m\n\u001b[0m\u001b[1;32m    454\u001b[0m \u001b[0;34m\u001b[0m\u001b[0m\n\u001b[1;32m    455\u001b[0m                 \u001b[0;32mif\u001b[0m \u001b[0mself\u001b[0m\u001b[0;34m.\u001b[0m\u001b[0m_state\u001b[0m \u001b[0;32min\u001b[0m \u001b[0;34m[\u001b[0m\u001b[0mCANCELLED\u001b[0m\u001b[0;34m,\u001b[0m \u001b[0mCANCELLED_AND_NOTIFIED\u001b[0m\u001b[0;34m]\u001b[0m\u001b[0;34m:\u001b[0m\u001b[0;34m\u001b[0m\u001b[0;34m\u001b[0m\u001b[0m\n",
      "\u001b[0;32m/usr/lib/python3.10/threading.py\u001b[0m in \u001b[0;36mwait\u001b[0;34m(self, timeout)\u001b[0m\n\u001b[1;32m    318\u001b[0m         \u001b[0;32mtry\u001b[0m\u001b[0;34m:\u001b[0m    \u001b[0;31m# restore state no matter what (e.g., KeyboardInterrupt)\u001b[0m\u001b[0;34m\u001b[0m\u001b[0;34m\u001b[0m\u001b[0m\n\u001b[1;32m    319\u001b[0m             \u001b[0;32mif\u001b[0m \u001b[0mtimeout\u001b[0m \u001b[0;32mis\u001b[0m \u001b[0;32mNone\u001b[0m\u001b[0;34m:\u001b[0m\u001b[0;34m\u001b[0m\u001b[0;34m\u001b[0m\u001b[0m\n\u001b[0;32m--> 320\u001b[0;31m                 \u001b[0mwaiter\u001b[0m\u001b[0;34m.\u001b[0m\u001b[0macquire\u001b[0m\u001b[0;34m(\u001b[0m\u001b[0;34m)\u001b[0m\u001b[0;34m\u001b[0m\u001b[0;34m\u001b[0m\u001b[0m\n\u001b[0m\u001b[1;32m    321\u001b[0m                 \u001b[0mgotit\u001b[0m \u001b[0;34m=\u001b[0m \u001b[0;32mTrue\u001b[0m\u001b[0;34m\u001b[0m\u001b[0;34m\u001b[0m\u001b[0m\n\u001b[1;32m    322\u001b[0m             \u001b[0;32melse\u001b[0m\u001b[0;34m:\u001b[0m\u001b[0;34m\u001b[0m\u001b[0;34m\u001b[0m\u001b[0m\n",
      "\u001b[0;31mKeyboardInterrupt\u001b[0m: "
     ]
    }
   ],
   "source": [
    "list_selected_feature = train_using_mann_whitney(df_mrna_removed, label, 10, 'mrna', 'r_function_with_mannwhitney', 'result_new_experiment/')"
   ]
  },
  {
   "cell_type": "code",
   "execution_count": 80,
   "id": "8390f1f0",
   "metadata": {},
   "outputs": [
    {
     "name": "stderr",
     "output_type": "stream",
     "text": [
      "                                 \r"
     ]
    },
    {
     "ename": "AttributeError",
     "evalue": "'str' object has no attribute 'values'",
     "output_type": "error",
     "traceback": [
      "\u001b[0;31m---------------------------------------------------------------------------\u001b[0m",
      "\u001b[0;31mAttributeError\u001b[0m                            Traceback (most recent call last)",
      "\u001b[0;32m/tmp/ipykernel_4058/2353560551.py\u001b[0m in \u001b[0;36m<module>\u001b[0;34m\u001b[0m\n\u001b[1;32m      1\u001b[0m \u001b[0;32mif\u001b[0m \u001b[0;32mnot\u001b[0m \u001b[0mos\u001b[0m\u001b[0;34m.\u001b[0m\u001b[0mpath\u001b[0m\u001b[0;34m.\u001b[0m\u001b[0mexists\u001b[0m\u001b[0;34m(\u001b[0m\u001b[0;34m'result_new_experiment/r_function_with_mannwhitney_mrmr/mrna.json'\u001b[0m\u001b[0;34m)\u001b[0m\u001b[0;34m:\u001b[0m\u001b[0;34m\u001b[0m\u001b[0;34m\u001b[0m\u001b[0m\n\u001b[0;32m----> 2\u001b[0;31m     train_using_multivariate(df_mrna_removed, label, list_selected_feature, 10,\n\u001b[0m\u001b[1;32m      3\u001b[0m                              \u001b[0;34m'r_function_with_mannwhitney_mrmr/'\u001b[0m\u001b[0;34m,\u001b[0m\u001b[0;34m\u001b[0m\u001b[0;34m\u001b[0m\u001b[0m\n\u001b[1;32m      4\u001b[0m                              \u001b[0;34m'result_new_experiment/'\u001b[0m\u001b[0;34m,\u001b[0m\u001b[0;34m\u001b[0m\u001b[0;34m\u001b[0m\u001b[0m\n\u001b[1;32m      5\u001b[0m                              \u001b[0;34m'mrna'\u001b[0m\u001b[0;34m,\u001b[0m\u001b[0;34m\u001b[0m\u001b[0;34m\u001b[0m\u001b[0m\n",
      "\u001b[0;32m/tmp/ipykernel_4058/3767797679.py\u001b[0m in \u001b[0;36mtrain_using_multivariate\u001b[0;34m(X, label, list_selected_feature_from_mannwhiney, num_external_fold, tecnique_feature_selection, path, type_dataset, type_feature_selection)\u001b[0m\n\u001b[1;32m     21\u001b[0m     \u001b[0mexternal_fold\u001b[0m \u001b[0;34m=\u001b[0m \u001b[0mStratifiedKFold\u001b[0m\u001b[0;34m(\u001b[0m\u001b[0mn_splits\u001b[0m\u001b[0;34m=\u001b[0m\u001b[0mnum_external_fold\u001b[0m\u001b[0;34m,\u001b[0m \u001b[0mshuffle\u001b[0m\u001b[0;34m=\u001b[0m\u001b[0;32mTrue\u001b[0m\u001b[0;34m,\u001b[0m \u001b[0mrandom_state\u001b[0m\u001b[0;34m=\u001b[0m\u001b[0;36m1\u001b[0m\u001b[0;34m)\u001b[0m\u001b[0;34m\u001b[0m\u001b[0;34m\u001b[0m\u001b[0m\n\u001b[1;32m     22\u001b[0m \u001b[0;34m\u001b[0m\u001b[0m\n\u001b[0;32m---> 23\u001b[0;31m     \u001b[0;32mfor\u001b[0m \u001b[0;34m(\u001b[0m\u001b[0mtrain_index\u001b[0m\u001b[0;34m,\u001b[0m \u001b[0mtest_index\u001b[0m\u001b[0;34m)\u001b[0m\u001b[0;34m,\u001b[0m \u001b[0mselected_features\u001b[0m \u001b[0;32min\u001b[0m \u001b[0mzip\u001b[0m\u001b[0;34m(\u001b[0m\u001b[0mtqdm\u001b[0m\u001b[0;34m(\u001b[0m\u001b[0mexternal_fold\u001b[0m\u001b[0;34m.\u001b[0m\u001b[0msplit\u001b[0m\u001b[0;34m(\u001b[0m\u001b[0mX\u001b[0m\u001b[0;34m,\u001b[0m \u001b[0mlabel_numpy\u001b[0m\u001b[0;34m)\u001b[0m\u001b[0;34m,\u001b[0m \u001b[0mdesc\u001b[0m\u001b[0;34m=\u001b[0m\u001b[0;34mf\"Running fold \"\u001b[0m\u001b[0;34m,\u001b[0m \u001b[0mdynamic_ncols\u001b[0m\u001b[0;34m=\u001b[0m\u001b[0;32mTrue\u001b[0m\u001b[0;34m,\u001b[0m \u001b[0mleave\u001b[0m\u001b[0;34m=\u001b[0m\u001b[0;32mFalse\u001b[0m\u001b[0;34m)\u001b[0m\u001b[0;34m,\u001b[0m \u001b[0mlist_selected_feature_from_mannwhiney\u001b[0m\u001b[0;34m.\u001b[0m\u001b[0mvalues\u001b[0m\u001b[0;34m(\u001b[0m\u001b[0;34m)\u001b[0m\u001b[0;34m)\u001b[0m\u001b[0;34m:\u001b[0m\u001b[0;34m\u001b[0m\u001b[0;34m\u001b[0m\u001b[0m\n\u001b[0m\u001b[1;32m     24\u001b[0m \u001b[0;34m\u001b[0m\u001b[0m\n\u001b[1;32m     25\u001b[0m         \u001b[0mX_train_fold\u001b[0m\u001b[0;34m,\u001b[0m \u001b[0mX_test_fold\u001b[0m \u001b[0;34m=\u001b[0m \u001b[0mX_numpy\u001b[0m\u001b[0;34m[\u001b[0m\u001b[0mtrain_index\u001b[0m\u001b[0;34m]\u001b[0m\u001b[0;34m,\u001b[0m \u001b[0mX_numpy\u001b[0m\u001b[0;34m[\u001b[0m\u001b[0mtest_index\u001b[0m\u001b[0;34m]\u001b[0m\u001b[0;34m\u001b[0m\u001b[0;34m\u001b[0m\u001b[0m\n",
      "\u001b[0;31mAttributeError\u001b[0m: 'str' object has no attribute 'values'"
     ]
    }
   ],
   "source": [
    "train_using_multivariate(df_mrna_removed, label, list_selected_feature, 10,\n",
    "                         'r_function_with_mannwhitney_mrmr/', \n",
    "                         'result_new_experiment/',\n",
    "                         'mrna',\n",
    "                         'mrmr')"
   ]
  },
  {
   "cell_type": "code",
   "execution_count": 81,
   "id": "c84d8537",
   "metadata": {},
   "outputs": [
    {
     "name": "stderr",
     "output_type": "stream",
     "text": [
      "                                 \r"
     ]
    },
    {
     "ename": "AttributeError",
     "evalue": "'str' object has no attribute 'values'",
     "output_type": "error",
     "traceback": [
      "\u001b[0;31m---------------------------------------------------------------------------\u001b[0m",
      "\u001b[0;31mAttributeError\u001b[0m                            Traceback (most recent call last)",
      "\u001b[0;32m/tmp/ipykernel_4058/765512940.py\u001b[0m in \u001b[0;36m<module>\u001b[0;34m\u001b[0m\n\u001b[1;32m      1\u001b[0m \u001b[0;32mif\u001b[0m \u001b[0;32mnot\u001b[0m \u001b[0mos\u001b[0m\u001b[0;34m.\u001b[0m\u001b[0mpath\u001b[0m\u001b[0;34m.\u001b[0m\u001b[0mexists\u001b[0m\u001b[0;34m(\u001b[0m\u001b[0;34m'result_new_experiment/r_function_with_mannwhitney_boruta/mrna.json'\u001b[0m\u001b[0;34m)\u001b[0m\u001b[0;34m:\u001b[0m\u001b[0;34m\u001b[0m\u001b[0;34m\u001b[0m\u001b[0m\n\u001b[0;32m----> 2\u001b[0;31m     train_using_multivariate(df_mrna_removed, label, list_selected_feature, 10,\n\u001b[0m\u001b[1;32m      3\u001b[0m                              \u001b[0;34m'r_function_with_mannwhitney_boruta/'\u001b[0m\u001b[0;34m,\u001b[0m\u001b[0;34m\u001b[0m\u001b[0;34m\u001b[0m\u001b[0m\n\u001b[1;32m      4\u001b[0m                              \u001b[0;34m'result_new_experiment/'\u001b[0m\u001b[0;34m,\u001b[0m\u001b[0;34m\u001b[0m\u001b[0;34m\u001b[0m\u001b[0m\n\u001b[1;32m      5\u001b[0m                              \u001b[0;34m'mrna'\u001b[0m\u001b[0;34m,\u001b[0m\u001b[0;34m\u001b[0m\u001b[0;34m\u001b[0m\u001b[0m\n",
      "\u001b[0;32m/tmp/ipykernel_4058/3767797679.py\u001b[0m in \u001b[0;36mtrain_using_multivariate\u001b[0;34m(X, label, list_selected_feature_from_mannwhiney, num_external_fold, tecnique_feature_selection, path, type_dataset, type_feature_selection)\u001b[0m\n\u001b[1;32m     21\u001b[0m     \u001b[0mexternal_fold\u001b[0m \u001b[0;34m=\u001b[0m \u001b[0mStratifiedKFold\u001b[0m\u001b[0;34m(\u001b[0m\u001b[0mn_splits\u001b[0m\u001b[0;34m=\u001b[0m\u001b[0mnum_external_fold\u001b[0m\u001b[0;34m,\u001b[0m \u001b[0mshuffle\u001b[0m\u001b[0;34m=\u001b[0m\u001b[0;32mTrue\u001b[0m\u001b[0;34m,\u001b[0m \u001b[0mrandom_state\u001b[0m\u001b[0;34m=\u001b[0m\u001b[0;36m1\u001b[0m\u001b[0;34m)\u001b[0m\u001b[0;34m\u001b[0m\u001b[0;34m\u001b[0m\u001b[0m\n\u001b[1;32m     22\u001b[0m \u001b[0;34m\u001b[0m\u001b[0m\n\u001b[0;32m---> 23\u001b[0;31m     \u001b[0;32mfor\u001b[0m \u001b[0;34m(\u001b[0m\u001b[0mtrain_index\u001b[0m\u001b[0;34m,\u001b[0m \u001b[0mtest_index\u001b[0m\u001b[0;34m)\u001b[0m\u001b[0;34m,\u001b[0m \u001b[0mselected_features\u001b[0m \u001b[0;32min\u001b[0m \u001b[0mzip\u001b[0m\u001b[0;34m(\u001b[0m\u001b[0mtqdm\u001b[0m\u001b[0;34m(\u001b[0m\u001b[0mexternal_fold\u001b[0m\u001b[0;34m.\u001b[0m\u001b[0msplit\u001b[0m\u001b[0;34m(\u001b[0m\u001b[0mX\u001b[0m\u001b[0;34m,\u001b[0m \u001b[0mlabel_numpy\u001b[0m\u001b[0;34m)\u001b[0m\u001b[0;34m,\u001b[0m \u001b[0mdesc\u001b[0m\u001b[0;34m=\u001b[0m\u001b[0;34mf\"Running fold \"\u001b[0m\u001b[0;34m,\u001b[0m \u001b[0mdynamic_ncols\u001b[0m\u001b[0;34m=\u001b[0m\u001b[0;32mTrue\u001b[0m\u001b[0;34m,\u001b[0m \u001b[0mleave\u001b[0m\u001b[0;34m=\u001b[0m\u001b[0;32mFalse\u001b[0m\u001b[0;34m)\u001b[0m\u001b[0;34m,\u001b[0m \u001b[0mlist_selected_feature_from_mannwhiney\u001b[0m\u001b[0;34m.\u001b[0m\u001b[0mvalues\u001b[0m\u001b[0;34m(\u001b[0m\u001b[0;34m)\u001b[0m\u001b[0;34m)\u001b[0m\u001b[0;34m:\u001b[0m\u001b[0;34m\u001b[0m\u001b[0;34m\u001b[0m\u001b[0m\n\u001b[0m\u001b[1;32m     24\u001b[0m \u001b[0;34m\u001b[0m\u001b[0m\n\u001b[1;32m     25\u001b[0m         \u001b[0mX_train_fold\u001b[0m\u001b[0;34m,\u001b[0m \u001b[0mX_test_fold\u001b[0m \u001b[0;34m=\u001b[0m \u001b[0mX_numpy\u001b[0m\u001b[0;34m[\u001b[0m\u001b[0mtrain_index\u001b[0m\u001b[0;34m]\u001b[0m\u001b[0;34m,\u001b[0m \u001b[0mX_numpy\u001b[0m\u001b[0;34m[\u001b[0m\u001b[0mtest_index\u001b[0m\u001b[0;34m]\u001b[0m\u001b[0;34m\u001b[0m\u001b[0;34m\u001b[0m\u001b[0m\n",
      "\u001b[0;31mAttributeError\u001b[0m: 'str' object has no attribute 'values'"
     ]
    }
   ],
   "source": [
    "train_using_multivariate(df_mrna_removed, label, list_selected_feature, 10,\n",
    "                         'r_function_with_mannwhitney_boruta/', \n",
    "                         'result_new_experiment/',\n",
    "                         'mrna',\n",
    "                         'boruta')"
   ]
  },
  {
   "cell_type": "markdown",
   "id": "e88cec73",
   "metadata": {},
   "source": [
    "# Train cnv"
   ]
  },
  {
   "cell_type": "code",
   "execution_count": 127,
   "id": "7bc9a7f5",
   "metadata": {},
   "outputs": [
    {
     "name": "stderr",
     "output_type": "stream",
     "text": [
      "                                      \r"
     ]
    },
    {
     "data": {
      "image/png": "[encoded data removed]",
      "text/plain": [
       "<Figure size 432x288 with 1 Axes>"
      ]
     },
     "metadata": {
      "needs_background": "light"
     },
     "output_type": "display_data"
    }
   ],
   "source": [
    "list_selected_feature = train_using_mann_whitney(df_cnv_removed, label, 10, 'cnv', 'r_function_with_mannwhitney', 'result_new_experiment/')"
   ]
  },
  {
   "cell_type": "code",
   "execution_count": 83,
   "id": "07fcd5f9",
   "metadata": {},
   "outputs": [],
   "source": [
    "train_using_multivariate(df_cnv_removed, label, list_selected_feature, 10,\n",
    "                         'r_function_with_mannwhitney_mrmr/', \n",
    "                         'result_new_experiment/',\n",
    "                         'cnv',\n",
    "                         'mrmr')"
   ]
  },
  {
   "cell_type": "code",
   "execution_count": 128,
   "id": "6e251f11",
   "metadata": {},
   "outputs": [
    {
     "name": "stderr",
     "output_type": "stream",
     "text": [
      "\r",
      "Running fold : 0it [00:00, ?it/s]"
     ]
    },
    {
     "name": "stdout",
     "output_type": "stream",
     "text": [
      "TRAIN:     ZDHHC13  C19orf40  DLG2  LINC00662  ABR  CAPN12\n",
      "0          0         0     1          0   -1       0\n",
      "1          0         0    -1          0   -1       0\n",
      "2          0         1     0          1   -1       1\n",
      "3          0         0     0          0    0       0\n",
      "4          1        -1     1         -1    1      -1\n",
      "..       ...       ...   ...        ...  ...     ...\n",
      "559       -1        -1     1         -1   -1      -1\n",
      "560        0         1     0          1   -1       1\n",
      "561        0         0     1          0   -1      -1\n",
      "562        0         0    -1          0    0       0\n",
      "563       -1         0    -1          0    0       0\n",
      "\n",
      "[564 rows x 6 columns]\n",
      "**********\n"
     ]
    },
    {
     "name": "stderr",
     "output_type": "stream",
     "text": [
      "\r",
      "Running fold : 1it [00:06,  6.90s/it]"
     ]
    },
    {
     "name": "stdout",
     "output_type": "stream",
     "text": [
      "TRAIN:     ACTN3  C19orf40  DLG2  IGF2BP1  MIR1277  ZNF717  PTPRCAP\n",
      "0        0         0     1        2       -1      -1        0\n",
      "1        0         0    -1        2        0       0        0\n",
      "2        0         0     0        0        0       0        0\n",
      "3       -1        -1     1        1        0       0       -1\n",
      "4        0         1     0        0        0       0        0\n",
      "..     ...       ...   ...      ...      ...     ...      ...\n",
      "559      1         2     1       -1        0       0        2\n",
      "560      1        -1     1       -1        0       0        1\n",
      "561      0         1     0        0        0       0        0\n",
      "562      0         0    -1        0        0       0        0\n",
      "563      1         0    -1        0        1      -1        1\n",
      "\n",
      "[564 rows x 7 columns]\n",
      "**********\n"
     ]
    },
    {
     "name": "stderr",
     "output_type": "stream",
     "text": [
      "\r",
      "Running fold : 2it [00:13,  6.91s/it]"
     ]
    },
    {
     "name": "stdout",
     "output_type": "stream",
     "text": [
      "TRAIN:     ACTN3  DLG2  SMOX  MACROD2  PTPRCAP\n",
      "0        0    -1     0        0        0\n",
      "1        0     0     0        0        0\n",
      "2        0     0     0        0        0\n",
      "3        0     0     1        1        0\n",
      "4        0    -1     0        0        2\n",
      "..     ...   ...   ...      ...      ...\n",
      "559      1    -1     1        0        1\n",
      "560      0     1     0        0        0\n",
      "561      0    -1     0        0        0\n",
      "562     -1    -1     0        0       -1\n",
      "563      1    -1     1        1        1\n",
      "\n",
      "[564 rows x 5 columns]\n",
      "**********\n"
     ]
    },
    {
     "name": "stderr",
     "output_type": "stream",
     "text": [
      "\r",
      "Running fold : 3it [00:20,  6.87s/it]"
     ]
    },
    {
     "name": "stdout",
     "output_type": "stream",
     "text": [
      "TRAIN:     ACTN3  ZDHHC13  L3MBTL4  PTPRCAP\n",
      "0        0        0       -1        0\n",
      "1        0        0        0        0\n",
      "2        0        0        0        0\n",
      "3        0        0        0        0\n",
      "4       -1        1        0       -1\n",
      "..     ...      ...      ...      ...\n",
      "559      0        0        0        0\n",
      "560      0        0        0        0\n",
      "561      0        0        0        0\n",
      "562     -1       -1        0       -1\n",
      "563      1        1        0        1\n",
      "\n",
      "[564 rows x 4 columns]\n",
      "**********\n"
     ]
    },
    {
     "name": "stderr",
     "output_type": "stream",
     "text": [
      "                                     \r"
     ]
    },
    {
     "ename": "ValueError",
     "evalue": "\nAll the 192 fits failed.\nIt is very likely that your model is misconfigured.\nYou can try to debug the error by setting error_score='raise'.\n\nBelow are more details about the failures:\n--------------------------------------------------------------------------------\n192 fits failed with the following error:\nTraceback (most recent call last):\n  File \"/home/ale/.local/lib/python3.10/site-packages/sklearn/model_selection/_validation.py\", line 686, in _fit_and_score\n    estimator.fit(X_train, y_train, **fit_params)\n  File \"/home/ale/.local/lib/python3.10/site-packages/sklearn/ensemble/_forest.py\", line 331, in fit\n    X, y = self._validate_data(\n  File \"/home/ale/.local/lib/python3.10/site-packages/sklearn/base.py\", line 596, in _validate_data\n    X, y = check_X_y(X, y, **check_params)\n  File \"/home/ale/.local/lib/python3.10/site-packages/sklearn/utils/validation.py\", line 1074, in check_X_y\n    X = check_array(\n  File \"/home/ale/.local/lib/python3.10/site-packages/sklearn/utils/validation.py\", line 768, in check_array\n    dtype_orig = np.result_type(*dtypes_orig)\n  File \"<__array_function__ internals>\", line 5, in result_type\nValueError: at least one array or dtype is required\n",
     "output_type": "error",
     "traceback": [
      "\u001b[0;31m---------------------------------------------------------------------------\u001b[0m",
      "\u001b[0;31mValueError\u001b[0m                                Traceback (most recent call last)",
      "\u001b[0;32m/tmp/ipykernel_4058/519833433.py\u001b[0m in \u001b[0;36m<module>\u001b[0;34m\u001b[0m\n\u001b[0;32m----> 1\u001b[0;31m train_using_multivariate(df_cnv_removed, label, list_selected_feature, 10,\n\u001b[0m\u001b[1;32m      2\u001b[0m                          \u001b[0;34m'r_function_with_mannwhitney_boruta/'\u001b[0m\u001b[0;34m,\u001b[0m\u001b[0;34m\u001b[0m\u001b[0;34m\u001b[0m\u001b[0m\n\u001b[1;32m      3\u001b[0m                          \u001b[0;34m'result_new_experiment/'\u001b[0m\u001b[0;34m,\u001b[0m\u001b[0;34m\u001b[0m\u001b[0;34m\u001b[0m\u001b[0m\n\u001b[1;32m      4\u001b[0m                          \u001b[0;34m'cnv'\u001b[0m\u001b[0;34m,\u001b[0m\u001b[0;34m\u001b[0m\u001b[0;34m\u001b[0m\u001b[0m\n\u001b[1;32m      5\u001b[0m                          'boruta')\n",
      "\u001b[0;32m/tmp/ipykernel_4058/3767797679.py\u001b[0m in \u001b[0;36mtrain_using_multivariate\u001b[0;34m(X, label, list_selected_feature_from_mannwhiney, num_external_fold, tecnique_feature_selection, path, type_dataset, type_feature_selection)\u001b[0m\n\u001b[1;32m     51\u001b[0m                    \u001b[0mcv\u001b[0m\u001b[0;34m=\u001b[0m\u001b[0;36m2\u001b[0m\u001b[0;34m,\u001b[0m\u001b[0;34m\u001b[0m\u001b[0;34m\u001b[0m\u001b[0m\n\u001b[1;32m     52\u001b[0m                    n_jobs=-1)\n\u001b[0;32m---> 53\u001b[0;31m         \u001b[0mclf\u001b[0m\u001b[0;34m.\u001b[0m\u001b[0mfit\u001b[0m\u001b[0;34m(\u001b[0m\u001b[0mX_train_selected_feature\u001b[0m\u001b[0;34m,\u001b[0m \u001b[0my_train_fold\u001b[0m\u001b[0;34m)\u001b[0m\u001b[0;34m\u001b[0m\u001b[0;34m\u001b[0m\u001b[0m\n\u001b[0m\u001b[1;32m     54\u001b[0m \u001b[0;34m\u001b[0m\u001b[0m\n\u001b[1;32m     55\u001b[0m         \u001b[0;31m# Get the predicited probability of testing data\u001b[0m\u001b[0;34m\u001b[0m\u001b[0;34m\u001b[0m\u001b[0m\n",
      "\u001b[0;32m~/.local/lib/python3.10/site-packages/sklearn/model_selection/_search.py\u001b[0m in \u001b[0;36mfit\u001b[0;34m(self, X, y, groups, **fit_params)\u001b[0m\n\u001b[1;32m    873\u001b[0m                 \u001b[0;32mreturn\u001b[0m \u001b[0mresults\u001b[0m\u001b[0;34m\u001b[0m\u001b[0;34m\u001b[0m\u001b[0m\n\u001b[1;32m    874\u001b[0m \u001b[0;34m\u001b[0m\u001b[0m\n\u001b[0;32m--> 875\u001b[0;31m             \u001b[0mself\u001b[0m\u001b[0;34m.\u001b[0m\u001b[0m_run_search\u001b[0m\u001b[0;34m(\u001b[0m\u001b[0mevaluate_candidates\u001b[0m\u001b[0;34m)\u001b[0m\u001b[0;34m\u001b[0m\u001b[0;34m\u001b[0m\u001b[0m\n\u001b[0m\u001b[1;32m    876\u001b[0m \u001b[0;34m\u001b[0m\u001b[0m\n\u001b[1;32m    877\u001b[0m             \u001b[0;31m# multimetric is determined here because in the case of a callable\u001b[0m\u001b[0;34m\u001b[0m\u001b[0;34m\u001b[0m\u001b[0m\n",
      "\u001b[0;32m~/.local/lib/python3.10/site-packages/sklearn/model_selection/_search.py\u001b[0m in \u001b[0;36m_run_search\u001b[0;34m(self, evaluate_candidates)\u001b[0m\n\u001b[1;32m   1377\u001b[0m     \u001b[0;32mdef\u001b[0m \u001b[0m_run_search\u001b[0m\u001b[0;34m(\u001b[0m\u001b[0mself\u001b[0m\u001b[0;34m,\u001b[0m \u001b[0mevaluate_candidates\u001b[0m\u001b[0;34m)\u001b[0m\u001b[0;34m:\u001b[0m\u001b[0;34m\u001b[0m\u001b[0;34m\u001b[0m\u001b[0m\n\u001b[1;32m   1378\u001b[0m         \u001b[0;34m\"\"\"Search all candidates in param_grid\"\"\"\u001b[0m\u001b[0;34m\u001b[0m\u001b[0;34m\u001b[0m\u001b[0m\n\u001b[0;32m-> 1379\u001b[0;31m         \u001b[0mevaluate_candidates\u001b[0m\u001b[0;34m(\u001b[0m\u001b[0mParameterGrid\u001b[0m\u001b[0;34m(\u001b[0m\u001b[0mself\u001b[0m\u001b[0;34m.\u001b[0m\u001b[0mparam_grid\u001b[0m\u001b[0;34m)\u001b[0m\u001b[0;34m)\u001b[0m\u001b[0;34m\u001b[0m\u001b[0;34m\u001b[0m\u001b[0m\n\u001b[0m\u001b[1;32m   1380\u001b[0m \u001b[0;34m\u001b[0m\u001b[0m\n\u001b[1;32m   1381\u001b[0m \u001b[0;34m\u001b[0m\u001b[0m\n",
      "\u001b[0;32m~/.local/lib/python3.10/site-packages/sklearn/model_selection/_search.py\u001b[0m in \u001b[0;36mevaluate_candidates\u001b[0;34m(candidate_params, cv, more_results)\u001b[0m\n\u001b[1;32m    850\u001b[0m                     )\n\u001b[1;32m    851\u001b[0m \u001b[0;34m\u001b[0m\u001b[0m\n\u001b[0;32m--> 852\u001b[0;31m                 \u001b[0m_warn_or_raise_about_fit_failures\u001b[0m\u001b[0;34m(\u001b[0m\u001b[0mout\u001b[0m\u001b[0;34m,\u001b[0m \u001b[0mself\u001b[0m\u001b[0;34m.\u001b[0m\u001b[0merror_score\u001b[0m\u001b[0;34m)\u001b[0m\u001b[0;34m\u001b[0m\u001b[0;34m\u001b[0m\u001b[0m\n\u001b[0m\u001b[1;32m    853\u001b[0m \u001b[0;34m\u001b[0m\u001b[0m\n\u001b[1;32m    854\u001b[0m                 \u001b[0;31m# For callable self.scoring, the return type is only know after\u001b[0m\u001b[0;34m\u001b[0m\u001b[0;34m\u001b[0m\u001b[0m\n",
      "\u001b[0;32m~/.local/lib/python3.10/site-packages/sklearn/model_selection/_validation.py\u001b[0m in \u001b[0;36m_warn_or_raise_about_fit_failures\u001b[0;34m(results, error_score)\u001b[0m\n\u001b[1;32m    365\u001b[0m                 \u001b[0;34mf\"Below are more details about the failures:\\n{fit_errors_summary}\"\u001b[0m\u001b[0;34m\u001b[0m\u001b[0;34m\u001b[0m\u001b[0m\n\u001b[1;32m    366\u001b[0m             )\n\u001b[0;32m--> 367\u001b[0;31m             \u001b[0;32mraise\u001b[0m \u001b[0mValueError\u001b[0m\u001b[0;34m(\u001b[0m\u001b[0mall_fits_failed_message\u001b[0m\u001b[0;34m)\u001b[0m\u001b[0;34m\u001b[0m\u001b[0;34m\u001b[0m\u001b[0m\n\u001b[0m\u001b[1;32m    368\u001b[0m \u001b[0;34m\u001b[0m\u001b[0m\n\u001b[1;32m    369\u001b[0m         \u001b[0;32melse\u001b[0m\u001b[0;34m:\u001b[0m\u001b[0;34m\u001b[0m\u001b[0;34m\u001b[0m\u001b[0m\n",
      "\u001b[0;31mValueError\u001b[0m: \nAll the 192 fits failed.\nIt is very likely that your model is misconfigured.\nYou can try to debug the error by setting error_score='raise'.\n\nBelow are more details about the failures:\n--------------------------------------------------------------------------------\n192 fits failed with the following error:\nTraceback (most recent call last):\n  File \"/home/ale/.local/lib/python3.10/site-packages/sklearn/model_selection/_validation.py\", line 686, in _fit_and_score\n    estimator.fit(X_train, y_train, **fit_params)\n  File \"/home/ale/.local/lib/python3.10/site-packages/sklearn/ensemble/_forest.py\", line 331, in fit\n    X, y = self._validate_data(\n  File \"/home/ale/.local/lib/python3.10/site-packages/sklearn/base.py\", line 596, in _validate_data\n    X, y = check_X_y(X, y, **check_params)\n  File \"/home/ale/.local/lib/python3.10/site-packages/sklearn/utils/validation.py\", line 1074, in check_X_y\n    X = check_array(\n  File \"/home/ale/.local/lib/python3.10/site-packages/sklearn/utils/validation.py\", line 768, in check_array\n    dtype_orig = np.result_type(*dtypes_orig)\n  File \"<__array_function__ internals>\", line 5, in result_type\nValueError: at least one array or dtype is required\n"
     ]
    }
   ],
   "source": [
    "train_using_multivariate(df_cnv_removed, label, list_selected_feature, 10,\n",
    "                         'r_function_with_mannwhitney_boruta/', \n",
    "                         'result_new_experiment/',\n",
    "                         'cnv',\n",
    "                         'boruta')"
   ]
  },
  {
   "cell_type": "markdown",
   "id": "40589090",
   "metadata": {},
   "source": [
    "# Train concat"
   ]
  },
  {
   "cell_type": "code",
   "execution_count": 36,
   "id": "e4139c0b",
   "metadata": {},
   "outputs": [
    {
     "name": "stdout",
     "output_type": "stream",
     "text": [
      "CHECKKKKKKKK\n"
     ]
    },
    {
     "name": "stderr",
     "output_type": "stream",
     "text": [
      "                                      \r"
     ]
    },
    {
     "data": {
      "image/png": "[encoded data removed]",
      "text/plain": [
       "<Figure size 432x288 with 1 Axes>"
      ]
     },
     "metadata": {
      "needs_background": "light"
     },
     "output_type": "display_data"
    }
   ],
   "source": [
    "list_selected_feature = train_using_mann_whitney(df_concat_removed, label, 10, 'concat', 'r_function_with_mannwhitney', 'result_new_experiment/')"
   ]
  },
  {
   "cell_type": "code",
   "execution_count": null,
   "id": "1d128ae3",
   "metadata": {},
   "outputs": [],
   "source": [
    "train_using_multivariate(df_concat_removed, label, list_selected_feature, 10,\n",
    "                         'r_function_with_mannwhitney_mrmr/', \n",
    "                         'result_new_experiment/',\n",
    "                         'concat',\n",
    "                         'mrmr')"
   ]
  },
  {
   "cell_type": "code",
   "execution_count": null,
   "id": "cef35b13",
   "metadata": {},
   "outputs": [],
   "source": [
    "train_using_multivariate(df_concat_removed, label, list_selected_feature, 10,\n",
    "                         'r_function_with_mannwhitney_boruta/', \n",
    "                         'result_new_experiment/',\n",
    "                         'concat',\n",
    "                         'boruta')"
   ]
  }
 ],
 "metadata": {
  "kernelspec": {
   "display_name": "Python 3 (ipykernel)",
   "language": "python",
   "name": "python3"
  },
  "language_info": {
   "codemirror_mode": {
    "name": "ipython",
    "version": 3
   },
   "file_extension": ".py",
   "mimetype": "text/x-python",
   "name": "python",
   "nbconvert_exporter": "python",
   "pygments_lexer": "ipython3",
   "version": "3.10.6"
  }
 },
 "nbformat": 4,
 "nbformat_minor": 5
}

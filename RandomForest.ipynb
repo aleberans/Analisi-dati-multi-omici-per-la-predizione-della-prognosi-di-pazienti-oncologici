{
 "cells": [
  {
   "cell_type": "code",
   "execution_count": 1,
   "id": "a9a87904",
   "metadata": {},
   "outputs": [],
   "source": [
    "import pandas as pd\n",
    "from sklearn.preprocessing import MinMaxScaler\n",
    "import mrmr\n",
    "from pymrmr import mRMR\n",
    "import matplotlib.pyplot as plt\n",
    "from sklearn.model_selection import StratifiedKFold, GridSearchCV\n",
    "import mrmr\n",
    "from sklearn.ensemble import RandomForestClassifier\n",
    "import numpy as np\n",
    "import os.path\n",
    "import json\n",
    "from sklearn.metrics import auc, precision_recall_curve, average_precision_score, PrecisionRecallDisplay\n",
    "import pymrmr\n",
    "from scipy.stats import kruskal, mannwhitneyu, kendalltau, spearmanr\n",
    "from boruta import BorutaPy\n",
    "import umap.umap_ as umap\n",
    "import icikt\n",
    "from tqdm import tqdm\n",
    "from sklearn.feature_selection import mutual_info_classif as MIC\n",
    "from minepy import MINE\n",
    "import random\n",
    "\n",
    "random.seed(10)"
   ]
  },
  {
   "cell_type": "markdown",
   "id": "fcd46eab",
   "metadata": {},
   "source": [
    "# Import data"
   ]
  },
  {
   "cell_type": "code",
   "execution_count": 2,
   "id": "9a3102b3",
   "metadata": {},
   "outputs": [
    {
     "data": {
      "text/html": [
       "<div>\n",
       "<style scoped>\n",
       "    .dataframe tbody tr th:only-of-type {\n",
       "        vertical-align: middle;\n",
       "    }\n",
       "\n",
       "    .dataframe tbody tr th {\n",
       "        vertical-align: top;\n",
       "    }\n",
       "\n",
       "    .dataframe thead th {\n",
       "        text-align: right;\n",
       "    }\n",
       "</style>\n",
       "<table border=\"1\" class=\"dataframe\">\n",
       "  <thead>\n",
       "    <tr style=\"text-align: right;\">\n",
       "      <th></th>\n",
       "      <th>ACAP3</th>\n",
       "      <th>ACTRT2</th>\n",
       "      <th>AGRN</th>\n",
       "      <th>ANKRD65</th>\n",
       "      <th>ATAD3A</th>\n",
       "      <th>ATAD3B</th>\n",
       "      <th>ATAD3C</th>\n",
       "      <th>AURKAIP1</th>\n",
       "      <th>B3GALT6</th>\n",
       "      <th>C1orf159</th>\n",
       "      <th>...</th>\n",
       "      <th>SMIM9</th>\n",
       "      <th>SNORA36A</th>\n",
       "      <th>SNORA56</th>\n",
       "      <th>TMLHE</th>\n",
       "      <th>VBP1</th>\n",
       "      <th>IL9R|ENSG00000124334.12</th>\n",
       "      <th>SPRY3|ENSG00000168939.6</th>\n",
       "      <th>VAMP7|ENSG00000124333.10</th>\n",
       "      <th>WASH6P|ENSG00000182484.10</th>\n",
       "      <th>WASIR1|ENSG00000185203.7</th>\n",
       "    </tr>\n",
       "  </thead>\n",
       "  <tbody>\n",
       "    <tr>\n",
       "      <th>TCGA-3C-AALI</th>\n",
       "      <td>-1</td>\n",
       "      <td>-1</td>\n",
       "      <td>-1</td>\n",
       "      <td>-1</td>\n",
       "      <td>-1</td>\n",
       "      <td>-1</td>\n",
       "      <td>-1</td>\n",
       "      <td>-1</td>\n",
       "      <td>-1</td>\n",
       "      <td>-1</td>\n",
       "      <td>...</td>\n",
       "      <td>-1</td>\n",
       "      <td>-1</td>\n",
       "      <td>-1</td>\n",
       "      <td>-1</td>\n",
       "      <td>-1</td>\n",
       "      <td>-1</td>\n",
       "      <td>-1</td>\n",
       "      <td>-1</td>\n",
       "      <td>-1</td>\n",
       "      <td>-1</td>\n",
       "    </tr>\n",
       "    <tr>\n",
       "      <th>TCGA-3C-AALK</th>\n",
       "      <td>0</td>\n",
       "      <td>0</td>\n",
       "      <td>0</td>\n",
       "      <td>0</td>\n",
       "      <td>0</td>\n",
       "      <td>0</td>\n",
       "      <td>0</td>\n",
       "      <td>0</td>\n",
       "      <td>0</td>\n",
       "      <td>0</td>\n",
       "      <td>...</td>\n",
       "      <td>0</td>\n",
       "      <td>0</td>\n",
       "      <td>0</td>\n",
       "      <td>0</td>\n",
       "      <td>0</td>\n",
       "      <td>0</td>\n",
       "      <td>0</td>\n",
       "      <td>0</td>\n",
       "      <td>0</td>\n",
       "      <td>0</td>\n",
       "    </tr>\n",
       "    <tr>\n",
       "      <th>TCGA-4H-AAAK</th>\n",
       "      <td>0</td>\n",
       "      <td>0</td>\n",
       "      <td>0</td>\n",
       "      <td>0</td>\n",
       "      <td>0</td>\n",
       "      <td>0</td>\n",
       "      <td>0</td>\n",
       "      <td>0</td>\n",
       "      <td>0</td>\n",
       "      <td>0</td>\n",
       "      <td>...</td>\n",
       "      <td>0</td>\n",
       "      <td>0</td>\n",
       "      <td>0</td>\n",
       "      <td>0</td>\n",
       "      <td>0</td>\n",
       "      <td>0</td>\n",
       "      <td>0</td>\n",
       "      <td>0</td>\n",
       "      <td>0</td>\n",
       "      <td>0</td>\n",
       "    </tr>\n",
       "    <tr>\n",
       "      <th>TCGA-5L-AAT1</th>\n",
       "      <td>0</td>\n",
       "      <td>0</td>\n",
       "      <td>0</td>\n",
       "      <td>0</td>\n",
       "      <td>0</td>\n",
       "      <td>0</td>\n",
       "      <td>0</td>\n",
       "      <td>0</td>\n",
       "      <td>0</td>\n",
       "      <td>0</td>\n",
       "      <td>...</td>\n",
       "      <td>0</td>\n",
       "      <td>0</td>\n",
       "      <td>0</td>\n",
       "      <td>0</td>\n",
       "      <td>0</td>\n",
       "      <td>0</td>\n",
       "      <td>0</td>\n",
       "      <td>0</td>\n",
       "      <td>0</td>\n",
       "      <td>0</td>\n",
       "    </tr>\n",
       "    <tr>\n",
       "      <th>TCGA-5T-A9QA</th>\n",
       "      <td>-1</td>\n",
       "      <td>-1</td>\n",
       "      <td>-1</td>\n",
       "      <td>-1</td>\n",
       "      <td>-1</td>\n",
       "      <td>-1</td>\n",
       "      <td>-1</td>\n",
       "      <td>-1</td>\n",
       "      <td>-1</td>\n",
       "      <td>-1</td>\n",
       "      <td>...</td>\n",
       "      <td>0</td>\n",
       "      <td>0</td>\n",
       "      <td>0</td>\n",
       "      <td>0</td>\n",
       "      <td>0</td>\n",
       "      <td>0</td>\n",
       "      <td>0</td>\n",
       "      <td>0</td>\n",
       "      <td>0</td>\n",
       "      <td>0</td>\n",
       "    </tr>\n",
       "  </tbody>\n",
       "</table>\n",
       "<p>5 rows × 24776 columns</p>\n",
       "</div>"
      ],
      "text/plain": [
       "              ACAP3  ACTRT2  AGRN  ANKRD65  ATAD3A  ATAD3B  ATAD3C  AURKAIP1  \\\n",
       "TCGA-3C-AALI     -1      -1    -1       -1      -1      -1      -1        -1   \n",
       "TCGA-3C-AALK      0       0     0        0       0       0       0         0   \n",
       "TCGA-4H-AAAK      0       0     0        0       0       0       0         0   \n",
       "TCGA-5L-AAT1      0       0     0        0       0       0       0         0   \n",
       "TCGA-5T-A9QA     -1      -1    -1       -1      -1      -1      -1        -1   \n",
       "\n",
       "              B3GALT6  C1orf159  ...  SMIM9  SNORA36A  SNORA56  TMLHE  VBP1  \\\n",
       "TCGA-3C-AALI       -1        -1  ...     -1        -1       -1     -1    -1   \n",
       "TCGA-3C-AALK        0         0  ...      0         0        0      0     0   \n",
       "TCGA-4H-AAAK        0         0  ...      0         0        0      0     0   \n",
       "TCGA-5L-AAT1        0         0  ...      0         0        0      0     0   \n",
       "TCGA-5T-A9QA       -1        -1  ...      0         0        0      0     0   \n",
       "\n",
       "              IL9R|ENSG00000124334.12  SPRY3|ENSG00000168939.6  \\\n",
       "TCGA-3C-AALI                       -1                       -1   \n",
       "TCGA-3C-AALK                        0                        0   \n",
       "TCGA-4H-AAAK                        0                        0   \n",
       "TCGA-5L-AAT1                        0                        0   \n",
       "TCGA-5T-A9QA                        0                        0   \n",
       "\n",
       "              VAMP7|ENSG00000124333.10  WASH6P|ENSG00000182484.10  \\\n",
       "TCGA-3C-AALI                        -1                         -1   \n",
       "TCGA-3C-AALK                         0                          0   \n",
       "TCGA-4H-AAAK                         0                          0   \n",
       "TCGA-5L-AAT1                         0                          0   \n",
       "TCGA-5T-A9QA                         0                          0   \n",
       "\n",
       "              WASIR1|ENSG00000185203.7  \n",
       "TCGA-3C-AALI                        -1  \n",
       "TCGA-3C-AALK                         0  \n",
       "TCGA-4H-AAAK                         0  \n",
       "TCGA-5L-AAT1                         0  \n",
       "TCGA-5T-A9QA                         0  \n",
       "\n",
       "[5 rows x 24776 columns]"
      ]
     },
     "execution_count": 2,
     "metadata": {},
     "output_type": "execute_result"
    }
   ],
   "source": [
    "# import data from csv \n",
    "cnv = pd.read_csv('dataset_hg19/dataset/cnv.csv', sep=' ')\n",
    "\n",
    "cnv.head()"
   ]
  },
  {
   "cell_type": "code",
   "execution_count": 3,
   "id": "03c327fc",
   "metadata": {},
   "outputs": [
    {
     "data": {
      "text/html": [
       "<div>\n",
       "<style scoped>\n",
       "    .dataframe tbody tr th:only-of-type {\n",
       "        vertical-align: middle;\n",
       "    }\n",
       "\n",
       "    .dataframe tbody tr th {\n",
       "        vertical-align: top;\n",
       "    }\n",
       "\n",
       "    .dataframe thead th {\n",
       "        text-align: right;\n",
       "    }\n",
       "</style>\n",
       "<table border=\"1\" class=\"dataframe\">\n",
       "  <thead>\n",
       "    <tr style=\"text-align: right;\">\n",
       "      <th></th>\n",
       "      <th>hsa-let-7a-1</th>\n",
       "      <th>hsa-let-7a-2</th>\n",
       "      <th>hsa-let-7a-3</th>\n",
       "      <th>hsa-let-7b</th>\n",
       "      <th>hsa-let-7c</th>\n",
       "      <th>hsa-let-7d</th>\n",
       "      <th>hsa-let-7e</th>\n",
       "      <th>hsa-let-7f-1</th>\n",
       "      <th>hsa-let-7f-2</th>\n",
       "      <th>hsa-let-7g</th>\n",
       "      <th>...</th>\n",
       "      <th>hsa-mir-941-3</th>\n",
       "      <th>hsa-mir-941-4</th>\n",
       "      <th>hsa-mir-942</th>\n",
       "      <th>hsa-mir-943</th>\n",
       "      <th>hsa-mir-944</th>\n",
       "      <th>hsa-mir-95</th>\n",
       "      <th>hsa-mir-96</th>\n",
       "      <th>hsa-mir-98</th>\n",
       "      <th>hsa-mir-99a</th>\n",
       "      <th>hsa-mir-99b</th>\n",
       "    </tr>\n",
       "  </thead>\n",
       "  <tbody>\n",
       "    <tr>\n",
       "      <th>TCGA-3C-AALI</th>\n",
       "      <td>49201</td>\n",
       "      <td>98691</td>\n",
       "      <td>49035</td>\n",
       "      <td>148591</td>\n",
       "      <td>5095</td>\n",
       "      <td>3263</td>\n",
       "      <td>3566</td>\n",
       "      <td>133</td>\n",
       "      <td>41683</td>\n",
       "      <td>2231</td>\n",
       "      <td>...</td>\n",
       "      <td>0</td>\n",
       "      <td>0</td>\n",
       "      <td>52</td>\n",
       "      <td>0</td>\n",
       "      <td>4</td>\n",
       "      <td>8</td>\n",
       "      <td>383</td>\n",
       "      <td>547</td>\n",
       "      <td>1503</td>\n",
       "      <td>80378</td>\n",
       "    </tr>\n",
       "    <tr>\n",
       "      <th>TCGA-3C-AALK</th>\n",
       "      <td>57278</td>\n",
       "      <td>114320</td>\n",
       "      <td>57540</td>\n",
       "      <td>164553</td>\n",
       "      <td>18464</td>\n",
       "      <td>2114</td>\n",
       "      <td>8364</td>\n",
       "      <td>113</td>\n",
       "      <td>40723</td>\n",
       "      <td>2245</td>\n",
       "      <td>...</td>\n",
       "      <td>0</td>\n",
       "      <td>0</td>\n",
       "      <td>22</td>\n",
       "      <td>0</td>\n",
       "      <td>22</td>\n",
       "      <td>11</td>\n",
       "      <td>459</td>\n",
       "      <td>263</td>\n",
       "      <td>6620</td>\n",
       "      <td>152218</td>\n",
       "    </tr>\n",
       "    <tr>\n",
       "      <th>TCGA-4H-AAAK</th>\n",
       "      <td>67196</td>\n",
       "      <td>134563</td>\n",
       "      <td>67607</td>\n",
       "      <td>136918</td>\n",
       "      <td>20429</td>\n",
       "      <td>2162</td>\n",
       "      <td>10556</td>\n",
       "      <td>139</td>\n",
       "      <td>50848</td>\n",
       "      <td>2056</td>\n",
       "      <td>...</td>\n",
       "      <td>0</td>\n",
       "      <td>0</td>\n",
       "      <td>13</td>\n",
       "      <td>0</td>\n",
       "      <td>7</td>\n",
       "      <td>5</td>\n",
       "      <td>123</td>\n",
       "      <td>212</td>\n",
       "      <td>6666</td>\n",
       "      <td>158568</td>\n",
       "    </tr>\n",
       "    <tr>\n",
       "      <th>TCGA-5L-AAT1</th>\n",
       "      <td>94243</td>\n",
       "      <td>188921</td>\n",
       "      <td>94346</td>\n",
       "      <td>211457</td>\n",
       "      <td>21076</td>\n",
       "      <td>2657</td>\n",
       "      <td>12104</td>\n",
       "      <td>272</td>\n",
       "      <td>94610</td>\n",
       "      <td>3903</td>\n",
       "      <td>...</td>\n",
       "      <td>0</td>\n",
       "      <td>0</td>\n",
       "      <td>23</td>\n",
       "      <td>0</td>\n",
       "      <td>12</td>\n",
       "      <td>11</td>\n",
       "      <td>235</td>\n",
       "      <td>529</td>\n",
       "      <td>5352</td>\n",
       "      <td>196557</td>\n",
       "    </tr>\n",
       "    <tr>\n",
       "      <th>TCGA-5T-A9QA</th>\n",
       "      <td>49313</td>\n",
       "      <td>97721</td>\n",
       "      <td>49623</td>\n",
       "      <td>127544</td>\n",
       "      <td>2134</td>\n",
       "      <td>1769</td>\n",
       "      <td>8190</td>\n",
       "      <td>104</td>\n",
       "      <td>28306</td>\n",
       "      <td>2792</td>\n",
       "      <td>...</td>\n",
       "      <td>0</td>\n",
       "      <td>0</td>\n",
       "      <td>72</td>\n",
       "      <td>0</td>\n",
       "      <td>3</td>\n",
       "      <td>23</td>\n",
       "      <td>186</td>\n",
       "      <td>146</td>\n",
       "      <td>445</td>\n",
       "      <td>127728</td>\n",
       "    </tr>\n",
       "  </tbody>\n",
       "</table>\n",
       "<p>5 rows × 1046 columns</p>\n",
       "</div>"
      ],
      "text/plain": [
       "              hsa-let-7a-1  hsa-let-7a-2  hsa-let-7a-3  hsa-let-7b  \\\n",
       "TCGA-3C-AALI         49201         98691         49035      148591   \n",
       "TCGA-3C-AALK         57278        114320         57540      164553   \n",
       "TCGA-4H-AAAK         67196        134563         67607      136918   \n",
       "TCGA-5L-AAT1         94243        188921         94346      211457   \n",
       "TCGA-5T-A9QA         49313         97721         49623      127544   \n",
       "\n",
       "              hsa-let-7c  hsa-let-7d  hsa-let-7e  hsa-let-7f-1  hsa-let-7f-2  \\\n",
       "TCGA-3C-AALI        5095        3263        3566           133         41683   \n",
       "TCGA-3C-AALK       18464        2114        8364           113         40723   \n",
       "TCGA-4H-AAAK       20429        2162       10556           139         50848   \n",
       "TCGA-5L-AAT1       21076        2657       12104           272         94610   \n",
       "TCGA-5T-A9QA        2134        1769        8190           104         28306   \n",
       "\n",
       "              hsa-let-7g  ...  hsa-mir-941-3  hsa-mir-941-4  hsa-mir-942  \\\n",
       "TCGA-3C-AALI        2231  ...              0              0           52   \n",
       "TCGA-3C-AALK        2245  ...              0              0           22   \n",
       "TCGA-4H-AAAK        2056  ...              0              0           13   \n",
       "TCGA-5L-AAT1        3903  ...              0              0           23   \n",
       "TCGA-5T-A9QA        2792  ...              0              0           72   \n",
       "\n",
       "              hsa-mir-943  hsa-mir-944  hsa-mir-95  hsa-mir-96  hsa-mir-98  \\\n",
       "TCGA-3C-AALI            0            4           8         383         547   \n",
       "TCGA-3C-AALK            0           22          11         459         263   \n",
       "TCGA-4H-AAAK            0            7           5         123         212   \n",
       "TCGA-5L-AAT1            0           12          11         235         529   \n",
       "TCGA-5T-A9QA            0            3          23         186         146   \n",
       "\n",
       "              hsa-mir-99a  hsa-mir-99b  \n",
       "TCGA-3C-AALI         1503        80378  \n",
       "TCGA-3C-AALK         6620       152218  \n",
       "TCGA-4H-AAAK         6666       158568  \n",
       "TCGA-5L-AAT1         5352       196557  \n",
       "TCGA-5T-A9QA          445       127728  \n",
       "\n",
       "[5 rows x 1046 columns]"
      ]
     },
     "execution_count": 3,
     "metadata": {},
     "output_type": "execute_result"
    }
   ],
   "source": [
    "miRNA = pd.read_csv('dataset_hg19/dataset/mirna.csv', sep=' ')\n",
    "\n",
    "miRNA.head()"
   ]
  },
  {
   "cell_type": "code",
   "execution_count": 4,
   "id": "f1f3bfbe",
   "metadata": {},
   "outputs": [
    {
     "data": {
      "text/html": [
       "<div>\n",
       "<style scoped>\n",
       "    .dataframe tbody tr th:only-of-type {\n",
       "        vertical-align: middle;\n",
       "    }\n",
       "\n",
       "    .dataframe tbody tr th {\n",
       "        vertical-align: top;\n",
       "    }\n",
       "\n",
       "    .dataframe thead th {\n",
       "        text-align: right;\n",
       "    }\n",
       "</style>\n",
       "<table border=\"1\" class=\"dataframe\">\n",
       "  <thead>\n",
       "    <tr style=\"text-align: right;\">\n",
       "      <th></th>\n",
       "      <th>A1BG</th>\n",
       "      <th>A1CF</th>\n",
       "      <th>A2BP1</th>\n",
       "      <th>A2LD1</th>\n",
       "      <th>A2ML1</th>\n",
       "      <th>A2M</th>\n",
       "      <th>A4GALT</th>\n",
       "      <th>A4GNT</th>\n",
       "      <th>AAA1</th>\n",
       "      <th>AAAS</th>\n",
       "      <th>...</th>\n",
       "      <th>ZXDA</th>\n",
       "      <th>ZXDB</th>\n",
       "      <th>ZXDC</th>\n",
       "      <th>ZYG11A</th>\n",
       "      <th>ZYG11B</th>\n",
       "      <th>ZYX</th>\n",
       "      <th>ZZEF1</th>\n",
       "      <th>ZZZ3</th>\n",
       "      <th>psiTPTE22</th>\n",
       "      <th>tAKR</th>\n",
       "    </tr>\n",
       "  </thead>\n",
       "  <tbody>\n",
       "    <tr>\n",
       "      <th>TCGA-3C-AALI</th>\n",
       "      <td>436.55</td>\n",
       "      <td>0</td>\n",
       "      <td>0</td>\n",
       "      <td>130.32</td>\n",
       "      <td>8</td>\n",
       "      <td>13924.87</td>\n",
       "      <td>290</td>\n",
       "      <td>1</td>\n",
       "      <td>0</td>\n",
       "      <td>1633</td>\n",
       "      <td>...</td>\n",
       "      <td>110</td>\n",
       "      <td>825</td>\n",
       "      <td>2470</td>\n",
       "      <td>365</td>\n",
       "      <td>1110</td>\n",
       "      <td>10123</td>\n",
       "      <td>2425</td>\n",
       "      <td>748</td>\n",
       "      <td>1704</td>\n",
       "      <td>0</td>\n",
       "    </tr>\n",
       "    <tr>\n",
       "      <th>TCGA-3C-AALK</th>\n",
       "      <td>461.69</td>\n",
       "      <td>0</td>\n",
       "      <td>0</td>\n",
       "      <td>151.08</td>\n",
       "      <td>4</td>\n",
       "      <td>26490.85</td>\n",
       "      <td>1224</td>\n",
       "      <td>0</td>\n",
       "      <td>0</td>\n",
       "      <td>1878</td>\n",
       "      <td>...</td>\n",
       "      <td>133</td>\n",
       "      <td>1058</td>\n",
       "      <td>2088</td>\n",
       "      <td>424</td>\n",
       "      <td>1468</td>\n",
       "      <td>13756</td>\n",
       "      <td>1888</td>\n",
       "      <td>1694</td>\n",
       "      <td>161</td>\n",
       "      <td>0</td>\n",
       "    </tr>\n",
       "    <tr>\n",
       "      <th>TCGA-4H-AAAK</th>\n",
       "      <td>631.87</td>\n",
       "      <td>1</td>\n",
       "      <td>9</td>\n",
       "      <td>362.77</td>\n",
       "      <td>8</td>\n",
       "      <td>22525.79</td>\n",
       "      <td>804</td>\n",
       "      <td>1</td>\n",
       "      <td>1</td>\n",
       "      <td>1925</td>\n",
       "      <td>...</td>\n",
       "      <td>115</td>\n",
       "      <td>997</td>\n",
       "      <td>2467</td>\n",
       "      <td>33</td>\n",
       "      <td>1823</td>\n",
       "      <td>9498</td>\n",
       "      <td>1955</td>\n",
       "      <td>2072</td>\n",
       "      <td>440</td>\n",
       "      <td>0</td>\n",
       "    </tr>\n",
       "    <tr>\n",
       "      <th>TCGA-5L-AAT1</th>\n",
       "      <td>259.26</td>\n",
       "      <td>0</td>\n",
       "      <td>0</td>\n",
       "      <td>125.12</td>\n",
       "      <td>5</td>\n",
       "      <td>18903.93</td>\n",
       "      <td>323</td>\n",
       "      <td>1</td>\n",
       "      <td>0</td>\n",
       "      <td>971</td>\n",
       "      <td>...</td>\n",
       "      <td>55</td>\n",
       "      <td>697</td>\n",
       "      <td>1213</td>\n",
       "      <td>66</td>\n",
       "      <td>630</td>\n",
       "      <td>5421</td>\n",
       "      <td>1732</td>\n",
       "      <td>698</td>\n",
       "      <td>71</td>\n",
       "      <td>0</td>\n",
       "    </tr>\n",
       "    <tr>\n",
       "      <th>TCGA-5T-A9QA</th>\n",
       "      <td>600.72</td>\n",
       "      <td>1</td>\n",
       "      <td>1</td>\n",
       "      <td>446.68</td>\n",
       "      <td>0</td>\n",
       "      <td>6084.91</td>\n",
       "      <td>787</td>\n",
       "      <td>7</td>\n",
       "      <td>0</td>\n",
       "      <td>1670</td>\n",
       "      <td>...</td>\n",
       "      <td>55</td>\n",
       "      <td>547</td>\n",
       "      <td>1548</td>\n",
       "      <td>4</td>\n",
       "      <td>615</td>\n",
       "      <td>6160</td>\n",
       "      <td>2132</td>\n",
       "      <td>843</td>\n",
       "      <td>7</td>\n",
       "      <td>0</td>\n",
       "    </tr>\n",
       "  </tbody>\n",
       "</table>\n",
       "<p>5 rows × 20501 columns</p>\n",
       "</div>"
      ],
      "text/plain": [
       "                A1BG  A1CF  A2BP1   A2LD1  A2ML1       A2M  A4GALT  A4GNT  \\\n",
       "TCGA-3C-AALI  436.55     0      0  130.32      8  13924.87     290      1   \n",
       "TCGA-3C-AALK  461.69     0      0  151.08      4  26490.85    1224      0   \n",
       "TCGA-4H-AAAK  631.87     1      9  362.77      8  22525.79     804      1   \n",
       "TCGA-5L-AAT1  259.26     0      0  125.12      5  18903.93     323      1   \n",
       "TCGA-5T-A9QA  600.72     1      1  446.68      0   6084.91     787      7   \n",
       "\n",
       "              AAA1  AAAS  ...  ZXDA  ZXDB  ZXDC  ZYG11A  ZYG11B    ZYX  ZZEF1  \\\n",
       "TCGA-3C-AALI     0  1633  ...   110   825  2470     365    1110  10123   2425   \n",
       "TCGA-3C-AALK     0  1878  ...   133  1058  2088     424    1468  13756   1888   \n",
       "TCGA-4H-AAAK     1  1925  ...   115   997  2467      33    1823   9498   1955   \n",
       "TCGA-5L-AAT1     0   971  ...    55   697  1213      66     630   5421   1732   \n",
       "TCGA-5T-A9QA     0  1670  ...    55   547  1548       4     615   6160   2132   \n",
       "\n",
       "              ZZZ3  psiTPTE22  tAKR  \n",
       "TCGA-3C-AALI   748       1704     0  \n",
       "TCGA-3C-AALK  1694        161     0  \n",
       "TCGA-4H-AAAK  2072        440     0  \n",
       "TCGA-5L-AAT1   698         71     0  \n",
       "TCGA-5T-A9QA   843          7     0  \n",
       "\n",
       "[5 rows x 20501 columns]"
      ]
     },
     "execution_count": 4,
     "metadata": {},
     "output_type": "execute_result"
    }
   ],
   "source": [
    "mRNA = pd.read_csv('dataset_hg19/dataset/mrna.csv', sep=' ')\n",
    "\n",
    "mRNA.head()"
   ]
  },
  {
   "cell_type": "code",
   "execution_count": 5,
   "id": "06a16faf",
   "metadata": {},
   "outputs": [
    {
     "data": {
      "text/html": [
       "<div>\n",
       "<style scoped>\n",
       "    .dataframe tbody tr th:only-of-type {\n",
       "        vertical-align: middle;\n",
       "    }\n",
       "\n",
       "    .dataframe tbody tr th {\n",
       "        vertical-align: top;\n",
       "    }\n",
       "\n",
       "    .dataframe thead th {\n",
       "        text-align: right;\n",
       "    }\n",
       "</style>\n",
       "<table border=\"1\" class=\"dataframe\">\n",
       "  <thead>\n",
       "    <tr style=\"text-align: right;\">\n",
       "      <th></th>\n",
       "      <th>14-3-3_beta</th>\n",
       "      <th>14-3-3_epsilon</th>\n",
       "      <th>14-3-3_zeta</th>\n",
       "      <th>4E-BP1</th>\n",
       "      <th>4E-BP1_pS65</th>\n",
       "      <th>4E-BP1_pT37_T46</th>\n",
       "      <th>4E-BP1_pT70</th>\n",
       "      <th>53BP1</th>\n",
       "      <th>A-Raf</th>\n",
       "      <th>A-Raf_pS299</th>\n",
       "      <th>...</th>\n",
       "      <th>p27_pT157</th>\n",
       "      <th>p27_pT198</th>\n",
       "      <th>p38_MAPK</th>\n",
       "      <th>p38_pT180_Y182</th>\n",
       "      <th>p53</th>\n",
       "      <th>p62-LCK-ligand</th>\n",
       "      <th>p70S6K</th>\n",
       "      <th>p70S6K_pT389</th>\n",
       "      <th>p90RSK</th>\n",
       "      <th>p90RSK_pT359_S363</th>\n",
       "    </tr>\n",
       "  </thead>\n",
       "  <tbody>\n",
       "    <tr>\n",
       "      <th>TCGA-3C-AALI</th>\n",
       "      <td>-0.000752</td>\n",
       "      <td>0.022553</td>\n",
       "      <td>0.021112</td>\n",
       "      <td>0.101796</td>\n",
       "      <td>-0.382850</td>\n",
       "      <td>-0.108997</td>\n",
       "      <td>0.103860</td>\n",
       "      <td>-0.335720</td>\n",
       "      <td>0.139450</td>\n",
       "      <td>0.148123</td>\n",
       "      <td>...</td>\n",
       "      <td>-0.076626</td>\n",
       "      <td>-0.231296</td>\n",
       "      <td>-0.169884</td>\n",
       "      <td>0.040360</td>\n",
       "      <td>-0.043975</td>\n",
       "      <td>1.293687</td>\n",
       "      <td>0.783984</td>\n",
       "      <td>0.162565</td>\n",
       "      <td>-0.667649</td>\n",
       "      <td>-0.102581</td>\n",
       "    </tr>\n",
       "    <tr>\n",
       "      <th>TCGA-3C-AALK</th>\n",
       "      <td>-0.202252</td>\n",
       "      <td>0.077041</td>\n",
       "      <td>0.153997</td>\n",
       "      <td>0.299107</td>\n",
       "      <td>-0.438903</td>\n",
       "      <td>-0.460678</td>\n",
       "      <td>-0.358195</td>\n",
       "      <td>0.474016</td>\n",
       "      <td>0.376476</td>\n",
       "      <td>-0.160318</td>\n",
       "      <td>...</td>\n",
       "      <td>-0.219547</td>\n",
       "      <td>-0.340080</td>\n",
       "      <td>0.208381</td>\n",
       "      <td>0.365363</td>\n",
       "      <td>-0.136875</td>\n",
       "      <td>0.680809</td>\n",
       "      <td>0.612644</td>\n",
       "      <td>-0.131174</td>\n",
       "      <td>0.419210</td>\n",
       "      <td>-0.118623</td>\n",
       "    </tr>\n",
       "    <tr>\n",
       "      <th>TCGA-4H-AAAK</th>\n",
       "      <td>-0.208434</td>\n",
       "      <td>0.062566</td>\n",
       "      <td>0.034209</td>\n",
       "      <td>0.429696</td>\n",
       "      <td>-0.102852</td>\n",
       "      <td>-0.499466</td>\n",
       "      <td>-0.433138</td>\n",
       "      <td>0.143794</td>\n",
       "      <td>0.339525</td>\n",
       "      <td>-0.221161</td>\n",
       "      <td>...</td>\n",
       "      <td>-0.070647</td>\n",
       "      <td>-0.471717</td>\n",
       "      <td>-0.052702</td>\n",
       "      <td>0.068514</td>\n",
       "      <td>-0.080364</td>\n",
       "      <td>0.300677</td>\n",
       "      <td>0.819253</td>\n",
       "      <td>-0.520017</td>\n",
       "      <td>0.003252</td>\n",
       "      <td>-0.855659</td>\n",
       "    </tr>\n",
       "    <tr>\n",
       "      <th>TCGA-5L-AAT1</th>\n",
       "      <td>-0.465476</td>\n",
       "      <td>0.141845</td>\n",
       "      <td>0.232721</td>\n",
       "      <td>0.427772</td>\n",
       "      <td>-0.231596</td>\n",
       "      <td>0.276124</td>\n",
       "      <td>-0.411702</td>\n",
       "      <td>0.736283</td>\n",
       "      <td>0.398665</td>\n",
       "      <td>-0.063979</td>\n",
       "      <td>...</td>\n",
       "      <td>-0.145362</td>\n",
       "      <td>-0.582255</td>\n",
       "      <td>0.346637</td>\n",
       "      <td>0.289421</td>\n",
       "      <td>-0.225658</td>\n",
       "      <td>0.591818</td>\n",
       "      <td>0.623455</td>\n",
       "      <td>-0.559783</td>\n",
       "      <td>0.510494</td>\n",
       "      <td>-0.601296</td>\n",
       "    </tr>\n",
       "    <tr>\n",
       "      <th>TCGA-5T-A9QA</th>\n",
       "      <td>-0.354823</td>\n",
       "      <td>0.156575</td>\n",
       "      <td>0.249023</td>\n",
       "      <td>1.197526</td>\n",
       "      <td>0.447913</td>\n",
       "      <td>1.001215</td>\n",
       "      <td>0.307314</td>\n",
       "      <td>0.581762</td>\n",
       "      <td>0.316779</td>\n",
       "      <td>-0.085146</td>\n",
       "      <td>...</td>\n",
       "      <td>0.076588</td>\n",
       "      <td>-0.325001</td>\n",
       "      <td>0.166015</td>\n",
       "      <td>-1.064492</td>\n",
       "      <td>0.181296</td>\n",
       "      <td>-0.226434</td>\n",
       "      <td>0.842169</td>\n",
       "      <td>0.280629</td>\n",
       "      <td>0.524148</td>\n",
       "      <td>-0.500144</td>\n",
       "    </tr>\n",
       "  </tbody>\n",
       "</table>\n",
       "<p>5 rows × 216 columns</p>\n",
       "</div>"
      ],
      "text/plain": [
       "              14-3-3_beta  14-3-3_epsilon  14-3-3_zeta    4E-BP1  4E-BP1_pS65  \\\n",
       "TCGA-3C-AALI    -0.000752        0.022553     0.021112  0.101796    -0.382850   \n",
       "TCGA-3C-AALK    -0.202252        0.077041     0.153997  0.299107    -0.438903   \n",
       "TCGA-4H-AAAK    -0.208434        0.062566     0.034209  0.429696    -0.102852   \n",
       "TCGA-5L-AAT1    -0.465476        0.141845     0.232721  0.427772    -0.231596   \n",
       "TCGA-5T-A9QA    -0.354823        0.156575     0.249023  1.197526     0.447913   \n",
       "\n",
       "              4E-BP1_pT37_T46  4E-BP1_pT70     53BP1     A-Raf  A-Raf_pS299  \\\n",
       "TCGA-3C-AALI        -0.108997     0.103860 -0.335720  0.139450     0.148123   \n",
       "TCGA-3C-AALK        -0.460678    -0.358195  0.474016  0.376476    -0.160318   \n",
       "TCGA-4H-AAAK        -0.499466    -0.433138  0.143794  0.339525    -0.221161   \n",
       "TCGA-5L-AAT1         0.276124    -0.411702  0.736283  0.398665    -0.063979   \n",
       "TCGA-5T-A9QA         1.001215     0.307314  0.581762  0.316779    -0.085146   \n",
       "\n",
       "              ...  p27_pT157  p27_pT198  p38_MAPK  p38_pT180_Y182       p53  \\\n",
       "TCGA-3C-AALI  ...  -0.076626  -0.231296 -0.169884        0.040360 -0.043975   \n",
       "TCGA-3C-AALK  ...  -0.219547  -0.340080  0.208381        0.365363 -0.136875   \n",
       "TCGA-4H-AAAK  ...  -0.070647  -0.471717 -0.052702        0.068514 -0.080364   \n",
       "TCGA-5L-AAT1  ...  -0.145362  -0.582255  0.346637        0.289421 -0.225658   \n",
       "TCGA-5T-A9QA  ...   0.076588  -0.325001  0.166015       -1.064492  0.181296   \n",
       "\n",
       "              p62-LCK-ligand    p70S6K  p70S6K_pT389    p90RSK  \\\n",
       "TCGA-3C-AALI        1.293687  0.783984      0.162565 -0.667649   \n",
       "TCGA-3C-AALK        0.680809  0.612644     -0.131174  0.419210   \n",
       "TCGA-4H-AAAK        0.300677  0.819253     -0.520017  0.003252   \n",
       "TCGA-5L-AAT1        0.591818  0.623455     -0.559783  0.510494   \n",
       "TCGA-5T-A9QA       -0.226434  0.842169      0.280629  0.524148   \n",
       "\n",
       "              p90RSK_pT359_S363  \n",
       "TCGA-3C-AALI          -0.102581  \n",
       "TCGA-3C-AALK          -0.118623  \n",
       "TCGA-4H-AAAK          -0.855659  \n",
       "TCGA-5L-AAT1          -0.601296  \n",
       "TCGA-5T-A9QA          -0.500144  \n",
       "\n",
       "[5 rows x 216 columns]"
      ]
     },
     "execution_count": 5,
     "metadata": {},
     "output_type": "execute_result"
    }
   ],
   "source": [
    "proteins = pd.read_csv('dataset_hg19/dataset/proteins.csv', sep=' ')\n",
    "\n",
    "proteins.head()"
   ]
  },
  {
   "cell_type": "code",
   "execution_count": 6,
   "id": "e498b84b",
   "metadata": {},
   "outputs": [
    {
     "data": {
      "text/plain": [
       "216"
      ]
     },
     "execution_count": 6,
     "metadata": {},
     "output_type": "execute_result"
    }
   ],
   "source": [
    "len(proteins.columns)"
   ]
  },
  {
   "cell_type": "markdown",
   "id": "45a17a80",
   "metadata": {},
   "source": [
    "# Import label"
   ]
  },
  {
   "cell_type": "code",
   "execution_count": 7,
   "id": "df21b35d",
   "metadata": {},
   "outputs": [
    {
     "data": {
      "image/png": "[encoded data removed]",
      "text/plain": [
       "<Figure size 432x288 with 1 Axes>"
      ]
     },
     "metadata": {
      "needs_background": "light"
     },
     "output_type": "display_data"
    }
   ],
   "source": [
    "label = pd.read_csv('dataset_hg19/dataset/labels_pfi.csv', sep=' ')\n",
    "\n",
    "label.hist()\n",
    "plt.show()"
   ]
  },
  {
   "cell_type": "markdown",
   "id": "e274c61c",
   "metadata": {},
   "source": [
    "# Check NaN values"
   ]
  },
  {
   "cell_type": "code",
   "execution_count": 8,
   "id": "51c1a851",
   "metadata": {},
   "outputs": [],
   "source": [
    "def checkNaNValues(dataset):\n",
    "    if dataset.isna().sum().sum() == 0:\n",
    "        print(f\"Non sono presenti dati NaN\")\n",
    "    else:\n",
    "        for column in dataset:\n",
    "            if dataset[column].isna().sum() == 0:\n",
    "                print(f\"Nella colonna {column} non sono presenti dati NaN\")\n",
    "            else:\n",
    "                print(f\"Nella colonna {column} sono presenti: {dataset[column].isna().sum()}\")"
   ]
  },
  {
   "cell_type": "code",
   "execution_count": 9,
   "id": "4337086d",
   "metadata": {},
   "outputs": [
    {
     "name": "stdout",
     "output_type": "stream",
     "text": [
      "Non sono presenti dati NaN\n"
     ]
    }
   ],
   "source": [
    "checkNaNValues(cnv)"
   ]
  },
  {
   "cell_type": "code",
   "execution_count": 10,
   "id": "73a22285",
   "metadata": {},
   "outputs": [
    {
     "name": "stdout",
     "output_type": "stream",
     "text": [
      "Non sono presenti dati NaN\n"
     ]
    }
   ],
   "source": [
    "checkNaNValues(mRNA)"
   ]
  },
  {
   "cell_type": "code",
   "execution_count": 11,
   "id": "67da8113",
   "metadata": {},
   "outputs": [
    {
     "name": "stdout",
     "output_type": "stream",
     "text": [
      "Non sono presenti dati NaN\n"
     ]
    }
   ],
   "source": [
    "checkNaNValues(miRNA)"
   ]
  },
  {
   "cell_type": "code",
   "execution_count": 12,
   "id": "95894c0d",
   "metadata": {},
   "outputs": [
    {
     "name": "stdout",
     "output_type": "stream",
     "text": [
      "Non sono presenti dati NaN\n"
     ]
    }
   ],
   "source": [
    "checkNaNValues(proteins)"
   ]
  },
  {
   "cell_type": "markdown",
   "id": "c8f2c29f",
   "metadata": {},
   "source": [
    "# Normalize data"
   ]
  },
  {
   "cell_type": "code",
   "execution_count": 13,
   "id": "291600a4",
   "metadata": {},
   "outputs": [],
   "source": [
    "def dataNormalization(scaler, data):\n",
    "    scl = scaler()\n",
    "    model = scl.fit(data)\n",
    "    scaled_data = model.transform(data)\n",
    "    \n",
    "    return pd.DataFrame(scaled_data, columns=data.columns, index=data.index)"
   ]
  },
  {
   "cell_type": "markdown",
   "id": "24a6043f",
   "metadata": {},
   "source": [
    "# Filter feature with low variability"
   ]
  },
  {
   "cell_type": "code",
   "execution_count": 14,
   "id": "97407b1d",
   "metadata": {},
   "outputs": [],
   "source": [
    "def filter_features_with_low_variability(data, alfa) -> pd.DataFrame:\n",
    "    #Delete columns with standard deviation < alfa (0.10?)\n",
    "    for column in data:\n",
    "        if data[column].std() < alfa:\n",
    "            #print(f'column: {column} has standard deviation < {alfa}, removed')\n",
    "            data.drop(column, axis=1, inplace=True)\n",
    "            \n",
    "    return data"
   ]
  },
  {
   "cell_type": "markdown",
   "id": "70d52afc",
   "metadata": {},
   "source": [
    "# Normalize and filter datasets"
   ]
  },
  {
   "cell_type": "code",
   "execution_count": 15,
   "id": "30bf1785",
   "metadata": {},
   "outputs": [],
   "source": [
    "dataset_dict = {'cnv': cnv, 'miRNA': miRNA, 'mRNA': mRNA, 'proteins': proteins}"
   ]
  },
  {
   "cell_type": "code",
   "execution_count": 16,
   "id": "5d465cd8",
   "metadata": {},
   "outputs": [],
   "source": [
    "def create_data_normalized_filtered(data_dict, scaler, min_variance):\n",
    "    dict_filtered_nornalize = {}\n",
    "    for (key, value) in zip(data_dict, data_dict.values()):\n",
    "        if key != 'cnv':\n",
    "            dict_filtered_nornalize[key] = filter_features_with_low_variability(dataNormalization(MinMaxScaler, value), 0.05)\n",
    "        else:\n",
    "            dict_filtered_nornalize[key] = value\n",
    "    return dict_filtered_nornalize"
   ]
  },
  {
   "cell_type": "markdown",
   "id": "984c47a1",
   "metadata": {},
   "source": [
    "# Store and retrieve data normalize and filtered"
   ]
  },
  {
   "cell_type": "code",
   "execution_count": 17,
   "id": "d1cdc936",
   "metadata": {},
   "outputs": [],
   "source": [
    "def mkdir_p(path):\n",
    "    try:\n",
    "        os.makedirs(path)\n",
    "    except OSError as exc: # Python >2.5\n",
    "        if exc.errno == errno.EEXIST and os.path.isdir(path):\n",
    "            pass\n",
    "        else: raise"
   ]
  },
  {
   "cell_type": "code",
   "execution_count": 18,
   "id": "8c20d27d",
   "metadata": {},
   "outputs": [],
   "source": [
    "def store_filtered_normalize_data(dataset_dict):\n",
    "    if not os.path.exists('filtered_normalize_data'):\n",
    "        mkdir_p('filtered_normalize_data')\n",
    "        filtered_normalize_data = create_data_normalized_filtered(dataset_dict, MinMaxScaler, 0.05)\n",
    "        for data in dataset_dict:\n",
    "            filtered_normalize_data[data].to_json('filtered_normalize_data/'+data+'.json')"
   ]
  },
  {
   "cell_type": "code",
   "execution_count": 19,
   "id": "9c5d4e89",
   "metadata": {},
   "outputs": [],
   "source": [
    "def load_filtered_normalize_data(dataset_dict):\n",
    "    dict_test = {}\n",
    "    if os.path.exists('filtered_normalize_data'):\n",
    "        for data in dataset_dict:\n",
    "            with open('filtered_normalize_data/'+data+'.json', 'r') as fp:\n",
    "                dataset = pd.read_json(fp)\n",
    "                dict_test[data] = dataset\n",
    "        return dict_test\n",
    "    else:\n",
    "        store_filtered_normalize_data(dataset_dict)\n",
    "        load_filtered_normalize_data(dataset_dict)"
   ]
  },
  {
   "cell_type": "code",
   "execution_count": 20,
   "id": "cc3e3d4e",
   "metadata": {},
   "outputs": [
    {
     "name": "stdout",
     "output_type": "stream",
     "text": [
      "CPU times: user 19.7 s, sys: 1.29 s, total: 21 s\n",
      "Wall time: 21.6 s\n"
     ]
    }
   ],
   "source": [
    "%time datasets = load_filtered_normalize_data(dataset_dict)"
   ]
  },
  {
   "cell_type": "code",
   "execution_count": 21,
   "id": "11eabc23",
   "metadata": {},
   "outputs": [
    {
     "data": {
      "text/plain": [
       "x    0.122807\n",
       "dtype: float64"
      ]
     },
     "execution_count": 21,
     "metadata": {},
     "output_type": "execute_result"
    }
   ],
   "source": [
    "#baseline AUPRC\n",
    "label[label['x'] == 1].count()/len(label)"
   ]
  },
  {
   "cell_type": "markdown",
   "id": "43ea9f69",
   "metadata": {},
   "source": [
    "# Correlation with Spearman on cnv"
   ]
  },
  {
   "cell_type": "code",
   "execution_count": 22,
   "id": "d675a704",
   "metadata": {},
   "outputs": [],
   "source": [
    "p_value_threshold = 0.05\n",
    "correlation_threshold = 0.01"
   ]
  },
  {
   "cell_type": "code",
   "execution_count": 23,
   "id": "6f881205",
   "metadata": {},
   "outputs": [],
   "source": [
    "def compute_spearmanr_with_label(dataset, label):\n",
    "    not_correlated_features = []\n",
    "    for feature in tqdm(dataset.columns, desc=f\"Running Pearson test on cnv\", dynamic_ncols=True, leave=False):\n",
    "        correlation, p_value = spearmanr(dataset[feature].values.flatten(), label.values.flatten())\n",
    "        if p_value > p_value_threshold:\n",
    "            #print(f\"In cnv the feature {feature} does not correlate in a statistically significant manner with the output. p-value:{p_value} -- correlation:{correlation}\")\n",
    "            not_correlated_features.append(feature)\n",
    "    return not_correlated_features"
   ]
  },
  {
   "cell_type": "code",
   "execution_count": 24,
   "id": "1d40106e",
   "metadata": {},
   "outputs": [],
   "source": [
    "def spearmanr_between_feature(\n",
    "    X:pd.DataFrame,\n",
    "    feature_left: str,\n",
    "    feature_right: str,\n",
    "):\n",
    "    \"\"\"Returns Spearman correlation.\n",
    "    \n",
    "    Implementative details\n",
    "    ------------------------------\n",
    "    We may need to recompute this value across\n",
    "    multiple re-runs of the jupyter notebook,\n",
    "    so since it takes a bit of time to do so we cache it.\n",
    "    \n",
    "    Parameters\n",
    "    ----------------------\n",
    "    X:pd.DataFrame,\n",
    "        The epigenomic data.\n",
    "    feature_left: str,\n",
    "        The left features to compute pearson for.\n",
    "    feature_right: str,\n",
    "        The right features to compute pearson for.\n",
    "    \"\"\"\n",
    "    correlation, p_value = spearmanr(\n",
    "        X[feature_left].values.flatten(),\n",
    "        X[feature_right].values.flatten(),\n",
    "    )\n",
    "    return dict(\n",
    "        correlation=correlation,\n",
    "        p_value=p_value\n",
    "    )"
   ]
  },
  {
   "cell_type": "code",
   "execution_count": 25,
   "id": "29e190a0",
   "metadata": {},
   "outputs": [],
   "source": [
    "def compute_spearmanr_between_feature(dataset):\n",
    "    spearman_result = []\n",
    "    score = []\n",
    "    highly_correlated_future = []\n",
    "    for feature_left in tqdm(dataset.columns, desc=f\"Running Spearman test\", dynamic_ncols=True, leave=False):\n",
    "        for feature_right in dataset.columns:\n",
    "                spearman_result  = spearmanr_between_feature(dataset,feature_left,feature_right)\n",
    "                \n",
    "                score.append(spearman_result)\n",
    "                if feature_left!=feature_right and spearman_result[\"p_value\"] < p_value_threshold and np.abs(spearman_result[\"correlation\"]) > 0.95:\n",
    "                    correlation = spearman_result[\"correlation\"]\n",
    "                    #print(f\"The feature {feature_left} is highly correlated with {feature_right} ({correlation}).\")\n",
    "                    highly_correlated_future.append(feature_left)\n",
    "    return highly_correlated_future"
   ]
  },
  {
   "cell_type": "markdown",
   "id": "22859839",
   "metadata": {},
   "source": [
    "## Creation cnv dataset after drop feature not correlated with output and features with higly correlations with other features"
   ]
  },
  {
   "cell_type": "code",
   "execution_count": 26,
   "id": "0aec1b8a",
   "metadata": {},
   "outputs": [],
   "source": [
    "def compure_all_spearman(dataset, label):\n",
    "    #Drop features not correlated with output\n",
    "    new_df = dataset.drop(compute_spearmanr_with_label(dataset, label), axis=1)\n",
    "    high_correlated_feature = compute_spearmanr_between_feature(new_df)\n",
    "    return new_df.drop(high_correlated_feature, axis=1).columns"
   ]
  },
  {
   "cell_type": "code",
   "execution_count": 27,
   "id": "5dd1bf88",
   "metadata": {},
   "outputs": [],
   "source": [
    "#compure_all_spearman(datasets['cnv'])"
   ]
  },
  {
   "cell_type": "markdown",
   "id": "bb7fe3ad",
   "metadata": {},
   "source": [
    "# Correlation with Mine"
   ]
  },
  {
   "cell_type": "code",
   "execution_count": 28,
   "id": "e092ec5a",
   "metadata": {},
   "outputs": [],
   "source": [
    "def compute_mine(dataset, label):\n",
    "    feature_to_drop = []\n",
    "    for feature in tqdm(dataset.columns, desc=f\"Running MINE test\", dynamic_ncols=True, leave=False):\n",
    "        mine = MINE()\n",
    "        mine.compute_score(dataset[feature].values.ravel(), label.values.ravel())\n",
    "        score = mine.mic()\n",
    "        if score < correlation_threshold:\n",
    "            feature_to_drop.append(feature)\n",
    "    return dataset.drop(feature_to_drop, axis=1).columns"
   ]
  },
  {
   "cell_type": "code",
   "execution_count": 29,
   "id": "5d739d03",
   "metadata": {},
   "outputs": [],
   "source": [
    "#compute_mine(datasets['mRNA'])"
   ]
  },
  {
   "cell_type": "markdown",
   "id": "3842747b",
   "metadata": {},
   "source": [
    "# Univariate feature selection using Kruskal-Wallis e Mann-Whitney"
   ]
  },
  {
   "cell_type": "code",
   "execution_count": 30,
   "id": "5fa82652",
   "metadata": {},
   "outputs": [],
   "source": [
    "def create_dataframe_pos_neg(dataset, label):\n",
    "    return (dataset[label['x']==1], dataset[label['x']==0])"
   ]
  },
  {
   "cell_type": "code",
   "execution_count": 31,
   "id": "e8a6601e",
   "metadata": {},
   "outputs": [],
   "source": [
    "def univariate_features_selection(dataset, label, univariate_tecnique, min_pValue):\n",
    "    pos, neg = create_dataframe_pos_neg(dataset, label)\n",
    "    H, pval = univariate_tecnique(pos, neg)\n",
    "    mask = (pval < min_pValue)\n",
    "    return dataset.columns[mask]"
   ]
  },
  {
   "cell_type": "markdown",
   "id": "c19b7033",
   "metadata": {},
   "source": [
    "# Umap"
   ]
  },
  {
   "cell_type": "code",
   "execution_count": 32,
   "id": "0e4d0523",
   "metadata": {},
   "outputs": [],
   "source": [
    "#init='random'\n",
    "def execute_umap(n_components, X, y):\n",
    "    return umap.UMAP(n_neighbors=5, n_components=n_components, random_state=42).fit_transform(X, y)"
   ]
  },
  {
   "cell_type": "markdown",
   "id": "118fee41",
   "metadata": {},
   "source": [
    "# Multivariate feature selection, mrmr and Boruta"
   ]
  },
  {
   "cell_type": "code",
   "execution_count": 33,
   "id": "f00975df",
   "metadata": {},
   "outputs": [],
   "source": [
    "def execute_mrmr(dataset, n_feature):\n",
    "    print('entra in mrmr')\n",
    "    return mRMR(dataset, 'MIQ', n_feature)"
   ]
  },
  {
   "cell_type": "code",
   "execution_count": 34,
   "id": "4b7944c1",
   "metadata": {},
   "outputs": [],
   "source": [
    "def execute_boruta_feature_selection(\n",
    "    X_train: pd.DataFrame,\n",
    "    y_train: np.ndarray,\n",
    "    holdout_number: int,\n",
    "    max_iter: int = 100,\n",
    "):\n",
    "    \"\"\"Returns tuple with list of kept features and list of discared features.\n",
    "    \n",
    "    Parameters\n",
    "    --------------------------\n",
    "    X_train: pd.DataFrame,\n",
    "        The data reserved for the input of the training of the Boruta model.\n",
    "    y_train: np.ndarray,\n",
    "        The data reserved for the output of the training of the Boruta model.\n",
    "    holdout_number: int,\n",
    "        The current holdout number.\n",
    "    max_iter: int = 100,\n",
    "        Number of iterations to run Boruta for.\n",
    "    \"\"\"\n",
    "    \n",
    "    print('execute boruta')\n",
    "\n",
    "    model = RandomForestClassifier(n_jobs=-1, class_weight='balanced_subsample', max_depth=5)\n",
    "    \n",
    "    boruta_selector = BorutaPy(\n",
    "        model,\n",
    "        n_estimators='auto',\n",
    "        verbose=False,\n",
    "        alpha=0.05,\n",
    "        max_iter=max_iter, \n",
    "        random_state=42,\n",
    "    )\n",
    "    boruta_selector.fit(X_train.values, y_train.values.ravel())\n",
    "    \n",
    "    kept_features = list(X_train.columns[boruta_selector.support_])\n",
    "    discarded_features = list(X_train.columns[~boruta_selector.support_])\n",
    "    \n",
    "    return kept_features, discarded_features"
   ]
  },
  {
   "cell_type": "code",
   "execution_count": 35,
   "id": "24710492",
   "metadata": {},
   "outputs": [],
   "source": [
    "#k, d = execute_boruta_feature_selection(datasets['mRNA'], label, 5)"
   ]
  },
  {
   "cell_type": "markdown",
   "id": "0b8a7eb3",
   "metadata": {},
   "source": [
    "# Train"
   ]
  },
  {
   "cell_type": "code",
   "execution_count": 36,
   "id": "afd31355",
   "metadata": {},
   "outputs": [],
   "source": [
    "def train_model(key, label, num_extenal_fold, type_feature_selection, datasets):\n",
    "    \n",
    "    \"\"\"Return AUPRC score after training.\n",
    "    \n",
    "    Parameters\n",
    "    --------------------------\n",
    "    dataset: string,\n",
    "        The data reserved for the input of the training.\n",
    "    label: pd.DataFrame,\n",
    "        The data reserved for the output of the training.\n",
    "    num_external_fold: int,\n",
    "        The current holdout number.\n",
    "    type_feature_selection: string,\n",
    "        Type of feature selection: ['kruskal', 'mrmr', 'mannwhitneyu', 'boruta']\n",
    "    min_pValue: int,\n",
    "        Minimum value of p_value. Valid if type_feature_selection == 'kruskal' or 'mannwhitneyu',\n",
    "    use_umap: bool,\n",
    "        Specified to use or not use UMAP for feature extraction after univariate feature selection (kruskal, mannwhitneyu)\n",
    "    \"\"\"\n",
    "    \n",
    "    aucs =[]\n",
    "    dataset = datasets[key]\n",
    "    y_score_concatenated = []\n",
    "    y_test_fold_concatenated = []\n",
    "    \n",
    "    #to numpy\n",
    "    X_numpy = dataset.to_numpy()\n",
    "    y_numpy = label['x'].to_numpy()\n",
    "    \n",
    "    external_fold = StratifiedKFold(n_splits=num_extenal_fold, shuffle=True, random_state=1)\n",
    "    \n",
    "    for train_index, test_index in tqdm(external_fold.split(X_numpy, label), desc=f\"Running fold \", dynamic_ncols=True, leave=False):\n",
    "        \n",
    "        X_train_fold, X_test_fold = X_numpy[train_index], X_numpy[test_index]\n",
    "        y_train_fold, y_test_fold = y_numpy[train_index], y_numpy[test_index]\n",
    "        \n",
    "        df_X_train = pd.DataFrame(data=X_train_fold, columns=dataset.columns)\n",
    "        df_X_test = pd.DataFrame(data=X_test_fold, columns=dataset.columns)\n",
    "        df_y_train = pd.DataFrame(data=y_train_fold, columns=label.columns)\n",
    "        \n",
    "        print(f'NUMERO FEATURE PRE: {len(df_X_train.columns)}')\n",
    "        \n",
    "        #feature selection\n",
    "        if 'kruskal' in type_feature_selection:\n",
    "            selected_features = univariate_features_selection(df_X_train, df_y_train, kruskal, 0.05)\n",
    "        elif 'mannwhitneyu' in type_feature_selection:\n",
    "            selected_features = univariate_features_selection(df_X_train, df_y_train, mannwhitneyu, 0.05)\n",
    "        elif type_feature_selection == \"mrmr\":\n",
    "            selected_features = execute_mrmr(df_X_train, 100)\n",
    "        elif type_feature_selection == 'boruta':\n",
    "            selected_features, discarded_feature =  execute_boruta_feature_selection(df_X_train, df_y_train, 5)\n",
    "        elif type_feature_selection == 'mine':\n",
    "            selected_features = compute_mine(df_X_train, df_y_train)\n",
    "        elif type_feature_selection == 'spearman':\n",
    "            selected_features = compure_all_spearman(df_X_train, df_y_train)\n",
    "        else:\n",
    "            return \"Invalid\", \"type of feature selection\"\n",
    "              \n",
    "        X_train_selected_feature = df_X_train[selected_features]\n",
    "        X_test_selected_feature = df_X_test[selected_features]\n",
    "        \n",
    "        print(f'NUMERO FEATURE SELEZIONATE: {len(selected_features)}')\n",
    "        print(f'SHAPE X SELECTED FEATURE: {X_train_selected_feature.shape, X_test_selected_feature.shape}')\n",
    "        print('*'*60)\n",
    "        \n",
    "        if 'umap' in type_feature_selection:\n",
    "            if len(X_test_selected_feature) < 200:\n",
    "                tot_feature = len(X_test_selected_feature) -1\n",
    "            else:\n",
    "                tot_feature = 200\n",
    "            print(f'TOT FEATURE {tot_feature}')\n",
    "            X_train_selected_feature = execute_umap(tot_feature, X_train_selected_feature, y_train_fold)\n",
    "            X_test_selected_feature = execute_umap(tot_feature, X_test_selected_feature , y_test_fold)\n",
    "            \n",
    "            print(f'SHAPE AFTER UMAP {X_train_selected_feature.shape}')\n",
    "            \n",
    "\n",
    "        clf = GridSearchCV(estimator=RandomForestClassifier(),\n",
    "                           scoring='average_precision',\n",
    "                           param_grid=model_selection_grid_DT, \n",
    "                           cv=2, \n",
    "                           n_jobs=-1)\n",
    "        clf.fit(X_train_selected_feature, y_train_fold)\n",
    "\n",
    "        #auc = clf.best_estimator_.score(X_test_selected_feature, y_test_fold)\n",
    "        \n",
    "        # Create classifier\n",
    "        #clf = RandomForestClassifier(random_state=1)\n",
    "        #clf.fit(X_train_selected_feature, y_train_fold)\n",
    "        \n",
    "        # Get the predicited probability of testing data\n",
    "        y_score = clf.predict_proba(X_test_selected_feature)[:, 1]\n",
    "        \n",
    "        #calculate precision and recall\n",
    "        precision, recall, thresholds = precision_recall_curve(y_test_fold, y_score)\n",
    "\n",
    "        #plot_precision_recall_curve(classifier, X_test_selected_feature, y_test_fold)\n",
    "        \n",
    "        y_score_concatenated = np.concatenate((y_score_concatenated, y_score), axis=None)\n",
    "        y_test_fold_concatenated = np.concatenate((y_test_fold_concatenated, y_test_fold), axis=None)\n",
    "        \n",
    "        \n",
    "        # Use AUC function to calculate the area under the curve of precision recall curve\n",
    "        auc_precision_recall = auc(recall, precision)\n",
    "        \n",
    "        aucs.append(auc_precision_recall)\n",
    "        #print('auc: {:.3f} using params {}:'.format(auc_precision_recall, clf.best_params_))\n",
    "    \n",
    "    internal_auc = np.mean(aucs)\n",
    "    \n",
    "    #calculate precision and recall\n",
    "    precision, recall, thresholds = precision_recall_curve(y_test_fold_concatenated, y_score_concatenated)\n",
    "    \n",
    "    external_auc = auc(recall, precision)\n",
    "\n",
    "    #plot precision recall curve\n",
    "    PrecisionRecallDisplay.from_predictions(y_test_fold_concatenated, y_score_concatenated)\n",
    "\n",
    "    plt.title('Random_Forest external')\n",
    "    #plt.show()\n",
    "    plt.savefig('result/'+key+'/'+type_feature_selection+'_'+'AUC_External.pdf')\n",
    "    \n",
    "    return internal_auc, external_auc"
   ]
  },
  {
   "cell_type": "code",
   "execution_count": 37,
   "id": "ba37c80f",
   "metadata": {},
   "outputs": [],
   "source": [
    "model_selection_grid_DT = [\n",
    "    {'criterion': ['gini', 'entropy'],\n",
    "     'max_leaf_nodes': [None, 2, 5, 10],\n",
    "     'max_features': [None, 'sqrt', 'log2'],\n",
    "    'n_estimators': [51, 101, 251, 500]}\n",
    "]"
   ]
  },
  {
   "cell_type": "code",
   "execution_count": 38,
   "id": "f3c35ec3",
   "metadata": {},
   "outputs": [],
   "source": [
    "#train_model('mRNA', label, 10, 'mannwhitneyu_with_umap_200_Feature', datasets)"
   ]
  },
  {
   "cell_type": "code",
   "execution_count": 39,
   "id": "82db57cf",
   "metadata": {},
   "outputs": [],
   "source": [
    "#test\n",
    "#check = datasets['mRNA'].iloc[:, 0:50]\n",
    "#test = {'mRNA':check}"
   ]
  },
  {
   "cell_type": "code",
   "execution_count": 40,
   "id": "fc7f87db",
   "metadata": {},
   "outputs": [],
   "source": [
    "#internal, external = train_model('mRNA', label, 3, 'mrmr')\n",
    "\n",
    "\n",
    "#print(f'internal {internal}')\n",
    "#print(f'external {external}')"
   ]
  },
  {
   "cell_type": "code",
   "execution_count": 41,
   "id": "7e9a0f9b",
   "metadata": {},
   "outputs": [],
   "source": [
    "#train_model('proteins', label, 2, 'mannwhitneyu')"
   ]
  },
  {
   "cell_type": "code",
   "execution_count": 42,
   "id": "1d8b9b8d",
   "metadata": {},
   "outputs": [],
   "source": [
    "#train_model('proteins', label, 10, 'mrmr')"
   ]
  },
  {
   "cell_type": "markdown",
   "id": "c6eb18f1",
   "metadata": {},
   "source": [
    "# Train all datasets with combination of feature selection and feature extraction "
   ]
  },
  {
   "cell_type": "code",
   "execution_count": 43,
   "id": "d184b005",
   "metadata": {},
   "outputs": [],
   "source": [
    "files_name = ['result/proteins/proteins.json', 'result/miRNA/mRNA.json', 'result/mRNA/miRNA.json', 'result/cnv/cnv.json']\n",
    "dataset_list = ['proteins', 'mRNA', 'miRNA', 'cnv']\n",
    "feature_selection_list = ['mannwhitneyu', 'mrmr', 'mannwhitneyu_with_umap']"
   ]
  },
  {
   "cell_type": "code",
   "execution_count": 44,
   "id": "c974eb19",
   "metadata": {},
   "outputs": [],
   "source": [
    "def create_result_json(result_dict, feature_selection_list, files_name, dataset_list, label, datasets):\n",
    "    for file_name, key in tqdm(zip(files_name, dataset_list), desc=f\"Running training \", dynamic_ncols=True, leave=False):\n",
    "        #print(f'FILE NAME {file_name}')\n",
    "        if os.path.exists(file_name):\n",
    "            with open(file_name, 'r') as fp:\n",
    "                saved_dict = json.load(fp)\n",
    "                result_dict[key] = saved_dict\n",
    "                for feature_selection in tqdm(feature_selection_list,desc=f\"Running {key} training \", dynamic_ncols=True, leave=False):\n",
    "                    print(f'TECNICA DI FS exist {feature_selection}')\n",
    "                    if not feature_selection in result_dict[key].keys():\n",
    "                        result_dict[key][feature_selection] = {}    \n",
    "                        result_dict[key][feature_selection]['internal'],  result_dict[key][feature_selection]['external'] = train_model(key, label, 10, feature_selection, datasets)\n",
    "                        with open(file_name, 'w', encoding='utf-8') as fp:\n",
    "                            json.dump(result_dict[key], fp, ensure_ascii=False, indent=4)\n",
    "        else:\n",
    "            result_dict[key] = {}\n",
    "            for feature_selection in tqdm(feature_selection_list, desc=f\"Running {key} training \", dynamic_ncols=True, leave=False):\n",
    "                #print(f'TECNICA DI FS check {feature_selection}')\n",
    "                result_dict[key][feature_selection] = {}    \n",
    "                result_dict[key][feature_selection]['internal'],  result_dict[key][feature_selection]['external'] = train_model(key, label, 10, feature_selection, datasets)\n",
    "            with open(file_name, 'w', encoding='utf-8') as fp:\n",
    "                json.dump(result_dict[key], fp, ensure_ascii=False, indent=4)"
   ]
  },
  {
   "cell_type": "code",
   "execution_count": 45,
   "id": "d84458fe",
   "metadata": {},
   "outputs": [],
   "source": [
    "result_dict = {}\n",
    "\n",
    "dataset_list = ['cnv']\n",
    "cnv_file_name = ['result/cnv/cnv.json']\n",
    "feature_selection_list_cnv = ['spearman']"
   ]
  },
  {
   "cell_type": "markdown",
   "id": "386e72ce",
   "metadata": {},
   "source": [
    "# Create cnv result using spearman"
   ]
  },
  {
   "cell_type": "code",
   "execution_count": 46,
   "id": "191c49b6",
   "metadata": {},
   "outputs": [
    {
     "name": "stderr",
     "output_type": "stream",
     "text": [
      "Running training : 0it [00:00, ?it/s]\n",
      "Running cnv training :   0%|                              | 0/1 [00:00<?, ?it/s]\u001b[A\n",
      "                                                                                \u001b[A"
     ]
    },
    {
     "name": "stdout",
     "output_type": "stream",
     "text": [
      "TECNICA DI FS exist spearman\n"
     ]
    },
    {
     "name": "stderr",
     "output_type": "stream",
     "text": [
      "\r"
     ]
    },
    {
     "data": {
      "text/plain": [
       "{'cnv': {'spearman': {'internal': 0.10358684464048014,\n",
       "   'external': 0.09547269861289438}}}"
      ]
     },
     "execution_count": 46,
     "metadata": {},
     "output_type": "execute_result"
    }
   ],
   "source": [
    "create_result_json(result_dict, feature_selection_list_cnv, cnv_file_name, dataset_list, label, datasets)\n",
    "\n",
    "result_dict"
   ]
  },
  {
   "cell_type": "markdown",
   "id": "3d232b3d",
   "metadata": {},
   "source": [
    "# Create proteins using mannwhitneyu, mrmr, mannwhitneyu_with_umap, mne"
   ]
  },
  {
   "cell_type": "code",
   "execution_count": 47,
   "id": "631c43d4",
   "metadata": {},
   "outputs": [
    {
     "name": "stderr",
     "output_type": "stream",
     "text": [
      "Running training : 0it [00:00, ?it/s]\n",
      "Running proteins training :   0%|                         | 0/5 [00:00<?, ?it/s]\u001b[A\n",
      "                                                                                \u001b[A"
     ]
    },
    {
     "name": "stdout",
     "output_type": "stream",
     "text": [
      "TECNICA DI FS exist mannwhitneyu\n",
      "TECNICA DI FS exist mrmr\n",
      "TECNICA DI FS exist mannwhitneyu_with_umap\n",
      "TECNICA DI FS exist boruta\n",
      "TECNICA DI FS exist mine\n"
     ]
    },
    {
     "name": "stderr",
     "output_type": "stream",
     "text": [
      "\r"
     ]
    },
    {
     "data": {
      "text/plain": [
       "{'cnv': {'spearman': {'internal': 0.10358684464048014,\n",
       "   'external': 0.09547269861289438}},\n",
       " 'proteins': {'mannwhitneyu': {'internal': 0.2025287367141339,\n",
       "   'external': 0.1496988412832582},\n",
       "  'mrmr': {'internal': 0.17924660745628065, 'external': 0.13569864713638802},\n",
       "  'boruta': {'internal': 0.152847153832749, 'external': 0.12288255671231038},\n",
       "  'mine': {'internal': 0.15111204138279866, 'external': 0.12484018994991511},\n",
       "  'mannwhitneyu_with_umap': {'internal': 0.3301034595523562,\n",
       "   'external': 0.15038035631389385}}}"
      ]
     },
     "execution_count": 47,
     "metadata": {},
     "output_type": "execute_result"
    }
   ],
   "source": [
    "dataset_list = ['proteins']\n",
    "proteins_file_name = ['result/proteins/proteins.json']\n",
    "feature_selection_list = ['mannwhitneyu', 'mrmr', 'mannwhitneyu_with_umap', 'boruta','mine']\n",
    "\n",
    "create_result_json(result_dict, feature_selection_list, proteins_file_name, dataset_list, label, datasets)\n",
    "\n",
    "result_dict"
   ]
  },
  {
   "cell_type": "markdown",
   "id": "b5fc7cd4",
   "metadata": {},
   "source": [
    "# Create mRNA using mannwhitneyu, mrmr, mannwhitneyu_with_umap, mine, boruta"
   ]
  },
  {
   "cell_type": "code",
   "execution_count": null,
   "id": "1e4012d0",
   "metadata": {},
   "outputs": [
    {
     "name": "stderr",
     "output_type": "stream",
     "text": [
      "Running training : 0it [00:00, ?it/s]\n",
      "Running mRNA training :   0%|                             | 0/4 [00:00<?, ?it/s]\u001b[A"
     ]
    },
    {
     "name": "stdout",
     "output_type": "stream",
     "text": [
      "TECNICA DI FS exist mrmr\n"
     ]
    },
    {
     "name": "stderr",
     "output_type": "stream",
     "text": [
      "\n",
      "\n",
      "Running fold : 0it [00:00, ?it/s]\u001b[A\u001b[A"
     ]
    }
   ],
   "source": [
    "dataset_list = ['mRNA']\n",
    "mrna_file_name = ['result/mRNA/mRNA.json']\n",
    "feature_selection_list = ['mannwhitneyu', 'mrmr', 'mannwhitneyu_with_umap', 'boruta','mine']\n",
    "check = ['mrmr', 'mine', 'boruta', 'mannwhitneyu']\n",
    "\n",
    "create_result_json(result_dict, check, mrna_file_name, dataset_list, label, datasets)\n",
    "\n",
    "result_dict"
   ]
  },
  {
   "cell_type": "markdown",
   "id": "273a8ebd",
   "metadata": {},
   "source": [
    "# Create miRNA using mannwhitneyu, mrmr, mannwhitneyu_with_umap, mic, boruta"
   ]
  },
  {
   "cell_type": "code",
   "execution_count": null,
   "id": "d2fd72bd",
   "metadata": {},
   "outputs": [],
   "source": [
    "dataset_list = ['miRNA']\n",
    "mirna_file_name = ['result/miRNA/miRNA.json']\n",
    "feature_selection_list = ['mannwhitneyu', 'mrmr', 'mannwhitneyu_with_umap', 'boruta','mine']\n",
    "check = ['mine', 'boruta', 'mannwhitneyu', 'mrmr']\n",
    "\n",
    "create_result_json(result_dict, check, mirna_file_name, dataset_list, label, datasets)\n",
    "\n",
    "result_dict"
   ]
  },
  {
   "cell_type": "markdown",
   "id": "4b28d048",
   "metadata": {},
   "source": [
    "# Create concatenation of all dataset. Train using mannwhitneyu and boruta"
   ]
  },
  {
   "cell_type": "code",
   "execution_count": null,
   "id": "073b5436",
   "metadata": {},
   "outputs": [],
   "source": [
    "dataset_concat = pd.concat([datasets['cnv'], datasets['proteins'], ])"
   ]
  },
  {
   "cell_type": "code",
   "execution_count": null,
   "id": "db50b64e",
   "metadata": {},
   "outputs": [],
   "source": []
  },
  {
   "cell_type": "markdown",
   "id": "c8cae29f",
   "metadata": {},
   "source": [
    "# Kruskal using R package"
   ]
  },
  {
   "cell_type": "code",
   "execution_count": null,
   "id": "64cf6b9d",
   "metadata": {},
   "outputs": [],
   "source": [
    "from rpy2 import robjects\n",
    "\n",
    "robjects.r('''\n",
    "    proteins <- read.csv(file = 'dataset_hg19/dataset/proteins.csv', sep = ' ')\n",
    "    head(proteins)\n",
    "    #Show the group levels\n",
    "    levels(proteins$group)\n",
    "''')"
   ]
  },
  {
   "cell_type": "code",
   "execution_count": null,
   "id": "b96809a3",
   "metadata": {},
   "outputs": [],
   "source": [
    "robjects.r('''\n",
    "install.packages(\"dplyr\")\n",
    "library(dplyr)\n",
    "group_by(my_data, group) %>%\n",
    "  summarise(\n",
    "    count = n(),\n",
    "    mean = mean(weight, na.rm = TRUE),\n",
    "    sd = sd(weight, na.rm = TRUE),\n",
    "    median = median(weight, na.rm = TRUE),\n",
    "    IQR = IQR(weight, na.rm = TRUE)\n",
    "  )\n",
    "''')"
   ]
  },
  {
   "cell_type": "code",
   "execution_count": null,
   "id": "e28aedc6",
   "metadata": {},
   "outputs": [],
   "source": [
    "def addResultJsonFile(result_dict, file_name, dataset, type_feature_selection):\n",
    "    if type_feature_selection not in result_dict:\n",
    "        if os.path.exists(file_name):\n",
    "            with open(file_name, 'r') as fp:\n",
    "                saved_dict = json.load(fp)\n",
    "                if type_feature_selection in saved_dict:\n",
    "                    print('Già presente')\n",
    "                    result_dict[type_feature_selection] = saved_dict[type_feature_selection]\n",
    "                else:\n",
    "                    print('Inizio a calcolare')\n",
    "                    result_dict[type_feature_selection] = train_model(dataset, label, 10, type_feature_selection, 0.05)\n",
    "                    with open(file_name, 'w', encoding='utf-8') as fp:\n",
    "                        json.dump(result_dict, fp, ensure_ascii=False, indent=4)\n",
    "        else:\n",
    "            result_dict[type_feature_selection] = train_model(dataset, label, 10, type_feature_selection, 0.05)\n",
    "            with open(file_name, 'w', encoding='utf-8') as fp:\n",
    "                json.dump(result_dict, fp, ensure_ascii=False, indent=4)"
   ]
  },
  {
   "cell_type": "code",
   "execution_count": null,
   "id": "0b1c23dd",
   "metadata": {},
   "outputs": [],
   "source": [
    "proteins_dict = {}\n",
    "cnv_dict = {}\n",
    "miRNA_dict = {}\n",
    "mRNA_dict = {}\n",
    "\n",
    "datasets_dict = [proteins_dict, cnv_dict, miRNA_dict, mRNA_dict]\n",
    "names_file = ['proteins.json', 'cnv.json', 'mRNA.json', 'miRNA.json']\n",
    "dataset_list = ['proteins', 'cnv', 'mRNA', 'miRNA']\n",
    "types_feature_selection = ['kruskal', 'mannwhitneyu', 'boruta', 'mrmr', 'kruskal_with_umap', 'mannwhitneyu_with_umap']"
   ]
  },
  {
   "cell_type": "markdown",
   "id": "ddb708c7",
   "metadata": {},
   "source": [
    "# miRNA and mRNA with kruskal = 'All numbers are identical in kruskal'"
   ]
  },
  {
   "cell_type": "code",
   "execution_count": null,
   "id": "7d968473",
   "metadata": {},
   "outputs": [],
   "source": [
    "def execute_all_using_json(dataset_dict, names_file, datasets_list, type_features_selection):\n",
    "    for type_feature_selection in types_feature_selection:\n",
    "        for (dataset_dict, dataset, name_file) in zip(datasets_dict, datasets_list, names_file):\n",
    "            if 'kruskal' in type_feature_selection:\n",
    "                if dataset != 'mRNA' and dataset != 'miRNA':\n",
    "                    print(f'Start training using {dataset} with {type_feature_selection}')\n",
    "                    addResultJsonFile(dataset_dict, name_file, dataset, type_feature_selection)\n",
    "            else:\n",
    "                print(f'Start training using {dataset} with {type_feature_selection}')\n",
    "                addResultJsonFile(dataset_dict, name_file, dataset, type_feature_selection)"
   ]
  },
  {
   "cell_type": "code",
   "execution_count": null,
   "id": "1c950341",
   "metadata": {},
   "outputs": [],
   "source": [
    "names_file_using_grid = ['proteins_grid.json', 'cnv_grid.json', 'miRNA._gridjson', 'mRNA_grid.json']\n",
    "\n",
    "proteins_dict_grid = {}\n",
    "cnv_dict_grid = {}\n",
    "miRNA_dict_grid = {}\n",
    "mRNA_dict_grid = {}\n",
    "\n",
    "datasets_dict_grid = [proteins_dict_grid, cnv_dict_grid, miRNA_dict_grid, mRNA_dict_grid]\n",
    "\n",
    "names_file = ['proteins_grid.json', 'cnv_grid.json', 'miRNA_grid.json', 'mRNA_grid.json']"
   ]
  },
  {
   "cell_type": "code",
   "execution_count": null,
   "id": "f345ff74",
   "metadata": {},
   "outputs": [],
   "source": [
    "execute_all_using_json(datasets_dict_grid, names_file, dataset_list, types_feature_selection)"
   ]
  },
  {
   "cell_type": "code",
   "execution_count": null,
   "id": "374e5483",
   "metadata": {},
   "outputs": [],
   "source": [
    "#def create_all_json(datasets_dict, columns_name, names_file, dataset_list):\n",
    "#    for (dataset_dict, name_file, dataset) in zip(datasets_dict, names_file, dataset_list):\n",
    "#        print(f'Start {name_file}')\n",
    "#        for type_feature_selection in columns_name:\n",
    "#            print(f'Start {type_feature_selection}')\n",
    "#            addResultJsonFile(dataset_dict, name_file, dataset, type_feature_selection)"
   ]
  },
  {
   "cell_type": "code",
   "execution_count": null,
   "id": "e3af5d62",
   "metadata": {},
   "outputs": [],
   "source": [
    "#provare a calcolare auc concatenando le predizioni e poi calcolando la auc\n",
    "#fare grafici usando le medie delle predizioni per ogni training\n",
    "\n",
    "#poi concatenare i vari dataset e usare mannwhtyneyu e boruta\n",
    "#provare a usare kruskal usando R\n",
    "#MIC \n",
    "#cnv Spearman o Kendal poiche' ha tutti 0 e -1 e non normalizzare\n",
    "#REPORT\n",
    "\n",
    "#NETDX"
   ]
  },
  {
   "cell_type": "code",
   "execution_count": null,
   "id": "b32708d8",
   "metadata": {},
   "outputs": [],
   "source": [
    "train_model('cnv', label, 10, 'boruta')"
   ]
  },
  {
   "cell_type": "code",
   "execution_count": null,
   "id": "7b1476b8",
   "metadata": {},
   "outputs": [],
   "source": []
  }
 ],
 "metadata": {
  "kernelspec": {
   "display_name": "Python 3 (ipykernel)",
   "language": "python",
   "name": "python3"
  },
  "language_info": {
   "codemirror_mode": {
    "name": "ipython",
    "version": 3
   },
   "file_extension": ".py",
   "mimetype": "text/x-python",
   "name": "python",
   "nbconvert_exporter": "python",
   "pygments_lexer": "ipython3",
   "version": "3.10.6"
  }
 },
 "nbformat": 4,
 "nbformat_minor": 5
}
